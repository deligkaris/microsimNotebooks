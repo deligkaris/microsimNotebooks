{
 "cells": [
  {
   "cell_type": "code",
   "execution_count": 1,
   "id": "2ee2cd05",
   "metadata": {},
   "outputs": [],
   "source": [
    "import pandas as pd\n",
    "import numpy as np"
   ]
  },
  {
   "cell_type": "code",
   "execution_count": 2,
   "id": "1eaa6e03",
   "metadata": {},
   "outputs": [],
   "source": [
    "dataDir = \"/Users/deligkaris.1/OneDrive - The Ohio State University Wexner Medical Center/MICROSIM/NOTEBOOKS/DATA\""
   ]
  },
  {
   "cell_type": "code",
   "execution_count": 3,
   "id": "9166af90",
   "metadata": {},
   "outputs": [],
   "source": [
    "quantiles = pd.read_csv(dataDir + \"/dementiaAndCVQuantileThresholds.csv\",index_col=0)"
   ]
  },
  {
   "cell_type": "code",
   "execution_count": 36,
   "id": "15b84251",
   "metadata": {},
   "outputs": [
    {
     "data": {
      "text/html": [
       "<div>\n",
       "<style scoped>\n",
       "    .dataframe tbody tr th:only-of-type {\n",
       "        vertical-align: middle;\n",
       "    }\n",
       "\n",
       "    .dataframe tbody tr th {\n",
       "        vertical-align: top;\n",
       "    }\n",
       "\n",
       "    .dataframe thead th {\n",
       "        text-align: right;\n",
       "    }\n",
       "</style>\n",
       "<table border=\"1\" class=\"dataframe\">\n",
       "  <thead>\n",
       "    <tr style=\"text-align: right;\">\n",
       "      <th></th>\n",
       "      <th>dementia</th>\n",
       "      <th>cv</th>\n",
       "    </tr>\n",
       "  </thead>\n",
       "  <tbody>\n",
       "    <tr>\n",
       "      <th>0.000</th>\n",
       "      <td>0.000000</td>\n",
       "      <td>0.000000</td>\n",
       "    </tr>\n",
       "    <tr>\n",
       "      <th>0.025</th>\n",
       "      <td>0.000009</td>\n",
       "      <td>0.000108</td>\n",
       "    </tr>\n",
       "    <tr>\n",
       "      <th>0.050</th>\n",
       "      <td>0.000021</td>\n",
       "      <td>0.000191</td>\n",
       "    </tr>\n",
       "    <tr>\n",
       "      <th>0.075</th>\n",
       "      <td>0.000038</td>\n",
       "      <td>0.000285</td>\n",
       "    </tr>\n",
       "    <tr>\n",
       "      <th>0.100</th>\n",
       "      <td>0.000061</td>\n",
       "      <td>0.000390</td>\n",
       "    </tr>\n",
       "  </tbody>\n",
       "</table>\n",
       "</div>"
      ],
      "text/plain": [
       "       dementia        cv\n",
       "0.000  0.000000  0.000000\n",
       "0.025  0.000009  0.000108\n",
       "0.050  0.000021  0.000191\n",
       "0.075  0.000038  0.000285\n",
       "0.100  0.000061  0.000390"
      ]
     },
     "execution_count": 36,
     "metadata": {},
     "output_type": "execute_result"
    }
   ],
   "source": [
    "quantiles.head(5)"
   ]
  },
  {
   "cell_type": "code",
   "execution_count": 5,
   "id": "72712760",
   "metadata": {},
   "outputs": [],
   "source": [
    "#2 nodes on average\n",
    "#which is 4 calculations running concurrently\n",
    "#1 calculation ~ 1 day\n",
    "#so 4 calculations per day\n",
    "#want to be done in 2 weeks, 14 days\n",
    "#so I can do 4*14=56 calculations, well one time, it was monday morning, I got access to 32 nodes, 48 cores each\n",
    "#so obviously my assumptions here are not always correct..."
   ]
  },
  {
   "cell_type": "code",
   "execution_count": 7,
   "id": "2b1bbc1d",
   "metadata": {},
   "outputs": [
    {
     "data": {
      "text/plain": [
       "(41, 2)"
      ]
     },
     "execution_count": 7,
     "metadata": {},
     "output_type": "execute_result"
    }
   ],
   "source": [
    "quantiles.shape"
   ]
  },
  {
   "cell_type": "code",
   "execution_count": 25,
   "id": "f69f018c",
   "metadata": {},
   "outputs": [
    {
     "data": {
      "text/html": [
       "<div>\n",
       "<style scoped>\n",
       "    .dataframe tbody tr th:only-of-type {\n",
       "        vertical-align: middle;\n",
       "    }\n",
       "\n",
       "    .dataframe tbody tr th {\n",
       "        vertical-align: top;\n",
       "    }\n",
       "\n",
       "    .dataframe thead th {\n",
       "        text-align: right;\n",
       "    }\n",
       "</style>\n",
       "<table border=\"1\" class=\"dataframe\">\n",
       "  <thead>\n",
       "    <tr style=\"text-align: right;\">\n",
       "      <th></th>\n",
       "      <th>dementia</th>\n",
       "      <th>cv</th>\n",
       "    </tr>\n",
       "  </thead>\n",
       "  <tbody>\n",
       "    <tr>\n",
       "      <th>0.00</th>\n",
       "      <td>0.000000</td>\n",
       "      <td>0.000000</td>\n",
       "    </tr>\n",
       "    <tr>\n",
       "      <th>0.15</th>\n",
       "      <td>0.000129</td>\n",
       "      <td>0.000637</td>\n",
       "    </tr>\n",
       "    <tr>\n",
       "      <th>0.30</th>\n",
       "      <td>0.000636</td>\n",
       "      <td>0.001713</td>\n",
       "    </tr>\n",
       "    <tr>\n",
       "      <th>0.45</th>\n",
       "      <td>0.002155</td>\n",
       "      <td>0.003478</td>\n",
       "    </tr>\n",
       "    <tr>\n",
       "      <th>0.60</th>\n",
       "      <td>0.006356</td>\n",
       "      <td>0.006311</td>\n",
       "    </tr>\n",
       "    <tr>\n",
       "      <th>0.75</th>\n",
       "      <td>0.018465</td>\n",
       "      <td>0.011103</td>\n",
       "    </tr>\n",
       "    <tr>\n",
       "      <th>0.90</th>\n",
       "      <td>0.065891</td>\n",
       "      <td>0.020654</td>\n",
       "    </tr>\n",
       "  </tbody>\n",
       "</table>\n",
       "</div>"
      ],
      "text/plain": [
       "      dementia        cv\n",
       "0.00  0.000000  0.000000\n",
       "0.15  0.000129  0.000637\n",
       "0.30  0.000636  0.001713\n",
       "0.45  0.002155  0.003478\n",
       "0.60  0.006356  0.006311\n",
       "0.75  0.018465  0.011103\n",
       "0.90  0.065891  0.020654"
      ]
     },
     "execution_count": 25,
     "metadata": {},
     "output_type": "execute_result"
    }
   ],
   "source": [
    "quantiles.iloc[0:40:6]"
   ]
  },
  {
   "cell_type": "code",
   "execution_count": 26,
   "id": "49319deb",
   "metadata": {},
   "outputs": [
    {
     "data": {
      "text/plain": [
       "0.000235777768318"
      ]
     },
     "execution_count": 26,
     "metadata": {},
     "output_type": "execute_result"
    }
   ],
   "source": [
    "quantiles.iloc[8,0]"
   ]
  },
  {
   "cell_type": "code",
   "execution_count": 28,
   "id": "2403cdd4",
   "metadata": {},
   "outputs": [
    {
     "data": {
      "text/plain": [
       "45"
      ]
     },
     "execution_count": 28,
     "metadata": {},
     "output_type": "execute_result"
    }
   ],
   "source": [
    "i = 0 \n",
    "quantilesForTrialset = {\"dementia\":[],\"cv\":[]}\n",
    "for j in range(0,40,6):\n",
    "    for k in range(0,40,6):\n",
    "        if ( (quantiles.iloc[j,0]>=quantiles.iloc[8,0]) | (quantiles.iloc[k,1]>=quantiles.iloc[8,1]) ) :\n",
    "            #print(j,k,quantiles.iloc[j,0],quantiles.iloc[k,1])\n",
    "            quantilesForTrialset[\"dementia\"].append(quantiles.iloc[j,0])\n",
    "            quantilesForTrialset[\"cv\"].append(quantiles.iloc[k,1])\n",
    "            i=i+1\n",
    "i"
   ]
  },
  {
   "cell_type": "code",
   "execution_count": 29,
   "id": "4c4a606b",
   "metadata": {},
   "outputs": [],
   "source": [
    "quantilesForTrialsetDf = pd.DataFrame(quantilesForTrialset)"
   ]
  },
  {
   "cell_type": "code",
   "execution_count": 30,
   "id": "da718a21",
   "metadata": {},
   "outputs": [
    {
     "data": {
      "text/html": [
       "<div>\n",
       "<style scoped>\n",
       "    .dataframe tbody tr th:only-of-type {\n",
       "        vertical-align: middle;\n",
       "    }\n",
       "\n",
       "    .dataframe tbody tr th {\n",
       "        vertical-align: top;\n",
       "    }\n",
       "\n",
       "    .dataframe thead th {\n",
       "        text-align: right;\n",
       "    }\n",
       "</style>\n",
       "<table border=\"1\" class=\"dataframe\">\n",
       "  <thead>\n",
       "    <tr style=\"text-align: right;\">\n",
       "      <th></th>\n",
       "      <th>0</th>\n",
       "      <th>1</th>\n",
       "      <th>2</th>\n",
       "      <th>3</th>\n",
       "      <th>4</th>\n",
       "      <th>5</th>\n",
       "      <th>6</th>\n",
       "      <th>7</th>\n",
       "      <th>8</th>\n",
       "      <th>9</th>\n",
       "      <th>...</th>\n",
       "      <th>35</th>\n",
       "      <th>36</th>\n",
       "      <th>37</th>\n",
       "      <th>38</th>\n",
       "      <th>39</th>\n",
       "      <th>40</th>\n",
       "      <th>41</th>\n",
       "      <th>42</th>\n",
       "      <th>43</th>\n",
       "      <th>44</th>\n",
       "    </tr>\n",
       "  </thead>\n",
       "  <tbody>\n",
       "    <tr>\n",
       "      <th>dementia</th>\n",
       "      <td>0.000000</td>\n",
       "      <td>0.000000</td>\n",
       "      <td>0.000000</td>\n",
       "      <td>0.000000</td>\n",
       "      <td>0.000000</td>\n",
       "      <td>0.000129</td>\n",
       "      <td>0.000129</td>\n",
       "      <td>0.000129</td>\n",
       "      <td>0.000129</td>\n",
       "      <td>0.000129</td>\n",
       "      <td>...</td>\n",
       "      <td>0.018465</td>\n",
       "      <td>0.018465</td>\n",
       "      <td>0.018465</td>\n",
       "      <td>0.065891</td>\n",
       "      <td>0.065891</td>\n",
       "      <td>0.065891</td>\n",
       "      <td>0.065891</td>\n",
       "      <td>0.065891</td>\n",
       "      <td>0.065891</td>\n",
       "      <td>0.065891</td>\n",
       "    </tr>\n",
       "    <tr>\n",
       "      <th>cv</th>\n",
       "      <td>0.001713</td>\n",
       "      <td>0.003478</td>\n",
       "      <td>0.006311</td>\n",
       "      <td>0.011103</td>\n",
       "      <td>0.020654</td>\n",
       "      <td>0.001713</td>\n",
       "      <td>0.003478</td>\n",
       "      <td>0.006311</td>\n",
       "      <td>0.011103</td>\n",
       "      <td>0.020654</td>\n",
       "      <td>...</td>\n",
       "      <td>0.006311</td>\n",
       "      <td>0.011103</td>\n",
       "      <td>0.020654</td>\n",
       "      <td>0.000000</td>\n",
       "      <td>0.000637</td>\n",
       "      <td>0.001713</td>\n",
       "      <td>0.003478</td>\n",
       "      <td>0.006311</td>\n",
       "      <td>0.011103</td>\n",
       "      <td>0.020654</td>\n",
       "    </tr>\n",
       "  </tbody>\n",
       "</table>\n",
       "<p>2 rows × 45 columns</p>\n",
       "</div>"
      ],
      "text/plain": [
       "                0         1         2         3         4         5   \\\n",
       "dementia  0.000000  0.000000  0.000000  0.000000  0.000000  0.000129   \n",
       "cv        0.001713  0.003478  0.006311  0.011103  0.020654  0.001713   \n",
       "\n",
       "                6         7         8         9   ...        35        36  \\\n",
       "dementia  0.000129  0.000129  0.000129  0.000129  ...  0.018465  0.018465   \n",
       "cv        0.003478  0.006311  0.011103  0.020654  ...  0.006311  0.011103   \n",
       "\n",
       "                37        38        39        40        41        42  \\\n",
       "dementia  0.018465  0.065891  0.065891  0.065891  0.065891  0.065891   \n",
       "cv        0.020654  0.000000  0.000637  0.001713  0.003478  0.006311   \n",
       "\n",
       "                43        44  \n",
       "dementia  0.065891  0.065891  \n",
       "cv        0.011103  0.020654  \n",
       "\n",
       "[2 rows x 45 columns]"
      ]
     },
     "execution_count": 30,
     "metadata": {},
     "output_type": "execute_result"
    }
   ],
   "source": [
    "quantilesForTrialsetDf.T"
   ]
  },
  {
   "cell_type": "code",
   "execution_count": 31,
   "id": "dba93f06",
   "metadata": {},
   "outputs": [],
   "source": [
    "quantilesForTrialsetDf.T.to_csv(dataDir + \"/quantilesForTrialset.csv\")"
   ]
  },
  {
   "cell_type": "code",
   "execution_count": 12,
   "id": "1b81bcec",
   "metadata": {},
   "outputs": [],
   "source": [
    "#the rest may be useful when you have forgotten to include some thresholds...otherwise just ignore...."
   ]
  },
  {
   "cell_type": "code",
   "execution_count": null,
   "id": "93ffd7e0",
   "metadata": {},
   "outputs": [],
   "source": [
    "i = 0 \n",
    "quantilesForTrialsetTodo = {\"dementia\":[],\"cv\":[]}\n",
    "for j in range(0,40,4):\n",
    "    for k in range(0,40,4):\n",
    "        if (((quantiles.iloc[j,0]<quantiles.iloc[8,0]) & (quantiles.iloc[k,1]>=quantiles.iloc[8,1])) |\n",
    "            ((quantiles.iloc[j,0]>=quantiles.iloc[8,0]) & (quantiles.iloc[k,1]<quantiles.iloc[8,1]))):\n",
    "            #print(j,k,quantiles.iloc[j,0],quantiles.iloc[k,1])\n",
    "            quantilesForTrialsetTodo[\"dementia\"].append(quantiles.iloc[j,0])\n",
    "            quantilesForTrialsetTodo[\"cv\"].append(quantiles.iloc[k,1])\n",
    "            i=i+1\n",
    "i"
   ]
  },
  {
   "cell_type": "code",
   "execution_count": null,
   "id": "4530b425",
   "metadata": {},
   "outputs": [],
   "source": [
    "i = 0 \n",
    "quantilesForTrialsetDone = {\"dementia\":[],\"cv\":[]}\n",
    "for j in range(8,40,4):\n",
    "    for k in range(8,40,4):\n",
    "        #print(j,k,quantiles.iloc[j,0],quantiles.iloc[k,1])\n",
    "        quantilesForTrialsetDone[\"dementia\"].append(quantiles.iloc[j,0])\n",
    "        quantilesForTrialsetDone[\"cv\"].append(quantiles.iloc[k,1])\n",
    "        i=i+1\n",
    "i"
   ]
  },
  {
   "cell_type": "code",
   "execution_count": null,
   "id": "cd69cf38",
   "metadata": {},
   "outputs": [],
   "source": [
    "quantilesForTrialsetDoneDf = pd.DataFrame(quantilesForTrialsetDone)\n",
    "quantilesForTrialsetTodoDf = pd.DataFrame(quantilesForTrialsetTodo)"
   ]
  },
  {
   "cell_type": "code",
   "execution_count": null,
   "id": "1add9c14",
   "metadata": {},
   "outputs": [],
   "source": [
    "allDf = pd.concat([quantilesForTrialsetDoneDf,quantilesForTrialsetTodoDf],ignore_index=True)"
   ]
  },
  {
   "cell_type": "code",
   "execution_count": null,
   "id": "62b3a1f0",
   "metadata": {},
   "outputs": [],
   "source": [
    "allDf = allDf.sort_values(by=allDf.columns.tolist()).reset_index(drop=True)\n",
    "quantilesForTrialsetDf = quantilesForTrialsetDf.sort_values(by=quantilesForTrialsetDf.columns.tolist()).reset_index(drop=True)\n",
    "print (allDf.equals(quantilesForTrialsetDf))"
   ]
  },
  {
   "cell_type": "code",
   "execution_count": null,
   "id": "193ab97e",
   "metadata": {},
   "outputs": [],
   "source": [
    "#quantilesForTrialsetTodoDf.T.to_csv(dataDir + \"/quantilesForTrialsetForgotten.csv\")"
   ]
  },
  {
   "cell_type": "code",
   "execution_count": null,
   "id": "e6d6aa9a",
   "metadata": {},
   "outputs": [],
   "source": []
  }
 ],
 "metadata": {
  "kernelspec": {
   "display_name": "Python 3 (ipykernel)",
   "language": "python",
   "name": "python3"
  },
  "language_info": {
   "codemirror_mode": {
    "name": "ipython",
    "version": 3
   },
   "file_extension": ".py",
   "mimetype": "text/x-python",
   "name": "python",
   "nbconvert_exporter": "python",
   "pygments_lexer": "ipython3",
   "version": "3.9.12"
  }
 },
 "nbformat": 4,
 "nbformat_minor": 5
}
