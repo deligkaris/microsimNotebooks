{
 "cells": [
  {
   "cell_type": "code",
   "execution_count": 1,
   "id": "5ed7920a",
   "metadata": {},
   "outputs": [
    {
     "data": {
      "application/javascript": [
       "IPython.notebook.set_autosave_interval(120000)"
      ]
     },
     "metadata": {},
     "output_type": "display_data"
    },
    {
     "name": "stdout",
     "output_type": "stream",
     "text": [
      "Autosaving every 120 seconds\n"
     ]
    }
   ],
   "source": [
    "%matplotlib notebook\n",
    "%matplotlib inline\n",
    "%autosave 120"
   ]
  },
  {
   "cell_type": "code",
   "execution_count": 2,
   "id": "7d42665b",
   "metadata": {},
   "outputs": [],
   "source": [
    "import os\n",
    "import pandas as pd\n",
    "pd.set_option('display.max_columns', None)\n",
    "pd.set_option('display.max_rows', None)\n",
    "from pandarallel import pandarallel\n",
    "import multiprocessing as mp\n",
    "import numpy as np\n",
    "import matplotlib.pyplot as plt"
   ]
  },
  {
   "cell_type": "code",
   "execution_count": 3,
   "id": "459f6d33",
   "metadata": {},
   "outputs": [],
   "source": [
    "from microsim.bp_treatment_strategies import *\n",
    "\n",
    "from microsim.outcome_model_repository import OutcomeModelRepository\n",
    "from microsim.outcome_model_type import OutcomeModelType\n",
    "from microsim.person import Person\n",
    "\n",
    "from microsim.population import NHANESDirectSamplePopulation\n",
    "\n",
    "from microsim.bp_treatment_strategies import SprintTreatment\n",
    "\n",
    "from microsim.sim_settings import simSettings\n",
    "\n",
    "from microsim.trials.trialset import TrialsetParallel, TrialsetSerial\n",
    "from microsim.trials.trial_description import TrialDescription\n",
    "from microsim.trials.logistic_regression_analysis import LogisticRegressionAnalysis\n",
    "from microsim.trials.linear_regression_analysis import LinearRegressionAnalysis\n",
    "from microsim.trials.outcome_assessor import OutcomeAssessor\n",
    "from microsim.trials.attribute_outcome_assessor import AttributeOutcomeAssessor\n",
    "from microsim.trials.attribute_outcome_assessor import AssessmentMethod\n",
    "from microsim.trials.risk_filter import RiskFilter\n",
    "from microsim.trials.trial_utils import get_analysis_name, randomizationSchema"
   ]
  },
  {
   "cell_type": "code",
   "execution_count": 4,
   "id": "ae6848f8",
   "metadata": {},
   "outputs": [],
   "source": [
    "#any microsim dir will work, just need to access the NHANES data\n",
    "microsimDir = \"/users/PAS2164/deligkaris/MICROSIM/CODE/microsim\"\n",
    "#microsimDir = \"/Users/deligkaris.1/OneDrive - The Ohio State University Wexner Medical Center/MICROSIM/CODE/microsim\"\n",
    "os.chdir(microsimDir)"
   ]
  },
  {
   "cell_type": "code",
   "execution_count": 5,
   "id": "42bca0e9",
   "metadata": {},
   "outputs": [],
   "source": [
    "#at the beginning turn on pandarallel if you are planning to use TrialsetSerial\n",
    "#use_memory_fs flag does not seem to affect performance in OSC computers\n",
    "pandarallel.initialize(verbose=1) #microsim by default now does not initialize pandarallel\n",
    "simSettings.pandarallelFlag = True #with this flag all new population instances will be set to use pandarallel"
   ]
  },
  {
   "cell_type": "code",
   "execution_count": 6,
   "id": "8f7a2187",
   "metadata": {},
   "outputs": [
    {
     "name": "stderr",
     "output_type": "stream",
     "text": [
      "/users/PAS2164/deligkaris/.cache/pypoetry/virtualenvs/microsim-gKvDNsM8-py3.9/lib/python3.9/site-packages/pandarallel/data_types/series.py:16: FutureWarning: The behavior of `series[i:j]` with an integer-dtype index is deprecated. In a future version, this will be treated as *label-based* indexing, consistent with e.g. `series[i]` lookups. To retain the old behavior, use `series.iloc[i:j]`. To get the future behavior, use `series.loc[i:j]`.\n",
      "  yield data[chunk_]\n"
     ]
    },
    {
     "name": "stdout",
     "output_type": "stream",
     "text": [
      "CPU times: user 17min 9s, sys: 7min 47s, total: 24min 56s\n",
      "Wall time: 27min 13s\n"
     ]
    }
   ],
   "source": [
    "%%time\n",
    "#with pandarallel on these two steps are faster\n",
    "#12min with 10,000, 22min with 20,000, 61min with 60,000, 102min with 100,000\n",
    "#osc: 27min with 10,000 (1 node)\n",
    "pop = NHANESDirectSamplePopulation(10000, 1999)\n",
    "alive, df = pop.advance_vectorized(200)"
   ]
  },
  {
   "cell_type": "code",
   "execution_count": null,
   "id": "d6a90a7f",
   "metadata": {},
   "outputs": [],
   "source": [
    "def getDFForPersonCol(person):\n",
    "    df = pd.DataFrame(person.get_final_wave_state_as_dict())\n",
    "    df['cvRisk'] = df.apply(OutcomeModelRepository().get_risk_for_person, args=(OutcomeModelType.CARDIOVASCULAR, 1, True), axis='columns')\n",
    "    df['demRisk'] = df.apply(OutcomeModelRepository().get_risk_for_person,  args=(OutcomeModelType.DEMENTIA, 1, True), axis='columns')\n",
    "    return df\n",
    "\n",
    "dfs = pop._people.apply(getDFForPersonCol)"
   ]
  },
  {
   "cell_type": "code",
   "execution_count": null,
   "id": "97a1d07d",
   "metadata": {},
   "outputs": [],
   "source": [
    "#pop._people.iloc[1].get_final_wave_state_as_dict()"
   ]
  },
  {
   "cell_type": "code",
   "execution_count": null,
   "id": "7f6fa6b9",
   "metadata": {},
   "outputs": [],
   "source": [
    "allAgesDF = pd.concat(dfs.tolist())"
   ]
  },
  {
   "cell_type": "code",
   "execution_count": null,
   "id": "22d50b5f",
   "metadata": {},
   "outputs": [],
   "source": [
    "allAgesDF.head()"
   ]
  },
  {
   "cell_type": "code",
   "execution_count": null,
   "id": "87add18c",
   "metadata": {},
   "outputs": [],
   "source": [
    "#allAgesDF.loc[allAgesDF.demRisk > 1, 'demRisk'].count(), allAgesDF.loc[allAgesDF.demRisk > 1, 'demRisk']"
   ]
  },
  {
   "cell_type": "code",
   "execution_count": null,
   "id": "41f3ca85",
   "metadata": {},
   "outputs": [],
   "source": [
    "allAgesDF.loc[allAgesDF.demRisk > 1, 'demRisk'] = 1"
   ]
  },
  {
   "cell_type": "code",
   "execution_count": null,
   "id": "756a8dcb",
   "metadata": {},
   "outputs": [],
   "source": [
    "allAgesDF.demRisk.describe(), allAgesDF.cvRisk.describe()"
   ]
  },
  {
   "cell_type": "code",
   "execution_count": null,
   "id": "8a564596",
   "metadata": {},
   "outputs": [],
   "source": [
    "#if some points are outside of the min and max of this then qcut will return them to belong in NaN\n",
    "#np.arange(increment, 1.0, increment)"
   ]
  },
  {
   "cell_type": "code",
   "execution_count": null,
   "id": "18a1d427",
   "metadata": {},
   "outputs": [],
   "source": [
    "#we need to have n+1 points in order to have n intervals\n",
    "#len(np.arange(increment, 1.0, increment)),len(np.arange(0, 1.0, increment)),len(np.arange(0, 1.0+increment, increment))"
   ]
  },
  {
   "cell_type": "code",
   "execution_count": null,
   "id": "3d572bd5",
   "metadata": {},
   "outputs": [],
   "source": [
    "nQuantiles = 25\n",
    "increment = 1.0/nQuantiles\n",
    "#qcut will move the left boundary to a value lower than the min, so that the left end (which is open)\n",
    "#will include the min\n",
    "allAgesDF['demRiskQuantile'] = pd.qcut(allAgesDF.demRisk, np.arange(0, 1.0+increment, increment))\n",
    "allAgesDF['cvRiskQuantile'] = pd.qcut(allAgesDF.cvRisk, np.arange(0, 1.0+increment, increment))"
   ]
  },
  {
   "cell_type": "code",
   "execution_count": null,
   "id": "1d4dbcd9",
   "metadata": {},
   "outputs": [],
   "source": [
    "#allAgesDF.shape"
   ]
  },
  {
   "cell_type": "code",
   "execution_count": null,
   "id": "3334b82f",
   "metadata": {},
   "outputs": [],
   "source": [
    "#there should not be any NaNs\n",
    "allAgesDF['demRiskQuantile'].isna().sum(), allAgesDF['cvRiskQuantile'].isna().sum()"
   ]
  },
  {
   "cell_type": "code",
   "execution_count": null,
   "id": "38764e6f",
   "metadata": {},
   "outputs": [],
   "source": [
    "#allAgesDF['demRiskQuantile'].head()"
   ]
  },
  {
   "cell_type": "code",
   "execution_count": null,
   "id": "c7616e0f",
   "metadata": {},
   "outputs": [],
   "source": [
    "meanDemRiskForQuantile = allAgesDF.groupby('demRiskQuantile')['demRisk'].mean()\n",
    "meanCVRiskForQuantile = allAgesDF.groupby('cvRiskQuantile')['demRisk'].mean()\n",
    "meanDemRiskForQuantileDict = {index : value for index, value in meanDemRiskForQuantile.items()}\n",
    "meanCVRiskForQuantileDict = {index : value for index, value in meanCVRiskForQuantile.items()}\n",
    "demQuantileNumberForQuantile = {quantile : index for index, quantile in enumerate(allAgesDF['demRiskQuantile'].value_counts().index)}\n",
    "cvQuantileNumberForQuantile = {quantile : index for index, quantile in enumerate(allAgesDF['cvRiskQuantile'].value_counts().index)}\n",
    "demQuantileForNumber = {index : quantile for index, quantile in enumerate(allAgesDF['demRiskQuantile'].value_counts().index)}\n",
    "cvQuantileForNumber = {index : quantile for index, quantile in enumerate(allAgesDF['cvRiskQuantile'].value_counts().index)}"
   ]
  },
  {
   "cell_type": "code",
   "execution_count": null,
   "id": "07fde431",
   "metadata": {},
   "outputs": [],
   "source": [
    "#allAgesDF['demRiskQuantile'].value_counts().index"
   ]
  },
  {
   "cell_type": "code",
   "execution_count": null,
   "id": "ddc30832",
   "metadata": {},
   "outputs": [],
   "source": [
    "#meanDemRiskForQuantile, meanDemRiskForQuantileDict, demQuintileNumberForQuantile"
   ]
  },
  {
   "cell_type": "code",
   "execution_count": null,
   "id": "24d1b35c",
   "metadata": {},
   "outputs": [],
   "source": [
    "allAgesDF['meanDemRiskForQuantile'] = allAgesDF['demRiskQuantile']\n",
    "allAgesDF['meanDemRiskForQuantile'].replace(meanDemRiskForQuantileDict, inplace=True)\n",
    "allAgesDF['meanCVRiskForQuantile'] = allAgesDF['cvRiskQuantile']\n",
    "allAgesDF['meanCVRiskForQuantile'].replace(meanCVRiskForQuantileDict, inplace=True)\n",
    "\n",
    "allAgesDF['cvQuantileNum'] = allAgesDF['cvRiskQuantile']\n",
    "allAgesDF['cvQuantileNum'].replace(cvQuantileNumberForQuantile, inplace=True)\n",
    "\n",
    "allAgesDF['demQuantileNum'] = allAgesDF['demRiskQuantile']\n",
    "allAgesDF['demQuantileNum'].replace(demQuantileNumberForQuantile, inplace=True)"
   ]
  },
  {
   "cell_type": "code",
   "execution_count": null,
   "id": "07021571",
   "metadata": {},
   "outputs": [],
   "source": [
    "allAgesDF.head()"
   ]
  },
  {
   "cell_type": "code",
   "execution_count": null,
   "id": "31b9bc54",
   "metadata": {},
   "outputs": [],
   "source": [
    "### next step is to see how this varies by age...\n",
    "### if we have wide distribution, then we can just go through deciles or something like that for trial sampling!"
   ]
  },
  {
   "cell_type": "code",
   "execution_count": null,
   "id": "94abb307",
   "metadata": {},
   "outputs": [],
   "source": [
    "#allAgesDF.groupby(['cvQuantileNum', 'demQuantileNum'])['age'].count()"
   ]
  },
  {
   "cell_type": "code",
   "execution_count": null,
   "id": "be331f52",
   "metadata": {},
   "outputs": [],
   "source": [
    "countByRisks = allAgesDF.groupby(['cvQuantileNum', 'demQuantileNum'],sort=True\n",
    "                                )['age'].count().unstack(fill_value=0).stack()\n",
    "#countByRisks"
   ]
  },
  {
   "cell_type": "code",
   "execution_count": null,
   "id": "73a9d23e",
   "metadata": {},
   "outputs": [],
   "source": [
    "countByRisks = allAgesDF.groupby(['cvQuantileNum', 'demQuantileNum'],sort=False\n",
    "                                )['age'].count().unstack(fill_value=0).stack()\n",
    "#countByRisks"
   ]
  },
  {
   "cell_type": "code",
   "execution_count": null,
   "id": "02e1acb8",
   "metadata": {},
   "outputs": [],
   "source": [
    "countByRisksDF = pd.DataFrame({'demRisk' : countByRisks.index.get_level_values(0),\n",
    "                              'cvRisk' : countByRisks.index.get_level_values(1),\n",
    "                              'ageCount' : countByRisks.values})\n",
    "countByRisksDF"
   ]
  },
  {
   "cell_type": "code",
   "execution_count": null,
   "id": "bd4c5ea6",
   "metadata": {},
   "outputs": [],
   "source": [
    "#used in plots later\n",
    "X=np.arange(0,nQuantiles,1)\n",
    "Y=np.arange(0,nQuantiles,1)\n",
    "X, Y = np.meshgrid(X, Y)\n",
    "X.shape"
   ]
  },
  {
   "cell_type": "code",
   "execution_count": null,
   "id": "c9469771",
   "metadata": {},
   "outputs": [],
   "source": [
    "#this is done just in case the quantile categories are not ordered properly\n",
    "countByRisksArray=np.zeros(X.shape)\n",
    "for i,j,k in zip(countByRisksDF[\"demRisk\"].values,countByRisksDF[\"cvRisk\"].values,countByRisksDF[\"ageCount\"].values):\n",
    "    countByRisksArray[i,j]=k\n",
    "#countByRisksArray"
   ]
  },
  {
   "cell_type": "code",
   "execution_count": null,
   "id": "d12ec0ef",
   "metadata": {},
   "outputs": [],
   "source": [
    "ageCountSum = countByRisksDF[\"ageCount\"].sum() #sum of all person-ages\n",
    "ageCountSumPerQbox = ageCountSum/(nQuantiles)/(nQuantiles) # of person-ages in one qq category, uniform ditribution\n",
    "ageCountSum, ageCountSumPerQbox"
   ]
  },
  {
   "cell_type": "code",
   "execution_count": null,
   "id": "4a838c2a",
   "metadata": {},
   "outputs": [],
   "source": [
    "percentCutoff = 1. #relevant to a uniform distribution, which qq categories to keep\n",
    "cutoff = (ageCountSumPerQbox * percentCutoff)\n",
    "cutoff"
   ]
  },
  {
   "cell_type": "code",
   "execution_count": null,
   "id": "8e0d2deb",
   "metadata": {},
   "outputs": [],
   "source": [
    "qqcategoriesToInclude = countByRisksDF.loc[countByRisksDF[\"ageCount\"] > cutoff] \n",
    "#qqcategoriesToInclude, \n",
    "qqcategoriesToInclude[\"ageCount\"].sum()/ageCountSum #percent of person-ages included"
   ]
  },
  {
   "cell_type": "code",
   "execution_count": null,
   "id": "ed99a06e",
   "metadata": {},
   "outputs": [],
   "source": [
    "#if demRisk and cvRisk are not ordered correctly, this does not work...\n",
    "#countByRisksDF['ageCount'].to_numpy().reshape(nQuantiles-0, nQuantiles-0) >5000 "
   ]
  },
  {
   "cell_type": "code",
   "execution_count": null,
   "id": "ee9ac5fc",
   "metadata": {},
   "outputs": [],
   "source": [
    "fig, ax = plt.subplots()\n",
    "\n",
    "c = ax.pcolormesh(X, Y, countByRisksArray, shading='nearest')\n",
    "ax.set_title('dem risk quantiles vs. cv risk quantiles')\n",
    "plt.xlabel(\"cv risk quantile\")\n",
    "plt.ylabel(\"dem risk quantile\")\n",
    "# set the limits of the plot to the limits of the data\n",
    "ax.axis([0,nQuantiles-1, 0,nQuantiles-1])\n",
    "fig.colorbar(c, ax=ax)\n",
    "\n",
    "plt.show()"
   ]
  },
  {
   "cell_type": "code",
   "execution_count": null,
   "id": "899c51a4",
   "metadata": {},
   "outputs": [],
   "source": [
    "# decide on which quantiles to keep\n",
    "included = np.zeros(X.shape)\n",
    "\n",
    "for i, j in zip(qqcategoriesToInclude[\"demRisk\"],qqcategoriesToInclude[\"cvRisk\"]):\n",
    "    included[i,j]=1\n",
    "    \n",
    "#included"
   ]
  },
  {
   "cell_type": "code",
   "execution_count": null,
   "id": "5cf78abe",
   "metadata": {},
   "outputs": [],
   "source": [
    "fig, ax = plt.subplots()\n",
    "\n",
    "c = ax.pcolormesh(X, Y, included, shading='nearest')\n",
    "ax.set_title('1.0 for categories to keep, 0 otherwise')\n",
    "plt.xlabel(\"cv risk quantile\")\n",
    "plt.ylabel(\"dem risk quantile\")\n",
    "# set the limits of the plot to the limits of the data\n",
    "ax.axis([0,nQuantiles-1, 0,nQuantiles-1])\n",
    "fig.colorbar(c, ax=ax)\n",
    "\n",
    "plt.show()"
   ]
  },
  {
   "cell_type": "code",
   "execution_count": null,
   "id": "aad29676",
   "metadata": {},
   "outputs": [],
   "source": [
    "from matplotlib import cm\n",
    "from mpl_toolkits.mplot3d import Axes3D"
   ]
  },
  {
   "cell_type": "code",
   "execution_count": null,
   "id": "746f9ac3",
   "metadata": {},
   "outputs": [],
   "source": [
    "ax = Axes3D(fig)"
   ]
  },
  {
   "cell_type": "code",
   "execution_count": null,
   "id": "24e4d07d",
   "metadata": {},
   "outputs": [],
   "source": [
    "fig, ax = plt.subplots(subplot_kw={\"projection\": \"3d\"})\n",
    "surf = ax.plot_surface(X, Y, countByRisksArray, cmap=cm.coolwarm,\n",
    "                       linewidth=0, antialiased=False)\n",
    "fig.colorbar(surf, shrink=0.5, aspect=5)\n",
    "plt.show()"
   ]
  },
  {
   "cell_type": "code",
   "execution_count": null,
   "id": "2fd50550",
   "metadata": {},
   "outputs": [],
   "source": [
    "from matplotlib.colors import LightSource"
   ]
  },
  {
   "cell_type": "code",
   "execution_count": null,
   "id": "50f2175b",
   "metadata": {},
   "outputs": [],
   "source": [
    "fig, ax = plt.subplots(subplot_kw=dict(projection='3d'))\n",
    "\n",
    "ls = LightSource(270, 45)\n",
    "# To use a custom hillshading mode, override the built-in shading and pass\n",
    "# in the rgb colors of the shaded surface calculated from \"shade\".\n",
    "rgb = ls.shade(countByRisksArray, cmap=cm.gist_earth, vert_exag=0.1, blend_mode='soft')\n",
    "surf = ax.plot_surface(X,Y,countByRisksArray, rstride=1, cstride=1, facecolors=rgb,\n",
    "                       linewidth=0, antialiased=False, shade=False)\n",
    "\n",
    "plt.show()"
   ]
  },
  {
   "cell_type": "code",
   "execution_count": null,
   "id": "2e62919f",
   "metadata": {},
   "outputs": [],
   "source": [
    "demQuantiles = allAgesDF.demRisk.quantile(np.arange(0, 1+increment, increment).tolist())\n",
    "cvQuantiles = allAgesDF.cvRisk.quantile(np.arange(0, 1+increment, increment).tolist())\n",
    "quantileDF = pd.DataFrame(index=demQuantiles.index, data={'dementia' : demQuantiles.values, 'cv' : cvQuantiles.values})\n",
    "quantileDF.to_csv(\"~/Desktop/dementiaAndCVQuintileThresholds.csv\")\n",
    "quantileDF"
   ]
  },
  {
   "cell_type": "code",
   "execution_count": null,
   "id": "57aa606b",
   "metadata": {},
   "outputs": [],
   "source": [
    "allAgesDF.demRisk.describe(), allAgesDF.cvRisk.describe()"
   ]
  },
  {
   "cell_type": "code",
   "execution_count": null,
   "id": "62e2587d",
   "metadata": {},
   "outputs": [],
   "source": [
    "qqcategoriesToInclude[\"demRiskInterval\"] = qqcategoriesToInclude[\"demRisk\"].apply(lambda x:demQuantileForNumber[x])\n",
    "qqcategoriesToInclude[\"cvRiskInterval\"] = qqcategoriesToInclude[\"cvRisk\"].apply(lambda x:cvQuantileForNumber[x])\n",
    "#countByRisks\n",
    "#allAgesDF.sample(50)"
   ]
  },
  {
   "cell_type": "code",
   "execution_count": null,
   "id": "d1e393fa",
   "metadata": {},
   "outputs": [],
   "source": [
    "qqcategoriesToInclude"
   ]
  },
  {
   "cell_type": "code",
   "execution_count": null,
   "id": "ff5bbc55",
   "metadata": {},
   "outputs": [],
   "source": [
    "qqcategoriesToInclude.to_csv(\"~/Desktop/qqcategoriesToInclude.csv\")"
   ]
  },
  {
   "cell_type": "code",
   "execution_count": null,
   "id": "f38813a3",
   "metadata": {},
   "outputs": [],
   "source": []
  },
  {
   "cell_type": "code",
   "execution_count": null,
   "id": "3b5c9196",
   "metadata": {},
   "outputs": [],
   "source": []
  },
  {
   "cell_type": "code",
   "execution_count": null,
   "id": "4831a66b",
   "metadata": {},
   "outputs": [],
   "source": []
  }
 ],
 "metadata": {
  "kernelspec": {
   "display_name": "microsimKernel",
   "language": "python",
   "name": "microsimkernel"
  },
  "language_info": {
   "codemirror_mode": {
    "name": "ipython",
    "version": 3
   },
   "file_extension": ".py",
   "mimetype": "text/x-python",
   "name": "python",
   "nbconvert_exporter": "python",
   "pygments_lexer": "ipython3",
   "version": "3.9.13"
  }
 },
 "nbformat": 4,
 "nbformat_minor": 5
}
