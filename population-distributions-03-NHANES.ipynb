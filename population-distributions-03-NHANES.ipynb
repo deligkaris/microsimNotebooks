{
 "cells": [
  {
   "cell_type": "markdown",
   "id": "21ab84a0-7c59-49b8-97b9-bb5cffc7bd79",
   "metadata": {},
   "source": [
    "The goal of this notebook is to compare two populations...one sampled from the NHANES dataset directly and one sampled from the Gaussian distributions which were in turn obtained from the NHANES dataset...hence the goal is to validate the Gaussian distributions we obtained...\n",
    "\n",
    "First we read the df with the person information as obtained from the Gaussian distributions, then we create Person-objects, and then the population object. Finally we compare this population and the NHANESDirectSamplePopulation in baseline characteristics, characteristics over time, and cv events."
   ]
  },
  {
   "cell_type": "code",
   "execution_count": 1,
   "id": "22432516-568b-41c5-9eb5-770d81b2afb9",
   "metadata": {},
   "outputs": [],
   "source": [
    "import os\n",
    "import copy\n",
    "import pandas as pd\n",
    "pd.set_option('display.max_columns', None)\n",
    "pd.set_option('display.max_rows', None)\n",
    "import numpy as np\n",
    "import matplotlib.pyplot as plt\n",
    "from collections import Counter\n",
    "from scipy.stats import multivariate_normal\n",
    "\n",
    "from microsim.person_factory import microsimToNhanes\n",
    "from microsim.population_factory import PopulationFactory\n",
    "from microsim.population import Population\n",
    "#from microsim.population import (NHANESDirectSamplePopulation, \n",
    "#                                 build_people_using_nhanes_for_sampling,\n",
    "#                                 microsimToNhanes, Population, get_nhanes_population)\n",
    "from microsim.risk_model_repository import RiskModelRepository\n",
    "from microsim.gender import NHANESGender\n",
    "from microsim.smoking_status import SmokingStatus\n",
    "from microsim.race_ethnicity import NHANESRaceEthnicity\n",
    "from microsim.education import Education\n",
    "from microsim.treatment import DefaultTreatmentsType,  TreatmentStrategiesType\n",
    "from microsim.risk_factor import StaticRiskFactorsType, DynamicRiskFactorsType\n",
    "from microsim.afib_model import AFibPrevalenceModel\n",
    "from microsim.pvd_model import PVDPrevalenceModel\n",
    "from microsim.outcome import Outcome, OutcomeType\n",
    "from microsim.person import Person\n",
    "from microsim.population_model_repository import PopulationModelRepository\n",
    "from microsim.cohort_risk_model_repository import (CohortStaticRiskFactorModelRepository,\n",
    "                                                   CohortDynamicRiskFactorModelRepository,\n",
    "                                                   CohortDefaultTreatmentModelRepository)\n",
    "from microsim.outcome_model_repository import OutcomeModelRepository\n",
    "\n",
    "microsimDir = \"/Users/deligkaris.1/OneDrive - The Ohio State University Wexner Medical Center/MICROSIM\"\n",
    "os.chdir(microsimDir+\"/CODE/microsim\")\n",
    "\n",
    "dataDir = microsimDir+\"/NOTEBOOKS/DATA\"\n",
    "\n",
    "popSize = 100000"
   ]
  },
  {
   "cell_type": "code",
   "execution_count": null,
   "id": "f7ee2a27-1aed-4f28-843c-9c4eaf3125b1",
   "metadata": {},
   "outputs": [],
   "source": [
    "categoricalVars = [\"gender\", \"smokingStatus\", \"raceEthnicity\", \"statin\",'education',\n",
    "                  'alcoholPerWeek','anyPhysicalActivity','antiHypertensiveCount']\n",
    "continuousVars = ['age', 'hdl', 'bmi', 'totChol', 'trig', 'a1c', 'ldl', 'waist', 'creatinine', 'sbp', 'dbp']"
   ]
  },
  {
   "cell_type": "code",
   "execution_count": null,
   "id": "2068b91d-74f2-40cc-82be-ead2aac71682",
   "metadata": {},
   "outputs": [],
   "source": [
    "nhanesDf = pd.read_stata(microsimDir + \"/CODE/microsim/microsim/data/fullyImputedDataset.dta\")\n",
    "nhanesDf = nhanesDf.rename(columns={\"level_0\":\"name\"})"
   ]
  },
  {
   "cell_type": "code",
   "execution_count": null,
   "id": "78be559d-402e-49d3-ba18-b6853f0b10a3",
   "metadata": {},
   "outputs": [],
   "source": [
    "df = pd.read_csv(dataDir+\"/nhanes-as-gaussians-02.csv\")\n",
    "#df = pd.read_csv(dataDir+\"/nhanes-persons-from-uniforms.csv\")\n",
    "df.head()"
   ]
  },
  {
   "cell_type": "code",
   "execution_count": null,
   "id": "f4a9e3bc-4dd7-4d16-bd61-7a633c141b60",
   "metadata": {},
   "outputs": [],
   "source": [
    "df[\"age\"].describe()"
   ]
  },
  {
   "cell_type": "code",
   "execution_count": null,
   "id": "09e12f84-2da8-48b2-8476-fd97769c0cb8",
   "metadata": {},
   "outputs": [],
   "source": [
    "df.shape"
   ]
  },
  {
   "cell_type": "code",
   "execution_count": null,
   "id": "415dea93-c31e-431f-9c38-0185012908f4",
   "metadata": {},
   "outputs": [],
   "source": [
    "#bring the original nhanes weights because these will help me do the sampling\n",
    "df = df.merge(nhanesDf[[\"name\",\"WTINT2YR\"]], on=\"name\", how=\"inner\").copy()\n",
    "df.shape"
   ]
  },
  {
   "cell_type": "code",
   "execution_count": null,
   "id": "e5821546-fe48-4827-89b7-f83ed54d96e2",
   "metadata": {},
   "outputs": [],
   "source": [
    "def build_person(x, initializationModelRepository):\n",
    "    \"\"\"Takes all Person-instance-related data via x and initializationModelRepository and organizes it,\n",
    "       passes the organized data to the Person class and returns a Person instance.\"\"\"\n",
    "    \n",
    "    rng = np.random.default_rng()\n",
    "        \n",
    "    name = x.name\n",
    "    \n",
    "    personStaticRiskFactors = {\n",
    "                        StaticRiskFactorsType.RACE_ETHNICITY.value: NHANESRaceEthnicity(int(x.raceEthnicity)),\n",
    "                        StaticRiskFactorsType.EDUCATION.value: Education(int(x.education)),\n",
    "                        StaticRiskFactorsType.GENDER.value: NHANESGender(int(x.gender)),\n",
    "                        StaticRiskFactorsType.SMOKING_STATUS.value: SmokingStatus(int(x.smokingStatus))}\n",
    "        \n",
    "    #use this to get the bounds imposed on the risk factors in a bit\n",
    "    rfRepository = RiskModelRepository()\n",
    "        \n",
    "    #TO DO: find a way to include everything here, including the rfs that need initialization\n",
    "    #the PVD model would be easy to implement, eg with an estimate_next_risk_for_patient_characteristics function\n",
    "    #but the AFIB model would be more difficult because it relies on statsmodel_logistic_risk file\n",
    "    #for now include None, in order to create the risk factor lists correctly at the Person instance\n",
    "    personDynamicRiskFactors = dict()\n",
    "    for rfd in DynamicRiskFactorsType:\n",
    "        #if rfd==DynamicRiskFactorsType.ALCOHOL_PER_WEEK:\n",
    "        #    personDynamicRiskFactors[rfd.value] = AlcoholCategory.get_category_for_consumption(rfRepository.apply_bounds(rfd.value, x[microsimToNhanes[rfd.value]]))\n",
    "        #else:\n",
    "        if (rfd!=DynamicRiskFactorsType.PVD) & (rfd!=DynamicRiskFactorsType.AFIB):\n",
    "            personDynamicRiskFactors[rfd.value] = rfRepository.apply_bounds(rfd.value, x[rfd.value])\n",
    "    personDynamicRiskFactors[DynamicRiskFactorsType.AFIB.value] = None\n",
    "    personDynamicRiskFactors[DynamicRiskFactorsType.PVD.value] = None\n",
    "\n",
    "    #Q: do we need otherLipid treatment? I am not bringing it to the Person objects for now.\n",
    "    #A: it is ok to leave it out as we do not have a model to update this. It is also very rarely taking place in the population anyway.\n",
    "    #also: used to have round(x.statin) but NHANES includes statin=2...\n",
    "    personDefaultTreatments = {\n",
    "                        DefaultTreatmentsType.STATIN.value: bool(x.statin),\n",
    "                        #DefaultTreatmentsType.OTHER_LIPID_LOWERING_MEDICATION_COUNT.value: x.otherLipidLowering,\n",
    "                        DefaultTreatmentsType.ANTI_HYPERTENSIVE_COUNT.value: x.antiHypertensiveCount}\n",
    "\n",
    "    personTreatmentStrategies = dict(zip([strategy.value for strategy in TreatmentStrategiesType],\n",
    "                                         #[None for strategy in range(len(TreatmentStrategiesType))]))\n",
    "                                         [{\"status\": None} for strategy in range(len(TreatmentStrategiesType))]))\n",
    "\n",
    "    personOutcomes = dict(zip([outcome for outcome in OutcomeType],\n",
    "                                  [list() for outcome in range(len(OutcomeType))]))\n",
    "    #add pre-simulation stroke outcomes\n",
    "    #selfReportStrokeAge=x.selfReportStrokeAge\n",
    "    #Q: we should not add the stroke outcome in case of \"else\"?\n",
    "    #if selfReportStrokeAge is not None and selfReportStrokeAge > 1:\n",
    "    #        selfReportStrokeAge = selfReportStrokeAge if selfReportStrokeAge <= x.age else x.age\n",
    "    #        personOutcomes[OutcomeType.STROKE].append((selfReportStrokeAge, StrokeOutcome(False, None, None, None, priorToSim=True)))\n",
    "    #add pre-simulation mi outcomes\n",
    "    #selfReportMIAge=rng.integers(18, x.age) if x.selfReportMIAge == 99999 else x.selfReportMIAge\n",
    "    #if selfReportMIAge is not None and selfReportMIAge > 1:\n",
    "    #        selfReportMIAge = selfReportMIAge if selfReportMIAge <= x.age else x.age\n",
    "    #        personOutcomes[OutcomeType.MI].append((selfReportMIAge, Outcome(OutcomeType.MI, False, priorToSim=True)))\n",
    "\n",
    "    person = Person(name,\n",
    "                   personStaticRiskFactors,\n",
    "                   personDynamicRiskFactors,\n",
    "                   personDefaultTreatments,\n",
    "                   personTreatmentStrategies,\n",
    "                   personOutcomes)\n",
    "\n",
    "    #TO DO: find a way to initialize these rfs above with everything else\n",
    "    person._pvd = [initializationModelRepository[DynamicRiskFactorsType.PVD].estimate_next_risk(person)]\n",
    "    person._afib = [initializationModelRepository[DynamicRiskFactorsType.AFIB].estimate_next_risk(person)]\n",
    "    return person\n"
   ]
  },
  {
   "cell_type": "code",
   "execution_count": null,
   "id": "10e08df7-e651-45b2-bd84-d185ab1d6e9d",
   "metadata": {},
   "outputs": [],
   "source": [
    "initializationModelRepository = {DynamicRiskFactorsType.AFIB: AFibPrevalenceModel(), \n",
    "                                     DynamicRiskFactorsType.PVD: PVDPrevalenceModel()}"
   ]
  },
  {
   "cell_type": "code",
   "execution_count": null,
   "id": "18c8a41b-26a6-4d2f-a954-6be311582122",
   "metadata": {},
   "outputs": [],
   "source": [
    "dfSample = df.sample(popSize, weights=df.WTINT2YR, replace=True)"
   ]
  },
  {
   "cell_type": "code",
   "execution_count": null,
   "id": "417efbb6-9a51-4e9d-8de5-48e7b5f53cc8",
   "metadata": {},
   "outputs": [],
   "source": [
    "people = dfSample.apply(lambda x: build_person(x, initializationModelRepository), axis=1)"
   ]
  },
  {
   "cell_type": "code",
   "execution_count": null,
   "id": "6892241c-39d2-4a9e-b41f-ac673eb0d7f6",
   "metadata": {},
   "outputs": [],
   "source": [
    "#sets the unique identifier for each Person instance\n",
    "noneList = list(map(lambda person, i: setattr(person, \"_index\", i), people, range(len(people)))) "
   ]
  },
  {
   "cell_type": "code",
   "execution_count": null,
   "id": "0be6f713-cd96-4038-b54c-ca7c3a9b4cb5",
   "metadata": {},
   "outputs": [],
   "source": [
    "popModelRepository = PopulationModelRepository(CohortDynamicRiskFactorModelRepository(),\n",
    "                                                           CohortDefaultTreatmentModelRepository(),\n",
    "                                                           OutcomeModelRepository(),\n",
    "                                                           CohortStaticRiskFactorModelRepository()) \n",
    "pop = Population(people, popModelRepository)"
   ]
  },
  {
   "cell_type": "code",
   "execution_count": null,
   "id": "6790d1ae-f5dd-4c21-ab10-f8312a8e1122",
   "metadata": {},
   "outputs": [],
   "source": [
    "pop._people.shape"
   ]
  },
  {
   "cell_type": "code",
   "execution_count": 2,
   "id": "bc809f7b-ea81-4684-83df-1f7717671f53",
   "metadata": {},
   "outputs": [],
   "source": [
    "#pop2 = get_nhanes_population(1999)\n",
    "#pop2 = NHANESDirectSamplePopulation(popSize, 1999)\n",
    "pop = PopulationFactory.get_nhanes_population(n=popSize, year=1999, nhanesWeights=True, distributions=True)\n",
    "pop.advance(1)\n",
    "pop2 = PopulationFactory.get_nhanes_population(n=popSize, year=1999, nhanesWeights=True)\n",
    "pop2.advance(1)\n",
    "#pop2.print_baseline_summary()"
   ]
  },
  {
   "cell_type": "code",
   "execution_count": 3,
   "id": "d4eae7df-5eab-4bc0-a567-48c3750f2b1a",
   "metadata": {},
   "outputs": [
    {
     "name": "stdout",
     "output_type": "stream",
     "text": [
      "                                 self                                             other\n",
      "                                 min    0.25   med    0.75    max   mean    sd    min    0.25   med    0.75    max   mean    sd\n",
      "                           age   18.0   32.0   42.0   54.0   93.0   44.1   15.3   18.0   30.0   41.0   55.0   85.0   43.9   17.2\n",
      "                           sbp   77.7  112.1  122.0  132.5  221.7  123.0   16.5   72.7  109.3  119.3  131.3  231.3  122.6   18.9\n",
      "                           dbp   38.5   65.2   72.1   78.8  106.8   72.2   10.1   40.0   65.3   72.0   79.3  132.0   72.5   11.1\n",
      "                           a1c    3.7    5.0    5.2    5.6   10.6    5.4    0.7    2.5    5.0    5.2    5.5   15.1    5.4    0.9\n",
      "                           hdl   17.5   42.5   51.1   60.5  113.0   52.3   13.4    8.0   40.0   48.0   59.0  151.0   50.8   15.7\n",
      "                           ldl   40.9  108.1  127.4  148.0  257.5  128.0   30.0   28.0   98.0  120.0  145.0  354.0  123.0   36.6\n",
      "                          trig   27.5  102.1  141.3  189.4  1236.0  155.7   81.5   12.0   83.0  120.0  177.0  1761.0  146.7  110.3\n",
      "                       totChol   88.3  184.1  207.7  231.7  376.8  208.4   34.9   72.0  173.0  198.0  227.0  480.0  201.4   41.2\n",
      "                           bmi   15.5   24.3   27.3   30.6   49.7   27.6    4.9   14.4   23.5   26.7   31.0   67.8   27.9    6.3\n",
      "           anyPhysicalActivity    0.0    0.0    1.0    1.0    1.0    0.7    0.5    0.0    0.0    1.0    1.0    1.0    0.7    0.5\n",
      "                          afib    0.0    0.0    0.0    0.0    1.0    0.0    0.1    0.0    0.0    0.0    0.0    1.0    0.0    0.1\n",
      "                         waist   59.5   86.5   94.7  103.6  148.2   95.0   12.6   59.4   83.5   93.6  104.7  173.4   95.1   15.9\n",
      "                alcoholPerWeek    0.0    0.0    2.0    3.0    3.0    1.9    1.3    0.0    0.0    2.0    3.0    3.0    1.9    1.3\n",
      "                    creatinine    0.2    0.6    0.7    0.8    1.5    0.7    0.2    0.2    0.6    0.7    0.9   11.8    0.8    0.5\n",
      "                           pvd    0.0    0.0    0.0    0.0    1.0    0.0    0.2    0.0    0.0    0.0    0.0    1.0    0.0    0.2\n",
      "                                 self   other\n",
      "                                 proportions\n",
      "                 raceEthnicity\n",
      "                             1   0.07   0.07\n",
      "                             2   0.08   0.08\n",
      "                             3   0.69   0.70\n",
      "                             4   0.11   0.11\n",
      "                             5   0.05   0.05\n",
      "                     education\n",
      "                             1   0.07   0.07\n",
      "                             2   0.16   0.16\n",
      "                             3   0.25   0.25\n",
      "                             4   0.30   0.30\n",
      "                             5   0.22   0.22\n",
      "                        gender\n",
      "                             1   0.48   0.48\n",
      "                             2   0.52   0.52\n",
      "                 smokingStatus\n",
      "                             0   0.52   0.52\n",
      "                             1   0.23   0.24\n",
      "                             2   0.24   0.24\n"
     ]
    }
   ],
   "source": [
    "pop.print_baseline_summary_comparison(pop2)"
   ]
  },
  {
   "cell_type": "code",
   "execution_count": 4,
   "id": "51ee5300-ba34-43a6-a5a4-0f27f9f7a9c7",
   "metadata": {},
   "outputs": [
    {
     "name": "stdout",
     "output_type": "stream",
     "text": [
      "age pop-count pop2-count %diff\n",
      "18   1443       1792     -0.19\n",
      "19    677       2020     -0.66\n",
      "20   1017       1906     -0.47\n",
      "21   1351       2224     -0.39\n",
      "22   1409       2443     -0.42\n",
      "23   1719       1946     -0.12\n",
      "24   1614       1692     -0.05\n",
      "25   1675       1583      0.06\n",
      "26   1802       1975     -0.09\n",
      "27   1769       1552      0.14\n",
      "28   2138       2032      0.05\n",
      "29   2193       2258     -0.03\n",
      "30   2041       1990      0.03\n",
      "31   2151       1994      0.08\n",
      "32   1981       2492     -0.21\n",
      "33   2234       2080      0.07\n",
      "34   2434       2035      0.20\n",
      "35   2511       2528     -0.01\n",
      "36   2507       2039      0.23\n",
      "37   2388       2612     -0.09\n",
      "38   2787       2207      0.26\n",
      "39   2435       2799     -0.13\n",
      "40   2203       2292     -0.04\n",
      "41   2912       2083      0.40\n",
      "42   2536       2003      0.27\n",
      "43   2387       1780      0.34\n",
      "44   2120       2135     -0.01\n",
      "45   2393       2114      0.13\n",
      "46   2415       2121      0.14\n",
      "47   2464       1760      0.40\n",
      "48   1746       1537      0.14\n",
      "49   2358       1634      0.44\n",
      "50   2027       1251      0.62\n",
      "51   1920       1850      0.04\n",
      "52   1901       1550      0.23\n",
      "53   1422       1553     -0.08\n",
      "54   1780       1690      0.05\n",
      "55   1810       1124      0.61\n",
      "56   1755       1386      0.27\n",
      "57   1272       1142      0.11\n",
      "58   1524        791      0.93\n",
      "59   1000       1045     -0.04\n",
      "60   1406       1464     -0.04\n",
      "61   1779        893      0.99\n",
      "62   1200       1128      0.06\n",
      "63   1316        841      0.56\n",
      "64    974       1102     -0.12\n",
      "65    957       1104     -0.13\n",
      "66   1113        991      0.12\n",
      "67    837       1001     -0.16\n",
      "68    798       1034     -0.23\n",
      "69    747        723      0.03\n",
      "70    670        851     -0.21\n",
      "71    672       1058     -0.36\n",
      "72    620        767     -0.19\n",
      "73    512        711     -0.28\n",
      "74    380        610     -0.38\n",
      "75    299        671     -0.55\n",
      "76    334        562     -0.41\n",
      "77    198        701     -0.72\n",
      "78    322        611     -0.47\n",
      "79    351        520     -0.33\n",
      "80    437        598     -0.27\n",
      "81    279        470     -0.41\n",
      "82    198        474     -0.58\n",
      "83    310        326     -0.05\n",
      "84    216        370     -0.42\n",
      "85    193       1379     -0.86\n",
      "86    137\n",
      "87     80\n",
      "88     72\n",
      "89     34\n",
      "90    122\n",
      "91     48\n",
      "92    139\n",
      "93     29\n"
     ]
    }
   ],
   "source": [
    "popages = pop.get_age_of_all_years_in_sim()\n",
    "popageCounts = pop.get_age_counts(popages)\n",
    "popages2 = pop2.get_age_of_all_years_in_sim()\n",
    "popageCount2s = pop2.get_age_counts(popages2)\n",
    "\n",
    "print(\"age pop-count pop2-count %diff\") \n",
    "for key in sorted(popageCounts):\n",
    "    if key in popageCount2s:\n",
    "        pcDiff =  (popageCounts[key] - popageCount2s[key])/popageCount2s[key]\n",
    "        print(f\"{key} {popageCounts[key]:>6.0f} {popageCount2s[key]:>10.0f} {pcDiff:>9.2f}\")\n",
    "    else:\n",
    "        print(f\"{key} {popageCounts[key]:>6.0f}\")"
   ]
  },
  {
   "cell_type": "code",
   "execution_count": 5,
   "id": "4e142ccd-18f2-48c9-ae16-84dc971b75d1",
   "metadata": {},
   "outputs": [],
   "source": [
    "#personsOut = list(filter( lambda x: ((x._sbp[0]>=72.) & (x._sbp[0]<=81.)) | ((x._sbp[0]>=207.) & (x._sbp[0]<=266.)) , pop2._people))\n",
    "#len(personsOut)"
   ]
  },
  {
   "cell_type": "code",
   "execution_count": 6,
   "id": "2d98875f-ffb2-4a26-a501-c27ec5ae6c05",
   "metadata": {},
   "outputs": [],
   "source": [
    "#personsOutUnique = set(map( lambda x: x._name, personsOut) )\n",
    "#len(personsOutUnique)"
   ]
  },
  {
   "cell_type": "code",
   "execution_count": 7,
   "id": "ae32a06e-6e90-4d37-bdd6-15a5524d1513",
   "metadata": {},
   "outputs": [
    {
     "name": "stdout",
     "output_type": "stream",
     "text": [
      "CPU times: user 36.1 s, sys: 6.27 s, total: 42.4 s\n",
      "Wall time: 7min 59s\n"
     ]
    }
   ],
   "source": [
    "%%time\n",
    "pop.advance(17, None, nWorkers=5)"
   ]
  },
  {
   "cell_type": "code",
   "execution_count": 8,
   "id": "ac477d58-d191-4617-b945-a13707465c97",
   "metadata": {},
   "outputs": [
    {
     "name": "stdout",
     "output_type": "stream",
     "text": [
      "CPU times: user 52.1 s, sys: 14.1 s, total: 1min 6s\n",
      "Wall time: 8min 13s\n"
     ]
    }
   ],
   "source": [
    "%%time\n",
    "pop2.advance(17, None, nWorkers=5)"
   ]
  },
  {
   "cell_type": "code",
   "execution_count": 9,
   "id": "cb82b216-5cc2-4a4c-972f-407c3337d74e",
   "metadata": {},
   "outputs": [
    {
     "name": "stdout",
     "output_type": "stream",
     "text": [
      "                                 self                                             other\n",
      "                                 min    0.25   med    0.75    max   mean    sd    min    0.25   med    0.75    max   mean    sd\n",
      "                           age   35.0   48.0   57.0   67.0  100.0   57.8   12.7   35.0   45.0   55.0   65.0  102.0   56.0   13.6\n",
      "                           sbp   83.6  123.2  131.3  140.2  193.4  132.0   13.2   80.2  120.3  128.6  138.4  253.5  130.1   15.0\n",
      "                           dbp   47.5   73.7   81.3   88.7  124.8   81.5   10.8   44.3   73.6   81.7   89.9  152.5   81.9   11.6\n",
      "                           a1c    4.6    5.5    5.8    6.1    8.6    5.8    0.4    4.0    5.5    5.7    6.1   10.6    5.8    0.6\n",
      "                           hdl    5.4   38.9   51.1   63.7  138.0   52.1   18.6    5.4   35.0   47.2   62.3  171.2   49.8   21.2\n",
      "                           ldl    8.1   94.2  112.0  129.5  219.0  111.7   26.3    8.1   94.2  114.9  133.2  250.9  112.8   30.4\n",
      "                          trig    9.0  113.1  157.6  202.4  472.3  158.2   64.5    9.0  103.6  148.6  196.8  456.7  153.4   69.3\n",
      "                       totChol  122.8  182.9  193.4  204.5  258.8  193.7   16.1  105.1  180.6  192.3  203.7  277.7  191.9   17.7\n",
      "                           bmi   10.8   24.9   29.1   33.5   59.7   29.3    6.6   10.8   24.9   29.0   34.1   89.1   30.2    8.2\n",
      "           anyPhysicalActivity    0.0    0.0    1.0    1.0    1.0    0.6    0.5    0.0    0.0    1.0    1.0    1.0    0.7    0.5\n",
      "                          afib    0.0    0.0    0.0    0.0    1.0    0.2    0.4    0.0    0.0    0.0    0.0    1.0    0.2    0.4\n",
      "                         waist   50.0   88.5   98.2  108.5  160.2   98.6   14.8   50.0   87.5   97.9  109.9  196.9   99.9   18.3\n",
      "                alcoholPerWeek    0.0    1.0    1.0    1.0    2.0    1.0    0.3    0.0    1.0    1.0    1.0    2.0    1.0    0.4\n",
      "                    creatinine    0.1    0.4    0.7    0.9    2.4    0.7    0.3    0.1    0.5    0.7    1.0   13.4    0.7    0.5\n",
      "                           pvd    0.0    0.0    0.0    0.0    1.0    0.0    0.2    0.0    0.0    0.0    0.0    1.0    0.0    0.2\n",
      "                                 self   other\n",
      "                                 proportions\n",
      "                 raceEthnicity\n",
      "                             1   0.07   0.07\n",
      "                             2   0.08   0.08\n",
      "                             3   0.69   0.70\n",
      "                             4   0.11   0.11\n",
      "                             5   0.05   0.05\n",
      "                     education\n",
      "                             1   0.07   0.07\n",
      "                             2   0.16   0.16\n",
      "                             3   0.25   0.25\n",
      "                             4   0.30   0.30\n",
      "                             5   0.22   0.22\n",
      "                        gender\n",
      "                             1   0.48   0.48\n",
      "                             2   0.52   0.52\n",
      "                 smokingStatus\n",
      "                             0   0.52   0.52\n",
      "                             1   0.23   0.24\n",
      "                             2   0.24   0.24\n"
     ]
    }
   ],
   "source": [
    "pop.print_lastyear_summary_comparison(pop2)"
   ]
  },
  {
   "cell_type": "code",
   "execution_count": 10,
   "id": "44dfea2e-233f-4a58-8bd6-a2ca4b0bcaae",
   "metadata": {},
   "outputs": [
    {
     "name": "stdout",
     "output_type": "stream",
     "text": [
      "standardized rates (per 100,000)    all        black      white\n",
      "                            mi      216.6      219.5      227.4\n",
      "                        stroke      153.0      254.8      118.0\n",
      "                         death      819.7      931.1      841.3\n",
      "                            cv      369.5      474.3      345.4\n",
      "                         noncv      770.6      873.2      793.6\n",
      "                      dementia      258.2      546.7      222.6\n",
      "CPU times: user 6min 24s, sys: 32.6 s, total: 6min 57s\n",
      "Wall time: 7min 2s\n"
     ]
    }
   ],
   "source": [
    "%%time\n",
    "pop.print_cv_standardized_rates()"
   ]
  },
  {
   "cell_type": "code",
   "execution_count": 11,
   "id": "68a55ee7-8a83-4669-bbbd-1a7873886cab",
   "metadata": {},
   "outputs": [
    {
     "name": "stdout",
     "output_type": "stream",
     "text": [
      "standardized rates (per 100,000)    all        black      white\n",
      "                            mi      238.6      216.4      252.0\n",
      "                        stroke      158.9      290.2      125.0\n",
      "                         death      864.9      956.9      878.6\n",
      "                            cv      397.5      506.6      377.0\n",
      "                         noncv      807.3      888.2      823.9\n",
      "                      dementia      275.7      577.5      235.1\n",
      "CPU times: user 6min 34s, sys: 28.5 s, total: 7min 3s\n",
      "Wall time: 7min 6s\n"
     ]
    }
   ],
   "source": [
    "%%time\n",
    "pop2.print_cv_standardized_rates()"
   ]
  },
  {
   "cell_type": "code",
   "execution_count": null,
   "id": "85e87b05-3c36-4c48-be8f-ee97b14e5d99",
   "metadata": {},
   "outputs": [],
   "source": []
  }
 ],
 "metadata": {
  "kernelspec": {
   "display_name": "microsimKernel",
   "language": "python",
   "name": "microsimkernel"
  },
  "language_info": {
   "codemirror_mode": {
    "name": "ipython",
    "version": 3
   },
   "file_extension": ".py",
   "mimetype": "text/x-python",
   "name": "python",
   "nbconvert_exporter": "python",
   "pygments_lexer": "ipython3",
   "version": "3.9.13"
  }
 },
 "nbformat": 4,
 "nbformat_minor": 5
}
