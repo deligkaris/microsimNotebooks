{
 "cells": [
  {
   "cell_type": "markdown",
   "id": "21ab84a0-7c59-49b8-97b9-bb5cffc7bd79",
   "metadata": {},
   "source": [
    "The goal of this notebook is to compare two populations...one sampled from the NHANES dataset directly and one sampled from the Gaussian distributions which were in turn obtained from the NHANES dataset...hence the goal is to validate the Gaussian distributions we obtained...\n",
    "\n",
    "First we read the df with the person information as obtained from the Gaussian distributions, then we create Person-objects, and then the population object. Finally we compare this population and the NHANESDirectSamplePopulation in baseline characteristics, characteristics over time, and cv events."
   ]
  },
  {
   "cell_type": "code",
   "execution_count": 1,
   "id": "22432516-568b-41c5-9eb5-770d81b2afb9",
   "metadata": {},
   "outputs": [],
   "source": [
    "import os\n",
    "import copy\n",
    "import pandas as pd\n",
    "pd.set_option('display.max_columns', None)\n",
    "pd.set_option('display.max_rows', None)\n",
    "import numpy as np\n",
    "import matplotlib.pyplot as plt\n",
    "from collections import Counter\n",
    "from scipy.stats import multivariate_normal\n",
    "\n",
    "from microsim.population import (NHANESDirectSamplePopulation, \n",
    "                                 build_people_using_nhanes_for_sampling,\n",
    "                                 microsimToNhanes, Population, get_nhanes_population)\n",
    "from microsim.risk_model_repository import RiskModelRepository\n",
    "from microsim.gender import NHANESGender\n",
    "from microsim.smoking_status import SmokingStatus\n",
    "from microsim.race_ethnicity import NHANESRaceEthnicity\n",
    "from microsim.education import Education\n",
    "from microsim.treatment import DefaultTreatmentsType,  TreatmentStrategiesType\n",
    "from microsim.risk_factor import StaticRiskFactorsType, DynamicRiskFactorsType\n",
    "from microsim.afib_model import AFibPrevalenceModel\n",
    "from microsim.pvd_model import PVDPrevalenceModel\n",
    "from microsim.outcome import Outcome, OutcomeType\n",
    "from microsim.person import Person\n",
    "from microsim.population_model_repository import PopulationModelRepository\n",
    "from microsim.cohort_risk_model_repository import (CohortStaticRiskFactorModelRepository,\n",
    "                                                   CohortDynamicRiskFactorModelRepository,\n",
    "                                                   CohortDefaultTreatmentModelRepository)\n",
    "from microsim.outcome_model_repository import OutcomeModelRepository\n",
    "\n",
    "microsimDir = \"/Users/deligkaris.1/OneDrive - The Ohio State University Wexner Medical Center/MICROSIM\"\n",
    "os.chdir(microsimDir+\"/CODE/microsim\")\n",
    "\n",
    "dataDir = microsimDir+\"/NOTEBOOKS/DATA\"\n",
    "\n",
    "popSize = 100000"
   ]
  },
  {
   "cell_type": "code",
   "execution_count": 2,
   "id": "f7ee2a27-1aed-4f28-843c-9c4eaf3125b1",
   "metadata": {},
   "outputs": [],
   "source": [
    "categoricalVars = [\"gender\", \"smokingStatus\", \"raceEthnicity\", \"statin\",'education',\n",
    "                  'alcoholPerWeek','anyPhysicalActivity','antiHypertensiveCount']\n",
    "continuousVars = ['age', 'hdl', 'bmi', 'totChol', 'trig', 'a1c', 'ldl', 'waist', 'creatinine', 'sbp', 'dbp']"
   ]
  },
  {
   "cell_type": "code",
   "execution_count": 3,
   "id": "2068b91d-74f2-40cc-82be-ead2aac71682",
   "metadata": {},
   "outputs": [],
   "source": [
    "nhanesDf = pd.read_stata(microsimDir + \"/CODE/microsim/microsim/data/fullyImputedDataset.dta\")\n",
    "nhanesDf = nhanesDf.rename(columns={\"level_0\":\"name\"})"
   ]
  },
  {
   "cell_type": "code",
   "execution_count": 4,
   "id": "78be559d-402e-49d3-ba18-b6853f0b10a3",
   "metadata": {},
   "outputs": [
    {
     "data": {
      "text/html": [
       "<div>\n",
       "<style scoped>\n",
       "    .dataframe tbody tr th:only-of-type {\n",
       "        vertical-align: middle;\n",
       "    }\n",
       "\n",
       "    .dataframe tbody tr th {\n",
       "        vertical-align: top;\n",
       "    }\n",
       "\n",
       "    .dataframe thead th {\n",
       "        text-align: right;\n",
       "    }\n",
       "</style>\n",
       "<table border=\"1\" class=\"dataframe\">\n",
       "  <thead>\n",
       "    <tr style=\"text-align: right;\">\n",
       "      <th></th>\n",
       "      <th>name</th>\n",
       "      <th>gender</th>\n",
       "      <th>smokingStatus</th>\n",
       "      <th>raceEthnicity</th>\n",
       "      <th>statin</th>\n",
       "      <th>education</th>\n",
       "      <th>alcoholPerWeek</th>\n",
       "      <th>anyPhysicalActivity</th>\n",
       "      <th>antiHypertensiveCount</th>\n",
       "      <th>age</th>\n",
       "      <th>hdl</th>\n",
       "      <th>bmi</th>\n",
       "      <th>totChol</th>\n",
       "      <th>trig</th>\n",
       "      <th>a1c</th>\n",
       "      <th>ldl</th>\n",
       "      <th>waist</th>\n",
       "      <th>creatinine</th>\n",
       "      <th>sbp</th>\n",
       "      <th>dbp</th>\n",
       "    </tr>\n",
       "  </thead>\n",
       "  <tbody>\n",
       "    <tr>\n",
       "      <th>0</th>\n",
       "      <td>41909</td>\n",
       "      <td>1</td>\n",
       "      <td>0</td>\n",
       "      <td>1</td>\n",
       "      <td>False</td>\n",
       "      <td>1</td>\n",
       "      <td>0</td>\n",
       "      <td>0</td>\n",
       "      <td>0.0</td>\n",
       "      <td>54</td>\n",
       "      <td>41.167309</td>\n",
       "      <td>25.694482</td>\n",
       "      <td>214.167769</td>\n",
       "      <td>210.549305</td>\n",
       "      <td>5.389349</td>\n",
       "      <td>148.330353</td>\n",
       "      <td>102.545480</td>\n",
       "      <td>0.688871</td>\n",
       "      <td>131.688014</td>\n",
       "      <td>78.255367</td>\n",
       "    </tr>\n",
       "    <tr>\n",
       "      <th>1</th>\n",
       "      <td>42688</td>\n",
       "      <td>1</td>\n",
       "      <td>0</td>\n",
       "      <td>1</td>\n",
       "      <td>False</td>\n",
       "      <td>1</td>\n",
       "      <td>0</td>\n",
       "      <td>0</td>\n",
       "      <td>0.0</td>\n",
       "      <td>51</td>\n",
       "      <td>46.384726</td>\n",
       "      <td>31.935565</td>\n",
       "      <td>164.732679</td>\n",
       "      <td>110.189826</td>\n",
       "      <td>5.286215</td>\n",
       "      <td>81.605992</td>\n",
       "      <td>112.511680</td>\n",
       "      <td>0.762213</td>\n",
       "      <td>137.004879</td>\n",
       "      <td>74.640230</td>\n",
       "    </tr>\n",
       "    <tr>\n",
       "      <th>2</th>\n",
       "      <td>43025</td>\n",
       "      <td>1</td>\n",
       "      <td>0</td>\n",
       "      <td>1</td>\n",
       "      <td>False</td>\n",
       "      <td>1</td>\n",
       "      <td>0</td>\n",
       "      <td>0</td>\n",
       "      <td>0.0</td>\n",
       "      <td>36</td>\n",
       "      <td>47.408049</td>\n",
       "      <td>28.315046</td>\n",
       "      <td>260.486802</td>\n",
       "      <td>126.640687</td>\n",
       "      <td>5.668748</td>\n",
       "      <td>177.731299</td>\n",
       "      <td>99.632114</td>\n",
       "      <td>0.857567</td>\n",
       "      <td>121.974670</td>\n",
       "      <td>90.400776</td>\n",
       "    </tr>\n",
       "    <tr>\n",
       "      <th>3</th>\n",
       "      <td>43390</td>\n",
       "      <td>1</td>\n",
       "      <td>0</td>\n",
       "      <td>1</td>\n",
       "      <td>False</td>\n",
       "      <td>1</td>\n",
       "      <td>0</td>\n",
       "      <td>0</td>\n",
       "      <td>0.0</td>\n",
       "      <td>40</td>\n",
       "      <td>45.379713</td>\n",
       "      <td>30.468159</td>\n",
       "      <td>215.360517</td>\n",
       "      <td>117.954243</td>\n",
       "      <td>5.686785</td>\n",
       "      <td>135.276734</td>\n",
       "      <td>103.727511</td>\n",
       "      <td>0.715434</td>\n",
       "      <td>113.273055</td>\n",
       "      <td>70.062711</td>\n",
       "    </tr>\n",
       "    <tr>\n",
       "      <th>4</th>\n",
       "      <td>44501</td>\n",
       "      <td>1</td>\n",
       "      <td>0</td>\n",
       "      <td>1</td>\n",
       "      <td>False</td>\n",
       "      <td>1</td>\n",
       "      <td>0</td>\n",
       "      <td>0</td>\n",
       "      <td>0.0</td>\n",
       "      <td>74</td>\n",
       "      <td>53.576906</td>\n",
       "      <td>22.736810</td>\n",
       "      <td>223.833927</td>\n",
       "      <td>63.617831</td>\n",
       "      <td>6.194046</td>\n",
       "      <td>170.082194</td>\n",
       "      <td>95.710354</td>\n",
       "      <td>0.696987</td>\n",
       "      <td>123.342909</td>\n",
       "      <td>81.288198</td>\n",
       "    </tr>\n",
       "  </tbody>\n",
       "</table>\n",
       "</div>"
      ],
      "text/plain": [
       "    name  gender  smokingStatus  raceEthnicity  statin  education  \\\n",
       "0  41909       1              0              1   False          1   \n",
       "1  42688       1              0              1   False          1   \n",
       "2  43025       1              0              1   False          1   \n",
       "3  43390       1              0              1   False          1   \n",
       "4  44501       1              0              1   False          1   \n",
       "\n",
       "   alcoholPerWeek  anyPhysicalActivity  antiHypertensiveCount  age        hdl  \\\n",
       "0               0                    0                    0.0   54  41.167309   \n",
       "1               0                    0                    0.0   51  46.384726   \n",
       "2               0                    0                    0.0   36  47.408049   \n",
       "3               0                    0                    0.0   40  45.379713   \n",
       "4               0                    0                    0.0   74  53.576906   \n",
       "\n",
       "         bmi     totChol        trig       a1c         ldl       waist  \\\n",
       "0  25.694482  214.167769  210.549305  5.389349  148.330353  102.545480   \n",
       "1  31.935565  164.732679  110.189826  5.286215   81.605992  112.511680   \n",
       "2  28.315046  260.486802  126.640687  5.668748  177.731299   99.632114   \n",
       "3  30.468159  215.360517  117.954243  5.686785  135.276734  103.727511   \n",
       "4  22.736810  223.833927   63.617831  6.194046  170.082194   95.710354   \n",
       "\n",
       "   creatinine         sbp        dbp  \n",
       "0    0.688871  131.688014  78.255367  \n",
       "1    0.762213  137.004879  74.640230  \n",
       "2    0.857567  121.974670  90.400776  \n",
       "3    0.715434  113.273055  70.062711  \n",
       "4    0.696987  123.342909  81.288198  "
      ]
     },
     "execution_count": 4,
     "metadata": {},
     "output_type": "execute_result"
    }
   ],
   "source": [
    "df = pd.read_csv(dataDir+\"/nhanes-as-gaussians-02.csv\")\n",
    "#df = pd.read_csv(dataDir+\"/nhanes-persons-from-uniforms.csv\")\n",
    "df.head()"
   ]
  },
  {
   "cell_type": "code",
   "execution_count": 5,
   "id": "f4a9e3bc-4dd7-4d16-bd61-7a633c141b60",
   "metadata": {},
   "outputs": [
    {
     "data": {
      "text/plain": [
       "count    5448.000000\n",
       "mean       44.689611\n",
       "std        16.418813\n",
       "min        16.000000\n",
       "25%        32.000000\n",
       "50%        43.000000\n",
       "75%        56.000000\n",
       "max        93.000000\n",
       "Name: age, dtype: float64"
      ]
     },
     "execution_count": 5,
     "metadata": {},
     "output_type": "execute_result"
    }
   ],
   "source": [
    "df[\"age\"].describe()"
   ]
  },
  {
   "cell_type": "code",
   "execution_count": 6,
   "id": "09e12f84-2da8-48b2-8476-fd97769c0cb8",
   "metadata": {},
   "outputs": [
    {
     "data": {
      "text/plain": [
       "(5448, 20)"
      ]
     },
     "execution_count": 6,
     "metadata": {},
     "output_type": "execute_result"
    }
   ],
   "source": [
    "df.shape"
   ]
  },
  {
   "cell_type": "code",
   "execution_count": 7,
   "id": "415dea93-c31e-431f-9c38-0185012908f4",
   "metadata": {},
   "outputs": [
    {
     "data": {
      "text/plain": [
       "(5448, 21)"
      ]
     },
     "execution_count": 7,
     "metadata": {},
     "output_type": "execute_result"
    }
   ],
   "source": [
    "#bring the original nhanes weights because these will help me do the sampling\n",
    "df = df.merge(nhanesDf[[\"name\",\"WTINT2YR\"]], on=\"name\", how=\"inner\").copy()\n",
    "df.shape"
   ]
  },
  {
   "cell_type": "code",
   "execution_count": 8,
   "id": "e5821546-fe48-4827-89b7-f83ed54d96e2",
   "metadata": {},
   "outputs": [],
   "source": [
    "def build_person(x, initializationModelRepository):\n",
    "    \"\"\"Takes all Person-instance-related data via x and initializationModelRepository and organizes it,\n",
    "       passes the organized data to the Person class and returns a Person instance.\"\"\"\n",
    "    \n",
    "    rng = np.random.default_rng()\n",
    "        \n",
    "    name = x.name\n",
    "    \n",
    "    personStaticRiskFactors = {\n",
    "                        StaticRiskFactorsType.RACE_ETHNICITY.value: NHANESRaceEthnicity(int(x.raceEthnicity)),\n",
    "                        StaticRiskFactorsType.EDUCATION.value: Education(int(x.education)),\n",
    "                        StaticRiskFactorsType.GENDER.value: NHANESGender(int(x.gender)),\n",
    "                        StaticRiskFactorsType.SMOKING_STATUS.value: SmokingStatus(int(x.smokingStatus))}\n",
    "        \n",
    "    #use this to get the bounds imposed on the risk factors in a bit\n",
    "    rfRepository = RiskModelRepository()\n",
    "        \n",
    "    #TO DO: find a way to include everything here, including the rfs that need initialization\n",
    "    #the PVD model would be easy to implement, eg with an estimate_next_risk_for_patient_characteristics function\n",
    "    #but the AFIB model would be more difficult because it relies on statsmodel_logistic_risk file\n",
    "    #for now include None, in order to create the risk factor lists correctly at the Person instance\n",
    "    personDynamicRiskFactors = dict()\n",
    "    for rfd in DynamicRiskFactorsType:\n",
    "        #if rfd==DynamicRiskFactorsType.ALCOHOL_PER_WEEK:\n",
    "        #    personDynamicRiskFactors[rfd.value] = AlcoholCategory.get_category_for_consumption(rfRepository.apply_bounds(rfd.value, x[microsimToNhanes[rfd.value]]))\n",
    "        #else:\n",
    "        if (rfd!=DynamicRiskFactorsType.PVD) & (rfd!=DynamicRiskFactorsType.AFIB):\n",
    "            personDynamicRiskFactors[rfd.value] = rfRepository.apply_bounds(rfd.value, x[rfd.value])\n",
    "    personDynamicRiskFactors[DynamicRiskFactorsType.AFIB.value] = None\n",
    "    personDynamicRiskFactors[DynamicRiskFactorsType.PVD.value] = None\n",
    "\n",
    "    #Q: do we need otherLipid treatment? I am not bringing it to the Person objects for now.\n",
    "    #A: it is ok to leave it out as we do not have a model to update this. It is also very rarely taking place in the population anyway.\n",
    "    #also: used to have round(x.statin) but NHANES includes statin=2...\n",
    "    personDefaultTreatments = {\n",
    "                        DefaultTreatmentsType.STATIN.value: bool(x.statin),\n",
    "                        #DefaultTreatmentsType.OTHER_LIPID_LOWERING_MEDICATION_COUNT.value: x.otherLipidLowering,\n",
    "                        DefaultTreatmentsType.ANTI_HYPERTENSIVE_COUNT.value: x.antiHypertensiveCount}\n",
    "\n",
    "    personTreatmentStrategies = dict(zip([strategy.value for strategy in TreatmentStrategiesType],\n",
    "                                         #[None for strategy in range(len(TreatmentStrategiesType))]))\n",
    "                                         [{\"status\": None} for strategy in range(len(TreatmentStrategiesType))]))\n",
    "\n",
    "    personOutcomes = dict(zip([outcome for outcome in OutcomeType],\n",
    "                                  [list() for outcome in range(len(OutcomeType))]))\n",
    "    #add pre-simulation stroke outcomes\n",
    "    #selfReportStrokeAge=x.selfReportStrokeAge\n",
    "    #Q: we should not add the stroke outcome in case of \"else\"?\n",
    "    #if selfReportStrokeAge is not None and selfReportStrokeAge > 1:\n",
    "    #        selfReportStrokeAge = selfReportStrokeAge if selfReportStrokeAge <= x.age else x.age\n",
    "    #        personOutcomes[OutcomeType.STROKE].append((selfReportStrokeAge, StrokeOutcome(False, None, None, None, priorToSim=True)))\n",
    "    #add pre-simulation mi outcomes\n",
    "    #selfReportMIAge=rng.integers(18, x.age) if x.selfReportMIAge == 99999 else x.selfReportMIAge\n",
    "    #if selfReportMIAge is not None and selfReportMIAge > 1:\n",
    "    #        selfReportMIAge = selfReportMIAge if selfReportMIAge <= x.age else x.age\n",
    "    #        personOutcomes[OutcomeType.MI].append((selfReportMIAge, Outcome(OutcomeType.MI, False, priorToSim=True)))\n",
    "\n",
    "    person = Person(name,\n",
    "                   personStaticRiskFactors,\n",
    "                   personDynamicRiskFactors,\n",
    "                   personDefaultTreatments,\n",
    "                   personTreatmentStrategies,\n",
    "                   personOutcomes)\n",
    "\n",
    "    #TO DO: find a way to initialize these rfs above with everything else\n",
    "    person._pvd = [initializationModelRepository[DynamicRiskFactorsType.PVD].estimate_next_risk(person)]\n",
    "    person._afib = [initializationModelRepository[DynamicRiskFactorsType.AFIB].estimate_next_risk(person)]\n",
    "    return person\n"
   ]
  },
  {
   "cell_type": "code",
   "execution_count": 9,
   "id": "10e08df7-e651-45b2-bd84-d185ab1d6e9d",
   "metadata": {},
   "outputs": [],
   "source": [
    "initializationModelRepository = {DynamicRiskFactorsType.AFIB: AFibPrevalenceModel(), \n",
    "                                     DynamicRiskFactorsType.PVD: PVDPrevalenceModel()}"
   ]
  },
  {
   "cell_type": "code",
   "execution_count": 10,
   "id": "18c8a41b-26a6-4d2f-a954-6be311582122",
   "metadata": {},
   "outputs": [],
   "source": [
    "dfSample = df.sample(popSize, weights=df.WTINT2YR, replace=True)"
   ]
  },
  {
   "cell_type": "code",
   "execution_count": 11,
   "id": "417efbb6-9a51-4e9d-8de5-48e7b5f53cc8",
   "metadata": {},
   "outputs": [],
   "source": [
    "people = dfSample.apply(lambda x: build_person(x, initializationModelRepository), axis=1)"
   ]
  },
  {
   "cell_type": "code",
   "execution_count": 12,
   "id": "6892241c-39d2-4a9e-b41f-ac673eb0d7f6",
   "metadata": {},
   "outputs": [],
   "source": [
    "#sets the unique identifier for each Person instance\n",
    "noneList = list(map(lambda person, i: setattr(person, \"_index\", i), people, range(len(people)))) "
   ]
  },
  {
   "cell_type": "code",
   "execution_count": 13,
   "id": "0be6f713-cd96-4038-b54c-ca7c3a9b4cb5",
   "metadata": {},
   "outputs": [],
   "source": [
    "popModelRepository = PopulationModelRepository(CohortDynamicRiskFactorModelRepository(),\n",
    "                                                           CohortDefaultTreatmentModelRepository(),\n",
    "                                                           OutcomeModelRepository(),\n",
    "                                                           CohortStaticRiskFactorModelRepository()) \n",
    "pop = Population(people, popModelRepository)"
   ]
  },
  {
   "cell_type": "code",
   "execution_count": 14,
   "id": "6790d1ae-f5dd-4c21-ab10-f8312a8e1122",
   "metadata": {},
   "outputs": [
    {
     "data": {
      "text/plain": [
       "(100000,)"
      ]
     },
     "execution_count": 14,
     "metadata": {},
     "output_type": "execute_result"
    }
   ],
   "source": [
    "pop._people.shape"
   ]
  },
  {
   "cell_type": "code",
   "execution_count": 15,
   "id": "bc809f7b-ea81-4684-83df-1f7717671f53",
   "metadata": {},
   "outputs": [],
   "source": [
    "#pop2 = get_nhanes_population(1999)\n",
    "pop2 = NHANESDirectSamplePopulation(popSize, 1999)\n",
    "pop2.advance(1)\n",
    "#pop2.print_baseline_summary()"
   ]
  },
  {
   "cell_type": "code",
   "execution_count": 16,
   "id": "d4eae7df-5eab-4bc0-a567-48c3750f2b1a",
   "metadata": {},
   "outputs": [
    {
     "name": "stdout",
     "output_type": "stream",
     "text": [
      "                                 self                                             other\n",
      "                                 min    0.25   med    0.75    max   mean    sd    min    0.25   med    0.75    max   mean    sd\n",
      "                           age   18.0   33.0   43.0   55.0   93.0   44.7   15.4   18.0   30.0   41.0   55.0   85.0   43.7   17.2\n",
      "                           sbp   77.4  112.8  122.1  133.8  221.1  124.0   16.7   72.7  109.3  119.3  131.3  266.0  122.6   19.0\n",
      "                           dbp   37.9   65.7   72.3   78.8  121.9   72.4    9.8   40.0   65.3   72.0   79.3  132.0   72.4   11.2\n",
      "                           a1c    3.7    5.0    5.2    5.6   10.1    5.4    0.6    2.5    5.0    5.2    5.5   15.1    5.4    0.9\n",
      "                           hdl   18.0   42.4   51.3   60.5  114.1   52.2   13.4    8.0   40.0   48.0   59.0  151.0   50.9   15.7\n",
      "                           ldl   39.9  106.5  127.1  148.4  238.7  128.1   30.7   28.0   97.0  120.0  144.0  344.0  122.9   36.9\n",
      "                          trig   30.2  104.9  144.5  195.1  914.0  160.1   84.3   12.0   83.0  120.0  177.0  1761.0  146.7  111.6\n",
      "                       totChol  101.3  183.8  207.6  232.4  331.9  208.6   35.7   72.0  173.0  198.0  227.0  426.0  201.4   41.7\n",
      "                           bmi   15.6   24.3   27.6   30.8   53.0   27.8    4.9   12.0   23.4   26.6   31.0   67.8   27.8    6.3\n",
      "           anyPhysicalActivity    0.0    0.0    1.0    1.0    1.0    0.7    0.5    0.0    0.0    1.0    1.0    1.0    0.7    0.5\n",
      "                          afib    0.0    0.0    0.0    0.0    1.0    0.0    0.1    0.0    0.0    0.0    0.0    1.0    0.0    0.1\n",
      "                         waist   57.5   87.1   95.1  104.1  151.8   95.7   12.9   58.5   83.5   93.4  104.6  173.4   95.0   15.9\n",
      "                alcoholPerWeek    0.0    0.0    2.0    3.0    3.0    1.9    1.3    0.0    0.0    2.0    3.0    3.0    1.9    1.3\n",
      "                    creatinine    0.2    0.6    0.7    0.8    1.6    0.7    0.2    0.2    0.6    0.7    0.9   11.8    0.8    0.4\n",
      "                           pvd    0.0    0.0    0.0    0.0    1.0    0.0    0.2    0.0    0.0    0.0    0.0    1.0    0.0    0.2\n",
      "                                 self   other\n",
      "                                 proportions\n",
      "                 raceEthnicity\n",
      "                             1   0.07   0.07\n",
      "                             2   0.08   0.08\n",
      "                             3   0.70   0.70\n",
      "                             4   0.11   0.11\n",
      "                             5   0.05   0.05\n",
      "                     education\n",
      "                             1   0.07   0.07\n",
      "                             2   0.16   0.16\n",
      "                             3   0.25   0.25\n",
      "                             4   0.30   0.30\n",
      "                             5   0.22   0.22\n",
      "                        gender\n",
      "                             1   0.48   0.48\n",
      "                             2   0.52   0.52\n",
      "                 smokingStatus\n",
      "                             0   0.53   0.52\n",
      "                             1   0.23   0.23\n",
      "                             2   0.24   0.24\n"
     ]
    }
   ],
   "source": [
    "pop.print_baseline_summary_comparison(pop2)"
   ]
  },
  {
   "cell_type": "code",
   "execution_count": 17,
   "id": "51ee5300-ba34-43a6-a5a4-0f27f9f7a9c7",
   "metadata": {},
   "outputs": [
    {
     "name": "stdout",
     "output_type": "stream",
     "text": [
      "age pop-count pop2-count %diff\n",
      "18   1392       1756     -0.21\n",
      "19    631       2044     -0.69\n",
      "20    774       1983     -0.61\n",
      "21   1262       2299     -0.45\n",
      "22   1166       2428     -0.52\n",
      "23   1416       1920     -0.26\n",
      "24   1490       1836     -0.19\n",
      "25   1908       1654      0.15\n",
      "26   1865       1918     -0.03\n",
      "27   1641       1513      0.08\n",
      "28   2198       2120      0.04\n",
      "29   1885       2286     -0.18\n",
      "30   2117       1994      0.06\n",
      "31   2021       2079     -0.03\n",
      "32   2556       2637     -0.03\n",
      "33   1918       1936     -0.01\n",
      "34   2830       2075      0.36\n",
      "35   2143       2521     -0.15\n",
      "36   2483       2030      0.22\n",
      "37   2972       2558      0.16\n",
      "38   1778       2165     -0.18\n",
      "39   2856       2701      0.06\n",
      "40   2644       2278      0.16\n",
      "41   2303       2034      0.13\n",
      "42   2625       2037      0.29\n",
      "43   2800       1784      0.57\n",
      "44   3014       2105      0.43\n",
      "45   1698       2071     -0.18\n",
      "46   2450       2240      0.09\n",
      "47   2211       1743      0.27\n",
      "48   1805       1523      0.19\n",
      "49   2075       1677      0.24\n",
      "50   1629       1215      0.34\n",
      "51   2071       1823      0.14\n",
      "52   1909       1484      0.29\n",
      "53   2035       1529      0.33\n",
      "54   1847       1725      0.07\n",
      "55   1607       1099      0.46\n",
      "56   1638       1424      0.15\n",
      "57   1566       1094      0.43\n",
      "58   1676        805      1.08\n",
      "59   1216       1067      0.14\n",
      "60   1432       1436     -0.00\n",
      "61   1298        901      0.44\n",
      "62   1155       1173     -0.02\n",
      "63   1134        835      0.36\n",
      "64   1155       1085      0.06\n",
      "65    715       1071     -0.33\n",
      "66   1019        967      0.05\n",
      "67    921        957     -0.04\n",
      "68    964        966     -0.00\n",
      "69    667        757     -0.12\n",
      "70    757        862     -0.12\n",
      "71    557       1043     -0.47\n",
      "72    949        723      0.31\n",
      "73    674        708     -0.05\n",
      "74    360        565     -0.36\n",
      "75    416        682     -0.39\n",
      "76    350        535     -0.35\n",
      "77    413        741     -0.44\n",
      "78    574        569      0.01\n",
      "79    472        591     -0.20\n",
      "80    194        582     -0.67\n",
      "81    297        457     -0.35\n",
      "82    144        486     -0.70\n",
      "83    259        322     -0.20\n",
      "84    253        368     -0.31\n",
      "85    130       1408     -0.91\n",
      "86    169\n",
      "87     99\n",
      "88    107\n",
      "89     33\n",
      "90     34\n",
      "91     31\n",
      "92     86\n",
      "93     61\n"
     ]
    }
   ],
   "source": [
    "popages = pop.get_age_of_all_years_in_sim()\n",
    "popageCounts = pop.get_age_counts(popages)\n",
    "popages2 = pop2.get_age_of_all_years_in_sim()\n",
    "popageCount2s = pop2.get_age_counts(popages2)\n",
    "\n",
    "print(\"age pop-count pop2-count %diff\") \n",
    "for key in sorted(popageCounts):\n",
    "    if key in popageCount2s:\n",
    "        pcDiff =  (popageCounts[key] - popageCount2s[key])/popageCount2s[key]\n",
    "        print(f\"{key} {popageCounts[key]:>6.0f} {popageCount2s[key]:>10.0f} {pcDiff:>9.2f}\")\n",
    "    else:\n",
    "        print(f\"{key} {popageCounts[key]:>6.0f}\")"
   ]
  },
  {
   "cell_type": "code",
   "execution_count": null,
   "id": "4e142ccd-18f2-48c9-ae16-84dc971b75d1",
   "metadata": {},
   "outputs": [],
   "source": [
    "#personsOut = list(filter( lambda x: ((x._sbp[0]>=72.) & (x._sbp[0]<=81.)) | ((x._sbp[0]>=207.) & (x._sbp[0]<=266.)) , pop2._people))\n",
    "#len(personsOut)"
   ]
  },
  {
   "cell_type": "code",
   "execution_count": null,
   "id": "2d98875f-ffb2-4a26-a501-c27ec5ae6c05",
   "metadata": {},
   "outputs": [],
   "source": [
    "#personsOutUnique = set(map( lambda x: x._name, personsOut) )\n",
    "#len(personsOutUnique)"
   ]
  },
  {
   "cell_type": "code",
   "execution_count": null,
   "id": "ae32a06e-6e90-4d37-bdd6-15a5524d1513",
   "metadata": {},
   "outputs": [],
   "source": [
    "%%time\n",
    "pop.advance(17, None, nWorkers=5)"
   ]
  },
  {
   "cell_type": "code",
   "execution_count": null,
   "id": "ac477d58-d191-4617-b945-a13707465c97",
   "metadata": {},
   "outputs": [],
   "source": [
    "%%time\n",
    "pop2.advance(17, None, nWorkers=5)"
   ]
  },
  {
   "cell_type": "code",
   "execution_count": null,
   "id": "cb82b216-5cc2-4a4c-972f-407c3337d74e",
   "metadata": {},
   "outputs": [],
   "source": [
    "pop.print_lastyear_summary_comparison(pop2)"
   ]
  },
  {
   "cell_type": "code",
   "execution_count": null,
   "id": "44dfea2e-233f-4a58-8bd6-a2ca4b0bcaae",
   "metadata": {},
   "outputs": [],
   "source": [
    "%%time\n",
    "pop.print_cv_standardized_rates()"
   ]
  },
  {
   "cell_type": "code",
   "execution_count": null,
   "id": "68a55ee7-8a83-4669-bbbd-1a7873886cab",
   "metadata": {},
   "outputs": [],
   "source": [
    "%%time\n",
    "pop2.print_cv_standardized_rates()"
   ]
  },
  {
   "cell_type": "code",
   "execution_count": null,
   "id": "4f527481-8a2c-4e1d-8dad-51e8958a8d3c",
   "metadata": {},
   "outputs": [],
   "source": [
    "%%time\n",
    "pop.print_dementia_incidence()"
   ]
  },
  {
   "cell_type": "code",
   "execution_count": null,
   "id": "0b8ffb30-d3ca-4eab-bade-f50470ac7211",
   "metadata": {},
   "outputs": [],
   "source": [
    "nYears=5\n",
    "nSimulations = 4\n",
    "for bpMedsAdded in [1]:\n",
    "    miRRList = list()\n",
    "    strokeRRList = list()\n",
    "    print(f\"\\nbpMedsAdded={bpMedsAdded}\")\n",
    "    for i in range(nSimulations):\n",
    "        treatmentPop = NHANESDirectSamplePopulation(popSize, 1999)\n",
    "        controlPop = NHANESDirectSamplePopulation(popSize, 1999)\n",
    "        treatmentStrategies = TreatmentStrategyRepository()\n",
    "        #treatmentStrategies._repository[TreatmentStrategiesType.BP.value] = AddASingleBPMedTreatmentStrategy()\n",
    "        treatmentStrategies._repository[TreatmentStrategiesType.BP.value] = AddNBPMedsTreatmentStrategy(bpMedsAdded)\n",
    "        treatmentPop.advance_parallel(1, treatmentStrategies = treatmentStrategies, nWorkers=nWorkers)\n",
    "        treatmentStrategies._repository[TreatmentStrategiesType.BP.value].status = TreatmentStrategyStatus.MAINTAIN\n",
    "        treatmentPop.advance_parallel(nYears-1, treatmentStrategies = treatmentStrategies, nWorkers=nWorkers)\n",
    "        controlPop.advance_parallel(nYears, nWorkers=nWorkers)\n",
    "        controlRisk = sum(list(map(lambda x: x.has_outcome_during_simulation(OutcomeType.STROKE),\n",
    "                                       controlPop._people)))/controlPop._n\n",
    "        treatmentRisk = sum(list(map(lambda x: x.has_outcome_during_simulation(OutcomeType.STROKE),\n",
    "                                         treatmentPop._people)))/treatmentPop._n\n",
    "        strokeRR = treatmentRisk/controlRisk\n",
    "        controlRisk = sum(list(map(lambda x: x.has_outcome_during_simulation(OutcomeType.MI),\n",
    "                                       controlPop._people)))/controlPop._n\n",
    "        treatmentRisk = sum(list(map(lambda x: x.has_outcome_during_simulation(OutcomeType.MI),\n",
    "                                         treatmentPop._people)))/treatmentPop._n\n",
    "        miRR = treatmentRisk/controlRisk\n",
    "        miRRList += [miRR]\n",
    "        strokeRRList += [strokeRR]\n",
    "        print(f\"\\t\\tsimulation={i}, stroke RR={strokeRR:<4.2f}, mi RR={miRR:<4.2f}\")\n",
    "    print(f\"average of {nSimulations} simulations: stroke RR={np.mean(strokeRRList):<4.2f}, mi RR={np.mean(miRRList):4.2f}\")\n",
    "    print(f\"sd of {nSimulations} simulations: stroke RR={np.std(strokeRRList):<4.2f}, mi RR={np.std(miRRList):<4.2f}\")\n"
   ]
  }
 ],
 "metadata": {
  "kernelspec": {
   "display_name": "microsimKernel",
   "language": "python",
   "name": "microsimkernel"
  },
  "language_info": {
   "codemirror_mode": {
    "name": "ipython",
    "version": 3
   },
   "file_extension": ".py",
   "mimetype": "text/x-python",
   "name": "python",
   "nbconvert_exporter": "python",
   "pygments_lexer": "ipython3",
   "version": "3.9.13"
  }
 },
 "nbformat": 4,
 "nbformat_minor": 5
}
