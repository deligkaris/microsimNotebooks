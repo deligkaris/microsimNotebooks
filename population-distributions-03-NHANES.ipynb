{
 "cells": [
  {
   "cell_type": "markdown",
   "id": "21ab84a0-7c59-49b8-97b9-bb5cffc7bd79",
   "metadata": {},
   "source": [
    "The goal of this notebook is to compare two populations...one sampled from the NHANES dataset directly and one sampled from the Gaussian distributions which were in turn obtained from the NHANES dataset...hence the goal is to validate the Gaussian distributions we obtained...\n",
    "\n",
    "First we read the df with the person information as obtained from the Gaussian distributions, then we create Person-objects, and then the population object. Finally we compare this population and the NHANESDirectSamplePopulation in baseline characteristics, characteristics over time, and cv events."
   ]
  },
  {
   "cell_type": "code",
   "execution_count": 1,
   "id": "22432516-568b-41c5-9eb5-770d81b2afb9",
   "metadata": {},
   "outputs": [],
   "source": [
    "import os\n",
    "import copy\n",
    "import pandas as pd\n",
    "pd.set_option('display.max_columns', None)\n",
    "pd.set_option('display.max_rows', None)\n",
    "import numpy as np\n",
    "import matplotlib.pyplot as plt\n",
    "from collections import Counter\n",
    "from scipy.stats import multivariate_normal\n",
    "\n",
    "from microsim.population import (NHANESDirectSamplePopulation, \n",
    "                                 build_people_using_nhanes_for_sampling,\n",
    "                                 microsimToNhanes, Population, get_nhanes_population)\n",
    "from microsim.risk_model_repository import RiskModelRepository\n",
    "from microsim.gender import NHANESGender\n",
    "from microsim.smoking_status import SmokingStatus\n",
    "from microsim.race_ethnicity import NHANESRaceEthnicity\n",
    "from microsim.education import Education\n",
    "from microsim.treatment import DefaultTreatmentsType,  TreatmentStrategiesType\n",
    "from microsim.risk_factor import StaticRiskFactorsType, DynamicRiskFactorsType\n",
    "from microsim.afib_model import AFibPrevalenceModel\n",
    "from microsim.pvd_model import PVDPrevalenceModel\n",
    "from microsim.outcome import Outcome, OutcomeType\n",
    "from microsim.person import Person\n",
    "from microsim.population_model_repository import PopulationModelRepository\n",
    "from microsim.cohort_risk_model_repository import (CohortStaticRiskFactorModelRepository,\n",
    "                                                   CohortDynamicRiskFactorModelRepository,\n",
    "                                                   CohortDefaultTreatmentModelRepository)\n",
    "from microsim.outcome_model_repository import OutcomeModelRepository\n",
    "\n",
    "microsimDir = \"/Users/deligkaris.1/OneDrive - The Ohio State University Wexner Medical Center/MICROSIM\"\n",
    "os.chdir(microsimDir+\"/CODE/microsim\")\n",
    "\n",
    "dataDir = microsimDir+\"/NOTEBOOKS/DATA\"\n",
    "\n",
    "popSize = 100000"
   ]
  },
  {
   "cell_type": "code",
   "execution_count": 2,
   "id": "f7ee2a27-1aed-4f28-843c-9c4eaf3125b1",
   "metadata": {},
   "outputs": [],
   "source": [
    "categoricalVars = [\"gender\", \"smokingStatus\", \"raceEthnicity\", \"statin\",'education',\n",
    "                  'alcoholPerWeek','anyPhysicalActivity','antiHypertensiveCount']\n",
    "continuousVars = ['age', 'hdl', 'bmi', 'totChol', 'trig', 'a1c', 'ldl', 'waist', 'creatinine', 'sbp', 'dbp']"
   ]
  },
  {
   "cell_type": "code",
   "execution_count": 3,
   "id": "2068b91d-74f2-40cc-82be-ead2aac71682",
   "metadata": {},
   "outputs": [],
   "source": [
    "nhanesDf = pd.read_stata(microsimDir + \"/CODE/microsim/microsim/data/fullyImputedDataset.dta\")\n",
    "nhanesDf = nhanesDf.rename(columns={\"level_0\":\"name\"})"
   ]
  },
  {
   "cell_type": "code",
   "execution_count": 4,
   "id": "78be559d-402e-49d3-ba18-b6853f0b10a3",
   "metadata": {},
   "outputs": [
    {
     "data": {
      "text/html": [
       "<div>\n",
       "<style scoped>\n",
       "    .dataframe tbody tr th:only-of-type {\n",
       "        vertical-align: middle;\n",
       "    }\n",
       "\n",
       "    .dataframe tbody tr th {\n",
       "        vertical-align: top;\n",
       "    }\n",
       "\n",
       "    .dataframe thead th {\n",
       "        text-align: right;\n",
       "    }\n",
       "</style>\n",
       "<table border=\"1\" class=\"dataframe\">\n",
       "  <thead>\n",
       "    <tr style=\"text-align: right;\">\n",
       "      <th></th>\n",
       "      <th>name</th>\n",
       "      <th>gender</th>\n",
       "      <th>smokingStatus</th>\n",
       "      <th>raceEthnicity</th>\n",
       "      <th>statin</th>\n",
       "      <th>education</th>\n",
       "      <th>alcoholPerWeek</th>\n",
       "      <th>anyPhysicalActivity</th>\n",
       "      <th>antiHypertensiveCount</th>\n",
       "      <th>age</th>\n",
       "      <th>hdl</th>\n",
       "      <th>bmi</th>\n",
       "      <th>totChol</th>\n",
       "      <th>trig</th>\n",
       "      <th>a1c</th>\n",
       "      <th>ldl</th>\n",
       "      <th>waist</th>\n",
       "      <th>creatinine</th>\n",
       "      <th>sbp</th>\n",
       "      <th>dbp</th>\n",
       "    </tr>\n",
       "  </thead>\n",
       "  <tbody>\n",
       "    <tr>\n",
       "      <th>0</th>\n",
       "      <td>41909</td>\n",
       "      <td>1</td>\n",
       "      <td>0</td>\n",
       "      <td>1</td>\n",
       "      <td>False</td>\n",
       "      <td>1</td>\n",
       "      <td>0</td>\n",
       "      <td>0</td>\n",
       "      <td>0.0</td>\n",
       "      <td>39</td>\n",
       "      <td>39.332549</td>\n",
       "      <td>32.093633</td>\n",
       "      <td>289.420901</td>\n",
       "      <td>202.594404</td>\n",
       "      <td>6.356258</td>\n",
       "      <td>190.692873</td>\n",
       "      <td>108.778183</td>\n",
       "      <td>1.151077</td>\n",
       "      <td>147.131136</td>\n",
       "      <td>81.747572</td>\n",
       "    </tr>\n",
       "    <tr>\n",
       "      <th>1</th>\n",
       "      <td>42688</td>\n",
       "      <td>1</td>\n",
       "      <td>0</td>\n",
       "      <td>1</td>\n",
       "      <td>False</td>\n",
       "      <td>1</td>\n",
       "      <td>0</td>\n",
       "      <td>0</td>\n",
       "      <td>0.0</td>\n",
       "      <td>30</td>\n",
       "      <td>57.942825</td>\n",
       "      <td>27.667434</td>\n",
       "      <td>199.841558</td>\n",
       "      <td>119.231151</td>\n",
       "      <td>5.769845</td>\n",
       "      <td>90.956660</td>\n",
       "      <td>92.577832</td>\n",
       "      <td>0.879097</td>\n",
       "      <td>128.707967</td>\n",
       "      <td>61.416109</td>\n",
       "    </tr>\n",
       "    <tr>\n",
       "      <th>2</th>\n",
       "      <td>43025</td>\n",
       "      <td>1</td>\n",
       "      <td>0</td>\n",
       "      <td>1</td>\n",
       "      <td>False</td>\n",
       "      <td>1</td>\n",
       "      <td>0</td>\n",
       "      <td>0</td>\n",
       "      <td>0.0</td>\n",
       "      <td>71</td>\n",
       "      <td>50.824894</td>\n",
       "      <td>23.164605</td>\n",
       "      <td>179.578231</td>\n",
       "      <td>85.613429</td>\n",
       "      <td>5.245120</td>\n",
       "      <td>117.216043</td>\n",
       "      <td>92.101304</td>\n",
       "      <td>0.556529</td>\n",
       "      <td>128.105878</td>\n",
       "      <td>67.220136</td>\n",
       "    </tr>\n",
       "    <tr>\n",
       "      <th>3</th>\n",
       "      <td>43390</td>\n",
       "      <td>1</td>\n",
       "      <td>0</td>\n",
       "      <td>1</td>\n",
       "      <td>False</td>\n",
       "      <td>1</td>\n",
       "      <td>0</td>\n",
       "      <td>0</td>\n",
       "      <td>0.0</td>\n",
       "      <td>49</td>\n",
       "      <td>42.460672</td>\n",
       "      <td>22.419467</td>\n",
       "      <td>203.219952</td>\n",
       "      <td>192.760294</td>\n",
       "      <td>5.032002</td>\n",
       "      <td>122.120623</td>\n",
       "      <td>90.043771</td>\n",
       "      <td>0.794121</td>\n",
       "      <td>137.643906</td>\n",
       "      <td>84.633473</td>\n",
       "    </tr>\n",
       "    <tr>\n",
       "      <th>4</th>\n",
       "      <td>44501</td>\n",
       "      <td>1</td>\n",
       "      <td>0</td>\n",
       "      <td>1</td>\n",
       "      <td>False</td>\n",
       "      <td>1</td>\n",
       "      <td>0</td>\n",
       "      <td>0</td>\n",
       "      <td>0.0</td>\n",
       "      <td>26</td>\n",
       "      <td>57.765745</td>\n",
       "      <td>27.510509</td>\n",
       "      <td>241.259803</td>\n",
       "      <td>137.484893</td>\n",
       "      <td>5.194220</td>\n",
       "      <td>136.485802</td>\n",
       "      <td>88.475559</td>\n",
       "      <td>0.977545</td>\n",
       "      <td>150.569880</td>\n",
       "      <td>87.679994</td>\n",
       "    </tr>\n",
       "  </tbody>\n",
       "</table>\n",
       "</div>"
      ],
      "text/plain": [
       "    name  gender  smokingStatus  raceEthnicity  statin  education  \\\n",
       "0  41909       1              0              1   False          1   \n",
       "1  42688       1              0              1   False          1   \n",
       "2  43025       1              0              1   False          1   \n",
       "3  43390       1              0              1   False          1   \n",
       "4  44501       1              0              1   False          1   \n",
       "\n",
       "   alcoholPerWeek  anyPhysicalActivity  antiHypertensiveCount  age        hdl  \\\n",
       "0               0                    0                    0.0   39  39.332549   \n",
       "1               0                    0                    0.0   30  57.942825   \n",
       "2               0                    0                    0.0   71  50.824894   \n",
       "3               0                    0                    0.0   49  42.460672   \n",
       "4               0                    0                    0.0   26  57.765745   \n",
       "\n",
       "         bmi     totChol        trig       a1c         ldl       waist  \\\n",
       "0  32.093633  289.420901  202.594404  6.356258  190.692873  108.778183   \n",
       "1  27.667434  199.841558  119.231151  5.769845   90.956660   92.577832   \n",
       "2  23.164605  179.578231   85.613429  5.245120  117.216043   92.101304   \n",
       "3  22.419467  203.219952  192.760294  5.032002  122.120623   90.043771   \n",
       "4  27.510509  241.259803  137.484893  5.194220  136.485802   88.475559   \n",
       "\n",
       "   creatinine         sbp        dbp  \n",
       "0    1.151077  147.131136  81.747572  \n",
       "1    0.879097  128.707967  61.416109  \n",
       "2    0.556529  128.105878  67.220136  \n",
       "3    0.794121  137.643906  84.633473  \n",
       "4    0.977545  150.569880  87.679994  "
      ]
     },
     "execution_count": 4,
     "metadata": {},
     "output_type": "execute_result"
    }
   ],
   "source": [
    "df = pd.read_csv(dataDir+\"/nhanes-persons-from-Gaussians.csv\")\n",
    "df.head()"
   ]
  },
  {
   "cell_type": "code",
   "execution_count": 5,
   "id": "f4a9e3bc-4dd7-4d16-bd61-7a633c141b60",
   "metadata": {},
   "outputs": [
    {
     "data": {
      "text/plain": [
       "count    5448.000000\n",
       "mean       44.616557\n",
       "std        16.274878\n",
       "min        16.000000\n",
       "25%        32.000000\n",
       "50%        43.000000\n",
       "75%        56.000000\n",
       "max        93.000000\n",
       "Name: age, dtype: float64"
      ]
     },
     "execution_count": 5,
     "metadata": {},
     "output_type": "execute_result"
    }
   ],
   "source": [
    "df[\"age\"].describe()"
   ]
  },
  {
   "cell_type": "code",
   "execution_count": 6,
   "id": "09e12f84-2da8-48b2-8476-fd97769c0cb8",
   "metadata": {},
   "outputs": [
    {
     "data": {
      "text/plain": [
       "(5448, 20)"
      ]
     },
     "execution_count": 6,
     "metadata": {},
     "output_type": "execute_result"
    }
   ],
   "source": [
    "df.shape"
   ]
  },
  {
   "cell_type": "code",
   "execution_count": 7,
   "id": "415dea93-c31e-431f-9c38-0185012908f4",
   "metadata": {},
   "outputs": [
    {
     "data": {
      "text/plain": [
       "(5448, 21)"
      ]
     },
     "execution_count": 7,
     "metadata": {},
     "output_type": "execute_result"
    }
   ],
   "source": [
    "df = df.merge(nhanesDf[[\"name\",\"WTINT2YR\"]], on=\"name\", how=\"inner\").copy()\n",
    "df.shape"
   ]
  },
  {
   "cell_type": "code",
   "execution_count": 8,
   "id": "e5821546-fe48-4827-89b7-f83ed54d96e2",
   "metadata": {},
   "outputs": [],
   "source": [
    "def build_person(x, initializationModelRepository):\n",
    "    \"\"\"Takes all Person-instance-related data via x and initializationModelRepository and organizes it,\n",
    "       passes the organized data to the Person class and returns a Person instance.\"\"\"\n",
    "    \n",
    "    rng = np.random.default_rng()\n",
    "        \n",
    "    name = x.name\n",
    "    \n",
    "    personStaticRiskFactors = {\n",
    "                        StaticRiskFactorsType.RACE_ETHNICITY.value: NHANESRaceEthnicity(int(x.raceEthnicity)),\n",
    "                        StaticRiskFactorsType.EDUCATION.value: Education(int(x.education)),\n",
    "                        StaticRiskFactorsType.GENDER.value: NHANESGender(int(x.gender)),\n",
    "                        StaticRiskFactorsType.SMOKING_STATUS.value: SmokingStatus(int(x.smokingStatus))}\n",
    "        \n",
    "    #use this to get the bounds imposed on the risk factors in a bit\n",
    "    rfRepository = RiskModelRepository()\n",
    "        \n",
    "    #TO DO: find a way to include everything here, including the rfs that need initialization\n",
    "    #the PVD model would be easy to implement, eg with an estimate_next_risk_for_patient_characteristics function\n",
    "    #but the AFIB model would be more difficult because it relies on statsmodel_logistic_risk file\n",
    "    #for now include None, in order to create the risk factor lists correctly at the Person instance\n",
    "    personDynamicRiskFactors = dict()\n",
    "    for rfd in DynamicRiskFactorsType:\n",
    "        #if rfd==DynamicRiskFactorsType.ALCOHOL_PER_WEEK:\n",
    "        #    personDynamicRiskFactors[rfd.value] = AlcoholCategory.get_category_for_consumption(rfRepository.apply_bounds(rfd.value, x[microsimToNhanes[rfd.value]]))\n",
    "        #else:\n",
    "        if (rfd!=DynamicRiskFactorsType.PVD) & (rfd!=DynamicRiskFactorsType.AFIB):\n",
    "            personDynamicRiskFactors[rfd.value] = rfRepository.apply_bounds(rfd.value, x[rfd.value])\n",
    "    personDynamicRiskFactors[DynamicRiskFactorsType.AFIB.value] = None\n",
    "    personDynamicRiskFactors[DynamicRiskFactorsType.PVD.value] = None\n",
    "\n",
    "    #Q: do we need otherLipid treatment? I am not bringing it to the Person objects for now.\n",
    "    #A: it is ok to leave it out as we do not have a model to update this. It is also very rarely taking place in the population anyway.\n",
    "    #also: used to have round(x.statin) but NHANES includes statin=2...\n",
    "    personDefaultTreatments = {\n",
    "                        DefaultTreatmentsType.STATIN.value: bool(x.statin),\n",
    "                        #DefaultTreatmentsType.OTHER_LIPID_LOWERING_MEDICATION_COUNT.value: x.otherLipidLowering,\n",
    "                        DefaultTreatmentsType.ANTI_HYPERTENSIVE_COUNT.value: x.antiHypertensiveCount}\n",
    "\n",
    "    personTreatmentStrategies = dict(zip([strategy.value for strategy in TreatmentStrategiesType],\n",
    "                                         #[None for strategy in range(len(TreatmentStrategiesType))]))\n",
    "                                         [{\"status\": None} for strategy in range(len(TreatmentStrategiesType))]))\n",
    "\n",
    "    personOutcomes = dict(zip([outcome for outcome in OutcomeType],\n",
    "                                  [list() for outcome in range(len(OutcomeType))]))\n",
    "    #add pre-simulation stroke outcomes\n",
    "    #selfReportStrokeAge=x.selfReportStrokeAge\n",
    "    #Q: we should not add the stroke outcome in case of \"else\"?\n",
    "    #if selfReportStrokeAge is not None and selfReportStrokeAge > 1:\n",
    "    #        selfReportStrokeAge = selfReportStrokeAge if selfReportStrokeAge <= x.age else x.age\n",
    "    #        personOutcomes[OutcomeType.STROKE].append((selfReportStrokeAge, StrokeOutcome(False, None, None, None, priorToSim=True)))\n",
    "    #add pre-simulation mi outcomes\n",
    "    #selfReportMIAge=rng.integers(18, x.age) if x.selfReportMIAge == 99999 else x.selfReportMIAge\n",
    "    #if selfReportMIAge is not None and selfReportMIAge > 1:\n",
    "    #        selfReportMIAge = selfReportMIAge if selfReportMIAge <= x.age else x.age\n",
    "    #        personOutcomes[OutcomeType.MI].append((selfReportMIAge, Outcome(OutcomeType.MI, False, priorToSim=True)))\n",
    "\n",
    "    person = Person(name,\n",
    "                   personStaticRiskFactors,\n",
    "                   personDynamicRiskFactors,\n",
    "                   personDefaultTreatments,\n",
    "                   personTreatmentStrategies,\n",
    "                   personOutcomes)\n",
    "\n",
    "    #TO DO: find a way to initialize these rfs above with everything else\n",
    "    person._pvd = [initializationModelRepository[DynamicRiskFactorsType.PVD].estimate_next_risk(person)]\n",
    "    person._afib = [initializationModelRepository[DynamicRiskFactorsType.AFIB].estimate_next_risk(person)]\n",
    "    return person\n"
   ]
  },
  {
   "cell_type": "code",
   "execution_count": 9,
   "id": "10e08df7-e651-45b2-bd84-d185ab1d6e9d",
   "metadata": {},
   "outputs": [],
   "source": [
    "initializationModelRepository = {DynamicRiskFactorsType.AFIB: AFibPrevalenceModel(), \n",
    "                                     DynamicRiskFactorsType.PVD: PVDPrevalenceModel()}"
   ]
  },
  {
   "cell_type": "code",
   "execution_count": 10,
   "id": "18c8a41b-26a6-4d2f-a954-6be311582122",
   "metadata": {},
   "outputs": [],
   "source": [
    "dfSample = df.sample(popSize, weights=df.WTINT2YR, replace=True)"
   ]
  },
  {
   "cell_type": "code",
   "execution_count": 11,
   "id": "417efbb6-9a51-4e9d-8de5-48e7b5f53cc8",
   "metadata": {},
   "outputs": [],
   "source": [
    "people = dfSample.apply(lambda x: build_person(x, initializationModelRepository), axis=1)"
   ]
  },
  {
   "cell_type": "code",
   "execution_count": 12,
   "id": "6892241c-39d2-4a9e-b41f-ac673eb0d7f6",
   "metadata": {},
   "outputs": [],
   "source": [
    "#sets the unique identifier for each Person instance\n",
    "noneList = list(map(lambda person, i: setattr(person, \"_index\", i), people, range(len(people)))) "
   ]
  },
  {
   "cell_type": "code",
   "execution_count": 13,
   "id": "0be6f713-cd96-4038-b54c-ca7c3a9b4cb5",
   "metadata": {},
   "outputs": [],
   "source": [
    "popModelRepository = PopulationModelRepository(CohortDynamicRiskFactorModelRepository(),\n",
    "                                                           CohortDefaultTreatmentModelRepository(),\n",
    "                                                           OutcomeModelRepository(),\n",
    "                                                           CohortStaticRiskFactorModelRepository()) \n",
    "pop = Population(people, popModelRepository)"
   ]
  },
  {
   "cell_type": "code",
   "execution_count": 14,
   "id": "6790d1ae-f5dd-4c21-ab10-f8312a8e1122",
   "metadata": {},
   "outputs": [
    {
     "data": {
      "text/plain": [
       "(100000,)"
      ]
     },
     "execution_count": 14,
     "metadata": {},
     "output_type": "execute_result"
    }
   ],
   "source": [
    "pop._people.shape"
   ]
  },
  {
   "cell_type": "code",
   "execution_count": 15,
   "id": "bc809f7b-ea81-4684-83df-1f7717671f53",
   "metadata": {},
   "outputs": [],
   "source": [
    "#pop2 = get_nhanes_population(1999)\n",
    "pop2 = NHANESDirectSamplePopulation(popSize, 1999)\n",
    "pop2.advance(1)\n",
    "#pop2.print_baseline_summary()"
   ]
  },
  {
   "cell_type": "code",
   "execution_count": 16,
   "id": "d4eae7df-5eab-4bc0-a567-48c3750f2b1a",
   "metadata": {},
   "outputs": [
    {
     "name": "stdout",
     "output_type": "stream",
     "text": [
      "                                                     self                              other\n",
      "                                                     min    0.25   med    0.75    max   min    0.25   med    0.75    max\n",
      "                                               age   18.0   33.0   44.6   55.0   93.0   18.0   30.0   43.9   55.0   85.0\n",
      "                                               sbp   75.0  112.2  123.7  133.5  206.2   72.7  109.3  122.7  131.3  231.3\n",
      "                                               dbp   38.0   65.3   72.2   78.8  117.0   40.0   65.3   72.5   79.3  132.0\n",
      "                                               a1c    3.6    5.0    5.4    5.6   10.6    2.5    5.0    5.4    5.5   15.1\n",
      "                                               hdl   11.3   42.9   52.5   60.8  112.5    8.0   40.0   50.8   59.0  151.0\n",
      "                                               ldl   41.0  106.8  127.9  147.3  264.3   28.0   98.0  123.0  145.0  354.0\n",
      "                                              trig   27.0  103.6  156.3  188.5  1043.7   12.0   83.0  147.1  177.0  2141.0\n",
      "                                           totChol  105.3  183.7  208.3  230.8  350.6   72.0  172.0  201.4  227.0  525.0\n",
      "                                               bmi   12.9   24.4   27.7   30.7   55.7   14.4   23.5   27.9   31.1   67.8\n",
      "                               anyPhysicalActivity    0.0    0.0    0.7    1.0    1.0    0.0    0.0    0.7    1.0    1.0\n",
      "                                              afib    0.0    0.0    0.0    0.0    1.0    0.0    0.0    0.0    0.0    1.0\n",
      "                                             waist   59.2   86.8   95.4  103.7  145.8   59.4   83.5   95.2  104.9  173.4\n",
      "                                    alcoholPerWeek    0.0    0.0    1.9    3.0    3.0    0.0    0.0    1.9    3.0    3.0\n",
      "                                        creatinine    0.2    0.6    0.7    0.8    1.5    0.2    0.6    0.8    0.9   11.8\n",
      "                                               pvd    0.0    0.0    0.0    0.0    1.0    0.0    0.0    0.0    0.0    1.0\n",
      "                                                     self   other\n",
      "                                                     proportions\n",
      "              StaticRiskFactorsType.RACE_ETHNICITY\n",
      "                                                 1   0.06   0.06\n",
      "                                                 2   0.08   0.08\n",
      "                                                 3   0.70   0.69\n",
      "                                                 4   0.11   0.11\n",
      "                                                 5   0.05   0.05\n",
      "                   StaticRiskFactorsType.EDUCATION\n",
      "                                                 1   0.07   0.07\n",
      "                                                 2   0.16   0.16\n",
      "                                                 3   0.25   0.25\n",
      "                                                 4   0.30   0.30\n",
      "                                                 5   0.22   0.21\n",
      "                      StaticRiskFactorsType.GENDER\n",
      "                                                 1   0.48   0.48\n",
      "                                                 2   0.52   0.52\n",
      "              StaticRiskFactorsType.SMOKING_STATUS\n",
      "                                                 0   0.52   0.52\n",
      "                                                 1   0.23   0.23\n",
      "                                                 2   0.24   0.24\n"
     ]
    }
   ],
   "source": [
    "pop.print_baseline_summary_comparison(pop2)"
   ]
  },
  {
   "cell_type": "code",
   "execution_count": 17,
   "id": "51ee5300-ba34-43a6-a5a4-0f27f9f7a9c7",
   "metadata": {},
   "outputs": [],
   "source": [
    "popages = pop.get_age_of_all_years_in_sim()\n",
    "popageCounts = pop.get_age_counts(popages)\n",
    "popages2 = pop2.get_age_of_all_years_in_sim()\n",
    "popageCount2s = pop2.get_age_counts(popages2)"
   ]
  },
  {
   "cell_type": "code",
   "execution_count": 46,
   "id": "c3c34198-39a8-48c1-9006-b505fb8685af",
   "metadata": {},
   "outputs": [
    {
     "name": "stdout",
     "output_type": "stream",
     "text": [
      "age pop-count pop2-count %diff\n",
      "18   1343       1707     -0.21\n",
      "19    891       2102     -0.58\n",
      "20   1036       1901     -0.46\n",
      "21   1492       2196     -0.32\n",
      "22   1486       2376     -0.37\n",
      "23   1301       1858     -0.30\n",
      "24   1679       1758     -0.04\n",
      "25   1190       1654     -0.28\n",
      "26   2080       2059      0.01\n",
      "27   1479       1538     -0.04\n",
      "28   1731       2229     -0.22\n",
      "29   1970       2206     -0.11\n",
      "30   2226       2010      0.11\n",
      "31   2475       1978      0.25\n",
      "32   2055       2701     -0.24\n",
      "33   2097       1943      0.08\n",
      "34   3044       2038      0.49\n",
      "35   2479       2444      0.01\n",
      "36   2634       2011      0.31\n",
      "37   2383       2505     -0.05\n",
      "38   2028       2172     -0.07\n",
      "39   2915       2681      0.09\n",
      "40   2604       2284      0.14\n",
      "41   2535       2054      0.23\n",
      "42   2587       2129      0.22\n",
      "43   1801       1785      0.01\n",
      "44   2039       2078     -0.02\n",
      "45   1746       2073     -0.16\n",
      "46   2327       2164      0.08\n",
      "47   2186       1781      0.23\n",
      "48   2064       1611      0.28\n",
      "49   1951       1612      0.21\n",
      "50   2076       1228      0.69\n",
      "51   1675       1814     -0.08\n",
      "52   2112       1536      0.38\n",
      "53   2280       1491      0.53\n",
      "54   1952       1717      0.14\n",
      "55   2042       1135      0.80\n",
      "56   1572       1371      0.15\n",
      "57   1752       1121      0.56\n",
      "58   1858        803      1.31\n",
      "59   1563       1135      0.38\n",
      "60   1175       1472     -0.20\n",
      "61   1375        872      0.58\n",
      "62   1488       1106      0.35\n",
      "63    872        825      0.06\n",
      "64   1513       1039      0.46\n",
      "65    825       1096     -0.25\n",
      "66    703        985     -0.29\n",
      "67    786        982     -0.20\n",
      "68    714        979     -0.27\n",
      "69    618        794     -0.22\n",
      "70    484        913     -0.47\n",
      "71    610       1029     -0.41\n",
      "72    485        665     -0.27\n",
      "73    768        709      0.08\n",
      "74    568        586     -0.03\n",
      "75    612        739     -0.17\n",
      "76    456        546     -0.16\n",
      "77    378        717     -0.47\n",
      "78    329        603     -0.45\n",
      "79    269        635     -0.58\n",
      "80    375        619     -0.39\n",
      "81    270        482     -0.44\n",
      "82    319        471     -0.32\n",
      "83    123        323     -0.62\n",
      "84    138        344     -0.60\n",
      "85     68       1480     -0.95\n"
     ]
    }
   ],
   "source": [
    "print(\"age pop-count pop2-count %diff\") \n",
    "for key in sorted(popageCounts):\n",
    "    if key in popageCount2s:\n",
    "        pcDiff =  (popageCounts[key] - popageCount2s[key])/popageCount2s[key]\n",
    "        print(f\"{key} {popageCounts[key]:>6.0f} {popageCount2s[key]:>10.0f} {pcDiff:>9.2f}\")"
   ]
  },
  {
   "cell_type": "code",
   "execution_count": 19,
   "id": "e4ea4984-413f-4218-9f33-dcaee2c3feb5",
   "metadata": {},
   "outputs": [
    {
     "data": {
      "text/plain": [
       "{18: 1707,\n",
       " 19: 2102,\n",
       " 20: 1901,\n",
       " 21: 2196,\n",
       " 22: 2376,\n",
       " 23: 1858,\n",
       " 24: 1758,\n",
       " 25: 1654,\n",
       " 26: 2059,\n",
       " 27: 1538,\n",
       " 28: 2229,\n",
       " 29: 2206,\n",
       " 30: 2010,\n",
       " 31: 1978,\n",
       " 32: 2701,\n",
       " 33: 1943,\n",
       " 34: 2038,\n",
       " 35: 2444,\n",
       " 36: 2011,\n",
       " 37: 2505,\n",
       " 38: 2172,\n",
       " 39: 2681,\n",
       " 40: 2284,\n",
       " 41: 2054,\n",
       " 42: 2129,\n",
       " 43: 1785,\n",
       " 44: 2078,\n",
       " 45: 2073,\n",
       " 46: 2164,\n",
       " 47: 1781,\n",
       " 48: 1611,\n",
       " 49: 1612,\n",
       " 50: 1228,\n",
       " 51: 1814,\n",
       " 52: 1536,\n",
       " 53: 1491,\n",
       " 54: 1717,\n",
       " 55: 1135,\n",
       " 56: 1371,\n",
       " 57: 1121,\n",
       " 58: 803,\n",
       " 59: 1135,\n",
       " 60: 1472,\n",
       " 61: 872,\n",
       " 62: 1106,\n",
       " 63: 825,\n",
       " 64: 1039,\n",
       " 65: 1096,\n",
       " 66: 985,\n",
       " 67: 982,\n",
       " 68: 979,\n",
       " 69: 794,\n",
       " 70: 913,\n",
       " 71: 1029,\n",
       " 72: 665,\n",
       " 73: 709,\n",
       " 74: 586,\n",
       " 75: 739,\n",
       " 76: 546,\n",
       " 77: 717,\n",
       " 78: 603,\n",
       " 79: 635,\n",
       " 80: 619,\n",
       " 81: 482,\n",
       " 82: 471,\n",
       " 83: 323,\n",
       " 84: 344,\n",
       " 85: 1480}"
      ]
     },
     "execution_count": 19,
     "metadata": {},
     "output_type": "execute_result"
    }
   ],
   "source": [
    "popageCount2s"
   ]
  },
  {
   "cell_type": "code",
   "execution_count": null,
   "id": "4e142ccd-18f2-48c9-ae16-84dc971b75d1",
   "metadata": {},
   "outputs": [],
   "source": [
    "personsOut = list(filter( lambda x: ((x._sbp[0]>=72.) & (x._sbp[0]<=81.)) | ((x._sbp[0]>=207.) & (x._sbp[0]<=266.)) , pop2._people))"
   ]
  },
  {
   "cell_type": "code",
   "execution_count": null,
   "id": "601e34a4-fe8d-46e5-9cef-4d78fc1b3694",
   "metadata": {},
   "outputs": [],
   "source": [
    "len(personsOut)"
   ]
  },
  {
   "cell_type": "code",
   "execution_count": null,
   "id": "2d98875f-ffb2-4a26-a501-c27ec5ae6c05",
   "metadata": {},
   "outputs": [],
   "source": [
    "personsOutUnique = set(map( lambda x: x._name, personsOut) )"
   ]
  },
  {
   "cell_type": "code",
   "execution_count": null,
   "id": "ceeb8b54-dba2-412b-b378-56ea3b6bed2d",
   "metadata": {},
   "outputs": [],
   "source": [
    "len(personsOutUnique)"
   ]
  },
  {
   "cell_type": "code",
   "execution_count": 20,
   "id": "ae32a06e-6e90-4d37-bdd6-15a5524d1513",
   "metadata": {},
   "outputs": [
    {
     "name": "stdout",
     "output_type": "stream",
     "text": [
      "CPU times: user 31.7 s, sys: 3.67 s, total: 35.4 s\n",
      "Wall time: 7min 26s\n"
     ]
    }
   ],
   "source": [
    "%%time\n",
    "pop.advance(17, None, nWorkers=5)"
   ]
  },
  {
   "cell_type": "code",
   "execution_count": 21,
   "id": "ac477d58-d191-4617-b945-a13707465c97",
   "metadata": {},
   "outputs": [
    {
     "name": "stdout",
     "output_type": "stream",
     "text": [
      "CPU times: user 51.2 s, sys: 11.2 s, total: 1min 2s\n",
      "Wall time: 8min 15s\n"
     ]
    }
   ],
   "source": [
    "%%time\n",
    "pop2.advance(17, None, nWorkers=5)"
   ]
  },
  {
   "cell_type": "code",
   "execution_count": 22,
   "id": "cb82b216-5cc2-4a4c-972f-407c3337d74e",
   "metadata": {},
   "outputs": [
    {
     "name": "stdout",
     "output_type": "stream",
     "text": [
      "                                                     self                              other\n",
      "                                                     min    0.25   med    0.75    max   min    0.25   med    0.75    max\n",
      "                                               age   34.0   47.0   57.3   67.0  102.0   35.0   45.0   56.0   65.0  102.0\n",
      "                                               sbp   80.3  123.0  131.9  139.9  209.4   78.6  120.2  130.1  138.4  262.9\n",
      "                                               dbp   43.1   74.3   81.9   89.1  129.0   47.4   73.6   81.9   89.9  152.5\n",
      "                                               a1c    4.2    5.5    5.8    6.1    8.9    4.0    5.5    5.8    6.1   10.6\n",
      "                                               hdl    5.4   39.4   52.4   64.1  143.1    5.4   35.0   49.8   62.4  169.9\n",
      "                                               ldl    9.7   95.4  112.1  129.5  209.0    8.1   94.1  112.8  133.1  288.4\n",
      "                                              trig    9.0  113.3  158.5  200.0  479.7    9.0  104.1  153.4  196.9  508.6\n",
      "                                           totChol  125.5  183.5  194.4  205.1  255.6  105.4  180.6  192.0  203.7  299.7\n",
      "                                               bmi   10.8   25.0   29.3   33.2   69.9   10.8   24.8   30.2   34.1   89.9\n",
      "                               anyPhysicalActivity    0.0    0.0    0.6    1.0    1.0    0.0    0.0    0.7    1.0    1.0\n",
      "                                              afib    0.0    0.0    0.2    0.0    1.0    0.0    0.0    0.2    0.0    1.0\n",
      "                                             waist   50.0   88.7   98.5  107.9  176.2   50.0   87.4   99.9  109.9  196.9\n",
      "                                    alcoholPerWeek    0.0    1.0    1.0    1.0    2.0    0.0    1.0    1.0    1.0    2.0\n",
      "                                        creatinine    0.1    0.4    0.7    0.9    2.3    0.1    0.5    0.7    1.0   13.0\n",
      "                                               pvd    0.0    0.0    0.0    0.0    1.0    0.0    0.0    0.0    0.0    1.0\n",
      "                                                     self   other\n",
      "                                                     proportions\n",
      "              StaticRiskFactorsType.RACE_ETHNICITY\n",
      "                                                 1   0.06   0.06\n",
      "                                                 2   0.08   0.08\n",
      "                                                 3   0.70   0.69\n",
      "                                                 4   0.11   0.11\n",
      "                                                 5   0.05   0.05\n",
      "                   StaticRiskFactorsType.EDUCATION\n",
      "                                                 1   0.07   0.07\n",
      "                                                 2   0.16   0.16\n",
      "                                                 3   0.25   0.25\n",
      "                                                 4   0.30   0.30\n",
      "                                                 5   0.22   0.21\n",
      "                      StaticRiskFactorsType.GENDER\n",
      "                                                 1   0.48   0.48\n",
      "                                                 2   0.52   0.52\n",
      "              StaticRiskFactorsType.SMOKING_STATUS\n",
      "                                                 0   0.52   0.52\n",
      "                                                 1   0.23   0.23\n",
      "                                                 2   0.24   0.24\n"
     ]
    }
   ],
   "source": [
    "pop.print_lastyear_summary_comparison(pop2)"
   ]
  },
  {
   "cell_type": "code",
   "execution_count": 23,
   "id": "44dfea2e-233f-4a58-8bd6-a2ca4b0bcaae",
   "metadata": {},
   "outputs": [
    {
     "name": "stdout",
     "output_type": "stream",
     "text": [
      "standardized rates (per 100,000)    all        black   \n",
      "                            mi      215.4      208.0\n",
      "                        stroke      146.4      238.0\n",
      "                         death      801.8      938.3\n",
      "                            cv      361.8      446.0\n",
      "                         noncv      751.6      879.2\n",
      "                      dementia      257.8      501.0\n",
      "CPU times: user 4min 11s, sys: 25.5 s, total: 4min 36s\n",
      "Wall time: 4min 41s\n"
     ]
    }
   ],
   "source": [
    "%%time\n",
    "pop.print_cv_standardized_rates()"
   ]
  },
  {
   "cell_type": "code",
   "execution_count": 24,
   "id": "68a55ee7-8a83-4669-bbbd-1a7873886cab",
   "metadata": {},
   "outputs": [
    {
     "name": "stdout",
     "output_type": "stream",
     "text": [
      "standardized rates (per 100,000)    all        black   \n",
      "                            mi      231.6      205.3\n",
      "                        stroke      152.6      258.7\n",
      "                         death      858.5      972.0\n",
      "                            cv      384.4      464.1\n",
      "                         noncv      806.3      910.2\n",
      "                      dementia      274.7      559.7\n",
      "CPU times: user 4min 13s, sys: 25.5 s, total: 4min 38s\n",
      "Wall time: 4min 43s\n"
     ]
    }
   ],
   "source": [
    "%%time\n",
    "pop2.print_cv_standardized_rates()"
   ]
  },
  {
   "cell_type": "code",
   "execution_count": null,
   "id": "091a6586-8c69-4e8e-bdd0-43df2edc2dc7",
   "metadata": {},
   "outputs": [],
   "source": [
    "np.mean(list(map(lambda x: int(x._afib[-1]), pop._people)))"
   ]
  },
  {
   "cell_type": "code",
   "execution_count": null,
   "id": "4ccca6e9-48c4-40ff-8fc2-bc49d0fb20ab",
   "metadata": {},
   "outputs": [],
   "source": [
    "np.quantile(list(map(lambda x: int(x._afib[-1]), pop._people)), 1.)"
   ]
  },
  {
   "cell_type": "code",
   "execution_count": null,
   "id": "4f527481-8a2c-4e1d-8dad-51e8958a8d3c",
   "metadata": {},
   "outputs": [],
   "source": [
    "%%time\n",
    "pop.print_dementia_incidence()"
   ]
  },
  {
   "cell_type": "code",
   "execution_count": null,
   "id": "0b8ffb30-d3ca-4eab-bade-f50470ac7211",
   "metadata": {},
   "outputs": [],
   "source": [
    "nYears=5\n",
    "nSimulations = 4\n",
    "for bpMedsAdded in [1]:\n",
    "    miRRList = list()\n",
    "    strokeRRList = list()\n",
    "    print(f\"\\nbpMedsAdded={bpMedsAdded}\")\n",
    "    for i in range(nSimulations):\n",
    "        treatmentPop = NHANESDirectSamplePopulation(popSize, 1999)\n",
    "        controlPop = NHANESDirectSamplePopulation(popSize, 1999)\n",
    "        treatmentStrategies = TreatmentStrategyRepository()\n",
    "        #treatmentStrategies._repository[TreatmentStrategiesType.BP.value] = AddASingleBPMedTreatmentStrategy()\n",
    "        treatmentStrategies._repository[TreatmentStrategiesType.BP.value] = AddNBPMedsTreatmentStrategy(bpMedsAdded)\n",
    "        treatmentPop.advance_parallel(1, treatmentStrategies = treatmentStrategies, nWorkers=nWorkers)\n",
    "        treatmentStrategies._repository[TreatmentStrategiesType.BP.value].status = TreatmentStrategyStatus.MAINTAIN\n",
    "        treatmentPop.advance_parallel(nYears-1, treatmentStrategies = treatmentStrategies, nWorkers=nWorkers)\n",
    "        controlPop.advance_parallel(nYears, nWorkers=nWorkers)\n",
    "        controlRisk = sum(list(map(lambda x: x.has_outcome_during_simulation(OutcomeType.STROKE),\n",
    "                                       controlPop._people)))/controlPop._n\n",
    "        treatmentRisk = sum(list(map(lambda x: x.has_outcome_during_simulation(OutcomeType.STROKE),\n",
    "                                         treatmentPop._people)))/treatmentPop._n\n",
    "        strokeRR = treatmentRisk/controlRisk\n",
    "        controlRisk = sum(list(map(lambda x: x.has_outcome_during_simulation(OutcomeType.MI),\n",
    "                                       controlPop._people)))/controlPop._n\n",
    "        treatmentRisk = sum(list(map(lambda x: x.has_outcome_during_simulation(OutcomeType.MI),\n",
    "                                         treatmentPop._people)))/treatmentPop._n\n",
    "        miRR = treatmentRisk/controlRisk\n",
    "        miRRList += [miRR]\n",
    "        strokeRRList += [strokeRR]\n",
    "        print(f\"\\t\\tsimulation={i}, stroke RR={strokeRR:<4.2f}, mi RR={miRR:<4.2f}\")\n",
    "    print(f\"average of {nSimulations} simulations: stroke RR={np.mean(strokeRRList):<4.2f}, mi RR={np.mean(miRRList):4.2f}\")\n",
    "    print(f\"sd of {nSimulations} simulations: stroke RR={np.std(strokeRRList):<4.2f}, mi RR={np.std(miRRList):<4.2f}\")\n"
   ]
  }
 ],
 "metadata": {
  "kernelspec": {
   "display_name": "microsimKernel",
   "language": "python",
   "name": "microsimkernel"
  },
  "language_info": {
   "codemirror_mode": {
    "name": "ipython",
    "version": 3
   },
   "file_extension": ".py",
   "mimetype": "text/x-python",
   "name": "python",
   "nbconvert_exporter": "python",
   "pygments_lexer": "ipython3",
   "version": "3.9.13"
  }
 },
 "nbformat": 4,
 "nbformat_minor": 5
}
