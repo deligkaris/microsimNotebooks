{
 "cells": [
  {
   "cell_type": "code",
   "execution_count": 1,
   "id": "22432516-568b-41c5-9eb5-770d81b2afb9",
   "metadata": {},
   "outputs": [],
   "source": [
    "import os\n",
    "import copy\n",
    "import pandas as pd\n",
    "pd.set_option('display.max_columns', None)\n",
    "pd.set_option('display.max_rows', None)\n",
    "import numpy as np\n",
    "import matplotlib.pyplot as plt\n",
    "from collections import Counter\n",
    "from scipy.stats import multivariate_normal\n",
    "\n",
    "from microsim.population import (NHANESDirectSamplePopulation, \n",
    "                                 build_people_using_nhanes_for_sampling,\n",
    "                                 microsimToNhanes, Population, get_nhanes_population)\n",
    "from microsim.risk_model_repository import RiskModelRepository\n",
    "from microsim.gender import NHANESGender\n",
    "from microsim.smoking_status import SmokingStatus\n",
    "from microsim.race_ethnicity import NHANESRaceEthnicity\n",
    "from microsim.education import Education\n",
    "from microsim.treatment import DefaultTreatmentsType,  TreatmentStrategiesType\n",
    "from microsim.risk_factor import StaticRiskFactorsType, DynamicRiskFactorsType\n",
    "from microsim.afib_model import AFibPrevalenceModel\n",
    "from microsim.pvd_model import PVDPrevalenceModel\n",
    "from microsim.outcome import Outcome, OutcomeType\n",
    "from microsim.person import Person\n",
    "from microsim.population_model_repository import PopulationModelRepository\n",
    "from microsim.cohort_risk_model_repository import (CohortStaticRiskFactorModelRepository,\n",
    "                                                   CohortDynamicRiskFactorModelRepository,\n",
    "                                                   CohortDefaultTreatmentModelRepository)\n",
    "from microsim.outcome_model_repository import OutcomeModelRepository\n",
    "\n",
    "microsimDir = \"/Users/deligkaris.1/OneDrive - The Ohio State University Wexner Medical Center/MICROSIM\"\n",
    "os.chdir(microsimDir+\"/CODE/microsim\")\n",
    "\n",
    "dataDir = microsimDir+\"/NOTEBOOKS/DATA\""
   ]
  },
  {
   "cell_type": "code",
   "execution_count": 2,
   "id": "f7ee2a27-1aed-4f28-843c-9c4eaf3125b1",
   "metadata": {},
   "outputs": [],
   "source": [
    "categoricalVars = [\"gender\", \"smokingStatus\", \"raceEthnicity\", \"statin\",'education',\n",
    "                  'alcoholPerWeek','anyPhysicalActivity','antiHypertensiveCount']\n",
    "continuousVars = ['age', 'hdl', 'bmi', 'totChol', 'trig', 'a1c', 'ldl', 'waist', 'creatinine', 'sbp', 'dbp']"
   ]
  },
  {
   "cell_type": "code",
   "execution_count": 3,
   "id": "2068b91d-74f2-40cc-82be-ead2aac71682",
   "metadata": {},
   "outputs": [],
   "source": [
    "nhanesDf = pd.read_stata(microsimDir + \"/CODE/microsim/microsim/data/fullyImputedDataset.dta\")\n",
    "nhanesDf = nhanesDf.rename(columns={\"level_0\":\"name\"})"
   ]
  },
  {
   "cell_type": "code",
   "execution_count": 4,
   "id": "78be559d-402e-49d3-ba18-b6853f0b10a3",
   "metadata": {},
   "outputs": [
    {
     "data": {
      "text/html": [
       "<div>\n",
       "<style scoped>\n",
       "    .dataframe tbody tr th:only-of-type {\n",
       "        vertical-align: middle;\n",
       "    }\n",
       "\n",
       "    .dataframe tbody tr th {\n",
       "        vertical-align: top;\n",
       "    }\n",
       "\n",
       "    .dataframe thead th {\n",
       "        text-align: right;\n",
       "    }\n",
       "</style>\n",
       "<table border=\"1\" class=\"dataframe\">\n",
       "  <thead>\n",
       "    <tr style=\"text-align: right;\">\n",
       "      <th></th>\n",
       "      <th>name</th>\n",
       "      <th>gender</th>\n",
       "      <th>smokingStatus</th>\n",
       "      <th>raceEthnicity</th>\n",
       "      <th>statin</th>\n",
       "      <th>education</th>\n",
       "      <th>alcoholPerWeek</th>\n",
       "      <th>anyPhysicalActivity</th>\n",
       "      <th>antiHypertensiveCount</th>\n",
       "      <th>age</th>\n",
       "      <th>hdl</th>\n",
       "      <th>bmi</th>\n",
       "      <th>totChol</th>\n",
       "      <th>trig</th>\n",
       "      <th>a1c</th>\n",
       "      <th>ldl</th>\n",
       "      <th>waist</th>\n",
       "      <th>creatinine</th>\n",
       "      <th>sbp</th>\n",
       "      <th>dbp</th>\n",
       "    </tr>\n",
       "  </thead>\n",
       "  <tbody>\n",
       "    <tr>\n",
       "      <th>0</th>\n",
       "      <td>41909</td>\n",
       "      <td>1</td>\n",
       "      <td>0</td>\n",
       "      <td>1</td>\n",
       "      <td>False</td>\n",
       "      <td>1</td>\n",
       "      <td>0</td>\n",
       "      <td>0</td>\n",
       "      <td>0.0</td>\n",
       "      <td>62.157082</td>\n",
       "      <td>45.814063</td>\n",
       "      <td>36.589655</td>\n",
       "      <td>226.430582</td>\n",
       "      <td>108.345160</td>\n",
       "      <td>6.263221</td>\n",
       "      <td>155.639129</td>\n",
       "      <td>123.571332</td>\n",
       "      <td>0.989469</td>\n",
       "      <td>122.375309</td>\n",
       "      <td>65.381554</td>\n",
       "    </tr>\n",
       "    <tr>\n",
       "      <th>1</th>\n",
       "      <td>42688</td>\n",
       "      <td>1</td>\n",
       "      <td>0</td>\n",
       "      <td>1</td>\n",
       "      <td>False</td>\n",
       "      <td>1</td>\n",
       "      <td>0</td>\n",
       "      <td>0</td>\n",
       "      <td>0.0</td>\n",
       "      <td>49.992311</td>\n",
       "      <td>44.946865</td>\n",
       "      <td>28.189541</td>\n",
       "      <td>153.619603</td>\n",
       "      <td>110.972330</td>\n",
       "      <td>5.859257</td>\n",
       "      <td>88.971266</td>\n",
       "      <td>102.506521</td>\n",
       "      <td>0.593414</td>\n",
       "      <td>125.949251</td>\n",
       "      <td>88.682632</td>\n",
       "    </tr>\n",
       "    <tr>\n",
       "      <th>2</th>\n",
       "      <td>43025</td>\n",
       "      <td>1</td>\n",
       "      <td>0</td>\n",
       "      <td>1</td>\n",
       "      <td>False</td>\n",
       "      <td>1</td>\n",
       "      <td>0</td>\n",
       "      <td>0</td>\n",
       "      <td>0.0</td>\n",
       "      <td>15.983673</td>\n",
       "      <td>39.375618</td>\n",
       "      <td>33.380314</td>\n",
       "      <td>234.115627</td>\n",
       "      <td>251.663072</td>\n",
       "      <td>5.772535</td>\n",
       "      <td>139.664001</td>\n",
       "      <td>109.788199</td>\n",
       "      <td>0.851678</td>\n",
       "      <td>111.377956</td>\n",
       "      <td>87.864916</td>\n",
       "    </tr>\n",
       "    <tr>\n",
       "      <th>3</th>\n",
       "      <td>43390</td>\n",
       "      <td>1</td>\n",
       "      <td>0</td>\n",
       "      <td>1</td>\n",
       "      <td>False</td>\n",
       "      <td>1</td>\n",
       "      <td>0</td>\n",
       "      <td>0</td>\n",
       "      <td>0.0</td>\n",
       "      <td>38.715531</td>\n",
       "      <td>39.940968</td>\n",
       "      <td>38.184832</td>\n",
       "      <td>185.337142</td>\n",
       "      <td>242.284426</td>\n",
       "      <td>5.553624</td>\n",
       "      <td>92.645844</td>\n",
       "      <td>127.502329</td>\n",
       "      <td>0.894123</td>\n",
       "      <td>123.191501</td>\n",
       "      <td>65.891548</td>\n",
       "    </tr>\n",
       "    <tr>\n",
       "      <th>4</th>\n",
       "      <td>44501</td>\n",
       "      <td>1</td>\n",
       "      <td>0</td>\n",
       "      <td>1</td>\n",
       "      <td>False</td>\n",
       "      <td>1</td>\n",
       "      <td>0</td>\n",
       "      <td>0</td>\n",
       "      <td>0.0</td>\n",
       "      <td>45.939015</td>\n",
       "      <td>40.457015</td>\n",
       "      <td>22.634844</td>\n",
       "      <td>160.320499</td>\n",
       "      <td>172.850585</td>\n",
       "      <td>5.664377</td>\n",
       "      <td>81.183563</td>\n",
       "      <td>85.895882</td>\n",
       "      <td>0.600087</td>\n",
       "      <td>145.303193</td>\n",
       "      <td>76.534771</td>\n",
       "    </tr>\n",
       "  </tbody>\n",
       "</table>\n",
       "</div>"
      ],
      "text/plain": [
       "    name  gender  smokingStatus  raceEthnicity  statin  education  \\\n",
       "0  41909       1              0              1   False          1   \n",
       "1  42688       1              0              1   False          1   \n",
       "2  43025       1              0              1   False          1   \n",
       "3  43390       1              0              1   False          1   \n",
       "4  44501       1              0              1   False          1   \n",
       "\n",
       "   alcoholPerWeek  anyPhysicalActivity  antiHypertensiveCount        age  \\\n",
       "0               0                    0                    0.0  62.157082   \n",
       "1               0                    0                    0.0  49.992311   \n",
       "2               0                    0                    0.0  15.983673   \n",
       "3               0                    0                    0.0  38.715531   \n",
       "4               0                    0                    0.0  45.939015   \n",
       "\n",
       "         hdl        bmi     totChol        trig       a1c         ldl  \\\n",
       "0  45.814063  36.589655  226.430582  108.345160  6.263221  155.639129   \n",
       "1  44.946865  28.189541  153.619603  110.972330  5.859257   88.971266   \n",
       "2  39.375618  33.380314  234.115627  251.663072  5.772535  139.664001   \n",
       "3  39.940968  38.184832  185.337142  242.284426  5.553624   92.645844   \n",
       "4  40.457015  22.634844  160.320499  172.850585  5.664377   81.183563   \n",
       "\n",
       "        waist  creatinine         sbp        dbp  \n",
       "0  123.571332    0.989469  122.375309  65.381554  \n",
       "1  102.506521    0.593414  125.949251  88.682632  \n",
       "2  109.788199    0.851678  111.377956  87.864916  \n",
       "3  127.502329    0.894123  123.191501  65.891548  \n",
       "4   85.895882    0.600087  145.303193  76.534771  "
      ]
     },
     "execution_count": 4,
     "metadata": {},
     "output_type": "execute_result"
    }
   ],
   "source": [
    "df = pd.read_csv(dataDir+\"/nhanes-persons-from-Gaussians.csv\")\n",
    "df.head()"
   ]
  },
  {
   "cell_type": "code",
   "execution_count": 5,
   "id": "09e12f84-2da8-48b2-8476-fd97769c0cb8",
   "metadata": {},
   "outputs": [
    {
     "data": {
      "text/plain": [
       "(5448, 20)"
      ]
     },
     "execution_count": 5,
     "metadata": {},
     "output_type": "execute_result"
    }
   ],
   "source": [
    "df.shape"
   ]
  },
  {
   "cell_type": "code",
   "execution_count": 6,
   "id": "415dea93-c31e-431f-9c38-0185012908f4",
   "metadata": {},
   "outputs": [
    {
     "data": {
      "text/plain": [
       "(5448, 21)"
      ]
     },
     "execution_count": 6,
     "metadata": {},
     "output_type": "execute_result"
    }
   ],
   "source": [
    "df = df.merge(nhanesDf[[\"name\",\"WTINT2YR\"]], on=\"name\", how=\"inner\").copy()\n",
    "df.shape"
   ]
  },
  {
   "cell_type": "code",
   "execution_count": 7,
   "id": "e5821546-fe48-4827-89b7-f83ed54d96e2",
   "metadata": {},
   "outputs": [],
   "source": [
    "def build_person(x, initializationModelRepository):\n",
    "    \"\"\"Takes all Person-instance-related data via x and initializationModelRepository and organizes it,\n",
    "       passes the organized data to the Person class and returns a Person instance.\"\"\"\n",
    "    \n",
    "    rng = np.random.default_rng()\n",
    "        \n",
    "    name = x.name\n",
    "    \n",
    "    personStaticRiskFactors = {\n",
    "                        StaticRiskFactorsType.RACE_ETHNICITY.value: NHANESRaceEthnicity(int(x.raceEthnicity)),\n",
    "                        StaticRiskFactorsType.EDUCATION.value: Education(int(x.education)),\n",
    "                        StaticRiskFactorsType.GENDER.value: NHANESGender(int(x.gender)),\n",
    "                        StaticRiskFactorsType.SMOKING_STATUS.value: SmokingStatus(int(x.smokingStatus))}\n",
    "        \n",
    "    #use this to get the bounds imposed on the risk factors in a bit\n",
    "    rfRepository = RiskModelRepository()\n",
    "        \n",
    "    #TO DO: find a way to include everything here, including the rfs that need initialization\n",
    "    #the PVD model would be easy to implement, eg with an estimate_next_risk_for_patient_characteristics function\n",
    "    #but the AFIB model would be more difficult because it relies on statsmodel_logistic_risk file\n",
    "    #for now include None, in order to create the risk factor lists correctly at the Person instance\n",
    "    personDynamicRiskFactors = dict()\n",
    "    for rfd in DynamicRiskFactorsType:\n",
    "        #if rfd==DynamicRiskFactorsType.ALCOHOL_PER_WEEK:\n",
    "        #    personDynamicRiskFactors[rfd.value] = AlcoholCategory.get_category_for_consumption(rfRepository.apply_bounds(rfd.value, x[microsimToNhanes[rfd.value]]))\n",
    "        #else:\n",
    "        if (rfd!=DynamicRiskFactorsType.PVD) & (rfd!=DynamicRiskFactorsType.AFIB):\n",
    "            personDynamicRiskFactors[rfd.value] = rfRepository.apply_bounds(rfd.value, x[rfd.value])\n",
    "    personDynamicRiskFactors[DynamicRiskFactorsType.AFIB.value] = None\n",
    "    personDynamicRiskFactors[DynamicRiskFactorsType.PVD.value] = None\n",
    "\n",
    "    #Q: do we need otherLipid treatment? I am not bringing it to the Person objects for now.\n",
    "    #A: it is ok to leave it out as we do not have a model to update this. It is also very rarely taking place in the population anyway.\n",
    "    #also: used to have round(x.statin) but NHANES includes statin=2...\n",
    "    personDefaultTreatments = {\n",
    "                        DefaultTreatmentsType.STATIN.value: bool(x.statin),\n",
    "                        #DefaultTreatmentsType.OTHER_LIPID_LOWERING_MEDICATION_COUNT.value: x.otherLipidLowering,\n",
    "                        DefaultTreatmentsType.ANTI_HYPERTENSIVE_COUNT.value: x.antiHypertensiveCount}\n",
    "\n",
    "    personTreatmentStrategies = dict(zip([strategy.value for strategy in TreatmentStrategiesType],\n",
    "                                         #[None for strategy in range(len(TreatmentStrategiesType))]))\n",
    "                                         [{\"status\": None} for strategy in range(len(TreatmentStrategiesType))]))\n",
    "\n",
    "    personOutcomes = dict(zip([outcome for outcome in OutcomeType],\n",
    "                                  [list() for outcome in range(len(OutcomeType))]))\n",
    "    #add pre-simulation stroke outcomes\n",
    "    #selfReportStrokeAge=x.selfReportStrokeAge\n",
    "    #Q: we should not add the stroke outcome in case of \"else\"?\n",
    "    #if selfReportStrokeAge is not None and selfReportStrokeAge > 1:\n",
    "    #        selfReportStrokeAge = selfReportStrokeAge if selfReportStrokeAge <= x.age else x.age\n",
    "    #        personOutcomes[OutcomeType.STROKE].append((selfReportStrokeAge, StrokeOutcome(False, None, None, None, priorToSim=True)))\n",
    "    #add pre-simulation mi outcomes\n",
    "    #selfReportMIAge=rng.integers(18, x.age) if x.selfReportMIAge == 99999 else x.selfReportMIAge\n",
    "    #if selfReportMIAge is not None and selfReportMIAge > 1:\n",
    "    #        selfReportMIAge = selfReportMIAge if selfReportMIAge <= x.age else x.age\n",
    "    #        personOutcomes[OutcomeType.MI].append((selfReportMIAge, Outcome(OutcomeType.MI, False, priorToSim=True)))\n",
    "\n",
    "    person = Person(name,\n",
    "                   personStaticRiskFactors,\n",
    "                   personDynamicRiskFactors,\n",
    "                   personDefaultTreatments,\n",
    "                   personTreatmentStrategies,\n",
    "                   personOutcomes)\n",
    "\n",
    "    #TO DO: find a way to initialize these rfs above with everything else\n",
    "    person._pvd = [initializationModelRepository[DynamicRiskFactorsType.PVD].estimate_next_risk(person)]\n",
    "    person._afib = [initializationModelRepository[DynamicRiskFactorsType.AFIB].estimate_next_risk(person)]\n",
    "    return person\n"
   ]
  },
  {
   "cell_type": "code",
   "execution_count": 8,
   "id": "10e08df7-e651-45b2-bd84-d185ab1d6e9d",
   "metadata": {},
   "outputs": [],
   "source": [
    "initializationModelRepository = {DynamicRiskFactorsType.AFIB: AFibPrevalenceModel(), \n",
    "                                     DynamicRiskFactorsType.PVD: PVDPrevalenceModel()}"
   ]
  },
  {
   "cell_type": "code",
   "execution_count": 9,
   "id": "18c8a41b-26a6-4d2f-a954-6be311582122",
   "metadata": {},
   "outputs": [],
   "source": [
    "dfSample = df.sample(100000, weights=df.WTINT2YR, replace=True)"
   ]
  },
  {
   "cell_type": "code",
   "execution_count": 10,
   "id": "417efbb6-9a51-4e9d-8de5-48e7b5f53cc8",
   "metadata": {},
   "outputs": [],
   "source": [
    "people = dfSample.apply(lambda x: build_person(x, initializationModelRepository), axis=1)"
   ]
  },
  {
   "cell_type": "code",
   "execution_count": 11,
   "id": "6892241c-39d2-4a9e-b41f-ac673eb0d7f6",
   "metadata": {},
   "outputs": [],
   "source": [
    "#sets the unique identifier for each Person instance\n",
    "noneList = list(map(lambda person, i: setattr(person, \"_index\", i), people, range(len(people)))) "
   ]
  },
  {
   "cell_type": "code",
   "execution_count": 12,
   "id": "0be6f713-cd96-4038-b54c-ca7c3a9b4cb5",
   "metadata": {},
   "outputs": [],
   "source": [
    "popModelRepository = PopulationModelRepository(CohortDynamicRiskFactorModelRepository(),\n",
    "                                                           CohortDefaultTreatmentModelRepository(),\n",
    "                                                           OutcomeModelRepository(),\n",
    "                                                           CohortStaticRiskFactorModelRepository()) \n",
    "pop = Population(people, popModelRepository)\n"
   ]
  },
  {
   "cell_type": "code",
   "execution_count": 13,
   "id": "6790d1ae-f5dd-4c21-ab10-f8312a8e1122",
   "metadata": {},
   "outputs": [
    {
     "data": {
      "text/plain": [
       "(100000,)"
      ]
     },
     "execution_count": 13,
     "metadata": {},
     "output_type": "execute_result"
    }
   ],
   "source": [
    "pop._people.shape"
   ]
  },
  {
   "cell_type": "code",
   "execution_count": 14,
   "id": "bc809f7b-ea81-4684-83df-1f7717671f53",
   "metadata": {},
   "outputs": [],
   "source": [
    "#pop2 = get_nhanes_population(1999)\n",
    "pop2 = NHANESDirectSamplePopulation(100000, 1999)\n",
    "pop2.advance(1)\n",
    "#pop2.print_baseline_summary()"
   ]
  },
  {
   "cell_type": "code",
   "execution_count": 15,
   "id": "d4eae7df-5eab-4bc0-a567-48c3750f2b1a",
   "metadata": {},
   "outputs": [
    {
     "name": "stdout",
     "output_type": "stream",
     "text": [
      "                                                     self  other\n",
      "                                               age   40.9   43.8\n",
      "                                               sbp  120.5  122.3\n",
      "                                               dbp   71.0   72.2\n",
      "                                               a1c    4.8    5.0\n",
      "                                               hdl   51.4   50.8\n",
      "                                               ldl  122.6  123.1\n",
      "                                              trig  139.1  146.8\n",
      "                                           totChol  200.9  201.6\n",
      "                                               bmi   26.7   27.4\n",
      "                               anyPhysicalActivity    0.7    0.7\n",
      "                                              afib    0.0    0.0\n",
      "                                             waist   93.2   94.6\n",
      "                                    alcoholPerWeek    1.9    1.9\n",
      "                                        creatinine    0.1    0.1\n",
      "                                               pvd    0.0    0.0\n",
      "              StaticRiskFactorsType.RACE_ETHNICITY\n",
      "                                                 1   0.07   0.07\n",
      "                                                 3   0.70   0.69\n",
      "                                                 4   0.11   0.11\n",
      "                                                 2   0.08   0.08\n",
      "                                                 5   0.05   0.05\n",
      "                   StaticRiskFactorsType.EDUCATION\n",
      "                                                 2   0.16   0.16\n",
      "                                                 3   0.25   0.25\n",
      "                                                 4   0.31   0.31\n",
      "                                                 1   0.07   0.07\n",
      "                                                 5   0.22   0.21\n",
      "                      StaticRiskFactorsType.GENDER\n",
      "                                                 2   0.52   0.52\n",
      "                                                 1   0.48   0.48\n",
      "              StaticRiskFactorsType.SMOKING_STATUS\n",
      "                                                 0   0.52   0.53\n",
      "                                                 2   0.24   0.24\n",
      "                                                 1   0.23   0.23\n"
     ]
    }
   ],
   "source": [
    "pop.print_baseline_summary_comparison(pop2)"
   ]
  },
  {
   "cell_type": "code",
   "execution_count": null,
   "id": "6f656764-292d-4dd6-805e-d3b4c98bee53",
   "metadata": {},
   "outputs": [],
   "source": []
  }
 ],
 "metadata": {
  "kernelspec": {
   "display_name": "microsimKernel",
   "language": "python",
   "name": "microsimkernel"
  },
  "language_info": {
   "codemirror_mode": {
    "name": "ipython",
    "version": 3
   },
   "file_extension": ".py",
   "mimetype": "text/x-python",
   "name": "python",
   "nbconvert_exporter": "python",
   "pygments_lexer": "ipython3",
   "version": "3.9.13"
  }
 },
 "nbformat": 4,
 "nbformat_minor": 5
}
