{
 "cells": [
  {
   "cell_type": "code",
   "execution_count": 1,
   "id": "22432516-568b-41c5-9eb5-770d81b2afb9",
   "metadata": {},
   "outputs": [],
   "source": [
    "import os\n",
    "import copy\n",
    "import pandas as pd\n",
    "pd.set_option('display.max_columns', None)\n",
    "pd.set_option('display.max_rows', None)\n",
    "import numpy as np\n",
    "import matplotlib.pyplot as plt\n",
    "from collections import Counter\n",
    "from scipy.stats import multivariate_normal\n",
    "\n",
    "from microsim.population import (NHANESDirectSamplePopulation, \n",
    "                                 build_people_using_nhanes_for_sampling,\n",
    "                                 microsimToNhanes, Population, get_nhanes_population)\n",
    "from microsim.risk_model_repository import RiskModelRepository\n",
    "from microsim.gender import NHANESGender\n",
    "from microsim.smoking_status import SmokingStatus\n",
    "from microsim.race_ethnicity import NHANESRaceEthnicity\n",
    "from microsim.education import Education\n",
    "from microsim.treatment import DefaultTreatmentsType,  TreatmentStrategiesType\n",
    "from microsim.risk_factor import StaticRiskFactorsType, DynamicRiskFactorsType\n",
    "from microsim.afib_model import AFibPrevalenceModel\n",
    "from microsim.pvd_model import PVDPrevalenceModel\n",
    "from microsim.outcome import Outcome, OutcomeType\n",
    "from microsim.person import Person\n",
    "from microsim.population_model_repository import PopulationModelRepository\n",
    "from microsim.cohort_risk_model_repository import (CohortStaticRiskFactorModelRepository,\n",
    "                                                   CohortDynamicRiskFactorModelRepository,\n",
    "                                                   CohortDefaultTreatmentModelRepository)\n",
    "from microsim.outcome_model_repository import OutcomeModelRepository\n",
    "\n",
    "microsimDir = \"/Users/deligkaris.1/OneDrive - The Ohio State University Wexner Medical Center/MICROSIM\"\n",
    "os.chdir(microsimDir+\"/CODE/microsim\")\n",
    "\n",
    "dataDir = microsimDir+\"/NOTEBOOKS/DATA\"\n",
    "\n",
    "popSize = 300000"
   ]
  },
  {
   "cell_type": "code",
   "execution_count": 2,
   "id": "f7ee2a27-1aed-4f28-843c-9c4eaf3125b1",
   "metadata": {},
   "outputs": [],
   "source": [
    "categoricalVars = [\"gender\", \"smokingStatus\", \"raceEthnicity\", \"statin\",'education',\n",
    "                  'alcoholPerWeek','anyPhysicalActivity','antiHypertensiveCount']\n",
    "continuousVars = ['age', 'hdl', 'bmi', 'totChol', 'trig', 'a1c', 'ldl', 'waist', 'creatinine', 'sbp', 'dbp']"
   ]
  },
  {
   "cell_type": "code",
   "execution_count": 3,
   "id": "2068b91d-74f2-40cc-82be-ead2aac71682",
   "metadata": {},
   "outputs": [],
   "source": [
    "nhanesDf = pd.read_stata(microsimDir + \"/CODE/microsim/microsim/data/fullyImputedDataset.dta\")\n",
    "nhanesDf = nhanesDf.rename(columns={\"level_0\":\"name\"})"
   ]
  },
  {
   "cell_type": "code",
   "execution_count": 4,
   "id": "78be559d-402e-49d3-ba18-b6853f0b10a3",
   "metadata": {},
   "outputs": [
    {
     "data": {
      "text/html": [
       "<div>\n",
       "<style scoped>\n",
       "    .dataframe tbody tr th:only-of-type {\n",
       "        vertical-align: middle;\n",
       "    }\n",
       "\n",
       "    .dataframe tbody tr th {\n",
       "        vertical-align: top;\n",
       "    }\n",
       "\n",
       "    .dataframe thead th {\n",
       "        text-align: right;\n",
       "    }\n",
       "</style>\n",
       "<table border=\"1\" class=\"dataframe\">\n",
       "  <thead>\n",
       "    <tr style=\"text-align: right;\">\n",
       "      <th></th>\n",
       "      <th>name</th>\n",
       "      <th>gender</th>\n",
       "      <th>smokingStatus</th>\n",
       "      <th>raceEthnicity</th>\n",
       "      <th>statin</th>\n",
       "      <th>education</th>\n",
       "      <th>alcoholPerWeek</th>\n",
       "      <th>anyPhysicalActivity</th>\n",
       "      <th>antiHypertensiveCount</th>\n",
       "      <th>age</th>\n",
       "      <th>hdl</th>\n",
       "      <th>bmi</th>\n",
       "      <th>totChol</th>\n",
       "      <th>trig</th>\n",
       "      <th>a1c</th>\n",
       "      <th>ldl</th>\n",
       "      <th>waist</th>\n",
       "      <th>creatinine</th>\n",
       "      <th>sbp</th>\n",
       "      <th>dbp</th>\n",
       "    </tr>\n",
       "  </thead>\n",
       "  <tbody>\n",
       "    <tr>\n",
       "      <th>0</th>\n",
       "      <td>41909</td>\n",
       "      <td>1</td>\n",
       "      <td>0</td>\n",
       "      <td>1</td>\n",
       "      <td>False</td>\n",
       "      <td>1</td>\n",
       "      <td>0</td>\n",
       "      <td>0</td>\n",
       "      <td>0.0</td>\n",
       "      <td>40</td>\n",
       "      <td>59.860116</td>\n",
       "      <td>30.433631</td>\n",
       "      <td>243.771416</td>\n",
       "      <td>60.782933</td>\n",
       "      <td>5.915046</td>\n",
       "      <td>154.068838</td>\n",
       "      <td>98.907992</td>\n",
       "      <td>0.859896</td>\n",
       "      <td>117.463015</td>\n",
       "      <td>80.630951</td>\n",
       "    </tr>\n",
       "    <tr>\n",
       "      <th>1</th>\n",
       "      <td>42688</td>\n",
       "      <td>1</td>\n",
       "      <td>0</td>\n",
       "      <td>1</td>\n",
       "      <td>False</td>\n",
       "      <td>1</td>\n",
       "      <td>0</td>\n",
       "      <td>0</td>\n",
       "      <td>0.0</td>\n",
       "      <td>66</td>\n",
       "      <td>49.866495</td>\n",
       "      <td>26.274580</td>\n",
       "      <td>252.707847</td>\n",
       "      <td>93.523817</td>\n",
       "      <td>6.556322</td>\n",
       "      <td>170.343466</td>\n",
       "      <td>94.925142</td>\n",
       "      <td>0.906850</td>\n",
       "      <td>144.930624</td>\n",
       "      <td>78.151846</td>\n",
       "    </tr>\n",
       "    <tr>\n",
       "      <th>2</th>\n",
       "      <td>43025</td>\n",
       "      <td>1</td>\n",
       "      <td>0</td>\n",
       "      <td>1</td>\n",
       "      <td>False</td>\n",
       "      <td>1</td>\n",
       "      <td>0</td>\n",
       "      <td>0</td>\n",
       "      <td>0.0</td>\n",
       "      <td>58</td>\n",
       "      <td>51.263620</td>\n",
       "      <td>28.790801</td>\n",
       "      <td>207.808584</td>\n",
       "      <td>168.141061</td>\n",
       "      <td>6.219358</td>\n",
       "      <td>122.685090</td>\n",
       "      <td>100.727180</td>\n",
       "      <td>0.954121</td>\n",
       "      <td>126.312875</td>\n",
       "      <td>68.255347</td>\n",
       "    </tr>\n",
       "    <tr>\n",
       "      <th>3</th>\n",
       "      <td>43390</td>\n",
       "      <td>1</td>\n",
       "      <td>0</td>\n",
       "      <td>1</td>\n",
       "      <td>False</td>\n",
       "      <td>1</td>\n",
       "      <td>0</td>\n",
       "      <td>0</td>\n",
       "      <td>0.0</td>\n",
       "      <td>41</td>\n",
       "      <td>53.007622</td>\n",
       "      <td>29.412992</td>\n",
       "      <td>228.923683</td>\n",
       "      <td>65.223746</td>\n",
       "      <td>5.654073</td>\n",
       "      <td>144.108985</td>\n",
       "      <td>100.058501</td>\n",
       "      <td>0.775893</td>\n",
       "      <td>127.072760</td>\n",
       "      <td>76.350982</td>\n",
       "    </tr>\n",
       "    <tr>\n",
       "      <th>4</th>\n",
       "      <td>44501</td>\n",
       "      <td>1</td>\n",
       "      <td>0</td>\n",
       "      <td>1</td>\n",
       "      <td>False</td>\n",
       "      <td>1</td>\n",
       "      <td>0</td>\n",
       "      <td>0</td>\n",
       "      <td>0.0</td>\n",
       "      <td>51</td>\n",
       "      <td>53.265911</td>\n",
       "      <td>21.477110</td>\n",
       "      <td>179.991013</td>\n",
       "      <td>119.950624</td>\n",
       "      <td>5.342257</td>\n",
       "      <td>110.602062</td>\n",
       "      <td>80.954864</td>\n",
       "      <td>0.631021</td>\n",
       "      <td>129.142989</td>\n",
       "      <td>69.216155</td>\n",
       "    </tr>\n",
       "  </tbody>\n",
       "</table>\n",
       "</div>"
      ],
      "text/plain": [
       "    name  gender  smokingStatus  raceEthnicity  statin  education  \\\n",
       "0  41909       1              0              1   False          1   \n",
       "1  42688       1              0              1   False          1   \n",
       "2  43025       1              0              1   False          1   \n",
       "3  43390       1              0              1   False          1   \n",
       "4  44501       1              0              1   False          1   \n",
       "\n",
       "   alcoholPerWeek  anyPhysicalActivity  antiHypertensiveCount  age        hdl  \\\n",
       "0               0                    0                    0.0   40  59.860116   \n",
       "1               0                    0                    0.0   66  49.866495   \n",
       "2               0                    0                    0.0   58  51.263620   \n",
       "3               0                    0                    0.0   41  53.007622   \n",
       "4               0                    0                    0.0   51  53.265911   \n",
       "\n",
       "         bmi     totChol        trig       a1c         ldl       waist  \\\n",
       "0  30.433631  243.771416   60.782933  5.915046  154.068838   98.907992   \n",
       "1  26.274580  252.707847   93.523817  6.556322  170.343466   94.925142   \n",
       "2  28.790801  207.808584  168.141061  6.219358  122.685090  100.727180   \n",
       "3  29.412992  228.923683   65.223746  5.654073  144.108985  100.058501   \n",
       "4  21.477110  179.991013  119.950624  5.342257  110.602062   80.954864   \n",
       "\n",
       "   creatinine         sbp        dbp  \n",
       "0    0.859896  117.463015  80.630951  \n",
       "1    0.906850  144.930624  78.151846  \n",
       "2    0.954121  126.312875  68.255347  \n",
       "3    0.775893  127.072760  76.350982  \n",
       "4    0.631021  129.142989  69.216155  "
      ]
     },
     "execution_count": 4,
     "metadata": {},
     "output_type": "execute_result"
    }
   ],
   "source": [
    "df = pd.read_csv(dataDir+\"/nhanes-persons-from-Gaussians.csv\")\n",
    "df.head()"
   ]
  },
  {
   "cell_type": "code",
   "execution_count": 5,
   "id": "f4a9e3bc-4dd7-4d16-bd61-7a633c141b60",
   "metadata": {},
   "outputs": [
    {
     "data": {
      "text/plain": [
       "count    5448.000000\n",
       "mean       43.831131\n",
       "std        17.465267\n",
       "min        13.000000\n",
       "25%        30.000000\n",
       "50%        43.000000\n",
       "75%        56.000000\n",
       "max       110.000000\n",
       "Name: age, dtype: float64"
      ]
     },
     "execution_count": 5,
     "metadata": {},
     "output_type": "execute_result"
    }
   ],
   "source": [
    "df[\"age\"].describe()"
   ]
  },
  {
   "cell_type": "code",
   "execution_count": 6,
   "id": "09e12f84-2da8-48b2-8476-fd97769c0cb8",
   "metadata": {},
   "outputs": [
    {
     "data": {
      "text/plain": [
       "(5448, 20)"
      ]
     },
     "execution_count": 6,
     "metadata": {},
     "output_type": "execute_result"
    }
   ],
   "source": [
    "df.shape"
   ]
  },
  {
   "cell_type": "code",
   "execution_count": 7,
   "id": "415dea93-c31e-431f-9c38-0185012908f4",
   "metadata": {},
   "outputs": [
    {
     "data": {
      "text/plain": [
       "(5448, 21)"
      ]
     },
     "execution_count": 7,
     "metadata": {},
     "output_type": "execute_result"
    }
   ],
   "source": [
    "df = df.merge(nhanesDf[[\"name\",\"WTINT2YR\"]], on=\"name\", how=\"inner\").copy()\n",
    "df.shape"
   ]
  },
  {
   "cell_type": "code",
   "execution_count": 8,
   "id": "e5821546-fe48-4827-89b7-f83ed54d96e2",
   "metadata": {},
   "outputs": [],
   "source": [
    "def build_person(x, initializationModelRepository):\n",
    "    \"\"\"Takes all Person-instance-related data via x and initializationModelRepository and organizes it,\n",
    "       passes the organized data to the Person class and returns a Person instance.\"\"\"\n",
    "    \n",
    "    rng = np.random.default_rng()\n",
    "        \n",
    "    name = x.name\n",
    "    \n",
    "    personStaticRiskFactors = {\n",
    "                        StaticRiskFactorsType.RACE_ETHNICITY.value: NHANESRaceEthnicity(int(x.raceEthnicity)),\n",
    "                        StaticRiskFactorsType.EDUCATION.value: Education(int(x.education)),\n",
    "                        StaticRiskFactorsType.GENDER.value: NHANESGender(int(x.gender)),\n",
    "                        StaticRiskFactorsType.SMOKING_STATUS.value: SmokingStatus(int(x.smokingStatus))}\n",
    "        \n",
    "    #use this to get the bounds imposed on the risk factors in a bit\n",
    "    rfRepository = RiskModelRepository()\n",
    "        \n",
    "    #TO DO: find a way to include everything here, including the rfs that need initialization\n",
    "    #the PVD model would be easy to implement, eg with an estimate_next_risk_for_patient_characteristics function\n",
    "    #but the AFIB model would be more difficult because it relies on statsmodel_logistic_risk file\n",
    "    #for now include None, in order to create the risk factor lists correctly at the Person instance\n",
    "    personDynamicRiskFactors = dict()\n",
    "    for rfd in DynamicRiskFactorsType:\n",
    "        #if rfd==DynamicRiskFactorsType.ALCOHOL_PER_WEEK:\n",
    "        #    personDynamicRiskFactors[rfd.value] = AlcoholCategory.get_category_for_consumption(rfRepository.apply_bounds(rfd.value, x[microsimToNhanes[rfd.value]]))\n",
    "        #else:\n",
    "        if (rfd!=DynamicRiskFactorsType.PVD) & (rfd!=DynamicRiskFactorsType.AFIB):\n",
    "            personDynamicRiskFactors[rfd.value] = rfRepository.apply_bounds(rfd.value, x[rfd.value])\n",
    "    personDynamicRiskFactors[DynamicRiskFactorsType.AFIB.value] = None\n",
    "    personDynamicRiskFactors[DynamicRiskFactorsType.PVD.value] = None\n",
    "\n",
    "    #Q: do we need otherLipid treatment? I am not bringing it to the Person objects for now.\n",
    "    #A: it is ok to leave it out as we do not have a model to update this. It is also very rarely taking place in the population anyway.\n",
    "    #also: used to have round(x.statin) but NHANES includes statin=2...\n",
    "    personDefaultTreatments = {\n",
    "                        DefaultTreatmentsType.STATIN.value: bool(x.statin),\n",
    "                        #DefaultTreatmentsType.OTHER_LIPID_LOWERING_MEDICATION_COUNT.value: x.otherLipidLowering,\n",
    "                        DefaultTreatmentsType.ANTI_HYPERTENSIVE_COUNT.value: x.antiHypertensiveCount}\n",
    "\n",
    "    personTreatmentStrategies = dict(zip([strategy.value for strategy in TreatmentStrategiesType],\n",
    "                                         #[None for strategy in range(len(TreatmentStrategiesType))]))\n",
    "                                         [{\"status\": None} for strategy in range(len(TreatmentStrategiesType))]))\n",
    "\n",
    "    personOutcomes = dict(zip([outcome for outcome in OutcomeType],\n",
    "                                  [list() for outcome in range(len(OutcomeType))]))\n",
    "    #add pre-simulation stroke outcomes\n",
    "    #selfReportStrokeAge=x.selfReportStrokeAge\n",
    "    #Q: we should not add the stroke outcome in case of \"else\"?\n",
    "    #if selfReportStrokeAge is not None and selfReportStrokeAge > 1:\n",
    "    #        selfReportStrokeAge = selfReportStrokeAge if selfReportStrokeAge <= x.age else x.age\n",
    "    #        personOutcomes[OutcomeType.STROKE].append((selfReportStrokeAge, StrokeOutcome(False, None, None, None, priorToSim=True)))\n",
    "    #add pre-simulation mi outcomes\n",
    "    #selfReportMIAge=rng.integers(18, x.age) if x.selfReportMIAge == 99999 else x.selfReportMIAge\n",
    "    #if selfReportMIAge is not None and selfReportMIAge > 1:\n",
    "    #        selfReportMIAge = selfReportMIAge if selfReportMIAge <= x.age else x.age\n",
    "    #        personOutcomes[OutcomeType.MI].append((selfReportMIAge, Outcome(OutcomeType.MI, False, priorToSim=True)))\n",
    "\n",
    "    person = Person(name,\n",
    "                   personStaticRiskFactors,\n",
    "                   personDynamicRiskFactors,\n",
    "                   personDefaultTreatments,\n",
    "                   personTreatmentStrategies,\n",
    "                   personOutcomes)\n",
    "\n",
    "    #TO DO: find a way to initialize these rfs above with everything else\n",
    "    person._pvd = [initializationModelRepository[DynamicRiskFactorsType.PVD].estimate_next_risk(person)]\n",
    "    person._afib = [initializationModelRepository[DynamicRiskFactorsType.AFIB].estimate_next_risk(person)]\n",
    "    return person\n"
   ]
  },
  {
   "cell_type": "code",
   "execution_count": 9,
   "id": "10e08df7-e651-45b2-bd84-d185ab1d6e9d",
   "metadata": {},
   "outputs": [],
   "source": [
    "initializationModelRepository = {DynamicRiskFactorsType.AFIB: AFibPrevalenceModel(), \n",
    "                                     DynamicRiskFactorsType.PVD: PVDPrevalenceModel()}"
   ]
  },
  {
   "cell_type": "code",
   "execution_count": 10,
   "id": "18c8a41b-26a6-4d2f-a954-6be311582122",
   "metadata": {},
   "outputs": [],
   "source": [
    "dfSample = df.sample(popSize, weights=df.WTINT2YR, replace=True)"
   ]
  },
  {
   "cell_type": "code",
   "execution_count": 11,
   "id": "417efbb6-9a51-4e9d-8de5-48e7b5f53cc8",
   "metadata": {},
   "outputs": [],
   "source": [
    "people = dfSample.apply(lambda x: build_person(x, initializationModelRepository), axis=1)"
   ]
  },
  {
   "cell_type": "code",
   "execution_count": 12,
   "id": "6892241c-39d2-4a9e-b41f-ac673eb0d7f6",
   "metadata": {},
   "outputs": [],
   "source": [
    "#sets the unique identifier for each Person instance\n",
    "noneList = list(map(lambda person, i: setattr(person, \"_index\", i), people, range(len(people)))) "
   ]
  },
  {
   "cell_type": "code",
   "execution_count": 13,
   "id": "0be6f713-cd96-4038-b54c-ca7c3a9b4cb5",
   "metadata": {},
   "outputs": [],
   "source": [
    "popModelRepository = PopulationModelRepository(CohortDynamicRiskFactorModelRepository(),\n",
    "                                                           CohortDefaultTreatmentModelRepository(),\n",
    "                                                           OutcomeModelRepository(),\n",
    "                                                           CohortStaticRiskFactorModelRepository()) \n",
    "pop = Population(people, popModelRepository)"
   ]
  },
  {
   "cell_type": "code",
   "execution_count": 14,
   "id": "6790d1ae-f5dd-4c21-ab10-f8312a8e1122",
   "metadata": {},
   "outputs": [
    {
     "data": {
      "text/plain": [
       "(300000,)"
      ]
     },
     "execution_count": 14,
     "metadata": {},
     "output_type": "execute_result"
    }
   ],
   "source": [
    "pop._people.shape"
   ]
  },
  {
   "cell_type": "code",
   "execution_count": 15,
   "id": "bc809f7b-ea81-4684-83df-1f7717671f53",
   "metadata": {},
   "outputs": [],
   "source": [
    "#pop2 = get_nhanes_population(1999)\n",
    "pop2 = NHANESDirectSamplePopulation(popSize, 1999)\n",
    "pop2.advance(1)\n",
    "#pop2.print_baseline_summary()"
   ]
  },
  {
   "cell_type": "code",
   "execution_count": 16,
   "id": "d4eae7df-5eab-4bc0-a567-48c3750f2b1a",
   "metadata": {},
   "outputs": [
    {
     "name": "stdout",
     "output_type": "stream",
     "text": [
      "                                                     self                              other\n",
      "                                                     min    0.25   med    0.75    max   min    0.25   med    0.75    max\n",
      "                                               age   18.0   31.0   44.2   55.0   85.0   18.0   30.0   43.8   55.0   85.0\n",
      "                                               sbp   72.0  111.0  122.5  133.0  219.0   72.0  109.0  122.3  131.0  266.0\n",
      "                                               dbp   40.0   64.0   71.5   79.0  116.0   40.0   65.0   72.1   79.0  132.0\n",
      "                                               a1c    3.0    4.0    4.9    5.0   11.0    2.0    5.0    5.0    5.0   15.0\n",
      "                                               hdl   18.0   42.0   51.8   60.0  125.0    8.0   40.0   50.8   59.0  151.0\n",
      "                                               ldl   29.0  103.0  126.0  147.0  259.0   28.0   98.0  123.0  145.0  354.0\n",
      "                                              trig   20.0   97.0  154.0  187.0  1167.0   12.0   83.0  146.7  177.0  2141.0\n",
      "                                           totChol   85.0  180.0  206.1  230.0  359.0   72.0  173.0  201.4  227.0  525.0\n",
      "                                               bmi   12.0   23.0   26.9   30.0   58.0   12.0   23.0   27.4   31.0   67.0\n",
      "                               anyPhysicalActivity    0.0    0.0    0.7    1.0    1.0    0.0    0.0    0.7    1.0    1.0\n",
      "                                              afib    0.0    0.0    0.0    0.0    1.0    0.0    0.0    0.0    0.0    1.0\n",
      "                                             waist   58.0   84.0   94.0  104.0  149.0   58.0   83.0   94.8  104.0  173.0\n",
      "                                    alcoholPerWeek    0.0    0.0    1.9    3.0    3.0    0.0    0.0    1.9    3.0    3.0\n",
      "                                        creatinine    0.0    0.0    0.1    0.0    1.0    0.0    0.0    0.1    0.0   11.0\n",
      "                                               pvd    0.0    0.0    0.0    0.0    1.0    0.0    0.0    0.0    0.0    1.0\n",
      "                                                     self   other\n",
      "                                                     proportions\n",
      "              StaticRiskFactorsType.RACE_ETHNICITY\n",
      "                                                 3   0.69   0.69\n",
      "                                                 2   0.08   0.08\n",
      "                                                 5   0.05   0.05\n",
      "                                                 4   0.11   0.11\n",
      "                                                 1   0.06   0.06\n",
      "                   StaticRiskFactorsType.EDUCATION\n",
      "                                                 2   0.16   0.16\n",
      "                                                 4   0.30   0.30\n",
      "                                                 3   0.25   0.25\n",
      "                                                 5   0.22   0.22\n",
      "                                                 1   0.07   0.07\n",
      "                      StaticRiskFactorsType.GENDER\n",
      "                                                 2   0.52   0.52\n",
      "                                                 1   0.48   0.48\n",
      "              StaticRiskFactorsType.SMOKING_STATUS\n",
      "                                                 0   0.53   0.53\n",
      "                                                 2   0.24   0.24\n",
      "                                                 1   0.23   0.23\n"
     ]
    }
   ],
   "source": [
    "pop.print_baseline_summary_comparison(pop2)"
   ]
  },
  {
   "cell_type": "code",
   "execution_count": 17,
   "id": "4e142ccd-18f2-48c9-ae16-84dc971b75d1",
   "metadata": {},
   "outputs": [],
   "source": [
    "personsOut = list(filter( lambda x: ((x._sbp[0]>=72.) & (x._sbp[0]<=81.)) | ((x._sbp[0]>=207.) & (x._sbp[0]<=266.)) , pop2._people))"
   ]
  },
  {
   "cell_type": "code",
   "execution_count": 18,
   "id": "601e34a4-fe8d-46e5-9cef-4d78fc1b3694",
   "metadata": {},
   "outputs": [
    {
     "data": {
      "text/plain": [
       "823"
      ]
     },
     "execution_count": 18,
     "metadata": {},
     "output_type": "execute_result"
    }
   ],
   "source": [
    "len(personsOut)"
   ]
  },
  {
   "cell_type": "code",
   "execution_count": 19,
   "id": "2d98875f-ffb2-4a26-a501-c27ec5ae6c05",
   "metadata": {},
   "outputs": [],
   "source": [
    "personsOutUnique = set(map( lambda x: x._name, personsOut) )"
   ]
  },
  {
   "cell_type": "code",
   "execution_count": 20,
   "id": "ceeb8b54-dba2-412b-b378-56ea3b6bed2d",
   "metadata": {},
   "outputs": [
    {
     "data": {
      "text/plain": [
       "21"
      ]
     },
     "execution_count": 20,
     "metadata": {},
     "output_type": "execute_result"
    }
   ],
   "source": [
    "len(personsOutUnique)"
   ]
  },
  {
   "cell_type": "code",
   "execution_count": 21,
   "id": "ae32a06e-6e90-4d37-bdd6-15a5524d1513",
   "metadata": {},
   "outputs": [
    {
     "name": "stdout",
     "output_type": "stream",
     "text": [
      "CPU times: user 1min 40s, sys: 2min 53s, total: 4min 33s\n",
      "Wall time: 31min 37s\n"
     ]
    }
   ],
   "source": [
    "%%time\n",
    "pop.advance(18, None, nWorkers=5)"
   ]
  },
  {
   "cell_type": "code",
   "execution_count": null,
   "id": "ac477d58-d191-4617-b945-a13707465c97",
   "metadata": {},
   "outputs": [],
   "source": [
    "%%time\n",
    "pop2.advance(18, None, nWorkers=5)"
   ]
  },
  {
   "cell_type": "code",
   "execution_count": null,
   "id": "cb82b216-5cc2-4a4c-972f-407c3337d74e",
   "metadata": {},
   "outputs": [],
   "source": [
    "pop.print_lastyear_summary_comparison(pop2)"
   ]
  },
  {
   "cell_type": "code",
   "execution_count": null,
   "id": "44dfea2e-233f-4a58-8bd6-a2ca4b0bcaae",
   "metadata": {},
   "outputs": [],
   "source": [
    "%%time\n",
    "pop.print_cv_standardized_rates()"
   ]
  },
  {
   "cell_type": "code",
   "execution_count": null,
   "id": "68a55ee7-8a83-4669-bbbd-1a7873886cab",
   "metadata": {},
   "outputs": [],
   "source": [
    "%%time\n",
    "pop2.print_cv_standardized_rates()"
   ]
  },
  {
   "cell_type": "code",
   "execution_count": null,
   "id": "4f527481-8a2c-4e1d-8dad-51e8958a8d3c",
   "metadata": {},
   "outputs": [],
   "source": [
    "%%time\n",
    "pop.print_dementia_incidence()"
   ]
  },
  {
   "cell_type": "code",
   "execution_count": null,
   "id": "0b8ffb30-d3ca-4eab-bade-f50470ac7211",
   "metadata": {},
   "outputs": [],
   "source": [
    "nYears=5\n",
    "nSimulations = 4\n",
    "for bpMedsAdded in [1]:\n",
    "    miRRList = list()\n",
    "    strokeRRList = list()\n",
    "    print(f\"\\nbpMedsAdded={bpMedsAdded}\")\n",
    "    for i in range(nSimulations):\n",
    "        treatmentPop = NHANESDirectSamplePopulation(popSize, 1999)\n",
    "        controlPop = NHANESDirectSamplePopulation(popSize, 1999)\n",
    "        treatmentStrategies = TreatmentStrategyRepository()\n",
    "        #treatmentStrategies._repository[TreatmentStrategiesType.BP.value] = AddASingleBPMedTreatmentStrategy()\n",
    "        treatmentStrategies._repository[TreatmentStrategiesType.BP.value] = AddNBPMedsTreatmentStrategy(bpMedsAdded)\n",
    "        treatmentPop.advance_parallel(1, treatmentStrategies = treatmentStrategies, nWorkers=nWorkers)\n",
    "        treatmentStrategies._repository[TreatmentStrategiesType.BP.value].status = TreatmentStrategyStatus.MAINTAIN\n",
    "        treatmentPop.advance_parallel(nYears-1, treatmentStrategies = treatmentStrategies, nWorkers=nWorkers)\n",
    "        controlPop.advance_parallel(nYears, nWorkers=nWorkers)\n",
    "        controlRisk = sum(list(map(lambda x: x.has_outcome_during_simulation(OutcomeType.STROKE),\n",
    "                                       controlPop._people)))/controlPop._n\n",
    "        treatmentRisk = sum(list(map(lambda x: x.has_outcome_during_simulation(OutcomeType.STROKE),\n",
    "                                         treatmentPop._people)))/treatmentPop._n\n",
    "        strokeRR = treatmentRisk/controlRisk\n",
    "        controlRisk = sum(list(map(lambda x: x.has_outcome_during_simulation(OutcomeType.MI),\n",
    "                                       controlPop._people)))/controlPop._n\n",
    "        treatmentRisk = sum(list(map(lambda x: x.has_outcome_during_simulation(OutcomeType.MI),\n",
    "                                         treatmentPop._people)))/treatmentPop._n\n",
    "        miRR = treatmentRisk/controlRisk\n",
    "        miRRList += [miRR]\n",
    "        strokeRRList += [strokeRR]\n",
    "        print(f\"\\t\\tsimulation={i}, stroke RR={strokeRR:<4.2f}, mi RR={miRR:<4.2f}\")\n",
    "    print(f\"average of {nSimulations} simulations: stroke RR={np.mean(strokeRRList):<4.2f}, mi RR={np.mean(miRRList):4.2f}\")\n",
    "    print(f\"sd of {nSimulations} simulations: stroke RR={np.std(strokeRRList):<4.2f}, mi RR={np.std(miRRList):<4.2f}\")\n"
   ]
  }
 ],
 "metadata": {
  "kernelspec": {
   "display_name": "microsimKernel",
   "language": "python",
   "name": "microsimkernel"
  },
  "language_info": {
   "codemirror_mode": {
    "name": "ipython",
    "version": 3
   },
   "file_extension": ".py",
   "mimetype": "text/x-python",
   "name": "python",
   "nbconvert_exporter": "python",
   "pygments_lexer": "ipython3",
   "version": "3.9.13"
  }
 },
 "nbformat": 4,
 "nbformat_minor": 5
}
