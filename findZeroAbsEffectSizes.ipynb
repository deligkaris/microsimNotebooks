{
 "cells": [
  {
   "cell_type": "code",
   "execution_count": null,
   "id": "1c1aa614",
   "metadata": {},
   "outputs": [],
   "source": [
    "#%matplotlib qt"
   ]
  },
  {
   "cell_type": "code",
   "execution_count": 1,
   "id": "5ed7920a",
   "metadata": {},
   "outputs": [
    {
     "data": {
      "application/javascript": [
       "IPython.notebook.set_autosave_interval(120000)"
      ]
     },
     "metadata": {},
     "output_type": "display_data"
    },
    {
     "name": "stdout",
     "output_type": "stream",
     "text": [
      "Autosaving every 120 seconds\n"
     ]
    }
   ],
   "source": [
    "%matplotlib notebook\n",
    "%matplotlib inline\n",
    "%autosave 120"
   ]
  },
  {
   "cell_type": "code",
   "execution_count": 2,
   "id": "7d42665b",
   "metadata": {},
   "outputs": [],
   "source": [
    "import os\n",
    "import pandas as pd\n",
    "pd.set_option('display.max_columns', None)\n",
    "pd.set_option('display.max_rows', None)\n",
    "from pandarallel import pandarallel\n",
    "import multiprocessing as mp\n",
    "import numpy as np\n",
    "import matplotlib.pyplot as plt"
   ]
  },
  {
   "cell_type": "code",
   "execution_count": 3,
   "id": "c99eb699",
   "metadata": {},
   "outputs": [],
   "source": [
    "from matplotlib import cm\n",
    "from mpl_toolkits.mplot3d import Axes3D"
   ]
  },
  {
   "cell_type": "code",
   "execution_count": 4,
   "id": "459f6d33",
   "metadata": {},
   "outputs": [],
   "source": [
    "from microsim.bp_treatment_strategies import *\n",
    "\n",
    "from microsim.outcome_model_repository import OutcomeModelRepository\n",
    "from microsim.outcome_model_type import OutcomeModelType\n",
    "from microsim.person import Person\n",
    "\n",
    "from microsim.population import NHANESDirectSamplePopulation\n",
    "\n",
    "from microsim.bp_treatment_strategies import SprintTreatment\n",
    "\n",
    "from microsim.sim_settings import simSettings\n",
    "\n",
    "from microsim.trials.trialset import TrialsetParallel, TrialsetSerial\n",
    "from microsim.trials.trial_description import TrialDescription\n",
    "from microsim.trials.logistic_regression_analysis import LogisticRegressionAnalysis\n",
    "from microsim.trials.linear_regression_analysis import LinearRegressionAnalysis\n",
    "from microsim.trials.outcome_assessor import OutcomeAssessor\n",
    "from microsim.trials.attribute_outcome_assessor import AttributeOutcomeAssessor\n",
    "from microsim.trials.attribute_outcome_assessor import AssessmentMethod\n",
    "from microsim.trials.risk_filter import RiskFilter\n",
    "from microsim.trials.trial_utils import get_analysis_name, randomizationSchema"
   ]
  },
  {
   "cell_type": "code",
   "execution_count": 5,
   "id": "ae6848f8",
   "metadata": {},
   "outputs": [],
   "source": [
    "#any microsim dir will work, just need to access the NHANES data\n",
    "#microsimDir = \"/users/PAS2164/deligkaris/MICROSIM/CODE/microsim\"\n",
    "microsimDir = \"/Users/deligkaris.1/OneDrive - The Ohio State University Wexner Medical Center/MICROSIM/CODE/microsim\"\n",
    "os.chdir(microsimDir)\n",
    "imputedDataset = pd.read_stata(microsimDir + \"/microsim/data/fullyImputedDataset.dta\")\n",
    "dataDir = \"/Users/deligkaris.1/OneDrive - The Ohio State University Wexner Medical Center/MICROSIM/NOTEBOOKS/DATA\""
   ]
  },
  {
   "cell_type": "code",
   "execution_count": 6,
   "id": "d35378fd",
   "metadata": {},
   "outputs": [],
   "source": [
    "#read the quantiles found in cvDementiaQuantiles.ipynb\n",
    "#quantilesToInclude = pd.read_csv(dataDir + \"/dementiaAndCVQuantilesToInclude.csv\",index_col=0)\n",
    "quantiles = pd.read_csv(dataDir + \"/dementiaAndCVQuantileThresholds.csv\",index_col=0)"
   ]
  },
  {
   "cell_type": "code",
   "execution_count": 7,
   "id": "2eae9f74",
   "metadata": {},
   "outputs": [],
   "source": [
    "#inputDemThresholds=[]\n",
    "#inputCvThresholds=[]\n",
    "#for i,j in quantilesToInclude[[\"demRisk\",\"cvRisk\"]].iterrows():\n",
    "#    inputDemThresholds.append(quantiles.iloc[j[\"demRisk\"]][\"dementia\"])\n",
    "#    inputCvThresholds.append(quantiles.iloc[j[\"cvRisk\"]][\"cv\"])"
   ]
  },
  {
   "cell_type": "code",
   "execution_count": 8,
   "id": "d7358a44",
   "metadata": {},
   "outputs": [],
   "source": [
    "#quantilesToInclude.head()"
   ]
  },
  {
   "cell_type": "code",
   "execution_count": 9,
   "id": "42bca0e9",
   "metadata": {},
   "outputs": [],
   "source": [
    "#at the beginning turn on pandarallel if you are planning to use TrialsetSerial\n",
    "pandarallel.initialize(verbose=1) #microsim by default now does not initialize pandarallel\n",
    "simSettings.pandarallelFlag = True #with this flag all new population instances will be set to use pandarallel"
   ]
  },
  {
   "cell_type": "code",
   "execution_count": null,
   "id": "f0fa8d4b",
   "metadata": {},
   "outputs": [
    {
     "name": "stderr",
     "output_type": "stream",
     "text": [
      "/Users/deligkaris.1/Library/Caches/pypoetry/virtualenvs/microsim-54NoInYP-py3.9/lib/python3.9/site-packages/pandarallel/data_types/series.py:16: FutureWarning: The behavior of `series[i:j]` with an integer-dtype index is deprecated. In a future version, this will be treated as *label-based* indexing, consistent with e.g. `series[i]` lookups. To retain the old behavior, use `series.iloc[i:j]`. To get the future behavior, use `series.loc[i:j]`.\n",
      "  yield data[chunk_]\n"
     ]
    }
   ],
   "source": [
    "%%time\n",
    "# 1.5 hours 150,000 pop and 20 years\n",
    "# 4 hours 150k pop and 200 years\n",
    "popSprint = NHANESDirectSamplePopulation(150000, 1999)\n",
    "popSprint.set_bp_treatment_strategy(SprintTreatment())\n",
    "aliveSprint, dfSprint = popSprint.advance_vectorized(200)"
   ]
  },
  {
   "cell_type": "code",
   "execution_count": null,
   "id": "8f7a2187",
   "metadata": {},
   "outputs": [],
   "source": [
    "%%time\n",
    "# 1 hour 10 min 150,000 and 20 years\n",
    "# 3 hours 15 min 150k pop and 200 years\n",
    "popUsual = NHANESDirectSamplePopulation(150000, 1999)\n",
    "#popUsual.set_bp_treatment_strategy(SprintTreatment())\n",
    "aliveUsual, dfUsual = popUsual.advance_vectorized(200)"
   ]
  },
  {
   "cell_type": "markdown",
   "id": "1e52c17f",
   "metadata": {},
   "source": [
    "This is an approach based on person-years"
   ]
  },
  {
   "cell_type": "code",
   "execution_count": null,
   "id": "230bc7a4",
   "metadata": {},
   "outputs": [],
   "source": [
    "def getDFForPersonCol(person):\n",
    "    df = pd.DataFrame(person.get_final_wave_state_as_dict())\n",
    "    df['dfIndex'] = person.dfIndex\n",
    "    df['cvRisk'] = df.apply(OutcomeModelRepository().get_risk_for_person, \n",
    "                            args=(OutcomeModelType.CARDIOVASCULAR, 1, True), axis='columns')\n",
    "    df['demRisk'] = df.apply(OutcomeModelRepository().get_risk_for_person,  \n",
    "                             args=(OutcomeModelType.DEMENTIA, 1, True), axis='columns')\n",
    "    return df\n",
    "\n",
    "dfsUsual = popUsual._people.apply(getDFForPersonCol)\n",
    "dfsSprint = popSprint._people.apply(getDFForPersonCol)"
   ]
  },
  {
   "cell_type": "code",
   "execution_count": null,
   "id": "b9747f6b",
   "metadata": {},
   "outputs": [],
   "source": [
    "allAgesUsualDF = pd.concat(dfsUsual.tolist())\n",
    "allAgesSprintDF = pd.concat(dfsSprint.tolist())"
   ]
  },
  {
   "cell_type": "code",
   "execution_count": null,
   "id": "1d29a444",
   "metadata": {},
   "outputs": [],
   "source": [
    "allAgesUsualDF = pd.read_csv(dataDir + \"/allAgesUsualDF.csv\")\n",
    "\n",
    "allAgesSprintDF = pd.read_csv(dataDir + \"/allAgesSprintDF.csv\")"
   ]
  },
  {
   "cell_type": "code",
   "execution_count": null,
   "id": "e76cf9b8",
   "metadata": {},
   "outputs": [],
   "source": [
    "#save dataframes!\n",
    "#allAgesUsualDF.to_csv(dataDir + \"/allAgesUsualDF.csv\")\n",
    "\n",
    "#allAgesSprintDF.to_csv(dataDir + \"/allAgesSprintDF.csv\")"
   ]
  },
  {
   "cell_type": "code",
   "execution_count": null,
   "id": "fc5c79d6",
   "metadata": {},
   "outputs": [],
   "source": [
    "#remove rows that represent the year the person died because the get_final_wave_state_as_dict function\n",
    "#returns their age for that year to be -1 and that significantly distors their risks\n",
    "allAgesUsualDF = allAgesUsualDF.loc[allAgesUsualDF[\"alive\"]==True]\n",
    "allAgesSprintDF = allAgesSprintDF.loc[allAgesSprintDF[\"alive\"]==True]"
   ]
  },
  {
   "cell_type": "code",
   "execution_count": null,
   "id": "05eef14c",
   "metadata": {},
   "outputs": [],
   "source": [
    "#allAgesUsualDF.loc[allAgesUsualDF[\"demRisk\"]>1]\n",
    "allAgesUsualDF.loc[allAgesUsualDF.demRisk > 1, 'demRisk'] = 1\n",
    "allAgesSprintDF.loc[allAgesSprintDF.demRisk > 1, 'demRisk'] = 1"
   ]
  },
  {
   "cell_type": "code",
   "execution_count": null,
   "id": "b11662cc",
   "metadata": {},
   "outputs": [],
   "source": [
    "allAgesUsualDF['demRiskQuantile'] = pd.cut(allAgesUsualDF[\"demRisk\"],quantiles[\"dementia\"])\n",
    "allAgesUsualDF['cvRiskQuantile'] = pd.cut(allAgesUsualDF[\"cvRisk\"],quantiles[\"cv\"])\n",
    "\n",
    "allAgesSprintDF['demRiskQuantile'] = pd.cut(allAgesSprintDF[\"demRisk\"],quantiles[\"dementia\"])\n",
    "allAgesSprintDF['cvRiskQuantile'] = pd.cut(allAgesSprintDF[\"cvRisk\"],quantiles[\"cv\"])"
   ]
  },
  {
   "cell_type": "code",
   "execution_count": null,
   "id": "ad27e50b",
   "metadata": {},
   "outputs": [],
   "source": [
    "allAgesUsualDF['demRiskQuantile'].isna().sum(), allAgesUsualDF['cvRiskQuantile'].isna().sum()"
   ]
  },
  {
   "cell_type": "code",
   "execution_count": null,
   "id": "d9745b49",
   "metadata": {},
   "outputs": [],
   "source": [
    "allAgesSprintDF['demRiskQuantile'].isna().sum(), allAgesSprintDF['cvRiskQuantile'].isna().sum()"
   ]
  },
  {
   "cell_type": "code",
   "execution_count": null,
   "id": "f897fb9c",
   "metadata": {},
   "outputs": [],
   "source": [
    "#drop rows with NAN (I think changing the lowest quantile to 0 creates issues at some point)\n",
    "allAgesUsualDF = allAgesUsualDF.loc[~allAgesUsualDF['demRiskQuantile'].isna()]\n",
    "allAgesUsualDF = allAgesUsualDF.loc[~allAgesUsualDF['cvRiskQuantile'].isna()]\n",
    "\n",
    "allAgesSprintDF = allAgesSprintDF.loc[~allAgesSprintDF['demRiskQuantile'].isna()]\n",
    "allAgesSprintDF = allAgesSprintDF.loc[~allAgesSprintDF['cvRiskQuantile'].isna()]"
   ]
  },
  {
   "cell_type": "code",
   "execution_count": null,
   "id": "52e436f1",
   "metadata": {},
   "outputs": [],
   "source": [
    "#these are the same for both usual and sprint, the quantile intervals were simply read in this notebook\n",
    "#they were created in cvDementiaQuantiles\n",
    "demQuantileNumberForQuantile = {quantile : index for index, quantile in \n",
    "                                enumerate(allAgesUsualDF['demRiskQuantile'].value_counts(sort=False).index)}\n",
    "cvQuantileNumberForQuantile = {quantile : index for index, quantile in \n",
    "                               enumerate(allAgesUsualDF['cvRiskQuantile'].value_counts(sort=False).index)}\n",
    "\n",
    "allAgesUsualDF['cvQuantileNum'] = allAgesUsualDF['cvRiskQuantile']\n",
    "allAgesUsualDF['cvQuantileNum'].replace(cvQuantileNumberForQuantile, inplace=True)\n",
    "\n",
    "allAgesUsualDF['demQuantileNum'] = allAgesUsualDF['demRiskQuantile']\n",
    "allAgesUsualDF['demQuantileNum'].replace(demQuantileNumberForQuantile, inplace=True)\n",
    "\n",
    "allAgesSprintDF['cvQuantileNum'] = allAgesSprintDF['cvRiskQuantile']\n",
    "allAgesSprintDF['cvQuantileNum'].replace(cvQuantileNumberForQuantile, inplace=True)\n",
    "\n",
    "allAgesSprintDF['demQuantileNum'] = allAgesSprintDF['demRiskQuantile']\n",
    "allAgesSprintDF['demQuantileNum'].replace(demQuantileNumberForQuantile, inplace=True)"
   ]
  },
  {
   "cell_type": "code",
   "execution_count": null,
   "id": "8ac0183e",
   "metadata": {},
   "outputs": [],
   "source": [
    "countByDementiaUsual = allAgesUsualDF.loc[allAgesUsualDF[\"dementia\"]==True].groupby(\n",
    "                                ['demQuantileNum', 'cvQuantileNum'],sort=True\n",
    "                                )[\"dementia\"].count().unstack(fill_value=0).stack()\n",
    "\n",
    "countByDementiaDFUsual = pd.DataFrame({'demRisk' : countByDementiaUsual.index.get_level_values(\"demQuantileNum\"),\n",
    "                              'cvRisk' : countByDementiaUsual.index.get_level_values(\"cvQuantileNum\"),\n",
    "                              'demCount' : countByDementiaUsual.values})\n",
    "\n",
    "countByDementiaSprint = allAgesSprintDF.loc[allAgesSprintDF[\"dementia\"]==True].groupby(\n",
    "                                ['demQuantileNum', 'cvQuantileNum'],sort=True\n",
    "                                )[\"dementia\"].count().unstack(fill_value=0).stack()\n",
    "\n",
    "countByDementiaDFSprint = pd.DataFrame({'demRisk' : countByDementiaSprint.index.get_level_values(\"demQuantileNum\"),\n",
    "                              'cvRisk' : countByDementiaSprint.index.get_level_values(\"cvQuantileNum\"),\n",
    "                              'demCount' : countByDementiaSprint.values})"
   ]
  },
  {
   "cell_type": "code",
   "execution_count": null,
   "id": "c4f4a65e",
   "metadata": {},
   "outputs": [],
   "source": [
    "countByMIUsual = allAgesUsualDF.loc[allAgesUsualDF[\"mi\"]==True].groupby(\n",
    "                                ['cvQuantileNum', 'demQuantileNum'],sort=True\n",
    "                                )[\"mi\"].count().unstack(fill_value=0).stack()\n",
    "\n",
    "countByMIDFUsual = pd.DataFrame({'demRisk' : countByMIUsual.index.get_level_values(\"demQuantileNum\"),\n",
    "                              'cvRisk' : countByMIUsual.index.get_level_values(\"cvQuantileNum\"),\n",
    "                              'miCount' : countByMIUsual.values})\n",
    "\n",
    "countByMISprint = allAgesSprintDF.loc[allAgesSprintDF[\"mi\"]==True].groupby(\n",
    "                                ['cvQuantileNum', 'demQuantileNum'],sort=True\n",
    "                                )[\"mi\"].count().unstack(fill_value=0).stack()\n",
    "\n",
    "countByMIDFSprint = pd.DataFrame({'demRisk' : countByMISprint.index.get_level_values(\"demQuantileNum\"),\n",
    "                              'cvRisk' : countByMISprint.index.get_level_values(\"cvQuantileNum\"),\n",
    "                              'miCount' : countByMISprint.values})"
   ]
  },
  {
   "cell_type": "code",
   "execution_count": null,
   "id": "427716f2",
   "metadata": {},
   "outputs": [],
   "source": [
    "#outcome is defined as MI or dementia or stroke\n",
    "\n",
    "countByOutcomeUsual = allAgesUsualDF.loc[ (allAgesUsualDF[\"mi\"]==True) |\n",
    "                                          (allAgesUsualDF[\"dementia\"]==True) |\n",
    "                                          (allAgesUsualDF[\"stroke\"]==True) \n",
    "                                        ].groupby(\n",
    "                                ['demQuantileNum', 'cvQuantileNum'],sort=True\n",
    "                                )[\"mi\"].count().unstack(fill_value=0).stack()#\"mi\":irrelevant,just needs to be 1column\n",
    "\n",
    "countByOutcomeDFUsual = pd.DataFrame({'demRisk' : countByOutcomeUsual.index.get_level_values(\"demQuantileNum\"),\n",
    "                              'cvRisk' : countByOutcomeUsual.index.get_level_values(\"cvQuantileNum\"),\n",
    "                              'outcomeCount' : countByOutcomeUsual.values})\n",
    "\n",
    "countByOutcomeSprint = allAgesSprintDF.loc[ (allAgesSprintDF[\"mi\"]==True) |\n",
    "                                            (allAgesSprintDF[\"dementia\"]==True) |\n",
    "                                            (allAgesSprintDF[\"stroke\"]==True) \n",
    "                                          ].groupby(\n",
    "                                ['demQuantileNum', 'cvQuantileNum'],sort=True\n",
    "                                )[\"mi\"].count().unstack(fill_value=0).stack()#\"mi\":irrelevant,just needs to be 1column\n",
    "\n",
    "countByOutcomeDFSprint = pd.DataFrame({'demRisk' : countByOutcomeSprint.index.get_level_values(\"demQuantileNum\"),\n",
    "                              'cvRisk' : countByOutcomeSprint.index.get_level_values(\"cvQuantileNum\"),\n",
    "                              'outcomeCount' : countByOutcomeSprint.values})"
   ]
  },
  {
   "cell_type": "code",
   "execution_count": null,
   "id": "e3ff3d93",
   "metadata": {},
   "outputs": [],
   "source": [
    "countByPersonYearsUsual = allAgesUsualDF.groupby(\n",
    "                                ['demQuantileNum', 'cvQuantileNum'],sort=True\n",
    "                                )[\"mi\"].count().unstack(fill_value=0).stack()#\"mi\":irrelevant,just needs to be 1column\n",
    "\n",
    "countByPersonYearsDFUsual = pd.DataFrame({'demRisk' : countByPersonYearsUsual.index.get_level_values(\"demQuantileNum\"),\n",
    "                              'cvRisk' : countByPersonYearsUsual.index.get_level_values(\"cvQuantileNum\"),\n",
    "                              'personYearsCount' : countByPersonYearsUsual.values})\n",
    "\n",
    "countByPersonYearsSprint = allAgesSprintDF.groupby(\n",
    "                                ['demQuantileNum', 'cvQuantileNum'],sort=True\n",
    "                                )[\"mi\"].count().unstack(fill_value=0).stack()#\"mi\":irrelevant,just needs to be 1column\n",
    "\n",
    "countByPersonYearsDFSprint = pd.DataFrame({'demRisk' : countByPersonYearsSprint.index.get_level_values(\"demQuantileNum\"),\n",
    "                              'cvRisk' : countByPersonYearsSprint.index.get_level_values(\"cvQuantileNum\"),\n",
    "                              'personYearsCount' : countByPersonYearsSprint.values})"
   ]
  },
  {
   "cell_type": "code",
   "execution_count": null,
   "id": "50e21a16",
   "metadata": {},
   "outputs": [],
   "source": [
    "nQuantiles=quantiles.shape[0]-1\n",
    "#used in plots later\n",
    "X=np.arange(0,nQuantiles,1)\n",
    "Y=np.arange(0,nQuantiles,1)\n",
    "X, Y = np.meshgrid(X, Y)\n",
    "X.shape"
   ]
  },
  {
   "cell_type": "code",
   "execution_count": null,
   "id": "ac865118",
   "metadata": {},
   "outputs": [],
   "source": [
    "countByPersonYearsArrayUsual=np.zeros(X.shape)\n",
    "for i,j,k in zip(countByPersonYearsDFUsual[\"demRisk\"].values,\n",
    "                 countByPersonYearsDFUsual[\"cvRisk\"].values,\n",
    "                 countByPersonYearsDFUsual[\"personYearsCount\"].values):\n",
    "    countByPersonYearsArrayUsual[i,j]=k\n",
    "\n",
    "countByPersonYearsArraySprint=np.zeros(X.shape)\n",
    "for i,j,k in zip(countByPersonYearsDFSprint[\"demRisk\"].values,\n",
    "                 countByPersonYearsDFSprint[\"cvRisk\"].values,\n",
    "                 countByPersonYearsDFSprint[\"personYearsCount\"].values):\n",
    "    countByPersonYearsArraySprint[i,j]=k"
   ]
  },
  {
   "cell_type": "code",
   "execution_count": null,
   "id": "840b4f9b",
   "metadata": {},
   "outputs": [],
   "source": [
    "#fig, ax = plt.subplots()\n",
    "\n",
    "#c = ax.pcolormesh(X, Y, countByPersonYearsArrayUsual, shading='nearest')\n",
    "#ax.set_title('number of person-years - Usual')\n",
    "#plt.xlabel(\"cv risk quantile\")\n",
    "#plt.ylabel(\"dem risk quantile\")\n",
    "# set the limits of the plot to the limits of the data\n",
    "#ax.axis([0,nQuantiles-1, 0,nQuantiles-1])\n",
    "#fig.colorbar(c, ax=ax)\n",
    "\n",
    "#plt.show()"
   ]
  },
  {
   "cell_type": "code",
   "execution_count": null,
   "id": "96883b8b",
   "metadata": {},
   "outputs": [],
   "source": [
    "#there are some quantile-quantile boxes where there are exactly 0 person-years\n",
    "(countByPersonYearsArrayUsual == 0).astype(int).sum()"
   ]
  },
  {
   "cell_type": "code",
   "execution_count": null,
   "id": "bb6b19ed",
   "metadata": {},
   "outputs": [],
   "source": [
    "#fig, ax = plt.subplots()\n",
    "\n",
    "#c = ax.pcolormesh(X, Y, countByPersonYearsArraySprint, shading='nearest')\n",
    "#ax.set_title('number of person-years  - Sprint')\n",
    "#plt.xlabel(\"cv risk quantile\")\n",
    "#plt.ylabel(\"dem risk quantile\")\n",
    "# set the limits of the plot to the limits of the data\n",
    "#ax.axis([0,nQuantiles-1, 0,nQuantiles-1])\n",
    "#fig.colorbar(c, ax=ax)\n",
    "\n",
    "#plt.show()"
   ]
  },
  {
   "cell_type": "code",
   "execution_count": null,
   "id": "4b496cca",
   "metadata": {},
   "outputs": [],
   "source": [
    "#this is done to ensure the quantile categories are ordered properly\n",
    "\n",
    "countByDementiaArrayUsual=np.zeros(X.shape)\n",
    "for i,j,k in zip(countByDementiaDFUsual[\"demRisk\"].values,\n",
    "                 countByDementiaDFUsual[\"cvRisk\"].values,\n",
    "                 countByDementiaDFUsual[\"demCount\"].values):\n",
    "    if countByPersonYearsArrayUsual[i,j]!=0: #cannot divide by 0\n",
    "        countByDementiaArrayUsual[i,j]=k/countByPersonYearsArrayUsual[i,j] #find proportion\n",
    "    else:\n",
    "        countByDementiaArrayUsual[i,j]=0 #this may not be needed, it should be zero if there are 0 person years\n",
    "        \n",
    "countByDementiaArraySprint=np.zeros(X.shape)\n",
    "for i,j,k in zip(countByDementiaDFSprint[\"demRisk\"].values,\n",
    "                 countByDementiaDFSprint[\"cvRisk\"].values,\n",
    "                 countByDementiaDFSprint[\"demCount\"].values):\n",
    "    if countByPersonYearsArraySprint[i,j]!=0: #cannot divide by 0\n",
    "        countByDementiaArraySprint[i,j]=k/countByPersonYearsArraySprint[i,j] #find proportion\n",
    "    else:\n",
    "        countByDementiaArraySprint[i,j]=0 #this may not be needed, it should be zero if there are 0 person years"
   ]
  },
  {
   "cell_type": "code",
   "execution_count": null,
   "id": "a97c82bb",
   "metadata": {},
   "outputs": [],
   "source": [
    "#fig, ax = plt.subplots()\n",
    "\n",
    "#c = ax.pcolormesh(X, Y, countByDementiaArrayUsual, shading='nearest')\n",
    "#ax.set_title('proportion of person years with dementia - Usual')\n",
    "#plt.xlabel(\"cv risk quantile\")\n",
    "#plt.ylabel(\"dem risk quantile\")\n",
    "# set the limits of the plot to the limits of the data\n",
    "#ax.axis([0,nQuantiles-1, 0,nQuantiles-1])\n",
    "#fig.colorbar(c, ax=ax)\n",
    "\n",
    "#plt.show()"
   ]
  },
  {
   "cell_type": "code",
   "execution_count": null,
   "id": "3b6e63c7",
   "metadata": {},
   "outputs": [],
   "source": [
    "#fig, ax = plt.subplots()\n",
    "\n",
    "#c = ax.pcolormesh(X, Y, countByDementiaArraySprint, shading='nearest')\n",
    "#ax.set_title('proportion of person years with dementia - Sprint')\n",
    "#plt.xlabel(\"cv risk quantile\")\n",
    "#plt.ylabel(\"dem risk quantile\")\n",
    "# set the limits of the plot to the limits of the data\n",
    "#ax.axis([0,nQuantiles-1, 0,nQuantiles-1])\n",
    "#fig.colorbar(c, ax=ax)\n",
    "\n",
    "#plt.show()"
   ]
  },
  {
   "cell_type": "code",
   "execution_count": null,
   "id": "082a70fa",
   "metadata": {},
   "outputs": [],
   "source": [
    "#this is done to ensure the quantile categories are ordered properly\n",
    "\n",
    "countByMIArrayUsual=np.zeros(X.shape)\n",
    "for i,j,k in zip(countByMIDFUsual[\"demRisk\"].values,\n",
    "                 countByMIDFUsual[\"cvRisk\"].values,\n",
    "                 countByMIDFUsual[\"miCount\"].values):\n",
    "    if countByPersonYearsArrayUsual[i,j]!=0:\n",
    "        countByMIArrayUsual[i,j]=k/countByPersonYearsArrayUsual[i,j]\n",
    "    else:\n",
    "        countByMIArrayUsual[i,j]=0\n",
    "\n",
    "countByMIArraySprint=np.zeros(X.shape)\n",
    "for i,j,k in zip(countByMIDFSprint[\"demRisk\"].values,\n",
    "                 countByMIDFSprint[\"cvRisk\"].values,\n",
    "                 countByMIDFSprint[\"miCount\"].values):\n",
    "    if countByPersonYearsArraySprint[i,j]!=0:\n",
    "        countByMIArraySprint[i,j]=k/countByPersonYearsArraySprint[i,j]\n",
    "    else:\n",
    "        countByMIArraySprint[i,j]=0"
   ]
  },
  {
   "cell_type": "code",
   "execution_count": null,
   "id": "1d134eb7",
   "metadata": {},
   "outputs": [],
   "source": [
    "countByOutcomeArrayUsual=np.zeros(X.shape)\n",
    "for i,j,k in zip(countByOutcomeDFUsual[\"demRisk\"].values,\n",
    "                 countByOutcomeDFUsual[\"cvRisk\"].values,\n",
    "                 countByOutcomeDFUsual[\"outcomeCount\"].values):\n",
    "    if countByPersonYearsArrayUsual[i,j]!=0:\n",
    "        countByOutcomeArrayUsual[i,j]=k/countByPersonYearsArrayUsual[i,j]\n",
    "    else:\n",
    "        countByOutcomeArrayUsual[i,j]=0\n",
    "\n",
    "countByOutcomeArraySprint=np.zeros(X.shape)\n",
    "for i,j,k in zip(countByOutcomeDFSprint[\"demRisk\"].values,\n",
    "                 countByOutcomeDFSprint[\"cvRisk\"].values,\n",
    "                 countByOutcomeDFSprint[\"outcomeCount\"].values):\n",
    "    if countByPersonYearsArraySprint[i,j]!=0:\n",
    "        countByOutcomeArraySprint[i,j]=k/countByPersonYearsArraySprint[i,j]\n",
    "    else:\n",
    "        countByOutcomeArraySprint[i,j]=0"
   ]
  },
  {
   "cell_type": "code",
   "execution_count": null,
   "id": "d005c49d",
   "metadata": {},
   "outputs": [],
   "source": [
    "#find differences in outcomes: treatment - no treatment\n",
    "\n",
    "countByDementiaArrayDiff = (countByDementiaArraySprint-countByDementiaArrayUsual)\n",
    "\n",
    "countByMIArrayDiff = countByMIArraySprint-countByMIArrayUsual\n",
    "\n",
    "countByOutcomeArrayDiff = countByOutcomeArraySprint-countByOutcomeArrayUsual"
   ]
  },
  {
   "cell_type": "code",
   "execution_count": null,
   "id": "37ae8222",
   "metadata": {},
   "outputs": [],
   "source": [
    "matplotlib qt"
   ]
  },
  {
   "cell_type": "code",
   "execution_count": null,
   "id": "fd64f159",
   "metadata": {},
   "outputs": [],
   "source": [
    "fig, ax = plt.subplots()\n",
    "\n",
    "c = ax.pcolormesh(X, Y, countByOutcomeArrayDiff, shading='nearest',vmin=-0.02,vmax=0.02)\n",
    "ax.set_title('difference of proportion of person-years with stroke, mi, dementia\\n sprint-usual')\n",
    "plt.xlabel(\"cv risk quantile\")\n",
    "plt.ylabel(\"dem risk quantile\")\n",
    "# set the limits of the plot to the limits of the data\n",
    "ax.axis([0,nQuantiles-1, 0,nQuantiles-1])\n",
    "fig.colorbar(c, ax=ax)\n",
    "\n",
    "plt.show()"
   ]
  },
  {
   "cell_type": "code",
   "execution_count": null,
   "id": "4b08c970",
   "metadata": {},
   "outputs": [],
   "source": [
    "#noEventCountSum = countByNoEventDFUsual[\"noEventCount\"].sum() #sum of all person-ages\n",
    "#noEventCountSumPerQbox = noEventCountSum/(nQuantiles)/(nQuantiles) # of person-ages in one qq category, uniform ditribution\n",
    "#demCountSum, demCountSumPerQbox\n",
    "\n",
    "#percentCutoffAbsEffectSize = 0.000002 #relevant to a uniform distribution, which qq categories to keep\n",
    "#cutoffNoEvent = (noEventCountSumPerQbox * percentCutoffAbsEffectSize)\n",
    "#cutoff\n",
    "\n",
    "#qqcategoriesToIncludeDementia = countByDementiaDFUsual.loc[countByDementiaDFUsual[\"demCount\"] > cutoffDementia] \n",
    "#qqcategoriesToInclude, \n",
    "#qqcategoriesToIncludeDementia[\"demCount\"].sum()/demCountSum #percent of person-ages included\n",
    "\n",
    "# decide on which quantiles to keep\n",
    "#includedDementia = np.zeros(X.shape)\n",
    "\n",
    "#for i, j in zip(qqcategoriesToIncludeDementia[\"demRisk\"],qqcategoriesToIncludeDementia[\"cvRisk\"]):\n",
    "#    includedDementia[i,j]=1\n",
    "    \n",
    "#includedBasedOnNoEvent = (countByNoEventArrayDiff>cutoffNoEvent).astype(int)"
   ]
  },
  {
   "cell_type": "code",
   "execution_count": null,
   "id": "cb47601d",
   "metadata": {},
   "outputs": [],
   "source": [
    "# decide on which quantiles to keep\n",
    "#includedBasedOnPersonYears = np.zeros([nQuantiles,nQuantiles])\n",
    "\n",
    "#for i, j in zip(quantilesToInclude[\"demRisk\"],quantilesToInclude[\"cvRisk\"]):\n",
    "#    includedBasedOnPersonYears[i,j]=1"
   ]
  },
  {
   "cell_type": "code",
   "execution_count": null,
   "id": "d932c8a1",
   "metadata": {},
   "outputs": [],
   "source": [
    "#included = includedBasedOnPersonYears * includedBasedOnNoEvent"
   ]
  },
  {
   "cell_type": "code",
   "execution_count": null,
   "id": "f98f6989",
   "metadata": {},
   "outputs": [],
   "source": [
    "#fig, ax = plt.subplots()\n",
    "\n",
    "#c = ax.pcolormesh(X, Y, included, shading='nearest')\n",
    "#ax.set_title('1.0 for categories to keep, 0 otherwise')\n",
    "#plt.xlabel(\"cv risk quantile\")\n",
    "#plt.ylabel(\"dem risk quantile\")\n",
    "# set the limits of the plot to the limits of the data\n",
    "#ax.axis([0,nQuantiles-1, 0,nQuantiles-1])\n",
    "#fig.colorbar(c, ax=ax)\n",
    "\n",
    "#plt.show()"
   ]
  },
  {
   "cell_type": "code",
   "execution_count": null,
   "id": "3612c4f1",
   "metadata": {},
   "outputs": [],
   "source": [
    "\"treatment\" in allAgesUsualDF.columns, \"sbp\" in allAgesUsualDF.columns"
   ]
  },
  {
   "cell_type": "code",
   "execution_count": null,
   "id": "20adf536",
   "metadata": {},
   "outputs": [],
   "source": [
    "allAgesUsualDF[\"treatment\"] = 0\n",
    "allAgesSprintDF[\"treatment\"] = 1"
   ]
  },
  {
   "cell_type": "code",
   "execution_count": null,
   "id": "203e1b5d",
   "metadata": {},
   "outputs": [],
   "source": [
    "\"outcome\" in allAgesUsualDF.columns, \"sbp\" in allAgesUsualDF.columns"
   ]
  },
  {
   "cell_type": "code",
   "execution_count": null,
   "id": "32392c4f",
   "metadata": {},
   "outputs": [],
   "source": [
    "allAgesUsualDF[\"outcome\"] = ((allAgesUsualDF[\"mi\"]==True) |\n",
    "                             (allAgesUsualDF[\"dementia\"]==True) |\n",
    "                             (allAgesUsualDF[\"stroke\"]==True))"
   ]
  },
  {
   "cell_type": "code",
   "execution_count": null,
   "id": "fa4ed4a4",
   "metadata": {},
   "outputs": [],
   "source": [
    "allAgesSprintDF[\"outcome\"] = ((allAgesSprintDF[\"mi\"]==True) |\n",
    "                             (allAgesSprintDF[\"dementia\"]==True) |\n",
    "                             (allAgesSprintDF[\"stroke\"]==True))"
   ]
  },
  {
   "cell_type": "code",
   "execution_count": null,
   "id": "0183bd3e",
   "metadata": {},
   "outputs": [],
   "source": [
    "quantileIndex = np.arange(nQuantiles*nQuantiles).reshape((nQuantiles,nQuantiles))\n",
    "#for i in range(0,nQuantiles):\n",
    "#    for j in range(0,nQuantiles):\n",
    "quantileIndex.shape"
   ]
  },
  {
   "cell_type": "code",
   "execution_count": null,
   "id": "60152910",
   "metadata": {},
   "outputs": [],
   "source": [
    "\"quantileIndex\" in allAgesUsualDF.columns, \"sbp\" in allAgesUsualDF.columns"
   ]
  },
  {
   "cell_type": "code",
   "execution_count": null,
   "id": "42b7f0f5",
   "metadata": {},
   "outputs": [],
   "source": [
    "allAgesUsualDF[\"quantileIndex\"] = allAgesUsualDF.apply(\n",
    "                                                    lambda x: quantileIndex[x[\"demQuantileNum\"],x[\"cvQuantileNum\"]],\n",
    "                                                    axis=1)\n",
    "\n",
    "allAgesSprintDF[\"quantileIndex\"] = allAgesSprintDF.apply(\n",
    "                                                    lambda x: quantileIndex[x[\"demQuantileNum\"],x[\"cvQuantileNum\"]],\n",
    "                                                    axis=1)"
   ]
  },
  {
   "cell_type": "code",
   "execution_count": null,
   "id": "9161cefb",
   "metadata": {},
   "outputs": [],
   "source": [
    "regressionData = pd.concat([ allAgesUsualDF[[\"quantileIndex\",\"treatment\",\"outcome\"]],\n",
    "                             allAgesSprintDF[[\"quantileIndex\",\"treatment\",\"outcome\"]] ])"
   ]
  },
  {
   "cell_type": "code",
   "execution_count": null,
   "id": "5095b8ea",
   "metadata": {},
   "outputs": [],
   "source": [
    "regressionData[\"outcome\"] = regressionData[\"outcome\"].astype(int)"
   ]
  },
  {
   "cell_type": "code",
   "execution_count": null,
   "id": "362683ee",
   "metadata": {},
   "outputs": [],
   "source": [
    "regressionData.to_csv(dataDir+\"/regressionData.csv\")"
   ]
  },
  {
   "cell_type": "code",
   "execution_count": null,
   "id": "3c507765",
   "metadata": {},
   "outputs": [],
   "source": [
    "regressionData[\"treatment\"] = regressionData[\"treatment\"]-0.5"
   ]
  },
  {
   "cell_type": "code",
   "execution_count": null,
   "id": "1d968857",
   "metadata": {},
   "outputs": [],
   "source": [
    "import statsmodels.api as sm\n",
    "import statsmodels.formula.api as smf"
   ]
  },
  {
   "cell_type": "code",
   "execution_count": null,
   "id": "36e990b5",
   "metadata": {},
   "outputs": [],
   "source": [
    "md = smf.mixedlm(\"outcome ~ treatment\",regressionData,groups=regressionData[\"quantileIndex\"])"
   ]
  },
  {
   "cell_type": "code",
   "execution_count": null,
   "id": "ba05f076",
   "metadata": {},
   "outputs": [],
   "source": [
    "mdf = md.fit()"
   ]
  },
  {
   "cell_type": "code",
   "execution_count": null,
   "id": "3eead4dc",
   "metadata": {},
   "outputs": [],
   "source": [
    "print(mdf.summary())"
   ]
  },
  {
   "cell_type": "code",
   "execution_count": null,
   "id": "7a7976d1",
   "metadata": {},
   "outputs": [],
   "source": [
    "relRiskReduction = mdf.params[1] #slope aka treatment coefficient"
   ]
  },
  {
   "cell_type": "code",
   "execution_count": null,
   "id": "4d034969",
   "metadata": {},
   "outputs": [],
   "source": [
    "groupIntercepts = np.zeros([nQuantiles,nQuantiles])"
   ]
  },
  {
   "cell_type": "code",
   "execution_count": null,
   "id": "b8edd28e",
   "metadata": {},
   "outputs": [],
   "source": [
    "for i in mdf.random_effects.keys():\n",
    "    row, column = np.argwhere(quantileIndex==i)[0]\n",
    "    groupIntercepts[row,column] = mdf.random_effects[i][0] + mdf.params[\"Intercept\"]"
   ]
  },
  {
   "cell_type": "code",
   "execution_count": null,
   "id": "1ef14d6b",
   "metadata": {},
   "outputs": [],
   "source": [
    "#groupIntercepts[0]"
   ]
  },
  {
   "cell_type": "code",
   "execution_count": null,
   "id": "cc08c84e",
   "metadata": {},
   "outputs": [],
   "source": [
    "absRiskReduction = groupIntercepts * relRiskReduction"
   ]
  },
  {
   "cell_type": "code",
   "execution_count": null,
   "id": "49fe35ec",
   "metadata": {},
   "outputs": [],
   "source": [
    "fig, ax = plt.subplots()\n",
    "\n",
    "c = ax.pcolormesh(X, Y, groupIntercepts, shading='nearest') #,vmin=-0.02,vmax=0.02)\n",
    "ax.set_title('group intercepts')\n",
    "plt.xlabel(\"cv risk quantile\")\n",
    "plt.ylabel(\"dem risk quantile\")\n",
    "# set the limits of the plot to the limits of the data\n",
    "ax.axis([0,nQuantiles-1, 0,nQuantiles-1])\n",
    "fig.colorbar(c, ax=ax)\n",
    "\n",
    "plt.show()"
   ]
  },
  {
   "cell_type": "code",
   "execution_count": null,
   "id": "75d5643d",
   "metadata": {},
   "outputs": [],
   "source": [
    "ax = Axes3D(fig)\n",
    "\n",
    "fig, ax = plt.subplots(subplot_kw={\"projection\": \"3d\"})\n",
    "surf = ax.plot_surface(X, Y, groupIntercepts, cmap=cm.coolwarm,\n",
    "                       linewidth=0, antialiased=False)\n",
    "fig.colorbar(surf, shrink=0.5, aspect=5)\n",
    "#ax.set_zlim(-0.1, 0.1)\n",
    "plt.show()"
   ]
  },
  {
   "cell_type": "code",
   "execution_count": null,
   "id": "83812d9f",
   "metadata": {},
   "outputs": [],
   "source": [
    "fig, ax = plt.subplots()\n",
    "\n",
    "c = ax.pcolormesh(X, Y, absRiskReduction, shading='nearest') #,vmin=-0.02,vmax=0.02)\n",
    "ax.set_title('abs risk reduction')\n",
    "plt.xlabel(\"cv risk quantile\")\n",
    "plt.ylabel(\"dem risk quantile\")\n",
    "# set the limits of the plot to the limits of the data\n",
    "ax.axis([0,nQuantiles-1, 0,nQuantiles-1])\n",
    "fig.colorbar(c, ax=ax)\n",
    "\n",
    "plt.show()"
   ]
  },
  {
   "cell_type": "code",
   "execution_count": null,
   "id": "36dced6d",
   "metadata": {},
   "outputs": [],
   "source": [
    "qqIncluded = absRiskReduction < -0.001"
   ]
  },
  {
   "cell_type": "code",
   "execution_count": null,
   "id": "2162d8f7",
   "metadata": {},
   "outputs": [],
   "source": [
    "fig, ax = plt.subplots()\n",
    "\n",
    "c = ax.pcolormesh(X, Y, qqIncluded, shading='nearest')\n",
    "ax.set_title('1.0 for categories to keep, 0 otherwise')\n",
    "plt.xlabel(\"cv risk quantile\")\n",
    "plt.ylabel(\"dem risk quantile\")\n",
    "# set the limits of the plot to the limits of the data\n",
    "ax.axis([0,nQuantiles-1, 0,nQuantiles-1])\n",
    "fig.colorbar(c, ax=ax)\n",
    "\n",
    "plt.show()"
   ]
  },
  {
   "cell_type": "markdown",
   "id": "6b90b67e",
   "metadata": {},
   "source": [
    "a different approach now, this one counts events based on people (not person-years)"
   ]
  },
  {
   "cell_type": "code",
   "execution_count": null,
   "id": "81e3319e",
   "metadata": {},
   "outputs": [],
   "source": [
    "#import pickle\n",
    "#with open(dataDir + \"/demQuantileNumberForQuantile.pickle\",\"rb\") as file:\n",
    "#    demQuantileNumberForQuantile=pickle.load(file)\n",
    "#with open(dataDir + \"/cvQuantileNumberForQuantile.pickle\",\"rb\") as file:\n",
    "#    cvQuantileNumberForQuantile=pickle.load(file)"
   ]
  },
  {
   "cell_type": "code",
   "execution_count": null,
   "id": "e9153300",
   "metadata": {},
   "outputs": [],
   "source": [
    "nQuantiles=quantiles.shape[0]-1\n",
    "#used in plots later\n",
    "X=np.arange(0,nQuantiles,1)\n",
    "Y=np.arange(0,nQuantiles,1)\n",
    "X, Y = np.meshgrid(X, Y)\n",
    "X.shape"
   ]
  },
  {
   "cell_type": "code",
   "execution_count": null,
   "id": "3a739ddc",
   "metadata": {},
   "outputs": [],
   "source": [
    "cvResultsUsual = popUsual._people.apply(OutcomeAssessor([OutcomeType.MI,OutcomeType.STROKE]).get_outcome)\n",
    "cvResultsSprint = popSprint._people.apply(OutcomeAssessor([OutcomeType.MI,OutcomeType.STROKE]).get_outcome)\n",
    "\n",
    "demResultsUsual = popUsual._people.apply(OutcomeAssessor([OutcomeType.DEMENTIA]).get_outcome)\n",
    "demResultsSprint = popSprint._people.apply(OutcomeAssessor([OutcomeType.DEMENTIA]).get_outcome)"
   ]
  },
  {
   "cell_type": "code",
   "execution_count": null,
   "id": "c888287e",
   "metadata": {},
   "outputs": [],
   "source": [
    "cvRisksUsual = popUsual._people.apply(\n",
    "                    OutcomeModelRepository().get_risk_for_person, \n",
    "                    args=(OutcomeModelType.CARDIOVASCULAR, 1, False))\n",
    "\n",
    "demRisksUsual = popUsual._people.apply(\n",
    "                    OutcomeModelRepository().get_risk_for_person, \n",
    "                    args=(OutcomeModelType.DEMENTIA, 1, False))\n",
    "\n",
    "cvRisksSprint = popSprint._people.apply(\n",
    "                    OutcomeModelRepository().get_risk_for_person, \n",
    "                    args=(OutcomeModelType.CARDIOVASCULAR, 1, False))\n",
    "\n",
    "demRisksSprint = popSprint._people.apply(\n",
    "                    OutcomeModelRepository().get_risk_for_person, \n",
    "                    args=(OutcomeModelType.DEMENTIA, 1, False))"
   ]
  },
  {
   "cell_type": "code",
   "execution_count": null,
   "id": "0672d3d0",
   "metadata": {},
   "outputs": [],
   "source": [
    "resultsUsual = pd.concat([cvRisksUsual,\n",
    "                          demRisksUsual,\n",
    "                          cvResultsUsual.astype(int),\n",
    "                          demResultsUsual.astype(int)],\n",
    "                         axis=1)\n",
    "\n",
    "resultsUsual = resultsUsual.rename(columns={0:\"cvRisk\", \n",
    "                                            1:\"demRisk\",\n",
    "                                            2:\"cv\", \n",
    "                                            3:\"dementia\"})\n",
    "resultsSprint = pd.concat([cvRisksSprint,\n",
    "                           demRisksSprint,\n",
    "                           cvResultsSprint.astype(int),\n",
    "                           demResultsSprint.astype(int)],\n",
    "                          axis=1)\n",
    "resultsSprint = resultsSprint.rename(columns={0:\"cvRisk\", \n",
    "                                              1:\"demRisk\",\n",
    "                                              2:\"cv\", \n",
    "                                              3:\"dementia\"})"
   ]
  },
  {
   "cell_type": "code",
   "execution_count": null,
   "id": "55cf33e8",
   "metadata": {},
   "outputs": [],
   "source": [
    "resultsUsual.loc[resultsUsual[\"demRisk\"]>1,\"demRisk\"]=1"
   ]
  },
  {
   "cell_type": "code",
   "execution_count": null,
   "id": "0e2f3cdd",
   "metadata": {},
   "outputs": [],
   "source": [
    "resultsUsual['demRiskQuantile'] = pd.cut(resultsUsual[\"demRisk\"],quantiles[\"dementia\"])\n",
    "resultsUsual['cvRiskQuantile'] = pd.cut(resultsUsual[\"cvRisk\"],quantiles[\"cv\"])\n",
    "\n",
    "resultsSprint['demRiskQuantile'] = pd.cut(resultsSprint[\"demRisk\"],quantiles[\"dementia\"])\n",
    "resultsSprint['cvRiskQuantile'] = pd.cut(resultsSprint[\"cvRisk\"],quantiles[\"cv\"])"
   ]
  },
  {
   "cell_type": "code",
   "execution_count": null,
   "id": "d5334d5f",
   "metadata": {},
   "outputs": [],
   "source": [
    "demQuantileNumberForQuantileUsual = {quantile : index for index, quantile in \n",
    "                                enumerate(resultsUsual['demRiskQuantile'].value_counts(sort=False).index)}\n",
    "cvQuantileNumberForQuantileUsual = {quantile : index for index, quantile in \n",
    "                               enumerate(resultsUsual['cvRiskQuantile'].value_counts(sort=False).index)}\n",
    "\n",
    "demQuantileNumberForQuantileSprint = {quantile : index for index, quantile in \n",
    "                                enumerate(resultsSprint['demRiskQuantile'].value_counts(sort=False).index)}\n",
    "cvQuantileNumberForQuantileSprint = {quantile : index for index, quantile in \n",
    "                               enumerate(resultsSprint['cvRiskQuantile'].value_counts(sort=False).index)}"
   ]
  },
  {
   "cell_type": "code",
   "execution_count": null,
   "id": "03199c06",
   "metadata": {},
   "outputs": [],
   "source": [
    "resultsUsual['cvQuantileNum'] = resultsUsual['cvRiskQuantile']\n",
    "resultsUsual['cvQuantileNum'].replace(cvQuantileNumberForQuantileUsual, inplace=True)\n",
    "\n",
    "resultsUsual['demQuantileNum'] = resultsUsual['demRiskQuantile']\n",
    "resultsUsual['demQuantileNum'].replace(demQuantileNumberForQuantileUsual, inplace=True)\n",
    "\n",
    "resultsSprint['cvQuantileNum'] = resultsSprint['cvRiskQuantile']\n",
    "resultsSprint['cvQuantileNum'].replace(cvQuantileNumberForQuantileSprint, inplace=True)\n",
    "\n",
    "resultsSprint['demQuantileNum'] = resultsSprint['demRiskQuantile']\n",
    "resultsSprint['demQuantileNum'].replace(demQuantileNumberForQuantileSprint, inplace=True)"
   ]
  },
  {
   "cell_type": "code",
   "execution_count": null,
   "id": "a9167a3a",
   "metadata": {},
   "outputs": [],
   "source": [
    "countByDementiaUsual = resultsUsual.loc[resultsUsual[\"dementia\"]==1].groupby(\n",
    "                                ['cvQuantileNum', 'demQuantileNum'],sort=True\n",
    "                                )[\"dementia\"].count().unstack(fill_value=0).stack()\n",
    "\n",
    "countByDementiaDFUsual = pd.DataFrame({'demRisk' : countByDementiaUsual.index.get_level_values(0),\n",
    "                              'cvRisk' : countByDementiaUsual.index.get_level_values(1),\n",
    "                              'demCount' : countByDementiaUsual.values})\n",
    "\n",
    "countByDementiaSprint = resultsSprint.loc[resultsSprint[\"dementia\"]==1].groupby(\n",
    "                                ['cvQuantileNum', 'demQuantileNum'],sort=True\n",
    "                                )[\"dementia\"].count().unstack(fill_value=0).stack()\n",
    "\n",
    "countByDementiaDFSprint = pd.DataFrame({'demRisk' : countByDementiaSprint.index.get_level_values(0),\n",
    "                              'cvRisk' : countByDementiaSprint.index.get_level_values(1),\n",
    "                              'demCount' : countByDementiaSprint.values})"
   ]
  },
  {
   "cell_type": "code",
   "execution_count": null,
   "id": "efe2baf3",
   "metadata": {},
   "outputs": [],
   "source": [
    "#this is done just in case the quantile categories are not ordered properly\n",
    "countByDementiaArrayUsual=np.zeros(X.shape)\n",
    "for i,j,k in zip(countByDementiaDFUsual[\"demRisk\"].values,\n",
    "                 countByDementiaDFUsual[\"cvRisk\"].values,\n",
    "                 countByDementiaDFUsual[\"demCount\"].values):\n",
    "    countByDementiaArrayUsual[i,j]=k\n",
    "\n",
    "countByDementiaArraySprint=np.zeros(X.shape)\n",
    "for i,j,k in zip(countByDementiaDFSprint[\"demRisk\"].values,\n",
    "                 countByDementiaDFSprint[\"cvRisk\"].values,\n",
    "                 countByDementiaDFSprint[\"demCount\"].values):\n",
    "    countByDementiaArraySprint[i,j]=k"
   ]
  },
  {
   "cell_type": "code",
   "execution_count": null,
   "id": "ca345ecb",
   "metadata": {},
   "outputs": [],
   "source": [
    "countByDementiaArrayDiff = countByDementiaArrayUsual-countByDementiaArraySprint"
   ]
  },
  {
   "cell_type": "code",
   "execution_count": null,
   "id": "a686122e",
   "metadata": {},
   "outputs": [],
   "source": [
    "fig, ax = plt.subplots()\n",
    "\n",
    "c = ax.pcolormesh(X, Y, countByDementiaArrayDiff, shading='nearest')\n",
    "ax.set_title('difference of persons with dementia')\n",
    "plt.xlabel(\"cv risk quantile\")\n",
    "plt.ylabel(\"dem risk quantile\")\n",
    "# set the limits of the plot to the limits of the data\n",
    "ax.axis([0,nQuantiles-1, 0,nQuantiles-1])\n",
    "fig.colorbar(c, ax=ax)\n",
    "\n",
    "plt.show()"
   ]
  },
  {
   "cell_type": "code",
   "execution_count": null,
   "id": "2b7178ac",
   "metadata": {},
   "outputs": [],
   "source": [
    "demCountSum = countByDementiaDFUsual[\"demCount\"].sum() #sum of all person-ages\n",
    "demCountSumPerQbox = demCountSum/(nQuantiles)/(nQuantiles) # of person-ages in one qq category, uniform ditribution\n",
    "#demCountSum, demCountSumPerQbox\n",
    "\n",
    "percentCutoffAbsEffectSize = 0.1 #relevant to a uniform distribution, which qq categories to keep\n",
    "cutoffDementia = (demCountSumPerQbox * percentCutoffAbsEffectSize)\n",
    "#cutoff\n",
    "\n",
    "#qqcategoriesToIncludeDementia = countByDementiaDFUsual.loc[countByDementiaDFUsual[\"demCount\"] > cutoffDementia] \n",
    "#qqcategoriesToInclude, \n",
    "#qqcategoriesToIncludeDementia[\"demCount\"].sum()/demCountSum #percent of person-ages included\n",
    "\n",
    "# decide on which quantiles to keep\n",
    "#includedDementia = np.zeros(X.shape)\n",
    "\n",
    "#for i, j in zip(qqcategoriesToIncludeDementia[\"demRisk\"],qqcategoriesToIncludeDementia[\"cvRisk\"]):\n",
    "#    includedDementia[i,j]=1\n",
    "    \n",
    "includedDementia = (countByDementiaArrayDiff>cutoffDementia).astype(int)"
   ]
  },
  {
   "cell_type": "code",
   "execution_count": null,
   "id": "6d341ae9",
   "metadata": {},
   "outputs": [],
   "source": [
    "fig, ax = plt.subplots()\n",
    "\n",
    "c = ax.pcolormesh(X, Y, includedDementia, shading='nearest')\n",
    "ax.set_title('1.0 for categories to keep, 0 otherwise')\n",
    "plt.xlabel(\"cv risk quantile\")\n",
    "plt.ylabel(\"dem risk quantile\")\n",
    "# set the limits of the plot to the limits of the data\n",
    "ax.axis([0,nQuantiles-1, 0,nQuantiles-1])\n",
    "fig.colorbar(c, ax=ax)\n",
    "\n",
    "plt.show()"
   ]
  },
  {
   "cell_type": "code",
   "execution_count": null,
   "id": "2884bbab",
   "metadata": {},
   "outputs": [],
   "source": [
    "anyEvent = LogisticRegressionAnalysis(\n",
    "                        OutcomeAssessor([\n",
    "                            OutcomeAssessor.DEATH, \n",
    "                            OutcomeType.STROKE, \n",
    "                            OutcomeType.MI, \n",
    "                            OutcomeType.DEMENTIA, \n",
    "                            OutcomeAssessor.CI]))\n",
    "cogEvent = LogisticRegressionAnalysis(\n",
    "                        OutcomeAssessor([\n",
    "                            OutcomeAssessor.CI,\n",
    "                            OutcomeType.DEMENTIA]))\n",
    "vascularEventOrDeath = LogisticRegressionAnalysis(\n",
    "                            OutcomeAssessor([\n",
    "                                OutcomeAssessor.DEATH, \n",
    "                                OutcomeType.STROKE, \n",
    "                                OutcomeType.MI]))\n",
    "#anyEvent = LogisticRegressionAnalysis(OutcomeAssessor([OutcomeAssessor.DEATH, OutcomeType.STROKE, OutcomeType.MI, OutcomeType.DEMENTIA]))\n",
    "death = LogisticRegressionAnalysis(\n",
    "                            OutcomeAssessor([\n",
    "                                OutcomeAssessor.DEATH]))\n",
    "qalys = LinearRegressionAnalysis(\n",
    "                            AttributeOutcomeAssessor(\n",
    "                                \"_qalys\", AssessmentMethod.SUM))\n",
    "meanGCP = LinearRegressionAnalysis(\n",
    "                            AttributeOutcomeAssessor(\n",
    "                                \"_gcp\", AssessmentMethod.MEAN))\n",
    "lastGCP = LinearRegressionAnalysis(\n",
    "                            AttributeOutcomeAssessor(\n",
    "                                \"_gcp\", AssessmentMethod.LAST))"
   ]
  },
  {
   "cell_type": "code",
   "execution_count": null,
   "id": "785043a8",
   "metadata": {},
   "outputs": [],
   "source": [
    "#results.to_csv(\"~/Desktop/resultstest.csv\")\n",
    "#results"
   ]
  },
  {
   "cell_type": "code",
   "execution_count": null,
   "id": "4831a66b",
   "metadata": {},
   "outputs": [],
   "source": []
  }
 ],
 "metadata": {
  "kernelspec": {
   "display_name": "microsimKernel",
   "language": "python",
   "name": "microsimkernel"
  },
  "language_info": {
   "codemirror_mode": {
    "name": "ipython",
    "version": 3
   },
   "file_extension": ".py",
   "mimetype": "text/x-python",
   "name": "python",
   "nbconvert_exporter": "python",
   "pygments_lexer": "ipython3",
   "version": "3.9.13"
  }
 },
 "nbformat": 4,
 "nbformat_minor": 5
}
