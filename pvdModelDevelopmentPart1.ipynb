{
 "cells": [
  {
   "cell_type": "markdown",
   "id": "fd932198-60eb-4918-853f-1546a442c28f",
   "metadata": {},
   "source": [
    "This notebook aims to obtain microsim data in order to assist with the development of the PVD incidence rate model. We have access to a PVD prevalence model but no incidence model is available. So, the plan is to implement the PVD prevalence model in microsim, run microsim to get data, and then use that data to develop an incidence rate model consistent with the prevalence model. \n",
    "\n",
    "More specifically, when the population is created, we use the PVD prevalence model to get the PVD risks. We draw a random number, between 0 and 1. Based on that comparison we decide who had PVD when the population was created. We then advance the population by a year. Estimate the prevalence PVD risks again using the new risk factors. If the random draw we did before fell in between the PVD risk of year 0 and the PVD risk of year 1, then that person was assigned as getting PVD during year 1 (so that person contributed to the PVD incidence rate). Finally, the population, the ones that got PVD during year 1 and the ones that did not, are used in a logistic regression model (this is done in a separate notebook with R)."
   ]
  },
  {
   "cell_type": "code",
   "execution_count": 1,
   "id": "32022630-da06-4ba9-98e1-e5d3e206c226",
   "metadata": {},
   "outputs": [],
   "source": [
    "import os\n",
    "import pandas as pd\n",
    "pd.set_option('display.max_columns', None)\n",
    "pd.set_option('display.max_rows', None)\n",
    "from pandarallel import pandarallel\n",
    "import numpy as np\n",
    "import matplotlib.pyplot as plt"
   ]
  },
  {
   "cell_type": "code",
   "execution_count": 2,
   "id": "4995977c-2d08-4a71-a96b-bc28a78b3f4e",
   "metadata": {},
   "outputs": [],
   "source": [
    "from microsim.population import NHANESDirectSamplePopulation\n",
    "from microsim.sim_settings import simSettings"
   ]
  },
  {
   "cell_type": "code",
   "execution_count": 3,
   "id": "b549439c-d8f3-4893-89e6-50a56b0382dd",
   "metadata": {},
   "outputs": [],
   "source": [
    "pandarallel.initialize(verbose=1) #microsim by default now does not initialize pandarallel\n",
    "simSettings.pandarallelFlag = True #with this flag all new population instances will be set to use pandarallel\n",
    "\n",
    "seedSequence = np.random.SeedSequence()\n",
    "rngStream = np.random.default_rng(seed=seedSequence)\n",
    "\n",
    "microsimDir = \"/Users/deligkaris.1/OneDrive - The Ohio State University Wexner Medical Center/MICROSIM/CODE/microsim\"\n",
    "os.chdir(microsimDir)"
   ]
  },
  {
   "cell_type": "code",
   "execution_count": 4,
   "id": "0efbf00c-2b82-4eb7-8854-e6333cdc10f9",
   "metadata": {},
   "outputs": [
    {
     "name": "stdout",
     "output_type": "stream",
     "text": [
      "CPU times: user 8.37 s, sys: 496 ms, total: 8.87 s\n",
      "Wall time: 31.4 s\n"
     ]
    }
   ],
   "source": [
    "%%time\n",
    "popSize = 300000\n",
    "pop = NHANESDirectSamplePopulation(popSize, 2017, rng=rngStream)"
   ]
  },
  {
   "cell_type": "code",
   "execution_count": 5,
   "id": "3ab9c2ef-4030-4778-9488-7deb212a4220",
   "metadata": {},
   "outputs": [
    {
     "name": "stdout",
     "output_type": "stream",
     "text": [
      "CPU times: user 4min 57s, sys: 11 s, total: 5min 8s\n",
      "Wall time: 22min 30s\n"
     ]
    }
   ],
   "source": [
    "%%time\n",
    "alive, dead = pop.advance_vectorized(0,rng=rngStream)"
   ]
  },
  {
   "cell_type": "code",
   "execution_count": 6,
   "id": "ce2a72c2-64ac-4e20-9184-0c2091937adf",
   "metadata": {},
   "outputs": [
    {
     "data": {
      "text/plain": [
       "(300000, 99)"
      ]
     },
     "execution_count": 6,
     "metadata": {},
     "output_type": "execute_result"
    }
   ],
   "source": [
    "alive.shape"
   ]
  },
  {
   "cell_type": "code",
   "execution_count": 7,
   "id": "d4f91960-20ab-4669-b21a-b086c39b2895",
   "metadata": {},
   "outputs": [],
   "source": [
    "#this prevalence model is based on the publication https://doi.org/10.1097%2FMD.0000000000003454\n",
    "from microsim.pvd_model import PVDPrevalenceModel"
   ]
  },
  {
   "cell_type": "code",
   "execution_count": 8,
   "id": "11991327-4b7b-4383-b300-db1561be3c8f",
   "metadata": {},
   "outputs": [],
   "source": [
    "#get the prevalence of PVD in the microsim population\n",
    "a = list(map(lambda x:  setattr(x, \"_pvd\", [PVDPrevalenceModel().estimate_next_risk(x, rngStream, False)]), pop._people))"
   ]
  },
  {
   "cell_type": "code",
   "execution_count": 9,
   "id": "cad34779-9eca-42c4-bdfb-5e781fec81a3",
   "metadata": {
    "tags": []
   },
   "outputs": [],
   "source": [
    "#pop._people.iloc[4]._pvd"
   ]
  },
  {
   "cell_type": "code",
   "execution_count": 10,
   "id": "e02893e4-9d4b-42cc-af67-3cb88e9c0b90",
   "metadata": {},
   "outputs": [
    {
     "data": {
      "image/png": "[encoded data removed]",
      "text/plain": [
       "<Figure size 640x480 with 1 Axes>"
      ]
     },
     "metadata": {},
     "output_type": "display_data"
    }
   ],
   "source": [
    "#do the bin counting for the baseline model\n",
    "ageList = list()\n",
    "pvdList = list()\n",
    "for p in pop._people.iloc[:]:\n",
    "    ageList +=  p._age\n",
    "    pvdList += p._pvd \n",
    "        \n",
    "basePvd = pd.DataFrame(list(zip(ageList,pvdList)), columns=[\"age\",\"pvd\"])\n",
    "basePvd[\"age\"]=basePvd[\"age\"].astype('int')\n",
    "basePvd[\"ageInterval\"] = pd.cut(basePvd[\"age\"], bins=[10,55,60,65,70,75,80,85,90,95,100],right=False)\n",
    "\n",
    "basePvdMeansByAgeGroup = basePvd.groupby(\"ageInterval\").agg({'pvd' : 'mean'})\n",
    "basePvdMeansByAgeGroup[\"labels\"] = [f\"[{x.left}, {x.right})\" for x in  basePvdMeansByAgeGroup.index.array]\n",
    "\n",
    "labels = basePvdMeansByAgeGroup[\"labels\"].values.tolist()[1:]\n",
    "values = [x[0] for x in basePvdMeansByAgeGroup.values[1:]]\n",
    "\n",
    "fig, ax = plt.subplots()\n",
    "ax.bar(labels, values)\n",
    "plt.xlabel(\"age group\")\n",
    "plt.ylabel(\"mean pvd % rate\")\n",
    "plt.title(\"prevalence pvd model\")\n",
    "plt.show()"
   ]
  },
  {
   "cell_type": "code",
   "execution_count": 11,
   "id": "a97cbf8e-2f7f-4b46-974f-9aec3d489573",
   "metadata": {},
   "outputs": [],
   "source": [
    "#let's do the same thing using the dataframe version\n",
    "alive[\"pvd0\"] = alive.apply(lambda x: PVDPrevalenceModel().estimate_next_risk_vectorized(x, rngStream, False), axis=1)"
   ]
  },
  {
   "cell_type": "code",
   "execution_count": 12,
   "id": "7c368a70-34b1-477d-91db-32c6df826a81",
   "metadata": {},
   "outputs": [],
   "source": [
    "#keep the initial risk factors etc because these will be lost next\n",
    "alive0 = alive"
   ]
  },
  {
   "cell_type": "code",
   "execution_count": 13,
   "id": "bebfcf6a-47a8-493a-aac9-46fc9dcb92e6",
   "metadata": {},
   "outputs": [
    {
     "name": "stdout",
     "output_type": "stream",
     "text": [
      "CPU times: user 14min 49s, sys: 27.8 s, total: 15min 17s\n",
      "Wall time: 28min 1s\n"
     ]
    }
   ],
   "source": [
    "%%time\n",
    "#advance the population by a single year (incidence rate is regarding new cases during a year)\n",
    "alive, dead = pop.advance_vectorized(1,rng=rngStream)"
   ]
  },
  {
   "cell_type": "code",
   "execution_count": 14,
   "id": "42a59472-3237-444a-8952-24e51de3d12d",
   "metadata": {},
   "outputs": [],
   "source": [
    "#now estimate the prevalence risk of the now 1 year older population\n",
    "alive[\"pvd1\"] = alive.apply(lambda x: PVDPrevalenceModel().estimate_next_risk_vectorized(x, rngStream, False), axis=1)"
   ]
  },
  {
   "cell_type": "code",
   "execution_count": 15,
   "id": "6686da22-8c8e-4105-a9e0-6290d69f5fbb",
   "metadata": {},
   "outputs": [],
   "source": [
    "#alive0[[\"pvd0\"]].head()"
   ]
  },
  {
   "cell_type": "code",
   "execution_count": 16,
   "id": "aeb06b4e-b33e-4c34-af87-9822c3f97cd2",
   "metadata": {},
   "outputs": [],
   "source": [
    "#alive[\"pvd1\"].head()"
   ]
  },
  {
   "cell_type": "code",
   "execution_count": 17,
   "id": "722d061c-25a0-40c6-acf7-122f4c12537a",
   "metadata": {},
   "outputs": [],
   "source": [
    "#keep from the original dataframe only the ones that remained alive in this 1 year older population\n",
    "#and copy quantities I do not have at the current dataframe\n",
    "alive[\"pvd0\"] = alive0.loc[alive0[\"populationIndex\"].isin(alive[\"populationIndex\"].tolist()), (\"pvd0\")]\n",
    "alive[\"smokingStatus0\"] = alive0.loc[alive0[\"populationIndex\"].isin(alive[\"populationIndex\"].tolist()), (\"smokingStatus\")]"
   ]
  },
  {
   "cell_type": "code",
   "execution_count": 18,
   "id": "643af6e4-2569-49bd-bb85-fa932ce0ebff",
   "metadata": {},
   "outputs": [],
   "source": [
    "#alive[[\"pvd0\",\"pvd1\"]]"
   ]
  },
  {
   "cell_type": "code",
   "execution_count": 19,
   "id": "a439e097-bebb-462b-b50f-0d68d683e1b1",
   "metadata": {},
   "outputs": [],
   "source": [
    "#alive0[\"hdl\"].head(10)"
   ]
  },
  {
   "cell_type": "code",
   "execution_count": 20,
   "id": "77aa1562-1e8f-465c-9ddd-e6b42b555c3d",
   "metadata": {},
   "outputs": [],
   "source": [
    "#alive[\"hdl0\"].head(10)"
   ]
  },
  {
   "cell_type": "code",
   "execution_count": 21,
   "id": "7e122931-e7d1-4e65-a766-f2f5af3e6403",
   "metadata": {},
   "outputs": [],
   "source": [
    "#this is the data I need to obtain an incidence rate model\n",
    "data = alive.loc[:,(\"age0\",\"sbp0\",\"dbp0\",\"totChol0\",\"hdl0\",\"gender\",\"smokingStatus0\",\"raceEthnicity\",\"pvd0\",\"pvd1\")]"
   ]
  },
  {
   "cell_type": "code",
   "execution_count": 22,
   "id": "30b83e7a-06e3-4ac3-bd27-0931905c0114",
   "metadata": {},
   "outputs": [
    {
     "data": {
      "text/plain": [
       "(300000, 10)"
      ]
     },
     "execution_count": 22,
     "metadata": {},
     "output_type": "execute_result"
    }
   ],
   "source": [
    "data.shape"
   ]
  },
  {
   "cell_type": "code",
   "execution_count": 23,
   "id": "a25ff3da-18fb-492e-8d72-c97446f1ab5f",
   "metadata": {},
   "outputs": [],
   "source": [
    "#data[\"pvd0\"] = data[\"pvd0\"].astype(int)\n",
    "#data[\"pvd1\"] = data[\"pvd1\"].astype(int)"
   ]
  },
  {
   "cell_type": "code",
   "execution_count": 24,
   "id": "c4e88d87-2dee-44a0-b28d-23d0601e4b83",
   "metadata": {},
   "outputs": [],
   "source": [
    "#calculate some quantities I need for the model\n",
    "data[\"pulsePressure0S\"] = (data[\"sbp0\"] - data[\"dbp0\"])/10.\n",
    "data[\"age0S\"] = data[\"age0\"]/10.\n",
    "data[\"tchdlRatio0\"] = data[\"totChol0\"]/data[\"hdl0\"]"
   ]
  },
  {
   "cell_type": "code",
   "execution_count": 25,
   "id": "88abc198-1351-4a9b-9d0d-37d4b16e4ae3",
   "metadata": {},
   "outputs": [],
   "source": [
    "#the PVD prevalence model has only 4 categories for race/ethnicity so I need to map the microsim categories to these 4 levels\n",
    "def raceEthnicityIn4Levels(x):\n",
    "    if (x==1)|(x==2):\n",
    "        return 1\n",
    "    else:\n",
    "        return x\n",
    "    \n",
    "data[\"raceEthnicity0\"] = data[\"raceEthnicity\"].apply(raceEthnicityIn4Levels)"
   ]
  },
  {
   "cell_type": "code",
   "execution_count": 26,
   "id": "facba6e1-617a-4e03-bc36-8df219c30ddf",
   "metadata": {},
   "outputs": [],
   "source": [
    "#same thing for the smoking status\n",
    "def smokingStatusIn2Levels(x):\n",
    "    if (x==0):\n",
    "        return 0\n",
    "    else:\n",
    "        return 1\n",
    "    \n",
    "data[\"smokingStatus0\"] = data[\"smokingStatus0\"].apply(smokingStatusIn2Levels)"
   ]
  },
  {
   "cell_type": "code",
   "execution_count": 27,
   "id": "986a5f25-6015-40d9-ab90-3b0d9151f339",
   "metadata": {},
   "outputs": [],
   "source": [
    "#this random draw is the single random number for each person that will be used to obtain the incidence model\n",
    "data[\"draw\"] = rngStream.uniform(size=popSize)\n",
    "\n",
    "data[\"pvd0Binary\"] = (data[\"pvd0\"]>data[\"draw\"]).astype(int)\n",
    "data[\"pvd1Binary\"] = (data[\"pvd1\"]>data[\"draw\"]).astype(int)\n",
    "\n",
    "#keep only the people that did not get PVD during the use of the prevalence model at the beginning\n",
    "data = data[data[\"pvd0Binary\"]==0]"
   ]
  },
  {
   "cell_type": "code",
   "execution_count": 28,
   "id": "8406a602-9c96-4f29-be47-2ae36f9416e2",
   "metadata": {},
   "outputs": [],
   "source": [
    "#data.loc[:,(\"pvd0\",\"pvd0Binary\",\"pvd1\",\"pvd1Binary\",\"draw\")].head()"
   ]
  },
  {
   "cell_type": "code",
   "execution_count": 29,
   "id": "3442c2c8-106c-4ec5-ab4a-8ea84949b642",
   "metadata": {},
   "outputs": [],
   "source": [
    "data.to_csv(\"/Users/deligkaris.1/OneDrive - The Ohio State University Wexner Medical Center/MICROSIM/NOTEBOOKS/DATA/pvdModelDevelopment.csv\", index=False)"
   ]
  },
  {
   "cell_type": "code",
   "execution_count": null,
   "id": "b6f93196-2add-4e1c-9ece-4a80bded38c3",
   "metadata": {},
   "outputs": [],
   "source": []
  }
 ],
 "metadata": {
  "kernelspec": {
   "display_name": "microsimKernel",
   "language": "python",
   "name": "microsimkernel"
  },
  "language_info": {
   "codemirror_mode": {
    "name": "ipython",
    "version": 3
   },
   "file_extension": ".py",
   "mimetype": "text/x-python",
   "name": "python",
   "nbconvert_exporter": "python",
   "pygments_lexer": "ipython3",
   "version": "3.9.13"
  }
 },
 "nbformat": 4,
 "nbformat_minor": 5
}
