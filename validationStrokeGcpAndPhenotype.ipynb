{
 "cells": [
  {
   "cell_type": "markdown",
   "id": "48d04733-cc95-4139-ab80-f005b7fc0e06",
   "metadata": {
    "tags": []
   },
   "source": [
    "### Goal of this notebook is to see if the implemented gcp stroke model and the stroke phenotype models are reasonable, meaningful. This notebook analyzes results from an OSC microsim simulation."
   ]
  },
  {
   "cell_type": "code",
   "execution_count": null,
   "id": "9fb4604e-d1c5-4b37-b2b4-ab14bc61c61a",
   "metadata": {},
   "outputs": [],
   "source": [
    "import pandas as pd\n",
    "pd.set_option('display.max_columns', None)\n",
    "pd.set_option('display.max_rows', None)\n",
    "import matplotlib.pyplot as plt\n",
    "import numpy as np\n",
    "import os"
   ]
  },
  {
   "cell_type": "code",
   "execution_count": null,
   "id": "b1f43df1-a67c-4e02-8045-89b2dfda9769",
   "metadata": {},
   "outputs": [],
   "source": [
    "data = pd.read_csv(\"/Users/deligkaris.1/OneDrive - The Ohio State University Wexner Medical Center/MICROSIM/SIMULATIONS/VALIDATION-OF-STROKE-GCP-AND-PHENOTYPE/POP-50K/data.csv\", index_col=0, low_memory=False)\n",
    "strokePhenotype = pd.read_csv(\"/Users/deligkaris.1/OneDrive - The Ohio State University Wexner Medical Center/MICROSIM/SIMULATIONS/VALIDATION-OF-STROKE-GCP-AND-PHENOTYPE/POP-50K/strokePhenotypes.csv\", index_col=0)"
   ]
  },
  {
   "cell_type": "code",
   "execution_count": null,
   "id": "1c15be08-192b-44e8-8b01-94515f870eda",
   "metadata": {},
   "outputs": [],
   "source": [
    "data.head()"
   ]
  },
  {
   "cell_type": "code",
   "execution_count": null,
   "id": "1f5b4dd9-095a-48ed-acb5-e2fd84f85d14",
   "metadata": {},
   "outputs": [],
   "source": [
    "maxWave = data[:\"age0\"].shape[0]-1\n",
    "maxWave"
   ]
  },
  {
   "cell_type": "code",
   "execution_count": null,
   "id": "93a277ef-d5d5-4255-8ff5-543b59cc2488",
   "metadata": {},
   "outputs": [],
   "source": [
    "strokePhenotype.head()"
   ]
  },
  {
   "cell_type": "code",
   "execution_count": null,
   "id": "cded4943-2654-4a75-9a1e-aaf056014fba",
   "metadata": {},
   "outputs": [],
   "source": [
    "strokePhenotypeLabels = {\"StrokeSubtype.CARDIOEMBOLIC\":\"CE\", \"StrokeSubtype.SMALL_VESSEL\":\"SV\", \n",
    "                         \"StrokeSubtype.OTHER\":\"OTHER\", \"StrokeSubtype.LARGE_VESSEL\":\"LV\"}"
   ]
  },
  {
   "cell_type": "code",
   "execution_count": null,
   "id": "51d4d88f-097c-4115-a6aa-c34ca6b692cf",
   "metadata": {},
   "outputs": [],
   "source": [
    "strokePhenotype[\"strokeSubtypeLabels\"]=strokePhenotype[\"strokeSubtype\"].replace(strokePhenotypeLabels)"
   ]
  },
  {
   "cell_type": "code",
   "execution_count": null,
   "id": "cb776e30-c066-43d4-867d-6853901814a3",
   "metadata": {},
   "outputs": [],
   "source": [
    "strokePhenotype.head()"
   ]
  },
  {
   "cell_type": "code",
   "execution_count": null,
   "id": "f78c166a-dccd-4db7-be0f-11bff16e7c65",
   "metadata": {},
   "outputs": [],
   "source": [
    "plt.hist(strokePhenotype[\"nihss\"])\n",
    "plt.show()"
   ]
  },
  {
   "cell_type": "code",
   "execution_count": null,
   "id": "09355aef-badd-4514-a999-440cb1da9c46",
   "metadata": {},
   "outputs": [],
   "source": [
    "plt.hist(strokePhenotype[\"strokeType\"])\n",
    "plt.show()"
   ]
  },
  {
   "cell_type": "code",
   "execution_count": null,
   "id": "65026b30-2744-4cc9-8baf-1e81eb20d60f",
   "metadata": {},
   "outputs": [],
   "source": [
    "plt.hist(strokePhenotype[\"strokeSubtypeLabels\"])\n",
    "plt.show()"
   ]
  },
  {
   "cell_type": "code",
   "execution_count": null,
   "id": "dcfc0684-476b-4505-8e0f-070444cbc042",
   "metadata": {},
   "outputs": [],
   "source": [
    "strokePhenotype[\"strokeSubtypeLabels\"].value_counts(normalize=True)"
   ]
  },
  {
   "cell_type": "code",
   "execution_count": null,
   "id": "26a49255-00c8-481c-b90c-d61a5fd0be22",
   "metadata": {},
   "outputs": [],
   "source": [
    "#data[\"0\"]"
   ]
  },
  {
   "cell_type": "code",
   "execution_count": null,
   "id": "cbf0adc4-c244-42af-ae40-badb5eaed4e0",
   "metadata": {},
   "outputs": [],
   "source": [
    "data.loc[\"stroke0Wave\"] = data.loc[\"stroke0Age\"] - data.loc[\"age0\"].astype('int')"
   ]
  },
  {
   "cell_type": "code",
   "execution_count": null,
   "id": "3fc7e1e9-05fe-44ce-ba9c-657da06d93ec",
   "metadata": {},
   "outputs": [],
   "source": [
    "def get_prestroke_gcp(x):\n",
    "    return  ([None] #[np.array([None for i in range(maxWave)])] \n",
    "            if pd.isna(x[\"stroke0Wave\"]) \n",
    "            else [np.array(x.iloc[:x[\"stroke0Wave\"].astype('int')+1])])\n",
    "\n",
    "def get_poststroke_gcp(x):\n",
    "    return ([None] #[np.array([None for i in range(maxWave)])] \n",
    "            if pd.isna(x[\"stroke0Wave\"]) \n",
    "            else [np.array(x.iloc[x[\"stroke0Wave\"].astype('int')+1:maxWave])])"
   ]
  },
  {
   "cell_type": "code",
   "execution_count": null,
   "id": "99b85022-c7e0-42a4-b759-500f81b0ab8a",
   "metadata": {},
   "outputs": [],
   "source": [
    "gcpPreStroke0 = data.apply(get_prestroke_gcp)\n",
    "gcpPreStroke0.index=[\"gcpPreStroke0\"]\n",
    "gcpPostStroke0 = data.apply(get_poststroke_gcp)\n",
    "gcpPostStroke0.index = [\"gcpPostStroke0\"]\n",
    "data=pd.concat([data,gcpPreStroke0,gcpPostStroke0])\n",
    "\n",
    "indexWithStroke = gcpPreStroke0.notnull().loc[\"gcpPreStroke0\"]"
   ]
  },
  {
   "cell_type": "code",
   "execution_count": null,
   "id": "6d7462ad-f7ef-4c8d-9337-95619d4500e9",
   "metadata": {},
   "outputs": [],
   "source": [
    "personWithStroke = indexWithStroke[indexWithStroke].index[0]\n",
    "personWithStroke"
   ]
  },
  {
   "cell_type": "code",
   "execution_count": null,
   "id": "a8b61ce2-e891-41e6-baff-b7524dbb538d",
   "metadata": {},
   "outputs": [],
   "source": [
    "data[personWithStroke]"
   ]
  },
  {
   "cell_type": "code",
   "execution_count": null,
   "id": "d8b37f3e-1ce1-47ae-9905-0e09bfb17584",
   "metadata": {},
   "outputs": [],
   "source": [
    "data.loc[\"gcpPreStroke0\",personWithStroke]"
   ]
  },
  {
   "cell_type": "code",
   "execution_count": null,
   "id": "261fe3ed-583b-4e9c-b9ca-29f4f4b0c582",
   "metadata": {},
   "outputs": [],
   "source": [
    "data.loc[\"gcpPostStroke0\",personWithStroke]"
   ]
  },
  {
   "cell_type": "code",
   "execution_count": null,
   "id": "f1cf9a49-25c7-4356-9897-08c2af230613",
   "metadata": {},
   "outputs": [],
   "source": [
    "data.loc[\"age0\":\"stroke0Wave\",personWithStroke]"
   ]
  },
  {
   "cell_type": "code",
   "execution_count": null,
   "id": "b8970e45-8cd1-4e44-b078-93de176e635e",
   "metadata": {},
   "outputs": [],
   "source": [
    "for i in range(maxWave-1):\n",
    "    print(data.loc[f\"{i}\",personWithStroke],data.loc[\"age0\",personWithStroke]+i,i)"
   ]
  },
  {
   "cell_type": "code",
   "execution_count": null,
   "id": "220bfcb2-6ccd-43b2-86c6-f93d92d7f40e",
   "metadata": {},
   "outputs": [],
   "source": [
    "#gcpPreStroke0Series = data.loc[\"gcpPreStroke0\", data.loc[\"gcpPreStroke0\"].notnull()]\n",
    "gcpPreStroke0Series = gcpPreStroke0.loc[\"gcpPreStroke0\",gcpPreStroke0.notnull().loc[\"gcpPreStroke0\"]]\n",
    "\n",
    "gcpPostStroke0Series = gcpPostStroke0.loc[\"gcpPostStroke0\",gcpPostStroke0.notnull().loc[\"gcpPostStroke0\"]]"
   ]
  },
  {
   "cell_type": "code",
   "execution_count": null,
   "id": "e9dfb32e-47ed-4f02-9fa1-6bbbcdaae668",
   "metadata": {},
   "outputs": [],
   "source": [
    "gcpPreStroke0DF = pd.DataFrame( dict([ (k, pd.Series(v).iloc[::-1].reset_index(drop=True)) for k,v in gcpPreStroke0Series.items() ]))\n",
    "gcpPreStroke0DF.head()"
   ]
  },
  {
   "cell_type": "code",
   "execution_count": null,
   "id": "f723fde1-f450-4e4a-8fbe-a0fa7d631d1e",
   "metadata": {},
   "outputs": [],
   "source": [
    "gcpPostStroke0DF = pd.DataFrame( dict([ (k, pd.Series(v).iloc[::1].reset_index(drop=True)) for k,v in gcpPostStroke0Series.items() ]))\n",
    "gcpPostStroke0DF.head()"
   ]
  },
  {
   "cell_type": "code",
   "execution_count": null,
   "id": "8314b0d3-390c-4521-9b05-04de8cd090d2",
   "metadata": {},
   "outputs": [],
   "source": [
    "gcpPreStroke0DF[personWithStroke]"
   ]
  },
  {
   "cell_type": "code",
   "execution_count": null,
   "id": "6c56dccd-7aaf-4e4a-a61d-bd5f05f3e613",
   "metadata": {},
   "outputs": [],
   "source": [
    "gcpPostStroke0DF[personWithStroke]"
   ]
  },
  {
   "cell_type": "code",
   "execution_count": null,
   "id": "d129c126-340e-4a95-b27a-453e9c76e422",
   "metadata": {},
   "outputs": [],
   "source": [
    "gcpPreStroke0DF[\"mean\"] = gcpPreStroke0DF.mean(axis=1)\n",
    "gcpPostStroke0DF[\"mean\"] = gcpPostStroke0DF.mean(axis=1)"
   ]
  },
  {
   "cell_type": "code",
   "execution_count": null,
   "id": "fa64a6f7-99a1-4167-87d6-27f9c2dce4c7",
   "metadata": {},
   "outputs": [],
   "source": [
    "meanGcpPreStroke0 = gcpPreStroke0DF[\"mean\"].iloc[::-1].tolist() \n",
    "meanGcpPostStroke0 = gcpPostStroke0DF[\"mean\"].tolist()\n",
    "meanGcp = meanGcpPreStroke0 + meanGcpPostStroke0 \n",
    "time = [i for i in range(-len(meanGcpPreStroke0),1)] + [i for i in range(1,len(meanGcpPostStroke0))] "
   ]
  },
  {
   "cell_type": "code",
   "execution_count": null,
   "id": "b27e0993-d84b-48a0-b8fc-0b224280c392",
   "metadata": {},
   "outputs": [],
   "source": [
    "len(meanGcp), len(time)"
   ]
  },
  {
   "cell_type": "code",
   "execution_count": null,
   "id": "b3b15419-4242-479b-b2b5-0e6cf83c2804",
   "metadata": {},
   "outputs": [],
   "source": [
    "#time"
   ]
  },
  {
   "cell_type": "code",
   "execution_count": null,
   "id": "27f82021-24a2-4293-ab10-330d8745e8b2",
   "metadata": {},
   "outputs": [],
   "source": [
    "plt.scatter(time,meanGcp)\n",
    "plt.title(\"mean gcp of the stroke cohort\")\n",
    "plt.xlabel(\"time (0=year of stroke)\")\n",
    "plt.show()"
   ]
  },
  {
   "cell_type": "code",
   "execution_count": null,
   "id": "e1b06459-fd10-46c7-905f-992d94ef5f12",
   "metadata": {},
   "outputs": [],
   "source": [
    "meanGcpPostStroke0"
   ]
  },
  {
   "cell_type": "code",
   "execution_count": null,
   "id": "d75bf1cb-1bbb-451b-87c2-83b46af02583",
   "metadata": {},
   "outputs": [],
   "source": [
    "data.loc[\"0\":f\"{maxWave-1}\"].mean(axis=1)"
   ]
  },
  {
   "cell_type": "code",
   "execution_count": null,
   "id": "535e7ddf-94ed-4b84-a429-130f2dbd07e0",
   "metadata": {},
   "outputs": [],
   "source": [
    "test = data.loc[\"0\":f\"{maxWave-1}\",gcpPreStroke0.notnull().loc[\"gcpPreStroke0\"]].mean(axis=1).tolist()\n",
    "plt.scatter(range(len(test)),test)\n",
    "plt.show()"
   ]
  },
  {
   "cell_type": "code",
   "execution_count": null,
   "id": "f6da80e9-e1d9-4a92-8c3a-c52de7a88a75",
   "metadata": {},
   "outputs": [],
   "source": [
    "[f\"{x}\" for x in range(2015,2015)] + [f\"{x}\" for x in range(2015,2017)]"
   ]
  },
  {
   "cell_type": "code",
   "execution_count": null,
   "id": "f45f1fa0-b5d9-4dbc-a7be-12ae245b40be",
   "metadata": {},
   "outputs": [],
   "source": []
  }
 ],
 "metadata": {
  "kernelspec": {
   "display_name": "microsimJupyterKernel",
   "language": "python",
   "name": "microsimjupyterkernel"
  },
  "language_info": {
   "codemirror_mode": {
    "name": "ipython",
    "version": 3
   },
   "file_extension": ".py",
   "mimetype": "text/x-python",
   "name": "python",
   "nbconvert_exporter": "python",
   "pygments_lexer": "ipython3",
   "version": "3.9.13"
  }
 },
 "nbformat": 4,
 "nbformat_minor": 5
}
