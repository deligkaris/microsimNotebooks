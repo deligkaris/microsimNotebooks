{
 "cells": [
  {
   "cell_type": "markdown",
   "id": "51d825d1-2167-432b-84a8-bb5fd1a871c7",
   "metadata": {},
   "source": [
    "This notebook includes the development of code that implements the stroke phenotype models (stroke type, stroke subtype, stroke nihss, stroke disability, stroke location). The TestCaseOne person uses data obtained for the validation of the gcp stroke model (see test_gcp_stroke_model)."
   ]
  },
  {
   "cell_type": "code",
   "execution_count": 1,
   "id": "45907c22-8493-45cf-9c3b-b57fb4073088",
   "metadata": {},
   "outputs": [],
   "source": [
    "import os\n",
    "import json\n",
    "import pandas as pd\n",
    "\n",
    "from microsim.regression_model import RegressionModel\n",
    "from microsim.statsmodel_linear_risk_factor_model import StatsModelLinearRiskFactorModel\n",
    "from microsim.statsmodel_logistic_risk_factor_model import StatsModelLogisticRiskFactorModel\n",
    "from microsim.stroke_outcome import StrokeType, StrokeSubtype, Localization\n",
    "\n",
    "from microsim.person import Person\n",
    "from microsim.population import Population\n",
    "from microsim.education import Education\n",
    "from microsim.gender import NHANESGender\n",
    "from microsim.smoking_status import SmokingStatus\n",
    "from microsim.alcohol_category import AlcoholCategory\n",
    "from microsim.race_ethnicity import NHANESRaceEthnicity\n",
    "from microsim.outcome import Outcome, OutcomeType"
   ]
  },
  {
   "cell_type": "code",
   "execution_count": 2,
   "id": "b9fba547-9384-4c92-b53e-f066d0ac50cb",
   "metadata": {},
   "outputs": [],
   "source": [
    "class TestCaseOne(Person):\n",
    "\n",
    "    def __init__(self):\n",
    "\n",
    "        #make the lists that will be used to define the person's path in the simulation\n",
    "        ageAtStroke = 74.6 + 0.389117043*10 \n",
    "        indexStroke = 2\n",
    "        ageList = [ageAtStroke + 3.17 + x for x in range(-5,1)]\n",
    "        ageList.insert(indexStroke, ageAtStroke)\n",
    "        sbpMeanPrestroke = 140.4 -1.9*10\n",
    "        sbpMean = -1.*10 +134.9\n",
    "        sbpList = [sbpMeanPrestroke] * (indexStroke+1) + [sbpMean]*4\n",
    "        dbpList = [80]*7\n",
    "        a1cMeanPrestroke = Person.convert_fasting_glucose_to_a1c(112.8 + 0.5*10)\n",
    "        a1cMean = Person.convert_fasting_glucose_to_a1c(108.1 + 2.2*10)\n",
    "        a1cList = [a1cMeanPrestroke] * (indexStroke+1) + [a1cMean]*4\n",
    "        hdlList = [50]*7\n",
    "        ldlMeanPrestroke = 126.4 + 3.8*10\n",
    "        ldlMean = 2.6*10 + 94.1\n",
    "        ldlList = [ldlMeanPrestroke] * (indexStroke+1) + [ldlMean]*4\n",
    "        trigList = [150]*7\n",
    "        totCholList = [hdlList[i]+ldlList[i]+trigList[i] for i in range(len(ldlList))]\n",
    "        bmiMedianPrestroke = 27.2 + 1.467401286\n",
    "        bmiList = [bmiMedianPrestroke] * (indexStroke+1) + [bmiMedianPrestroke+x for x in range(10,50,10)]\n",
    "        waistMedianPrestroke = 97.5 - 1.618*10\n",
    "        waistList = [waistMedianPrestroke] * (indexStroke+1) + [waistMedianPrestroke+x for x in range(10,50,10)]\n",
    "        antiHypertensiveCountList = [1]*7\n",
    "        statinList = [1]*7\n",
    "        otherLipidLoweringMedicationCountList = [0]*7\n",
    "        creatinineList = [1]*7\n",
    "        anyPhysicalActivityList=[1]*7\n",
    "        medianGcpPrestroke = 6.104780222+52.7\n",
    "        gcpList = [medianGcpPrestroke]*7\n",
    "    \n",
    "        #create the person\n",
    "        super().__init__(\n",
    "            age= ageList[0],                                          #agemed10\n",
    "            gender=NHANESGender.FEMALE,                               #female0\n",
    "            raceEthnicity=NHANESRaceEthnicity.NON_HISPANIC_WHITE,     #black\n",
    "            sbp= sbpList[0],                                          #bs_sbpstkcog\n",
    "            dbp= dbpList[0],                                          #same as TestGCPModel      \n",
    "            a1c=a1cList[0],                                           #bs_glucosefmed10\n",
    "            hdl= hdlList[0],                                          #same as TestGCPModel\n",
    "            totChol=totCholList[0],                                   #?? hdl+ldl+0.2*trig\n",
    "            ldl= ldlList[0],                                          #bs_cholldlmed10\n",
    "            trig=trigList[0],                                         #same as TestGCPModel\n",
    "            bmi= bmiList[0],                                          #bs_bmimed\n",
    "            waist= waistList[0],                                      #bs_waistcmmed10\n",
    "            anyPhysicalActivity=anyPhysicalActivityList[0],           #physact\n",
    "            education=Education.SOMEHIGHSCHOOL,                       #educ2,educ3,educ4\n",
    "            smokingStatus=SmokingStatus.FORMER,                        #currsmoker\n",
    "            alcohol=AlcoholCategory.NONE,                             #alcperwk\n",
    "            antiHypertensiveCount=antiHypertensiveCountList[0],       #htntx\n",
    "            statin=statinList[0],                                     #choltx\n",
    "            otherLipidLoweringMedicationCount=otherLipidLoweringMedicationCountList[0],#same as TestGCPModel\n",
    "            creatinine=creatinineList[0],                             #same as TestGCPModel\n",
    "            initializeAfib=None,                                      #hxafib\n",
    "           )\n",
    "        \n",
    "        #assign history to person\n",
    "        self._age = ageList[0:indexStroke+1]                          #when age reaches ageAtStroke, then \n",
    "        self.add_outcome_event(Outcome(OutcomeType.STROKE, False))    #add the stroke outcome\n",
    "        self._age = ageList\n",
    "        self._sbp = sbpList\n",
    "        self._dbp = dbpList\n",
    "        self._a1c = a1cList\n",
    "        self._hdl = hdlList\n",
    "        self._totChol = totCholList\n",
    "        self._ldl = ldlList\n",
    "        self._trig = trigList\n",
    "        self._bmi = bmiList\n",
    "        self._waist = waistList\n",
    "        self._anyPhysicalActivity = anyPhysicalActivityList\n",
    "        self._antiHypertensiveCount = antiHypertensiveCountList\n",
    "        self._statin = statinList\n",
    "        self._otherLipidLoweringMedicationCount = otherLipidLoweringMedicationCountList\n",
    "        self._creatinine = creatinineList\n",
    "        self._gcp = gcpList\n",
    "\n",
    "        #expected results based on model\n",
    "        self._expectedGcp = 58.45580379\n",
    "        self._expectedYhat = 57.4753\n",
    "        self._expectedResidual = 0.9805041\n",
    "        self._expectedLinearPredictor = (self._expectedYhat +\n",
    "                                         0.05502 * 0 -          #the alcperwk contribution in microsim\n",
    "                                         0.05502 * 0. +         #the alcperwk contribution on the model\n",
    "                                         (238.*(-5.2897)+332.*(-3.7359)+101.*(-2.8168)) / (238.+332.+101.+311.) -  #weighted group average\n",
    "                                         0. -                   #group\n",
    "                                         0.4819 -               #income\n",
    "                                         0. -                   #diabetes treatment\n",
    "                                         0.*(-0.03788) -        #diabetes treatment * t_gcp_stk\n",
    "                                         1.989499 -             #reffect2\n",
    "                                         0.0925494*3.170431211) #reffect1*t_gcp_stk\n",
    "    \n",
    "    @property\n",
    "    def _gfr(self):\n",
    "        return 80.61366 #override the gfr calculation and use the actual measurement \n",
    "\n",
    "#make the person and the dataframe (with a single row) for testing\n",
    "test_case_one=TestCaseOne()\n",
    "test_case_one_pop = Population(pd.Series(test_case_one))\n",
    "test_case_one_df = test_case_one_pop.get_people_current_state_and_summary_as_dataframe()\n",
    "#test_case_one_df.iloc[0].tolist()"
   ]
  },
  {
   "cell_type": "code",
   "execution_count": 3,
   "id": "5cdb978f-2a21-4c25-a9e8-32fb6c4846e9",
   "metadata": {},
   "outputs": [],
   "source": [
    "#at the beginning I defined these dictionaries...I could use these to export the models to json files (if we decide to use json files)"
   ]
  },
  {
   "cell_type": "code",
   "execution_count": 4,
   "id": "4a9d1cac-4fb9-4c8f-ab33-54409c9a8efe",
   "metadata": {},
   "outputs": [],
   "source": [
    "strokeType = {\"coefficients\": {\n",
    "    \"Intercept\":            0.97240658,    # _cons + (-46.7)*glucose_sim + aric\n",
    "    \"age\":                  0.012586,      #stroke_age\n",
    "    \"gender[T.2]\":         -0.0174109,     #female0_sim\n",
    "    \"gender[T.1]\":          0,\n",
    "    \"education[T.1]\":       0.0211369,     #educ0_sim*1\n",
    "    \"education[T.2]\":       0.0211369,     #educ0_sim*1\n",
    "    \"education[T.3]\":       0.0422738,     #educ0_sim*2\n",
    "    \"education[T.4]\":       0.0634107,     #educ0_sim*3\n",
    "    \"education[T.5]\":       0.0845476,     #educ0_sim*4\n",
    "    \"smokingStatus[T.2]\":   0.0658974,     #currsmoker_sim\n",
    "    \"anyPhysicalActivity\":  0.0501468,     #physact_sim, boolean\n",
    "    \"afib\":                -0.0615242,     #hxafib_sim, boolean\n",
    "    \"current_bp_treatment\": 0.4574039,     #htntx_sim, boolean\n",
    "    \"statin\":              -0.1934335,     #choltx_sim, boolean\n",
    "    \"sbp\":                 -0.0045951,     #sbpstkcog_sim\n",
    "    \"dbp\":                  0.0039562,     #dbpstkcog_sim\n",
    "    \"hdl\":                 -0.0425458,     #cholhdl_sim\n",
    "    \"totChol\":              0.0380974,     #choltot_sim\n",
    "    \"bmi\":                 -0.0067788,     #bmi_sim\n",
    "    \"alcoholPerWeek\":      -0.07774356,    #alcperwk_sim [1/oz alcohol] * 0.6 [oz alcohol/drink] \n",
    "    \"ldl\":                 -0.0386822,     #cholldl_sim\n",
    "    \"trig\":                -0.0070134,     #trig_sim\n",
    "    \"a1c\":                  0.10999562,    #glucose_sim*28.7    \n",
    "    \"waist\":                0.0038266,     #waistcm_sim\n",
    "    \"creatinine\":          -0.0641744      #creatin_sim\n",
    "},\n",
    "             \"coefficient_standard_errors\": {} ,\n",
    "             \"residual_mean\": {},\n",
    "             \"residual_standard_deviation\": {} }"
   ]
  },
  {
   "cell_type": "code",
   "execution_count": 5,
   "id": "11bee846-5547-41a6-99da-ec3ef322a3ae",
   "metadata": {},
   "outputs": [],
   "source": [
    "#cardioembolic\n",
    "strokeSubtypeCE = {\"coefficients\": {\n",
    "    \"Intercept\":          -3.13182975,  #_cons + aric + glucose_sim * (-46.7)\n",
    "    \"age\":                 0.0499947,   #stroke_age\n",
    "    \"gender[T.2]\":        -0.3813221,   #female0_sim\n",
    "    \"gender[T.1]\":         0.,\n",
    "    \"education[T.1]\":     -0.0143641,   #educ0_sim * 1, 1=not a HS graduate\n",
    "    \"education[T.2]\":     -0.0143641,   #educ0_sim * 1, 1=not a HS graduate\n",
    "    \"education[T.3]\":     -0.0287282,   #educ0_sim * 2, 2=HS graduate\n",
    "    \"education[T.4]\":     -0.0430923,   #educ0_sim * 3, 3=some college\n",
    "    \"education[T.5]\":     -0.0574564,   #educ0_sim * 4, 4=college graduate\n",
    "    \"smokingStatus[T.2]\":  0.0464248,   #currsmoker_sim\n",
    "    \"anyPhysicalActivity\": 0.171529,    #physact_sim\n",
    "    \"afib\":                1.858444,    #hxafib_sim     \n",
    "    \"current_bp_treatment\":0.1267211,   #htntx_sim\n",
    "    \"statin\":              0.0405856,   #choltx_sim\n",
    "    \"sbp\":                 0.0044229,   #sbpstkcog_sim\n",
    "    \"dbp\":                -0.0211307,   #dbpstkcog_sim \n",
    "    \"hdl\":                 0.0076896,   #cholhdl_sim\n",
    "    \"totChol\":            -0.0033463,   #choltot_sim\n",
    "    \"bmi\":                 0.0421033,   #bmi_sim\n",
    "    \"alcoholPerWeek\":     -0.00259902,  #alcperwk_sim * 0.6\n",
    "    \"ldl\":                -0.0031348,   #cholldl_sim\n",
    "    \"trig\":               -0.0000179,   #trig_sim \n",
    "    \"a1c\":                -0.11501525,  #glucose_sim * 28.7\n",
    "    \"waist\":               0.0011406,   #waistcm_sim\n",
    "    \"creatinine\":         -0.1197203    #creatin_sim\n",
    "     },\n",
    "                   \"coefficient_standard_errors\": {} ,\n",
    "                   \"residual_mean\": {},\n",
    "                   \"residual_standard_deviation\": {} }\n",
    "\n",
    "#LA_atherosclerosis\n",
    "strokeSubtypeLV = {\"coefficients\": {\n",
    "    \"Intercept\":          -2.14462214,  #_cons + aric + glucose_sim * (-46.7)\n",
    "    \"age\":                 0.00203,     #stroke_age\n",
    "    \"gender[T.2]\":        -0.3026703,   #female0_sim\n",
    "    \"gender[T.1]\":         0.,\n",
    "    \"education[T.1]\":      0.0204964,   #educ0_sim * 1, 1=not a HS graduate\n",
    "    \"education[T.2]\":      0.0204964,   #educ0_sim * 1, 1=not a HS graduate\n",
    "    \"education[T.3]\":      0.0409928,   #educ0_sim * 2, 2=HS graduate\n",
    "    \"education[T.4]\":      0.0614892,   #educ0_sim * 3, 3=some college\n",
    "    \"education[T.5]\":      0.0819856,   #educ0_sim * 4, 4=college graduate\n",
    "    \"smokingStatus[T.2]\": -0.4087069,   #currsmoker_sim\n",
    "    \"anyPhysicalActivity\": 0.3283082,   #physact_sim\n",
    "    \"afib\":                0.7040827,   #hxafib_sim     \n",
    "    \"current_bp_treatment\":0.1878509,   #htntx_sim\n",
    "    \"statin\":              0.1681594,   #choltx_sim\n",
    "    \"sbp\":                 0.0105225,   #sbpstkcog_sim\n",
    "    \"dbp\":                -0.0154197,   #dbpstkcog_sim \n",
    "    \"hdl\":                -0.0253099 ,  #cholhdl_sim\n",
    "    \"totChol\":             0.01298,     #choltot_sim\n",
    "    \"bmi\":                -0.0042248,   #bmi_sim\n",
    "    \"alcoholPerWeek\":      0.03367986,  #alcperwk_sim * 0.6\n",
    "    \"ldl\":                -0.009429,    #cholldl_sim\n",
    "    \"trig\":               -0.0005325,   #trig_sim \n",
    "    \"a1c\":                -0.04051866,  #glucose_sim * 28.7\n",
    "    \"waist\":               0.0017584,   #waistcm_sim\n",
    "    \"creatinine\":         -0.6562215    #creatin_sim\n",
    "     },\n",
    "                   \"coefficient_standard_errors\": {} ,\n",
    "                   \"residual_mean\": {},\n",
    "                   \"residual_standard_deviation\": {} }\n",
    "\n",
    "#SV_occlusion\n",
    "strokeSubtypeSV = {\"coefficients\": {\n",
    "    \"Intercept\":            0.17084136,  #_cons + aric + glucose_sim * (-46.7)\n",
    "    \"age\":                 -0.008983,    #stroke_age\n",
    "    \"gender[T.2]\":          0.1107677,   #female0_sim\n",
    "    \"gender[T.1]\":          0.,\n",
    "    \"education[T.1]\":      -0.0357296,   #educ0_sim*1, 1=not a HS graduate\n",
    "    \"education[T.2]\":      -0.0357296,   #educ0_sim*1, 1=not a HS graduate\n",
    "    \"education[T.3]\":      -0.0714592,   #educ0_sim*2, 2=HS graduate\n",
    "    \"education[T.4]\":      -0.1071888,   #educ0_sim*3, 3=some college\n",
    "    \"education[T.5]\":      -0.1429184,   #educ0_sim*4, 4=college graduate\n",
    "    \"smokingStatus[T.2]\":   0.0207556,   #currsmoker_sim\n",
    "    \"anyPhysicalActivity\":  0.1915707,   #physact_sim\n",
    "    \"afib\":                -0.0698982,   #hxafib_sim     \n",
    "    \"current_bp_treatment\":-0.0168805,   #htntx_sim\n",
    "    \"statin\":              -0.4778607,   #choltx_sim\n",
    "    \"sbp\":                  0.0101797,   #sbpstkcog_sim\n",
    "    \"dbp\":                 -0.0110669,   #dbpstkcog_sim \n",
    "    \"hdl\":                 -0.032421,    #cholhdl_sim\n",
    "    \"totChol\":              0.0257892,   #choltot_sim\n",
    "    \"bmi\":                 -0.0029924,   #bmi_sim\n",
    "    \"alcoholPerWeek\":       0.0877935,   #alcperwk_sim * 0.6\n",
    "    \"ldl\":                 -0.0302675,   #cholldl_sim\n",
    "    \"trig\":                -0.0058004,   #trig_sim \n",
    "    \"a1c\":                 -0.00062566,  #glucose_sim * 28.7\n",
    "    \"waist\":                0.0118192,   #waistcm_sim\n",
    "    \"creatinine\":          -0.5225816    #creatin_sim\n",
    "     },\n",
    "                   \"coefficient_standard_errors\": {} ,\n",
    "                   \"residual_mean\": {},\n",
    "                   \"residual_standard_deviation\": {} }\n"
   ]
  },
  {
   "cell_type": "code",
   "execution_count": 6,
   "id": "64cfe61d-973b-473a-a570-4c7af16d8a97",
   "metadata": {},
   "outputs": [],
   "source": [
    "#NIHSS\n",
    "strokeNihss = {\"coefficients\": {\n",
    "    \"Intercept\":           -2.6063356,   #_cons + aric + glucose_sim * (-46.7)\n",
    "    \"age\":                  0.0771289,   #stroke_age\n",
    "    \"gender[T.2]\":          0.0512374,   #female0_sim\n",
    "    \"gender[T.1]\":          0.,\n",
    "    \"education[T.1]\":       0.1658821,   #educ0_sim*1, 1=not a HS graduate\n",
    "    \"education[T.2]\":       0.1658821,   #educ0_sim*1, 1=not a HS graduate\n",
    "    \"education[T.3]\":       0.3317642,   #educ0_sim*2, 2=HS graduate\n",
    "    \"education[T.4]\":       0.4976463,   #educ0_sim*3, 3=some college\n",
    "    \"education[T.5]\":       0.6635284,   #educ0_sim*4, 4=college graduate\n",
    "    \"smokingStatus[T.2]\":  -0.1257199 ,  #currsmoker_sim\n",
    "    \"anyPhysicalActivity\": -0.3476088,   #physact_sim\n",
    "    \"afib\":                 1.794008,    #hxafib_sim     \n",
    "    \"current_bp_treatment\": 0.6804093,   #htntx_sim\n",
    "    \"statin\":              -0.1660485,   #choltx_sim\n",
    "    \"sbp\":                  0.0131255 ,  #sbpstkcog_sim\n",
    "    \"dbp\":                 -0.0144218,   #dbpstkcog_sim \n",
    "    \"hdl\":                 -0.2642685 ,  #cholhdl_sim\n",
    "    \"totChol\":              0.2577162,   #choltot_sim\n",
    "    \"bmi\":                 -0.0197889,   #bmi_sim\n",
    "    \"alcoholPerWeek\":      -0.26697522,  #alcperwk_sim * 0.6\n",
    "    \"ldl\":                 -0.2564912,   #cholldl_sim\n",
    "    \"trig\":                -0.0556979,   #trig_sim \n",
    "    \"a1c\":                  0.2374925,   #glucose_sim * 28.7\n",
    "    \"waist\":               -0.002543 ,   #waistcm_sim\n",
    "    \"creatinine\":           0.2782118    #creatin_sim\n",
    "     },\n",
    "                   \"coefficient_standard_errors\": {} ,\n",
    "                   \"residual_mean\": {},\n",
    "                   \"residual_standard_deviation\": {} }"
   ]
  },
  {
   "cell_type": "code",
   "execution_count": 7,
   "id": "8523efae-7143-4e49-8780-075fbef00783",
   "metadata": {},
   "outputs": [],
   "source": [
    "#with open(\"strokeType.json\", \"w\") as outfile:\n",
    "#    json.dump(strokeType, outfile)"
   ]
  },
  {
   "cell_type": "code",
   "execution_count": 8,
   "id": "fa146241-8026-4fd5-9f5c-547619348340",
   "metadata": {},
   "outputs": [],
   "source": [
    "#classes that end in -Model implement the models, one model at a time\n",
    "#classes that end in -Repository implement the logic that determines what stroke type, subtype, nihss, location, disability is obtained for each person"
   ]
  },
  {
   "cell_type": "code",
   "execution_count": 9,
   "id": "49add038-a5fb-44f2-92b0-9eb84fbaa5c8",
   "metadata": {},
   "outputs": [],
   "source": [
    "#class strokeTypeIschemicModel:\n",
    "class strokeTypeIschemicModel(StatsModelLogisticRiskFactorModel):\n",
    "    def __init__(self):\n",
    "        \n",
    "        self._model = {\"coefficients\": {\n",
    "            \"Intercept\":            0.97240658,    # _cons + (-46.7)*glucose_sim + aric\n",
    "            \"age\":                  0.012586,      #stroke_age\n",
    "            \"gender[T.2]\":         -0.0174109,     #female0_sim\n",
    "            \"gender[T.1]\":          0,\n",
    "            \"education[T.1]\":       0.0211369,     #educ0_sim*1\n",
    "            \"education[T.2]\":       0.0211369,     #educ0_sim*1\n",
    "            \"education[T.3]\":       0.0422738,     #educ0_sim*2\n",
    "            \"education[T.4]\":       0.0634107,     #educ0_sim*3\n",
    "            \"education[T.5]\":       0.0845476,     #educ0_sim*4\n",
    "            \"smokingStatus[T.2]\":   0.0658974,     #currsmoker_sim\n",
    "            \"anyPhysicalActivity\":  0.0501468,     #physact_sim, boolean in sim\n",
    "            \"afib\":                -0.0615242,     #hxafib_sim, boolean in sim\n",
    "            \"current_bp_treatment\": 0.4574039,     #htntx_sim, boolean in sim\n",
    "            \"statin\":              -0.1934335,     #choltx_sim, boolean in sim\n",
    "            \"sbp\":                 -0.0045951,     #sbpstkcog_sim\n",
    "            \"dbp\":                  0.0039562,     #dbpstkcog_sim\n",
    "            \"hdl\":                 -0.0425458,     #cholhdl_sim\n",
    "            \"totChol\":              0.0380974,     #choltot_sim\n",
    "            \"bmi\":                 -0.0067788,     #bmi_sim\n",
    "            \"alcoholPerWeek\":      -0.07774356,    #alcperwk_sim [1/oz alcohol] * 0.6 [oz alcohol/drink] \n",
    "            \"ldl\":                 -0.0386822,     #cholldl_sim\n",
    "            \"trig\":                -0.0070134,     #trig_sim\n",
    "            \"a1c\":                  0.10999562,    #glucose_sim*28.7    \n",
    "            \"waist\":                0.0038266,     #waistcm_sim\n",
    "            \"creatinine\":          -0.0641744      #creatin_sim\n",
    "        },\n",
    "                \"coefficient_standard_errors\": {} ,\n",
    "                \"residual_mean\": {},\n",
    "                \"residual_standard_deviation\": {} }\n",
    "        \n",
    "        self._regressionModel = RegressionModel(**self._model)\n",
    "        #self._regressionModel = load_regression_model(\"strokeTypeModel\")\n",
    "        #self._logRegressionModel = StatsModelLogisticRiskFactorModel(self._regressionModel)\n",
    "        super().__init__(self._regressionModel)\n",
    "        \n",
    "    def estimate_next_risk(self, person):\n",
    "        #return self._logRegressionModel.estimate_next_risk(person)\n",
    "        return super().estimate_next_risk(person)\n",
    "    \n",
    "    def estimate_next_risk_vectorized(self, person):\n",
    "        #return self._logRegressionModel.estimate_next_risk(person)\n",
    "        return super().estimate_next_risk_vectorized(person)"
   ]
  },
  {
   "cell_type": "code",
   "execution_count": 10,
   "id": "d290f795-68e9-4a3e-adae-b1cd76822d0a",
   "metadata": {},
   "outputs": [],
   "source": [
    "class strokeTypeModelRepository(strokeTypeIschemicModel):\n",
    "    \n",
    "    def __init__(self):\n",
    "        super().__init__()\n",
    "    \n",
    "    def get_stroke_type(self, person):\n",
    "        return StrokeType.ISCHEMIC if (super().estimate_next_risk(person)>0.5) else StrokeType.ICH\n",
    "    \n",
    "    def get_stroke_type_vectorized(self, person):\n",
    "        return StrokeType.ISCHEMIC if (super().estimate_next_risk_vectorized(person)>0.5) else StrokeType.ICH"
   ]
  },
  {
   "cell_type": "code",
   "execution_count": 11,
   "id": "dbd73f0f-cce5-47f1-a5bf-7e998c5ff0ed",
   "metadata": {},
   "outputs": [
    {
     "data": {
      "text/plain": [
       "(<StrokeType.ISCHEMIC: 'ischemic'>, <StrokeType.ISCHEMIC: 'ischemic'>)"
      ]
     },
     "execution_count": 11,
     "metadata": {},
     "output_type": "execute_result"
    }
   ],
   "source": [
    "(strokeTypeModelRepository().get_stroke_type(test_case_one),\n",
    "strokeTypeModelRepository().get_stroke_type_vectorized(test_case_one_df.iloc[0]))"
   ]
  },
  {
   "cell_type": "code",
   "execution_count": 12,
   "id": "95d2091d-2dd1-4b56-8166-2634d31c2ccd",
   "metadata": {},
   "outputs": [],
   "source": [
    "class strokeSubtypeCEModel(StatsModelLogisticRiskFactorModel):\n",
    "    def __init__(self):\n",
    "        \n",
    "        #cardioembolic\n",
    "        self._model = {\"coefficients\": {\n",
    "           \"Intercept\":          -3.13182975,  #_cons + aric + glucose_sim * (-46.7)\n",
    "           \"age\":                 0.0499947,   #stroke_age\n",
    "           \"gender[T.2]\":        -0.3813221,   #female0_sim\n",
    "           \"gender[T.1]\":         0.,\n",
    "           \"education[T.1]\":     -0.0143641,   #educ0_sim * 1, 1=not a HS graduate\n",
    "           \"education[T.2]\":     -0.0143641,   #educ0_sim * 1, 1=not a HS graduate\n",
    "           \"education[T.3]\":     -0.0287282,   #educ0_sim * 2, 2=HS graduate\n",
    "           \"education[T.4]\":     -0.0430923,   #educ0_sim * 3, 3=some college\n",
    "           \"education[T.5]\":     -0.0574564,   #educ0_sim * 4, 4=college graduate\n",
    "           \"smokingStatus[T.2]\":  0.0464248,   #currsmoker_sim\n",
    "           \"anyPhysicalActivity\": 0.171529,    #physact_sim\n",
    "           \"afib\":                1.858444,    #hxafib_sim     \n",
    "           \"current_bp_treatment\":0.1267211,   #htntx_sim\n",
    "           \"statin\":              0.0405856,   #choltx_sim\n",
    "           \"sbp\":                 0.0044229,   #sbpstkcog_sim\n",
    "           \"dbp\":                -0.0211307,   #dbpstkcog_sim \n",
    "           \"hdl\":                 0.0076896,   #cholhdl_sim\n",
    "           \"totChol\":            -0.0033463,   #choltot_sim\n",
    "           \"bmi\":                 0.0421033,   #bmi_sim\n",
    "           \"alcoholPerWeek\":     -0.00259902,  #alcperwk_sim * 0.6\n",
    "           \"ldl\":                -0.0031348,   #cholldl_sim\n",
    "           \"trig\":               -0.0000179,   #trig_sim \n",
    "           \"a1c\":                -0.11501525,  #glucose_sim * 28.7\n",
    "           \"waist\":               0.0011406,   #waistcm_sim\n",
    "           \"creatinine\":         -0.1197203    #creatin_sim\n",
    "           },\n",
    "               \"coefficient_standard_errors\": {} ,\n",
    "               \"residual_mean\": {},\n",
    "               \"residual_standard_deviation\": {} }\n",
    "        \n",
    "        self._regressionModel = RegressionModel(**self._model)\n",
    "        #self._regressionModel = load_regression_model(\"strokeSubtypeCEModel\")\n",
    "        #self._logRegressionModel = StatsModelLogisticRiskFactorModel(self._regressionModel)\n",
    "        super().__init__(self._regressionModel)\n",
    "\n",
    "    def estimate_next_risk(self, person):\n",
    "        #return self._logRegressionModel.estimate_next_risk(person)\n",
    "        return super().estimate_next_risk(person)\n",
    "    \n",
    "    def estimate_next_risk_vectorized(self, person):\n",
    "        #return self._logRegressionModel.estimate_next_risk(person)\n",
    "        return super().estimate_next_risk_vectorized(person)"
   ]
  },
  {
   "cell_type": "code",
   "execution_count": 13,
   "id": "75937ed3-685d-445b-b639-633d16d7772e",
   "metadata": {},
   "outputs": [],
   "source": [
    "class strokeSubtypeLVModel(StatsModelLogisticRiskFactorModel):\n",
    "    def __init__(self):\n",
    "        \n",
    "        #LA_atherosclerosis\n",
    "        self._model = {\"coefficients\": {\n",
    "            \"Intercept\":          -2.14462214,  #_cons + aric + glucose_sim * (-46.7)\n",
    "            \"age\":                 0.00203,     #stroke_age\n",
    "            \"gender[T.2]\":        -0.3026703,   #female0_sim\n",
    "            \"gender[T.1]\":         0.,\n",
    "            \"education[T.1]\":      0.0204964,   #educ0_sim * 1, 1=not a HS graduate\n",
    "            \"education[T.2]\":      0.0204964,   #educ0_sim * 1, 1=not a HS graduate\n",
    "            \"education[T.3]\":      0.0409928,   #educ0_sim * 2, 2=HS graduate\n",
    "            \"education[T.4]\":      0.0614892,   #educ0_sim * 3, 3=some college\n",
    "            \"education[T.5]\":      0.0819856,   #educ0_sim * 4, 4=college graduate\n",
    "            \"smokingStatus[T.2]\": -0.4087069,   #currsmoker_sim\n",
    "            \"anyPhysicalActivity\": 0.3283082,   #physact_sim\n",
    "            \"afib\":                0.7040827,   #hxafib_sim     \n",
    "            \"current_bp_treatment\":0.1878509,   #htntx_sim\n",
    "            \"statin\":              0.1681594,   #choltx_sim\n",
    "            \"sbp\":                 0.0105225,   #sbpstkcog_sim\n",
    "            \"dbp\":                -0.0154197,   #dbpstkcog_sim \n",
    "            \"hdl\":                -0.0253099 ,  #cholhdl_sim\n",
    "            \"totChol\":             0.01298,     #choltot_sim\n",
    "            \"bmi\":                -0.0042248,   #bmi_sim\n",
    "            \"alcoholPerWeek\":      0.03367986,  #alcperwk_sim * 0.6\n",
    "            \"ldl\":                -0.009429,    #cholldl_sim\n",
    "            \"trig\":               -0.0005325,   #trig_sim \n",
    "            \"a1c\":                -0.04051866,  #glucose_sim * 28.7\n",
    "            \"waist\":               0.0017584,   #waistcm_sim\n",
    "            \"creatinine\":         -0.6562215    #creatin_sim\n",
    "            },\n",
    "                \"coefficient_standard_errors\": {} ,\n",
    "                \"residual_mean\": {},\n",
    "                \"residual_standard_deviation\": {} }     \n",
    "\n",
    "        self._regressionModel = RegressionModel(**self._model)\n",
    "        #self._regressionModel = load_regression_model(\"strokeSubtypeLVModel\")\n",
    "        #self._logRegressionModel = StatsModelLogisticRiskFactorModel(self._regressionModel)\n",
    "        super().__init__(self._regressionModel)\n",
    "\n",
    "    def estimate_next_risk(self, person):\n",
    "        #return self._logRegressionModel.estimate_next_risk(person)\n",
    "        return super().estimate_next_risk(person)\n",
    "    \n",
    "    def estimate_next_risk_vectorized(self, person):\n",
    "        #return self._logRegressionModel.estimate_next_risk(person)\n",
    "        return super().estimate_next_risk_vectorized(person)"
   ]
  },
  {
   "cell_type": "code",
   "execution_count": 14,
   "id": "e287c973-e2a8-4f0d-ba3c-a7288e5b1717",
   "metadata": {},
   "outputs": [],
   "source": [
    "class strokeSubtypeSVModel(StatsModelLogisticRiskFactorModel):\n",
    "    def __init__(self):\n",
    "        \n",
    "        #SV_occlusion\n",
    "        self._model = {\"coefficients\": {\n",
    "            \"Intercept\":            0.17084136,  #_cons + aric + glucose_sim * (-46.7)\n",
    "            \"age\":                 -0.008983,    #stroke_age\n",
    "            \"gender[T.2]\":          0.1107677,   #female0_sim\n",
    "            \"gender[T.1]\":          0.,\n",
    "            \"education[T.1]\":      -0.0357296,   #educ0_sim*1, 1=not a HS graduate\n",
    "            \"education[T.2]\":      -0.0357296,   #educ0_sim*1, 1=not a HS graduate\n",
    "            \"education[T.3]\":      -0.0714592,   #educ0_sim*2, 2=HS graduate\n",
    "            \"education[T.4]\":      -0.1071888,   #educ0_sim*3, 3=some college\n",
    "            \"education[T.5]\":      -0.1429184,   #educ0_sim*4, 4=college graduate\n",
    "            \"smokingStatus[T.2]\":   0.0207556,   #currsmoker_sim\n",
    "            \"anyPhysicalActivity\":  0.1915707,   #physact_sim\n",
    "            \"afib\":                -0.0698982,   #hxafib_sim     \n",
    "            \"current_bp_treatment\":-0.0168805,   #htntx_sim\n",
    "            \"statin\":              -0.4778607,   #choltx_sim\n",
    "            \"sbp\":                  0.0101797,   #sbpstkcog_sim\n",
    "            \"dbp\":                 -0.0110669,   #dbpstkcog_sim \n",
    "            \"hdl\":                 -0.032421,    #cholhdl_sim\n",
    "            \"totChol\":              0.0257892,   #choltot_sim\n",
    "            \"bmi\":                 -0.0029924,   #bmi_sim\n",
    "            \"alcoholPerWeek\":       0.0877935,   #alcperwk_sim * 0.6\n",
    "            \"ldl\":                 -0.0302675,   #cholldl_sim\n",
    "            \"trig\":                -0.0058004,   #trig_sim \n",
    "            \"a1c\":                 -0.00062566,  #glucose_sim * 28.7\n",
    "            \"waist\":                0.0118192,   #waistcm_sim\n",
    "            \"creatinine\":          -0.5225816    #creatin_sim\n",
    "            },\n",
    "                \"coefficient_standard_errors\": {} ,\n",
    "                \"residual_mean\": {},\n",
    "                \"residual_standard_deviation\": {} }\n",
    "        \n",
    "        self._regressionModel = RegressionModel(**self._model)\n",
    "        #self._regressionModel = load_regression_model(\"strokeSubtypeSVModel\")\n",
    "        #self._logRegressionModel = StatsModelLogisticRiskFactorModel(self._regressionModel)\n",
    "        super().__init__(self._regressionModel)\n",
    "\n",
    "    def estimate_next_risk(self, person):\n",
    "        #return self._logRegressionModel.estimate_next_risk(person)\n",
    "        return super().estimate_next_risk(person)\n",
    "    \n",
    "    def estimate_next_risk_vectorized(self, person):\n",
    "        #return self._logRegressionModel.estimate_next_risk(person)\n",
    "        return super().estimate_next_risk_vectorized(person)"
   ]
  },
  {
   "cell_type": "code",
   "execution_count": 15,
   "id": "0caa1c35-06a8-4bb9-9e7f-2db8eb52a45b",
   "metadata": {},
   "outputs": [],
   "source": [
    "class strokeSubtypeModelRepository:\n",
    "    \n",
    "    def __init__(self):\n",
    "        pass\n",
    "    \n",
    "    def get_stroke_subtype(self, person):\n",
    "        \n",
    "        ceRisk = strokeSubtypeCEModel().estimate_next_risk(person)\n",
    "        lvRisk = strokeSubtypeLVModel().estimate_next_risk(person)\n",
    "        svRisk = strokeSubtypeSVModel().estimate_next_risk(person)\n",
    "        \n",
    "        subtypeRisks = {StrokeSubtype.CARDIOEMBOLIC: ceRisk,\n",
    "                        StrokeSubtype.LARGE_VESSEL: lvRisk,\n",
    "                        StrokeSubtype.SMALL_VESSEL: svRisk}\n",
    "        \n",
    "        #returns stroke subtype with max risk, first occurence if there is a tie\n",
    "        return max(subtypeRisks, key=subtypeRisks.get)  \n",
    "    \n",
    "    def get_stroke_subtype_vectorized(self, person):\n",
    "        \n",
    "        ceRisk = strokeSubtypeCEModel().estimate_next_risk_vectorized(person)\n",
    "        lvRisk = strokeSubtypeLVModel().estimate_next_risk_vectorized(person)\n",
    "        svRisk = strokeSubtypeSVModel().estimate_next_risk_vectorized(person)\n",
    "        \n",
    "        subtypeRisks = {StrokeSubtype.CARDIOEMBOLIC: ceRisk,\n",
    "                        StrokeSubtype.LARGE_VESSEL: lvRisk,\n",
    "                        StrokeSubtype.SMALL_VESSEL: svRisk}\n",
    "        \n",
    "        #returns stroke subtype with max risk, first occurence if there is a tie\n",
    "        return max(subtypeRisks, key=subtypeRisks.get) "
   ]
  },
  {
   "cell_type": "code",
   "execution_count": 16,
   "id": "98f9e5d3-8ad5-49ed-8301-7065e66e44b4",
   "metadata": {},
   "outputs": [
    {
     "data": {
      "text/plain": [
       "(<StrokeSubtype.SMALL_VESSEL: 'smallVessel'>,\n",
       " <StrokeSubtype.SMALL_VESSEL: 'smallVessel'>)"
      ]
     },
     "execution_count": 16,
     "metadata": {},
     "output_type": "execute_result"
    }
   ],
   "source": [
    "(strokeSubtypeModelRepository().get_stroke_subtype(test_case_one),\n",
    "strokeSubtypeModelRepository().get_stroke_subtype_vectorized(test_case_one_df.iloc[0]))"
   ]
  },
  {
   "cell_type": "code",
   "execution_count": 17,
   "id": "1294f1f9-6175-4a7d-923e-ebc3d74b6a9e",
   "metadata": {},
   "outputs": [],
   "source": [
    "#NIHSS\n",
    "class strokeNihssModel(StatsModelLinearRiskFactorModel):\n",
    "    def __init__(self):\n",
    "        \n",
    "        self._model = {\"coefficients\": {\n",
    "            \"Intercept\":           -2.6063356,   #_cons + aric + glucose_sim * (-46.7)\n",
    "            \"age\":                  0.0771289,   #stroke_age\n",
    "            \"gender[T.2]\":          0.0512374,   #female0_sim\n",
    "            \"gender[T.1]\":          0.,\n",
    "            \"education[T.1]\":       0.1658821,   #educ0_sim*1, 1=not a HS graduate\n",
    "            \"education[T.2]\":       0.1658821,   #educ0_sim*1, 1=not a HS graduate\n",
    "            \"education[T.3]\":       0.3317642,   #educ0_sim*2, 2=HS graduate\n",
    "            \"education[T.4]\":       0.4976463,   #educ0_sim*3, 3=some college\n",
    "            \"education[T.5]\":       0.6635284,   #educ0_sim*4, 4=college graduate\n",
    "            \"smokingStatus[T.2]\":  -0.1257199 ,  #currsmoker_sim\n",
    "            \"anyPhysicalActivity\": -0.3476088,   #physact_sim\n",
    "            \"afib\":                 1.794008,    #hxafib_sim     \n",
    "            \"current_bp_treatment\": 0.6804093,   #htntx_sim\n",
    "            \"statin\":              -0.1660485,   #choltx_sim\n",
    "            \"sbp\":                  0.0131255 ,  #sbpstkcog_sim\n",
    "            \"dbp\":                 -0.0144218,   #dbpstkcog_sim \n",
    "            \"hdl\":                 -0.2642685 ,  #cholhdl_sim\n",
    "            \"totChol\":              0.2577162,   #choltot_sim\n",
    "            \"bmi\":                 -0.0197889,   #bmi_sim\n",
    "            \"alcoholPerWeek\":      -0.26697522,  #alcperwk_sim * 0.6\n",
    "            \"ldl\":                 -0.2564912,   #cholldl_sim\n",
    "            \"trig\":                -0.0556979,   #trig_sim \n",
    "            \"a1c\":                  0.2374925,   #glucose_sim * 28.7\n",
    "            \"waist\":               -0.002543 ,   #waistcm_sim\n",
    "            \"creatinine\":           0.2782118    #creatin_sim\n",
    "            },\n",
    "                \"coefficient_standard_errors\": {} ,\n",
    "                \"residual_mean\": {},\n",
    "                \"residual_standard_deviation\": {} }\n",
    "        \n",
    "        self._regressionModel = RegressionModel(**self._model)\n",
    "        #self._regressionModel = load_regression_model(\"strokeTypeModel\")\n",
    "        #self._logRegressionModel = StatsModelLogisticRiskFactorModel(self._regressionModel)\n",
    "        super().__init__(self._regressionModel)\n",
    "        \n",
    "    def estimate_next_risk(self, person):\n",
    "        #return self._logRegressionModel.estimate_next_risk(person)\n",
    "        return super().estimate_next_risk(person)\n",
    "    \n",
    "    def estimate_next_risk_vectorized(self, person):\n",
    "        return super().estimate_next_risk_vectorized(person)"
   ]
  },
  {
   "cell_type": "code",
   "execution_count": 18,
   "id": "b2bb475e-3c2b-4aa6-b4aa-bb2aae82a121",
   "metadata": {},
   "outputs": [
    {
     "data": {
      "text/plain": [
       "(34.75771830066993, 34.75771830066993)"
      ]
     },
     "execution_count": 18,
     "metadata": {},
     "output_type": "execute_result"
    }
   ],
   "source": [
    "(strokeNihssModel().estimate_next_risk(test_case_one),\n",
    " strokeNihssModel().estimate_next_risk_vectorized(test_case_one_df.iloc[0]))"
   ]
  },
  {
   "cell_type": "code",
   "execution_count": 19,
   "id": "1e2c831e-d5d1-4dde-8b5a-dc2b5495acc3",
   "metadata": {},
   "outputs": [],
   "source": [
    "#in the next class I started implementing all models in a single class but I found that to make the class\n",
    "#too complex and decided to break things in separate classes (see above)"
   ]
  },
  {
   "cell_type": "code",
   "execution_count": 20,
   "id": "33a4080e-bb69-43da-9d44-5c89d3e50d8f",
   "metadata": {},
   "outputs": [],
   "source": [
    "class strokeSubtypeModel:\n",
    "    def __init__(self):\n",
    "        \n",
    "        #cardioembolic\n",
    "        self._modelCE = {\"coefficients\": {\n",
    "           \"Intercept\":          -3.13182975,  #_cons + aric + glucose_sim * (-46.7)\n",
    "           \"age\":                 0.0499947,   #stroke_age\n",
    "           \"gender[T.2]\":        -0.3813221,   #female0_sim\n",
    "           \"gender[T.1]\":         0.,\n",
    "           \"education[T.1]\":     -0.0143641,   #educ0_sim * 1, 1=not a HS graduate\n",
    "           \"education[T.2]\":     -0.0143641,   #educ0_sim * 1, 1=not a HS graduate\n",
    "           \"education[T.3]\":     -0.0287282,   #educ0_sim * 2, 2=HS graduate\n",
    "           \"education[T.4]\":     -0.0430923,   #educ0_sim * 3, 3=some college\n",
    "           \"education[T.5]\":     -0.0574564,   #educ0_sim * 4, 4=college graduate\n",
    "           \"smokingStatus[T.2]\":  0.0464248,   #currsmoker_sim\n",
    "           \"anyPhysicalActivity\": 0.171529,    #physact_sim\n",
    "           \"afib\":                1.858444,    #hxafib_sim     \n",
    "           \"current_bp_treatment\":0.1267211,   #htntx_sim\n",
    "           \"statin\":              0.0405856,   #choltx_sim\n",
    "           \"sbp\":                 0.0044229,   #sbpstkcog_sim\n",
    "           \"dbp\":                -0.0211307,   #dbpstkcog_sim \n",
    "           \"hdl\":                 0.0076896,   #cholhdl_sim\n",
    "           \"totChol\":            -0.0033463,   #choltot_sim\n",
    "           \"bmi\":                 0.0421033,   #bmi_sim\n",
    "           \"alcoholPerWeek\":     -0.00259902,  #alcperwk_sim * 0.6\n",
    "           \"ldl\":                -0.0031348,   #cholldl_sim\n",
    "           \"trig\":               -0.0000179,   #trig_sim \n",
    "           \"a1c\":                -0.11501525,  #glucose_sim * 28.7\n",
    "           \"waist\":               0.0011406,   #waistcm_sim\n",
    "           \"creatinine\":         -0.1197203    #creatin_sim\n",
    "           },\n",
    "               \"coefficient_standard_errors\": {} ,\n",
    "               \"residual_mean\": {},\n",
    "               \"residual_standard_deviation\": {} }\n",
    "\n",
    "        #LA_atherosclerosis\n",
    "        self._modelLV = {\"coefficients\": {\n",
    "            \"Intercept\":          -2.14462214,  #_cons + aric + glucose_sim * (-46.7)\n",
    "            \"age\":                 0.00203,     #stroke_age\n",
    "            \"gender[T.2]\":        -0.3026703,   #female0_sim\n",
    "            \"gender[T.1]\":         0.,\n",
    "            \"education[T.1]\":      0.0204964,   #educ0_sim * 1, 1=not a HS graduate\n",
    "            \"education[T.2]\":      0.0204964,   #educ0_sim * 1, 1=not a HS graduate\n",
    "            \"education[T.3]\":      0.0409928,   #educ0_sim * 2, 2=HS graduate\n",
    "            \"education[T.4]\":      0.0614892,   #educ0_sim * 3, 3=some college\n",
    "            \"education[T.5]\":      0.0819856,   #educ0_sim * 4, 4=college graduate\n",
    "            \"smokingStatus[T.2]\": -0.4087069,   #currsmoker_sim\n",
    "            \"anyPhysicalActivity\": 0.3283082,   #physact_sim\n",
    "            \"afib\":                0.7040827,   #hxafib_sim     \n",
    "            \"current_bp_treatment\":0.1878509,   #htntx_sim\n",
    "            \"statin\":              0.1681594,   #choltx_sim\n",
    "            \"sbp\":                 0.0105225,   #sbpstkcog_sim\n",
    "            \"dbp\":                -0.0154197,   #dbpstkcog_sim \n",
    "            \"hdl\":                -0.0253099 ,  #cholhdl_sim\n",
    "            \"totChol\":             0.01298,     #choltot_sim\n",
    "            \"bmi\":                -0.0042248,   #bmi_sim\n",
    "            \"alcoholPerWeek\":      0.03367986,  #alcperwk_sim * 0.6\n",
    "            \"ldl\":                -0.009429,    #cholldl_sim\n",
    "            \"trig\":               -0.0005325,   #trig_sim \n",
    "            \"a1c\":                -0.04051866,  #glucose_sim * 28.7\n",
    "            \"waist\":               0.0017584,   #waistcm_sim\n",
    "            \"creatinine\":         -0.6562215    #creatin_sim\n",
    "            },\n",
    "                \"coefficient_standard_errors\": {} ,\n",
    "                \"residual_mean\": {},\n",
    "                \"residual_standard_deviation\": {} }\n",
    "\n",
    "        #SV_occlusion\n",
    "        self._modelSV = {\"coefficients\": {\n",
    "            \"Intercept\":            0.17084136,  #_cons + aric + glucose_sim * (-46.7)\n",
    "            \"age\":                 -0.008983,    #stroke_age\n",
    "            \"gender[T.2]\":          0.1107677,   #female0_sim\n",
    "            \"gender[T.1]\":          0.,\n",
    "            \"education[T.1]\":      -0.0357296,   #educ0_sim*1, 1=not a HS graduate\n",
    "            \"education[T.2]\":      -0.0357296,   #educ0_sim*1, 1=not a HS graduate\n",
    "            \"education[T.3]\":      -0.0714592,   #educ0_sim*2, 2=HS graduate\n",
    "            \"education[T.4]\":      -0.1071888,   #educ0_sim*3, 3=some college\n",
    "            \"education[T.5]\":      -0.1429184,   #educ0_sim*4, 4=college graduate\n",
    "            \"smokingStatus[T.2]\":   0.0207556,   #currsmoker_sim\n",
    "            \"anyPhysicalActivity\":  0.1915707,   #physact_sim\n",
    "            \"afib\":                -0.0698982,   #hxafib_sim     \n",
    "            \"current_bp_treatment\":-0.0168805,   #htntx_sim\n",
    "            \"statin\":              -0.4778607,   #choltx_sim\n",
    "            \"sbp\":                  0.0101797,   #sbpstkcog_sim\n",
    "            \"dbp\":                 -0.0110669,   #dbpstkcog_sim \n",
    "            \"hdl\":                 -0.032421,    #cholhdl_sim\n",
    "            \"totChol\":              0.0257892,   #choltot_sim\n",
    "            \"bmi\":                 -0.0029924,   #bmi_sim\n",
    "            \"alcoholPerWeek\":       0.0877935,   #alcperwk_sim * 0.6\n",
    "            \"ldl\":                 -0.0302675,   #cholldl_sim\n",
    "            \"trig\":                -0.0058004,   #trig_sim \n",
    "            \"a1c\":                 -0.00062566,  #glucose_sim * 28.7\n",
    "            \"waist\":                0.0118192,   #waistcm_sim\n",
    "            \"creatinine\":          -0.5225816    #creatin_sim\n",
    "            },\n",
    "                \"coefficient_standard_errors\": {} ,\n",
    "                \"residual_mean\": {},\n",
    "                \"residual_standard_deviation\": {} }\n",
    "        \n",
    "        self._regressionModelCE = RegressionModel(**self._modelCE)\n",
    "        self._regressionModelLV = RegressionModel(**self._modelLV)\n",
    "        self._regressionModelSV = RegressionModel(**self._modelSV)\n",
    "        \n",
    "        #self._regressionModelCE = load_regression_model(\"strokeSubtypeCEModel\")\n",
    "        #self._regressionModelLV = load_regression_model(\"strokeSubtypeLVModel\")\n",
    "        #self._regressionModelSV = load_regression_model(\"strokeSubtypeSVModel\")\n",
    "        \n",
    "        self._logRegressionModelCE = StatsModelLogisticRiskFactorModel(self._regressionModelCE)\n",
    "        self._logRegressionModelLV = StatsModelLogisticRiskFactorModel(self._regressionModelLV)\n",
    "        self._logRegressionModelSV = StatsModelLogisticRiskFactorModel(self._regressionModelSV)"
   ]
  },
  {
   "cell_type": "code",
   "execution_count": 21,
   "id": "cabb9b21-9d8c-4098-bc7d-dab3854cba59",
   "metadata": {},
   "outputs": [],
   "source": [
    "#some various tests that helped me understand how to work with the super classes...."
   ]
  },
  {
   "cell_type": "code",
   "execution_count": 22,
   "id": "cff8c3ea-68a3-4339-9062-36d66998b577",
   "metadata": {},
   "outputs": [],
   "source": [
    "strokeTypeRM = RegressionModel(**strokeType)"
   ]
  },
  {
   "cell_type": "code",
   "execution_count": 23,
   "id": "1a131f31-cdc8-49b5-afcc-c002e1658ef7",
   "metadata": {},
   "outputs": [],
   "source": [
    "strokeTypeRFM = StatsModelLinearRiskFactorModel(strokeTypeRM)"
   ]
  },
  {
   "cell_type": "code",
   "execution_count": 24,
   "id": "a6e5f5bd-5819-41c8-87b7-b57080752cf8",
   "metadata": {},
   "outputs": [],
   "source": [
    "strokeTypeLogRFM = StatsModelLogisticRiskFactorModel(strokeTypeRM)"
   ]
  },
  {
   "cell_type": "code",
   "execution_count": 25,
   "id": "9bc81182-c108-4ab3-be4f-7783fc576eb7",
   "metadata": {},
   "outputs": [
    {
     "data": {
      "text/plain": [
       "7.042740613194445"
      ]
     },
     "execution_count": 25,
     "metadata": {},
     "output_type": "execute_result"
    }
   ],
   "source": [
    "strokeTypeRFM.estimate_next_risk(test_case_one)"
   ]
  },
  {
   "cell_type": "code",
   "execution_count": 26,
   "id": "4ea07783-a1c8-4464-a9f8-af0813ea5c3f",
   "metadata": {},
   "outputs": [],
   "source": [
    "#male - female"
   ]
  },
  {
   "cell_type": "code",
   "execution_count": 27,
   "id": "0ff961d4-ff4b-4e05-abc2-365bce02ceb4",
   "metadata": {},
   "outputs": [
    {
     "data": {
      "text/plain": [
       "0.017410899999999785"
      ]
     },
     "execution_count": 27,
     "metadata": {},
     "output_type": "execute_result"
    }
   ],
   "source": [
    "7.042740613194445 - 7.025329713194445"
   ]
  },
  {
   "cell_type": "code",
   "execution_count": 28,
   "id": "8b702c41-8e3c-4966-b92c-e4805a505c1d",
   "metadata": {},
   "outputs": [],
   "source": [
    "#male - female"
   ]
  },
  {
   "cell_type": "code",
   "execution_count": 29,
   "id": "9843d08f-a03a-4ac6-b2e2-1c83507da926",
   "metadata": {},
   "outputs": [
    {
     "data": {
      "text/plain": [
       "0.017410900000004226"
      ]
     },
     "execution_count": 29,
     "metadata": {},
     "output_type": "execute_result"
    }
   ],
   "source": [
    "7.060151513194445 -   7.04274061319444"
   ]
  },
  {
   "cell_type": "code",
   "execution_count": 30,
   "id": "0161dc2f-4d8b-4645-9cfe-71e9aa65a089",
   "metadata": {},
   "outputs": [
    {
     "name": "stdout",
     "output_type": "stream",
     "text": [
      "age 0.012586\n",
      "gender[T.2] -0.0174109\n",
      "gender[T.1] 0\n",
      "education[T.1] 0.0211369\n",
      "education[T.2] 0.0211369\n",
      "education[T.3] 0.0422738\n",
      "education[T.4] 0.0634107\n",
      "education[T.5] 0.0845476\n",
      "smokingStatus[T.2] 0.0658974\n",
      "anyPhysicalActivity 0.0501468\n",
      "afib -0.0615242\n",
      "current_bp_treatment 0.4574039\n",
      "statin -0.1934335\n",
      "sbp -0.0045951\n",
      "dbp 0.0039562\n",
      "hdl -0.0425458\n",
      "totChol 0.0380974\n",
      "bmi -0.0067788\n",
      "alcoholPerWeek -0.07774356\n",
      "ldl -0.0386822\n",
      "trig -0.0070134\n",
      "a1c 0.10999562\n",
      "waist 0.0038266\n",
      "creatinine -0.0641744\n"
     ]
    }
   ],
   "source": [
    "for coeff_name, coeff_val in strokeTypeRFM.non_intercept_params.items():\n",
    "    print(coeff_name, coeff_val)"
   ]
  },
  {
   "cell_type": "code",
   "execution_count": 31,
   "id": "1b09edac-0a24-4ac4-9b27-dd2eaa0ba8db",
   "metadata": {},
   "outputs": [
    {
     "data": {
      "text/plain": [
       "False"
      ]
     },
     "execution_count": 31,
     "metadata": {},
     "output_type": "execute_result"
    }
   ],
   "source": [
    "strokeTypeRFM.get_model_argument_for_coeff_name(\"afib\", test_case_one)"
   ]
  },
  {
   "cell_type": "code",
   "execution_count": 32,
   "id": "31e3baf5-ac7e-4bed-a1b0-2b33c5577a7f",
   "metadata": {},
   "outputs": [
    {
     "data": {
      "text/plain": [
       "0"
      ]
     },
     "execution_count": 32,
     "metadata": {},
     "output_type": "execute_result"
    }
   ],
   "source": [
    "strokeTypeRFM.get_model_argument_for_coeff_name(\"gender[T.1]\", test_case_one)"
   ]
  },
  {
   "cell_type": "code",
   "execution_count": 33,
   "id": "60c5066e-611f-47cd-ba15-2278943d3499",
   "metadata": {},
   "outputs": [
    {
     "data": {
      "text/plain": [
       "True"
      ]
     },
     "execution_count": 33,
     "metadata": {},
     "output_type": "execute_result"
    }
   ],
   "source": [
    "test_case_one._current_bp_treatment"
   ]
  },
  {
   "cell_type": "code",
   "execution_count": 34,
   "id": "29f3f17e-c1a4-46d1-8ca4-9c1056eda077",
   "metadata": {},
   "outputs": [
    {
     "data": {
      "text/plain": [
       "True"
      ]
     },
     "execution_count": 34,
     "metadata": {},
     "output_type": "execute_result"
    }
   ],
   "source": [
    "testBoolean = strokeTypeRFM.get_model_argument_for_coeff_name(\"current_bp_treatment\", test_case_one)\n",
    "testBoolean"
   ]
  },
  {
   "cell_type": "code",
   "execution_count": 35,
   "id": "acc8310a-3040-4ce3-8fc5-dcdf951a6b40",
   "metadata": {},
   "outputs": [
    {
     "data": {
      "text/plain": [
       "5"
      ]
     },
     "execution_count": 35,
     "metadata": {},
     "output_type": "execute_result"
    }
   ],
   "source": [
    "testBoolean *5"
   ]
  },
  {
   "cell_type": "code",
   "execution_count": 36,
   "id": "203084f3-f2c9-42fd-b88f-4eb7acd5ddec",
   "metadata": {},
   "outputs": [
    {
     "data": {
      "text/plain": [
       "0"
      ]
     },
     "execution_count": 36,
     "metadata": {},
     "output_type": "execute_result"
    }
   ],
   "source": [
    "False * 5"
   ]
  },
  {
   "cell_type": "code",
   "execution_count": 37,
   "id": "e7dd82a3-0337-4aef-ad4f-0e870ee6a2fd",
   "metadata": {},
   "outputs": [
    {
     "data": {
      "text/plain": [
       "0.9991270340099478"
      ]
     },
     "execution_count": 37,
     "metadata": {},
     "output_type": "execute_result"
    }
   ],
   "source": [
    "strokeTypeLogRFM.estimate_next_risk(test_case_one)"
   ]
  },
  {
   "cell_type": "code",
   "execution_count": null,
   "id": "322679c3-ec95-4a78-8664-c36a33e5dc1b",
   "metadata": {},
   "outputs": [],
   "source": []
  }
 ],
 "metadata": {
  "kernelspec": {
   "display_name": "microsimKernel",
   "language": "python",
   "name": "microsimkernel"
  },
  "language_info": {
   "codemirror_mode": {
    "name": "ipython",
    "version": 3
   },
   "file_extension": ".py",
   "mimetype": "text/x-python",
   "name": "python",
   "nbconvert_exporter": "python",
   "pygments_lexer": "ipython3",
   "version": "3.9.13"
  }
 },
 "nbformat": 4,
 "nbformat_minor": 5
}
