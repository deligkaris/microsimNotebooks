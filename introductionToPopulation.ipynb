{
 "cells": [
  {
   "cell_type": "markdown",
   "id": "996232a8-62a5-4d60-9d39-7cbc4dfab23f",
   "metadata": {},
   "source": [
    "# Introduction to Microsim: Population Factory and Population"
   ]
  },
  {
   "cell_type": "code",
   "execution_count": 1,
   "id": "16c3ee61-b331-4177-8dd7-862d26622e6d",
   "metadata": {},
   "outputs": [],
   "source": [
    "import os\n",
    "\n",
    "microsimDir = \"/Users/deligkaris.1/OneDrive - The Ohio State University Wexner Medical Center/MICROSIM/CODE/microsim\"\n",
    "os.chdir(microsimDir)"
   ]
  },
  {
   "cell_type": "markdown",
   "id": "d11f4bea-ba97-45aa-aa16-957cbbb02431",
   "metadata": {},
   "source": [
    "## Population Factory"
   ]
  },
  {
   "cell_type": "markdown",
   "id": "95f83ae9-1291-4a61-9299-6b2f4de526a6",
   "metadata": {},
   "source": [
    "The Population Factory helps us in obtaining easily a Population. Creating a population requires two major parts and each one includes several subparts. The population factory allows us to easily create our population. In this section, I will go over the two major parts of a Microsim Population Object. The NHANES Population will be used as an example but this should work in a similar way for any other population type.\n",
    "\n",
    "When we use the Population Factory we can check that the object we get is indeed a Microsim Population."
   ]
  },
  {
   "cell_type": "code",
   "execution_count": 10,
   "id": "ad521808-3917-42c6-a62c-2e8e02303205",
   "metadata": {},
   "outputs": [
    {
     "data": {
      "text/plain": [
       "microsim.population.Population"
      ]
     },
     "execution_count": 10,
     "metadata": {},
     "output_type": "execute_result"
    }
   ],
   "source": [
    "from microsim.population_factory import PopulationFactory\n",
    "\n",
    "pop = PopulationFactory.get_nhanes_population(n=10, year=2017, nhanesWeights=True)\n",
    "\n",
    "type(pop)"
   ]
  },
  {
   "cell_type": "markdown",
   "id": "cb6937e7-bccc-4e36-b2be-b58eca6d9f85",
   "metadata": {},
   "source": [
    "In summary, the Population Factory prepares all the person objects that will be part of the people and initializes all the models the population needs to know. "
   ]
  },
  {
   "cell_type": "markdown",
   "id": "71045296-6a72-4d11-b736-846c04a0e777",
   "metadata": {},
   "source": [
    "## Population"
   ]
  },
  {
   "cell_type": "markdown",
   "id": "c1a0eb2d-be87-49b2-be58-8cd48232af1f",
   "metadata": {},
   "source": [
    "A population object, as a person object, can be thought of consisted of three things: its state, its functions and its models. We will start with its state. "
   ]
  },
  {
   "cell_type": "markdown",
   "id": "39191a1f-e06a-4ed2-99f5-3ff946522256",
   "metadata": {},
   "source": [
    "### State"
   ]
  },
  {
   "cell_type": "markdown",
   "id": "0cec1e89-7a19-493b-9f88-c14d2d63fc53",
   "metadata": {},
   "source": [
    "The state of the population is determined by the state of its people."
   ]
  },
  {
   "cell_type": "code",
   "execution_count": 12,
   "id": "c4ada4bc-04d9-48c4-8bea-4d1246029a7e",
   "metadata": {},
   "outputs": [
    {
     "data": {
      "text/plain": [
       "55482    Person(name = 55482 index = 0  raceEthnicity=4...\n",
       "53505    Person(name = 53505 index = 1  raceEthnicity=5...\n",
       "55183    Person(name = 55183 index = 2  raceEthnicity=3...\n",
       "53518    Person(name = 53518 index = 3  raceEthnicity=3...\n",
       "53973    Person(name = 53973 index = 4  raceEthnicity=3...\n",
       "55394    Person(name = 55394 index = 5  raceEthnicity=3...\n",
       "56697    Person(name = 56697 index = 6  raceEthnicity=3...\n",
       "55714    Person(name = 55714 index = 7  raceEthnicity=3...\n",
       "54207    Person(name = 54207 index = 8  raceEthnicity=3...\n",
       "56143    Person(name = 56143 index = 9  raceEthnicity=1...\n",
       "dtype: object"
      ]
     },
     "execution_count": 12,
     "metadata": {},
     "output_type": "execute_result"
    }
   ],
   "source": [
    "pop._people"
   ]
  },
  {
   "cell_type": "markdown",
   "id": "fdca6e2a-0345-49b9-aa8f-1af0d9863f5f",
   "metadata": {},
   "source": [
    "The people is a Pandas Series object. Pandas Series objects are 1-dimensional objects, a single index is used to access the elements.\n",
    "In this case, one element of the people is a Microsim Person."
   ]
  },
  {
   "cell_type": "code",
   "execution_count": 15,
   "id": "f83da0a4-2c57-4422-ab3e-fe0daf9aab0a",
   "metadata": {},
   "outputs": [
    {
     "data": {
      "text/plain": [
       "pandas.core.series.Series"
      ]
     },
     "execution_count": 15,
     "metadata": {},
     "output_type": "execute_result"
    }
   ],
   "source": [
    "type(pop._people)"
   ]
  },
  {
   "cell_type": "markdown",
   "id": "465e8dff-b361-4cac-9718-b196df942204",
   "metadata": {},
   "source": [
    "We can get each person by using the Series index. Index 0 will get us the first of the 10 people."
   ]
  },
  {
   "cell_type": "code",
   "execution_count": 17,
   "id": "b80c3b24-c06f-41f5-bfd8-eaf770f43aa6",
   "metadata": {},
   "outputs": [
    {
     "data": {
      "text/plain": [
       "Person(name = 55482 index = 0  raceEthnicity=4 education=5 gender=2 smokingStatus=0 modality=ct age=51.0 sbp=118.7 dbp=88.7 a1c=5.3 hdl=64.0 ldl=115.0 trig=28.0 totChol=178.0 bmi=19.9 anyPhysicalActivity=1.0 waist=72.9 alcoholPerWeek=2.0 creatinine=0.6 afib=0.0 pvd=0.0 statin=False antiHypertensiveCount=0.0)"
      ]
     },
     "execution_count": 17,
     "metadata": {},
     "output_type": "execute_result"
    }
   ],
   "source": [
    "person = pop._people.iloc[0]\n",
    "person"
   ]
  },
  {
   "cell_type": "markdown",
   "id": "01694367-3d89-4be8-bfa0-314c5816982c",
   "metadata": {},
   "source": [
    "We can verify that the first element of the people Series is indeed a Microsim Person."
   ]
  },
  {
   "cell_type": "code",
   "execution_count": 18,
   "id": "638609e3-97b4-45b7-b2a9-9e234f39f134",
   "metadata": {},
   "outputs": [
    {
     "data": {
      "text/plain": [
       "microsim.person.Person"
      ]
     },
     "execution_count": 18,
     "metadata": {},
     "output_type": "execute_result"
    }
   ],
   "source": [
    "type(person)"
   ]
  },
  {
   "cell_type": "markdown",
   "id": "c55f8ffa-8b70-48c4-97ec-d7c55bac2ce5",
   "metadata": {},
   "source": [
    "Each one of the 10 person objects is independent from each other. Because though all 10 came by sampling with replacement from the NHANES dataset for that year, there is always a chance that two Microsim Person objects will have originated from the same NHANES data frame row. When that is the case, the name of the two persons will be the same. Our person has a name of 55482 and if we come across another person with the same name then that means they were created based on the same NHANES data frame row."
   ]
  },
  {
   "cell_type": "code",
   "execution_count": 19,
   "id": "3de75915-4069-45a9-95ab-deb21b435ea3",
   "metadata": {},
   "outputs": [
    {
     "data": {
      "text/plain": [
       "55482"
      ]
     },
     "execution_count": 19,
     "metadata": {},
     "output_type": "execute_result"
    }
   ],
   "source": [
    "person._name"
   ]
  },
  {
   "cell_type": "markdown",
   "id": "281a506b-7d26-4d2f-81cf-04e535d28f2b",
   "metadata": {},
   "source": [
    "The person index however is unique to each person of the population. There should not be another person with index 0."
   ]
  },
  {
   "cell_type": "code",
   "execution_count": 20,
   "id": "fca46775-aed4-4725-b4f3-1a245c16d792",
   "metadata": {},
   "outputs": [
    {
     "data": {
      "text/plain": [
       "0"
      ]
     },
     "execution_count": 20,
     "metadata": {},
     "output_type": "execute_result"
    }
   ],
   "source": [
    "person._index"
   ]
  },
  {
   "cell_type": "markdown",
   "id": "cfca353e-19fc-45cb-8b72-32b4f5bdd5fb",
   "metadata": {},
   "source": [
    "A Microsim Person that is part of a population is similar to what we explored in the Person notebook. For example, our person has an age list with a single element because have just created the population."
   ]
  },
  {
   "cell_type": "code",
   "execution_count": 21,
   "id": "ce3096ec-64a4-4118-a2b3-ed8d92fe358c",
   "metadata": {},
   "outputs": [
    {
     "data": {
      "text/plain": [
       "[51.0]"
      ]
     },
     "execution_count": 21,
     "metadata": {},
     "output_type": "execute_result"
    }
   ],
   "source": [
    "person._age"
   ]
  },
  {
   "cell_type": "markdown",
   "id": "e1c67f71-3a05-4428-ad7d-6928e886e3af",
   "metadata": {},
   "source": [
    "### Models"
   ]
  },
  {
   "cell_type": "markdown",
   "id": "2e55759e-590b-4334-bfe7-f9d9e341791e",
   "metadata": {},
   "source": [
    "All models of a population are stored in its _modelRepository. The population model repository is a dictionary."
   ]
  },
  {
   "cell_type": "code",
   "execution_count": 14,
   "id": "137f7043-52ea-4530-9522-48cb9d46f6d1",
   "metadata": {},
   "outputs": [
    {
     "data": {
      "text/plain": [
       "{'dynamicRiskFactors': <microsim.cohort_risk_model_repository.CohortDynamicRiskFactorModelRepository at 0x15778e580>,\n",
       " 'defaultTreatments': <microsim.cohort_risk_model_repository.CohortDefaultTreatmentModelRepository at 0x17beae7f0>,\n",
       " 'outcomes': <microsim.outcome_model_repository.OutcomeModelRepository at 0x17beaf580>,\n",
       " 'staticRiskFactors': <microsim.cohort_risk_model_repository.CohortStaticRiskFactorModelRepository at 0x17bebe3a0>}"
      ]
     },
     "execution_count": 14,
     "metadata": {},
     "output_type": "execute_result"
    }
   ],
   "source": [
    "pop._modelRepository"
   ]
  },
  {
   "cell_type": "code",
   "execution_count": 23,
   "id": "8ec4391d-1aa0-41ec-be3a-24951584e81f",
   "metadata": {},
   "outputs": [
    {
     "data": {
      "text/plain": [
       "dict"
      ]
     },
     "execution_count": 23,
     "metadata": {},
     "output_type": "execute_result"
    }
   ],
   "source": [
    "type(pop._modelRepository)"
   ]
  },
  {
   "cell_type": "markdown",
   "id": "9c08e22d-9769-4f03-9da6-75d7187dd357",
   "metadata": {},
   "source": [
    "The population needs to know the models for 1) dynamic risk factors, 2) default treatments, 3) outcomes, and 4) static risk factors. This is why there are four entries in the model repository dictionary, one for each model repository type needed."
   ]
  },
  {
   "cell_type": "code",
   "execution_count": 25,
   "id": "b79514fd-292e-453f-81eb-2d6d5f36575f",
   "metadata": {},
   "outputs": [
    {
     "data": {
      "text/plain": [
       "4"
      ]
     },
     "execution_count": 25,
     "metadata": {},
     "output_type": "execute_result"
    }
   ],
   "source": [
    "len(pop._modelRepository.keys())"
   ]
  },
  {
   "cell_type": "markdown",
   "id": "58d9af82-6078-4674-ac6b-373ff73ef062",
   "metadata": {},
   "source": [
    "We can access the model repository for the dynamic risk factors by using that key. What we get a dynamic risk factor model repository."
   ]
  },
  {
   "cell_type": "code",
   "execution_count": 28,
   "id": "3bc001a7-f534-4d89-a0b4-6e297f344c6f",
   "metadata": {},
   "outputs": [
    {
     "data": {
      "text/plain": [
       "<microsim.cohort_risk_model_repository.CohortDynamicRiskFactorModelRepository at 0x15778e580>"
      ]
     },
     "execution_count": 28,
     "metadata": {},
     "output_type": "execute_result"
    }
   ],
   "source": [
    "pop._modelRepository['dynamicRiskFactors']"
   ]
  },
  {
   "cell_type": "markdown",
   "id": "5ba750ca-150c-4132-a845-d81ac5972d3a",
   "metadata": {},
   "source": [
    "We can go one level deeper and see what this includes. It includes a different model for each dynamic risk factor. For example for afib, it includes an afib incidence model."
   ]
  },
  {
   "cell_type": "code",
   "execution_count": 29,
   "id": "cb400376-5d19-4b06-a8c6-b31941b308bb",
   "metadata": {},
   "outputs": [
    {
     "data": {
      "text/plain": [
       "{'afib': <microsim.afib_model.AFibIncidenceModel at 0x15778e6d0>,\n",
       " 'pvd': <microsim.pvd_model.PVDIncidenceModel at 0x15778e9a0>,\n",
       " 'age': <microsim.age_model.AgeModel at 0x17e855e80>,\n",
       " 'alcoholPerWeek': <microsim.cohort_risk_model_repository.AlcoholCategoryModel at 0x177b04cd0>,\n",
       " 'hdl': <microsim.statsmodel_linear_risk_factor_model.StatsModelLinearRiskFactorModel at 0x177b04ee0>,\n",
       " 'bmi': <microsim.statsmodel_linear_risk_factor_model.StatsModelLinearRiskFactorModel at 0x177b04130>,\n",
       " 'totChol': <microsim.statsmodel_linear_risk_factor_model.StatsModelLinearRiskFactorModel at 0x17e8558e0>,\n",
       " 'trig': <microsim.statsmodel_linear_risk_factor_model.StatsModelLinearRiskFactorModel at 0x16a8f7df0>,\n",
       " 'a1c': <microsim.statsmodel_linear_risk_factor_model.StatsModelLinearRiskFactorModel at 0x16a8fc280>,\n",
       " 'ldl': <microsim.statsmodel_linear_risk_factor_model.StatsModelLinearRiskFactorModel at 0x16a88a730>,\n",
       " 'waist': <microsim.statsmodel_linear_risk_factor_model.StatsModelLinearRiskFactorModel at 0x177b15310>,\n",
       " 'creatinine': <microsim.statsmodel_linear_risk_factor_model.StatsModelLinearRiskFactorModel at 0x177b1aeb0>,\n",
       " 'sbp': <microsim.statsmodel_linear_risk_factor_model.StatsModelLinearRiskFactorModel at 0x177b1a100>,\n",
       " 'dbp': <microsim.statsmodel_linear_risk_factor_model.StatsModelLinearRiskFactorModel at 0x177b1f520>,\n",
       " 'anyPhysicalActivity': <microsim.stats_model_linear_probability_risk_factor_model.StatsModelLinearProbabilityRiskFactorModel at 0x17e85aca0>}"
      ]
     },
     "execution_count": 29,
     "metadata": {},
     "output_type": "execute_result"
    }
   ],
   "source": [
    "pop._modelRepository['dynamicRiskFactors']._repository"
   ]
  },
  {
   "cell_type": "markdown",
   "id": "fc72f046-7a39-4a60-885a-21722248b7a8",
   "metadata": {},
   "source": [
    "With this model repository a population can predict the future of its people under the US standard of care, meaning, without any interventions."
   ]
  },
  {
   "cell_type": "markdown",
   "id": "16d5d41b-a8ad-43b1-bc16-02403323a68a",
   "metadata": {},
   "source": [
    "### Functions"
   ]
  },
  {
   "cell_type": "markdown",
   "id": "c38e67d7-7ab2-4692-bc19-0810ea867f60",
   "metadata": {},
   "source": [
    "The population includes functions that allow it to predict the future of its people. For example the advance function makes predictions for all risk factors, default treatments, and outcomes. However, for the first year this is done, only the outcomes are predicted because\n",
    "the population has risk factors and default treatments from the NHANES data set but not outcomes. This is why all outcome lists for all people in the population are empty."
   ]
  },
  {
   "cell_type": "code",
   "execution_count": 33,
   "id": "bbfc2ae0-b2e8-4847-bd4b-3d561761e13e",
   "metadata": {},
   "outputs": [
    {
     "data": {
      "text/plain": [
       "{<OutcomeType.WMH: 'wmh'>: [],\n",
       " <OutcomeType.COGNITION: 'cognition'>: [],\n",
       " <OutcomeType.CI: 'ci'>: [],\n",
       " <OutcomeType.CARDIOVASCULAR: 'cv'>: [],\n",
       " <OutcomeType.STROKE: 'stroke'>: [],\n",
       " <OutcomeType.MI: 'mi'>: [],\n",
       " <OutcomeType.NONCARDIOVASCULAR: 'noncv'>: [],\n",
       " <OutcomeType.DEMENTIA: 'dementia'>: [],\n",
       " <OutcomeType.DEATH: 'death'>: [],\n",
       " <OutcomeType.QUALITYADJUSTED_LIFE_YEARS: 'qalys'>: []}"
      ]
     },
     "execution_count": 33,
     "metadata": {},
     "output_type": "execute_result"
    }
   ],
   "source": [
    "person._outcomes"
   ]
  },
  {
   "cell_type": "markdown",
   "id": "31e4aecd-cde4-44c8-a718-7167502559ce",
   "metadata": {},
   "source": [
    "Let's predict the outcomes for this first year."
   ]
  },
  {
   "cell_type": "code",
   "execution_count": 34,
   "id": "a86ed514-bef9-4639-b656-53e7582cbdae",
   "metadata": {},
   "outputs": [],
   "source": [
    "pop.advance(1)"
   ]
  },
  {
   "cell_type": "markdown",
   "id": "d57dabc7-3abf-4674-be9c-039d942aae7a",
   "metadata": {},
   "source": [
    "Now we can see that we actually made predictions for the outcomes of our person."
   ]
  },
  {
   "cell_type": "code",
   "execution_count": 35,
   "id": "29a6d44d-c372-42d0-b7e3-c9e70d477f1f",
   "metadata": {},
   "outputs": [
    {
     "data": {
      "text/plain": [
       "{<OutcomeType.WMH: 'wmh'>: [(51.0,\n",
       "   WMH Outcome: OutcomeType.WMH, fatal: False, sbi: False, wmh: False,\n",
       "                      wmhSeverityUnknown: False, wmhSeverity: WMHSeverity.NO)],\n",
       " <OutcomeType.COGNITION: 'cognition'>: [(51.0,\n",
       "   Outcome type: OutcomeType.COGNITION, fatal: False, priorToSim: False)],\n",
       " <OutcomeType.CI: 'ci'>: [],\n",
       " <OutcomeType.CARDIOVASCULAR: 'cv'>: [],\n",
       " <OutcomeType.STROKE: 'stroke'>: [],\n",
       " <OutcomeType.MI: 'mi'>: [],\n",
       " <OutcomeType.NONCARDIOVASCULAR: 'noncv'>: [],\n",
       " <OutcomeType.DEMENTIA: 'dementia'>: [],\n",
       " <OutcomeType.DEATH: 'death'>: [],\n",
       " <OutcomeType.QUALITYADJUSTED_LIFE_YEARS: 'qalys'>: [(51.0,\n",
       "   Outcome type: OutcomeType.QUALITYADJUSTED_LIFE_YEARS, fatal: False, priorToSim: False)]}"
      ]
     },
     "execution_count": 35,
     "metadata": {},
     "output_type": "execute_result"
    }
   ],
   "source": [
    "person._outcomes"
   ]
  },
  {
   "cell_type": "markdown",
   "id": "f3dd2cb9-ac24-4ac5-ac7c-fada3197afb6",
   "metadata": {},
   "source": [
    "We can also verify that we have not changed the risk factors yet."
   ]
  },
  {
   "cell_type": "code",
   "execution_count": 36,
   "id": "04e93252-1827-4640-ac6a-4b4e6d9d84da",
   "metadata": {},
   "outputs": [
    {
     "data": {
      "text/plain": [
       "[51.0]"
      ]
     },
     "execution_count": 36,
     "metadata": {},
     "output_type": "execute_result"
    }
   ],
   "source": [
    "person._age"
   ]
  },
  {
   "cell_type": "markdown",
   "id": "c787a557-f12d-4c3a-b624-c75e804d21d8",
   "metadata": {},
   "source": [
    "But if we advance again, the population will make predictions for risk factors, default treatments and outcomes"
   ]
  },
  {
   "cell_type": "code",
   "execution_count": 37,
   "id": "43e8f739-9a7d-4d8f-b326-ce191d3e627e",
   "metadata": {},
   "outputs": [],
   "source": [
    "pop.advance(1)"
   ]
  },
  {
   "cell_type": "code",
   "execution_count": 38,
   "id": "5871dcdf-7013-4d98-bef7-8c7cc62f7ff6",
   "metadata": {},
   "outputs": [
    {
     "data": {
      "text/plain": [
       "[51.0, 52.0]"
      ]
     },
     "execution_count": 38,
     "metadata": {},
     "output_type": "execute_result"
    }
   ],
   "source": [
    "person._age"
   ]
  },
  {
   "cell_type": "markdown",
   "id": "18dec187-7b27-438c-b5e5-5202c53a7d33",
   "metadata": {},
   "source": [
    "The population includes functions that allow it to report information about its state. For example, the get_outcome_count function allows us to easily see how many people in the population have a particular outcome type, eg MI."
   ]
  },
  {
   "cell_type": "code",
   "execution_count": 39,
   "id": "cc27d07a-a5ef-4bb8-aef6-f65aeba0fa6e",
   "metadata": {},
   "outputs": [
    {
     "data": {
      "text/plain": [
       "0"
      ]
     },
     "execution_count": 39,
     "metadata": {},
     "output_type": "execute_result"
    }
   ],
   "source": [
    "from microsim.outcome import OutcomeType\n",
    "\n",
    "pop.get_outcome_count(OutcomeType.MI)"
   ]
  },
  {
   "cell_type": "markdown",
   "id": "e021ddb0-5a27-47e5-880d-296cb7bf2352",
   "metadata": {},
   "source": [
    "As another example of a reporting function we can use the has_ci function of the population which returns a list. This function reports if the person objects of our population have cognitive impairment."
   ]
  },
  {
   "cell_type": "code",
   "execution_count": 40,
   "id": "070b2b6b-34a7-491d-b9fa-9b27b7f51631",
   "metadata": {},
   "outputs": [
    {
     "data": {
      "text/plain": [
       "[False, False, False, False, False, False, False, False, False, False]"
      ]
     },
     "execution_count": 40,
     "metadata": {},
     "output_type": "execute_result"
    }
   ],
   "source": [
    "pop.has_ci()"
   ]
  },
  {
   "cell_type": "code",
   "execution_count": null,
   "id": "67b24ed8-35a8-4955-9a8a-fc92cf8c9308",
   "metadata": {},
   "outputs": [],
   "source": []
  }
 ],
 "metadata": {
  "kernelspec": {
   "display_name": "microsimKernel",
   "language": "python",
   "name": "microsimkernel"
  },
  "language_info": {
   "codemirror_mode": {
    "name": "ipython",
    "version": 3
   },
   "file_extension": ".py",
   "mimetype": "text/x-python",
   "name": "python",
   "nbconvert_exporter": "python",
   "pygments_lexer": "ipython3",
   "version": "3.9.13"
  }
 },
 "nbformat": 4,
 "nbformat_minor": 5
}
