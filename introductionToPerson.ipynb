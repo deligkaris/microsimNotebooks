{
 "cells": [
  {
   "cell_type": "markdown",
   "id": "a19b9031-e1b5-4385-9679-b3e53385eeda",
   "metadata": {},
   "source": [
    "# Introduction to Microsim: Person Factory and Person "
   ]
  },
  {
   "cell_type": "code",
   "execution_count": null,
   "id": "631f5370-d968-4612-80cf-d03f9cd01d75",
   "metadata": {},
   "outputs": [],
   "source": [
    "import os\n",
    "\n",
    "microsimDir = \"/Users/deligkaris.1/OneDrive - The Ohio State University Wexner Medical Center/MICROSIM/CODE/microsim\"\n",
    "os.chdir(microsimDir)"
   ]
  },
  {
   "cell_type": "markdown",
   "id": "beae075a-8ef9-43b5-8f4c-cc4f282ee2da",
   "metadata": {},
   "source": [
    "## Person Factory"
   ]
  },
  {
   "cell_type": "markdown",
   "id": "e946ff28-804c-4c62-856a-1207b4ea3cc2",
   "metadata": {},
   "source": [
    "The [person factory](https://github.com/jburke5/microsim/blob/master/microsim/person_factory.py#L23) imports person-level data, organizes it, completes the information when important variables are not available in the data set, and returns a Microsim Person object based on that data. \n",
    "\n",
    "In this example, we will illustrate a bit how the person factory works to create a NHANES person object. In order to create an NHANES person, we first need to read the data file that contains the NHANES information about all the people that were surveyed. The NHANES survey data set includes the information the person factory will use to create an NHANES person."
   ]
  },
  {
   "cell_type": "code",
   "execution_count": 2,
   "id": "0902876b-9953-4e9b-a476-c509cc78c50b",
   "metadata": {},
   "outputs": [],
   "source": [
    "from microsim.population_factory import PopulationFactory\n",
    "\n",
    "nhanesDf = PopulationFactory.get_nhanesDf()"
   ]
  },
  {
   "cell_type": "markdown",
   "id": "bcb90e77-1b5b-429f-a8a8-3a33b723d36c",
   "metadata": {},
   "source": [
    "We can use the head function to take a look at the first 5 rows of the NHANES dataframe. There are a lot of columns and Pandas does not show all of them."
   ]
  },
  {
   "cell_type": "code",
   "execution_count": 3,
   "id": "e40d4152-6134-4c16-9a3c-97ed535b1e9e",
   "metadata": {},
   "outputs": [
    {
     "data": {
      "text/html": [
       "<div>\n",
       "<style scoped>\n",
       "    .dataframe tbody tr th:only-of-type {\n",
       "        vertical-align: middle;\n",
       "    }\n",
       "\n",
       "    .dataframe tbody tr th {\n",
       "        vertical-align: top;\n",
       "    }\n",
       "\n",
       "    .dataframe thead th {\n",
       "        text-align: right;\n",
       "    }\n",
       "</style>\n",
       "<table border=\"1\" class=\"dataframe\">\n",
       "  <thead>\n",
       "    <tr style=\"text-align: right;\">\n",
       "      <th></th>\n",
       "      <th>name</th>\n",
       "      <th>index</th>\n",
       "      <th>WTINT2YR</th>\n",
       "      <th>a1c</th>\n",
       "      <th>age</th>\n",
       "      <th>antiHypertensiveCount</th>\n",
       "      <th>bmi</th>\n",
       "      <th>diedBy2015</th>\n",
       "      <th>gender</th>\n",
       "      <th>hdl</th>\n",
       "      <th>...</th>\n",
       "      <th>alcoholPerWeek</th>\n",
       "      <th>completedInterview</th>\n",
       "      <th>missingSBP</th>\n",
       "      <th>htn3</th>\n",
       "      <th>htn4</th>\n",
       "      <th>meanSBP3</th>\n",
       "      <th>jnc8</th>\n",
       "      <th>raceEthnicity</th>\n",
       "      <th>smokingStatus</th>\n",
       "      <th>education</th>\n",
       "    </tr>\n",
       "  </thead>\n",
       "  <tbody>\n",
       "    <tr>\n",
       "      <th>0</th>\n",
       "      <td>0</td>\n",
       "      <td>0</td>\n",
       "      <td>102641.406474</td>\n",
       "      <td>5.1</td>\n",
       "      <td>22.0</td>\n",
       "      <td>0.0</td>\n",
       "      <td>23.3</td>\n",
       "      <td>0</td>\n",
       "      <td>1.0</td>\n",
       "      <td>41.0</td>\n",
       "      <td>...</td>\n",
       "      <td>0</td>\n",
       "      <td>1</td>\n",
       "      <td>0</td>\n",
       "      <td>0</td>\n",
       "      <td>0</td>\n",
       "      <td>110.666667</td>\n",
       "      <td>0</td>\n",
       "      <td>3</td>\n",
       "      <td>0</td>\n",
       "      <td>3</td>\n",
       "    </tr>\n",
       "    <tr>\n",
       "      <th>1</th>\n",
       "      <td>1</td>\n",
       "      <td>3</td>\n",
       "      <td>127351.373299</td>\n",
       "      <td>4.9</td>\n",
       "      <td>44.0</td>\n",
       "      <td>0.0</td>\n",
       "      <td>23.2</td>\n",
       "      <td>0</td>\n",
       "      <td>2.0</td>\n",
       "      <td>28.0</td>\n",
       "      <td>...</td>\n",
       "      <td>3</td>\n",
       "      <td>1</td>\n",
       "      <td>0</td>\n",
       "      <td>0</td>\n",
       "      <td>0</td>\n",
       "      <td>118.000000</td>\n",
       "      <td>0</td>\n",
       "      <td>3</td>\n",
       "      <td>0</td>\n",
       "      <td>4</td>\n",
       "    </tr>\n",
       "    <tr>\n",
       "      <th>2</th>\n",
       "      <td>2</td>\n",
       "      <td>8</td>\n",
       "      <td>14391.778470</td>\n",
       "      <td>5.4</td>\n",
       "      <td>21.0</td>\n",
       "      <td>1.0</td>\n",
       "      <td>20.1</td>\n",
       "      <td>0</td>\n",
       "      <td>1.0</td>\n",
       "      <td>43.0</td>\n",
       "      <td>...</td>\n",
       "      <td>3</td>\n",
       "      <td>1</td>\n",
       "      <td>0</td>\n",
       "      <td>0</td>\n",
       "      <td>0</td>\n",
       "      <td>124.666667</td>\n",
       "      <td>0</td>\n",
       "      <td>5</td>\n",
       "      <td>0</td>\n",
       "      <td>3</td>\n",
       "    </tr>\n",
       "    <tr>\n",
       "      <th>3</th>\n",
       "      <td>3</td>\n",
       "      <td>11</td>\n",
       "      <td>26960.774346</td>\n",
       "      <td>5.6</td>\n",
       "      <td>43.0</td>\n",
       "      <td>0.0</td>\n",
       "      <td>33.3</td>\n",
       "      <td>0</td>\n",
       "      <td>2.0</td>\n",
       "      <td>73.0</td>\n",
       "      <td>...</td>\n",
       "      <td>3</td>\n",
       "      <td>1</td>\n",
       "      <td>0</td>\n",
       "      <td>0</td>\n",
       "      <td>0</td>\n",
       "      <td>102.000000</td>\n",
       "      <td>0</td>\n",
       "      <td>4</td>\n",
       "      <td>2</td>\n",
       "      <td>3</td>\n",
       "    </tr>\n",
       "    <tr>\n",
       "      <th>4</th>\n",
       "      <td>4</td>\n",
       "      <td>13</td>\n",
       "      <td>24912.668432</td>\n",
       "      <td>5.0</td>\n",
       "      <td>80.0</td>\n",
       "      <td>1.0</td>\n",
       "      <td>33.9</td>\n",
       "      <td>1</td>\n",
       "      <td>1.0</td>\n",
       "      <td>54.0</td>\n",
       "      <td>...</td>\n",
       "      <td>2</td>\n",
       "      <td>1</td>\n",
       "      <td>0</td>\n",
       "      <td>1</td>\n",
       "      <td>1</td>\n",
       "      <td>97.000000</td>\n",
       "      <td>0</td>\n",
       "      <td>3</td>\n",
       "      <td>0</td>\n",
       "      <td>5</td>\n",
       "    </tr>\n",
       "  </tbody>\n",
       "</table>\n",
       "<p>5 rows × 43 columns</p>\n",
       "</div>"
      ],
      "text/plain": [
       "   name  index       WTINT2YR  a1c   age  antiHypertensiveCount   bmi  \\\n",
       "0     0      0  102641.406474  5.1  22.0                    0.0  23.3   \n",
       "1     1      3  127351.373299  4.9  44.0                    0.0  23.2   \n",
       "2     2      8   14391.778470  5.4  21.0                    1.0  20.1   \n",
       "3     3     11   26960.774346  5.6  43.0                    0.0  33.3   \n",
       "4     4     13   24912.668432  5.0  80.0                    1.0  33.9   \n",
       "\n",
       "   diedBy2015  gender   hdl  ...  alcoholPerWeek  completedInterview  \\\n",
       "0           0     1.0  41.0  ...               0                   1   \n",
       "1           0     2.0  28.0  ...               3                   1   \n",
       "2           0     1.0  43.0  ...               3                   1   \n",
       "3           0     2.0  73.0  ...               3                   1   \n",
       "4           1     1.0  54.0  ...               2                   1   \n",
       "\n",
       "   missingSBP  htn3  htn4    meanSBP3  jnc8  raceEthnicity  smokingStatus  \\\n",
       "0           0     0     0  110.666667     0              3              0   \n",
       "1           0     0     0  118.000000     0              3              0   \n",
       "2           0     0     0  124.666667     0              5              0   \n",
       "3           0     0     0  102.000000     0              4              2   \n",
       "4           0     1     1   97.000000     0              3              0   \n",
       "\n",
       "   education  \n",
       "0          3  \n",
       "1          4  \n",
       "2          3  \n",
       "3          3  \n",
       "4          5  \n",
       "\n",
       "[5 rows x 43 columns]"
      ]
     },
     "execution_count": 3,
     "metadata": {},
     "output_type": "execute_result"
    }
   ],
   "source": [
    "nhanesDf.head()"
   ]
  },
  {
   "cell_type": "markdown",
   "id": "34c948d9-fc7f-49e2-9d9c-5eac02a8c92c",
   "metadata": {},
   "source": [
    "Let's take a look at the first row of the NHANES dataframe. We can see now all the information about the person that was surveyed for NHANES and whose data were stored on the first row. This person was surveyed in 2011 and was 22 years old. The WTINT2YR is the weight we can use during sampling in order to create a US-representative population. Note that this is just the first row of a dataframe. The first row of the dataframe includes information, but it is not a Microsim person object."
   ]
  },
  {
   "cell_type": "code",
   "execution_count": 17,
   "id": "8ecee078-ce47-4da1-a20f-82efd73bf111",
   "metadata": {},
   "outputs": [
    {
     "data": {
      "text/plain": [
       "name                                   0\n",
       "index                                  0\n",
       "WTINT2YR                   102641.406474\n",
       "a1c                                  5.1\n",
       "age                                 22.0\n",
       "antiHypertensiveCount                0.0\n",
       "bmi                                 23.3\n",
       "diedBy2015                             0\n",
       "gender                               1.0\n",
       "hdl                                 41.0\n",
       "ldl                                110.0\n",
       "monthsToDeath                       61.0\n",
       "monthsToDeath2                      61.0\n",
       "otherLipidLowering                   0.0\n",
       "selfReportCurrentHtnMed                0\n",
       "selfReportHtn                          0\n",
       "selfReportMI                           0\n",
       "selfReportMIAge                      NaN\n",
       "selfReportStroke                       0\n",
       "selfReportStrokeAge                  NaN\n",
       "creatinine                          0.91\n",
       "statin                               0.0\n",
       "timeInUS                             NaN\n",
       "totChol                            168.0\n",
       "trig                                84.0\n",
       "ucod                                   0\n",
       "urineAlbumin                         5.2\n",
       "waist                               81.0\n",
       "weight                              69.2\n",
       "year                                2011\n",
       "anyPhysicalActivity                False\n",
       "sbp                           110.666667\n",
       "dbp                            74.666667\n",
       "alcoholPerWeek                         0\n",
       "completedInterview                     1\n",
       "missingSBP                             0\n",
       "htn3                                   0\n",
       "htn4                                   0\n",
       "meanSBP3                      110.666667\n",
       "jnc8                                   0\n",
       "raceEthnicity                          3\n",
       "smokingStatus                          0\n",
       "education                              3\n",
       "Name: 0, dtype: object"
      ]
     },
     "execution_count": 17,
     "metadata": {},
     "output_type": "execute_result"
    }
   ],
   "source": [
    "x = nhanesDf.iloc[0]\n",
    "x"
   ]
  },
  {
   "cell_type": "markdown",
   "id": "2a6b62aa-e9e3-41f6-9959-44d9eeb9df24",
   "metadata": {},
   "source": [
    "Now that we have this information about a single person we can use it to create a Microsim Person object. Even though the two of them, the dataframe row and the Microsim Person contain the same information, eg age is 22 years for both, they are however programming-wise two very different objects."
   ]
  },
  {
   "cell_type": "code",
   "execution_count": 19,
   "id": "173f90e3-57a2-4b13-bab5-137b483dfd77",
   "metadata": {},
   "outputs": [],
   "source": [
    "from microsim.person_factory import PersonFactory\n",
    "\n",
    "person = PersonFactory.get_nhanes_person(x)"
   ]
  },
  {
   "cell_type": "markdown",
   "id": "e91d1487-5a97-4124-9057-3e53dcecf49b",
   "metadata": {},
   "source": [
    "We can see the object type of the first dataframe row and of the person object to understand that those two are of two different types. The dataframe row is of type Pandas Series because each row of a Pandas dataframe is of that type. The person object has a type of Microsim Person."
   ]
  },
  {
   "cell_type": "code",
   "execution_count": 23,
   "id": "d23319cd-f4ad-4a7d-a4cf-49c2955b5b96",
   "metadata": {},
   "outputs": [
    {
     "data": {
      "text/plain": [
       "pandas.core.series.Series"
      ]
     },
     "execution_count": 23,
     "metadata": {},
     "output_type": "execute_result"
    }
   ],
   "source": [
    "type(x)"
   ]
  },
  {
   "cell_type": "code",
   "execution_count": 24,
   "id": "d59e65b1-29bb-4169-a5f8-c9954e74563d",
   "metadata": {},
   "outputs": [
    {
     "data": {
      "text/plain": [
       "microsim.person.Person"
      ]
     },
     "execution_count": 24,
     "metadata": {},
     "output_type": "execute_result"
    }
   ],
   "source": [
    "type(person)"
   ]
  },
  {
   "cell_type": "markdown",
   "id": "0bdbc185-4ccb-42aa-84f0-fc288bd563ee",
   "metadata": {},
   "source": [
    "Let's take a look at the person we created. Age is 22 years as expected and all other variables are consistent with what we saw above on the dataframe row. For example, if you compare sbp, dbp, bmi their values are the same in the person object and the dataframe row.\n",
    "\n",
    "If you look more carefully, you may notice that some variables that are present in the person object are not present in the dataframe row, for example afib, or pvd. The NHANES survey did not include that information but we do need these variables to be present in a Microsim person in order to carry out our projects. The person factory uses initialization models in order to make predictions for whether that Person object has afib/pvd or not."
   ]
  },
  {
   "cell_type": "code",
   "execution_count": 6,
   "id": "faadd24a-e232-4f63-ab63-0957a2696622",
   "metadata": {},
   "outputs": [
    {
     "data": {
      "text/plain": [
       "Person(name = 0 index = None  raceEthnicity=3 education=3 gender=1 smokingStatus=0 modality=ct age=22.0 sbp=110.7 dbp=74.7 a1c=5.1 hdl=41.0 ldl=110.0 trig=84.0 totChol=168.0 bmi=23.3 anyPhysicalActivity=0.0 waist=81.0 alcoholPerWeek=0.0 creatinine=0.9 afib=0.0 pvd=0.0 statin=False antiHypertensiveCount=0.0)"
      ]
     },
     "execution_count": 6,
     "metadata": {},
     "output_type": "execute_result"
    }
   ],
   "source": [
    "person"
   ]
  },
  {
   "cell_type": "markdown",
   "id": "61fcd330-c77e-40bb-8312-d5b70dbe864b",
   "metadata": {},
   "source": [
    "This marks the end of the section on person factories. We presented some information regarding the NHANES person factory but the idea is similar for other person types, eg Kaiser."
   ]
  },
  {
   "cell_type": "markdown",
   "id": "26160f9b-1d9c-4888-a193-d880087ee5f7",
   "metadata": {},
   "source": [
    "## Person"
   ]
  },
  {
   "cell_type": "markdown",
   "id": "ba1733a5-daac-4f1a-aa57-b20b576b77f6",
   "metadata": {},
   "source": [
    "### State"
   ]
  },
  {
   "cell_type": "markdown",
   "id": "3db10776-9bfb-4fac-bc74-e7297c075433",
   "metadata": {},
   "source": [
    "As described in the [Microsim wiki page](https://github.com/jburke5/microsim/wiki/Person#person-object-state), the state of a person object includes its risk factors, treatments, outcomes and treatment strategies. Now, we will take a closer look at those for our person object.\n",
    "\n",
    "A person's set of risk factors is divided into static and dynamic risk factors. Our person's static risk factors are shown below. Note that this simply shows us what static risk factors the person has, it does not show us what the values are for those risk factors."
   ]
  },
  {
   "cell_type": "code",
   "execution_count": 8,
   "id": "7d5ebabc-9b51-4e3c-b6d9-c4cd87f61122",
   "metadata": {},
   "outputs": [
    {
     "data": {
      "text/plain": [
       "['raceEthnicity', 'education', 'gender', 'smokingStatus', 'modality']"
      ]
     },
     "execution_count": 8,
     "metadata": {},
     "output_type": "execute_result"
    }
   ],
   "source": [
    "person._staticRiskFactors"
   ]
  },
  {
   "cell_type": "markdown",
   "id": "60054fcb-eb1d-4265-81bc-9286a19ac0ae",
   "metadata": {},
   "source": [
    "We can access the values of those static risk factors as shown below. Our person is male and is a high school graduate."
   ]
  },
  {
   "cell_type": "code",
   "execution_count": 13,
   "id": "abc814be-c312-4bdf-b979-1dd0ba3da280",
   "metadata": {},
   "outputs": [
    {
     "data": {
      "text/plain": [
       "<NHANESGender.MALE: 1>"
      ]
     },
     "execution_count": 13,
     "metadata": {},
     "output_type": "execute_result"
    }
   ],
   "source": [
    "person._gender"
   ]
  },
  {
   "cell_type": "code",
   "execution_count": 14,
   "id": "b795c739-c0ba-4380-9821-8f922789cbba",
   "metadata": {},
   "outputs": [
    {
     "data": {
      "text/plain": [
       "<Education.HIGHSCHOOLGRADUATE: 3>"
      ]
     },
     "execution_count": 14,
     "metadata": {},
     "output_type": "execute_result"
    }
   ],
   "source": [
    "person._education"
   ]
  },
  {
   "cell_type": "markdown",
   "id": "881a60b6-eb86-4c13-a6b4-8f999f5acde7",
   "metadata": {},
   "source": [
    "We can see all dynamic risk factors our person has, age is one of them."
   ]
  },
  {
   "cell_type": "code",
   "execution_count": 9,
   "id": "bf927f57-9239-4a79-8896-101d06c30f88",
   "metadata": {},
   "outputs": [
    {
     "data": {
      "text/plain": [
       "['age',\n",
       " 'sbp',\n",
       " 'dbp',\n",
       " 'a1c',\n",
       " 'hdl',\n",
       " 'ldl',\n",
       " 'trig',\n",
       " 'totChol',\n",
       " 'bmi',\n",
       " 'anyPhysicalActivity',\n",
       " 'waist',\n",
       " 'alcoholPerWeek',\n",
       " 'creatinine',\n",
       " 'afib',\n",
       " 'pvd']"
      ]
     },
     "execution_count": 9,
     "metadata": {},
     "output_type": "execute_result"
    }
   ],
   "source": [
    "person._dynamicRiskFactors"
   ]
  },
  {
   "cell_type": "markdown",
   "id": "99710cd4-44e4-458a-b025-219192a823ef",
   "metadata": {},
   "source": [
    "In contrast with the static risk factors that a single variable, dynamic risk factors do change over time and that is why they are stored in lists. For example, the age dynamic risk factor is a list of all the ages of this person. Because our person was created just now and we have not made any predictions about its future state, the age list contains only a single number, the current age."
   ]
  },
  {
   "cell_type": "code",
   "execution_count": 15,
   "id": "017e6abc-dcf4-4f39-94f4-fe9ee66ea351",
   "metadata": {},
   "outputs": [
    {
     "data": {
      "text/plain": [
       "[22.0]"
      ]
     },
     "execution_count": 15,
     "metadata": {},
     "output_type": "execute_result"
    }
   ],
   "source": [
    "person._age"
   ]
  },
  {
   "cell_type": "markdown",
   "id": "6686c927-591e-4b60-a871-210e32f5d94e",
   "metadata": {},
   "source": [
    "The same is true for the sbp risk factor."
   ]
  },
  {
   "cell_type": "code",
   "execution_count": 16,
   "id": "7331300f-9164-4b33-b57d-2fdc9875d179",
   "metadata": {},
   "outputs": [
    {
     "data": {
      "text/plain": [
       "[110.66666666666667]"
      ]
     },
     "execution_count": 16,
     "metadata": {},
     "output_type": "execute_result"
    }
   ],
   "source": [
    "person._sbp"
   ]
  },
  {
   "cell_type": "markdown",
   "id": "605b3be4-bf05-4c3a-978b-b0033f167cbe",
   "metadata": {},
   "source": [
    "In a similar way, we can see the default treatments for our person."
   ]
  },
  {
   "cell_type": "code",
   "execution_count": 11,
   "id": "f4e87e3d-5194-4a53-a915-342d7bdf5d2c",
   "metadata": {},
   "outputs": [
    {
     "data": {
      "text/plain": [
       "['statin', 'antiHypertensiveCount']"
      ]
     },
     "execution_count": 11,
     "metadata": {},
     "output_type": "execute_result"
    }
   ],
   "source": [
    "person._defaultTreatments"
   ]
  },
  {
   "cell_type": "code",
   "execution_count": 20,
   "id": "8f7fab0a-e0a1-4084-82a1-c588a77bef19",
   "metadata": {},
   "outputs": [
    {
     "data": {
      "text/plain": [
       "[False]"
      ]
     },
     "execution_count": 20,
     "metadata": {},
     "output_type": "execute_result"
    }
   ],
   "source": [
    "person._statin"
   ]
  },
  {
   "cell_type": "markdown",
   "id": "dbc81f95-035c-48d2-a667-b8c4c30d5d00",
   "metadata": {},
   "source": [
    "And treatment strategies, which are stored in a dictionary. Our person does not have any treatment strategy applied regarding blood pressure. Currently, the only treatment strategy available in Microsim is for blood pressure."
   ]
  },
  {
   "cell_type": "code",
   "execution_count": 12,
   "id": "80ebb49e-4b81-48b5-b5b8-502be8709127",
   "metadata": {},
   "outputs": [
    {
     "data": {
      "text/plain": [
       "{'bp': {'status': None}}"
      ]
     },
     "execution_count": 12,
     "metadata": {},
     "output_type": "execute_result"
    }
   ],
   "source": [
    "person._treatmentStrategies"
   ]
  },
  {
   "cell_type": "markdown",
   "id": "353bc99e-86bd-4828-bdd0-ce12f065004e",
   "metadata": {},
   "source": [
    "The last thing that completes the state of our person is outcomes. Outcomes are stored in a dictionary, and each key is an outcome type. "
   ]
  },
  {
   "cell_type": "code",
   "execution_count": 21,
   "id": "0ce4a750-079a-4a22-8114-4cc623d9aeff",
   "metadata": {},
   "outputs": [
    {
     "data": {
      "text/plain": [
       "{<OutcomeType.WMH: 'wmh'>: [],\n",
       " <OutcomeType.COGNITION: 'cognition'>: [],\n",
       " <OutcomeType.CI: 'ci'>: [],\n",
       " <OutcomeType.CARDIOVASCULAR: 'cv'>: [],\n",
       " <OutcomeType.STROKE: 'stroke'>: [],\n",
       " <OutcomeType.MI: 'mi'>: [],\n",
       " <OutcomeType.NONCARDIOVASCULAR: 'noncv'>: [],\n",
       " <OutcomeType.DEMENTIA: 'dementia'>: [],\n",
       " <OutcomeType.DEATH: 'death'>: [],\n",
       " <OutcomeType.QUALITYADJUSTED_LIFE_YEARS: 'qalys'>: []}"
      ]
     },
     "execution_count": 21,
     "metadata": {},
     "output_type": "execute_result"
    }
   ],
   "source": [
    "person._outcomes"
   ]
  },
  {
   "cell_type": "markdown",
   "id": "1c962ae3-0ac1-43ca-85e6-d08f44831b63",
   "metadata": {},
   "source": [
    "If we want to access all outcomes of a particular outcome type, eg dementia, then we can do it by using that outcome type as the key. In this case, our person has no dementia outcome, which is why the list of dementia outcomes is empty. We use a list for each outcome type because in general, there can be more than outcome of a\n",
    "specific outcome type. For example, a Microsim person can have more than one strokes in their lifetime (but only one such outcome is stored in the person for each year in the simulation)."
   ]
  },
  {
   "cell_type": "code",
   "execution_count": 22,
   "id": "d51a6b09-f00c-481b-b13a-710acbcf6d36",
   "metadata": {},
   "outputs": [
    {
     "data": {
      "text/plain": [
       "[]"
      ]
     },
     "execution_count": 22,
     "metadata": {},
     "output_type": "execute_result"
    }
   ],
   "source": [
    "from microsim.outcome import OutcomeType\n",
    "\n",
    "person._outcomes[OutcomeType.DEMENTIA]"
   ]
  },
  {
   "cell_type": "markdown",
   "id": "3acd045a-5036-4f2d-9661-0393d0d4aea1",
   "metadata": {},
   "source": [
    "### Functions"
   ]
  },
  {
   "cell_type": "markdown",
   "id": "84181a73-f8c7-4baa-8eaa-cfccd20e1461",
   "metadata": {},
   "source": [
    "[Functions of person objects](https://github.com/jburke5/microsim/wiki/Person#person-object-functions) help us either obtain information about the state of the object or predict the future state of the object. I will start with two examples of functions that provide information about the state of our person."
   ]
  },
  {
   "cell_type": "markdown",
   "id": "a9682937-77f5-4210-ba44-0a2af2b7d71e",
   "metadata": {},
   "source": [
    "Person objects have functions that allow us to probe, to obtain some information about the state of the object. For example, the function _mi allow us to know if the person has ever had a MI outcome. We could have used the MI outcome type and manually see all outcomes of that type to obtain the same answer, but using this function allows us to achieve the goal easier and faster."
   ]
  },
  {
   "cell_type": "code",
   "execution_count": 29,
   "id": "f8ec4a47-6d22-41cd-a45b-ad34563ed600",
   "metadata": {},
   "outputs": [
    {
     "data": {
      "text/plain": [
       "False"
      ]
     },
     "execution_count": 29,
     "metadata": {},
     "output_type": "execute_result"
    }
   ],
   "source": [
    "person._mi"
   ]
  },
  {
   "cell_type": "markdown",
   "id": "7a614b5c-db56-46d3-a2fa-cfc8ad5a0f66",
   "metadata": {},
   "source": [
    "Another function as an example is the has_diabetes() function, it allow us to easily obtain that type of information about our person. Note that the response we get from the has_diabetes() function is currently False but as we make predictions for our person for subsequent years, this response may at some point become True."
   ]
  },
  {
   "cell_type": "code",
   "execution_count": 30,
   "id": "40413f2c-6960-4e2e-bc3b-117291353a1b",
   "metadata": {},
   "outputs": [
    {
     "data": {
      "text/plain": [
       "False"
      ]
     },
     "execution_count": 30,
     "metadata": {},
     "output_type": "execute_result"
    }
   ],
   "source": [
    "person.has_diabetes()"
   ]
  },
  {
   "cell_type": "markdown",
   "id": "ef10b2c3-9632-4c87-82a1-351ee1110bf8",
   "metadata": {},
   "source": [
    "Person objects also have functions that allow them to make predictions for the future state of the person. However, those functions include only general instructions, eg know how to use a linear regression model to make a prediction, but do not have the specific information, eg the model coefficients. So, in order to use a person function to make a prediction we need to provide to that function some specific information.\n",
    "\n",
    "As an example here, we will predict the value of the dynamic risk factors of our person one year from the present. We need to get the specific information about making those predictions from the CohortDynamicRiskFactorModelRepository and then provide them to the advance_risk_factor function. We can see the type of our model repository to be a CohortDynamicRiskFactorModelRepository."
   ]
  },
  {
   "cell_type": "code",
   "execution_count": 37,
   "id": "9046f1cf-2e40-4c22-8e4c-b8a07e2d43c5",
   "metadata": {},
   "outputs": [
    {
     "data": {
      "text/plain": [
       "microsim.cohort_risk_model_repository.CohortDynamicRiskFactorModelRepository"
      ]
     },
     "execution_count": 37,
     "metadata": {},
     "output_type": "execute_result"
    }
   ],
   "source": [
    "from microsim.cohort_risk_model_repository import CohortDynamicRiskFactorModelRepository\n",
    "\n",
    "drfRepository = CohortDynamicRiskFactorModelRepository()\n",
    "\n",
    "type(drfRepository)"
   ]
  },
  {
   "cell_type": "markdown",
   "id": "b6aae07f-8dd8-46d4-b652-2709460ef5b2",
   "metadata": {},
   "source": [
    "drfRepository has a dictionary, where the keys are dynamic risk factors, eg afib, and the values are the models with the coefficients."
   ]
  },
  {
   "cell_type": "code",
   "execution_count": 38,
   "id": "50770c77-52e6-4fb9-8b56-82141bd37630",
   "metadata": {},
   "outputs": [
    {
     "data": {
      "text/plain": [
       "{'afib': <microsim.afib_model.AFibIncidenceModel at 0x16c1d3070>,\n",
       " 'pvd': <microsim.pvd_model.PVDIncidenceModel at 0x175248b50>,\n",
       " 'age': <microsim.age_model.AgeModel at 0x16c187160>,\n",
       " 'alcoholPerWeek': <microsim.cohort_risk_model_repository.AlcoholCategoryModel at 0x16c1d3f40>,\n",
       " 'hdl': <microsim.statsmodel_linear_risk_factor_model.StatsModelLinearRiskFactorModel at 0x16c15b9a0>,\n",
       " 'bmi': <microsim.statsmodel_linear_risk_factor_model.StatsModelLinearRiskFactorModel at 0x16c1d3f10>,\n",
       " 'totChol': <microsim.statsmodel_linear_risk_factor_model.StatsModelLinearRiskFactorModel at 0x16c1d3310>,\n",
       " 'trig': <microsim.statsmodel_linear_risk_factor_model.StatsModelLinearRiskFactorModel at 0x16c1bbbe0>,\n",
       " 'a1c': <microsim.statsmodel_linear_risk_factor_model.StatsModelLinearRiskFactorModel at 0x16c1d7b20>,\n",
       " 'ldl': <microsim.statsmodel_linear_risk_factor_model.StatsModelLinearRiskFactorModel at 0x16c1da910>,\n",
       " 'waist': <microsim.statsmodel_linear_risk_factor_model.StatsModelLinearRiskFactorModel at 0x16c1df700>,\n",
       " 'creatinine': <microsim.statsmodel_linear_risk_factor_model.StatsModelLinearRiskFactorModel at 0x16c1ec2e0>,\n",
       " 'sbp': <microsim.statsmodel_linear_risk_factor_model.StatsModelLinearRiskFactorModel at 0x16c1f1e80>,\n",
       " 'dbp': <microsim.statsmodel_linear_risk_factor_model.StatsModelLinearRiskFactorModel at 0x16c1f10d0>,\n",
       " 'anyPhysicalActivity': <microsim.stats_model_linear_probability_risk_factor_model.StatsModelLinearProbabilityRiskFactorModel at 0x16c1e54f0>}"
      ]
     },
     "execution_count": 38,
     "metadata": {},
     "output_type": "execute_result"
    }
   ],
   "source": [
    "drfRepository._repository"
   ]
  },
  {
   "cell_type": "markdown",
   "id": "4424c774-c0d6-425d-91a4-82540046d356",
   "metadata": {},
   "source": [
    "Now, we can use the person advance_risk_factors function to make those predictions. Note that we expect the dynamic risk factors of our person to change, but everything else should stay the same, as we are not making any predictions for treatments, treatment strategies or outcomes."
   ]
  },
  {
   "cell_type": "code",
   "execution_count": 34,
   "id": "89ef8b7c-4b7a-4e80-bd8d-10a1bd982936",
   "metadata": {},
   "outputs": [],
   "source": [
    "person.advance_risk_factors(CohortDynamicRiskFactorModelRepository())\n",
    "\n",
    "person"
   ]
  },
  {
   "cell_type": "markdown",
   "id": "5fa1beda-f48a-4ab5-8c79-97f2a7156802",
   "metadata": {},
   "source": [
    "For example, let's see what is the age attribute of our person. The age list now has two elements, the first one is the age of our person when the person was first created (22), and the next value is the age of our person one year later (23)."
   ]
  },
  {
   "cell_type": "code",
   "execution_count": 39,
   "id": "04512698-eed8-42c1-a28f-5d1df5272ba4",
   "metadata": {},
   "outputs": [
    {
     "data": {
      "text/plain": [
       "[22.0, 23.0]"
      ]
     },
     "execution_count": 39,
     "metadata": {},
     "output_type": "execute_result"
    }
   ],
   "source": [
    "person._age"
   ]
  },
  {
   "cell_type": "markdown",
   "id": "71a3d503-4897-4606-8f11-de25cb6ea180",
   "metadata": {},
   "source": [
    "Something similar happens to other dynamic risk factors."
   ]
  },
  {
   "cell_type": "code",
   "execution_count": 40,
   "id": "7957b75d-d85b-4879-8a60-6fc66b628582",
   "metadata": {},
   "outputs": [
    {
     "data": {
      "text/plain": [
       "[110.66666666666667, 112.16993908783287]"
      ]
     },
     "execution_count": 40,
     "metadata": {},
     "output_type": "execute_result"
    }
   ],
   "source": [
    "person._sbp"
   ]
  },
  {
   "cell_type": "markdown",
   "id": "89edccde-512c-49eb-842f-1cf6ab3a3f90",
   "metadata": {},
   "source": [
    "But default treatments should not change as no predictions were made for those."
   ]
  },
  {
   "cell_type": "code",
   "execution_count": 43,
   "id": "f7cae488-7996-44d2-832e-9607b1439876",
   "metadata": {},
   "outputs": [
    {
     "data": {
      "text/plain": [
       "[False]"
      ]
     },
     "execution_count": 43,
     "metadata": {},
     "output_type": "execute_result"
    }
   ],
   "source": [
    "person._statin"
   ]
  },
  {
   "cell_type": "markdown",
   "id": "4e3b04ee-b142-4f49-ab03-33d31415b338",
   "metadata": {},
   "source": [
    "Outcomes should also stay the same."
   ]
  },
  {
   "cell_type": "code",
   "execution_count": 44,
   "id": "700c941f-4646-47ca-8411-c65cee3e92b8",
   "metadata": {},
   "outputs": [
    {
     "data": {
      "text/plain": [
       "{<OutcomeType.WMH: 'wmh'>: [],\n",
       " <OutcomeType.COGNITION: 'cognition'>: [],\n",
       " <OutcomeType.CI: 'ci'>: [],\n",
       " <OutcomeType.CARDIOVASCULAR: 'cv'>: [],\n",
       " <OutcomeType.STROKE: 'stroke'>: [],\n",
       " <OutcomeType.MI: 'mi'>: [],\n",
       " <OutcomeType.NONCARDIOVASCULAR: 'noncv'>: [],\n",
       " <OutcomeType.DEMENTIA: 'dementia'>: [],\n",
       " <OutcomeType.DEATH: 'death'>: [],\n",
       " <OutcomeType.QUALITYADJUSTED_LIFE_YEARS: 'qalys'>: []}"
      ]
     },
     "execution_count": 44,
     "metadata": {},
     "output_type": "execute_result"
    }
   ],
   "source": [
    "person._outcomes"
   ]
  },
  {
   "cell_type": "markdown",
   "id": "decef3f1-70d1-4b3a-9f96-e9259606ac15",
   "metadata": {},
   "source": [
    "### Models"
   ]
  },
  {
   "cell_type": "markdown",
   "id": "82fb2a11-1a00-4ec6-af01-5bdce12d7479",
   "metadata": {},
   "source": [
    "Microsim [Person objects do not include any models](https://github.com/jburke5/microsim/wiki/Person#person-object-models). This is why we had to create a dynamic risk factor model repository and provide the models to our person in order to make the predictions."
   ]
  },
  {
   "cell_type": "code",
   "execution_count": null,
   "id": "30e85f21-256e-4d49-8c4d-d3b0c271700d",
   "metadata": {},
   "outputs": [],
   "source": []
  }
 ],
 "metadata": {
  "kernelspec": {
   "display_name": "microsimKernel",
   "language": "python",
   "name": "microsimkernel"
  },
  "language_info": {
   "codemirror_mode": {
    "name": "ipython",
    "version": 3
   },
   "file_extension": ".py",
   "mimetype": "text/x-python",
   "name": "python",
   "nbconvert_exporter": "python",
   "pygments_lexer": "ipython3",
   "version": "3.9.13"
  }
 },
 "nbformat": 4,
 "nbformat_minor": 5
}
