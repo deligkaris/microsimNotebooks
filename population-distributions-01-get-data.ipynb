{
 "cells": [
  {
   "cell_type": "code",
   "execution_count": 1,
   "id": "2d651f36-768c-423f-89b0-f3ea0b845c5c",
   "metadata": {},
   "outputs": [],
   "source": [
    "import os\n",
    "import copy\n",
    "import pandas as pd\n",
    "pd.set_option('display.max_columns', None)\n",
    "pd.set_option('display.max_rows', None)\n",
    "import numpy as np\n",
    "import matplotlib.pyplot as plt\n",
    "from collections import Counter\n",
    "from scipy.stats import multivariate_normal\n",
    "\n",
    "from microsim.population import NHANESDirectSamplePopulation, build_people_using_nhanes_for_sampling\n",
    "from microsim.gender import NHANESGender\n",
    "from microsim.smoking_status import SmokingStatus\n",
    "from microsim.race_ethnicity import NHANESRaceEthnicity\n",
    "from microsim.treatment import DefaultTreatmentsType\n",
    "from microsim.risk_factor import StaticRiskFactorsType, DynamicRiskFactorsType\n",
    "\n",
    "microsimDir = \"/Users/deligkaris.1/OneDrive - The Ohio State University Wexner Medical Center/MICROSIM\"\n",
    "os.chdir(microsimDir+\"/CODE/microsim\")\n",
    "\n",
    "popSize = 500000"
   ]
  },
  {
   "cell_type": "code",
   "execution_count": null,
   "id": "265174a1-9d04-43e3-9d16-e1fea93ef40b",
   "metadata": {},
   "outputs": [],
   "source": [
    "if True:\n",
    "    pop = NHANESDirectSamplePopulation(popSize, 1999)\n",
    "else:\n",
    "    pop = NHANESDirectSamplePopulation(2, 1999)\n",
    "    nhanesDf = pd.read_stata(microsimDir + \"/microsim/data/fullyImputedDataset.dta\")\n",
    "    pop._people = build_people_using_nhanes_for_sampling(nhanesDf,popSize)"
   ]
  },
  {
   "cell_type": "code",
   "execution_count": null,
   "id": "b2eb182e-d993-41a1-a496-5c9503156b57",
   "metadata": {},
   "outputs": [],
   "source": [
    "pop.advance(100, None, nWorkers=1)"
   ]
  },
  {
   "cell_type": "code",
   "execution_count": null,
   "id": "6d407c6e-5814-485f-8111-b59a988f0edc",
   "metadata": {},
   "outputs": [],
   "source": [
    "srfList = [StaticRiskFactorsType.GENDER.value, StaticRiskFactorsType.SMOKING_STATUS.value, \n",
    "           StaticRiskFactorsType.RACE_ETHNICITY.value]\n",
    "\n",
    "dtList = [DefaultTreatmentsType.STATIN.value]\n",
    "\n",
    "drfList = [DynamicRiskFactorsType.AGE.value, DynamicRiskFactorsType.SBP.value, \n",
    "           DynamicRiskFactorsType.DBP.value, DynamicRiskFactorsType.BMI.value]\n",
    "\n",
    "attrDict = {\"staticRiskFactors\": srfList,\n",
    "            \"dynamicRiskFactors\": drfList,\n",
    "            \"defaultTreatments\": dtList}"
   ]
  },
  {
   "cell_type": "code",
   "execution_count": null,
   "id": "14be87a9-5ce0-42d2-a498-6ad8d3ce4228",
   "metadata": {},
   "outputs": [],
   "source": [
    "def get_all_person_years_as_df(pop, attrDict):\n",
    "    \"\"\"The attribute dictionary dictates what information will be returned in the dataframe.\n",
    "    TO DO: define a default attrDict if the user wants everything to be returned.\"\"\"\n",
    "    \n",
    "    srfList = attrDict[\"staticRiskFactors\"]\n",
    "    drfList = attrDict[\"dynamicRiskFactors\"]\n",
    "    dtList = attrDict[\"defaultTreatments\"]\n",
    "    columnNames = [col for sublist in list(attrDict.values()) for col in sublist]\n",
    "    nestedList = list(map(lambda x: \n",
    "                          list(zip(*[\n",
    "                              *[[getattr(x, \"_\"+attr)]*(x._waveCompleted+1) for attr in srfList],\n",
    "                              *[getattr(x,\"_\"+attr) for attr in drfList],\n",
    "                              *[getattr(x,\"_\"+attr) for attr in dtList]])), \n",
    "                          pop._people))\n",
    "    df = pd.concat([pd.DataFrame(nestedList[i], columns=columnNames) for i in range(len(nestedList))], ignore_index=True)\n",
    "    return df"
   ]
  },
  {
   "cell_type": "code",
   "execution_count": null,
   "id": "8fcd8565-71d9-4987-9a8c-4c6f80ebea30",
   "metadata": {},
   "outputs": [],
   "source": [
    "df = get_all_person_years_as_df(pop, attrDict)"
   ]
  },
  {
   "cell_type": "code",
   "execution_count": null,
   "id": "7903b68d-e8e8-4edc-a466-60e07d1b9a55",
   "metadata": {},
   "outputs": [],
   "source": [
    "df.head()"
   ]
  },
  {
   "cell_type": "code",
   "execution_count": null,
   "id": "0e5ad54d-28aa-42a5-bae3-9c763c44967d",
   "metadata": {},
   "outputs": [],
   "source": [
    "df.to_csv(microsimDir+\"/NOTEBOOKS/DATA/nhanes-normality-test.csv\", index=False)"
   ]
  },
  {
   "cell_type": "code",
   "execution_count": null,
   "id": "3c8a8bc7-ede2-41cf-ad6b-100520ae734c",
   "metadata": {},
   "outputs": [],
   "source": []
  },
  {
   "cell_type": "code",
   "execution_count": null,
   "id": "d6e2945e-6529-45bd-b89b-70b82e1d0964",
   "metadata": {},
   "outputs": [],
   "source": [
    "#I may need to move these to the microsim code"
   ]
  },
  {
   "cell_type": "code",
   "execution_count": null,
   "id": "a84f09a0-cc72-4616-b2d0-c1d2a14e41a2",
   "metadata": {},
   "outputs": [],
   "source": [
    "def get_last_attribute(person, attr):\n",
    "    if (attr in [x.value for x in DynamicRiskFactorsType]) | (attr in [x.value for x in DefaultTreatmentsType]) :\n",
    "        return getattr(person, \"_\"+attr)[-1]\n",
    "    elif attr in [x.value for x in StaticRiskFactorsType]:\n",
    "        return getattr(person, \"_\"+attr)\n",
    "    else: \n",
    "        raise RuntimeError(f\"Unknown Person object attribute: {attr}\")"
   ]
  },
  {
   "cell_type": "code",
   "execution_count": null,
   "id": "8b94486f-62b0-4288-be38-7059f7ab1da7",
   "metadata": {},
   "outputs": [],
   "source": [
    "def filter_people(people, lambdaFilter=lambda x: True):\n",
    "    return pd.Series(list(filter(lambdaFilter, people))) "
   ]
  },
  {
   "cell_type": "code",
   "execution_count": null,
   "id": "df3a1db3-131f-423a-b5f2-b39c78c72ee5",
   "metadata": {},
   "outputs": [],
   "source": [
    "def filter_people_dict(people, filterDict):\n",
    "    for attr,value in filterDict.items():\n",
    "        people = filter_people(people, lambda x: get_last_attribute(x,attr)==value)\n",
    "        #print(attr, people.shape)\n",
    "    return people"
   ]
  },
  {
   "cell_type": "code",
   "execution_count": null,
   "id": "f33f230e-5aa9-40c5-8238-21c9caa493d5",
   "metadata": {},
   "outputs": [],
   "source": [
    "def get_pop_filter(gender, race, smoking, statin, anyPhysicalActivity):\n",
    "    return {StaticRiskFactorsType.GENDER.value: gender,\n",
    "            StaticRiskFactorsType.RACE_ETHNICITY.value: race,\n",
    "            StaticRiskFactorsType.SMOKING_STATUS.value: smoking,\n",
    "            DynamicRiskFactorsType.ANY_PHYSICAL_ACTIVITY.value: anyPhysicalActivity,\n",
    "            DefaultTreatmentsType.STATIN.value: statin}"
   ]
  },
  {
   "cell_type": "code",
   "execution_count": null,
   "id": "ad644baa-cc09-4157-ac42-716dc52bc8a1",
   "metadata": {},
   "outputs": [],
   "source": [
    "data = np.array(list(zip(ageList,sbpList)))"
   ]
  },
  {
   "cell_type": "code",
   "execution_count": null,
   "id": "acc96c36-1c1d-4d1f-9f1a-5a9d7409f418",
   "metadata": {},
   "outputs": [],
   "source": [
    "mu = np.mean(data, axis=0)\n",
    "covariance = np.cov(data.T)"
   ]
  },
  {
   "cell_type": "code",
   "execution_count": null,
   "id": "ff29ab28-83c1-4297-92a4-3c4e0dd98156",
   "metadata": {},
   "outputs": [],
   "source": [
    "dist = multivariate_normal(mu, covariance)"
   ]
  },
  {
   "cell_type": "code",
   "execution_count": null,
   "id": "70c1b8dd-3ebe-4156-a78b-570e422e50da",
   "metadata": {},
   "outputs": [],
   "source": [
    "dist."
   ]
  },
  {
   "cell_type": "code",
   "execution_count": null,
   "id": "72699019-bc4a-45b1-92f2-a4da3f412e08",
   "metadata": {},
   "outputs": [],
   "source": [
    "data[0]"
   ]
  },
  {
   "cell_type": "code",
   "execution_count": null,
   "id": "aff38b20-6c6a-4a7c-bd1f-f33a45168f12",
   "metadata": {},
   "outputs": [],
   "source": [
    "#need only male and female\n",
    "for gender in NHANESGender:\n",
    "    #need to include asian\n",
    "    for race in [race for race in NHANESRaceEthnicity if race!=NHANESRaceEthnicity.MEXICAN_AMERICAN]:\n",
    "        #need only never and ever\n",
    "        for smoking in [SmokingStatus.NEVER, SmokingStatus.FORMER]:\n",
    "            for statin in [True, False]:\n",
    "                for anyPhysicalActivity in [True, False]:\n",
    "                    filterDict = get_pop_filter(gender, race, smoking, statin, anyPhysicalActivity)\n",
    "                    filteredPeople = filter_people_dict(pop.get_people_copy(), filterDict)\n",
    "                    names = list(map( lambda x: x._name, filteredPeople))\n",
    "                    nameSet = set(names)\n",
    "                    ageList = list(map(lambda x: x._age[-1], filteredPeople))\n",
    "                    sbpList = list(map(lambda x: x._sbp[-1], filteredPeople))\n",
    "                    dbpList = list(map(lambda x: x._dbp[-1], filteredPeople))\n",
    "                    bmiList = list(map(lambda x: x._bmi[-1], filteredPeople))\n",
    "                    #data = np.array(list(zip(ageList,sbpList)))\n",
    "                    #mu = np.mean(data, axis=0)\n",
    "                    #covariance = np.cov(data.T)\n",
    "                    #dist = multivariate_normal()\n",
    "                    #dist.fit(data)\n",
    "                    #plt.hist2d(dbpList, bmiList, bins=8)\n",
    "                    #plt.show()\n",
    "                    print(gender.value, race.value, smoking.value, statin, anyPhysicalActivity, filteredPeople.shape[0], len(nameSet))"
   ]
  },
  {
   "cell_type": "code",
   "execution_count": null,
   "id": "8767c8b4-5518-457a-9929-0cdf584e46bc",
   "metadata": {},
   "outputs": [],
   "source": []
  },
  {
   "cell_type": "code",
   "execution_count": 6,
   "id": "1b072db3-b090-4fc0-87d7-3b036573cfbe",
   "metadata": {},
   "outputs": [],
   "source": [
    "os.chdir(microsimDir)\n",
    "nhanesDf = pd.read_stata(microsimDir + \"/CODE/microsim/microsim/data/fullyImputedDataset.dta\")"
   ]
  },
  {
   "cell_type": "code",
   "execution_count": 7,
   "id": "7d3cf183-f2ac-4ffe-afe2-dc241ad97c18",
   "metadata": {},
   "outputs": [
    {
     "data": {
      "text/plain": [
       "0.0    39933\n",
       "1.0    10984\n",
       "2.0     5239\n",
       "3.0     2133\n",
       "4.0      715\n",
       "5.0      169\n",
       "6.0       26\n",
       "7.0        5\n",
       "Name: antiHypertensive, dtype: int64"
      ]
     },
     "execution_count": 7,
     "metadata": {},
     "output_type": "execute_result"
    }
   ],
   "source": [
    "nhanesDf[\"antiHypertensive\"].value_counts()"
   ]
  },
  {
   "cell_type": "code",
   "execution_count": null,
   "id": "69f902d6-aa30-4b48-8fea-e9c12cd92548",
   "metadata": {},
   "outputs": [],
   "source": []
  },
  {
   "cell_type": "code",
   "execution_count": null,
   "id": "5584095f-7ba7-42b9-918a-e8633b139f12",
   "metadata": {},
   "outputs": [],
   "source": []
  },
  {
   "cell_type": "code",
   "execution_count": null,
   "id": "5d197c81-052c-4b97-957c-8dff89f3d2c5",
   "metadata": {},
   "outputs": [],
   "source": []
  },
  {
   "cell_type": "code",
   "execution_count": null,
   "id": "6a1c8255-9b42-4468-84a1-0d8ea43f3638",
   "metadata": {},
   "outputs": [],
   "source": [
    "filterDict = get_pop_filter(NHANESGender.MALE, \n",
    "                            NHANESRaceEthnicity.NON_HISPANIC_WHITE,\n",
    "                            SmokingStatus.NEVER,\n",
    "                            False,\n",
    "                            True)"
   ]
  },
  {
   "cell_type": "code",
   "execution_count": null,
   "id": "ed1e2f4f-f456-4c90-bad8-ffd864ccfb83",
   "metadata": {},
   "outputs": [],
   "source": [
    "filteredPeople = filter_people_dict(pop._people, filterDict)"
   ]
  },
  {
   "cell_type": "code",
   "execution_count": null,
   "id": "b7cc3066-bed1-4d9e-aa1e-bae6426bf70b",
   "metadata": {},
   "outputs": [],
   "source": [
    "filteredPeople.shape"
   ]
  },
  {
   "cell_type": "code",
   "execution_count": null,
   "id": "30363558-f32b-4dbb-a609-da90271866dc",
   "metadata": {},
   "outputs": [],
   "source": []
  }
 ],
 "metadata": {
  "kernelspec": {
   "display_name": "microsimKernel",
   "language": "python",
   "name": "microsimkernel"
  },
  "language_info": {
   "codemirror_mode": {
    "name": "ipython",
    "version": 3
   },
   "file_extension": ".py",
   "mimetype": "text/x-python",
   "name": "python",
   "nbconvert_exporter": "python",
   "pygments_lexer": "ipython3",
   "version": "3.9.13"
  }
 },
 "nbformat": 4,
 "nbformat_minor": 5
}
