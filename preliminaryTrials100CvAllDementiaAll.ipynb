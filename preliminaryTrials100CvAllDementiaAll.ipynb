{
 "cells": [
  {
   "cell_type": "code",
   "execution_count": null,
   "id": "0b2c851d",
   "metadata": {},
   "outputs": [],
   "source": [
    "#needs a kernel that can load matplotlib, pandas, numpy (does not need to be a microsim kernel)\n",
    "#if you run this on OSC and the kernel dies as you run it, run the notebook with more than 1 cores"
   ]
  },
  {
   "cell_type": "code",
   "execution_count": 1,
   "id": "4ed6159b",
   "metadata": {},
   "outputs": [],
   "source": [
    "import os\n",
    "import matplotlib.pyplot as plt\n",
    "import pandas as pd\n",
    "pd.set_option('display.max_columns', None)\n",
    "pd.set_option('max_colwidth', None)\n",
    "#pd.set_option('max_rows', None)\n",
    "#pd.set_option('max_columns', None)\n",
    "pd.set_option('display.max_rows', None)\n",
    "pd.options.display.float_format = '{:,.4f}'.format\n",
    "import numpy as np"
   ]
  },
  {
   "cell_type": "code",
   "execution_count": 2,
   "id": "ee97e248",
   "metadata": {},
   "outputs": [],
   "source": [
    "#resultsDir = \"/users/PAS2164/deligkaris/MICROSIM/SIMULATIONS/PRELIMINARY-TRIALS-100-CV-ALL-DEMENTIA-ALL\"\n",
    "resultsDir = \"/Users/deligkaris.1/OneDrive - The Ohio State University Wexner Medical Center/MICROSIM/SIMULATIONS/PRELIMINARY-TRIALS-100-CV-ALL-DEMENTIA-ALL\"\n",
    "os.chdir(resultsDir)\n",
    "data=pd.read_csv(\"inputLog.csv\")"
   ]
  },
  {
   "cell_type": "code",
   "execution_count": 3,
   "id": "37486efe",
   "metadata": {},
   "outputs": [
    {
     "data": {
      "text/html": [
       "<div>\n",
       "<style scoped>\n",
       "    .dataframe tbody tr th:only-of-type {\n",
       "        vertical-align: middle;\n",
       "    }\n",
       "\n",
       "    .dataframe tbody tr th {\n",
       "        vertical-align: top;\n",
       "    }\n",
       "\n",
       "    .dataframe thead th {\n",
       "        text-align: right;\n",
       "    }\n",
       "</style>\n",
       "<table border=\"1\" class=\"dataframe\">\n",
       "  <thead>\n",
       "    <tr style=\"text-align: right;\">\n",
       "      <th></th>\n",
       "      <th>reg</th>\n",
       "      <th>se</th>\n",
       "      <th>pvalue</th>\n",
       "      <th>duration</th>\n",
       "      <th>sampleSize</th>\n",
       "      <th>outcome</th>\n",
       "      <th>analysis</th>\n",
       "      <th>dementiaRisk</th>\n",
       "      <th>cvRisk</th>\n",
       "    </tr>\n",
       "  </thead>\n",
       "  <tbody>\n",
       "    <tr>\n",
       "      <th>0</th>\n",
       "      <td>-28.6097</td>\n",
       "      <td>1,130,140.1029</td>\n",
       "      <td>1.0000</td>\n",
       "      <td>3</td>\n",
       "      <td>100</td>\n",
       "      <td>death</td>\n",
       "      <td>logisticRegression-death</td>\n",
       "      <td>0.0000</td>\n",
       "      <td>0.0000</td>\n",
       "    </tr>\n",
       "    <tr>\n",
       "      <th>1</th>\n",
       "      <td>NaN</td>\n",
       "      <td>NaN</td>\n",
       "      <td>NaN</td>\n",
       "      <td>3</td>\n",
       "      <td>100</td>\n",
       "      <td>death</td>\n",
       "      <td>logisticRegression-death</td>\n",
       "      <td>0.0000</td>\n",
       "      <td>0.0000</td>\n",
       "    </tr>\n",
       "    <tr>\n",
       "      <th>2</th>\n",
       "      <td>NaN</td>\n",
       "      <td>NaN</td>\n",
       "      <td>NaN</td>\n",
       "      <td>3</td>\n",
       "      <td>100</td>\n",
       "      <td>death</td>\n",
       "      <td>logisticRegression-death</td>\n",
       "      <td>0.0000</td>\n",
       "      <td>0.0000</td>\n",
       "    </tr>\n",
       "    <tr>\n",
       "      <th>3</th>\n",
       "      <td>NaN</td>\n",
       "      <td>NaN</td>\n",
       "      <td>NaN</td>\n",
       "      <td>3</td>\n",
       "      <td>100</td>\n",
       "      <td>death</td>\n",
       "      <td>logisticRegression-death</td>\n",
       "      <td>0.0000</td>\n",
       "      <td>0.0000</td>\n",
       "    </tr>\n",
       "    <tr>\n",
       "      <th>4</th>\n",
       "      <td>NaN</td>\n",
       "      <td>NaN</td>\n",
       "      <td>NaN</td>\n",
       "      <td>3</td>\n",
       "      <td>100</td>\n",
       "      <td>death</td>\n",
       "      <td>logisticRegression-death</td>\n",
       "      <td>0.0000</td>\n",
       "      <td>0.0000</td>\n",
       "    </tr>\n",
       "  </tbody>\n",
       "</table>\n",
       "</div>"
      ],
      "text/plain": [
       "       reg             se  pvalue  duration  sampleSize outcome  \\\n",
       "0 -28.6097 1,130,140.1029  1.0000         3         100   death   \n",
       "1      NaN            NaN     NaN         3         100   death   \n",
       "2      NaN            NaN     NaN         3         100   death   \n",
       "3      NaN            NaN     NaN         3         100   death   \n",
       "4      NaN            NaN     NaN         3         100   death   \n",
       "\n",
       "                   analysis  dementiaRisk  cvRisk  \n",
       "0  logisticRegression-death        0.0000  0.0000  \n",
       "1  logisticRegression-death        0.0000  0.0000  \n",
       "2  logisticRegression-death        0.0000  0.0000  \n",
       "3  logisticRegression-death        0.0000  0.0000  \n",
       "4  logisticRegression-death        0.0000  0.0000  "
      ]
     },
     "execution_count": 3,
     "metadata": {},
     "output_type": "execute_result"
    }
   ],
   "source": [
    "#some regression results are nan\n",
    "data.head() "
   ]
  },
  {
   "cell_type": "code",
   "execution_count": 4,
   "id": "87d52544",
   "metadata": {},
   "outputs": [
    {
     "data": {
      "text/plain": [
       "(600000, 9)"
      ]
     },
     "execution_count": 4,
     "metadata": {},
     "output_type": "execute_result"
    }
   ],
   "source": [
    "data.shape"
   ]
  },
  {
   "cell_type": "code",
   "execution_count": null,
   "id": "2dc78458",
   "metadata": {},
   "outputs": [],
   "source": [
    "#how many regressions returned nan in absolute number and percent wise \n",
    "data[\"reg\"].isna().sum(),data[\"reg\"].isna().sum()/data.shape[0]"
   ]
  },
  {
   "cell_type": "code",
   "execution_count": null,
   "id": "d55ee30f",
   "metadata": {},
   "outputs": [],
   "source": [
    "# nans tend to be small sample sizes (but not always), results from logistic regression \n",
    "data[data[\"reg\"].isna()].sample(20)"
   ]
  },
  {
   "cell_type": "code",
   "execution_count": null,
   "id": "6e70097a",
   "metadata": {},
   "outputs": [],
   "source": [
    "#if the result is nan, most likely it is a small sample size\n",
    "#but from one 20,000 sample trial I get 200 100 sample trials and 5354/598 is a factor of ~10 so smaller \n",
    "#sample trials less likely (by a factor of ~20) to return nan in regression\n",
    "data[data[\"reg\"].isna()][\"sampleSize\"].value_counts()"
   ]
  },
  {
   "cell_type": "code",
   "execution_count": null,
   "id": "9f52d2b9",
   "metadata": {},
   "outputs": [],
   "source": [
    "data[data[\"reg\"].isna()][\"outcome\"].value_counts()"
   ]
  },
  {
   "cell_type": "code",
   "execution_count": null,
   "id": "1dd71138",
   "metadata": {},
   "outputs": [],
   "source": [
    "#linear regression did not result in nan\n",
    "data[data[\"reg\"].isna()][\"analysis\"].value_counts()"
   ]
  },
  {
   "cell_type": "code",
   "execution_count": null,
   "id": "697c6b4e",
   "metadata": {},
   "outputs": [],
   "source": [
    "data[data[\"reg\"].isna()][\"dementiaRisk\"].value_counts()"
   ]
  },
  {
   "cell_type": "code",
   "execution_count": null,
   "id": "9a276809",
   "metadata": {},
   "outputs": [],
   "source": [
    "data[data[\"reg\"].isna()][\"cvRisk\"].value_counts()"
   ]
  },
  {
   "cell_type": "code",
   "execution_count": null,
   "id": "8d8681c6",
   "metadata": {},
   "outputs": [],
   "source": [
    "#if count() is doing what I think is doing, then small and large cv risks are more likely to return nan \n",
    "#in logistic regression\n",
    "#note the massive 4015 for dementia risk 0.0002 and 0.0061\n",
    "\n",
    "data[data[\"reg\"].isna()].groupby([\"dementiaRisk\",\"cvRisk\"]).count()"
   ]
  },
  {
   "cell_type": "code",
   "execution_count": 5,
   "id": "383732e4",
   "metadata": {},
   "outputs": [],
   "source": [
    "#from now on keep rows without nan\n",
    "results = data.dropna(axis=0).copy()"
   ]
  },
  {
   "cell_type": "code",
   "execution_count": 6,
   "id": "908b39f4",
   "metadata": {},
   "outputs": [
    {
     "data": {
      "text/html": [
       "<div>\n",
       "<style scoped>\n",
       "    .dataframe tbody tr th:only-of-type {\n",
       "        vertical-align: middle;\n",
       "    }\n",
       "\n",
       "    .dataframe tbody tr th {\n",
       "        vertical-align: top;\n",
       "    }\n",
       "\n",
       "    .dataframe thead th {\n",
       "        text-align: right;\n",
       "    }\n",
       "</style>\n",
       "<table border=\"1\" class=\"dataframe\">\n",
       "  <thead>\n",
       "    <tr style=\"text-align: right;\">\n",
       "      <th></th>\n",
       "      <th>reg</th>\n",
       "      <th>se</th>\n",
       "      <th>pvalue</th>\n",
       "      <th>duration</th>\n",
       "      <th>sampleSize</th>\n",
       "      <th>outcome</th>\n",
       "      <th>analysis</th>\n",
       "      <th>dementiaRisk</th>\n",
       "      <th>cvRisk</th>\n",
       "    </tr>\n",
       "  </thead>\n",
       "  <tbody>\n",
       "    <tr>\n",
       "      <th>433769</th>\n",
       "      <td>-0.0473</td>\n",
       "      <td>0.1776</td>\n",
       "      <td>0.7899</td>\n",
       "      <td>20</td>\n",
       "      <td>1000</td>\n",
       "      <td>death</td>\n",
       "      <td>logisticRegression-death</td>\n",
       "      <td>0.0059</td>\n",
       "      <td>0.0061</td>\n",
       "    </tr>\n",
       "    <tr>\n",
       "      <th>5572</th>\n",
       "      <td>-0.0238</td>\n",
       "      <td>0.0366</td>\n",
       "      <td>0.5151</td>\n",
       "      <td>15</td>\n",
       "      <td>20000</td>\n",
       "      <td>deathstroke-mi-</td>\n",
       "      <td>logisticRegression-deathstroke-mi-</td>\n",
       "      <td>0.0000</td>\n",
       "      <td>0.0000</td>\n",
       "    </tr>\n",
       "    <tr>\n",
       "      <th>202180</th>\n",
       "      <td>0.1500</td>\n",
       "      <td>0.4410</td>\n",
       "      <td>0.7338</td>\n",
       "      <td>3</td>\n",
       "      <td>1000</td>\n",
       "      <td>_gcp-last</td>\n",
       "      <td>linearRegression-_gcp-last</td>\n",
       "      <td>0.0002</td>\n",
       "      <td>0.0061</td>\n",
       "    </tr>\n",
       "    <tr>\n",
       "      <th>474610</th>\n",
       "      <td>0.0516</td>\n",
       "      <td>0.0354</td>\n",
       "      <td>0.1454</td>\n",
       "      <td>5</td>\n",
       "      <td>5000</td>\n",
       "      <td>_qalys-sum</td>\n",
       "      <td>linearRegression-_qalys-sum</td>\n",
       "      <td>0.0059</td>\n",
       "      <td>0.0132</td>\n",
       "    </tr>\n",
       "    <tr>\n",
       "      <th>140161</th>\n",
       "      <td>-0.0160</td>\n",
       "      <td>0.1508</td>\n",
       "      <td>0.9155</td>\n",
       "      <td>3</td>\n",
       "      <td>1000</td>\n",
       "      <td>_gcp-mean</td>\n",
       "      <td>linearRegression-_gcp-mean</td>\n",
       "      <td>0.0002</td>\n",
       "      <td>0.0000</td>\n",
       "    </tr>\n",
       "    <tr>\n",
       "      <th>422150</th>\n",
       "      <td>0.4521</td>\n",
       "      <td>0.4320</td>\n",
       "      <td>0.2954</td>\n",
       "      <td>3</td>\n",
       "      <td>1000</td>\n",
       "      <td>deathstroke-mi-dementia-</td>\n",
       "      <td>logisticRegression-deathstroke-mi-dementia-</td>\n",
       "      <td>0.0059</td>\n",
       "      <td>0.0026</td>\n",
       "    </tr>\n",
       "    <tr>\n",
       "      <th>297591</th>\n",
       "      <td>0.0127</td>\n",
       "      <td>0.0419</td>\n",
       "      <td>0.7608</td>\n",
       "      <td>15</td>\n",
       "      <td>20000</td>\n",
       "      <td>_gcp-mean</td>\n",
       "      <td>linearRegression-_gcp-mean</td>\n",
       "      <td>0.0013</td>\n",
       "      <td>0.0026</td>\n",
       "    </tr>\n",
       "    <tr>\n",
       "      <th>228463</th>\n",
       "      <td>0.4499</td>\n",
       "      <td>0.4802</td>\n",
       "      <td>0.3488</td>\n",
       "      <td>5</td>\n",
       "      <td>200</td>\n",
       "      <td>death</td>\n",
       "      <td>logisticRegression-death</td>\n",
       "      <td>0.0002</td>\n",
       "      <td>0.0132</td>\n",
       "    </tr>\n",
       "    <tr>\n",
       "      <th>272301</th>\n",
       "      <td>0.0204</td>\n",
       "      <td>0.0401</td>\n",
       "      <td>0.6108</td>\n",
       "      <td>3</td>\n",
       "      <td>15000</td>\n",
       "      <td>_gcp-mean</td>\n",
       "      <td>linearRegression-_gcp-mean</td>\n",
       "      <td>0.0013</td>\n",
       "      <td>0.0008</td>\n",
       "    </tr>\n",
       "    <tr>\n",
       "      <th>386277</th>\n",
       "      <td>0.2565</td>\n",
       "      <td>0.2171</td>\n",
       "      <td>0.2375</td>\n",
       "      <td>3</td>\n",
       "      <td>10000</td>\n",
       "      <td>deathstroke-mi-dementia-</td>\n",
       "      <td>logisticRegression-deathstroke-mi-dementia-</td>\n",
       "      <td>0.0059</td>\n",
       "      <td>0.0008</td>\n",
       "    </tr>\n",
       "  </tbody>\n",
       "</table>\n",
       "</div>"
      ],
      "text/plain": [
       "           reg     se  pvalue  duration  sampleSize                   outcome  \\\n",
       "433769 -0.0473 0.1776  0.7899        20        1000                     death   \n",
       "5572   -0.0238 0.0366  0.5151        15       20000           deathstroke-mi-   \n",
       "202180  0.1500 0.4410  0.7338         3        1000                 _gcp-last   \n",
       "474610  0.0516 0.0354  0.1454         5        5000                _qalys-sum   \n",
       "140161 -0.0160 0.1508  0.9155         3        1000                 _gcp-mean   \n",
       "422150  0.4521 0.4320  0.2954         3        1000  deathstroke-mi-dementia-   \n",
       "297591  0.0127 0.0419  0.7608        15       20000                 _gcp-mean   \n",
       "228463  0.4499 0.4802  0.3488         5         200                     death   \n",
       "272301  0.0204 0.0401  0.6108         3       15000                 _gcp-mean   \n",
       "386277  0.2565 0.2171  0.2375         3       10000  deathstroke-mi-dementia-   \n",
       "\n",
       "                                           analysis  dementiaRisk  cvRisk  \n",
       "433769                     logisticRegression-death        0.0059  0.0061  \n",
       "5572             logisticRegression-deathstroke-mi-        0.0000  0.0000  \n",
       "202180                   linearRegression-_gcp-last        0.0002  0.0061  \n",
       "474610                  linearRegression-_qalys-sum        0.0059  0.0132  \n",
       "140161                   linearRegression-_gcp-mean        0.0002  0.0000  \n",
       "422150  logisticRegression-deathstroke-mi-dementia-        0.0059  0.0026  \n",
       "297591                   linearRegression-_gcp-mean        0.0013  0.0026  \n",
       "228463                     logisticRegression-death        0.0002  0.0132  \n",
       "272301                   linearRegression-_gcp-mean        0.0013  0.0008  \n",
       "386277  logisticRegression-deathstroke-mi-dementia-        0.0059  0.0008  "
      ]
     },
     "execution_count": 6,
     "metadata": {},
     "output_type": "execute_result"
    }
   ],
   "source": [
    "results.sample(10)"
   ]
  },
  {
   "cell_type": "code",
   "execution_count": 7,
   "id": "8195582e",
   "metadata": {},
   "outputs": [
    {
     "data": {
      "text/plain": [
       "(586236, 9)"
      ]
     },
     "execution_count": 7,
     "metadata": {},
     "output_type": "execute_result"
    }
   ],
   "source": [
    "results.shape"
   ]
  },
  {
   "cell_type": "code",
   "execution_count": 8,
   "id": "655e4264",
   "metadata": {},
   "outputs": [],
   "source": [
    "outcomes=results[\"outcome\"].unique()\n",
    "dementiaRisks=results[\"dementiaRisk\"].unique()\n",
    "cvRisks=results[\"cvRisk\"].unique()\n",
    "sampleSizes=results[\"sampleSize\"].unique()\n",
    "durations=results[\"duration\"].unique()"
   ]
  },
  {
   "cell_type": "code",
   "execution_count": 9,
   "id": "dbb26be6",
   "metadata": {},
   "outputs": [],
   "source": [
    "meanReg={}  #dictionary, key depends on outcome, duration and sample size, value is an array with cv=row, dem=column\n",
    "results[\"runMeanReg\"]=np.nan #initialize the running mean regression column in the results dataframe\n",
    "runMeanReg = None #initialize temporary pandas series to store the running mean regression"
   ]
  },
  {
   "cell_type": "code",
   "execution_count": null,
   "id": "3e3cee15",
   "metadata": {},
   "outputs": [],
   "source": [
    "#calculate means and running means for regression\n",
    "#it takes a few minutes (but not unreasonably long)\n",
    "for outcome in outcomes:    \n",
    "    for duration in durations:\n",
    "        for sampleSize in sampleSizes:\n",
    "            #initialize array for specific outcome, duration, sample size\n",
    "            meanReg[f\"{outcome},{duration},{sampleSize}\"]=np.zeros((len(cvRisks),len(dementiaRisks)))\n",
    "            for iCvRisk in range(len(cvRisks)):\n",
    "                for iDementiaRisk in range(len(dementiaRisks)):\n",
    "                    dfForParameters=results.loc[ #get all relevant data\n",
    "                                    (results[\"outcome\"]==outcome) & \n",
    "                                    (results[\"sampleSize\"]==sampleSize) &\n",
    "                                    (results[\"dementiaRisk\"]==dementiaRisks[iDementiaRisk]) & \n",
    "                                    (results[\"cvRisk\"]==cvRisks[iCvRisk]) &\n",
    "                                    (results[\"duration\"]==duration) ]\n",
    "                    regs=dfForParameters[\"reg\"].copy() #get regression coefficients only\n",
    "                    meanReg[f\"{outcome},{duration},{sampleSize}\"][iCvRisk,iDementiaRisk]=regs.mean() #store mean\n",
    "                    #calculate and store running mean\n",
    "                    if runMeanReg is None:\n",
    "                        runMeanReg=regs.expanding().mean()\n",
    "                    else:\n",
    "                        runMeanReg=pd.concat([runMeanReg,regs.expanding().mean()])"
   ]
  },
  {
   "cell_type": "code",
   "execution_count": null,
   "id": "ea95d25c",
   "metadata": {},
   "outputs": [],
   "source": [
    "results[\"runMeanReg\"]=runMeanReg #store running means in results dataframe"
   ]
  },
  {
   "cell_type": "code",
   "execution_count": null,
   "id": "88c02b63",
   "metadata": {},
   "outputs": [],
   "source": [
    "results.head()"
   ]
  },
  {
   "cell_type": "code",
   "execution_count": null,
   "id": "bbf5de34",
   "metadata": {},
   "outputs": [],
   "source": [
    "#just a reminder of the values, unsure about the source of nan at the end\n",
    "outcomes,durations,sampleSizes,cvRisks,dementiaRisks"
   ]
  },
  {
   "cell_type": "code",
   "execution_count": null,
   "id": "4108ecd4",
   "metadata": {},
   "outputs": [],
   "source": [
    "#note: any plots that include less than 100 data points is due to regression returning nan \n",
    "#note: I have not implemented anything yet on dealing with nan, eg resubmitting the calculation\n",
    "#note: the single dot at the end is just for validation of my running average\n",
    "\n",
    "#for outcome in outcomes: #plot for all outcomes\n",
    "for outcome in [outcomes[0]]:   #set a specific outcome\n",
    "    #for duration in durations: #plot for all durations\n",
    "    for duration in [durations[1]]: \n",
    "        #for sampleSize in sampleSizes: #plot for all sample sizes\n",
    "        for sampleSize in [sampleSizes[0]]:\n",
    "            #for iCvRisk in range(len(cvRisks)): #plot for all cv risks\n",
    "            for iCvRisk in [0]: #set a specific risk, 0-4            \n",
    "                #for iDementiaRisk in range(len(dementiaRisks)): #plot for all dementia risks\n",
    "                for iDementiaRisk in [0]: #set a specific dementia risk, 0-4\n",
    "                    plotData=results.loc[ #get all relevant data\n",
    "                    (results[\"outcome\"]==outcome) & \n",
    "                    (results[\"sampleSize\"]==sampleSize) &\n",
    "                    (results[\"dementiaRisk\"]==dementiaRisks[iDementiaRisk]) & \n",
    "                    (results[\"cvRisk\"]==cvRisks[iCvRisk]) &\n",
    "                    (results[\"duration\"]==duration), \"runMeanReg\"].copy()\n",
    "                    plt.scatter(range(len(plotData)),plotData)\n",
    "                    plt.scatter(99,meanReg[f\"{outcome},{duration},{sampleSize}\"][iCvRisk,iDementiaRisk])\n"
   ]
  },
  {
   "cell_type": "code",
   "execution_count": null,
   "id": "d9578b30",
   "metadata": {},
   "outputs": [],
   "source": [
    "for outcome in [outcomes[0]]:    #change to outcomes in order to see all heatmaps associated with all outcomes\n",
    "    for duration in durations:\n",
    "        for sampleSize in [sampleSizes[0]]:  #change to sampleSizes to see heatmaps associated with all sample sizes\n",
    "            print(f\"{outcomes[0]},{durations[0]},{sampleSizes[0]}\")\n",
    "            dataForPlot=meanReg[f\"{outcomes[0]},{durations[0]},{sampleSizes[0]}\"]\n",
    "            fig, ax = plt.subplots()\n",
    "            im = ax.imshow(dataForPlot)\n",
    "\n",
    "            # Show all ticks and label them with the respective list entries\n",
    "            ax.set_xticks(np.arange(len(cvRisks)), labels=cvRisks)\n",
    "            ax.set_yticks(np.arange(len(dementiaRisks)), labels=dementiaRisks)\n",
    "            ax.set(xlabel='cv risk', ylabel='dementia risk')\n",
    "\n",
    "            # Rotate the tick labels and set their alignment.\n",
    "            plt.setp(ax.get_xticklabels(), rotation=45, ha=\"right\",\n",
    "            rotation_mode=\"anchor\")\n",
    "\n",
    "            cbar = ax.figure.colorbar(im, ax=ax)\n",
    "            cbar.ax.set_ylabel(\"mean effect size\", rotation=-90, va=\"bottom\")\n",
    "\n",
    "            ax.set_title(\"mean effect size\")\n",
    "            fig.tight_layout()\n",
    "            plt.show()"
   ]
  },
  {
   "cell_type": "code",
   "execution_count": null,
   "id": "9de6dc95",
   "metadata": {},
   "outputs": [],
   "source": []
  }
 ],
 "metadata": {
  "kernelspec": {
   "display_name": "microsimKernel",
   "language": "python",
   "name": "microsimkernel"
  },
  "language_info": {
   "codemirror_mode": {
    "name": "ipython",
    "version": 3
   },
   "file_extension": ".py",
   "mimetype": "text/x-python",
   "name": "python",
   "nbconvert_exporter": "python",
   "pygments_lexer": "ipython3",
   "version": "3.9.13"
  }
 },
 "nbformat": 4,
 "nbformat_minor": 5
}
