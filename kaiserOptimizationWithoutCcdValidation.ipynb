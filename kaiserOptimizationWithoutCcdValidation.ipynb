{
 "cells": [
  {
   "cell_type": "markdown",
   "id": "6bb2cbd2-aa73-4fab-b2fc-949ef2ad8075",
   "metadata": {},
   "source": [
    "## Goal: In a different notebook, kaiserOptimizationWithoutCcd, ascvd, non cv death, and dementia intercepts were optimized to represent the average increased risk of the Kaiser population without taking into account WMH-specific information (eg hazard ratios for WMH severity, SBI etc). The goal of this notebook is to test whether the optimization was done correctly. The outcome incidence rates we obtain here are very close to the reference rates (note: the reference rates were obtained from a different simulation/notebook)."
   ]
  },
  {
   "cell_type": "code",
   "execution_count": 1,
   "id": "ecbe35b9-b9fd-4c68-896f-58ac4103c32e",
   "metadata": {},
   "outputs": [],
   "source": [
    "import numpy as np\n",
    "import pandas as pd\n",
    "import os\n",
    "import importlib.util\n",
    "from scipy import optimize\n",
    "import matplotlib.pyplot as plt\n",
    "\n",
    "microsimDir = \"/Users/deligkaris.1/OneDrive - The Ohio State University Wexner Medical Center/MICROSIM/CODE/microsim\"\n",
    "os.chdir(microsimDir)\n",
    "dataDir = \"/Users/deligkaris.1/OneDrive - The Ohio State University Wexner Medical Center/MICROSIM/NOTEBOOKS/DATA\"\n",
    "\n",
    "pd.set_option('future.no_silent_downcasting', True) \n",
    "\n",
    "from microsim.outcome import OutcomeType\n",
    "from microsim.population_factory import PopulationFactory\n",
    "from microsim.dementia_model_repository import DementiaModelRepository\n",
    "from microsim.dementia_model import DementiaModel\n",
    "from microsim.cv_model import CVModelMale, CVModelFemale\n",
    "from microsim.cv_model_repository import CVModelRepository\n",
    "from microsim.non_cv_death_model import NonCVDeathModel"
   ]
  },
  {
   "cell_type": "markdown",
   "id": "ae30a5f9-2e08-4a77-af8f-d97ffac4248f",
   "metadata": {},
   "source": [
    "### Part 1: validate that the mean risk, in the Kaiser population, is the same using either the SCD-specific or the non-SCD specific ASCVD model."
   ]
  },
  {
   "cell_type": "code",
   "execution_count": 2,
   "id": "6668ff30-af91-42f4-87b2-70ce33489136",
   "metadata": {},
   "outputs": [],
   "source": [
    "popSize = 300000\n",
    "pop = PopulationFactory.get_kaiser_population(n=popSize)"
   ]
  },
  {
   "cell_type": "code",
   "execution_count": 3,
   "id": "2297a7bb-896e-48f0-8640-777fd3e0349c",
   "metadata": {},
   "outputs": [],
   "source": [
    "cvNonScdSpecificRiskList = list(map(lambda x: CVModelRepository(wmhSpecific=False).select_outcome_model_for_person(x).get_risk_for_person(x, years=10),\n",
    "                                            pop._people))\n",
    "\n",
    "cvRiskList = list(map(lambda x: CVModelRepository().select_outcome_model_for_person(x).get_risk_for_person(x, years=10), pop._people))"
   ]
  },
  {
   "cell_type": "code",
   "execution_count": 4,
   "id": "79bb25b6-d5c2-43b3-ae79-8e69b16573a9",
   "metadata": {},
   "outputs": [
    {
     "name": "stdout",
     "output_type": "stream",
     "text": [
      "Mean risk without taking into account SCD-specific information: 0.233\n",
      "Mean risk with taking into account SCD-specific information: 0.245\n",
      "Percent absolute difference: 0.050\n"
     ]
    }
   ],
   "source": [
    "meanNonScdSpecificRisk = sum(cvNonScdSpecificRiskList)/len(cvNonScdSpecificRiskList)\n",
    "meanScdSpecificRisk = sum(cvRiskList)/len(cvRiskList)\n",
    "print(f\"Mean risk without taking into account SCD-specific information: {meanNonScdSpecificRisk:4.3f}\")\n",
    "print(f\"Mean risk with taking into account SCD-specific information: {meanScdSpecificRisk:4.3f}\")\n",
    "print(f\"Percent absolute difference: {abs(meanNonScdSpecificRisk-meanScdSpecificRisk)/meanScdSpecificRisk:4.3f}\")"
   ]
  },
  {
   "cell_type": "markdown",
   "id": "35c9b698-6e06-45da-bdf7-887aff8b91c7",
   "metadata": {},
   "source": [
    "### Part 2: validate the outcome incidence rates, using as the reference the outcome incidence rates obtained by running a Microsim simulation with the SCD-specific models."
   ]
  },
  {
   "cell_type": "code",
   "execution_count": 5,
   "id": "01d73add-ebb1-445f-b964-9a32c124b64d",
   "metadata": {},
   "outputs": [],
   "source": [
    "class DementiaModelRepositoryKaiser(DementiaModelRepository):\n",
    "    def __init__(self, wmhSpecific=False):\n",
    "        super().__init__(wmhSpecific=False)\n",
    "        \n",
    "module = importlib.import_module(\"microsim.outcome_model_repository\")\n",
    "setattr(module, \"DementiaModelRepository\", DementiaModelRepositoryKaiser)"
   ]
  },
  {
   "cell_type": "code",
   "execution_count": 6,
   "id": "3a801ff9-0849-46e5-ba35-4c3e4863df6b",
   "metadata": {},
   "outputs": [],
   "source": [
    "class NonCVDeathModelKaiser(NonCVDeathModel):\n",
    "    def __init__(self, wmhSpecific):\n",
    "            super().__init__(wmhSpecific=False)\n",
    "\n",
    "module = importlib.import_module(\"microsim.non_cv_model_repository\")\n",
    "setattr(module, \"NonCVDeathModel\", NonCVDeathModelKaiser)"
   ]
  },
  {
   "cell_type": "code",
   "execution_count": 7,
   "id": "a03e3e65-e25e-4cd8-8ada-74c10b943312",
   "metadata": {},
   "outputs": [],
   "source": [
    "class CVModelMaleKaiser(CVModelMale):\n",
    "    def __init__(self, wmhSpecific):\n",
    "            super().__init__(wmhSpecific=False)\n",
    "\n",
    "class CVModelFemaleKaiser(CVModelFemale):\n",
    "    def __init__(self, wmhSpecific):\n",
    "            super().__init__(wmhSpecific=False)\n",
    "\n",
    "module = importlib.import_module(\"microsim.cv_model_repository\")\n",
    "setattr(module, \"CVModelMale\", CVModelMaleKaiser)\n",
    "setattr(module, \"CVModelFemale\", CVModelFemaleKaiser)"
   ]
  },
  {
   "cell_type": "code",
   "execution_count": 8,
   "id": "94c2f7e8-207e-41b8-83ce-75a002f1f239",
   "metadata": {},
   "outputs": [
    {
     "data": {
      "text/plain": [
       "True"
      ]
     },
     "execution_count": 8,
     "metadata": {},
     "output_type": "execute_result"
    }
   ],
   "source": [
    "#because the population was created prior to the model swapping above, it has SCD-specific models, eg\n",
    "pop._modelRepository[\"outcomes\"]._repository[OutcomeType.DEMENTIA]._models[\"brainScan\"].wmhSpecific"
   ]
  },
  {
   "cell_type": "code",
   "execution_count": 9,
   "id": "62c52acf-3700-45f7-bb6b-598c219f93ad",
   "metadata": {},
   "outputs": [],
   "source": [
    "#so I need to re-create the population now\n",
    "pop = PopulationFactory.get_kaiser_population(n=popSize)"
   ]
  },
  {
   "cell_type": "code",
   "execution_count": 10,
   "id": "14f930c5-ecb9-4018-9733-30595e7e2aa0",
   "metadata": {},
   "outputs": [
    {
     "data": {
      "text/plain": [
       "(False, False, False, False)"
      ]
     },
     "execution_count": 10,
     "metadata": {},
     "output_type": "execute_result"
    }
   ],
   "source": [
    "#and check again that the population has only non-SCD-specific models\n",
    "(pop._modelRepository[\"outcomes\"]._repository[OutcomeType.DEMENTIA]._models[\"brainScan\"].wmhSpecific,\n",
    "pop._modelRepository[\"outcomes\"]._repository[OutcomeType.NONCARDIOVASCULAR]._model.wmhSpecific,\n",
    "pop._modelRepository[\"outcomes\"]._repository[OutcomeType.CARDIOVASCULAR]._models[\"male\"].wmhSpecific,\n",
    "pop._modelRepository[\"outcomes\"]._repository[OutcomeType.CARDIOVASCULAR]._models[\"female\"].wmhSpecific)"
   ]
  },
  {
   "cell_type": "code",
   "execution_count": 11,
   "id": "81b98db4-2979-4146-a5bd-d0e8f8d5819d",
   "metadata": {},
   "outputs": [
    {
     "name": "stdout",
     "output_type": "stream",
     "text": [
      "CPU times: user 19min 21s, sys: 5.47 s, total: 19min 26s\n",
      "Wall time: 19min 26s\n"
     ]
    }
   ],
   "source": [
    "%%time\n",
    "duration=4\n",
    "pop.advance(duration, nWorkers=1)"
   ]
  },
  {
   "cell_type": "code",
   "execution_count": 12,
   "id": "98590c1f-3357-42d9-b285-f234ae3e7972",
   "metadata": {},
   "outputs": [],
   "source": [
    "strokeRates = pop.get_outcome_incidence_rates_at_end_of_wave(outcomesTypeList=[OutcomeType.STROKE], \n",
    "                                                                                     wave=duration-1)\n",
    "dementiaRates = pop.get_outcome_incidence_rates_at_end_of_wave(outcomesTypeList=[OutcomeType.DEMENTIA], \n",
    "                                                                                       wave=duration-1)\n",
    "deathRates = pop.get_outcome_incidence_rates_at_end_of_wave(outcomesTypeList=[OutcomeType.DEATH], \n",
    "                                                                                    wave=duration-1)\n",
    "miRates = pop.get_outcome_incidence_rates_at_end_of_wave(outcomesTypeList=[OutcomeType.MI], \n",
    "                                                                                     wave=duration-1)\n",
    "rates = {\"stroke\": strokeRates, \"dementia\": dementiaRates, \"death\": deathRates, \"mi\": miRates}"
   ]
  },
  {
   "cell_type": "code",
   "execution_count": 13,
   "id": "d78ebc11-cf34-4fd2-8a44-dde3e7ce3d73",
   "metadata": {},
   "outputs": [],
   "source": [
    "strokeRatesRef = 12 #microsim simulation\n",
    "\n",
    "deathRatesRef = 27 #microsim simulation\n",
    "\n",
    "dementiaRatesRef = 11 #microsim simulation\n",
    "\n",
    "ratesRef = {\"stroke\": strokeRatesRef, \"death\": deathRatesRef, \"dementia\": dementiaRatesRef, \"mi\": 12}"
   ]
  },
  {
   "cell_type": "code",
   "execution_count": 18,
   "id": "362c2487-d41d-49f4-bd3e-28042e482183",
   "metadata": {},
   "outputs": [
    {
     "name": "stdout",
     "output_type": "stream",
     "text": [
      "\n",
      "Reference: Microsim simulation with SCD-specific models\n",
      "\n",
      "Simulation: Microsim simulation with non-SCD-specific models\n",
      "\n",
      "     Group     Reference     Simulation\n",
      "    stroke          12.0           11.6\n",
      "  dementia          11.0           10.8\n",
      "     death          27.0           26.7\n",
      "        mi          12.0           11.6\n"
     ]
    }
   ],
   "source": [
    "print(\"\\nReference: Microsim simulation with SCD-specific models\\n\")\n",
    "print(\"Simulation: Microsim simulation with non-SCD-specific models\\n\")\n",
    "print(\"     Group     Reference     Simulation\")\n",
    "for outcome in rates.keys():\n",
    "    print(f\"{outcome:>10}\" +\n",
    "        f\"{ratesRef[outcome]:>14.1f} \" + \n",
    "          f\"{rates[outcome]:>14.1f}\")"
   ]
  },
  {
   "cell_type": "code",
   "execution_count": null,
   "id": "cfa677f4-133e-4a5e-982f-fc4867be7e2f",
   "metadata": {},
   "outputs": [],
   "source": []
  }
 ],
 "metadata": {
  "kernelspec": {
   "display_name": "microsimKernel",
   "language": "python",
   "name": "microsimkernel"
  },
  "language_info": {
   "codemirror_mode": {
    "name": "ipython",
    "version": 3
   },
   "file_extension": ".py",
   "mimetype": "text/x-python",
   "name": "python",
   "nbconvert_exporter": "python",
   "pygments_lexer": "ipython3",
   "version": "3.9.13"
  }
 },
 "nbformat": 4,
 "nbformat_minor": 5
}
