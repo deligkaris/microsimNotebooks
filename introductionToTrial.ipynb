{
 "cells": [
  {
   "cell_type": "markdown",
   "id": "b574850a-e465-4f4a-8788-595575caa1ae",
   "metadata": {},
   "source": [
    "# Introduction to Microsim: Trial Description, Trial and Trial Outcome Assessor"
   ]
  },
  {
   "cell_type": "code",
   "execution_count": 1,
   "id": "2f02e83d-bf2e-40fc-afd4-83868c0badec",
   "metadata": {
    "tags": []
   },
   "outputs": [],
   "source": [
    "#numpy and pandas modules are not always necessary but more often than not...\n",
    "import numpy as np\n",
    "import pandas as pd\n",
    "#the os module is typically necessary as we always must switch to the Microsim code directory\n",
    "import os\n",
    "\n",
    "#import microsim modules that we need in order to run a trial\n",
    "from microsim.trials.trial_type import TrialType\n",
    "from microsim.trials.trial_description import NhanesTrialDescription\n",
    "from microsim.risk_factor import StaticRiskFactorsType, DynamicRiskFactorsType\n",
    "from microsim.person_filter_factory import PersonFilterFactory\n",
    "from microsim.trials.trial_outcome_assessor_factory import TrialOutcomeAssessorFactory\n",
    "from microsim.trials.trial import Trial\n",
    "\n",
    "#switch to the Microsim directory\n",
    "microsimDir = \"/Users/deligkaris.1/OneDrive - The Ohio State University Wexner Medical Center/MICROSIM/CODE/microsim\"\n",
    "os.chdir(microsimDir)"
   ]
  },
  {
   "cell_type": "markdown",
   "id": "90350cf8-3876-48b8-bfc1-9926e24e8efa",
   "metadata": {},
   "source": [
    "For our first and most simple trial, we will not use any inclusion/exclusion filters"
   ]
  },
  {
   "cell_type": "code",
   "execution_count": 2,
   "id": "d1fe18c2-a097-431d-ad31-a9b12a5769a2",
   "metadata": {},
   "outputs": [],
   "source": [
    "pf = None"
   ]
  },
  {
   "cell_type": "markdown",
   "id": "144530ac-2fb3-446b-88f7-35b4b3b74478",
   "metadata": {},
   "source": [
    "We will set up a completely randomized trial, without using any block factors, treated and control populations of 5000, 5 year duration, both control and treated populations will have no treatment intervention (so just the default standard of care), run the trial in 5 cores with the person filters we defined above.\n",
    "\n",
    "Because we are setting up a trial with NHANES treated and control populations, we have to provide some arguments that are specific to using NHANES populations. We need to define the year from which we are drawing the NHANES populations, whether we will use the weights we have in order to create nationally-representative populations, and whether we will rely on drawing from the distributions we have created from NHANES or not (in most cases we do not use the distributions)."
   ]
  },
  {
   "cell_type": "code",
   "execution_count": 3,
   "id": "36144518-613c-4bdd-9fb2-2ab2e98472f1",
   "metadata": {},
   "outputs": [],
   "source": [
    "td = NhanesTrialDescription(trialType = TrialType.COMPLETELY_RANDOMIZED,\n",
    "                            blockFactors=list(),\n",
    "                            sampleSize = 50000, \n",
    "                            duration = 5, \n",
    "                            treatmentStrategies = \"noTreatment\",\n",
    "                            nWorkers = 5, \n",
    "                            personFilters=pf, \n",
    "                            year=1999, nhanesWeights=True, distributions=False)"
   ]
  },
  {
   "cell_type": "markdown",
   "id": "3a1f8fcc-d7fa-47c9-a133-af0d334bea87",
   "metadata": {},
   "source": [
    "Let's see what trial we have setup."
   ]
  },
  {
   "cell_type": "code",
   "execution_count": 4,
   "id": "701749d0-0e80-4389-b933-cb8d92b84fc7",
   "metadata": {},
   "outputs": [
    {
     "data": {
      "text/plain": [
       "Trial Description\n",
       "\tTrial type: 1\n",
       "\tBlock factors: []\n",
       "\tSample size: 50000\n",
       "\tDuration: 5\n",
       "\tTreatment strategies: <microsim.treatment_strategy_repository.TreatmentStrategyRepository object at 0x111e89b20>\n",
       "\tNumber of workers: 5\n",
       "\tPerson filters: \n",
       "\t None\n",
       "\tYear: 1999\n",
       "\tNHANES weights: True\n",
       "\tDistributions: False\n",
       "\tPopulation type: PopulationType.NHANES"
      ]
     },
     "execution_count": 4,
     "metadata": {},
     "output_type": "execute_result"
    }
   ],
   "source": [
    "td"
   ]
  },
  {
   "cell_type": "markdown",
   "id": "fb22e8b6-8095-46eb-a35b-85e246e4598f",
   "metadata": {},
   "source": [
    "We now need to initialize the trial. This will create the trial populations and then wait for us to run it. Creating the populations, depending on the sample size, may be a time consuming step."
   ]
  },
  {
   "cell_type": "code",
   "execution_count": 5,
   "id": "ffd7e641-1a9f-4b0e-bd17-caeb2f0558af",
   "metadata": {},
   "outputs": [],
   "source": [
    "tr = Trial(td)"
   ]
  },
  {
   "cell_type": "markdown",
   "id": "1dde300b-d0b8-4427-9ad1-a1df9f6e9591",
   "metadata": {},
   "source": [
    "Let's see what we have so far. The setup of the trial is presented in the same format as the trial description above, and we also now that the trial has not been completed yet."
   ]
  },
  {
   "cell_type": "code",
   "execution_count": 6,
   "id": "7f077245-12b6-41cc-89de-0a6680722c69",
   "metadata": {},
   "outputs": [
    {
     "data": {
      "text/plain": [
       "Trial Description\n",
       "\tTrial type: 1\n",
       "\tBlock factors: []\n",
       "\tSample size: 50000\n",
       "\tDuration: 5\n",
       "\tTreatment strategies: <microsim.treatment_strategy_repository.TreatmentStrategyRepository object at 0x111e89b20>\n",
       "\tNumber of workers: 5\n",
       "\tPerson filters: \n",
       "\t None\n",
       "\tYear: 1999\n",
       "\tNHANES weights: True\n",
       "\tDistributions: False\n",
       "\tPopulation type: PopulationType.NHANES\n",
       "Trial\n",
       "\tTrial completed: False"
      ]
     },
     "execution_count": 6,
     "metadata": {},
     "output_type": "execute_result"
    }
   ],
   "source": [
    "tr"
   ]
  },
  {
   "cell_type": "markdown",
   "id": "45a1dc4e-9cb3-4d90-a33b-dc68a622bf68",
   "metadata": {},
   "source": [
    "Sometimes it is useful to see the covariate distributions in the two trial populations."
   ]
  },
  {
   "cell_type": "code",
   "execution_count": 7,
   "id": "8648e34a-e19e-4b3c-931e-87d921174286",
   "metadata": {},
   "outputs": [
    {
     "name": "stdout",
     "output_type": "stream",
     "text": [
      "                          self=treated, unique people count= 4921                 other=control, unique people count= 4890\n",
      "                          self                                                    other\n",
      "                          -----------------------------------------------------   -----------------------------------------------------\n",
      "                          min      0.25    med     0.75     max    mean     sd     min     0.25    med     0.75     max    mean     sd\n",
      "                          -----------------------------------------------------   -----------------------------------------------------\n",
      "                    age    18.0    30.0    41.0    56.0    85.0    43.9    17.3    18.0    30.0    41.0    56.0    85.0    44.0    17.4\n",
      "                    sbp    72.7   109.3   119.3   132.0   231.3   122.7    19.1    72.7   109.3   119.3   131.3   231.3   122.7    19.0\n",
      "                    dbp    40.0    65.3    72.0    79.3   132.0    72.4    11.1    40.0    65.3    72.0    79.3   132.0    72.3    11.1\n",
      "                    a1c     2.5     5.0     5.2     5.5    15.1     5.4     0.9     2.5     5.0     5.2     5.5    15.1     5.4     0.9\n",
      "                    hdl     8.0    40.0    48.0    59.0   151.0    50.7    15.6     8.0    40.0    48.0    59.0   151.0    50.7    15.6\n",
      "                    ldl    28.0    98.0   121.0   145.0   354.0   123.0    36.8    28.0    98.0   120.0   144.0   354.0   123.1    36.8\n",
      "                   trig    12.0    84.0   120.0   177.0  1761.0   147.2   112.0    12.0    83.0   120.0   178.0  2141.0   147.4   113.4\n",
      "                totChol    72.0   173.0   198.0   227.0   480.0   201.4    41.3    72.0   172.0   198.0   228.0   525.0   201.4    41.6\n",
      "                    bmi    14.4    23.5    26.7    31.0    67.8    27.9     6.3    14.4    23.5    26.7    31.0    67.8    27.9     6.3\n",
      "    anyPhysicalActivity     0.0     0.0     1.0     1.0     1.0     0.7     0.5     0.0     0.0     1.0     1.0     1.0     0.7     0.5\n",
      "                   afib     0.0     0.0     0.0     0.0     1.0     0.0     0.1     0.0     0.0     0.0     0.0     1.0     0.0     0.1\n",
      "                  waist    59.4    83.6    93.6   104.7   173.4    95.2    15.8    59.4    83.5    93.6   104.9   173.4    95.1    15.8\n",
      "         alcoholPerWeek     0.0     0.0     2.0     3.0     3.0     1.9     1.3     0.0     0.0     2.0     3.0     3.0     1.9     1.3\n",
      "             creatinine     0.2     0.6     0.7     0.9    11.8     0.8     0.4     0.2     0.6     0.7     0.9    11.8     0.8     0.4\n",
      "                    pvd     0.0     0.0     0.0     0.0     1.0     0.0     0.2     0.0     0.0     0.0     0.0     1.0     0.0     0.2\n",
      "                          self   other\n",
      "                          proportions\n",
      "                          -----------\n",
      "          raceEthnicity\n",
      "                      1   0.07   0.06\n",
      "                      2   0.08   0.08\n",
      "                      3   0.69   0.70\n",
      "                      4   0.11   0.11\n",
      "                      5   0.05   0.05\n",
      "              education\n",
      "                      1   0.07   0.07\n",
      "                      2   0.16   0.16\n",
      "                      3   0.25   0.25\n",
      "                      4   0.30   0.30\n",
      "                      5   0.22   0.22\n",
      "                 gender\n",
      "                      1   0.48   0.48\n",
      "                      2   0.52   0.52\n",
      "          smokingStatus\n",
      "                      0   0.53   0.53\n",
      "                      1   0.23   0.23\n",
      "                      2   0.24   0.24\n"
     ]
    }
   ],
   "source": [
    "tr.print_covariate_distributions()"
   ]
  },
  {
   "cell_type": "markdown",
   "id": "07272781-4960-4dfe-986c-9cdad3ba62f0",
   "metadata": {},
   "source": [
    "Distributions look reasonable, so now we can run the trial. The %%time command let's us know how much time running the trial will take. The sample size and the number of nWorkers you use will greatly affect the run time."
   ]
  },
  {
   "cell_type": "code",
   "execution_count": 8,
   "id": "fdd3c1d2-9dae-4039-b27b-51aa1b37ab1d",
   "metadata": {},
   "outputs": [
    {
     "name": "stderr",
     "output_type": "stream",
     "text": [
      "/Users/deligkaris.1/Library/Caches/pypoetry/virtualenvs/microsim-54NoInYP-py3.9/lib/python3.9/site-packages/numpy/core/fromnumeric.py:59: FutureWarning: 'Series.swapaxes' is deprecated and will be removed in a future version. Please use 'Series.transpose' instead.\n",
      "  return bound(*args, **kwds)\n"
     ]
    },
    {
     "name": "stdout",
     "output_type": "stream",
     "text": [
      "Trial is completed.\n",
      "CPU times: user 32.5 s, sys: 1.62 s, total: 34.1 s\n",
      "Wall time: 2min 26s\n"
     ]
    }
   ],
   "source": [
    "%%time\n",
    "tr.run()"
   ]
  },
  {
   "cell_type": "markdown",
   "id": "5528a9c2-3fc6-4b6f-ad2d-294765a00170",
   "metadata": {},
   "source": [
    "Let's see what our trial looks like now. The trial setup is identical without a surprise, but now we see that the trial has been completed."
   ]
  },
  {
   "cell_type": "code",
   "execution_count": 9,
   "id": "0facf0e3-f61f-426b-a325-2910c303d29a",
   "metadata": {},
   "outputs": [
    {
     "data": {
      "text/plain": [
       "Trial Description\n",
       "\tTrial type: 1\n",
       "\tBlock factors: []\n",
       "\tSample size: 50000\n",
       "\tDuration: 5\n",
       "\tTreatment strategies: <microsim.treatment_strategy_repository.TreatmentStrategyRepository object at 0x111e89b20>\n",
       "\tNumber of workers: 5\n",
       "\tPerson filters: \n",
       "\t None\n",
       "\tYear: 1999\n",
       "\tNHANES weights: True\n",
       "\tDistributions: False\n",
       "\tPopulation type: PopulationType.NHANES\n",
       "Trial\n",
       "\tTrial completed: True"
      ]
     },
     "execution_count": 9,
     "metadata": {},
     "output_type": "execute_result"
    }
   ],
   "source": [
    "tr"
   ]
  },
  {
   "cell_type": "markdown",
   "id": "78a86648-316d-4ee2-b761-3862c97e55ed",
   "metadata": {},
   "source": [
    "The trial has finished but we have not performed any analyses on the two trial populations yet. To do this we need to create a trial outcome assessor, which has information about how to analyze a trial. For now, we will use the default trial outcome assessor, without any modifications."
   ]
  },
  {
   "cell_type": "code",
   "execution_count": 10,
   "id": "7bb2dab9-ffae-453f-840e-7b0b1be6b252",
   "metadata": {},
   "outputs": [],
   "source": [
    "toa = TrialOutcomeAssessorFactory.get_trial_outcome_assessor()"
   ]
  },
  {
   "cell_type": "markdown",
   "id": "1d7154cd-7b09-40f8-8d41-a56bac69ba78",
   "metadata": {},
   "source": [
    "Let's see what assessments we will do."
   ]
  },
  {
   "cell_type": "code",
   "execution_count": 11,
   "id": "0c40c989-c21e-4b63-b94b-8736d48b66cb",
   "metadata": {},
   "outputs": [
    {
     "data": {
      "text/plain": [
       "Trial Outcome Assessor\n",
       "\tAssessments:\n",
       "\t\tName: death                    Analysis: logistic       \n",
       "\t\tName: anyEvent                 Analysis: logistic       \n",
       "\t\tName: vascularEventOrDeath     Analysis: logistic       \n",
       "\t\tName: vascularEvent            Analysis: logistic       \n",
       "\t\tName: qalys                    Analysis: linear         \n",
       "\t\tName: meanGCP                  Analysis: linear         \n",
       "\t\tName: lastGCP                  Analysis: linear         \n",
       "\t\tName: cogEvent                 Analysis: logistic       \n",
       "\t\tName: deathCox                 Analysis: cox            \n",
       "\t\tName: cogEventCox              Analysis: cox            \n",
       "\t\tName: vascularEventOrDeathCox  Analysis: cox            \n",
       "\t\tName: strokeRR                 Analysis: relRisk        \n",
       "\t\tName: miRR                     Analysis: relRisk        "
      ]
     },
     "execution_count": 11,
     "metadata": {},
     "output_type": "execute_result"
    }
   ],
   "source": [
    "toa"
   ]
  },
  {
   "cell_type": "markdown",
   "id": "f3b469c9-e8b9-421b-9f38-1af68ef245fe",
   "metadata": {},
   "source": [
    "Now that our assessments have been setup, we will analyze the trial populations. Note that the analyze function of a trial, requires a trial outcome assessor so that it knows what type of analyses to perform. Again, depending on the sample size, this may be a time consuming step."
   ]
  },
  {
   "cell_type": "code",
   "execution_count": 12,
   "id": "e4b7a487-a649-4d34-9276-557d159c0241",
   "metadata": {},
   "outputs": [],
   "source": [
    "tr.analyze(toa)"
   ]
  },
  {
   "cell_type": "markdown",
   "id": "e88bde05-ffcd-44a4-a409-b82ebc6e3e15",
   "metadata": {},
   "source": [
    "Finally, we can see what our trial looks like now. The results of the trial are now shown. Keep in mind the relatively small sample size we used for our two trial populations..."
   ]
  },
  {
   "cell_type": "code",
   "execution_count": 13,
   "id": "a1bd943a-c876-4a52-8185-ba9a0ee47a3d",
   "metadata": {},
   "outputs": [
    {
     "data": {
      "text/plain": [
       "Trial Description\n",
       "\tTrial type: 1\n",
       "\tBlock factors: []\n",
       "\tSample size: 50000\n",
       "\tDuration: 5\n",
       "\tTreatment strategies: <microsim.treatment_strategy_repository.TreatmentStrategyRepository object at 0x111e89b20>\n",
       "\tNumber of workers: 5\n",
       "\tPerson filters: \n",
       "\t None\n",
       "\tYear: 1999\n",
       "\tNHANES weights: True\n",
       "\tDistributions: False\n",
       "\tPopulation type: PopulationType.NHANES\n",
       "Trial\n",
       "\tTrial completed: True\n",
       "Trial results:\n",
       "\t                                         Z      Intercept           Z SE         pValue\n",
       "\t                                   relRisk    treatedRisk    controlRisk         |diff|\n",
       "\t                    death:           -0.02          -3.11           0.03           0.61\n",
       "\t                 anyEvent:           -0.03           0.84           0.01           0.04\n",
       "\t     vascularEventOrDeath:           -0.00          -2.81           0.03           0.89\n",
       "\t            vascularEvent:            0.02          -3.97           0.05           0.66\n",
       "\t                    qalys:            0.00           4.83           0.00           0.41\n",
       "\t                  meanGCP:            0.02          56.56           0.05           0.70\n",
       "\t                  lastGCP:            0.08          54.94           0.07           0.26\n",
       "\t                 cogEvent:           -0.02           0.71           0.01           0.09\n",
       "\t                 deathCox:           -0.02                          0.03           0.60\n",
       "\t              cogEventCox:           -0.01                          0.01           0.16\n",
       "\t  vascularEventOrDeathCox:           -0.00                          0.03           0.89\n",
       "\t                 strokeRR:            1.10           0.01           0.01           0.00\n",
       "\t                     miRR:            0.98           0.01           0.01           0.00"
      ]
     },
     "execution_count": 13,
     "metadata": {},
     "output_type": "execute_result"
    }
   ],
   "source": [
    "tr"
   ]
  },
  {
   "cell_type": "markdown",
   "id": "df908def-db2b-438e-a47c-f0304999072f",
   "metadata": {},
   "source": [
    "Some things you can try on your own...."
   ]
  },
  {
   "cell_type": "markdown",
   "id": "cc26fa15-ea98-4e87-b672-dbd356f8c2bb",
   "metadata": {},
   "source": [
    "Use inclusion/exclusion filters:"
   ]
  },
  {
   "cell_type": "code",
   "execution_count": 14,
   "id": "bb3c612a-9baf-4384-80db-f29d3c656766",
   "metadata": {},
   "outputs": [
    {
     "data": {
      "text/plain": [
       "Person Filters:\n",
       "\t    filter type   filter name    \n",
       "\t             df   lowSBPLimit    \n",
       "\t             df   lowDBPLimit    \n",
       "\t             df   highAntiHypertensivesLimit\n",
       "\t         person   highDemAndCVLimit"
      ]
     },
     "execution_count": 14,
     "metadata": {},
     "output_type": "execute_result"
    }
   ],
   "source": [
    "pf = PersonFilterFactory.get_person_filter(addCommonFilters=True)\n",
    "pf"
   ]
  },
  {
   "cell_type": "markdown",
   "id": "09eac13c-8f94-473e-8ba0-dbf21b4491d0",
   "metadata": {},
   "source": [
    "Use different trial type:"
   ]
  },
  {
   "cell_type": "code",
   "execution_count": 15,
   "id": "c7a807f9-e3be-4e63-a41f-b8ef180ea94a",
   "metadata": {},
   "outputs": [],
   "source": [
    "trialType = TrialType.COMPLETELY_RANDOMIZED_IN_BLOCKS\n",
    "#or\n",
    "trialType = TrialType.NON_RANDOMIZED"
   ]
  },
  {
   "cell_type": "markdown",
   "id": "b9f38bdb-4944-40e4-b37e-1aa5e8cea545",
   "metadata": {},
   "source": [
    "Use a block factor (for now just one is allowed):"
   ]
  },
  {
   "cell_type": "code",
   "execution_count": 16,
   "id": "a12f3e4f-d9b0-4721-8142-3c327a72a668",
   "metadata": {},
   "outputs": [],
   "source": [
    "blockFactors = [StaticRiskFactorsType.GENDER.value] \n",
    "#or\n",
    "blockFactors = [DynamicRiskFactorsType.AGE.value]"
   ]
  },
  {
   "cell_type": "markdown",
   "id": "59176710-7e7f-44cc-b1bb-44e89eb578a6",
   "metadata": {},
   "source": [
    "Use a different treatment strategy on the treated population:"
   ]
  },
  {
   "cell_type": "code",
   "execution_count": 17,
   "id": "49850255-39c4-41ba-8166-95c05ddfce98",
   "metadata": {},
   "outputs": [],
   "source": [
    "treatmentStrategies = \"1bpMedsAdded\"\n",
    "#or\n",
    "treatmentStrategies = \"toGoal120\"\n",
    "#or\n",
    "treatmentStrategies = \"sprint\""
   ]
  },
  {
   "cell_type": "code",
   "execution_count": null,
   "id": "d6e4835a-c380-49ca-9d74-ad4daac1f11f",
   "metadata": {},
   "outputs": [],
   "source": []
  }
 ],
 "metadata": {
  "kernelspec": {
   "display_name": "microsimKernel",
   "language": "python",
   "name": "microsimkernel"
  },
  "language_info": {
   "codemirror_mode": {
    "name": "ipython",
    "version": 3
   },
   "file_extension": ".py",
   "mimetype": "text/x-python",
   "name": "python",
   "nbconvert_exporter": "python",
   "pygments_lexer": "ipython3",
   "version": "3.9.13"
  }
 },
 "nbformat": 4,
 "nbformat_minor": 5
}
