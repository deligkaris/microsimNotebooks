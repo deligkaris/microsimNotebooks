{
 "cells": [
  {
   "cell_type": "markdown",
   "id": "14bf76bc-6c05-4795-b850-042769e510a6",
   "metadata": {},
   "source": [
    "### In this notebook I continued the effort of finding an improved afib model, given the coefficients...in this notebook I tried using a logistic risk factor model, and a logistic risk factor model, given the coefficients does not produce meaningful results."
   ]
  },
  {
   "cell_type": "code",
   "execution_count": 1,
   "id": "e57b1a54-dfec-4fb1-b477-c0fedb1fb169",
   "metadata": {},
   "outputs": [],
   "source": [
    "import os\n",
    "import pandas as pd\n",
    "pd.set_option('display.max_columns', None)\n",
    "pd.set_option('display.max_rows', None)\n",
    "from pandarallel import pandarallel\n",
    "import numpy as np\n",
    "import matplotlib.pyplot as plt\n",
    "import importlib.util"
   ]
  },
  {
   "cell_type": "code",
   "execution_count": 13,
   "id": "b12b5c99-6aa8-4ed9-aceb-684a21981884",
   "metadata": {},
   "outputs": [],
   "source": [
    "from microsim.data_loader import load_model_spec, load_regression_model\n",
    "from microsim.population import NHANESDirectSamplePopulation, initializeAFib\n",
    "from microsim.sim_settings import simSettings\n",
    "from microsim.statsmodel_logistic_risk_factor_model import StatsModelLogisticRiskFactorModel\n",
    "from microsim.cohort_risk_model_repository import CohortRiskModelRepository\n",
    "from microsim.stats_model_linear_probability_risk_factor_model import (StatsModelLinearProbabilityRiskFactorModel)\n",
    "from microsim.statsmodel_linear_risk_factor_model import StatsModelLinearRiskFactorModel\n",
    "from microsim.statsmodel_logistic_risk_factor_model import StatsModelLogisticRiskFactorModel"
   ]
  },
  {
   "cell_type": "code",
   "execution_count": 3,
   "id": "8f39bbbf-6b7e-42fb-a55f-623f1268cb92",
   "metadata": {},
   "outputs": [],
   "source": [
    "pandarallel.initialize(verbose=1) #microsim by default now does not initialize pandarallel\n",
    "simSettings.pandarallelFlag = True #with this flag all new population instances will be set to use pandarallel\n",
    "\n",
    "seedSequence = np.random.SeedSequence()\n",
    "rngStream = np.random.default_rng(seed=seedSequence)\n",
    "\n",
    "microsimDir = \"/Users/deligkaris.1/OneDrive - The Ohio State University Wexner Medical Center/MICROSIM/CODE/microsim\"\n",
    "os.chdir(microsimDir)"
   ]
  },
  {
   "cell_type": "code",
   "execution_count": 16,
   "id": "f852e80c-593a-43e7-9563-c01f18fe2437",
   "metadata": {},
   "outputs": [],
   "source": [
    "gbdData=pd.read_csv(\"/Users/deligkaris.1/OneDrive - The Ohio State University Wexner Medical Center/MICROSIM/NOTEBOOKS/DATA/IHME-GBD_2019_DATA-afib/IHME-GBD_2019_DATA-8086e0fc-1.csv\")\n",
    "#gbdData.head(3)"
   ]
  },
  {
   "cell_type": "code",
   "execution_count": 17,
   "id": "2968e3fa-c70a-46fa-8a61-922ad183894f",
   "metadata": {},
   "outputs": [],
   "source": [
    "#the reference afib data will be based on the 2019 US GBD data\n",
    "afibRef = gbdData.loc[ \n",
    "    (gbdData[\"metric_name\"]==\"Percent\") & (gbdData[\"age_id\"].isin([16,17,18,19,20,30,31,32,235]))\n",
    "    ,[\"val\"]][\"val\"].tolist()\n",
    "#afibRef"
   ]
  },
  {
   "cell_type": "code",
   "execution_count": 8,
   "id": "64964f7e-727b-409c-aca5-54606f5a4fd1",
   "metadata": {},
   "outputs": [],
   "source": [
    "popSize = 500000\n",
    "pop = NHANESDirectSamplePopulation(popSize, 2017, rng=rngStream)"
   ]
  },
  {
   "cell_type": "code",
   "execution_count": 9,
   "id": "1f2c2f24-1974-4ab5-9926-79a72e89b466",
   "metadata": {},
   "outputs": [
    {
     "name": "stdout",
     "output_type": "stream",
     "text": [
      "100000\n",
      "200000\n",
      "300000\n",
      "400000\n",
      "500000\n"
     ]
    },
    {
     "data": {
      "image/png": "[encoded data removed]",
      "text/plain": [
       "<Figure size 640x480 with 1 Axes>"
      ]
     },
     "metadata": {},
     "output_type": "display_data"
    }
   ],
   "source": [
    "#do the bin counting for the baseline model\n",
    "ageList = list()\n",
    "afibList = list()\n",
    "for p in pop._people.iloc[:]:\n",
    "    ageList +=  p._age\n",
    "    afibList += p._afib \n",
    "    pDone = len(ageList)\n",
    "    if pDone%100000==0:\n",
    "        print(pDone)\n",
    "        \n",
    "baseAfib = pd.DataFrame(list(zip(ageList,afibList)), columns=[\"age\",\"afib\"])\n",
    "baseAfib[\"age\"]=baseAfib[\"age\"].astype('int')\n",
    "baseAfib[\"ageInterval\"] = pd.cut(baseAfib[\"age\"], bins=[10,55,60,65,70,75,80,85,90,95,100],right=False)\n",
    "\n",
    "baseAfibMeansByAgeGroup = baseAfib.groupby(\"ageInterval\").agg({'afib' : 'mean'})\n",
    "baseAfibMeansByAgeGroup[\"labels\"] = [f\"[{x.left}, {x.right})\" for x in  baseAfibMeansByAgeGroup.index.array]\n",
    "\n",
    "labels = baseAfibMeansByAgeGroup[\"labels\"].values.tolist()[1:]\n",
    "values = [x[0] for x in baseAfibMeansByAgeGroup.values[1:]]\n",
    "#reference = [afibRef[i] for i in range(len(labels)) if ~np.isnan(values[i])]\n",
    "\n",
    "fig, ax = plt.subplots()\n",
    "ax.bar(labels, values)\n",
    "plt.xlabel(\"age group\")\n",
    "plt.ylabel(\"mean afib risk\")\n",
    "plt.title(\"nhanes baseline afib model\")\n",
    "plt.show()"
   ]
  },
  {
   "cell_type": "code",
   "execution_count": 12,
   "id": "bbd833ab-19b7-4459-9375-d566bba04792",
   "metadata": {},
   "outputs": [],
   "source": [
    "#we will do this now for the cohort afib model\n",
    "#the difference is that now we need to advance the population and use the data from all person-years\n",
    "module = importlib.import_module(\"microsim.cohort_risk_model_repository\")\n",
    "\n",
    "intercept = load_regression_model(\"afibCohortModel\")._coefficients[\"Intercept\"]\n",
    "interceptStep = 0.25\n",
    "interceptChange = 0"
   ]
  },
  {
   "cell_type": "code",
   "execution_count": 14,
   "id": "782460da-947e-4b72-b462-c91824e4078d",
   "metadata": {},
   "outputs": [],
   "source": [
    "#try perhaps a custom model\n",
    "\n",
    "class StatsAfibModel(StatsModelLogisticRiskFactorModel):\n",
    "    def __init__(self, regression_model):\n",
    "        super().__init__(regression_model, False)\n",
    "\n",
    "    def estimate_next_risk(self, person, rng=None):\n",
    "        #rng = np.random.default_rng(rng)\n",
    "        linearRisk = super().estimate_next_risk(\n",
    "            person\n",
    "        )\n",
    "        #riskWithResidual = linearRisk + self.draw_from_residual_distribution(rng)\n",
    "        #return rng.uniform() < riskWithResidual \n",
    "        return rng.uniform() < linearRisk\n",
    "\n",
    "    def estimate_next_risk_vectorized(self, x, rng=None):\n",
    "        #rng = np.random.default_rng(rng)\n",
    "        linearRisk = super().estimate_next_risk_vectorized(x)\n",
    "        #riskWithResidual = linearRisk + self.draw_from_residual_distribution(rng)\n",
    "        #return rng.uniform()  < riskWithResidual \n",
    "        return rng.uniform() < linearRisk"
   ]
  },
  {
   "cell_type": "code",
   "execution_count": 15,
   "id": "8f067ec2-6d96-48a8-8f66-b8c118c7ddee",
   "metadata": {},
   "outputs": [],
   "source": [
    "def _initialize_linear_probability_risk_model(self, referenceName, modelName, intercept=intercept):\n",
    "    model = load_regression_model(modelName)\n",
    "    if (referenceName==\"afib\"):\n",
    "        model._coefficients[\"Intercept\"] = intercept\n",
    "        self._repository[referenceName] = StatsAfibModel(model)   #try the custom model\n",
    "        #self._repository[referenceName] = StatsModelLinearProbabilityRiskFactorModel(model) #or the default model\n",
    "        #print(\"intercept = \", intercept)\n",
    "    else:\n",
    "        self._repository[referenceName] = StatsModelLinearProbabilityRiskFactorModel(model)\n",
    "    #self._repository[referenceName] = StatsModelLinearProbabilityRiskFactorModel(model)\n",
    "\n",
    "CohortRiskModelRepository._initialize_linear_probability_risk_model = _initialize_linear_probability_risk_model\n",
    "setattr(module, \"CohortRiskModelRepository\", CohortRiskModelRepository)\n",
    "from microsim.cohort_risk_model_repository import CohortRiskModelRepository"
   ]
  },
  {
   "cell_type": "code",
   "execution_count": 22,
   "id": "6d6dbde4-b6f8-42b9-8613-f38d7d49979c",
   "metadata": {},
   "outputs": [],
   "source": [
    "popSize = 1000"
   ]
  },
  {
   "cell_type": "code",
   "execution_count": 23,
   "id": "49ad2507-dfb3-4867-ab8a-f24112e6c035",
   "metadata": {},
   "outputs": [
    {
     "data": {
      "image/png": "[encoded data removed]",
      "text/plain": [
       "<Figure size 640x480 with 1 Axes>"
      ]
     },
     "metadata": {},
     "output_type": "display_data"
    }
   ],
   "source": [
    "pop = NHANESDirectSamplePopulation(popSize, 2017, rng=rngStream)\n",
    "alive, dead = pop.advance_vectorized(150,rng=rngStream)\n",
    "\n",
    "ageList = list()\n",
    "afibList = list()\n",
    "for p in pop._people.iloc[:]:\n",
    "    ageList +=  p._age[1:]\n",
    "    afibList += p._afib[1:-1] \n",
    "    #pDone = len(ageList)\n",
    "    #if pDone%100000==0:\n",
    "     #   print(pDone)\n",
    "        \n",
    "cohortAfib = pd.DataFrame(list(zip(ageList, afibList)), columns =['age', 'afib'])\n",
    "cohortAfib[\"afib\"]=cohortAfib[\"afib\"].astype('int')\n",
    "cohortAfib[\"age\"]=cohortAfib[\"age\"].astype('int')\n",
    "\n",
    "cohortAfib[\"ageInterval\"] = pd.cut(cohortAfib[\"age\"], bins=[10,55,60,65,70,75,80,85,90,95,100],right=False)\n",
    "cohortAfibMeansByAgeGroup = cohortAfib.groupby(\"ageInterval\").agg({'afib' : 'mean'})\n",
    "cohortAfibMeansByAgeGroup[\"labels\"] = [f\"[{x.left}, {x.right})\" for x in  cohortAfibMeansByAgeGroup.index.array]\n",
    "\n",
    "labels = cohortAfibMeansByAgeGroup[\"labels\"].values.tolist()[1:]\n",
    "values = [x[0] for x in cohortAfibMeansByAgeGroup.values[1:]]\n",
    "reference = [afibRef[i] for i in range(len(labels)) if ~np.isnan(values[i])]\n",
    "\n",
    "fig, ax = plt.subplots()\n",
    "ax.bar(labels, values)\n",
    "for i in range(len(reference)):\n",
    "    ax.scatter(labels[i],reference[i],color=\"black\")\n",
    "plt.xlabel(\"age group\")\n",
    "plt.ylabel(\"mean afib risk\")\n",
    "plt.title(\"nhanes cohort afib model\")\n",
    "plt.show()"
   ]
  },
  {
   "cell_type": "code",
   "execution_count": 24,
   "id": "6846d170-a325-449a-a73b-0a4d182ba21f",
   "metadata": {},
   "outputs": [],
   "source": [
    "#find how far off we are from the GBD prevalence\n",
    "afibSim = cohortAfibMeansByAgeGroup.iloc[1:][\"afib\"].tolist()\n",
    "afibDiff = [x-y for x,y in zip(afibRef,afibSim)]\n",
    "#afibDiffWeighted = [x*y for x,y in zip(afibRef,afibDiff)]\n",
    "#afibDiffWeighted = [y/x for x,y in zip(afibRef,afibDiff)]\n",
    "afibDiffWeighted = [1*y for x,y in zip(afibRef,afibDiff)]\n",
    "afibDiffWeighted = list(filter(lambda x: ~np.isnan(x), afibDiffWeighted))\n",
    "afibDiffWeightedSum = sum( afibDiffWeighted)\n",
    "\n",
    "#define the change in the model intercept based on the difference\n",
    "if (afibDiffWeightedSum>0.):\n",
    "    interceptChange += interceptStep\n",
    "else:\n",
    "    interceptChange += -interceptStep"
   ]
  },
  {
   "cell_type": "code",
   "execution_count": 25,
   "id": "f8526782-3d02-483c-bf11-0d76a3542d17",
   "metadata": {},
   "outputs": [
    {
     "name": "stdout",
     "output_type": "stream",
     "text": [
      "run= 0 intercept= 0.006808684735369566 step= 0.25 change= -0.5\n",
      "run= 1 intercept= -0.49319131526463045 step= 0.25 change= -0.25\n",
      "run= 2 intercept= -0.7431913152646304 step= 0.25 change= -0.25\n",
      "run= 3 intercept= -0.9931913152646304 step= 0.25 change= -0.25\n",
      "run= 4 intercept= -1.2431913152646303 step= 0.25 change= -0.25\n",
      "run= 5 intercept= -1.4931913152646303 step= 0.25 change= -0.25\n",
      "run= 6 intercept= -1.7431913152646303 step= 0.25 change= -0.25\n",
      "run= 7 intercept= -1.9931913152646303 step= 0.25 change= -0.25\n",
      "run= 8 intercept= -2.2431913152646303 step= 0.125 change= 0.125\n",
      "run= 9 intercept= -2.1181913152646303 step= 0.125 change= 0.125\n"
     ]
    }
   ],
   "source": [
    "for run in range(0,10):\n",
    "\n",
    "    #if (run%10==0):\n",
    "    print(f\"run= {run} intercept= {intercept} step= {interceptStep} change= {interceptChange}\")\n",
    "    intercept += interceptChange\n",
    "    \n",
    "    def _initialize_linear_probability_risk_model(self, referenceName, modelName, intercept=intercept):\n",
    "        model = load_regression_model(modelName)\n",
    "        if (referenceName==\"afib\"):\n",
    "            model._coefficients[\"Intercept\"] = intercept\n",
    "            self._repository[referenceName] = StatsAfibModel(model) #use the custom model\n",
    "            #print(\"intercept = \", intercept)\n",
    "        else:\n",
    "            self._repository[referenceName] = StatsModelLinearProbabilityRiskFactorModel(model) #and the default model for all else\n",
    "        #self._repository[referenceName] = StatsModelLinearProbabilityRiskFactorModel(model) #or just use the default for all\n",
    "\n",
    "    CohortRiskModelRepository._initialize_linear_probability_risk_model = _initialize_linear_probability_risk_model\n",
    "    setattr(module, \"CohortRiskModelRepository\", CohortRiskModelRepository)\n",
    "    from microsim.cohort_risk_model_repository import CohortRiskModelRepository\n",
    "    \n",
    "    pop = NHANESDirectSamplePopulation(popSize, 2017, rng=rngStream)\n",
    "    alive, dead = pop.advance_vectorized(150,rng=rngStream)\n",
    "\n",
    "    ageList = list()\n",
    "    afibList = list()\n",
    "    for p in pop._people.iloc[:]:\n",
    "        ageList +=  p._age[1:]\n",
    "        afibList += p._afib[1:-1] \n",
    "        #pDone = len(ageList)\n",
    "        #if pDone%100000==0:\n",
    "         #   print(pDone)\n",
    "        \n",
    "    cohortAfib = pd.DataFrame(list(zip(ageList, afibList)), columns =['age', 'afib'])\n",
    "    cohortAfib[\"afib\"]=cohortAfib[\"afib\"].astype('int')\n",
    "    cohortAfib[\"age\"]=cohortAfib[\"age\"].astype('int')\n",
    "\n",
    "    cohortAfib[\"ageInterval\"] = pd.cut(cohortAfib[\"age\"], bins=[10,55,60,65,70,75,80,85,90,95,100],right=False)\n",
    "    cohortAfibMeansByAgeGroup = cohortAfib.groupby(\"ageInterval\").agg({'afib' : 'mean'})\n",
    "    cohortAfibMeansByAgeGroup[\"labels\"] = [f\"[{x.left}, {x.right})\" for x in  cohortAfibMeansByAgeGroup.index.array]\n",
    "\n",
    "    afibSim = cohortAfibMeansByAgeGroup.iloc[1:][\"afib\"].tolist()\n",
    "    afibDiff = [x-y for x,y in zip(afibRef,afibSim)]\n",
    "    #afibDiffWeighted = [x*y for x,y in zip(afibRef,afibDiff)] #weight according to number of cases\n",
    "    afibDiffWeighted = [1*y for x,y in zip(afibRef,afibDiff)] #or all equally\n",
    "    #afibDiffWeighted = [y/x for x,y in zip(afibRef,afibDiff)]\n",
    "    afibDiffWeighted = list(filter(lambda x: ~np.isnan(x), afibDiffWeighted))\n",
    "    afibDiffWeightedSumOld = afibDiffWeightedSum\n",
    "    afibDiffWeightedSum = sum( afibDiffWeighted)\n",
    "\n",
    "    if (afibDiffWeightedSum*afibDiffWeightedSumOld<0) :\n",
    "        interceptStep = interceptStep/2\n",
    "    if (afibDiffWeightedSum>0.):\n",
    "        interceptChange = interceptStep\n",
    "    else:\n",
    "        interceptChange = -interceptStep"
   ]
  },
  {
   "cell_type": "code",
   "execution_count": 41,
   "id": "42d913a7-a35a-47a9-bc53-c406cfb6e6ca",
   "metadata": {},
   "outputs": [
    {
     "data": {
      "text/plain": [
       "-1.99319131526463"
      ]
     },
     "execution_count": 41,
     "metadata": {},
     "output_type": "execute_result"
    }
   ],
   "source": [
    "#intercept += interceptChange\n",
    "intercept = -2.118191315264630 + 0.125\n",
    "intercept"
   ]
  },
  {
   "cell_type": "code",
   "execution_count": 42,
   "id": "82c3fc0c-dcc1-4332-9759-fc31ed9a36a7",
   "metadata": {},
   "outputs": [],
   "source": [
    "def _initialize_linear_probability_risk_model(self, referenceName, modelName, intercept=intercept):\n",
    "        model = load_regression_model(modelName)\n",
    "        if (referenceName==\"afib\"):\n",
    "            model._coefficients[\"Intercept\"] = intercept\n",
    "            self._repository[referenceName] = StatsAfibModel(model)\n",
    "            #print(\"intercept = \", intercept)\n",
    "        else:\n",
    "            self._repository[referenceName] = StatsModelLinearProbabilityRiskFactorModel(model)\n",
    "        #self._repository[referenceName] = StatsModelLinearProbabilityRiskFactorModel(model)\n",
    "\n",
    "CohortRiskModelRepository._initialize_linear_probability_risk_model = _initialize_linear_probability_risk_model\n",
    "setattr(module, \"CohortRiskModelRepository\", CohortRiskModelRepository)\n",
    "from microsim.cohort_risk_model_repository import CohortRiskModelRepository\n",
    "    \n",
    "pop = NHANESDirectSamplePopulation(popSize, 2017, rng=rngStream)\n",
    "alive, dead = pop.advance_vectorized(150,rng=rngStream)\n",
    "\n",
    "ageList = list()\n",
    "afibList = list()\n",
    "for p in pop._people.iloc[:]:\n",
    "    ageList +=  p._age[1:]\n",
    "    afibList += p._afib[1:-1] \n",
    "    #pDone = len(ageList)\n",
    "    #if pDone%100000==0:\n",
    "        #   print(pDone)\n",
    "        \n",
    "cohortAfib = pd.DataFrame(list(zip(ageList, afibList)), columns =['age', 'afib'])\n",
    "cohortAfib[\"afib\"]=cohortAfib[\"afib\"].astype('int')\n",
    "cohortAfib[\"age\"]=cohortAfib[\"age\"].astype('int')\n",
    "\n",
    "cohortAfib[\"ageInterval\"] = pd.cut(cohortAfib[\"age\"], bins=[10,55,60,65,70,75,80,85,90,95,100],right=False)\n",
    "cohortAfibMeansByAgeGroup = cohortAfib.groupby(\"ageInterval\").agg({'afib' : 'mean'})\n",
    "cohortAfibMeansByAgeGroup[\"labels\"] = [f\"[{x.left}, {x.right})\" for x in  cohortAfibMeansByAgeGroup.index.array]"
   ]
  },
  {
   "cell_type": "code",
   "execution_count": 43,
   "id": "78bac1bd-21e7-46fd-9512-1193fb7e22d4",
   "metadata": {},
   "outputs": [
    {
     "data": {
      "image/png": "[encoded data removed]",
      "text/plain": [
       "<Figure size 640x480 with 1 Axes>"
      ]
     },
     "metadata": {},
     "output_type": "display_data"
    }
   ],
   "source": [
    "labels = cohortAfibMeansByAgeGroup[\"labels\"].values.tolist()[1:]\n",
    "values = [x[0] for x in cohortAfibMeansByAgeGroup.values[1:]]\n",
    "reference = [afibRef[i] for i in range(len(labels)) if ~np.isnan(values[i])]\n",
    "\n",
    "fig, ax = plt.subplots()\n",
    "ax.bar(labels, values)\n",
    "for i in range(len(reference)):\n",
    "    ax.scatter(labels[i],reference[i],color=\"black\")\n",
    "plt.xlabel(\"age group\")\n",
    "plt.ylabel(\"mean afib risk\")\n",
    "plt.title(\"nhanes cohort afib model\")\n",
    "plt.show()"
   ]
  },
  {
   "cell_type": "code",
   "execution_count": null,
   "id": "a44854b6-bbea-4513-966e-ef2bd5d45e20",
   "metadata": {},
   "outputs": [],
   "source": []
  }
 ],
 "metadata": {
  "kernelspec": {
   "display_name": "microsimKernel",
   "language": "python",
   "name": "microsimkernel"
  },
  "language_info": {
   "codemirror_mode": {
    "name": "ipython",
    "version": 3
   },
   "file_extension": ".py",
   "mimetype": "text/x-python",
   "name": "python",
   "nbconvert_exporter": "python",
   "pygments_lexer": "ipython3",
   "version": "3.9.13"
  }
 },
 "nbformat": 4,
 "nbformat_minor": 5
}
