{
 "cells": [
  {
   "cell_type": "code",
   "execution_count": 1,
   "id": "f3c60e86-ab83-4aa9-be61-708cb5c9e1b4",
   "metadata": {},
   "outputs": [],
   "source": [
    "import os\n",
    "import copy\n",
    "import pandas as pd\n",
    "pd.set_option('display.max_columns', None)\n",
    "pd.set_option('display.max_rows', None)\n",
    "from pandarallel import pandarallel\n",
    "import numpy as np\n",
    "import matplotlib.pyplot as plt\n",
    "\n",
    "from microsim.population import NHANESDirectSamplePopulation\n",
    "\n",
    "microsimDir = \"/Users/deligkaris.1/OneDrive - The Ohio State University Wexner Medical Center/MICROSIM/CODE/microsim\"\n",
    "os.chdir(microsimDir)\n",
    "\n",
    "import time\n",
    "\n",
    "timeI = time.time()\n",
    "\n",
    "popSize = 600000\n",
    "nYears = 5"
   ]
  },
  {
   "cell_type": "code",
   "execution_count": 2,
   "id": "6472cca7-585e-4213-bdc9-e29764eb6478",
   "metadata": {},
   "outputs": [
    {
     "name": "stdout",
     "output_type": "stream",
     "text": [
      "CPU times: user 3min 44s, sys: 1.27 s, total: 3min 46s\n",
      "Wall time: 3min 45s\n"
     ]
    }
   ],
   "source": [
    "%%time\n",
    "#35min for 200k\n",
    "from microsim.treatment_strategy_repository import TreatmentStrategyRepository\n",
    "from microsim.bp_treatment_strategies import AddASingleBPMedTreatmentStrategy\n",
    "from microsim.treatment import TreatmentStrategiesType\n",
    "from microsim.outcome import OutcomeType\n",
    "\n",
    "controlPop = NHANESDirectSamplePopulation(popSize, 1999)\n",
    "\n",
    "treatmentStrategies = TreatmentStrategyRepository()\n",
    "treatmentStrategies._repository[TreatmentStrategiesType.BP.value] = AddASingleBPMedTreatmentStrategy()"
   ]
  },
  {
   "cell_type": "code",
   "execution_count": 3,
   "id": "4d6d682f-f961-4337-b428-3726731b857f",
   "metadata": {},
   "outputs": [
    {
     "name": "stdout",
     "output_type": "stream",
     "text": [
      "CPU times: user 2min, sys: 1min 53s, total: 3min 54s\n",
      "Wall time: 16min 54s\n"
     ]
    }
   ],
   "source": [
    "%%time\n",
    "controlPop.advance_parallel(nYears, None, 5)"
   ]
  },
  {
   "cell_type": "code",
   "execution_count": 4,
   "id": "340dbf64-a4c9-4777-95b0-cfd9b12831ba",
   "metadata": {},
   "outputs": [
    {
     "name": "stdout",
     "output_type": "stream",
     "text": [
      "CPU times: user 4min 22s, sys: 10.8 s, total: 4min 33s\n",
      "Wall time: 4min 35s\n"
     ]
    }
   ],
   "source": [
    "%%time\n",
    "treatmentPop = NHANESDirectSamplePopulation(popSize, 1999)"
   ]
  },
  {
   "cell_type": "code",
   "execution_count": 5,
   "id": "c6d7074a-521a-4753-baef-79efe3e43d1b",
   "metadata": {},
   "outputs": [
    {
     "name": "stdout",
     "output_type": "stream",
     "text": [
      "CPU times: user 2min 46s, sys: 9min 26s, total: 12min 13s\n",
      "Wall time: 28min 32s\n"
     ]
    }
   ],
   "source": [
    "%%time\n",
    "treatmentPop.advance_parallel(nYears, treatmentStrategies = treatmentStrategies, nWorkers=5)"
   ]
  },
  {
   "cell_type": "code",
   "execution_count": 6,
   "id": "63ff91d0-db70-4236-aee1-7d7e1c8e6897",
   "metadata": {},
   "outputs": [],
   "source": [
    "controlRisk = sum(list(map(lambda x: x.has_outcome_during_simulation(OutcomeType.STROKE), \n",
    "                           controlPop._people)))/controlPop._n\n",
    "treatmentRisk = sum(list(map(lambda x: x.has_outcome_during_simulation(OutcomeType.STROKE), \n",
    "                             treatmentPop._people)))/treatmentPop._n\n",
    "strokeRR = treatmentRisk/controlRisk"
   ]
  },
  {
   "cell_type": "code",
   "execution_count": 7,
   "id": "1978cbd7-17e2-4de4-b4ce-c6ca4c1d6d39",
   "metadata": {},
   "outputs": [
    {
     "data": {
      "text/plain": [
       "0.8923691402144207"
      ]
     },
     "execution_count": 7,
     "metadata": {},
     "output_type": "execute_result"
    }
   ],
   "source": [
    "strokeRR"
   ]
  },
  {
   "cell_type": "code",
   "execution_count": 8,
   "id": "0efcf283-7618-483f-94fa-a75c518d9c4b",
   "metadata": {},
   "outputs": [],
   "source": [
    "from microsim.cv_model import CVModelBase\n",
    "import importlib.util\n",
    "module = importlib.import_module(\"microsim.cv_model_repository\")"
   ]
  },
  {
   "cell_type": "code",
   "execution_count": 9,
   "id": "7341885d-9ea2-4fda-903c-cd77f57faeef",
   "metadata": {},
   "outputs": [],
   "source": [
    "interceptStep = 0.5\n",
    "interceptChange = 0\n",
    "interceptMale = -11.679980\n",
    "interceptFemale = -12.823110\n",
    "strokeRRRef = 0.79"
   ]
  },
  {
   "cell_type": "code",
   "execution_count": 10,
   "id": "9e87ff04-af34-4e93-88c0-6d93a8ef738d",
   "metadata": {},
   "outputs": [
    {
     "name": "stdout",
     "output_type": "stream",
     "text": [
      "-12.17998 -13.32311 0.5 -0.5 0.10236914021442067 0.8923691402144207\n",
      "-11.92998 -13.07311 0.25 0.25 -0.21127391212949354 0.5787260878705065\n",
      "-11.67998 -12.82311 0.25 0.25 -0.04856632331301247 0.7414336766869876\n",
      "-11.80498 -12.94811 0.125 -0.125 0.11813537944082386 0.9081353794408239\n",
      "-11.92998 -13.07311 0.125 -0.125 0.02206642842127382 0.8120664284212739\n",
      "-11.86748 -13.01061 0.0625 0.0625 -0.022079041412655154 0.7679209585873449\n",
      "-11.80498 -12.94811 0.0625 0.0625 -0.03364095017868418 0.7563590498213159\n",
      "-11.83623 -12.97936 0.03125 -0.03125 0.03173638848013438 0.8217363884801344\n",
      "-11.820605 -12.963735 0.015625 0.015625 -0.004631070002102278 0.7853689299978978\n",
      "-11.8284175 -12.9715475 0.0078125 -0.0078125 0.039514399831826585 0.8295143998318266\n",
      "-11.83623 -12.97936 0.0078125 -0.0078125 0.020384696237124134 0.8103846962371242\n",
      "-11.8440425 -12.9871725 0.0078125 -0.0078125 0.005459323102795843 0.7954593231027959\n",
      "-11.851855 -12.994985 0.0078125 -0.0078125 0.010294303132226124 0.8002943031322262\n",
      "-11.84794875 -12.99107875 0.00390625 0.00390625 -0.007784317847382871 0.7822156821526172\n",
      "-11.849901875 -12.993031875 0.001953125 -0.001953125 0.030264872819003474 0.8202648728190035\n",
      "-11.8489253125 -12.9920553125 0.0009765625 0.0009765625 -0.021238175320580366 0.7687618246794197\n",
      "-11.84794875 -12.99107875 0.0009765625 0.0009765625 -0.016192978768131305 0.7738070212318687\n",
      "-11.8469721875 -12.9901021875 0.0009765625 0.0009765625 -0.005471936094177177 0.7845280639058229\n",
      "-11.845995625 -12.989125625 0.0009765625 0.0009765625 -0.010517132646626126 0.7794828673533739\n",
      "-11.84648390625 -12.98961390625 0.00048828125 -0.00048828125 0.01176581879335703 0.8017658187933571\n"
     ]
    }
   ],
   "source": [
    "for i in range(20):\n",
    "\n",
    "    strokeRRDiff = strokeRR-strokeRRRef\n",
    "    if strokeRRDiff>0:\n",
    "        interceptChange = -interceptStep\n",
    "    else:\n",
    "        interceptChange= interceptStep\n",
    "    interceptMale += interceptChange\n",
    "    interceptFemale += interceptChange\n",
    "\n",
    "    print(interceptMale, interceptFemale, interceptStep, interceptChange, strokeRRDiff, strokeRR)    \n",
    "    \n",
    "    class CVModelMale(CVModelBase):\n",
    "        \"\"\"CV model details for male gender.\"\"\"\n",
    "        def __init__(self):\n",
    "            maleCVCoefficients = {\n",
    "            \"lagAge\": 0.064200,\n",
    "            \"black\": 0.482835,\n",
    "            \"lagSbp#lagSbp\": -0.000061,\n",
    "            \"lagSbp\": 0.038950,\n",
    "            \"current_bp_treatment\": 2.055533,\n",
    "            \"current_diabetes\": 0.842209,\n",
    "            \"current_smoker\": 0.895589,\n",
    "            \"lagAge#black\": 0,\n",
    "            \"lagSbp#current_bp_treatment\": -0.014207,\n",
    "            \"lagSbp#black\": 0.011609,\n",
    "            \"black#current_bp_treatment\": -0.119460,\n",
    "            \"lagAge#lagSbp\": 0.000025,\n",
    "            \"black#current_diabetes\": -0.077214,\n",
    "            \"black#current_smoker\": -0.226771,\n",
    "            \"lagSbp#black#current_bp_treatment\": 0.004190,\n",
    "            \"lagAge#lagSbp#black\": -0.000199,\n",
    "            \"Intercept\": interceptMale,\n",
    "            }\n",
    "            tot_chol_hdl_ratio=0.193307\n",
    "            black_race_x_tot_chol_hdl_ratio=-0.117749\n",
    "            super().__init__(maleCVCoefficients, tot_chol_hdl_ratio, black_race_x_tot_chol_hdl_ratio)\n",
    "\n",
    "    class CVModelFemale(CVModelBase):\n",
    "        \"\"\"CV model details for female gender.\"\"\"\n",
    "        def __init__(self):\n",
    "            femaleCVCoefficients = {\n",
    "            \"lagAge\": 0.106501,\n",
    "            \"black\": 0.432440,\n",
    "            \"lagSbp#lagSbp\": 0.000056,\n",
    "            \"lagSbp\": 0.017666,\n",
    "            \"current_bp_treatment\": 0.731678,\n",
    "            \"current_diabetes\": 0.943970,\n",
    "            \"current_smoker\": 1.009790,\n",
    "            \"lagAge#black\": -0.008580,\n",
    "            \"lagSbp#current_bp_treatment\": -0.003647,\n",
    "            \"lagSbp#black\": 0.006208,\n",
    "            \"black#current_bp_treatment\": 0.152968,\n",
    "            \"lagAge#lagSbp\": -0.000153,\n",
    "            \"black#current_diabetes\": 0.115232,\n",
    "            \"black#current_smoker\": -0.092231,\n",
    "            \"lagSbp#black#current_bp_treatment\": -0.000173,\n",
    "            \"lagAge#lagSbp#black\": -0.000094,\n",
    "            \"Intercept\": interceptFemale,\n",
    "            }\n",
    "            tot_chol_hdl_ratio=0.151318\n",
    "            black_race_x_tot_chol_hdl_ratio=0.070498\n",
    "            super().__init__(femaleCVCoefficients, tot_chol_hdl_ratio, black_race_x_tot_chol_hdl_ratio)\n",
    "        \n",
    "    setattr(module, \"CVModelFemale\", CVModelFemale)\n",
    "    setattr(module, \"CVModelMale\", CVModelMale)\n",
    "    \n",
    "    treatmentPop = NHANESDirectSamplePopulation(popSize, 1999)\n",
    "    treatmentPop.advance(nYears, treatmentStrategies = treatmentStrategies)\n",
    "    controlRisk = sum(list(map(lambda x: x.has_outcome_during_simulation(OutcomeType.STROKE), \n",
    "                           controlPop._people)))/controlPop._n\n",
    "    treatmentRisk = sum(list(map(lambda x: x.has_outcome_during_simulation(OutcomeType.STROKE), \n",
    "                             treatmentPop._people)))/treatmentPop._n\n",
    "    strokeRR = treatmentRisk/controlRisk\n",
    "    if (strokeRR-strokeRRRef)*strokeRRDiff<0:\n",
    "        interceptStep = interceptStep/2"
   ]
  },
  {
   "cell_type": "code",
   "execution_count": 11,
   "id": "db9b6b7f-ed80-4103-8c8f-c35b0d4d62e3",
   "metadata": {},
   "outputs": [
    {
     "data": {
      "text/plain": [
       "1296.5472847660383"
      ]
     },
     "execution_count": 11,
     "metadata": {},
     "output_type": "execute_result"
    }
   ],
   "source": [
    "timeF = time.time()\n",
    "(timeF-timeI)/60"
   ]
  },
  {
   "cell_type": "code",
   "execution_count": 12,
   "id": "f0aceeef-c76b-491e-9a49-2405813cfefe",
   "metadata": {},
   "outputs": [
    {
     "name": "stdout",
     "output_type": "stream",
     "text": [
      "-11.8469721875 -12.9901021875 0.00048828125 -0.00048828125 0.01134538574731958 0.8013453857473196\n"
     ]
    }
   ],
   "source": [
    "strokeRRDiff = strokeRR-strokeRRRef\n",
    "if strokeRRDiff>0:\n",
    "    interceptChange = -interceptStep\n",
    "else:\n",
    "    interceptChange= interceptStep\n",
    "interceptMale += interceptChange\n",
    "interceptFemale += interceptChange\n",
    "\n",
    "print(interceptMale, interceptFemale, interceptStep, interceptChange, strokeRRDiff, strokeRR)"
   ]
  },
  {
   "cell_type": "code",
   "execution_count": null,
   "id": "9bee5731-e823-46e5-b735-23ca9bf7451d",
   "metadata": {},
   "outputs": [],
   "source": [
    "interceptMale = -11.8469721875\n",
    "interceptFemale = -12.9901021875\n",
    "interceptChange = -0.00048828125"
   ]
  },
  {
   "cell_type": "code",
   "execution_count": 13,
   "id": "cb9e4b6a-8f31-44f5-afd4-f3c457994857",
   "metadata": {},
   "outputs": [
    {
     "data": {
      "text/plain": [
       "0.8011792129439189"
      ]
     },
     "execution_count": 13,
     "metadata": {},
     "output_type": "execute_result"
    }
   ],
   "source": [
    "controlRiskMI = sum(list(map(lambda x: x.has_outcome_during_simulation(OutcomeType.MI), \n",
    "                           controlPop._people)))/controlPop._n\n",
    "treatmentRiskMI = sum(list(map(lambda x: x.has_outcome_during_simulation(OutcomeType.MI), \n",
    "                             treatmentPop._people)))/treatmentPop._n\n",
    "miRR = treatmentRiskMI/controlRiskMI\n",
    "miRR"
   ]
  },
  {
   "cell_type": "code",
   "execution_count": null,
   "id": "e726ec26-2eb7-4f26-bf7f-0bf04210a625",
   "metadata": {},
   "outputs": [],
   "source": []
  },
  {
   "cell_type": "code",
   "execution_count": null,
   "id": "dd872076-5f6c-4339-a5aa-386b870d306a",
   "metadata": {},
   "outputs": [],
   "source": []
  },
  {
   "cell_type": "code",
   "execution_count": null,
   "id": "aade8ca6-75cf-46fc-bee1-f537750218e0",
   "metadata": {},
   "outputs": [],
   "source": []
  },
  {
   "cell_type": "code",
   "execution_count": null,
   "id": "4cbccc0d-bab9-4260-866f-168acb2e25dc",
   "metadata": {},
   "outputs": [],
   "source": [
    "%%time\n",
    "treatmentPop = NHANESDirectSamplePopulation(popSize, 1999)"
   ]
  },
  {
   "cell_type": "code",
   "execution_count": null,
   "id": "71a7b674-c723-472a-bc4d-31b225a21932",
   "metadata": {},
   "outputs": [],
   "source": [
    "%%time\n",
    "treatmentPop.advance(nYears, treatmentStrategies = treatmentStrategies)"
   ]
  },
  {
   "cell_type": "code",
   "execution_count": null,
   "id": "f97ec5fd-b444-42c1-a692-15dc3fd7967d",
   "metadata": {},
   "outputs": [],
   "source": [
    "controlRisk = sum(list(map(lambda x: x.has_outcome_during_simulation(OutcomeType.STROKE), \n",
    "                           controlPop._people)))/controlPop._n\n",
    "treatmentRisk = sum(list(map(lambda x: x.has_outcome_during_simulation(OutcomeType.STROKE), \n",
    "                             treatmentPop._people)))/treatmentPop._n\n",
    "strokeRR = treatmentRisk/controlRisk\n",
    "strokeRR"
   ]
  },
  {
   "cell_type": "code",
   "execution_count": null,
   "id": "78e9365c-e30e-4082-aad5-31b56ab01677",
   "metadata": {},
   "outputs": [],
   "source": [
    "if (strokeRR-strokeRRRef)*strokeRRDiff<0:\n",
    "    interceptStep = interceptStep/2\n",
    "strokeRRDiff = strokeRR-strokeRRRef"
   ]
  },
  {
   "cell_type": "code",
   "execution_count": null,
   "id": "5156e643-28b4-4b18-8b02-431e5772aa99",
   "metadata": {},
   "outputs": [],
   "source": []
  }
 ],
 "metadata": {
  "kernelspec": {
   "display_name": "microsimKernel",
   "language": "python",
   "name": "microsimkernel"
  },
  "language_info": {
   "codemirror_mode": {
    "name": "ipython",
    "version": 3
   },
   "file_extension": ".py",
   "mimetype": "text/x-python",
   "name": "python",
   "nbconvert_exporter": "python",
   "pygments_lexer": "ipython3",
   "version": "3.9.13"
  }
 },
 "nbformat": 4,
 "nbformat_minor": 5
}
