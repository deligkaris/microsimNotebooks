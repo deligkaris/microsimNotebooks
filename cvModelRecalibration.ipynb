{
 "cells": [
  {
   "cell_type": "code",
   "execution_count": 1,
   "id": "f3c60e86-ab83-4aa9-be61-708cb5c9e1b4",
   "metadata": {},
   "outputs": [],
   "source": [
    "import os\n",
    "import copy\n",
    "import pandas as pd\n",
    "pd.set_option('display.max_columns', None)\n",
    "pd.set_option('display.max_rows', None)\n",
    "from pandarallel import pandarallel\n",
    "import numpy as np\n",
    "import matplotlib.pyplot as plt\n",
    "\n",
    "from microsim.population import NHANESDirectSamplePopulation\n",
    "from microsim.statsmodel_linear_risk_factor_model import StatsModelLinearRiskFactorModel\n",
    "from microsim.regression_model import RegressionModel\n",
    "from microsim.data_loader import load_model_spec\n",
    "from microsim.outcome import OutcomeType, Outcome\n",
    "from microsim.outcome_details.stroke_details import StrokeSubtypeModelRepository, StrokeNihssModel, StrokeTypeModel\n",
    "from microsim.stroke_outcome import StrokeOutcome, StrokeSubtype, StrokeType, Localization\n",
    "from microsim.treatment_strategy_repository import TreatmentStrategyRepository\n",
    "from microsim.bp_treatment_strategies import AddASingleBPMedTreatmentStrategy, AddNBPMedsTreatmentStrategy\n",
    "from microsim.treatment import TreatmentStrategiesType, TreatmentStrategyStatus\n",
    "from microsim.outcome import OutcomeType\n",
    "from microsim.stroke_partition_model import StrokePartitionModel\n",
    "\n",
    "import scipy.special as scipySpecial\n",
    "\n",
    "microsimDir = \"/Users/deligkaris.1/OneDrive - The Ohio State University Wexner Medical Center/MICROSIM/CODE/microsim\"\n",
    "os.chdir(microsimDir)\n",
    "\n",
    "import time\n",
    "\n",
    "timeI = time.time()\n",
    "\n",
    "popSize = 600000\n",
    "nYears = 5\n",
    "bpMedsAdded = 1"
   ]
  },
  {
   "cell_type": "code",
   "execution_count": 2,
   "id": "68ce21d3-0209-4601-88be-b4949253d144",
   "metadata": {},
   "outputs": [],
   "source": [
    "treatmentStrategies = TreatmentStrategyRepository()\n",
    "#treatmentStrategies._repository[TreatmentStrategiesType.BP.value] = AddASingleBPMedTreatmentStrategy()\n",
    "treatmentStrategies._repository[TreatmentStrategiesType.BP.value] = AddNBPMedsTreatmentStrategy(bpMedsAdded)"
   ]
  },
  {
   "cell_type": "code",
   "execution_count": 3,
   "id": "6472cca7-585e-4213-bdc9-e29764eb6478",
   "metadata": {},
   "outputs": [
    {
     "name": "stdout",
     "output_type": "stream",
     "text": [
      "CPU times: user 3min 59s, sys: 1.7 s, total: 4min\n",
      "Wall time: 4min 1s\n"
     ]
    }
   ],
   "source": [
    "%%time\n",
    "controlPop = NHANESDirectSamplePopulation(popSize, 1999)"
   ]
  },
  {
   "cell_type": "code",
   "execution_count": 4,
   "id": "4d6d682f-f961-4337-b428-3726731b857f",
   "metadata": {},
   "outputs": [
    {
     "name": "stdout",
     "output_type": "stream",
     "text": [
      "CPU times: user 1min 58s, sys: 2min 17s, total: 4min 16s\n",
      "Wall time: 17min 33s\n"
     ]
    }
   ],
   "source": [
    "%%time\n",
    "controlPop.advance_parallel(nYears, None, 5)"
   ]
  },
  {
   "cell_type": "code",
   "execution_count": 5,
   "id": "340dbf64-a4c9-4777-95b0-cfd9b12831ba",
   "metadata": {},
   "outputs": [
    {
     "name": "stdout",
     "output_type": "stream",
     "text": [
      "CPU times: user 4min 30s, sys: 14.5 s, total: 4min 45s\n",
      "Wall time: 4min 48s\n"
     ]
    }
   ],
   "source": [
    "%%time\n",
    "treatmentPop = NHANESDirectSamplePopulation(popSize, 1999)"
   ]
  },
  {
   "cell_type": "code",
   "execution_count": 6,
   "id": "c6d7074a-521a-4753-baef-79efe3e43d1b",
   "metadata": {},
   "outputs": [
    {
     "name": "stdout",
     "output_type": "stream",
     "text": [
      "CPU times: user 5min 44s, sys: 22min 3s, total: 27min 48s\n",
      "Wall time: 56min\n"
     ]
    }
   ],
   "source": [
    "%%time\n",
    "treatmentPop.advance_parallel(1, treatmentStrategies = treatmentStrategies, nWorkers=5)\n",
    "treatmentStrategies._repository[TreatmentStrategiesType.BP.value].status = TreatmentStrategyStatus.MAINTAIN\n",
    "treatmentPop.advance_parallel(nYears-1, treatmentStrategies = treatmentStrategies, nWorkers=5)"
   ]
  },
  {
   "cell_type": "code",
   "execution_count": 7,
   "id": "63ff91d0-db70-4236-aee1-7d7e1c8e6897",
   "metadata": {},
   "outputs": [],
   "source": [
    "controlRisk = sum(list(map(lambda x: x.has_outcome_during_simulation(OutcomeType.STROKE), \n",
    "                           controlPop._people)))/controlPop._n\n",
    "treatmentRisk = sum(list(map(lambda x: x.has_outcome_during_simulation(OutcomeType.STROKE), \n",
    "                             treatmentPop._people)))/treatmentPop._n\n",
    "strokeRR = treatmentRisk/controlRisk\n",
    "\n",
    "controlRiskMI = sum(list(map(lambda x: x.has_outcome_during_simulation(OutcomeType.MI), \n",
    "                           controlPop._people)))/controlPop._n\n",
    "treatmentRiskMI = sum(list(map(lambda x: x.has_outcome_during_simulation(OutcomeType.MI), \n",
    "                             treatmentPop._people)))/treatmentPop._n\n",
    "miRR = treatmentRiskMI/controlRiskMI"
   ]
  },
  {
   "cell_type": "code",
   "execution_count": 8,
   "id": "1978cbd7-17e2-4de4-b4ce-c6ca4c1d6d39",
   "metadata": {},
   "outputs": [
    {
     "data": {
      "text/plain": [
       "(0.7902542372881356, 0.8606392938344256)"
      ]
     },
     "execution_count": 8,
     "metadata": {},
     "output_type": "execute_result"
    }
   ],
   "source": [
    "strokeRR, miRR"
   ]
  },
  {
   "cell_type": "code",
   "execution_count": 9,
   "id": "0efcf283-7618-483f-94fa-a75c518d9c4b",
   "metadata": {},
   "outputs": [],
   "source": [
    "from microsim.cv_model import CVModelMale, CVModelFemale\n",
    "import importlib.util\n",
    "moduleCV = importlib.import_module(\"microsim.cv_model_repository\")\n",
    "moduleStroke = importlib.import_module(\"microsim.stroke_partition_model_repository\")"
   ]
  },
  {
   "cell_type": "code",
   "execution_count": 10,
   "id": "7341885d-9ea2-4fda-903c-cd77f57faeef",
   "metadata": {},
   "outputs": [],
   "source": [
    "##19 -11.8284175 -12.9715475 0.00390625 -2.4164418087083006 0.001953125 0.7823834196891192 0.8673245614035087\n",
    "\n",
    "#interceptStep = 0.5\n",
    "interceptStep = 0.01\n",
    "interceptChange = 0\n",
    "#interceptMale = -11.679980\n",
    "interceptMale = -11.7959175\n",
    "#interceptFemale = -12.823110\n",
    "interceptFemale = -12.9390475\n",
    "\n",
    "#strokeInterceptStep = 0.25\n",
    "strokeInterceptStep = 0.01\n",
    "strokeInterceptChange = 0\n",
    "model_spec = load_model_spec(\"StrokeMIPartitionModel\")\n",
    "#strokeIntercept = model_spec[\"coefficients\"][\"Intercept\"]\n",
    "strokeIntercept = -2.4001918\n",
    "\n",
    "strokeRRRef = 0.79**bpMedsAdded\n",
    "miRRRef = 0.87**bpMedsAdded"
   ]
  },
  {
   "cell_type": "code",
   "execution_count": 13,
   "id": "9e87ff04-af34-4e93-88c0-6d93a8ef738d",
   "metadata": {},
   "outputs": [
    {
     "name": "stdout",
     "output_type": "stream",
     "text": [
      "0 -11.790917499999997 -12.934047499999997 0 -2.4295667999999986 -0.000625 0.8042372881355934 0.8670589808746825\n",
      "1 -11.790292499999998 -12.933422499999997 0.000625 -2.4289417999999987 0.000625 0.7773305084745763 0.8507422763140298\n",
      "2 -11.790292499999998 -12.933422499999997 0 -2.4295667999999986 -0.000625 0.8004237288135594 0.8586331416343453\n",
      "3 -11.790292499999998 -12.933422499999997 0 -2.4292542999999984 0.0003125 0.7745762711864408 0.8840444028353618\n",
      "4 -11.790292499999998 -12.933422499999997 0 -2.4294105499999983 -0.00015625 0.7972457627118645 0.8621104721144845\n",
      "5 -11.790292499999998 -12.933422499999997 0 -2.429566799999998 -0.00015625 0.7991525423728815 0.8407115153136285\n",
      "6 -11.790136249999998 -12.933266249999997 0.00015625 -2.4294105499999983 0.00015625 0.7877118644067796 0.8610405242744417\n",
      "7 -11.789979999999998 -12.933109999999997 0.00015625 -2.4292542999999984 0.00015625 0.7597457627118644 0.8457937675538318\n",
      "8 -11.789823749999998 -12.932953749999998 0.00015625 -2.4290980499999986 0.00015625 0.7843220338983051 0.8590343720743614\n",
      "9 -11.789823749999998 -12.932953749999998 0 -2.4292542999999984 -0.00015625 0.8057203389830508 0.8471312023538854\n",
      "CPU times: user 9h 15min 3s, sys: 59min 14s, total: 10h 14min 17s\n",
      "Wall time: 10h 38min 4s\n"
     ]
    }
   ],
   "source": [
    "%%time\n",
    "for i in range(10):\n",
    "\n",
    "    strokeRRDiff = strokeRR-strokeRRRef\n",
    "    miRRDiff = miRR-miRRRef\n",
    "    \n",
    "    if (strokeRRDiff>0) & (miRRDiff>0):\n",
    "        interceptChange = -interceptStep\n",
    "    elif (strokeRRDiff<0) & (miRRDiff<0):\n",
    "        interceptChange = interceptStep\n",
    "    else:\n",
    "        interceptChange = 0\n",
    "    interceptMale += interceptChange\n",
    "    interceptFemale += interceptChange\n",
    "\n",
    "    if strokeRRDiff>0:\n",
    "        strokeInterceptChange = -strokeInterceptStep\n",
    "    else:\n",
    "        strokeInterceptChange = strokeInterceptStep\n",
    "    strokeIntercept += strokeInterceptChange\n",
    "    \n",
    "    print(i, interceptMale, interceptFemale, interceptChange, strokeIntercept, strokeInterceptChange, \n",
    "              strokeRR, miRR)    \n",
    "    \n",
    "    class CVModelMaleFor1bpMedsAdded(CVModelMale):\n",
    "        def __init__(self):\n",
    "            super().__init__(intercept = interceptMale)\n",
    "\n",
    "    class CVModelFemaleFor1bpMedsAdded(CVModelFemale):\n",
    "        def __init__(self):\n",
    "            super().__init__(intercept = interceptFemale)\n",
    "\n",
    "    setattr(moduleCV, \"CVModelFemaleFor1bpMedsAdded\", CVModelFemaleFor1bpMedsAdded)\n",
    "    setattr(moduleCV, \"CVModelMaleFor1bpMedsAdded\", CVModelMaleFor1bpMedsAdded)\n",
    "    \n",
    "    class StrokePartitionModelFor1bpMedsAdded(StrokePartitionModel):\n",
    "        def __init__(self):\n",
    "            intercept = strokeIntercept\n",
    "            super().__init__(intercept=intercept)\n",
    "            \n",
    "    setattr(moduleStroke, \"StrokePartitionModelFor1bpMedsAdded\", StrokePartitionModelFor1bpMedsAdded)\n",
    "    \n",
    "    treatmentPop = NHANESDirectSamplePopulation(popSize, 1999)\n",
    "    treatmentStrategies._repository[TreatmentStrategiesType.BP.value].status = TreatmentStrategyStatus.BEGIN\n",
    "    treatmentPop.advance(1, treatmentStrategies = treatmentStrategies)\n",
    "    treatmentStrategies._repository[TreatmentStrategiesType.BP.value].status = TreatmentStrategyStatus.MAINTAIN\n",
    "    treatmentPop.advance(nYears-1, treatmentStrategies = treatmentStrategies)\n",
    "     \n",
    "    treatmentRisk = sum(list(map(lambda x: x.has_outcome_during_simulation(OutcomeType.STROKE), \n",
    "                             treatmentPop._people)))/treatmentPop._n\n",
    "    strokeRR = treatmentRisk/controlRisk\n",
    "    \n",
    "    treatmentRiskMI = sum(list(map(lambda x: x.has_outcome_during_simulation(OutcomeType.MI), \n",
    "                                 treatmentPop._people)))/treatmentPop._n\n",
    "    miRR = treatmentRiskMI/controlRiskMI\n",
    "    \n",
    "    if ((strokeRR-strokeRRRef)*strokeRRDiff<0) & ((miRR-miRRRef)*miRRDiff<0):\n",
    "        interceptStep = interceptStep/2\n",
    "        strokeInterceptStep = strokeInterceptStep/2"
   ]
  },
  {
   "cell_type": "code",
   "execution_count": 12,
   "id": "db9b6b7f-ed80-4103-8c8f-c35b0d4d62e3",
   "metadata": {},
   "outputs": [
    {
     "data": {
      "text/plain": [
       "723.9069179495176"
      ]
     },
     "execution_count": 12,
     "metadata": {},
     "output_type": "execute_result"
    }
   ],
   "source": [
    "timeF = time.time()\n",
    "(timeF-timeI)/60"
   ]
  },
  {
   "cell_type": "code",
   "execution_count": null,
   "id": "f0aceeef-c76b-491e-9a49-2405813cfefe",
   "metadata": {},
   "outputs": [],
   "source": [
    "strokeRRDiff = strokeRR-strokeRRRef\n",
    "if strokeRRDiff>0:\n",
    "    interceptChange = -interceptStep\n",
    "else:\n",
    "    interceptChange= interceptStep\n",
    "interceptMale += interceptChange\n",
    "interceptFemale += interceptChange\n",
    "\n",
    "print(interceptMale, interceptFemale, interceptStep, interceptChange, strokeRRDiff, strokeRR)"
   ]
  },
  {
   "cell_type": "code",
   "execution_count": null,
   "id": "9bee5731-e823-46e5-b735-23ca9bf7451d",
   "metadata": {},
   "outputs": [],
   "source": [
    "#19 -11.8284175 -12.9715475 0.00390625 -2.4164418087083006 0.001953125 0.7823834196891192 0.8673245614035087\n",
    "interceptMale = -11.8469721875\n",
    "interceptFemale = -12.9901021875\n",
    "interceptChange = -0.00048828125"
   ]
  },
  {
   "cell_type": "code",
   "execution_count": null,
   "id": "cb9e4b6a-8f31-44f5-afd4-f3c457994857",
   "metadata": {},
   "outputs": [],
   "source": [
    "controlRiskMI = sum(list(map(lambda x: x.has_outcome_during_simulation(OutcomeType.MI), \n",
    "                           controlPop._people)))/controlPop._n\n",
    "treatmentRiskMI = sum(list(map(lambda x: x.has_outcome_during_simulation(OutcomeType.MI), \n",
    "                             treatmentPop._people)))/treatmentPop._n\n",
    "miRR = treatmentRiskMI/controlRiskMI\n",
    "miRR"
   ]
  },
  {
   "cell_type": "code",
   "execution_count": null,
   "id": "e726ec26-2eb7-4f26-bf7f-0bf04210a625",
   "metadata": {},
   "outputs": [],
   "source": []
  },
  {
   "cell_type": "code",
   "execution_count": null,
   "id": "dd872076-5f6c-4339-a5aa-386b870d306a",
   "metadata": {},
   "outputs": [],
   "source": [
    "#RESULTS\n",
    "#1 bp: -11.795917500000009 -12.939047500000008 0 -2.400191808699997 -0.00125 0.7918781725888325 0.8565955117679255\n",
    "#2 bp -11.931250000000002 -13.051250000000003 0 -2.6159375 0.0015625 0.6071428571428572 0.7655677655677655\n",
    "#2 bp: 15 -11.911249999999999 -13.031249999999998 0 -2.5334375000000016 0.0025 0.6126154826377828 0.7658060581418988\n",
    "#3 bp: -12.007714375000003 -13.150500000000003 -0.0125 -2.6649999999999987 -0.0125 0.5244482907832108 0.6721311475409835\n",
    "#4 bp: -12.085210000000002 -13.228000000000002 0 -2.7462 0.01 0.38026981450252956 0.5751421608448416"
   ]
  },
  {
   "cell_type": "code",
   "execution_count": null,
   "id": "aade8ca6-75cf-46fc-bee1-f537750218e0",
   "metadata": {},
   "outputs": [],
   "source": []
  },
  {
   "cell_type": "code",
   "execution_count": null,
   "id": "4cbccc0d-bab9-4260-866f-168acb2e25dc",
   "metadata": {},
   "outputs": [],
   "source": [
    "%%time\n",
    "treatmentPop = NHANESDirectSamplePopulation(popSize, 1999)"
   ]
  },
  {
   "cell_type": "code",
   "execution_count": null,
   "id": "71a7b674-c723-472a-bc4d-31b225a21932",
   "metadata": {},
   "outputs": [],
   "source": [
    "%%time\n",
    "treatmentPop.advance(nYears, treatmentStrategies = treatmentStrategies)"
   ]
  },
  {
   "cell_type": "code",
   "execution_count": null,
   "id": "f97ec5fd-b444-42c1-a692-15dc3fd7967d",
   "metadata": {},
   "outputs": [],
   "source": [
    "controlRisk = sum(list(map(lambda x: x.has_outcome_during_simulation(OutcomeType.STROKE), \n",
    "                           controlPop._people)))/controlPop._n\n",
    "treatmentRisk = sum(list(map(lambda x: x.has_outcome_during_simulation(OutcomeType.STROKE), \n",
    "                             treatmentPop._people)))/treatmentPop._n\n",
    "strokeRR = treatmentRisk/controlRisk\n",
    "strokeRR"
   ]
  },
  {
   "cell_type": "code",
   "execution_count": null,
   "id": "78e9365c-e30e-4082-aad5-31b56ab01677",
   "metadata": {},
   "outputs": [],
   "source": [
    "if (strokeRR-strokeRRRef)*strokeRRDiff<0:\n",
    "    interceptStep = interceptStep/2\n",
    "strokeRRDiff = strokeRR-strokeRRRef"
   ]
  },
  {
   "cell_type": "code",
   "execution_count": null,
   "id": "5156e643-28b4-4b18-8b02-431e5772aa99",
   "metadata": {},
   "outputs": [],
   "source": []
  },
  {
   "cell_type": "code",
   "execution_count": null,
   "id": "1fc41b65-4464-4142-9870-f2b075fbfd0f",
   "metadata": {},
   "outputs": [],
   "source": [
    "test = {\"male\": {\"1\": \"one\",\n",
    "                 \"2\": \"two\"},\n",
    "        \"female\": {\"1\": \"one\",\n",
    "                 \"2\": \"two\"}}"
   ]
  },
  {
   "cell_type": "code",
   "execution_count": null,
   "id": "02a5152e-b89f-4614-90c5-d636ecab583f",
   "metadata": {},
   "outputs": [],
   "source": [
    "test[\"male\"][\"2\"]"
   ]
  },
  {
   "cell_type": "code",
   "execution_count": null,
   "id": "4a8ac7c9-04f3-4ce1-b1e3-c62f11872cf0",
   "metadata": {},
   "outputs": [],
   "source": []
  }
 ],
 "metadata": {
  "kernelspec": {
   "display_name": "microsimKernel",
   "language": "python",
   "name": "microsimkernel"
  },
  "language_info": {
   "codemirror_mode": {
    "name": "ipython",
    "version": 3
   },
   "file_extension": ".py",
   "mimetype": "text/x-python",
   "name": "python",
   "nbconvert_exporter": "python",
   "pygments_lexer": "ipython3",
   "version": "3.9.13"
  }
 },
 "nbformat": 4,
 "nbformat_minor": 5
}
