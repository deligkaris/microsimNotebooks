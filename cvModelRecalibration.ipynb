{
 "cells": [
  {
   "cell_type": "code",
   "execution_count": 1,
   "id": "f3c60e86-ab83-4aa9-be61-708cb5c9e1b4",
   "metadata": {},
   "outputs": [],
   "source": [
    "import os\n",
    "import copy\n",
    "import pandas as pd\n",
    "pd.set_option('display.max_columns', None)\n",
    "pd.set_option('display.max_rows', None)\n",
    "from pandarallel import pandarallel\n",
    "import numpy as np\n",
    "import matplotlib.pyplot as plt\n",
    "\n",
    "from microsim.population import NHANESDirectSamplePopulation\n",
    "from microsim.statsmodel_linear_risk_factor_model import StatsModelLinearRiskFactorModel\n",
    "from microsim.regression_model import RegressionModel\n",
    "from microsim.data_loader import load_model_spec\n",
    "from microsim.outcome import OutcomeType, Outcome\n",
    "from microsim.outcome_details.stroke_details import StrokeSubtypeModelRepository, StrokeNihssModel, StrokeTypeModel\n",
    "from microsim.stroke_outcome import StrokeOutcome, StrokeSubtype, StrokeType, Localization\n",
    "from microsim.treatment_strategy_repository import TreatmentStrategyRepository\n",
    "from microsim.bp_treatment_strategies import AddASingleBPMedTreatmentStrategy, AddNBPMedsTreatmentStrategy\n",
    "from microsim.treatment import TreatmentStrategiesType, TreatmentStrategyStatus\n",
    "from microsim.outcome import OutcomeType\n",
    "from microsim.stroke_partition_model import StrokePartitionModel\n",
    "\n",
    "import scipy.special as scipySpecial\n",
    "\n",
    "microsimDir = \"/Users/deligkaris.1/OneDrive - The Ohio State University Wexner Medical Center/MICROSIM/CODE/microsim\"\n",
    "os.chdir(microsimDir)\n",
    "\n",
    "import time\n",
    "\n",
    "timeI = time.time()\n",
    "\n",
    "popSize = 400000\n",
    "nYears = 5\n",
    "bpMedsAdded = 2"
   ]
  },
  {
   "cell_type": "code",
   "execution_count": 2,
   "id": "68ce21d3-0209-4601-88be-b4949253d144",
   "metadata": {},
   "outputs": [],
   "source": [
    "treatmentStrategies = TreatmentStrategyRepository()\n",
    "#treatmentStrategies._repository[TreatmentStrategiesType.BP.value] = AddASingleBPMedTreatmentStrategy()\n",
    "treatmentStrategies._repository[TreatmentStrategiesType.BP.value] = AddNBPMedsTreatmentStrategy(bpMedsAdded)"
   ]
  },
  {
   "cell_type": "code",
   "execution_count": 3,
   "id": "6472cca7-585e-4213-bdc9-e29764eb6478",
   "metadata": {},
   "outputs": [
    {
     "name": "stdout",
     "output_type": "stream",
     "text": [
      "CPU times: user 2min 31s, sys: 821 ms, total: 2min 32s\n",
      "Wall time: 2min 32s\n"
     ]
    }
   ],
   "source": [
    "%%time\n",
    "controlPop = NHANESDirectSamplePopulation(popSize, 1999)"
   ]
  },
  {
   "cell_type": "code",
   "execution_count": 4,
   "id": "4d6d682f-f961-4337-b428-3726731b857f",
   "metadata": {},
   "outputs": [
    {
     "name": "stdout",
     "output_type": "stream",
     "text": [
      "CPU times: user 1min 12s, sys: 35 s, total: 1min 47s\n",
      "Wall time: 9min 18s\n"
     ]
    }
   ],
   "source": [
    "%%time\n",
    "controlPop.advance_parallel(nYears, None, 5)"
   ]
  },
  {
   "cell_type": "code",
   "execution_count": 5,
   "id": "340dbf64-a4c9-4777-95b0-cfd9b12831ba",
   "metadata": {},
   "outputs": [
    {
     "name": "stdout",
     "output_type": "stream",
     "text": [
      "CPU times: user 2min 55s, sys: 586 ms, total: 2min 55s\n",
      "Wall time: 2min 55s\n"
     ]
    }
   ],
   "source": [
    "%%time\n",
    "treatmentPop = NHANESDirectSamplePopulation(popSize, 1999)"
   ]
  },
  {
   "cell_type": "code",
   "execution_count": 6,
   "id": "c6d7074a-521a-4753-baef-79efe3e43d1b",
   "metadata": {},
   "outputs": [
    {
     "name": "stdout",
     "output_type": "stream",
     "text": [
      "CPU times: user 3min 36s, sys: 7min 47s, total: 11min 23s\n",
      "Wall time: 22min 14s\n"
     ]
    }
   ],
   "source": [
    "%%time\n",
    "treatmentPop.advance_parallel(1, treatmentStrategies = treatmentStrategies, nWorkers=5)\n",
    "treatmentStrategies._repository[TreatmentStrategiesType.BP.value].status = TreatmentStrategyStatus.MAINTAIN\n",
    "treatmentPop.advance_parallel(nYears-1, treatmentStrategies = treatmentStrategies, nWorkers=5)"
   ]
  },
  {
   "cell_type": "code",
   "execution_count": 7,
   "id": "63ff91d0-db70-4236-aee1-7d7e1c8e6897",
   "metadata": {},
   "outputs": [],
   "source": [
    "controlRisk = sum(list(map(lambda x: x.has_outcome_during_simulation(OutcomeType.STROKE), \n",
    "                           controlPop._people)))/controlPop._n\n",
    "treatmentRisk = sum(list(map(lambda x: x.has_outcome_during_simulation(OutcomeType.STROKE), \n",
    "                             treatmentPop._people)))/treatmentPop._n\n",
    "strokeRR = treatmentRisk/controlRisk\n",
    "\n",
    "controlRiskMI = sum(list(map(lambda x: x.has_outcome_during_simulation(OutcomeType.MI), \n",
    "                           controlPop._people)))/controlPop._n\n",
    "treatmentRiskMI = sum(list(map(lambda x: x.has_outcome_during_simulation(OutcomeType.MI), \n",
    "                             treatmentPop._people)))/treatmentPop._n\n",
    "miRR = treatmentRiskMI/controlRiskMI"
   ]
  },
  {
   "cell_type": "code",
   "execution_count": 8,
   "id": "1978cbd7-17e2-4de4-b4ce-c6ca4c1d6d39",
   "metadata": {},
   "outputs": [
    {
     "data": {
      "text/plain": [
       "(0.5931825422108952, 0.7717015653588128)"
      ]
     },
     "execution_count": 8,
     "metadata": {},
     "output_type": "execute_result"
    }
   ],
   "source": [
    "strokeRR, miRR"
   ]
  },
  {
   "cell_type": "code",
   "execution_count": 9,
   "id": "0efcf283-7618-483f-94fa-a75c518d9c4b",
   "metadata": {},
   "outputs": [],
   "source": [
    "from microsim.cv_model import CVModelMale, CVModelFemale\n",
    "import importlib.util\n",
    "moduleCV = importlib.import_module(\"microsim.cv_model_repository\")\n",
    "moduleStroke = importlib.import_module(\"microsim.stroke_partition_model_repository\")"
   ]
  },
  {
   "cell_type": "code",
   "execution_count": 10,
   "id": "7341885d-9ea2-4fda-903c-cd77f57faeef",
   "metadata": {},
   "outputs": [],
   "source": [
    "##19 -11.8284175 -12.9715475 0.00390625 -2.4164418087083006 0.001953125 0.7823834196891192 0.8673245614035087\n",
    "\n",
    "#interceptStep = 0.5\n",
    "interceptStep = 0.01\n",
    "interceptChange = 0\n",
    "#interceptMale = -11.679980\n",
    "interceptMale = -11.9312500\n",
    "#interceptFemale = -12.823110\n",
    "interceptFemale = -13.051250\n",
    "\n",
    "#strokeInterceptStep = 0.25\n",
    "strokeInterceptStep = 0.01\n",
    "strokeInterceptChange = 0\n",
    "model_spec = load_model_spec(\"StrokeMIPartitionModel\")\n",
    "#strokeIntercept = model_spec[\"coefficients\"][\"Intercept\"]\n",
    "strokeIntercept = -2.6159375\n",
    "\n",
    "strokeRRRef = 0.79**bpMedsAdded\n",
    "miRRRef = 0.87**bpMedsAdded"
   ]
  },
  {
   "cell_type": "code",
   "execution_count": 11,
   "id": "9e87ff04-af34-4e93-88c0-6d93a8ef738d",
   "metadata": {},
   "outputs": [
    {
     "name": "stdout",
     "output_type": "stream",
     "text": [
      "0 -11.93125 -13.05125 0 -2.6059375 0.01 0.5931825422108952 0.7717015653588128\n",
      "1 -11.92125 -13.04125 0.01 -2.5959375000000002 0.01 0.5734310289901242 0.7452734295588535\n",
      "2 -11.92125 -13.04125 0 -2.5859375000000004 0.01 0.6129340554316661 0.7615368977434438\n",
      "3 -11.92125 -13.04125 0 -2.5759375000000007 0.01 0.5839439311882765 0.7623500711526733\n",
      "4 -11.91125 -13.03125 0.01 -2.565937500000001 0.01 0.5702453010512901 0.7505590567188454\n",
      "5 -11.91125 -13.03125 0 -2.555937500000001 0.01 0.6158012105766167 0.7796300060988006\n",
      "6 -11.901250000000001 -13.02125 0.01 -2.5459375000000013 0.01 0.6119783370500159 0.7554380971742224\n",
      "7 -11.891250000000001 -13.01125 0.01 -2.5359375000000015 0.01 0.6164383561643835 0.7529985769465338\n",
      "8 -11.891250000000001 -13.01125 0 -2.5259375000000017 0.01 0.6193055113093341 0.7834925797926408\n",
      "9 -11.891250000000001 -13.01125 0 -2.515937500000002 0.01 0.6119783370500159 0.7731246188249645\n",
      "10 -11.901250000000001 -13.02125 -0.01 -2.5259375000000017 -0.01 0.6463841987894233 0.7662126448465136\n",
      "11 -11.91125 -13.03125 -0.01 -2.5359375000000015 -0.01 0.6393755973239885 0.7865419800772515\n",
      "12 -11.90625 -13.02625 0.005 -2.5309375000000016 0.005 0.623128384835935 0.7121366131327506\n",
      "13 -11.90875 -13.028749999999999 -0.0025 -2.5334375000000016 -0.0025 0.6435170436444727 0.7656027647895914\n",
      "14 -11.911249999999999 -13.031249999999998 -0.0025 -2.5359375000000015 -0.0025 0.6387384517362217 0.773937792234194\n",
      "15 -11.911249999999999 -13.031249999999998 0 -2.5334375000000016 0.0025 0.6126154826377828 0.7658060581418988\n",
      "16 -11.911249999999999 -13.031249999999998 0 -2.5346875000000018 -0.00125 0.6486142083466072 0.7495425899573084\n",
      "17 -11.9125 -13.032499999999999 -0.00125 -2.535937500000002 -0.00125 0.6307741318891367 0.7826794063834113\n",
      "18 -11.911875 -13.031875 0.000625 -2.535312500000002 0.000625 0.623128384835935 0.7351087619434844\n",
      "19 -11.911875 -13.031875 0 -2.534687500000002 0.000625 0.597005415737496 0.772311445415735\n",
      "CPU times: user 12h 27min 13s, sys: 28min 34s, total: 12h 55min 48s\n",
      "Wall time: 13h 3min 58s\n"
     ]
    }
   ],
   "source": [
    "%%time\n",
    "for i in range(20):\n",
    "\n",
    "    strokeRRDiff = strokeRR-strokeRRRef\n",
    "    miRRDiff = miRR-miRRRef\n",
    "    \n",
    "    if (strokeRRDiff>0) & (miRRDiff>0):\n",
    "        interceptChange = -interceptStep\n",
    "    elif (strokeRRDiff<0) & (miRRDiff<0):\n",
    "        interceptChange = interceptStep\n",
    "    else:\n",
    "        interceptChange = 0\n",
    "    interceptMale += interceptChange\n",
    "    interceptFemale += interceptChange\n",
    "\n",
    "    if strokeRRDiff>0:\n",
    "        strokeInterceptChange = -strokeInterceptStep\n",
    "    else:\n",
    "        strokeInterceptChange = strokeInterceptStep\n",
    "    strokeIntercept += strokeInterceptChange\n",
    "    \n",
    "    print(i, interceptMale, interceptFemale, interceptChange, strokeIntercept, strokeInterceptChange, \n",
    "              strokeRR, miRR)    \n",
    "    \n",
    "    #class CVModelMale(CVModelBase):\n",
    "    #    \"\"\"CV model details for male gender.\"\"\"\n",
    "    #    def __init__(self):\n",
    "    #        maleCVCoefficients = {\n",
    "    #        \"lagAge\": 0.064200,\n",
    "    #        \"black\": 0.482835,\n",
    "    #        \"lagSbp#lagSbp\": -0.000061,\n",
    "    #        \"lagSbp\": 0.038950,\n",
    "    #        \"current_bp_treatment\": 2.055533,\n",
    "    #        \"current_diabetes\": 0.842209,\n",
    "    #        \"current_smoker\": 0.895589,\n",
    "    #        \"lagAge#black\": 0,\n",
    "    #        \"lagSbp#current_bp_treatment\": -0.014207,\n",
    "    #        \"lagSbp#black\": 0.011609,\n",
    "    #        \"black#current_bp_treatment\": -0.119460,\n",
    "    #        \"lagAge#lagSbp\": 0.000025,\n",
    "    #        \"black#current_diabetes\": -0.077214,\n",
    "    #        \"black#current_smoker\": -0.226771,\n",
    "    #        \"lagSbp#black#current_bp_treatment\": 0.004190,\n",
    "    #        \"lagAge#lagSbp#black\": -0.000199,\n",
    "    #        \"Intercept\": interceptMale,\n",
    "    #        }\n",
    "    #        tot_chol_hdl_ratio=0.193307\n",
    "    #        black_race_x_tot_chol_hdl_ratio=-0.117749\n",
    "    #        super().__init__(maleCVCoefficients, tot_chol_hdl_ratio, black_race_x_tot_chol_hdl_ratio)\n",
    "\n",
    "    #class CVModelFemale(CVModelBase):\n",
    "    #    \"\"\"CV model details for female gender.\"\"\"\n",
    "    #    def __init__(self):\n",
    "    #        femaleCVCoefficients = {\n",
    "    #        \"lagAge\": 0.106501,\n",
    "    #        \"black\": 0.432440,\n",
    "    #        \"lagSbp#lagSbp\": 0.000056,\n",
    "    #        \"lagSbp\": 0.017666,\n",
    "    #        \"current_bp_treatment\": 0.731678,\n",
    "    #        \"current_diabetes\": 0.943970,\n",
    "    #        \"current_smoker\": 1.009790,\n",
    "    #        \"lagAge#black\": -0.008580,\n",
    "    #        \"lagSbp#current_bp_treatment\": -0.003647,\n",
    "    #        \"lagSbp#black\": 0.006208,\n",
    "    #        \"black#current_bp_treatment\": 0.152968,\n",
    "    #        \"lagAge#lagSbp\": -0.000153,\n",
    "    #        \"black#current_diabetes\": 0.115232,\n",
    "    #        \"black#current_smoker\": -0.092231,\n",
    "    #        \"lagSbp#black#current_bp_treatment\": -0.000173,\n",
    "    #        \"lagAge#lagSbp#black\": -0.000094,\n",
    "    #        \"Intercept\": interceptFemale,\n",
    "    #        }\n",
    "    #        tot_chol_hdl_ratio=0.151318\n",
    "    #        black_race_x_tot_chol_hdl_ratio=0.070498\n",
    "    #        super().__init__(femaleCVCoefficients, tot_chol_hdl_ratio, black_race_x_tot_chol_hdl_ratio)\n",
    "  \n",
    "    class CVModelMaleFor2bpMedsAdded(CVModelMale):\n",
    "        def __init__(self):\n",
    "            super().__init__(intercept = interceptMale)\n",
    "\n",
    "    class CVModelFemaleFor2bpMedsAdded(CVModelFemale):\n",
    "        def __init__(self):\n",
    "            super().__init__(intercept = interceptFemale)\n",
    "\n",
    "    setattr(moduleCV, \"CVModelFemaleFor2bpMedsAdded\", CVModelFemaleFor2bpMedsAdded)\n",
    "    setattr(moduleCV, \"CVModelMaleFor2bpMedsAdded\", CVModelMaleFor2bpMedsAdded)\n",
    "    \n",
    "    #class StrokePartitionModel(StatsModelLinearRiskFactorModel):\n",
    "    #    \"\"\"Fatal stroke probability estimated from our meta-analysis of BASIC, NoMAS, GCNKSS, REGARDS.\"\"\"\n",
    "\n",
    "    #    def __init__(self):\n",
    "    #        model_spec = load_model_spec(\"StrokeMIPartitionModel\")\n",
    "    #        model_spec[\"coefficients\"][\"Intercept\"] = strokeIntercept\n",
    "    #        super().__init__(RegressionModel(**model_spec))\n",
    "    #        self._stroke_case_fatality = 0.15\n",
    "    #        self._stroke_secondary_case_fatality = 0.15\n",
    "   \n",
    "    #    def will_have_fatal_stroke(self, person):\n",
    "    #        fatalStrokeProb = self._stroke_case_fatality\n",
    "    #        fatalProb = self._stroke_secondary_case_fatality if person._stroke else fatalStrokeProb\n",
    "    #        return person._rng.uniform(size=1) < fatalProb\n",
    "\n",
    "    #    def get_next_stroke_probability(self, person):\n",
    "    #        #Q: I am not sure why it was set to 0 at the beginning\n",
    "    #        strokeProbability = 0\n",
    "    #        strokeProbability = scipySpecial.expit( super().estimate_next_risk(person) )\n",
    "    #        return strokeProbability\n",
    "    \n",
    "    #    def generate_next_outcome(self, person):\n",
    "    #        fatal = self.will_have_fatal_stroke(person)\n",
    "    #        nihss = StrokeNihssModel().estimate_next_risk(person)\n",
    "    #        strokeSubtype = StrokeSubtypeModelRepository().get_stroke_subtype(person)\n",
    "    #        strokeType = StrokeTypeModel().get_stroke_type(person)\n",
    "    #        #localization = Localization.LEFT_HEMISPHERE\n",
    "    #        #disability = 3 \n",
    "    #        #return StrokeOutcome(fatal, nihss, strokeType, strokeSubtype, localization, disability)\n",
    "    #        return StrokeOutcome(fatal, nihss, strokeType, strokeSubtype)\n",
    "        \n",
    "    #    def update_cv_outcome(self, person, fatal):\n",
    "    #        person._outcomes[OutcomeType.CARDIOVASCULAR][-1][1].fatal = fatal\n",
    "        \n",
    "    #    def get_next_outcome(self, person):\n",
    "    #        if person.has_outcome_at_current_age(OutcomeType.CARDIOVASCULAR):\n",
    "    #            if person._rng.uniform(size=1) < self.get_next_stroke_probability(person):\n",
    "    #                strokeOutcome = self.generate_next_outcome(person)\n",
    "    #                #if we decide to use different stroke/mi models, double check if fatality needs to be decided in CVModel\n",
    "    #                self.update_cv_outcome(person, strokeOutcome.fatal)\n",
    "    #                return strokeOutcome\n",
    "    #            else: \n",
    "    #                return None\n",
    "    class StrokePartitionModelFor2bpMedsAdded(StrokePartitionModel):\n",
    "        def __init__(self):\n",
    "            intercept = strokeIntercept\n",
    "            super().__init__(intercept=intercept)\n",
    "            \n",
    "    setattr(moduleStroke, \"StrokePartitionModelFor2bpMedsAdded\", StrokePartitionModelFor2bpMedsAdded)\n",
    "    \n",
    "    treatmentPop = NHANESDirectSamplePopulation(popSize, 1999)\n",
    "    treatmentStrategies._repository[TreatmentStrategiesType.BP.value].status = TreatmentStrategyStatus.BEGIN\n",
    "    treatmentPop.advance(1, treatmentStrategies = treatmentStrategies)\n",
    "    treatmentStrategies._repository[TreatmentStrategiesType.BP.value].status = TreatmentStrategyStatus.MAINTAIN\n",
    "    treatmentPop.advance(nYears-1, treatmentStrategies = treatmentStrategies)\n",
    "     \n",
    "    treatmentRisk = sum(list(map(lambda x: x.has_outcome_during_simulation(OutcomeType.STROKE), \n",
    "                             treatmentPop._people)))/treatmentPop._n\n",
    "    strokeRR = treatmentRisk/controlRisk\n",
    "    \n",
    "    treatmentRiskMI = sum(list(map(lambda x: x.has_outcome_during_simulation(OutcomeType.MI), \n",
    "                                 treatmentPop._people)))/treatmentPop._n\n",
    "    miRR = treatmentRiskMI/controlRiskMI\n",
    "    \n",
    "    if ((strokeRR-strokeRRRef)*strokeRRDiff<0) & ((miRR-miRRRef)*miRRDiff<0):\n",
    "        interceptStep = interceptStep/2\n",
    "        strokeInterceptStep = strokeInterceptStep/2"
   ]
  },
  {
   "cell_type": "code",
   "execution_count": 12,
   "id": "db9b6b7f-ed80-4103-8c8f-c35b0d4d62e3",
   "metadata": {},
   "outputs": [
    {
     "data": {
      "text/plain": [
       "821.1230021834374"
      ]
     },
     "execution_count": 12,
     "metadata": {},
     "output_type": "execute_result"
    }
   ],
   "source": [
    "timeF = time.time()\n",
    "(timeF-timeI)/60"
   ]
  },
  {
   "cell_type": "code",
   "execution_count": null,
   "id": "f0aceeef-c76b-491e-9a49-2405813cfefe",
   "metadata": {},
   "outputs": [],
   "source": [
    "strokeRRDiff = strokeRR-strokeRRRef\n",
    "if strokeRRDiff>0:\n",
    "    interceptChange = -interceptStep\n",
    "else:\n",
    "    interceptChange= interceptStep\n",
    "interceptMale += interceptChange\n",
    "interceptFemale += interceptChange\n",
    "\n",
    "print(interceptMale, interceptFemale, interceptStep, interceptChange, strokeRRDiff, strokeRR)"
   ]
  },
  {
   "cell_type": "code",
   "execution_count": null,
   "id": "9bee5731-e823-46e5-b735-23ca9bf7451d",
   "metadata": {},
   "outputs": [],
   "source": [
    "#19 -11.8284175 -12.9715475 0.00390625 -2.4164418087083006 0.001953125 0.7823834196891192 0.8673245614035087\n",
    "interceptMale = -11.8469721875\n",
    "interceptFemale = -12.9901021875\n",
    "interceptChange = -0.00048828125"
   ]
  },
  {
   "cell_type": "code",
   "execution_count": null,
   "id": "cb9e4b6a-8f31-44f5-afd4-f3c457994857",
   "metadata": {},
   "outputs": [],
   "source": [
    "controlRiskMI = sum(list(map(lambda x: x.has_outcome_during_simulation(OutcomeType.MI), \n",
    "                           controlPop._people)))/controlPop._n\n",
    "treatmentRiskMI = sum(list(map(lambda x: x.has_outcome_during_simulation(OutcomeType.MI), \n",
    "                             treatmentPop._people)))/treatmentPop._n\n",
    "miRR = treatmentRiskMI/controlRiskMI\n",
    "miRR"
   ]
  },
  {
   "cell_type": "code",
   "execution_count": null,
   "id": "e726ec26-2eb7-4f26-bf7f-0bf04210a625",
   "metadata": {},
   "outputs": [],
   "source": []
  },
  {
   "cell_type": "code",
   "execution_count": null,
   "id": "dd872076-5f6c-4339-a5aa-386b870d306a",
   "metadata": {},
   "outputs": [],
   "source": [
    "#RESULTS\n",
    "#1 bp: -11.795917500000009 -12.939047500000008 0 -2.400191808699997 -0.00125 0.7918781725888325 0.8565955117679255\n",
    "#2 bp -11.931250000000002 -13.051250000000003 0 -2.6159375 0.0015625 0.6071428571428572 0.7655677655677655\n",
    "#2 bp: 15 -11.911249999999999 -13.031249999999998 0 -2.5334375000000016 0.0025 0.6126154826377828 0.7658060581418988\n",
    "#3 bp: -12.007714375000003 -13.150500000000003 -0.0125 -2.6649999999999987 -0.0125 0.5244482907832108 0.6721311475409835\n",
    "#4 bp: -12.085210000000002 -13.228000000000002 0 -2.7462 0.01 0.38026981450252956 0.5751421608448416"
   ]
  },
  {
   "cell_type": "code",
   "execution_count": null,
   "id": "aade8ca6-75cf-46fc-bee1-f537750218e0",
   "metadata": {},
   "outputs": [],
   "source": []
  },
  {
   "cell_type": "code",
   "execution_count": null,
   "id": "4cbccc0d-bab9-4260-866f-168acb2e25dc",
   "metadata": {},
   "outputs": [],
   "source": [
    "%%time\n",
    "treatmentPop = NHANESDirectSamplePopulation(popSize, 1999)"
   ]
  },
  {
   "cell_type": "code",
   "execution_count": null,
   "id": "71a7b674-c723-472a-bc4d-31b225a21932",
   "metadata": {},
   "outputs": [],
   "source": [
    "%%time\n",
    "treatmentPop.advance(nYears, treatmentStrategies = treatmentStrategies)"
   ]
  },
  {
   "cell_type": "code",
   "execution_count": null,
   "id": "f97ec5fd-b444-42c1-a692-15dc3fd7967d",
   "metadata": {},
   "outputs": [],
   "source": [
    "controlRisk = sum(list(map(lambda x: x.has_outcome_during_simulation(OutcomeType.STROKE), \n",
    "                           controlPop._people)))/controlPop._n\n",
    "treatmentRisk = sum(list(map(lambda x: x.has_outcome_during_simulation(OutcomeType.STROKE), \n",
    "                             treatmentPop._people)))/treatmentPop._n\n",
    "strokeRR = treatmentRisk/controlRisk\n",
    "strokeRR"
   ]
  },
  {
   "cell_type": "code",
   "execution_count": null,
   "id": "78e9365c-e30e-4082-aad5-31b56ab01677",
   "metadata": {},
   "outputs": [],
   "source": [
    "if (strokeRR-strokeRRRef)*strokeRRDiff<0:\n",
    "    interceptStep = interceptStep/2\n",
    "strokeRRDiff = strokeRR-strokeRRRef"
   ]
  },
  {
   "cell_type": "code",
   "execution_count": null,
   "id": "5156e643-28b4-4b18-8b02-431e5772aa99",
   "metadata": {},
   "outputs": [],
   "source": []
  },
  {
   "cell_type": "code",
   "execution_count": null,
   "id": "1fc41b65-4464-4142-9870-f2b075fbfd0f",
   "metadata": {},
   "outputs": [],
   "source": [
    "test = {\"male\": {\"1\": \"one\",\n",
    "                 \"2\": \"two\"},\n",
    "        \"female\": {\"1\": \"one\",\n",
    "                 \"2\": \"two\"}}"
   ]
  },
  {
   "cell_type": "code",
   "execution_count": null,
   "id": "02a5152e-b89f-4614-90c5-d636ecab583f",
   "metadata": {},
   "outputs": [],
   "source": [
    "test[\"male\"][\"2\"]"
   ]
  },
  {
   "cell_type": "code",
   "execution_count": null,
   "id": "4a8ac7c9-04f3-4ce1-b1e3-c62f11872cf0",
   "metadata": {},
   "outputs": [],
   "source": []
  }
 ],
 "metadata": {
  "kernelspec": {
   "display_name": "microsimKernel",
   "language": "python",
   "name": "microsimkernel"
  },
  "language_info": {
   "codemirror_mode": {
    "name": "ipython",
    "version": 3
   },
   "file_extension": ".py",
   "mimetype": "text/x-python",
   "name": "python",
   "nbconvert_exporter": "python",
   "pygments_lexer": "ipython3",
   "version": "3.9.13"
  }
 },
 "nbformat": 4,
 "nbformat_minor": 5
}
