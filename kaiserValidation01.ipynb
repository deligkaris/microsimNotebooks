{
 "cells": [
  {
   "cell_type": "markdown",
   "id": "87a1d558-a6fc-46eb-a47a-94c912c45324",
   "metadata": {},
   "source": [
    "The goal of this notebook is to obtain the data required to do the survival analysis for stroke, mi, death and dementia events with the Kaiser population. The analysis is performed using R in a separate notebook. Almost all the code in this notebook has been incorporated to the microsim.validation.py script."
   ]
  },
  {
   "cell_type": "code",
   "execution_count": 1,
   "id": "27496c24-452e-47ce-a250-9d46f7b206dd",
   "metadata": {},
   "outputs": [],
   "source": [
    "import numpy as np\n",
    "import pandas as pd\n",
    "import os\n",
    "import matplotlib.pyplot as plt\n",
    "\n",
    "from microsim.outcome import OutcomeType\n",
    "from microsim.population_factory import PopulationFactory\n",
    "\n",
    "microsimDir = \"/Users/deligkaris.1/OneDrive - The Ohio State University Wexner Medical Center/MICROSIM/CODE/microsim\"\n",
    "os.chdir(microsimDir)\n",
    "dataDir = \"/Users/deligkaris.1/OneDrive - The Ohio State University Wexner Medical Center/MICROSIM/NOTEBOOKS/DATA\""
   ]
  },
  {
   "cell_type": "code",
   "execution_count": 2,
   "id": "a3c343bb-06f6-4a6e-9152-e96a379bf77f",
   "metadata": {},
   "outputs": [],
   "source": [
    "pd.set_option('future.no_silent_downcasting', True) "
   ]
  },
  {
   "cell_type": "code",
   "execution_count": 3,
   "id": "3dcf95ea-4504-4fcf-a8a9-529dd5545999",
   "metadata": {},
   "outputs": [
    {
     "name": "stdout",
     "output_type": "stream",
     "text": [
      "CPU times: user 20.9 s, sys: 5.85 s, total: 26.8 s\n",
      "Wall time: 18.1 s\n"
     ]
    }
   ],
   "source": [
    "%%time\n",
    "popSize = 500000\n",
    "pop = PopulationFactory.get_kaiser_population(n=popSize, personFilters=None, wmhSpecific=True)"
   ]
  },
  {
   "cell_type": "code",
   "execution_count": null,
   "id": "f9a60d01-54be-4308-b336-a4e8d9f84222",
   "metadata": {},
   "outputs": [],
   "source": [
    "%%time\n",
    "pop.advance(11, nWorkers=5)"
   ]
  },
  {
   "cell_type": "code",
   "execution_count": null,
   "id": "30f8dffb-f438-4a54-a41e-dd9ca98f493d",
   "metadata": {},
   "outputs": [],
   "source": [
    "#obtain data for the stroke survival analysis, see figure 1 in Kent2021\n",
    "strokeInfo = pop.get_outcome_survival_info(outcomesTypeList = [OutcomeType.STROKE],\n",
    "                                           personFunctionsList = [lambda x: x.get_scd_group(), \n",
    "                                                                  lambda x: x.get_wmh_severity_by_modality_group()])\n",
    "df = pd.DataFrame(strokeInfo, columns=[\"time\",\"event\", \"sbiwmhGroup\", \"severityGroup\"])\n",
    "df.to_csv(dataDir+\"/kaiserStrokeValidation13YrTimes.csv\", index=False)\n",
    "df.head()"
   ]
  },
  {
   "cell_type": "code",
   "execution_count": null,
   "id": "8bc78e05-dcb8-43bf-9593-8145e225ad0f",
   "metadata": {},
   "outputs": [],
   "source": [
    "miInfo = pop.get_outcome_survival_info(outcomesTypeList = [OutcomeType.MI],\n",
    "                                           personFunctionsList = [lambda x: x.get_scd_group(), \n",
    "                                                                  lambda x: x.get_wmh_severity_by_modality_group()])\n",
    "df = pd.DataFrame(miInfo, columns=[\"time\",\"event\", \"sbiwmhGroup\", \"severityGroup\"])\n",
    "df.to_csv(dataDir+\"/kaiserMiValidation13YrTimes.csv\", index=False)\n",
    "df.head()"
   ]
  },
  {
   "cell_type": "code",
   "execution_count": null,
   "id": "adaf40d6-d8ce-4e53-9bed-b1e7ae8098e3",
   "metadata": {},
   "outputs": [],
   "source": [
    "#obtain data for the dementia survival analysis, see figure 2 in Kent2023\n",
    "dementiaInfo = pop.get_outcome_survival_info(outcomesTypeList = [OutcomeType.DEMENTIA],\n",
    "                                           personFunctionsList = [lambda x: x.get_wmh_severity_by_modality_group(),\n",
    "                                                                  lambda x: int(x.get_outcome_item_first(OutcomeType.WMH, \"sbi\")),\n",
    "                                                                  lambda x: int(x.get_outcome_item_first(OutcomeType.WMH, \"wmh\"))])\n",
    "df = pd.DataFrame(dementiaInfo, columns=[\"time\",\"event\", \"severityGroup\", \"sbi\", \"wmh\"])\n",
    "df.to_csv(dataDir+\"/kaiserDementiaValidation13YrTimes.csv\", index=False)\n",
    "df.head()"
   ]
  },
  {
   "cell_type": "code",
   "execution_count": null,
   "id": "851d0e36-6a07-4ef4-92b9-763045d22f3e",
   "metadata": {},
   "outputs": [],
   "source": [
    "deathInfo = pop.get_outcome_survival_info(outcomesTypeList = [OutcomeType.DEATH],\n",
    "                                           personFunctionsList = [lambda x: x.get_wmh_severity_by_modality_group(),\n",
    "                                                                  lambda x: int(x.get_outcome_item_first(OutcomeType.WMH, \"sbi\")),\n",
    "                                                                  lambda x: int(x.get_outcome_item_first(OutcomeType.WMH, \"wmh\"))])\n",
    "df = pd.DataFrame(deathInfo, columns=[\"time\",\"event\", \"severityGroup\", \"sbi\", \"wmh\"])\n",
    "df.to_csv(dataDir+\"/kaiserDeathValidation13YrTimes.csv\", index=False)\n",
    "df.head()"
   ]
  },
  {
   "cell_type": "code",
   "execution_count": null,
   "id": "598beb72-5b7f-427f-9855-a17e72219f5b",
   "metadata": {},
   "outputs": [],
   "source": [
    "strokeRatesRef = {1: 36.6, 2: 28.5, 3: 47.4, 0: 8.2, 5:31.2, 6: 13.,  7:34.5, 4: 4.8}\n",
    "strokeMinCiRef = {1: 34.9, 2: 27.7, 3: 44.5, 0: 8.,  5:28.,  6: 12.4, 7:30.6, 4: 4.5}\n",
    "strokeMaxCiRef = {1: 38.4, 2: 29.3, 3: 50.5, 0: 8.4, 5:34.6, 6: 13.6, 7:38.7, 4: 5.2}\n",
    "groupStrings = {1:\"CT SBI\", 2: \"CT WMD\", 3: \"CT BOTH\", 0: \"CT NONE\", 5:\"MRI SBI\", 6:\"MRI WMD\", 7:\"MRI BOTH\", 4:\"MRI NONE\"}\n",
    "strokeRates = pop.get_outcome_incidence_rates_by_scd_and_modality_at_end_of_wave(outcomesTypeList=[OutcomeType.STROKE], wave=3)\n",
    "strokeRatesList = list()\n",
    "print(\"     Group                  Reference     Simulation\")\n",
    "for group in strokeRatesRef.keys():\n",
    "    strokeRatesList += [ [f\"{groupStrings[group]:10} \", \n",
    "                                f\"{strokeRatesRef[group]:>4.1f} ({strokeMinCiRef[group]:>5.1f} - {strokeMaxCiRef[group]:>4.1f} ) \",\n",
    "                                f\"{strokeRates[group]:<4.1f}\" ] ]\n",
    "    print(f\"{groupStrings[group]:>10} \" + \n",
    "          f\"{strokeRatesRef[group]:>10.1f} ({strokeMinCiRef[group]:>5.1f} - {strokeMaxCiRef[group]:>4.1f} ) \" +\n",
    "          f\"{strokeRates[group]:>14.1f}\")\n",
    "strokeRatesPd = pd.DataFrame(strokeRatesList, columns=[\"Group\", \"Reference\", \"Simulation\"])        \n",
    "strokeRatesPd.to_csv(dataDir+\"/kaiserStrokeValidation4YrRates.csv\", index=False)\n",
    "#strokeRatesPd"
   ]
  },
  {
   "cell_type": "code",
   "execution_count": null,
   "id": "d26bad88-efae-4949-b0e0-12f7f5f39806",
   "metadata": {},
   "outputs": [],
   "source": [
    "dementiaRatesRef = {1:32.8, 2:37.7, 3:51.6, 0:6.7, 5:16.6, 6:9.6, 7:19.1, 4:2.9}\n",
    "dementiaMinCiRef = {1:31.,  2:36.7, 3:48.3, 0:6.5, 5:14.2, 6:9.1, 7:16.2, 4:2.7}\n",
    "dementiaMaxCiRef = {1:34.6, 2:38.7, 3:55.1, 0:6.9, 5:19.3, 6:10.1,7:22.4, 4:3.3}\n",
    "dementiaRates = pop.get_outcome_incidence_rates_by_scd_and_modality_at_end_of_wave(outcomesTypeList=[OutcomeType.DEMENTIA], wave=3)\n",
    "dementiaRatesList = list()\n",
    "print(\"     Group                  Reference     Simulation\")\n",
    "for group in dementiaRatesRef.keys():\n",
    "    dementiaRatesList += [ [f\"{groupStrings[group]:>10} \", \n",
    "          f\"{dementiaRatesRef[group]:>10.1f} ({dementiaMinCiRef[group]:>5.1f} - {dementiaMaxCiRef[group]:>4.1f} ) \",\n",
    "          f\"{dementiaRates[group]:>14.1f}\"] ]\n",
    "    print(f\"{groupStrings[group]:>10} \" + \n",
    "          f\"{dementiaRatesRef[group]:>10.1f} ({dementiaMinCiRef[group]:>5.1f} - {dementiaMaxCiRef[group]:>4.1f} ) \" +\n",
    "          f\"{dementiaRates[group]:>14.1f}\")\n",
    "dementiaRatesPd = pd.DataFrame(dementiaRatesList, columns=[\"Group\", \"Reference\", \"Simulation\"])        \n",
    "dementiaRatesPd.to_csv(dataDir+\"/kaiserDementiaValidation4YrRates.csv\", index=False)"
   ]
  },
  {
   "cell_type": "code",
   "execution_count": null,
   "id": "a25090e1-4699-4023-84cb-e046406ad5a0",
   "metadata": {},
   "outputs": [],
   "source": [
    "miRates = pop.get_outcome_incidence_rates_by_scd_and_modality_at_end_of_wave(outcomesTypeList=[OutcomeType.MI], wave=3)\n",
    "#print(\"     Group                  Reference     Simulation\")\n",
    "print(\"     Group     Simulation\")\n",
    "miRatesList = list()\n",
    "for group in groupStrings.keys():\n",
    "    miRatesList += [ [f\"{groupStrings[group]:>10} \",  \n",
    "                      f\"{miRates[group]:>14.1f}\"] ]\n",
    "    print(f\"{groupStrings[group]:>10} \" + \n",
    "          f\"{miRates[group]:>14.1f}\")\n",
    "miRatesPd = pd.DataFrame(miRatesList, columns=[\"Group\", \"Simulation\"])        \n",
    "miRatesPd.to_csv(dataDir+\"/kaiserMiValidation4YrRates.csv\", index=False)"
   ]
  },
  {
   "cell_type": "code",
   "execution_count": null,
   "id": "e3639a45-40a1-4bda-9dba-8d6c450d4c85",
   "metadata": {},
   "outputs": [],
   "source": [
    "deathRatesRef = {1:61.5, 2: 63.8, 3: 84.9, 0:18.2, 5:49.2, 6:28.5, 7:53.7, 4:14.}\n",
    "deathMinCiRef = {1:59.1, 2:62.6,  3: 80.9, 0:17.8, 5:45.1, 6:27.6, 7:48.8, 4:13.4}\n",
    "deathMaxCiRef = {1:63.9, 2:65.1,  3:89.2,  0:18.5, 5:53.6, 6:29.4, 7:59.0, 4:14.6}\n",
    "deathRates = pop.get_outcome_incidence_rates_by_scd_and_modality_at_end_of_wave(outcomesTypeList=[OutcomeType.DEATH], wave=3)\n",
    "deathRatesList = list()\n",
    "print(\"     Group                  Reference     Simulation\")\n",
    "for group in deathRatesRef.keys():\n",
    "    deathRatesList += [ [f\"{groupStrings[group]:>10} \", \n",
    "                         f\"{deathRatesRef[group]:>10.1f} ({deathMinCiRef[group]:>5.1f} - {deathMaxCiRef[group]:>4.1f} ) \",\n",
    "                         f\"{deathRates[group]:>14.1f}\"] ]\n",
    "    print(f\"{groupStrings[group]:>10} \" + \n",
    "          f\"{deathRatesRef[group]:>10.1f} ({deathMinCiRef[group]:>5.1f} - {deathMaxCiRef[group]:>4.1f} ) \" +\n",
    "          f\"{deathRates[group]:>14.1f}\")\n",
    "deathRatesPd = pd.DataFrame(deathRatesList, columns=[\"Group\", \"Reference\", \"Simulation\"])        \n",
    "deathRatesPd.to_csv(dataDir+\"/kaiserDeathValidation4YrRates.csv\", index=False)"
   ]
  },
  {
   "cell_type": "code",
   "execution_count": null,
   "id": "7b364e9a-c478-4881-843a-9bff716deae9",
   "metadata": {},
   "outputs": [],
   "source": [
    "(pop.get_outcome_incidence_rates_at_end_of_wave(outcomesTypeList=[OutcomeType.STROKE],  wave=3),\n",
    "pop.get_outcome_incidence_rates_at_end_of_wave(outcomesTypeList=[OutcomeType.DEMENTIA], wave=3),\n",
    "pop.get_outcome_incidence_rates_at_end_of_wave(outcomesTypeList=[OutcomeType.DEATH], wave=3),\n",
    "pop.get_outcome_incidence_rates_at_end_of_wave(outcomesTypeList=[OutcomeType.MI], wave=3))"
   ]
  },
  {
   "cell_type": "code",
   "execution_count": null,
   "id": "3fd514f5-5268-4dd8-a10e-8b511a93d40a",
   "metadata": {},
   "outputs": [],
   "source": []
  }
 ],
 "metadata": {
  "kernelspec": {
   "display_name": "microsimKernel",
   "language": "python",
   "name": "microsimkernel"
  },
  "language_info": {
   "codemirror_mode": {
    "name": "ipython",
    "version": 3
   },
   "file_extension": ".py",
   "mimetype": "text/x-python",
   "name": "python",
   "nbconvert_exporter": "python",
   "pygments_lexer": "ipython3",
   "version": "3.9.13"
  }
 },
 "nbformat": 4,
 "nbformat_minor": 5
}
