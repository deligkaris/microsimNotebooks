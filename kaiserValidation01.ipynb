{
 "cells": [
  {
   "cell_type": "markdown",
   "id": "87a1d558-a6fc-46eb-a47a-94c912c45324",
   "metadata": {},
   "source": [
    "The goal of this notebook is to obtain the data required to do the survival analysis for stroke, mi, death and dementia events with the Kaiser population. The analysis is performed using R in a separate notebook."
   ]
  },
  {
   "cell_type": "code",
   "execution_count": 1,
   "id": "27496c24-452e-47ce-a250-9d46f7b206dd",
   "metadata": {},
   "outputs": [],
   "source": [
    "import numpy as np\n",
    "import pandas as pd\n",
    "import os\n",
    "import matplotlib.pyplot as plt\n",
    "\n",
    "from microsim.outcome import OutcomeType\n",
    "from microsim.population_factory import PopulationFactory\n",
    "\n",
    "microsimDir = \"/Users/deligkaris.1/OneDrive - The Ohio State University Wexner Medical Center/MICROSIM/CODE/microsim\"\n",
    "os.chdir(microsimDir)\n",
    "dataDir = \"/Users/deligkaris.1/OneDrive - The Ohio State University Wexner Medical Center/MICROSIM/NOTEBOOKS/DATA\""
   ]
  },
  {
   "cell_type": "code",
   "execution_count": 2,
   "id": "a3c343bb-06f6-4a6e-9152-e96a379bf77f",
   "metadata": {},
   "outputs": [],
   "source": [
    "pd.set_option('future.no_silent_downcasting', True) "
   ]
  },
  {
   "cell_type": "code",
   "execution_count": 3,
   "id": "3dcf95ea-4504-4fcf-a8a9-529dd5545999",
   "metadata": {},
   "outputs": [
    {
     "name": "stdout",
     "output_type": "stream",
     "text": [
      "CPU times: user 2min 5s, sys: 18.7 s, total: 2min 23s\n",
      "Wall time: 2min 15s\n"
     ]
    }
   ],
   "source": [
    "%%time\n",
    "popSize = 500000\n",
    "pop = PopulationFactory.get_kaiser_population(n=popSize)"
   ]
  },
  {
   "cell_type": "code",
   "execution_count": 4,
   "id": "f9a60d01-54be-4308-b336-a4e8d9f84222",
   "metadata": {},
   "outputs": [
    {
     "name": "stderr",
     "output_type": "stream",
     "text": [
      "/Users/deligkaris.1/Library/Caches/pypoetry/virtualenvs/microsim-54NoInYP-py3.9/lib/python3.9/site-packages/numpy/core/fromnumeric.py:59: FutureWarning: 'Series.swapaxes' is deprecated and will be removed in a future version. Please use 'Series.transpose' instead.\n",
      "  return bound(*args, **kwds)\n"
     ]
    },
    {
     "name": "stdout",
     "output_type": "stream",
     "text": [
      "CPU times: user 2min 29s, sys: 6min 5s, total: 8min 34s\n",
      "Wall time: 39min 54s\n"
     ]
    }
   ],
   "source": [
    "%%time\n",
    "pop.advance(11, nWorkers=5)"
   ]
  },
  {
   "cell_type": "code",
   "execution_count": 5,
   "id": "30f8dffb-f438-4a54-a41e-dd9ca98f493d",
   "metadata": {},
   "outputs": [
    {
     "data": {
      "text/html": [
       "<div>\n",
       "<style scoped>\n",
       "    .dataframe tbody tr th:only-of-type {\n",
       "        vertical-align: middle;\n",
       "    }\n",
       "\n",
       "    .dataframe tbody tr th {\n",
       "        vertical-align: top;\n",
       "    }\n",
       "\n",
       "    .dataframe thead th {\n",
       "        text-align: right;\n",
       "    }\n",
       "</style>\n",
       "<table border=\"1\" class=\"dataframe\">\n",
       "  <thead>\n",
       "    <tr style=\"text-align: right;\">\n",
       "      <th></th>\n",
       "      <th>time</th>\n",
       "      <th>event</th>\n",
       "      <th>sbiwmhGroup</th>\n",
       "      <th>severityGroup</th>\n",
       "    </tr>\n",
       "  </thead>\n",
       "  <tbody>\n",
       "    <tr>\n",
       "      <th>0</th>\n",
       "      <td>11</td>\n",
       "      <td>0</td>\n",
       "      <td>0</td>\n",
       "      <td>0</td>\n",
       "    </tr>\n",
       "    <tr>\n",
       "      <th>1</th>\n",
       "      <td>11</td>\n",
       "      <td>0</td>\n",
       "      <td>0</td>\n",
       "      <td>0</td>\n",
       "    </tr>\n",
       "    <tr>\n",
       "      <th>2</th>\n",
       "      <td>8</td>\n",
       "      <td>0</td>\n",
       "      <td>0</td>\n",
       "      <td>0</td>\n",
       "    </tr>\n",
       "    <tr>\n",
       "      <th>3</th>\n",
       "      <td>11</td>\n",
       "      <td>0</td>\n",
       "      <td>2</td>\n",
       "      <td>1</td>\n",
       "    </tr>\n",
       "    <tr>\n",
       "      <th>4</th>\n",
       "      <td>11</td>\n",
       "      <td>0</td>\n",
       "      <td>0</td>\n",
       "      <td>0</td>\n",
       "    </tr>\n",
       "  </tbody>\n",
       "</table>\n",
       "</div>"
      ],
      "text/plain": [
       "   time  event  sbiwmhGroup  severityGroup\n",
       "0    11      0            0              0\n",
       "1    11      0            0              0\n",
       "2     8      0            0              0\n",
       "3    11      0            2              1\n",
       "4    11      0            0              0"
      ]
     },
     "execution_count": 5,
     "metadata": {},
     "output_type": "execute_result"
    }
   ],
   "source": [
    "#obtain data for the stroke survival analysis, see figure 1 in Kent2021\n",
    "strokeInfo = pop.get_outcome_survival_info(outcomesTypeList = [OutcomeType.STROKE],\n",
    "                                           personFunctionsList = [lambda x: x.get_scd_group(), \n",
    "                                                                  lambda x: x.get_wmh_severity_by_modality_group()])\n",
    "df = pd.DataFrame(strokeInfo, columns=[\"time\",\"event\", \"sbiwmhGroup\", \"severityGroup\"])\n",
    "df.to_csv(dataDir+\"/kaiserStrokeValidation13YrTimes.csv\", index=False)\n",
    "df.head()"
   ]
  },
  {
   "cell_type": "code",
   "execution_count": 6,
   "id": "8bc78e05-dcb8-43bf-9593-8145e225ad0f",
   "metadata": {},
   "outputs": [
    {
     "data": {
      "text/html": [
       "<div>\n",
       "<style scoped>\n",
       "    .dataframe tbody tr th:only-of-type {\n",
       "        vertical-align: middle;\n",
       "    }\n",
       "\n",
       "    .dataframe tbody tr th {\n",
       "        vertical-align: top;\n",
       "    }\n",
       "\n",
       "    .dataframe thead th {\n",
       "        text-align: right;\n",
       "    }\n",
       "</style>\n",
       "<table border=\"1\" class=\"dataframe\">\n",
       "  <thead>\n",
       "    <tr style=\"text-align: right;\">\n",
       "      <th></th>\n",
       "      <th>time</th>\n",
       "      <th>event</th>\n",
       "      <th>sbiwmhGroup</th>\n",
       "      <th>severityGroup</th>\n",
       "    </tr>\n",
       "  </thead>\n",
       "  <tbody>\n",
       "    <tr>\n",
       "      <th>0</th>\n",
       "      <td>11</td>\n",
       "      <td>0</td>\n",
       "      <td>0</td>\n",
       "      <td>0</td>\n",
       "    </tr>\n",
       "    <tr>\n",
       "      <th>1</th>\n",
       "      <td>11</td>\n",
       "      <td>0</td>\n",
       "      <td>0</td>\n",
       "      <td>0</td>\n",
       "    </tr>\n",
       "    <tr>\n",
       "      <th>2</th>\n",
       "      <td>8</td>\n",
       "      <td>0</td>\n",
       "      <td>0</td>\n",
       "      <td>0</td>\n",
       "    </tr>\n",
       "    <tr>\n",
       "      <th>3</th>\n",
       "      <td>11</td>\n",
       "      <td>0</td>\n",
       "      <td>2</td>\n",
       "      <td>1</td>\n",
       "    </tr>\n",
       "    <tr>\n",
       "      <th>4</th>\n",
       "      <td>9</td>\n",
       "      <td>1</td>\n",
       "      <td>0</td>\n",
       "      <td>0</td>\n",
       "    </tr>\n",
       "  </tbody>\n",
       "</table>\n",
       "</div>"
      ],
      "text/plain": [
       "   time  event  sbiwmhGroup  severityGroup\n",
       "0    11      0            0              0\n",
       "1    11      0            0              0\n",
       "2     8      0            0              0\n",
       "3    11      0            2              1\n",
       "4     9      1            0              0"
      ]
     },
     "execution_count": 6,
     "metadata": {},
     "output_type": "execute_result"
    }
   ],
   "source": [
    "miInfo = pop.get_outcome_survival_info(outcomesTypeList = [OutcomeType.MI],\n",
    "                                           personFunctionsList = [lambda x: x.get_scd_group(), \n",
    "                                                                  lambda x: x.get_wmh_severity_by_modality_group()])\n",
    "df = pd.DataFrame(miInfo, columns=[\"time\",\"event\", \"sbiwmhGroup\", \"severityGroup\"])\n",
    "df.to_csv(dataDir+\"/kaiserMiValidation13YrTimes.csv\", index=False)\n",
    "df.head()"
   ]
  },
  {
   "cell_type": "code",
   "execution_count": 7,
   "id": "adaf40d6-d8ce-4e53-9bed-b1e7ae8098e3",
   "metadata": {},
   "outputs": [
    {
     "data": {
      "text/html": [
       "<div>\n",
       "<style scoped>\n",
       "    .dataframe tbody tr th:only-of-type {\n",
       "        vertical-align: middle;\n",
       "    }\n",
       "\n",
       "    .dataframe tbody tr th {\n",
       "        vertical-align: top;\n",
       "    }\n",
       "\n",
       "    .dataframe thead th {\n",
       "        text-align: right;\n",
       "    }\n",
       "</style>\n",
       "<table border=\"1\" class=\"dataframe\">\n",
       "  <thead>\n",
       "    <tr style=\"text-align: right;\">\n",
       "      <th></th>\n",
       "      <th>time</th>\n",
       "      <th>event</th>\n",
       "      <th>severityGroup</th>\n",
       "      <th>sbi</th>\n",
       "      <th>wmh</th>\n",
       "    </tr>\n",
       "  </thead>\n",
       "  <tbody>\n",
       "    <tr>\n",
       "      <th>0</th>\n",
       "      <td>11</td>\n",
       "      <td>0</td>\n",
       "      <td>0</td>\n",
       "      <td>0</td>\n",
       "      <td>0</td>\n",
       "    </tr>\n",
       "    <tr>\n",
       "      <th>1</th>\n",
       "      <td>11</td>\n",
       "      <td>0</td>\n",
       "      <td>0</td>\n",
       "      <td>0</td>\n",
       "      <td>0</td>\n",
       "    </tr>\n",
       "    <tr>\n",
       "      <th>2</th>\n",
       "      <td>8</td>\n",
       "      <td>0</td>\n",
       "      <td>0</td>\n",
       "      <td>0</td>\n",
       "      <td>0</td>\n",
       "    </tr>\n",
       "    <tr>\n",
       "      <th>3</th>\n",
       "      <td>11</td>\n",
       "      <td>0</td>\n",
       "      <td>1</td>\n",
       "      <td>0</td>\n",
       "      <td>1</td>\n",
       "    </tr>\n",
       "    <tr>\n",
       "      <th>4</th>\n",
       "      <td>11</td>\n",
       "      <td>0</td>\n",
       "      <td>0</td>\n",
       "      <td>0</td>\n",
       "      <td>0</td>\n",
       "    </tr>\n",
       "  </tbody>\n",
       "</table>\n",
       "</div>"
      ],
      "text/plain": [
       "   time  event  severityGroup  sbi  wmh\n",
       "0    11      0              0    0    0\n",
       "1    11      0              0    0    0\n",
       "2     8      0              0    0    0\n",
       "3    11      0              1    0    1\n",
       "4    11      0              0    0    0"
      ]
     },
     "execution_count": 7,
     "metadata": {},
     "output_type": "execute_result"
    }
   ],
   "source": [
    "#obtain data for the dementia survival analysis, see figure 2 in Kent2023\n",
    "dementiaInfo = pop.get_outcome_survival_info(outcomesTypeList = [OutcomeType.DEMENTIA],\n",
    "                                           personFunctionsList = [lambda x: x.get_wmh_severity_by_modality_group(),\n",
    "                                                                  lambda x: int(x.get_outcome_item_first(OutcomeType.WMH, \"sbi\")),\n",
    "                                                                  lambda x: int(x.get_outcome_item_first(OutcomeType.WMH, \"wmh\"))])\n",
    "df = pd.DataFrame(dementiaInfo, columns=[\"time\",\"event\", \"severityGroup\", \"sbi\", \"wmh\"])\n",
    "df.to_csv(dataDir+\"/kaiserDementiaValidation13YrTimes.csv\", index=False)\n",
    "df.head()"
   ]
  },
  {
   "cell_type": "code",
   "execution_count": 8,
   "id": "851d0e36-6a07-4ef4-92b9-763045d22f3e",
   "metadata": {},
   "outputs": [
    {
     "data": {
      "text/html": [
       "<div>\n",
       "<style scoped>\n",
       "    .dataframe tbody tr th:only-of-type {\n",
       "        vertical-align: middle;\n",
       "    }\n",
       "\n",
       "    .dataframe tbody tr th {\n",
       "        vertical-align: top;\n",
       "    }\n",
       "\n",
       "    .dataframe thead th {\n",
       "        text-align: right;\n",
       "    }\n",
       "</style>\n",
       "<table border=\"1\" class=\"dataframe\">\n",
       "  <thead>\n",
       "    <tr style=\"text-align: right;\">\n",
       "      <th></th>\n",
       "      <th>time</th>\n",
       "      <th>event</th>\n",
       "      <th>severityGroup</th>\n",
       "      <th>sbi</th>\n",
       "      <th>wmh</th>\n",
       "    </tr>\n",
       "  </thead>\n",
       "  <tbody>\n",
       "    <tr>\n",
       "      <th>0</th>\n",
       "      <td>11</td>\n",
       "      <td>0</td>\n",
       "      <td>0</td>\n",
       "      <td>0</td>\n",
       "      <td>0</td>\n",
       "    </tr>\n",
       "    <tr>\n",
       "      <th>1</th>\n",
       "      <td>11</td>\n",
       "      <td>0</td>\n",
       "      <td>0</td>\n",
       "      <td>0</td>\n",
       "      <td>0</td>\n",
       "    </tr>\n",
       "    <tr>\n",
       "      <th>2</th>\n",
       "      <td>8</td>\n",
       "      <td>1</td>\n",
       "      <td>0</td>\n",
       "      <td>0</td>\n",
       "      <td>0</td>\n",
       "    </tr>\n",
       "    <tr>\n",
       "      <th>3</th>\n",
       "      <td>11</td>\n",
       "      <td>0</td>\n",
       "      <td>1</td>\n",
       "      <td>0</td>\n",
       "      <td>1</td>\n",
       "    </tr>\n",
       "    <tr>\n",
       "      <th>4</th>\n",
       "      <td>11</td>\n",
       "      <td>0</td>\n",
       "      <td>0</td>\n",
       "      <td>0</td>\n",
       "      <td>0</td>\n",
       "    </tr>\n",
       "  </tbody>\n",
       "</table>\n",
       "</div>"
      ],
      "text/plain": [
       "   time  event  severityGroup  sbi  wmh\n",
       "0    11      0              0    0    0\n",
       "1    11      0              0    0    0\n",
       "2     8      1              0    0    0\n",
       "3    11      0              1    0    1\n",
       "4    11      0              0    0    0"
      ]
     },
     "execution_count": 8,
     "metadata": {},
     "output_type": "execute_result"
    }
   ],
   "source": [
    "deathInfo = pop.get_outcome_survival_info(outcomesTypeList = [OutcomeType.DEATH],\n",
    "                                           personFunctionsList = [lambda x: x.get_wmh_severity_by_modality_group(),\n",
    "                                                                  lambda x: int(x.get_outcome_item_first(OutcomeType.WMH, \"sbi\")),\n",
    "                                                                  lambda x: int(x.get_outcome_item_first(OutcomeType.WMH, \"wmh\"))])\n",
    "df = pd.DataFrame(deathInfo, columns=[\"time\",\"event\", \"severityGroup\", \"sbi\", \"wmh\"])\n",
    "df.to_csv(dataDir+\"/kaiserDeathValidation13YrTimes.csv\", index=False)\n",
    "df.head()"
   ]
  },
  {
   "cell_type": "code",
   "execution_count": 9,
   "id": "598beb72-5b7f-427f-9855-a17e72219f5b",
   "metadata": {},
   "outputs": [
    {
     "name": "stdout",
     "output_type": "stream",
     "text": [
      "     Group                  Reference     Simulation\n",
      "    CT SBI       36.6 ( 34.9 - 38.4 )           34.0\n",
      "    CT WMD       28.5 ( 27.7 - 29.3 )           27.1\n",
      "   CT BOTH       47.4 ( 44.5 - 50.5 )           54.3\n",
      "   CT NONE        8.2 (  8.0 -  8.4 )            6.9\n",
      "   MRI SBI       31.2 ( 28.0 - 34.6 )           26.0\n",
      "   MRI WMD       13.0 ( 12.4 - 13.6 )           12.6\n",
      "  MRI BOTH       34.5 ( 30.6 - 38.7 )           36.5\n",
      "  MRI NONE        4.8 (  4.5 -  5.2 )            5.2\n"
     ]
    }
   ],
   "source": [
    "strokeRatesRef = {1: 36.6, 2: 28.5, 3: 47.4, 0: 8.2, 5:31.2, 6: 13.,  7:34.5, 4: 4.8}\n",
    "strokeMinCiRef = {1: 34.9, 2: 27.7, 3: 44.5, 0: 8.,  5:28.,  6: 12.4, 7:30.6, 4: 4.5}\n",
    "strokeMaxCiRef = {1: 38.4, 2: 29.3, 3: 50.5, 0: 8.4, 5:34.6, 6: 13.6, 7:38.7, 4: 5.2}\n",
    "groupStrings = {1:\"CT SBI\", 2: \"CT WMD\", 3: \"CT BOTH\", 0: \"CT NONE\", 5:\"MRI SBI\", 6:\"MRI WMD\", 7:\"MRI BOTH\", 4:\"MRI NONE\"}\n",
    "strokeRates = pop.get_outcome_incidence_rates_by_scd_and_modality_at_end_of_wave(outcomesTypeList=[OutcomeType.STROKE], wave=3)\n",
    "strokeRatesList = list()\n",
    "print(\"     Group                  Reference     Simulation\")\n",
    "for group in strokeRatesRef.keys():\n",
    "    strokeRatesList += [ [f\"{groupStrings[group]:10} \", \n",
    "                                f\"{strokeRatesRef[group]:>4.1f} ({strokeMinCiRef[group]:>5.1f} - {strokeMaxCiRef[group]:>4.1f} ) \",\n",
    "                                f\"{strokeRates[group]:<4.1f}\" ] ]\n",
    "    print(f\"{groupStrings[group]:>10} \" + \n",
    "          f\"{strokeRatesRef[group]:>10.1f} ({strokeMinCiRef[group]:>5.1f} - {strokeMaxCiRef[group]:>4.1f} ) \" +\n",
    "          f\"{strokeRates[group]:>14.1f}\")\n",
    "strokeRatesPd = pd.DataFrame(strokeRatesList, columns=[\"Group\", \"Reference\", \"Simulation\"])        \n",
    "strokeRatesPd.to_csv(dataDir+\"/kaiserStrokeValidation4YrRates.csv\", index=False)\n",
    "#strokeRatesPd"
   ]
  },
  {
   "cell_type": "code",
   "execution_count": 10,
   "id": "d26bad88-efae-4949-b0e0-12f7f5f39806",
   "metadata": {},
   "outputs": [
    {
     "name": "stdout",
     "output_type": "stream",
     "text": [
      "     Group                  Reference     Simulation\n",
      "    CT SBI       32.8 ( 31.0 - 34.6 )           14.4\n",
      "    CT WMD       37.7 ( 36.7 - 38.7 )           28.6\n",
      "   CT BOTH       51.6 ( 48.3 - 55.1 )           60.2\n",
      "   CT NONE        6.7 (  6.5 -  6.9 )            6.5\n",
      "   MRI SBI       16.6 ( 14.2 - 19.3 )            5.5\n",
      "   MRI WMD        9.6 (  9.1 - 10.1 )            9.1\n",
      "  MRI BOTH       19.1 ( 16.2 - 22.4 )           15.8\n",
      "  MRI NONE        2.9 (  2.7 -  3.3 )            2.8\n"
     ]
    }
   ],
   "source": [
    "dementiaRatesRef = {1:32.8, 2:37.7, 3:51.6, 0:6.7, 5:16.6, 6:9.6, 7:19.1, 4:2.9}\n",
    "dementiaMinCiRef = {1:31.,  2:36.7, 3:48.3, 0:6.5, 5:14.2, 6:9.1, 7:16.2, 4:2.7}\n",
    "dementiaMaxCiRef = {1:34.6, 2:38.7, 3:55.1, 0:6.9, 5:19.3, 6:10.1,7:22.4, 4:3.3}\n",
    "dementiaRates = pop.get_outcome_incidence_rates_by_scd_and_modality_at_end_of_wave(outcomesTypeList=[OutcomeType.DEMENTIA], wave=3)\n",
    "dementiaRatesList = list()\n",
    "print(\"     Group                  Reference     Simulation\")\n",
    "for group in dementiaRatesRef.keys():\n",
    "    dementiaRatesList += [ [f\"{groupStrings[group]:>10} \", \n",
    "          f\"{dementiaRatesRef[group]:>10.1f} ({dementiaMinCiRef[group]:>5.1f} - {dementiaMaxCiRef[group]:>4.1f} ) \",\n",
    "          f\"{dementiaRates[group]:>14.1f}\"] ]\n",
    "    print(f\"{groupStrings[group]:>10} \" + \n",
    "          f\"{dementiaRatesRef[group]:>10.1f} ({dementiaMinCiRef[group]:>5.1f} - {dementiaMaxCiRef[group]:>4.1f} ) \" +\n",
    "          f\"{dementiaRates[group]:>14.1f}\")\n",
    "dementiaRatesPd = pd.DataFrame(dementiaRatesList, columns=[\"Group\", \"Reference\", \"Simulation\"])        \n",
    "dementiaRatesPd.to_csv(dataDir+\"/kaiserDementiaValidation4YrRates.csv\", index=False)"
   ]
  },
  {
   "cell_type": "code",
   "execution_count": 11,
   "id": "a25090e1-4699-4023-84cb-e046406ad5a0",
   "metadata": {},
   "outputs": [
    {
     "name": "stdout",
     "output_type": "stream",
     "text": [
      "     Group     Simulation\n",
      "    CT SBI           36.1\n",
      "    CT WMD           23.2\n",
      "   CT BOTH           41.9\n",
      "   CT NONE            7.0\n",
      "   MRI SBI           35.3\n",
      "   MRI WMD           12.8\n",
      "  MRI BOTH           39.0\n",
      "  MRI NONE            6.1\n"
     ]
    }
   ],
   "source": [
    "miRates = pop.get_outcome_incidence_rates_by_scd_and_modality_at_end_of_wave(outcomesTypeList=[OutcomeType.MI], wave=3)\n",
    "#print(\"     Group                  Reference     Simulation\")\n",
    "print(\"     Group     Simulation\")\n",
    "miRatesList = list()\n",
    "for group in groupStrings.keys():\n",
    "    miRatesList += [ [f\"{groupStrings[group]:>10} \",  \n",
    "                      f\"{miRates[group]:>14.1f}\"] ]\n",
    "    print(f\"{groupStrings[group]:>10} \" + \n",
    "          f\"{miRates[group]:>14.1f}\")\n",
    "miRatesPd = pd.DataFrame(miRatesList, columns=[\"Group\", \"Simulation\"])        \n",
    "miRatesPd.to_csv(dataDir+\"/kaiserMiValidation4YrRates.csv\", index=False)"
   ]
  },
  {
   "cell_type": "code",
   "execution_count": 12,
   "id": "e3639a45-40a1-4bda-9dba-8d6c450d4c85",
   "metadata": {},
   "outputs": [
    {
     "name": "stdout",
     "output_type": "stream",
     "text": [
      "     Group                  Reference     Simulation\n",
      "    CT SBI       61.5 ( 59.1 - 63.9 )           42.5\n",
      "    CT WMD       63.8 ( 62.6 - 65.1 )           52.6\n",
      "   CT BOTH       84.9 ( 80.9 - 89.2 )           95.2\n",
      "   CT NONE       18.2 ( 17.8 - 18.5 )           18.9\n",
      "   MRI SBI       49.2 ( 45.1 - 53.6 )           37.0\n",
      "   MRI WMD       28.5 ( 27.6 - 29.4 )           30.5\n",
      "  MRI BOTH       53.7 ( 48.8 - 59.0 )           71.9\n",
      "  MRI NONE       14.0 ( 13.4 - 14.6 )           13.4\n"
     ]
    }
   ],
   "source": [
    "deathRatesRef = {1:61.5, 2: 63.8, 3: 84.9, 0:18.2, 5:49.2, 6:28.5, 7:53.7, 4:14.}\n",
    "deathMinCiRef = {1:59.1, 2:62.6,  3: 80.9, 0:17.8, 5:45.1, 6:27.6, 7:48.8, 4:13.4}\n",
    "deathMaxCiRef = {1:63.9, 2:65.1,  3:89.2,  0:18.5, 5:53.6, 6:29.4, 7:59.0, 4:14.6}\n",
    "deathRates = pop.get_outcome_incidence_rates_by_scd_and_modality_at_end_of_wave(outcomesTypeList=[OutcomeType.DEATH], wave=3)\n",
    "deathRatesList = list()\n",
    "print(\"     Group                  Reference     Simulation\")\n",
    "for group in deathRatesRef.keys():\n",
    "    deathRatesList += [ [f\"{groupStrings[group]:>10} \", \n",
    "                         f\"{deathRatesRef[group]:>10.1f} ({deathMinCiRef[group]:>5.1f} - {deathMaxCiRef[group]:>4.1f} ) \",\n",
    "                         f\"{deathRates[group]:>14.1f}\"] ]\n",
    "    print(f\"{groupStrings[group]:>10} \" + \n",
    "          f\"{deathRatesRef[group]:>10.1f} ({deathMinCiRef[group]:>5.1f} - {deathMaxCiRef[group]:>4.1f} ) \" +\n",
    "          f\"{deathRates[group]:>14.1f}\")\n",
    "deathRatesPd = pd.DataFrame(deathRatesList, columns=[\"Group\", \"Reference\", \"Simulation\"])        \n",
    "deathRatesPd.to_csv(dataDir+\"/kaiserDeathValidation4YrRates.csv\", index=False)"
   ]
  },
  {
   "cell_type": "code",
   "execution_count": null,
   "id": "7b364e9a-c478-4881-843a-9bff716deae9",
   "metadata": {},
   "outputs": [],
   "source": []
  }
 ],
 "metadata": {
  "kernelspec": {
   "display_name": "microsimKernel",
   "language": "python",
   "name": "microsimkernel"
  },
  "language_info": {
   "codemirror_mode": {
    "name": "ipython",
    "version": 3
   },
   "file_extension": ".py",
   "mimetype": "text/x-python",
   "name": "python",
   "nbconvert_exporter": "python",
   "pygments_lexer": "ipython3",
   "version": "3.9.13"
  }
 },
 "nbformat": 4,
 "nbformat_minor": 5
}
