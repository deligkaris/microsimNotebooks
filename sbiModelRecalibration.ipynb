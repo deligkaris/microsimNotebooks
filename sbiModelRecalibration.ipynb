{
 "cells": [
  {
   "cell_type": "markdown",
   "id": "376b4d4e-0722-46c0-a72c-473439c0bcca",
   "metadata": {},
   "source": [
    "The goal of this notebook is to find the recalibrated intercept for the SBI model that reproduces the SBI rate at the Kaiser population."
   ]
  },
  {
   "cell_type": "code",
   "execution_count": 1,
   "id": "23af4ccf-14d2-4b1f-9027-c6e2fe84ab34",
   "metadata": {},
   "outputs": [],
   "source": [
    "import numpy as np\n",
    "import pandas as pd\n",
    "import os\n",
    "import matplotlib.pyplot as plt\n",
    "import importlib.util\n",
    "\n",
    "from microsim.population_factory import PopulationFactory\n",
    "from microsim.outcome import OutcomeType\n",
    "from microsim.sbi_model import SBIModel\n",
    "\n",
    "microsimDir = \"/Users/deligkaris.1/OneDrive - The Ohio State University Wexner Medical Center/MICROSIM/CODE/microsim\"\n",
    "os.chdir(microsimDir)"
   ]
  },
  {
   "cell_type": "code",
   "execution_count": 2,
   "id": "a3ac0f3f-4610-4e62-892c-fc133c045930",
   "metadata": {},
   "outputs": [],
   "source": [
    "pd.set_option('future.no_silent_downcasting', True) "
   ]
  },
  {
   "cell_type": "code",
   "execution_count": 9,
   "id": "6f3ca8f6-edc9-42a0-ac3b-a7ef6a38c517",
   "metadata": {},
   "outputs": [
    {
     "name": "stderr",
     "output_type": "stream",
     "text": [
      "/Users/deligkaris.1/Library/CloudStorage/OneDrive-TheOhioStateUniversityWexnerMedicalCenter/MICROSIM/CODE/microsim/microsim/population_factory.py:525: FutureWarning: The behavior of DataFrame concatenation with empty or all-NA entries is deprecated. In a future version, this will no longer exclude empty or all-NA columns when determining the result dtypes. To retain the old behavior, exclude the relevant entries before the concat operation.\n",
      "  df = pd.concat([df,dfForGroup])\n",
      "/Users/deligkaris.1/Library/Caches/pypoetry/virtualenvs/microsim-54NoInYP-py3.9/lib/python3.9/site-packages/numpy/core/fromnumeric.py:59: FutureWarning: 'Series.swapaxes' is deprecated and will be removed in a future version. Please use 'Series.transpose' instead.\n",
      "  return bound(*args, **kwds)\n"
     ]
    }
   ],
   "source": [
    "popSize = 1000000\n",
    "pop = PopulationFactory.get_kaiser_population(n=popSize)\n",
    "pop.advance(1, nWorkers=5)"
   ]
  },
  {
   "cell_type": "code",
   "execution_count": 10,
   "id": "dcdcaed9-7fb7-41d9-99d5-9b1d11a46cb7",
   "metadata": {},
   "outputs": [],
   "source": [
    "#the SBI rate based on the Kaiser population, the SBI model should reproduce this rate\n",
    "kaiserSbiRate = 0.0438"
   ]
  },
  {
   "cell_type": "code",
   "execution_count": 11,
   "id": "de9d4c42-a2c2-4586-a55e-4ca7032ff512",
   "metadata": {},
   "outputs": [],
   "source": [
    "#I will use a subclass to find the recalibrated intercept instead of monkey-patching\n",
    "class SBIModelRecalibrated(SBIModel):\n",
    "    def __init__(self):\n",
    "        pass\n",
    "    \n",
    "    def estimate_next_risk(self, person, interceptChange=0.):\n",
    "        lp = super().calc_linear_predictor_for_patient_characteristics(\n",
    "            person._gender,\n",
    "            person._raceEthnicity,\n",
    "            person._smokingStatus,\n",
    "            person._statin[-1],\n",
    "            person._afib[-1],\n",
    "            person._pvd[-1],\n",
    "            person._age[-1],\n",
    "            person._sbp[-1],\n",
    "            person._dbp[-1],\n",
    "            person._bmi[-1],\n",
    "            person._anyPhysicalActivity[-1],\n",
    "            person._antiHypertensiveCount[-1],\n",
    "            #person._otherLipidLowering,\n",
    "            person._a1c[-1],\n",
    "            person._totChol[-1],\n",
    "            person._hdl[-1],\n",
    "            person._ldl[-1],\n",
    "            person._trig[-1],\n",
    "            person._creatinine[-1])\n",
    "        #this modifies the intercept of the model\n",
    "        lp += interceptChange\n",
    "        return True if person._rng.uniform()<self.inverse_logit(lp) else False"
   ]
  },
  {
   "cell_type": "code",
   "execution_count": 12,
   "id": "27a4b0a5-b034-43f2-8b05-7d67138e6b53",
   "metadata": {},
   "outputs": [
    {
     "name": "stdout",
     "output_type": "stream",
     "text": [
      "0.0438 0.055613 -0.011813000000000004 -0.1 0.1\n"
     ]
    }
   ],
   "source": [
    "interceptChange=0\n",
    "interceptChangeStep = 0.1\n",
    "simSbiRate = np.mean(list(map(lambda x: SBIModelRecalibrated().estimate_next_risk(x, interceptChange=0), pop._people)))\n",
    "diff = kaiserSbiRate-simSbiRate\n",
    "if diff>0:\n",
    "    interceptChange += interceptChangeStep\n",
    "else:\n",
    "    interceptChange += -interceptChangeStep\n",
    "print(kaiserSbiRate, simSbiRate, diff, interceptChange, interceptChangeStep)"
   ]
  },
  {
   "cell_type": "code",
   "execution_count": 13,
   "id": "6460fddb-76f4-404d-a97e-c462add971dd",
   "metadata": {},
   "outputs": [
    {
     "name": "stdout",
     "output_type": "stream",
     "text": [
      "0.0438 0.050503 -0.011813000000000004 -0.1 0.1\n",
      "0.0438 0.046188 -0.006703000000000001 -0.2 0.1\n",
      "0.0438 0.042248 -0.0023880000000000012 -0.30000000000000004 0.1\n",
      "0.0438 0.043566 0.0015519999999999978 -0.25000000000000006 0.05\n",
      "0.0438 0.045966 0.0002339999999999981 -0.20000000000000007 0.05\n",
      "0.0438 0.045068 -0.0021660000000000013 -0.22500000000000006 0.025\n",
      "0.0438 0.044118 -0.0012679999999999983 -0.25000000000000006 0.025\n",
      "0.0438 0.04276 -0.00031799999999999884 -0.2750000000000001 0.025\n",
      "0.0438 0.043454 0.0010399999999999993 -0.26250000000000007 0.0125\n",
      "0.0438 0.043873 0.0003459999999999991 -0.25000000000000006 0.0125\n",
      "0.0438 0.043268 -7.300000000000362e-05 -0.25625000000000003 0.00625\n",
      "0.0438 0.043897 0.0005319999999999978 -0.25312500000000004 0.003125\n",
      "0.0438 0.044102 -9.699999999999986e-05 -0.25468750000000007 0.0015625\n",
      "0.0438 0.043591 -0.00030200000000000365 -0.2562500000000001 0.0015625\n",
      "0.0438 0.044264 0.00020900000000000085 -0.2554687500000001 0.00078125\n",
      "0.0438 0.043231 -0.00046399999999999914 -0.25585937500000006 0.000390625\n",
      "0.0438 0.043762 0.0005690000000000001 -0.25566406250000007 0.0001953125\n",
      "0.0438 0.044031 3.799999999999637e-05 -0.2554687500000001 0.0001953125\n",
      "0.0438 0.043762 -0.00023100000000000204 -0.2555664062500001 9.765625e-05\n",
      "0.0438 0.04365 3.799999999999637e-05 -0.2555175781250001 4.8828125e-05\n",
      "0.0438 0.043425 0.00014999999999999736 -0.2554687500000001 4.8828125e-05\n",
      "0.0438 0.043841 0.00037500000000000033 -0.25541992187500007 4.8828125e-05\n",
      "0.0438 0.043655 -4.099999999999937e-05 -0.25544433593750004 2.44140625e-05\n",
      "0.0438 0.044066 0.0001449999999999993 -0.25543212890625006 1.220703125e-05\n",
      "0.0438 0.043889 -0.00026600000000000235 -0.2554382324218751 6.103515625e-06\n",
      "0.0438 0.043651 -8.89999999999988e-05 -0.2554443359375001 6.103515625e-06\n",
      "0.0438 0.044094 0.00014899999999999636 -0.2554412841796876 3.0517578125e-06\n",
      "0.0438 0.043768 -0.0002940000000000026 -0.2554428100585938 1.52587890625e-06\n",
      "0.0438 0.043821 3.199999999999731e-05 -0.2554420471191407 7.62939453125e-07\n",
      "0.0438 0.043895 -2.1000000000000185e-05 -0.2554424285888673 3.814697265625e-07\n",
      "0.0438 0.044298 -9.50000000000048e-05 -0.25544281005859387 3.814697265625e-07\n",
      "0.0438 0.044165 -0.0004979999999999984 -0.25544319152832046 3.814697265625e-07\n",
      "0.0438 0.044191 -0.0003650000000000042 -0.25544357299804704 3.814697265625e-07\n",
      "0.0438 0.043733 -0.00039100000000000246 -0.2554439544677736 3.814697265625e-07\n",
      "0.0438 0.043609 6.699999999999762e-05 -0.25544376373291033 1.9073486328125e-07\n",
      "0.0438 0.043749 0.00019099999999999673 -0.25544357299804704 1.9073486328125e-07\n",
      "0.0438 0.043846 5.099999999999549e-05 -0.25544338226318375 1.9073486328125e-07\n",
      "0.0438 0.043868 -4.600000000000437e-05 -0.25544347763061537 9.5367431640625e-08\n",
      "0.0438 0.043631 -6.799999999999862e-05 -0.255443572998047 9.5367431640625e-08\n",
      "0.0438 0.043767 0.00016899999999999554 -0.2554435253143312 4.76837158203125e-08\n",
      "0.0438 0.04382 3.299999999999831e-05 -0.25544347763061537 4.76837158203125e-08\n",
      "0.0438 0.043503 -1.9999999999999185e-05 -0.2554435014724733 2.384185791015625e-08\n",
      "0.0438 0.043895 0.00029699999999999865 -0.25544348955154433 1.1920928955078126e-08\n",
      "0.0438 0.043517 -9.50000000000048e-05 -0.2554434955120088 5.960464477539063e-09\n",
      "0.0438 0.043825 0.00028299999999999853 -0.25544349253177656 2.9802322387695314e-09\n",
      "0.0438 0.043869 -2.5000000000004186e-05 -0.2554434940218927 1.4901161193847657e-09\n",
      "0.0438 0.043825 -6.899999999999962e-05 -0.25544349551200884 1.4901161193847657e-09\n",
      "0.0438 0.043862 -2.5000000000004186e-05 -0.255443497002125 1.4901161193847657e-09\n",
      "0.0438 0.043575 -6.199999999999956e-05 -0.25544349849224113 1.4901161193847657e-09\n",
      "0.0438 0.043787 0.00022499999999999604 -0.25544349774718306 7.450580596923829e-10\n"
     ]
    }
   ],
   "source": [
    "for i in range(50):\n",
    "    simSbiRate = np.mean(list(map(lambda x: SBIModelRecalibrated().estimate_next_risk(x, interceptChange=interceptChange), pop._people)))\n",
    "    print(kaiserSbiRate, simSbiRate, diff, interceptChange, interceptChangeStep)    \n",
    "    diffOld = diff\n",
    "    diff = kaiserSbiRate-simSbiRate\n",
    "    if diffOld*diff<0:\n",
    "        interceptChangeStep = interceptChangeStep/2.\n",
    "    if diff>0:\n",
    "        interceptChange += interceptChangeStep\n",
    "    else:\n",
    "        interceptChange += -interceptChangeStep"
   ]
  },
  {
   "cell_type": "code",
   "execution_count": 14,
   "id": "b942c89a-4313-41d4-bb9c-cab39388f714",
   "metadata": {},
   "outputs": [
    {
     "name": "stdout",
     "output_type": "stream",
     "text": [
      "0.0438 0.043787 1.2999999999999123e-05 -0.255443497002125 7.450580596923829e-10\n"
     ]
    }
   ],
   "source": [
    "print(kaiserSbiRate, simSbiRate, diff, interceptChange, interceptChangeStep)"
   ]
  },
  {
   "cell_type": "code",
   "execution_count": null,
   "id": "5f376178-e8a9-4423-b2db-54634368b4e4",
   "metadata": {},
   "outputs": [],
   "source": []
  }
 ],
 "metadata": {
  "kernelspec": {
   "display_name": "microsimKernel",
   "language": "python",
   "name": "microsimkernel"
  },
  "language_info": {
   "codemirror_mode": {
    "name": "ipython",
    "version": 3
   },
   "file_extension": ".py",
   "mimetype": "text/x-python",
   "name": "python",
   "nbconvert_exporter": "python",
   "pygments_lexer": "ipython3",
   "version": "3.9.13"
  }
 },
 "nbformat": 4,
 "nbformat_minor": 5
}
