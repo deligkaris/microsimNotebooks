{
 "cells": [
  {
   "cell_type": "markdown",
   "id": "11f6d57a-b7b6-4dbe-a67c-6da6ea22c03b",
   "metadata": {},
   "source": [
    "The goal of this notebook is to perform some preliminary simulations with the Kaiser WMH population. These results will be used for an ISC meeting presentation."
   ]
  },
  {
   "cell_type": "code",
   "execution_count": 1,
   "id": "f12a45d7-76ca-40d9-ab87-a8cfe24481d7",
   "metadata": {},
   "outputs": [],
   "source": [
    "import os\n",
    "microsimDir = \"/Users/deligkaris.1/OneDrive - The Ohio State University Wexner Medical Center/MICROSIM/CODE/microsim\"\n",
    "os.chdir(microsimDir)\n",
    "\n",
    "import pandas as pd\n",
    "import matplotlib.pyplot as plt\n",
    "import numpy as np\n",
    "\n",
    "from microsim.person_filter import PersonFilter\n",
    "from microsim.trials.trial_description import KaiserTrialDescription\n",
    "from microsim.trials.trial_type import TrialType\n",
    "from microsim.trials.trial import Trial\n",
    "from microsim.trials.trial_outcome_assessor_factory import TrialOutcomeAssessorFactory\n",
    "from microsim.treatment import TreatmentStrategiesType, DefaultTreatmentsType\n",
    "from microsim.treatment_strategy_repository import TreatmentStrategyRepository\n",
    "from microsim.bp_treatment_strategies import SprintForSbpRiskThreshold\n",
    "from microsim.statin_treatment_strategies import StatinTreatmentStrategy\n",
    "from microsim.population_factory import PopulationFactory\n",
    "from microsim.cv_model_repository import CVModelRepository\n",
    "from microsim.outcome import OutcomeType\n",
    "from microsim.modality import Modality"
   ]
  },
  {
   "cell_type": "code",
   "execution_count": 2,
   "id": "67da9efc-2124-4399-97c1-3c2391fd1019",
   "metadata": {},
   "outputs": [],
   "source": [
    "pd.set_option('future.no_silent_downcasting', True) #make the calculation here future-proof"
   ]
  },
  {
   "cell_type": "markdown",
   "id": "eee517fe-ba27-4a50-82b9-ce3143f384bb",
   "metadata": {},
   "source": [
    "### Part 1: determine the overall risk in the kaiser CCM population, without specifically attending to CCM as a risk factor\n",
    "\n",
    "  - initialize a kaiser population\n",
    "  - use the intercept only risk model that does not include CCM covariates\n",
    "  - run a 4 year trial with \"intensive treatment” define as:  statin guidelines (use statin for all with risk > 7.5%) + risk-based SPRINT      guideline (implement SPRINT for all individuals over 7.5% who meet SPRINT bp criteria)\n",
    "  - compare treatment in usual care vs. intensive treatment by baseline risk quintiles. (for each quintile define the range of risks, and       then look at bp meds added and statins added)\n",
    "  - compare all outcomes — cognitive, dementia, cardiovascular, quality of life in treated vs. usual care."
   ]
  },
  {
   "cell_type": "code",
   "execution_count": 3,
   "id": "d4f326aa-f468-44ef-8eaf-772cab24ed0b",
   "metadata": {},
   "outputs": [
    {
     "name": "stdout",
     "output_type": "stream",
     "text": [
      "                          Printing covariate information for people still alive...\n",
      "                          self=treated, alive people count=  300000               other=control, alive people count=  300000  \n",
      "                          self=treated, unique alive people count=  143174        other=control, unique alive people count=  143280  \n",
      "                          self                                                    other\n",
      "                          -----------------------------------------------------   -----------------------------------------------------\n",
      "                          min      0.25    med     0.75     max    mean     sd     min     0.25    med     0.75     max    mean     sd\n",
      "                          -----------------------------------------------------   -----------------------------------------------------\n",
      "                    age    45.0    57.0    63.0    70.0   111.0    63.9     9.3    45.0    57.0    63.0    70.0   112.0    63.9     9.3\n",
      "                    sbp    75.0   120.9   129.9   139.0   199.6   130.0    13.5    75.0   120.8   129.9   138.9   199.6   130.0    13.5\n",
      "                    dbp    36.0    68.0    73.9    79.8   115.9    73.9     8.9    36.0    68.0    73.9    79.8   117.4    73.9     8.8\n",
      "                    a1c     3.2     5.4     5.9     6.5    14.2     6.0     1.0     3.2     5.4     5.9     6.5    14.9     6.0     1.0\n",
      "                    hdl     5.4    43.5    53.7    64.7   130.1    54.4    15.7     5.4    43.6    53.8    64.7   126.7    54.4    15.7\n",
      "                    ldl     8.1    96.8   118.2   139.5   488.5   118.2    31.8     8.1    96.8   118.3   139.6   487.0   118.3    31.7\n",
      "                   trig     9.0    92.5   139.1   192.8  3390.2   149.7    84.7     9.0    92.5   139.0   193.1  2965.2   149.9    84.6\n",
      "                totChol    53.1   173.8   199.4   224.8   509.0   199.4    37.8    53.1   173.9   199.4   224.9   505.5   199.5    37.8\n",
      "                    bmi    13.5    24.5    28.0    31.8    63.1    28.3     5.6    13.5    24.5    28.0    31.8    63.1    28.3     5.7\n",
      "             creatinine     0.1     0.7     0.9     1.2    16.7     1.0     0.6     0.1     0.7     0.9     1.2    16.7     1.0     0.6\n",
      "                  waist    43.0    89.6    99.4   109.0   169.6    99.4    14.4    45.1    89.7    99.3   109.0   170.5    99.4    14.4\n",
      "  antiHypertensiveCount     0.0     0.3     0.7     1.1     5.3     0.8     0.6     0.0     0.3     0.6     1.1     5.6     0.8     0.6\n",
      "                          self   other\n",
      "                          proportions\n",
      "                          -----------\n",
      "    anyPhysicalActivity\n",
      "                      0   0.16   0.16\n",
      "                      1   0.84   0.84\n",
      "                   afib\n",
      "                      0   0.96   0.96\n",
      "                      1   0.04   0.04\n",
      "         alcoholPerWeek\n",
      "                      0   0.26   0.26\n",
      "                      2   0.36   0.36\n",
      "                      3   0.38   0.38\n",
      "                    pvd\n",
      "                      0   0.98   0.98\n",
      "                      1   0.02   0.02\n",
      "               modality\n",
      "                     ct   0.74   0.74\n",
      "                     mr   0.26   0.26\n",
      "          raceEthnicity\n",
      "                      2   0.33   0.33\n",
      "                      3   0.43   0.43\n",
      "                      4   0.11   0.11\n",
      "                      5   0.03   0.03\n",
      "                      6   0.10   0.10\n",
      "              education\n",
      "                      1   0.07   0.06\n",
      "                      2   0.13   0.13\n",
      "                      3   0.26   0.26\n",
      "                      4   0.32   0.32\n",
      "                      5   0.22   0.22\n",
      "                 gender\n",
      "                      1   0.36   0.36\n",
      "                      2   0.64   0.64\n",
      "          smokingStatus\n",
      "                      0   0.59   0.59\n",
      "                      1   0.41   0.41\n",
      "                 statin\n",
      "                      0   1.00   1.00\n"
     ]
    }
   ],
   "source": [
    "pf = PersonFilter() \n",
    "#pf.add_filter(\"person\", \n",
    "#              \"lowCvLimit\", \n",
    "#              lambda x: (CVModelRepository().select_outcome_model_for_person(x).get_risk_for_person(x, years=10)<0.075))\n",
    "pf.add_filter(\"df\",\n",
    "              \"noStatin\",\n",
    "              lambda x: x[DefaultTreatmentsType.STATIN.value]==0)\n",
    "\n",
    "cvRiskCutoff=0.075\n",
    "wmhSpecific=False\n",
    "\n",
    "ts = TreatmentStrategyRepository()\n",
    "ts._repository[TreatmentStrategiesType.BP.value] = SprintForSbpRiskThreshold(cvRiskCutoff=cvRiskCutoff, wmhSpecific=wmhSpecific)\n",
    "ts._repository[TreatmentStrategiesType.STATIN.value] = StatinTreatmentStrategy(cvRiskCutoff=cvRiskCutoff, wmhSpecific=wmhSpecific)\n",
    "\n",
    "sampleSize = 300000\n",
    "duration = 4\n",
    "td = KaiserTrialDescription(trialType = TrialType.COMPLETELY_RANDOMIZED,\n",
    "                            blockFactors=list(),\n",
    "                            sampleSize = sampleSize, \n",
    "                            duration = duration, \n",
    "                            treatmentStrategies = ts,\n",
    "                            nWorkers = 5, \n",
    "                            personFilters=pf,\n",
    "                            wmhSpecific=False) \n",
    "\n",
    "tr = Trial(td)\n",
    "\n",
    "tr.print_covariate_distributions()"
   ]
  },
  {
   "cell_type": "code",
   "execution_count": 4,
   "id": "d1e562ae-cea9-40e9-8904-d038e05f2d9b",
   "metadata": {},
   "outputs": [
    {
     "name": "stderr",
     "output_type": "stream",
     "text": [
      "/Users/deligkaris.1/Library/Caches/pypoetry/virtualenvs/microsim-54NoInYP-py3.9/lib/python3.9/site-packages/numpy/core/fromnumeric.py:59: FutureWarning: 'Series.swapaxes' is deprecated and will be removed in a future version. Please use 'Series.transpose' instead.\n",
      "  return bound(*args, **kwds)\n"
     ]
    },
    {
     "name": "stdout",
     "output_type": "stream",
     "text": [
      "Trial is completed.\n",
      "CPU times: user 5min 1s, sys: 7min 1s, total: 12min 3s\n",
      "Wall time: 22min 42s\n"
     ]
    },
    {
     "data": {
      "text/plain": [
       "Trial Description\n",
       "\tTrial type: 1\n",
       "\tBlock factors: []\n",
       "\tSample size: 300000\n",
       "\tDuration: 4\n",
       "\tTreatment strategies: ['bp', 'statin']\n",
       "\tNumber of workers: 5\n",
       "\tPerson filters: \n",
       "\t Person Filters:\n",
       "\t    filter type   filter name    \n",
       "\t             df   noStatin       \n",
       "\n",
       "\tPopulation type: PopulationType.KAISER\n",
       "Trial\n",
       "\tTrial completed: True\n",
       "Trial results:\n",
       "\tAnalysis: linear\n",
       "\t                                         Z      Intercept           Z SE         pValue\n",
       "\t                    qalys:            0.02           3.70           0.00           0.00\n",
       "\t                  meanGCP:            0.12          52.77           0.02           0.00\n",
       "\t                  lastGCP:            0.14          51.16           0.02           0.00\n",
       "\tAnalysis: logistic\n",
       "\t                                         Z      Intercept           Z SE         pValue\n",
       "\t                    death:           -0.10          -2.40           0.01           0.00\n",
       "\t                 anyEvent:           -0.05           0.80           0.01           0.00\n",
       "\t     vascularEventOrDeath:           -0.23          -1.85           0.01           0.00\n",
       "\t            vascularEvent:           -0.41          -2.57           0.01           0.00\n",
       "\t                 cogEvent:           -0.00           0.51           0.01           0.96\n",
       "\tAnalysis: cox\n",
       "\t                                         Z      Intercept           Z SE         pValue\n",
       "\t                 deathCox:           -0.10                          0.01           0.00\n",
       "\t              cogEventCox:           -0.00                          0.00           0.18\n",
       "\t  vascularEventOrDeathCox:           -0.21                          0.01           0.00\n",
       "\tAnalysis: relativeRisk\n",
       "\t                                   relRisk    treatedRisk    controlRisk    |diff|*1000\n",
       "\t                 strokeRR:            0.64           0.02           0.04          12.96\n",
       "\t                     miRR:            0.71           0.03           0.04          10.64\n",
       "\t                     cvRR:            0.68           0.05           0.07          22.81\n",
       "\t               dementiaRR:            1.00           0.03           0.03           0.13\n",
       "\t                     ciRR:            1.00           0.61           0.61           0.19\n",
       "\t           dementiaOrCiRR:            1.00           0.62           0.62           0.06\n",
       "\t                  deathRR:            0.91           0.08           0.08           7.45"
      ]
     },
     "execution_count": 4,
     "metadata": {},
     "output_type": "execute_result"
    }
   ],
   "source": [
    "%%time\n",
    "tr.run()\n",
    "\n",
    "toa = TrialOutcomeAssessorFactory.get_trial_outcome_assessor()\n",
    "tr.analyze(toa)\n",
    "\n",
    "tr"
   ]
  },
  {
   "cell_type": "code",
   "execution_count": 5,
   "id": "82bf5c60-ed14-43ff-bb6b-6da4c815fd1f",
   "metadata": {},
   "outputs": [
    {
     "name": "stdout",
     "output_type": "stream",
     "text": [
      "                          Printing treatment strategy variable information at the end of the trial...\n",
      "                          self=treated, alive people count=  277378  \n",
      "                          self=treated & alive, unique people count=  138185  \n",
      "                          self\n",
      "                          -----------------------------------------------------\n",
      "                          proportions\n",
      "                          -----------\n",
      "            bpMedsAdded\n",
      "                      0   0.57\n",
      "                      1   0.14\n",
      "                      2   0.14\n",
      "                      3   0.12\n",
      "                      4   0.03\n",
      "           statinsAdded\n",
      "                      0   0.26\n",
      "                      1   0.74\n",
      "                          -----------------------------------------------------\n",
      "                          proportions in each quintile\n",
      "                          -----------------------------------------------------\n",
      "                          bpMedsAdded\n",
      "       CV risk quintile      0       1       2       3       4      >4 \n",
      "                      1    0.85    0.02    0.05    0.06    0.00    0.00 \n",
      "                      2    0.57    0.14    0.15    0.13    0.02    0.00 \n",
      "                      3    0.49    0.16    0.16    0.14    0.05    0.00 \n",
      "                      4    0.47    0.18    0.17    0.13    0.05    0.00 \n",
      "                      5    0.46    0.19    0.18    0.13    0.04    0.00 \n",
      "                          statinsAdded\n",
      "                             0       1       2 \n",
      "                      1    0.84    0.16    0.00 \n",
      "                      2    0.45    0.55    0.00 \n",
      "                      3    0.01    0.99    0.00 \n",
      "                      4    0.00    1.00    0.00 \n",
      "                      5    0.00    1.00    0.00 \n"
     ]
    }
   ],
   "source": [
    "tr.print_treatment_strategy_variables_information()"
   ]
  },
  {
   "cell_type": "markdown",
   "id": "0a40c1ee-a91c-4815-80d6-00fd8f18992b",
   "metadata": {},
   "source": [
    "### Part 3: determine the overall risk in the kaiser CCM population, with attending to CCM as a risk factor\n",
    "\n",
    " - initialize a kaiser population\n",
    " - use the CCM risk model that does  include CCM covariates\n",
    " - run a 4 year trial with \"intensive treatment” define as:  statin guidelines (use statin for all with risk > 7.5%) + risk-based SPRINT      guideline (implement SPRINT for all individuals over 7.5% who meet SPRINT bp criteria)\n",
    " - compare treatment in usual care vs. intensive treatment by baseline risk quintiles. (for each quintile define the range of risks, and      then look at bp meds added and statins added)\n",
    " - compare all outcomes — cognitive, dementia, cardiovascular, quality of life in intensive vs. usual care."
   ]
  },
  {
   "cell_type": "code",
   "execution_count": 6,
   "id": "0672fff0-993a-464c-b740-e334a480fb27",
   "metadata": {},
   "outputs": [
    {
     "name": "stdout",
     "output_type": "stream",
     "text": [
      "                          Printing covariate information for people still alive...\n",
      "                          self=treated, alive people count=  300000               other=control, alive people count=  300000  \n",
      "                          self=treated, unique alive people count=  143316        other=control, unique alive people count=  143306  \n",
      "                          self                                                    other\n",
      "                          -----------------------------------------------------   -----------------------------------------------------\n",
      "                          min      0.25    med     0.75     max    mean     sd     min     0.25    med     0.75     max    mean     sd\n",
      "                          -----------------------------------------------------   -----------------------------------------------------\n",
      "                    age    45.0    57.0    63.0    70.0   111.0    63.9     9.3    45.0    57.0    63.0    70.0   111.0    63.9     9.3\n",
      "                    sbp    72.7   120.9   129.8   139.0   200.6   130.0    13.5    72.7   120.8   129.8   138.8   200.6   129.9    13.5\n",
      "                    dbp    36.4    68.0    73.9    79.8   116.1    73.9     8.9    37.7    67.9    73.9    79.8   116.5    73.9     8.9\n",
      "                    a1c     3.2     5.4     5.9     6.5    14.3     6.0     1.0     3.2     5.4     5.9     6.5    14.6     6.0     1.0\n",
      "                    hdl     5.4    43.6    53.8    64.7   123.8    54.5    15.6     5.4    43.6    53.7    64.7   125.0    54.5    15.7\n",
      "                    ldl     8.1    96.9   118.2   139.6   437.5   118.3    31.7     8.1    96.8   118.2   139.5   437.5   118.3    31.7\n",
      "                   trig     9.0    92.7   139.3   192.9  3978.6   149.6    83.5     9.0    92.6   139.1   192.4  3978.6   149.7    84.0\n",
      "                totChol    53.1   174.0   199.4   224.9   564.4   199.4    37.7    53.9   173.9   199.4   224.8   564.4   199.4    37.8\n",
      "                    bmi    13.5    24.5    28.1    31.8    63.6    28.3     5.7    13.5    24.5    28.1    31.8    63.6    28.4     5.7\n",
      "             creatinine     0.1     0.7     0.9     1.2    14.0     1.0     0.6     0.1     0.7     0.9     1.2    14.8     1.0     0.6\n",
      "                  waist    45.5    89.7    99.4   109.0   170.9    99.4    14.4    40.9    89.7    99.4   109.1   167.0    99.4    14.5\n",
      "  antiHypertensiveCount     0.0     0.3     0.6     1.1     5.6     0.8     0.6     0.0     0.3     0.6     1.1     5.2     0.8     0.6\n",
      "                          self   other\n",
      "                          proportions\n",
      "                          -----------\n",
      "    anyPhysicalActivity\n",
      "                      0   0.16   0.16\n",
      "                      1   0.84   0.84\n",
      "                   afib\n",
      "                      0   0.96   0.96\n",
      "                      1   0.04   0.04\n",
      "         alcoholPerWeek\n",
      "                      0   0.26   0.26\n",
      "                      2   0.36   0.36\n",
      "                      3   0.37   0.37\n",
      "                    pvd\n",
      "                      0   0.98   0.98\n",
      "                      1   0.02   0.02\n",
      "               modality\n",
      "                     ct   0.74   0.74\n",
      "                     mr   0.26   0.26\n",
      "          raceEthnicity\n",
      "                      2   0.33   0.33\n",
      "                      3   0.43   0.43\n",
      "                      4   0.11   0.11\n",
      "                      5   0.03   0.03\n",
      "                      6   0.10   0.10\n",
      "              education\n",
      "                      1   0.07   0.07\n",
      "                      2   0.13   0.13\n",
      "                      3   0.26   0.26\n",
      "                      4   0.32   0.32\n",
      "                      5   0.22   0.22\n",
      "                 gender\n",
      "                      1   0.36   0.36\n",
      "                      2   0.64   0.64\n",
      "          smokingStatus\n",
      "                      0   0.59   0.59\n",
      "                      1   0.41   0.41\n",
      "                 statin\n",
      "                      0   1.00   1.00\n"
     ]
    }
   ],
   "source": [
    "pf = PersonFilter() \n",
    "#pf.add_filter(\"person\", \n",
    "#              \"lowCvLimit\", \n",
    "#              lambda x: (CVModelRepository().select_outcome_model_for_person(x).get_risk_for_person(x, years=10)<0.075))\n",
    "pf.add_filter(\"df\",\n",
    "              \"noStatin\",\n",
    "              lambda x: x[DefaultTreatmentsType.STATIN.value]==0)\n",
    "\n",
    "wmhSpecific=True\n",
    "cvRiskCutoff=0.075\n",
    "\n",
    "ts = TreatmentStrategyRepository()\n",
    "ts._repository[TreatmentStrategiesType.BP.value] = SprintForSbpRiskThreshold(cvRiskCutoff=cvRiskCutoff, wmhSpecific=wmhSpecific)\n",
    "ts._repository[TreatmentStrategiesType.STATIN.value] = StatinTreatmentStrategy(cvRiskCutoff=cvRiskCutoff, wmhSpecific=wmhSpecific)\n",
    "\n",
    "sampleSize = 300000\n",
    "duration = 4\n",
    "td = KaiserTrialDescription(trialType = TrialType.COMPLETELY_RANDOMIZED,\n",
    "                            blockFactors=list(),\n",
    "                            sampleSize = sampleSize, \n",
    "                            duration = duration, \n",
    "                            treatmentStrategies = ts,\n",
    "                            nWorkers = 5, \n",
    "                            personFilters=pf,\n",
    "                            wmhSpecific=True) \n",
    "\n",
    "tr = Trial(td)\n",
    "\n",
    "tr.print_covariate_distributions()"
   ]
  },
  {
   "cell_type": "code",
   "execution_count": 7,
   "id": "fae51c28-1532-46e0-a166-454dbc85332f",
   "metadata": {},
   "outputs": [
    {
     "name": "stderr",
     "output_type": "stream",
     "text": [
      "/Users/deligkaris.1/Library/Caches/pypoetry/virtualenvs/microsim-54NoInYP-py3.9/lib/python3.9/site-packages/numpy/core/fromnumeric.py:59: FutureWarning: 'Series.swapaxes' is deprecated and will be removed in a future version. Please use 'Series.transpose' instead.\n",
      "  return bound(*args, **kwds)\n"
     ]
    },
    {
     "name": "stdout",
     "output_type": "stream",
     "text": [
      "Trial is completed.\n",
      "CPU times: user 6min 15s, sys: 19min 19s, total: 25min 34s\n",
      "Wall time: 43min 37s\n"
     ]
    },
    {
     "data": {
      "text/plain": [
       "Trial Description\n",
       "\tTrial type: 1\n",
       "\tBlock factors: []\n",
       "\tSample size: 300000\n",
       "\tDuration: 4\n",
       "\tTreatment strategies: ['bp', 'statin']\n",
       "\tNumber of workers: 5\n",
       "\tPerson filters: \n",
       "\t Person Filters:\n",
       "\t    filter type   filter name    \n",
       "\t             df   noStatin       \n",
       "\n",
       "\tPopulation type: PopulationType.KAISER\n",
       "Trial\n",
       "\tTrial completed: True\n",
       "Trial results:\n",
       "\tAnalysis: linear\n",
       "\t                                         Z      Intercept           Z SE         pValue\n",
       "\t                    qalys:            0.02           3.70           0.00           0.00\n",
       "\t                  meanGCP:            0.09          52.78           0.02           0.00\n",
       "\t                  lastGCP:            0.09          51.20           0.02           0.00\n",
       "\tAnalysis: logistic\n",
       "\t                                         Z      Intercept           Z SE         pValue\n",
       "\t                    death:           -0.09          -2.42           0.01           0.00\n",
       "\t                 anyEvent:           -0.04           0.80           0.01           0.00\n",
       "\t     vascularEventOrDeath:           -0.21          -1.86           0.01           0.00\n",
       "\t            vascularEvent:           -0.42          -2.56           0.01           0.00\n",
       "\t                 cogEvent:            0.01           0.51           0.01           0.33\n",
       "\tAnalysis: cox\n",
       "\t                                         Z      Intercept           Z SE         pValue\n",
       "\t                 deathCox:           -0.08                          0.01           0.00\n",
       "\t              cogEventCox:           -0.00                          0.00           0.65\n",
       "\t  vascularEventOrDeathCox:           -0.20                          0.01           0.00\n",
       "\tAnalysis: relativeRisk\n",
       "\t                                   relRisk    treatedRisk    controlRisk    |diff|*1000\n",
       "\t                 strokeRR:            0.62           0.02           0.04          13.94\n",
       "\t                     miRR:            0.72           0.03           0.04          10.24\n",
       "\t                     cvRR:            0.67           0.05           0.07          23.48\n",
       "\t               dementiaRR:            1.02           0.03           0.03           0.57\n",
       "\t                     ciRR:            1.00           0.61           0.61           0.83\n",
       "\t           dementiaOrCiRR:            1.00           0.63           0.63           1.22\n",
       "\t                  deathRR:            0.92           0.08           0.08           6.40"
      ]
     },
     "execution_count": 7,
     "metadata": {},
     "output_type": "execute_result"
    }
   ],
   "source": [
    "%%time\n",
    "tr.run()\n",
    "\n",
    "toa = TrialOutcomeAssessorFactory.get_trial_outcome_assessor()\n",
    "tr.analyze(toa)\n",
    "\n",
    "tr"
   ]
  },
  {
   "cell_type": "code",
   "execution_count": 8,
   "id": "8e1e9d5c-0cc8-4ae6-9b15-30ba9931dd90",
   "metadata": {},
   "outputs": [
    {
     "name": "stdout",
     "output_type": "stream",
     "text": [
      "                          Printing treatment strategy variable information at the end of the trial...\n",
      "                          self=treated, alive people count=  277312  \n",
      "                          self=treated & alive, unique people count=  138510  \n",
      "                          self\n",
      "                          -----------------------------------------------------\n",
      "                          proportions\n",
      "                          -----------\n",
      "            bpMedsAdded\n",
      "                      0   0.63\n",
      "                      1   0.12\n",
      "                      2   0.13\n",
      "                      3   0.10\n",
      "                      4   0.03\n",
      "           statinsAdded\n",
      "                      0   0.40\n",
      "                      1   0.60\n",
      "                          -----------------------------------------------------\n",
      "                          proportions in each quintile\n",
      "                          -----------------------------------------------------\n",
      "                          bpMedsAdded\n",
      "       CV risk quintile      0       1       2       3       4      >4 \n",
      "                      1    0.98    0.00    0.00    0.01    0.01    0.00 \n",
      "                      2    0.71    0.07    0.11    0.11    0.01    0.00 \n",
      "                      3    0.53    0.16    0.16    0.13    0.03    0.00 \n",
      "                      4    0.48    0.17    0.17    0.13    0.05    0.00 \n",
      "                      5    0.44    0.18    0.19    0.15    0.05    0.00 \n",
      "                          statinsAdded\n",
      "                             0       1       2 \n",
      "                      1    0.99    0.01    0.00 \n",
      "                      2    0.67    0.33    0.00 \n",
      "                      3    0.33    0.67    0.00 \n",
      "                      4    0.00    1.00    0.00 \n",
      "                      5    0.00    1.00    0.00 \n"
     ]
    }
   ],
   "source": [
    "tr.print_treatment_strategy_variables_information()"
   ]
  },
  {
   "cell_type": "markdown",
   "id": "5bf75403-bf06-4ec7-a770-115a9e82425f",
   "metadata": {},
   "source": [
    "### Part 2: compare how treatment varies in the kaiser CCM population, depending on whether we use an intercept only model or a model that considers CCM risk\n",
    "\n",
    " - initialize a kaiser population. clone it.\n",
    " - compare the assigned risk quintile on both models\n",
    " - in one cloned population, use the intercept only risk model and run teh sim for one year with the intensive treatment arm.\n",
    " - in the other cloned population, use the CCM risk model and run teh sim for one year with the intensive treatment arm\n",
    " - match individual between teh two cloned populations. \n",
    " - compare treatment between the two cloned populations (e.g. how many patients added/subtracted bp meds, statins)\n",
    " - compare treatment between teh cloned populations stratified by baseline risk (e.g. rows are risk quintiles from the intercept-only model, columns are risk quintiles form the CCM model), cell values are delta bp meds. repeat the same table but, cells are delta statins."
   ]
  },
  {
   "cell_type": "code",
   "execution_count": 9,
   "id": "62bcf0d3-fe90-4492-a120-821c7a8167d9",
   "metadata": {},
   "outputs": [
    {
     "data": {
      "text/plain": [
       "{'dynamicRiskFactors': <microsim.cohort_risk_model_repository.CohortDynamicRiskFactorModelRepository at 0x631bb87f0>,\n",
       " 'defaultTreatments': <microsim.cohort_risk_model_repository.CohortDefaultTreatmentModelRepository at 0x403ffb700>,\n",
       " 'outcomes': <microsim.outcome_model_repository.OutcomeModelRepository at 0x3e3a8cb20>,\n",
       " 'staticRiskFactors': <microsim.cohort_risk_model_repository.CohortDynamicRiskFactorModelRepository at 0x631bb87f0>}"
      ]
     },
     "execution_count": 9,
     "metadata": {},
     "output_type": "execute_result"
    }
   ],
   "source": [
    "#pop1 is using wmh information\n",
    "popSize = 100000\n",
    "pop1 = PopulationFactory.get_kaiser_population(n=popSize)\n",
    "pop2 = pop1.copy()\n",
    "pop2._modelRepository"
   ]
  },
  {
   "cell_type": "code",
   "execution_count": 10,
   "id": "e2db939f-c245-4111-80e4-ed05dbb15807",
   "metadata": {},
   "outputs": [
    {
     "data": {
      "text/plain": [
       "{'dynamicRiskFactors': <microsim.cohort_risk_model_repository.CohortDynamicRiskFactorModelRepository at 0x42b6bcd30>,\n",
       " 'defaultTreatments': <microsim.cohort_risk_model_repository.CohortDefaultTreatmentModelRepository at 0x375ab9af0>,\n",
       " 'outcomes': <microsim.outcome_model_repository.OutcomeModelRepository at 0x3d26ac130>,\n",
       " 'staticRiskFactors': <microsim.cohort_risk_model_repository.CohortStaticRiskFactorModelRepository at 0x361b6d8b0>}"
      ]
     },
     "execution_count": 10,
     "metadata": {},
     "output_type": "execute_result"
    }
   ],
   "source": [
    "#by creation pop2 is similar to pop1 but we are now using a repository with wmhSpecific=False\n",
    "pop2ModelRepository = PopulationFactory.get_kaiser_population_model_repo(wmhSpecific=False)\n",
    "pop2._modelRepository = pop2ModelRepository._repository\n",
    "pop2._modelRepository"
   ]
  },
  {
   "cell_type": "code",
   "execution_count": 11,
   "id": "e1ff6ae2-908c-499e-91f9-1569824301a4",
   "metadata": {},
   "outputs": [],
   "source": [
    "#find the CV risks at baseline, before advacing at all, using the appropriate model\n",
    "from microsim.cv_model_repository import CVModelRepository\n",
    "import numpy as np\n",
    "cvModelRepository = CVModelRepository(wmhSpecific=True)\n",
    "popAlive = filter(lambda x: x.is_alive, pop1._people)\n",
    "cvRiskList1 = list(map(lambda x: cvModelRepository.select_outcome_model_for_person(x).get_risk_for_person(x, years=10), popAlive))\n",
    "cvRiskBoundaries1 = np.quantile(cvRiskList1, np.linspace(0, 1, 6))\n",
    "cvRiskQuintiles1 = np.digitize(cvRiskList1, cvRiskBoundaries1, right=False)\n",
    "cvRiskQuintiles1[cvRiskList1 == cvRiskBoundaries1[-1]] = 5\n",
    "\n",
    "cvModelRepository = CVModelRepository(wmhSpecific=False)\n",
    "popAlive = filter(lambda x: x.is_alive, pop2._people)\n",
    "cvRiskList2 = list(map(lambda x: cvModelRepository.select_outcome_model_for_person(x).get_risk_for_person(x, years=10), popAlive))\n",
    "cvRiskBoundaries2 = np.quantile(cvRiskList2, np.linspace(0, 1, 6))\n",
    "cvRiskQuintiles2 = np.digitize(cvRiskList2, cvRiskBoundaries2, right=False)\n",
    "cvRiskQuintiles2[cvRiskList2 == cvRiskBoundaries2[-1]] = 5"
   ]
  },
  {
   "cell_type": "code",
   "execution_count": 12,
   "id": "a0012336-1328-4ccd-8fb6-2fc1ced50f99",
   "metadata": {},
   "outputs": [
    {
     "name": "stdout",
     "output_type": "stream",
     "text": [
      "                          -----------------------------------------------------\n",
      "                          proportion of people in CV risk quintile bins\n",
      "                          -----------------------------------------------------\n",
      "                          CV risk intercept-only\n",
      "   CV risk WMH-specific      1       2       3       4       5\n",
      "                      5    0.00    0.01    0.02    0.05    0.12 \n",
      "                      4    0.00    0.02    0.03    0.06    0.08 \n",
      "                      3    0.01    0.01    0.09    0.09    0.00 \n",
      "                      2    0.01    0.13    0.06    0.00    0.00 \n",
      "                      1    0.17    0.03    0.00    0.00    0.00 \n"
     ]
    }
   ],
   "source": [
    "binEdges = np.arange(0.5, 6.5, 1)\n",
    "proportionsInQuintiles = np.histogram2d(cvRiskQuintiles1,cvRiskQuintiles2, bins=[binEdges, binEdges])[0]/popSize\n",
    "\n",
    "print(\" \"*25, \"-\"*53)\n",
    "print(\" \"*25, \"proportion of people in CV risk quintile bins\")\n",
    "print(\" \"*25, \"-\"*53)\n",
    "risks = [\"1\", \"2\", \"3\", \"4\", \"5\"]\n",
    "print(\" \"*25, \"CV risk intercept-only\")\n",
    "print(\" \"*3 + \"CV risk WMH-specific      \" + \"       \".join(risks))\n",
    "for i,row in enumerate(np.flip(proportionsInQuintiles, axis=0)/proportionsInQuintiles.sum()):\n",
    "    printString = f\"{risks[-i-1]:>23} \"\n",
    "    for item in row:\n",
    "        printString += f\"{item:> 7.2f} \" \n",
    "    print(printString) "
   ]
  },
  {
   "cell_type": "code",
   "execution_count": 13,
   "id": "6cbaedb0-1de3-4831-9b14-3f089020c5a8",
   "metadata": {},
   "outputs": [],
   "source": [
    "#set up the appropriate treatment strategies for the two populations\n",
    "ts1 = TreatmentStrategyRepository()\n",
    "ts1._repository[TreatmentStrategiesType.BP.value] = SprintForSbpRiskThreshold(cvRiskCutoff=0.075, wmhSpecific=True)\n",
    "ts1._repository[TreatmentStrategiesType.STATIN.value] = StatinTreatmentStrategy(cvRiskCutoff=0.075, wmhSpecific=True)\n",
    "\n",
    "ts2 = TreatmentStrategyRepository()\n",
    "ts2._repository[TreatmentStrategiesType.BP.value] = SprintForSbpRiskThreshold(cvRiskCutoff=0.075, wmhSpecific=False)\n",
    "ts2._repository[TreatmentStrategiesType.STATIN.value] = StatinTreatmentStrategy(cvRiskCutoff=0.075, wmhSpecific=False)"
   ]
  },
  {
   "cell_type": "code",
   "execution_count": 14,
   "id": "d24e105c-5403-4d10-9129-f942207c36a9",
   "metadata": {},
   "outputs": [
    {
     "name": "stderr",
     "output_type": "stream",
     "text": [
      "/Users/deligkaris.1/Library/Caches/pypoetry/virtualenvs/microsim-54NoInYP-py3.9/lib/python3.9/site-packages/numpy/core/fromnumeric.py:59: FutureWarning: 'Series.swapaxes' is deprecated and will be removed in a future version. Please use 'Series.transpose' instead.\n",
      "  return bound(*args, **kwds)\n",
      "/Users/deligkaris.1/Library/Caches/pypoetry/virtualenvs/microsim-54NoInYP-py3.9/lib/python3.9/site-packages/numpy/core/fromnumeric.py:59: FutureWarning: 'Series.swapaxes' is deprecated and will be removed in a future version. Please use 'Series.transpose' instead.\n",
      "  return bound(*args, **kwds)\n"
     ]
    }
   ],
   "source": [
    "#make the predictions\n",
    "pop1.advance(years=1, treatmentStrategies=ts1, nWorkers=5)\n",
    "pop2.advance(years=1, treatmentStrategies=ts2, nWorkers=5)"
   ]
  },
  {
   "cell_type": "code",
   "execution_count": 15,
   "id": "f32638c2-6792-43bd-918f-1642e747aaf7",
   "metadata": {},
   "outputs": [
    {
     "name": "stdout",
     "output_type": "stream",
     "text": [
      "                     -3  0.0006\n",
      "                     -2  0.0013\n",
      "                     -1  0.0023\n",
      "                      0  0.9477\n",
      "                      1  0.0217\n",
      "                      2  0.0171\n",
      "                      3  0.0093\n"
     ]
    }
   ],
   "source": [
    "#print the proportions for bpMedsAdded differences\n",
    "ts = TreatmentStrategiesType.BP.value\n",
    "tsv = \"bpMedsAdded\"\n",
    "#popAlive = filter(lambda x: x.is_alive, pop1._people)\n",
    "popAlive = pop1._people\n",
    "bpMedsAddedList1 = list(map(lambda x: x._treatmentStrategies[ts][tsv], popAlive))\n",
    "\n",
    "popAlive = pop2._people\n",
    "bpMedsAddedList2 = list(map(lambda x: x._treatmentStrategies[ts][tsv], popAlive))\n",
    "\n",
    "bpMedsAddedDiffList = list(map(lambda x: x[1]-x[0], zip(bpMedsAddedList1, bpMedsAddedList2)))\n",
    "\n",
    "from collections import Counter\n",
    "tsvList = bpMedsAddedDiffList\n",
    "tsvValueCounts = Counter(tsvList)\n",
    "for key in sorted(tsvValueCounts.keys()):\n",
    "    print(f\"{key:>23} {tsvValueCounts[key]/len(tsvList): 6.4f}\")"
   ]
  },
  {
   "cell_type": "code",
   "execution_count": 16,
   "id": "345ab5e1-f161-4168-a0fa-5a9a4ab508b3",
   "metadata": {},
   "outputs": [],
   "source": [
    "#import matplotlib.pyplot as plt\n",
    "#plt.hist(bpMedsAddedDiffList)\n",
    "#plt.show()"
   ]
  },
  {
   "cell_type": "code",
   "execution_count": 17,
   "id": "ef408a12-0cc4-41db-b9da-8833f24352c1",
   "metadata": {},
   "outputs": [
    {
     "name": "stdout",
     "output_type": "stream",
     "text": [
      "                     -1  0.0149\n",
      "                      0  0.9005\n",
      "                      1  0.0846\n"
     ]
    }
   ],
   "source": [
    "#print the proportions for the statinsAdded differences\n",
    "ts = TreatmentStrategiesType.STATIN.value\n",
    "tsv = \"statinsAdded\"\n",
    "\n",
    "popAlive = pop1._people\n",
    "statinsAddedList1 = list(map(lambda x: x._treatmentStrategies[ts][tsv], popAlive))\n",
    "\n",
    "popAlive = pop2._people\n",
    "statinsAddedList2 = list(map(lambda x: x._treatmentStrategies[ts][tsv], popAlive))\n",
    "\n",
    "saDiffList = list(map(lambda x: x[1]-x[0], zip(statinsAddedList1, statinsAddedList2)))\n",
    "\n",
    "from collections import Counter\n",
    "tsvList = saDiffList\n",
    "tsvValueCounts = Counter(tsvList)\n",
    "for key in sorted(tsvValueCounts.keys()):\n",
    "    print(f\"{key:>23} {tsvValueCounts[key]/len(tsvList): 6.4f}\")"
   ]
  },
  {
   "cell_type": "code",
   "execution_count": 18,
   "id": "a24a11d5-f9f2-4561-a30b-cd07dfad32d1",
   "metadata": {},
   "outputs": [],
   "source": [
    "bmaDiffArray = np.zeros([5,5])\n",
    "for i in range(1, 6):\n",
    "    for j in range(1, 6):\n",
    "        listForIAndJ = list(map(lambda y: y[2], filter(lambda x: (x[0]==i) & (x[1]==j), \n",
    "                                                       zip(cvRiskQuintiles2, cvRiskQuintiles1, bpMedsAddedDiffList))))\n",
    "        if len(listForIAndJ)>0:\n",
    "            bmaDiffArray[i-1, j-1] = np.mean(listForIAndJ)"
   ]
  },
  {
   "cell_type": "code",
   "execution_count": 19,
   "id": "27816e4c-2250-4b71-bac4-99e819a9262f",
   "metadata": {},
   "outputs": [
    {
     "data": {
      "text/html": [
       "<div>\n",
       "<style scoped>\n",
       "    .dataframe tbody tr th:only-of-type {\n",
       "        vertical-align: middle;\n",
       "    }\n",
       "\n",
       "    .dataframe tbody tr th {\n",
       "        vertical-align: top;\n",
       "    }\n",
       "\n",
       "    .dataframe thead th {\n",
       "        text-align: right;\n",
       "    }\n",
       "</style>\n",
       "<table border=\"1\" class=\"dataframe\">\n",
       "  <thead>\n",
       "    <tr style=\"text-align: right;\">\n",
       "      <th></th>\n",
       "      <th>0</th>\n",
       "      <th>1</th>\n",
       "      <th>2</th>\n",
       "      <th>3</th>\n",
       "      <th>4</th>\n",
       "    </tr>\n",
       "  </thead>\n",
       "  <tbody>\n",
       "    <tr>\n",
       "      <th>0</th>\n",
       "      <td>0.077582</td>\n",
       "      <td>-0.110300</td>\n",
       "      <td>-0.379501</td>\n",
       "      <td>0.0</td>\n",
       "      <td>-0.298469</td>\n",
       "    </tr>\n",
       "    <tr>\n",
       "      <th>1</th>\n",
       "      <td>0.634254</td>\n",
       "      <td>0.412848</td>\n",
       "      <td>0.000000</td>\n",
       "      <td>0.0</td>\n",
       "      <td>0.000000</td>\n",
       "    </tr>\n",
       "    <tr>\n",
       "      <th>2</th>\n",
       "      <td>0.000000</td>\n",
       "      <td>0.000000</td>\n",
       "      <td>0.000000</td>\n",
       "      <td>0.0</td>\n",
       "      <td>0.000000</td>\n",
       "    </tr>\n",
       "    <tr>\n",
       "      <th>3</th>\n",
       "      <td>0.000000</td>\n",
       "      <td>0.000000</td>\n",
       "      <td>0.000000</td>\n",
       "      <td>0.0</td>\n",
       "      <td>0.000000</td>\n",
       "    </tr>\n",
       "    <tr>\n",
       "      <th>4</th>\n",
       "      <td>0.000000</td>\n",
       "      <td>0.000000</td>\n",
       "      <td>0.000000</td>\n",
       "      <td>0.0</td>\n",
       "      <td>0.000000</td>\n",
       "    </tr>\n",
       "  </tbody>\n",
       "</table>\n",
       "</div>"
      ],
      "text/plain": [
       "          0         1         2    3         4\n",
       "0  0.077582 -0.110300 -0.379501  0.0 -0.298469\n",
       "1  0.634254  0.412848  0.000000  0.0  0.000000\n",
       "2  0.000000  0.000000  0.000000  0.0  0.000000\n",
       "3  0.000000  0.000000  0.000000  0.0  0.000000\n",
       "4  0.000000  0.000000  0.000000  0.0  0.000000"
      ]
     },
     "execution_count": 19,
     "metadata": {},
     "output_type": "execute_result"
    }
   ],
   "source": [
    "#rows are based on risks from the intercept only models\n",
    "#columns are based on risks from the wmh specific models\n",
    "#cells are mean bpMedsAdded for all people in that cell\n",
    "pd.DataFrame(bmaDiffArray)"
   ]
  },
  {
   "cell_type": "code",
   "execution_count": 20,
   "id": "dedcfed3-77ea-4978-b2f4-972c869b00a2",
   "metadata": {},
   "outputs": [],
   "source": [
    "saDiffArray = np.zeros([5,5])\n",
    "for i in range(1, 6):\n",
    "    for j in range(1, 6):\n",
    "        listForIAndJ = list(map(lambda y: y[2], filter(lambda x: (x[0]==i) & (x[1]==j), \n",
    "                                                       zip(cvRiskQuintiles2, cvRiskQuintiles1, saDiffList))))\n",
    "        if len(listForIAndJ)>0:\n",
    "            saDiffArray[i-1, j-1] = np.mean(listForIAndJ)"
   ]
  },
  {
   "cell_type": "code",
   "execution_count": 21,
   "id": "f291a84f-3a70-4206-8f77-5dc46d671a9e",
   "metadata": {},
   "outputs": [
    {
     "data": {
      "text/html": [
       "<div>\n",
       "<style scoped>\n",
       "    .dataframe tbody tr th:only-of-type {\n",
       "        vertical-align: middle;\n",
       "    }\n",
       "\n",
       "    .dataframe tbody tr th {\n",
       "        vertical-align: top;\n",
       "    }\n",
       "\n",
       "    .dataframe thead th {\n",
       "        text-align: right;\n",
       "    }\n",
       "</style>\n",
       "<table border=\"1\" class=\"dataframe\">\n",
       "  <thead>\n",
       "    <tr style=\"text-align: right;\">\n",
       "      <th></th>\n",
       "      <th>0</th>\n",
       "      <th>1</th>\n",
       "      <th>2</th>\n",
       "      <th>3</th>\n",
       "      <th>4</th>\n",
       "    </tr>\n",
       "  </thead>\n",
       "  <tbody>\n",
       "    <tr>\n",
       "      <th>0</th>\n",
       "      <td>0.054267</td>\n",
       "      <td>-0.188159</td>\n",
       "      <td>-0.610342</td>\n",
       "      <td>-0.714286</td>\n",
       "      <td>-0.698980</td>\n",
       "    </tr>\n",
       "    <tr>\n",
       "      <th>1</th>\n",
       "      <td>0.441989</td>\n",
       "      <td>0.405624</td>\n",
       "      <td>-0.058088</td>\n",
       "      <td>-0.074824</td>\n",
       "      <td>-0.083861</td>\n",
       "    </tr>\n",
       "    <tr>\n",
       "      <th>2</th>\n",
       "      <td>0.000000</td>\n",
       "      <td>0.145427</td>\n",
       "      <td>0.025814</td>\n",
       "      <td>0.000000</td>\n",
       "      <td>0.000000</td>\n",
       "    </tr>\n",
       "    <tr>\n",
       "      <th>3</th>\n",
       "      <td>0.000000</td>\n",
       "      <td>0.000000</td>\n",
       "      <td>0.000000</td>\n",
       "      <td>0.000000</td>\n",
       "      <td>0.000000</td>\n",
       "    </tr>\n",
       "    <tr>\n",
       "      <th>4</th>\n",
       "      <td>0.000000</td>\n",
       "      <td>0.000000</td>\n",
       "      <td>0.000000</td>\n",
       "      <td>0.000000</td>\n",
       "      <td>0.000000</td>\n",
       "    </tr>\n",
       "  </tbody>\n",
       "</table>\n",
       "</div>"
      ],
      "text/plain": [
       "          0         1         2         3         4\n",
       "0  0.054267 -0.188159 -0.610342 -0.714286 -0.698980\n",
       "1  0.441989  0.405624 -0.058088 -0.074824 -0.083861\n",
       "2  0.000000  0.145427  0.025814  0.000000  0.000000\n",
       "3  0.000000  0.000000  0.000000  0.000000  0.000000\n",
       "4  0.000000  0.000000  0.000000  0.000000  0.000000"
      ]
     },
     "execution_count": 21,
     "metadata": {},
     "output_type": "execute_result"
    }
   ],
   "source": [
    "#rows are based on risks from the intercept only models\n",
    "#columns are based on risks from the wmh specific models\n",
    "#cells are mean statinsAdded for all people in that cell\n",
    "pd.DataFrame(saDiffArray)"
   ]
  },
  {
   "cell_type": "markdown",
   "id": "dc4cb568-18ad-4ce4-9a05-35491288af97",
   "metadata": {},
   "source": [
    "### Part 4: compare risk distributions\n",
    "\n",
    " - compare the risk on an unrecalibrated ascvd risk model vs. risk on the recalibrated model\n"
   ]
  },
  {
   "cell_type": "code",
   "execution_count": 22,
   "id": "65ba8e73-8b5a-47f4-a21b-a97db21ba6a9",
   "metadata": {},
   "outputs": [],
   "source": [
    "popSize = 200000\n",
    "pop = PopulationFactory.get_kaiser_population(n=popSize)"
   ]
  },
  {
   "cell_type": "code",
   "execution_count": 23,
   "id": "51f662a2-c788-4dca-95b3-dd6b75858173",
   "metadata": {},
   "outputs": [],
   "source": [
    "cvModelRepository = CVModelRepository(wmhSpecific=True)\n",
    "cvWmhSpecificRiskList = list(map(lambda x: cvModelRepository.select_outcome_model_for_person(x).get_risk_for_person(x, years=10), \n",
    "                                 pop._people))\n",
    "\n",
    "cvModelRepository = CVModelRepository(wmhSpecific=False)\n",
    "cvWmhInterceptRiskList = list(map(lambda x: cvModelRepository.select_outcome_model_for_person(x).get_risk_for_person(x, years=10), \n",
    "                                  pop._people))\n",
    "\n",
    "#the only way to get the CV risks without using any WMH information is to remove the modality and WMH outcome from the people\n",
    "for p in pop._people:\n",
    "    p._outcomes[OutcomeType.WMH] = list()\n",
    "    p._modality = Modality.NO.value\n",
    "\n",
    "#I need to set this wmhSpecific flag to something...with the outcomes removed and no modality this should give the risk I need\n",
    "#I verified that it does...using wmhSpecific=False, I get exactly the same risks\n",
    "cvModelRepository = CVModelRepository(wmhSpecific=True) \n",
    "cvWmhNoRiskList = list(map(lambda x: cvModelRepository.select_outcome_model_for_person(x).get_risk_for_person(x, years=10), \n",
    "                           pop._people))\n",
    "\n",
    "binEdges = np.concatenate((np.arange(0., 0.175, 0.025),  np.arange(0.2, 0.6,0.3), np.arange(1,1.1,1))) \n",
    "risks = [ \"0.0-0.025\", \"0.025-0.05\" , \"0.05-0.075\", \"0.075-0.1\"  , \"0.1-0.125\", \"0.125-0.15\" , \"0.15-0.2\" , \" 0.2-0.5\" , \"  0.5-1.\"]"
   ]
  },
  {
   "cell_type": "markdown",
   "id": "f7cfb949-bb21-491e-9e21-f24f50f7fdeb",
   "metadata": {},
   "source": [
    "The scatter plot does not provide much information due to the overlap but at least you can see the pattern: CV risk increases when you consider the brain scan presence (included as the static risk factor modality in the simulation)."
   ]
  },
  {
   "cell_type": "code",
   "execution_count": 24,
   "id": "52c2ebda-ebb5-44e6-a7fc-a13329dc8a7e",
   "metadata": {},
   "outputs": [
    {
     "data": {
      "image/png": "[encoded data removed]",
      "text/plain": [
       "<Figure size 640x480 with 1 Axes>"
      ]
     },
     "metadata": {},
     "output_type": "display_data"
    }
   ],
   "source": [
    "plt.scatter(cvWmhNoRiskList, cvWmhInterceptRiskList, s=0.001)\n",
    "plt.xlabel(\"CV risk\") #CV is essentially the CV risk without taking into account the brain scan at all\n",
    "plt.ylabel(\"CV + wmh intercept risk\")\n",
    "plt.show()"
   ]
  },
  {
   "cell_type": "markdown",
   "id": "165cf6db-b618-49dc-aad7-00b6bb74dbaf",
   "metadata": {},
   "source": [
    "With these bins you can see the changes in the risk of the population."
   ]
  },
  {
   "cell_type": "code",
   "execution_count": 25,
   "id": "ad880662-604f-4615-9c3e-1feeffe2a469",
   "metadata": {},
   "outputs": [
    {
     "name": "stdout",
     "output_type": "stream",
     "text": [
      "                          -----------------------------------------------------\n",
      "                          proportion of people in risk bins\n",
      "                          -----------------------------------------------------\n",
      "                 0.5-1.       0.00       0.00       0.00       0.00       0.00       0.00       0.00       0.08       0.00 \n",
      "                0.2-0.5       0.00       0.00       0.04       0.11       0.08       0.06       0.08       0.02       0.00 \n",
      "               0.15-0.2       0.00       0.01       0.11       0.00       0.00       0.00       0.00       0.00       0.00 \n",
      "             0.125-0.15       0.00       0.07       0.00       0.00       0.00       0.00       0.00       0.00       0.00 \n",
      "              0.1-0.125       0.00       0.07       0.00       0.00       0.00       0.00       0.00       0.00       0.00 \n",
      "              0.075-0.1       0.02       0.05       0.00       0.00       0.00       0.00       0.00       0.00       0.00 \n",
      "             0.05-0.075       0.08       0.00       0.00       0.00       0.00       0.00       0.00       0.00       0.00 \n",
      "             0.025-0.05       0.07       0.00       0.00       0.00       0.00       0.00       0.00       0.00       0.00 \n",
      "              0.0-0.025       0.02       0.00       0.00       0.00       0.00       0.00       0.00       0.00       0.00 \n",
      "  CV+wmh intercept risk   0.0-0.025  0.025-0.05  0.05-0.075  0.075-0.1  0.1-0.125  0.125-0.15  0.15-0.2   0.2-0.5    0.5-1.\n",
      "                          CV risk\n"
     ]
    }
   ],
   "source": [
    "personCounts, xEdgesActual, yEdgesActual = np.histogram2d(cvWmhInterceptRiskList, cvWmhNoRiskList, bins=[binEdges,binEdges])\n",
    "pc = personCounts\n",
    "    \n",
    "print(\" \"*25, \"-\"*53)\n",
    "print(\" \"*25, \"proportion of people in risk bins\")\n",
    "print(\" \"*25, \"-\"*53)\n",
    "for i,row in enumerate(np.flip(pc, axis=0)/pc.sum()):\n",
    "    printString = f\"{risks[-i-1]:>23} \"\n",
    "    for item in row:\n",
    "        printString += f\"{item:> 10.2f} \" \n",
    "    print(printString) \n",
    "print(\" \"*1, \"CV+wmh intercept risk   \" + \"  \".join(risks))\n",
    "print(\" \"*25, \"CV risk\")"
   ]
  },
  {
   "cell_type": "markdown",
   "id": "f4e8ecfa-5155-4f7e-ac13-a12b3177efcf",
   "metadata": {},
   "source": [
    "The risks separate in the lines below because there are a finite number of categories to assign the risk modification due to WMH. The lines are only on one side of the diagonal because the risk only increases when you consider the presence of WMH."
   ]
  },
  {
   "cell_type": "code",
   "execution_count": 26,
   "id": "8d517dc7-816c-49a7-a7ba-48de0ff01e65",
   "metadata": {},
   "outputs": [
    {
     "data": {
      "image/png": "[encoded data removed]",
      "text/plain": [
       "<Figure size 640x480 with 1 Axes>"
      ]
     },
     "metadata": {},
     "output_type": "display_data"
    }
   ],
   "source": [
    "plt.scatter(cvWmhNoRiskList, cvWmhSpecificRiskList, s=0.001)\n",
    "plt.xlabel(\"CV risk\")\n",
    "plt.ylabel(\"CV + wmh specific risk\")\n",
    "plt.show()"
   ]
  },
  {
   "cell_type": "markdown",
   "id": "41bf1969-c411-4cec-b039-f69b20ad386e",
   "metadata": {},
   "source": [
    "When you take into account all WMH-related information the risk changes seem to be more spread out."
   ]
  },
  {
   "cell_type": "code",
   "execution_count": 27,
   "id": "582eede2-e3b3-42d6-8dba-6d1cff80365e",
   "metadata": {},
   "outputs": [
    {
     "name": "stdout",
     "output_type": "stream",
     "text": [
      "                          -----------------------------------------------------\n",
      "                          proportion of people in risk bins\n",
      "                          -----------------------------------------------------\n",
      "                 0.5-1.       0.00       0.01       0.01       0.01       0.02       0.02       0.03       0.06       0.00 \n",
      "                0.2-0.5       0.00       0.03       0.03       0.03       0.03       0.04       0.05       0.04       0.00 \n",
      "               0.15-0.2       0.01       0.00       0.01       0.04       0.03       0.00       0.00       0.00       0.00 \n",
      "             0.125-0.15       0.00       0.01       0.02       0.03       0.00       0.00       0.00       0.00       0.00 \n",
      "              0.1-0.125       0.00       0.01       0.06       0.00       0.00       0.00       0.00       0.00       0.00 \n",
      "              0.075-0.1       0.00       0.05       0.03       0.00       0.00       0.00       0.00       0.00       0.00 \n",
      "             0.05-0.075       0.01       0.09       0.00       0.00       0.00       0.00       0.00       0.00       0.00 \n",
      "             0.025-0.05       0.10       0.01       0.00       0.00       0.00       0.00       0.00       0.00       0.00 \n",
      "              0.0-0.025       0.07       0.00       0.00       0.00       0.00       0.00       0.00       0.00       0.00 \n",
      "   CV+wmh specific risk   0.0-0.025  0.025-0.05  0.05-0.075  0.075-0.1  0.1-0.125  0.125-0.15  0.15-0.2   0.2-0.5    0.5-1.\n",
      "                          CV risk\n"
     ]
    }
   ],
   "source": [
    "personCounts, xEdgesActual, yEdgesActual = np.histogram2d(cvWmhSpecificRiskList, cvWmhNoRiskList, bins=[binEdges,binEdges])\n",
    "pc = personCounts\n",
    "    \n",
    "print(\" \"*25, \"-\"*53)\n",
    "print(\" \"*25, \"proportion of people in risk bins\")\n",
    "print(\" \"*25, \"-\"*53)\n",
    "for i,row in enumerate(np.flip(pc, axis=0)/pc.sum()):\n",
    "    printString = f\"{risks[-i-1]:>23} \"\n",
    "    for item in row:\n",
    "        printString += f\"{item:> 10.2f} \" \n",
    "    print(printString) \n",
    "print(\" \"*2, \"CV+wmh specific risk   \" + \"  \".join(risks))\n",
    "print(\" \"*25, \"CV risk\")"
   ]
  },
  {
   "cell_type": "markdown",
   "id": "df3c3e16-3f26-4784-ab6e-004905fd092d",
   "metadata": {},
   "source": [
    "In contrast, when you compare risks by just adjusting the intercept versus using all WMH-related information some risks increase but some decrease."
   ]
  },
  {
   "cell_type": "code",
   "execution_count": 28,
   "id": "9603cd09-2902-429c-b35f-0443fe838049",
   "metadata": {},
   "outputs": [
    {
     "data": {
      "image/png": "[encoded data removed]",
      "text/plain": [
       "<Figure size 640x480 with 1 Axes>"
      ]
     },
     "metadata": {},
     "output_type": "display_data"
    }
   ],
   "source": [
    "plt.scatter(cvWmhInterceptRiskList, cvWmhSpecificRiskList, s=0.001)\n",
    "plt.ylabel(\"CV + wmh specific risk\")\n",
    "plt.xlabel(\"CV + wmh intercept risk\")\n",
    "plt.show()"
   ]
  },
  {
   "cell_type": "code",
   "execution_count": 29,
   "id": "370b5660-6651-4acf-a619-038caa6d6de6",
   "metadata": {},
   "outputs": [
    {
     "name": "stdout",
     "output_type": "stream",
     "text": [
      "                          -----------------------------------------------------\n",
      "                          proportion of people in risk bins\n",
      "                          -----------------------------------------------------\n",
      "                 0.5-1.       0.00       0.00       0.00       0.00       0.00       0.00       0.00       0.09       0.05 \n",
      "                0.2-0.5       0.00       0.00       0.00       0.00       0.01       0.01       0.02       0.18       0.03 \n",
      "               0.15-0.2       0.00       0.00       0.00       0.00       0.00       0.00       0.01       0.08       0.00 \n",
      "             0.125-0.15       0.00       0.00       0.00       0.00       0.00       0.01       0.00       0.05       0.00 \n",
      "              0.1-0.125       0.00       0.00       0.00       0.00       0.01       0.00       0.05       0.01       0.00 \n",
      "              0.075-0.1       0.00       0.00       0.00       0.01       0.00       0.04       0.03       0.00       0.00 \n",
      "             0.05-0.075       0.00       0.00       0.01       0.03       0.05       0.01       0.00       0.00       0.00 \n",
      "             0.025-0.05       0.00       0.02       0.06       0.03       0.00       0.00       0.00       0.00       0.00 \n",
      "              0.0-0.025       0.02       0.05       0.00       0.00       0.00       0.00       0.00       0.00       0.00 \n",
      "   CV+wmh specific risk   0.0-0.025  0.025-0.05  0.05-0.075  0.075-0.1  0.1-0.125  0.125-0.15  0.15-0.2   0.2-0.5    0.5-1.\n",
      "                          CV+wmh intercept risk\n"
     ]
    }
   ],
   "source": [
    "personCounts, xEdgesActual, yEdgesActual = np.histogram2d(cvWmhSpecificRiskList, cvWmhInterceptRiskList, bins=[binEdges,binEdges])\n",
    "pc = personCounts\n",
    "    \n",
    "print(\" \"*25, \"-\"*53)\n",
    "print(\" \"*25, \"proportion of people in risk bins\")\n",
    "print(\" \"*25, \"-\"*53)\n",
    "for i,row in enumerate(np.flip(pc, axis=0)/pc.sum()):\n",
    "    printString = f\"{risks[-i-1]:>23} \"\n",
    "    for item in row:\n",
    "        printString += f\"{item:> 10.2f} \" \n",
    "    print(printString) \n",
    "print(\" \"*2, \"CV+wmh specific risk   \" + \"  \".join(risks))\n",
    "print(\" \"*25, \"CV+wmh intercept risk\")"
   ]
  },
  {
   "cell_type": "code",
   "execution_count": null,
   "id": "f46a4fa2-95b8-470b-b69f-860672b7b0a7",
   "metadata": {},
   "outputs": [],
   "source": []
  }
 ],
 "metadata": {
  "kernelspec": {
   "display_name": "microsimKernel",
   "language": "python",
   "name": "microsimkernel"
  },
  "language_info": {
   "codemirror_mode": {
    "name": "ipython",
    "version": 3
   },
   "file_extension": ".py",
   "mimetype": "text/x-python",
   "name": "python",
   "nbconvert_exporter": "python",
   "pygments_lexer": "ipython3",
   "version": "3.9.13"
  }
 },
 "nbformat": 4,
 "nbformat_minor": 5
}
