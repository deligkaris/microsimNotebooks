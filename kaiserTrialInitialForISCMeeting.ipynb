{
 "cells": [
  {
   "cell_type": "markdown",
   "id": "11f6d57a-b7b6-4dbe-a67c-6da6ea22c03b",
   "metadata": {},
   "source": [
    "The goal of this notebook is to perform some preliminary simulations with the Kaiser WMH population. These results will be used for an ISC meeting presentation."
   ]
  },
  {
   "cell_type": "code",
   "execution_count": 1,
   "id": "f12a45d7-76ca-40d9-ab87-a8cfe24481d7",
   "metadata": {},
   "outputs": [
    {
     "name": "stdout",
     "output_type": "stream",
     "text": [
      "3.9.13 (main, Sep 27 2022, 07:05:21) \n",
      "[Clang 14.0.0 (clang-1400.0.29.102)]\n"
     ]
    }
   ],
   "source": [
    "import os\n",
    "microsimDir = \"/Users/deligkaris.1/OneDrive - The Ohio State University Wexner Medical Center/MICROSIM/CODE/microsim\"\n",
    "os.chdir(microsimDir)\n",
    "\n",
    "import pandas as pd\n",
    "import matplotlib.pyplot as plt\n",
    "import numpy as np\n",
    "\n",
    "from microsim.person_filter import PersonFilter\n",
    "from microsim.trials.trial_description import KaiserTrialDescription\n",
    "from microsim.trials.trial_type import TrialType\n",
    "from microsim.trials.trial import Trial\n",
    "from microsim.trials.trial_outcome_assessor_factory import TrialOutcomeAssessorFactory\n",
    "from microsim.treatment import TreatmentStrategiesType, DefaultTreatmentsType\n",
    "from microsim.treatment_strategy_repository import TreatmentStrategyRepository\n",
    "from microsim.bp_treatment_strategies import SprintForSbpRiskThreshold\n",
    "from microsim.statin_treatment_strategies import StatinTreatmentStrategy\n",
    "from microsim.population_factory import PopulationFactory\n",
    "from microsim.cv_model_repository import CVModelRepository\n",
    "from microsim.outcome import OutcomeType\n",
    "from microsim.modality import Modality\n",
    "\n",
    "import sys\n",
    "print(sys.version)"
   ]
  },
  {
   "cell_type": "code",
   "execution_count": 2,
   "id": "67da9efc-2124-4399-97c1-3c2391fd1019",
   "metadata": {},
   "outputs": [],
   "source": [
    "pd.set_option('future.no_silent_downcasting', True) #make the calculation here future-proof"
   ]
  },
  {
   "cell_type": "markdown",
   "id": "eee517fe-ba27-4a50-82b9-ce3143f384bb",
   "metadata": {},
   "source": [
    "### Part 1: determine the overall risk in the kaiser CCM population, without specifically attending to CCM as a risk factor\n",
    "\n",
    "  - initialize a kaiser population\n",
    "  - use the intercept only risk model that does not include CCM covariates\n",
    "  - run a 4 year trial with \"intensive treatment” define as:  statin guidelines (use statin for all with risk > 7.5%) + risk-based SPRINT      guideline (implement SPRINT for all individuals over 7.5% who meet SPRINT bp criteria)\n",
    "  - compare treatment in usual care vs. intensive treatment by baseline risk quintiles. (for each quintile define the range of risks, and       then look at bp meds added and statins added)\n",
    "  - compare all outcomes — cognitive, dementia, cardiovascular, quality of life in treated vs. usual care."
   ]
  },
  {
   "cell_type": "code",
   "execution_count": 3,
   "id": "d4f326aa-f468-44ef-8eaf-772cab24ed0b",
   "metadata": {},
   "outputs": [
    {
     "name": "stdout",
     "output_type": "stream",
     "text": [
      "                          Printing covariate information for people still alive...\n",
      "                          self=treated, alive people count=  300000               other=control, alive people count=  300000  \n",
      "                          self=treated, unique alive people count=  143368        other=control, unique alive people count=  143174  \n",
      "                          self                                                    other\n",
      "                          -----------------------------------------------------   -----------------------------------------------------\n",
      "                          min      0.25    med     0.75     max    mean     sd     min     0.25    med     0.75     max    mean     sd\n",
      "                          -----------------------------------------------------   -----------------------------------------------------\n",
      "                    age    45.0    57.0    63.0    70.0   112.0    64.0     9.3    45.0    57.0    63.0    70.0   112.0    63.9     9.3\n",
      "                    sbp    73.3   120.9   129.9   139.0   207.0   130.0    13.6    67.6   120.8   129.9   138.9   207.4   130.0    13.5\n",
      "                    dbp    36.0    67.9    73.8    79.8   115.0    73.9     8.9    37.8    67.9    73.8    79.8   117.3    73.9     8.9\n",
      "                    a1c     3.3     5.4     5.9     6.5    15.0     6.0     1.0     3.3     5.4     5.9     6.5    15.0     6.0     1.0\n",
      "                    hdl     5.4    43.5    53.8    64.7   137.6    54.5    15.7     5.4    43.5    53.8    64.7   137.6    54.4    15.6\n",
      "                    ldl     8.1    96.8   118.1   139.6   439.3   118.3    31.8     8.1    96.9   118.3   139.7   456.8   118.4    31.8\n",
      "                   trig     9.0    92.2   138.5   192.4  2788.8   149.5    84.6     9.0    92.3   138.6   192.3  2538.5   149.4    83.1\n",
      "                totChol    53.1   173.8   199.5   224.9   455.6   199.4    37.8    53.1   173.8   199.5   224.9   481.8   199.5    37.8\n",
      "                    bmi    13.5    24.5    28.0    31.8    65.9    28.3     5.6    13.5    24.5    28.0    31.8    65.9    28.3     5.7\n",
      "             creatinine     0.1     0.7     0.9     1.2    17.9     1.0     0.6     0.1     0.7     0.9     1.2    17.9     1.0     0.6\n",
      "                  waist    41.0    89.7    99.4   109.0   162.1    99.4    14.4    40.4    89.7    99.4   109.0   162.5    99.4    14.4\n",
      "  antiHypertensiveCount     0.0     0.3     0.7     1.1     5.4     0.8     0.6     0.0     0.3     0.7     1.1     5.2     0.8     0.6\n",
      "                          self   other\n",
      "                          proportions\n",
      "                          -----------\n",
      "    anyPhysicalActivity\n",
      "                      0   0.16   0.16\n",
      "                      1   0.84   0.84\n",
      "                   afib\n",
      "                      0   0.96   0.96\n",
      "                      1   0.04   0.04\n",
      "         alcoholPerWeek\n",
      "                      0   0.26   0.26\n",
      "                      2   0.36   0.36\n",
      "                      3   0.38   0.38\n",
      "                    pvd\n",
      "                      0   0.97   0.98\n",
      "                      1   0.03   0.02\n",
      "               modality\n",
      "                     ct   0.74   0.74\n",
      "                     mr   0.26   0.26\n",
      "          raceEthnicity\n",
      "                      2   0.33   0.33\n",
      "                      3   0.43   0.43\n",
      "                      4   0.11   0.11\n",
      "                      5   0.03   0.03\n",
      "                      6   0.10   0.10\n",
      "              education\n",
      "                      1   0.07   0.06\n",
      "                      2   0.13   0.13\n",
      "                      3   0.26   0.26\n",
      "                      4   0.32   0.32\n",
      "                      5   0.22   0.22\n",
      "                 gender\n",
      "                      1   0.36   0.36\n",
      "                      2   0.64   0.64\n",
      "          smokingStatus\n",
      "                      0   0.59   0.59\n",
      "                      1   0.41   0.41\n",
      "                 statin\n",
      "                      0   1.00   1.00\n",
      "CPU times: user 3min 15s, sys: 24.2 s, total: 3min 39s\n",
      "Wall time: 3min 22s\n"
     ]
    }
   ],
   "source": [
    "%%time\n",
    "pf = PersonFilter() \n",
    "#pf.add_filter(\"person\", \n",
    "#              \"lowCvLimit\", \n",
    "#              lambda x: (CVModelRepository().select_outcome_model_for_person(x).get_risk_for_person(x, years=10)<0.075))\n",
    "pf.add_filter(\"df\",\n",
    "              \"noStatin\",\n",
    "              lambda x: x[DefaultTreatmentsType.STATIN.value]==0)\n",
    "\n",
    "cvRiskCutoff=0.075\n",
    "wmhSpecific=False\n",
    "\n",
    "ts = TreatmentStrategyRepository()\n",
    "ts._repository[TreatmentStrategiesType.BP.value] = SprintForSbpRiskThreshold(cvRiskCutoff=cvRiskCutoff, wmhSpecific=wmhSpecific)\n",
    "ts._repository[TreatmentStrategiesType.STATIN.value] = StatinTreatmentStrategy(cvRiskCutoff=cvRiskCutoff, wmhSpecific=wmhSpecific)\n",
    "\n",
    "sampleSize = 300000\n",
    "duration = 4\n",
    "td = KaiserTrialDescription(trialType = TrialType.COMPLETELY_RANDOMIZED,\n",
    "                            blockFactors=list(),\n",
    "                            sampleSize = sampleSize, \n",
    "                            duration = duration, \n",
    "                            treatmentStrategies = ts,\n",
    "                            nWorkers = 5, \n",
    "                            personFilters=pf,\n",
    "                            wmhSpecific=False) \n",
    "\n",
    "tr = Trial(td)\n",
    "\n",
    "tr.print_covariate_distributions()"
   ]
  },
  {
   "cell_type": "code",
   "execution_count": 4,
   "id": "d1e562ae-cea9-40e9-8904-d038e05f2d9b",
   "metadata": {},
   "outputs": [
    {
     "name": "stderr",
     "output_type": "stream",
     "text": [
      "/Users/deligkaris.1/Library/Caches/pypoetry/virtualenvs/microsim-54NoInYP-py3.9/lib/python3.9/site-packages/numpy/core/fromnumeric.py:59: FutureWarning: 'Series.swapaxes' is deprecated and will be removed in a future version. Please use 'Series.transpose' instead.\n",
      "  return bound(*args, **kwds)\n"
     ]
    },
    {
     "name": "stdout",
     "output_type": "stream",
     "text": [
      "Trial is completed.\n",
      "CPU times: user 5min 7s, sys: 8min 16s, total: 13min 24s\n",
      "Wall time: 24min 30s\n"
     ]
    },
    {
     "data": {
      "text/plain": [
       "Trial Description\n",
       "\tTrial type: 1\n",
       "\tBlock factors: []\n",
       "\tSample size: 300000\n",
       "\tDuration: 4\n",
       "\tTreatment strategies: ['bp', 'statin']\n",
       "\tNumber of workers: 5\n",
       "\tPerson filters: \n",
       "\t Person Filters:\n",
       "\t    filter type   filter name    \n",
       "\t             df   noStatin       \n",
       "\n",
       "\tPopulation type: PopulationType.KAISER\n",
       "Trial\n",
       "\tTrial completed: True\n",
       "Trial results:\n",
       "\tAnalysis: linear\n",
       "                            Z   Z SE pValue Inter.\n",
       "               qalys:   0.024  0.002  0.000  3.699\n",
       "             meanGCP:   0.119  0.019  0.000 52.746\n",
       "             lastGCP:   0.135  0.025  0.000 51.152\n",
       "\tAnalysis: logistic\n",
       "                            Z   Z SE pValue Inter.\n",
       "               death:  -0.098  0.010  0.000 -2.398\n",
       "            anyEvent:  -0.045  0.006  0.000  0.801\n",
       "    vascEventOrDeath:  -0.239  0.008  0.000 -1.837\n",
       "           vascEvent:  -0.454  0.011  0.000 -2.538\n",
       "            cogEvent:   0.006  0.005  0.239  0.507\n",
       "\tAnalysis: cox\n",
       "                            Z   Z SE pValue\n",
       "            deathCox:  -0.094  0.009  0.000       \n",
       "         cogEventCox:  -0.003  0.003  0.369       \n",
       " vascEventOrDeathCox:  -0.224  0.007  0.000       \n",
       "\tAnalysis: relativeRisk\n",
       "                       |-----relative-----| |------------treated-------------| |------------control-------------| |diff|\n",
       "                       |mle-| |---score---| |--------mle-------| |---wilson--| |--------mle-------| |---wilson--|  *1000\n",
       "                         risk  ciLow  ciUpp   risk  ciLow  ciUpp  ciLow  ciUpp   risk  ciLow  ciUpp  ciLow  ciUpp\n",
       "            strokeRR:   0.606  0.588  0.624  0.023  0.022  0.023  0.022  0.023  0.037  0.037  0.038  0.037  0.038 14.687\n",
       "                miRR:   0.693  0.673  0.713  0.026  0.026  0.027  0.026  0.027  0.038  0.037  0.038  0.037  0.038 11.570\n",
       "                cvRR:   0.652  0.639  0.666  0.048  0.047  0.049  0.047  0.049  0.073  0.072  0.074  0.072  0.074 25.460\n",
       "          dementiaRR:   1.036  1.008  1.065  0.033  0.033  0.034  0.033  0.034  0.032  0.031  0.033  0.031  0.033  1.153\n",
       "                ciRR:   1.001  0.997  1.005  0.608  0.607  0.610  0.607  0.610  0.607  0.606  0.609  0.606  0.609  0.790\n",
       "      dementiaOrCiRR:   1.002  0.998  1.006  0.626  0.624  0.627  0.624  0.627  0.624  0.622  0.626  0.622  0.626  1.473\n",
       "             deathRR:   0.914  0.898  0.930  0.076  0.075  0.077  0.075  0.077  0.083  0.082  0.084  0.082  0.084  7.170"
      ]
     },
     "execution_count": 4,
     "metadata": {},
     "output_type": "execute_result"
    }
   ],
   "source": [
    "%%time\n",
    "tr.run()\n",
    "\n",
    "toa = TrialOutcomeAssessorFactory.get_trial_outcome_assessor()\n",
    "tr.analyze(toa)\n",
    "\n",
    "tr"
   ]
  },
  {
   "cell_type": "code",
   "execution_count": 5,
   "id": "82bf5c60-ed14-43ff-bb6b-6da4c815fd1f",
   "metadata": {},
   "outputs": [
    {
     "name": "stdout",
     "output_type": "stream",
     "text": [
      "                          Printing treatment strategy variable information at the end of the trial...\n",
      "                          self=treated, alive people count=  277163  \n",
      "                          self=treated & alive, unique people count=  138664  \n",
      "                          self\n",
      "                          -----------------------------------------------------\n",
      "                          proportions\n",
      "                          -----------\n",
      "            bpMedsAdded\n",
      "                      0   0.57\n",
      "                      1   0.14\n",
      "                      2   0.14\n",
      "                      3   0.12\n",
      "                      4   0.03\n",
      "           statinsAdded\n",
      "                      0   0.26\n",
      "                      1   0.74\n",
      "                          -----------------------------------------------------\n",
      "                          proportions in each quintile\n",
      "                          -----------------------------------------------------\n",
      "                          bpMedsAdded\n",
      "       CV risk quintile      0       1       2       3       4      >4 \n",
      "                      1    0.85    0.02    0.05    0.06    0.00    0.00 \n",
      "                      2    0.57    0.14    0.15    0.13    0.02    0.00 \n",
      "                      3    0.48    0.17    0.16    0.14    0.05    0.00 \n",
      "                      4    0.48    0.17    0.17    0.13    0.05    0.00 \n",
      "                      5    0.46    0.18    0.19    0.14    0.04    0.00 \n",
      "                          statinsAdded\n",
      "                             0       1       2 \n",
      "                      1    0.84    0.16    0.00 \n",
      "                      2    0.45    0.55    0.00 \n",
      "                      3    0.01    0.99    0.00 \n",
      "                      4    0.00    1.00    0.00 \n",
      "                      5    0.00    1.00    0.00 \n"
     ]
    }
   ],
   "source": [
    "tr.print_treatment_strategy_variables_information()"
   ]
  },
  {
   "cell_type": "markdown",
   "id": "0a40c1ee-a91c-4815-80d6-00fd8f18992b",
   "metadata": {},
   "source": [
    "### Part 3: determine the overall risk in the kaiser CCM population, with attending to CCM as a risk factor\n",
    "\n",
    " - initialize a kaiser population\n",
    " - use the CCM risk model that does  include CCM covariates\n",
    " - run a 4 year trial with \"intensive treatment” define as:  statin guidelines (use statin for all with risk > 7.5%) + risk-based SPRINT      guideline (implement SPRINT for all individuals over 7.5% who meet SPRINT bp criteria)\n",
    " - compare treatment in usual care vs. intensive treatment by baseline risk quintiles. (for each quintile define the range of risks, and      then look at bp meds added and statins added)\n",
    " - compare all outcomes — cognitive, dementia, cardiovascular, quality of life in intensive vs. usual care."
   ]
  },
  {
   "cell_type": "code",
   "execution_count": 6,
   "id": "0672fff0-993a-464c-b740-e334a480fb27",
   "metadata": {},
   "outputs": [
    {
     "name": "stdout",
     "output_type": "stream",
     "text": [
      "                          Printing covariate information for people still alive...\n",
      "                          self=treated, alive people count=  300000               other=control, alive people count=  300000  \n",
      "                          self=treated, unique alive people count=  143120        other=control, unique alive people count=  143412  \n",
      "                          self                                                    other\n",
      "                          -----------------------------------------------------   -----------------------------------------------------\n",
      "                          min      0.25    med     0.75     max    mean     sd     min     0.25    med     0.75     max    mean     sd\n",
      "                          -----------------------------------------------------   -----------------------------------------------------\n",
      "                    age    45.0    57.0    63.0    70.0   113.0    63.9     9.3    45.0    57.0    63.0    70.0   113.0    64.0     9.3\n",
      "                    sbp    71.5   120.9   129.9   138.9   202.6   130.0    13.5    73.7   120.9   129.9   138.9   202.6   130.0    13.5\n",
      "                    dbp    38.1    67.9    73.8    79.8   128.3    73.9     8.8    36.0    67.9    73.9    79.8   117.8    73.9     8.8\n",
      "                    a1c     3.2     5.4     5.9     6.5    15.9     6.0     1.0     3.2     5.4     5.9     6.5    15.9     6.0     1.0\n",
      "                    hdl     5.4    43.6    53.8    64.7   138.5    54.4    15.6     5.4    43.4    53.7    64.7   132.1    54.4    15.7\n",
      "                    ldl     8.1    96.8   118.3   139.6   470.5   118.3    31.7     8.1    96.7   118.3   139.7   470.5   118.3    31.8\n",
      "                   trig     9.0    92.6   138.8   192.9  3335.4   149.7    83.8     9.1    92.7   139.3   193.1  3335.4   150.0    83.8\n",
      "                totChol    53.1   173.9   199.4   225.1   459.7   199.5    37.7    53.1   173.9   199.4   225.0   459.7   199.4    37.8\n",
      "                    bmi    13.5    24.5    28.0    31.8    65.7    28.3     5.6    13.5    24.5    28.0    31.8    65.7    28.3     5.6\n",
      "             creatinine     0.1     0.7     0.9     1.2    15.8     1.0     0.6     0.1     0.7     0.9     1.2    15.8     1.0     0.6\n",
      "                  waist    42.5    89.7    99.4   109.1   164.9    99.4    14.4    40.7    89.7    99.4   109.0   171.6    99.4    14.4\n",
      "  antiHypertensiveCount     0.0     0.3     0.6     1.1     5.9     0.8     0.6     0.0     0.3     0.6     1.1     5.9     0.8     0.6\n",
      "                          self   other\n",
      "                          proportions\n",
      "                          -----------\n",
      "    anyPhysicalActivity\n",
      "                      0   0.16   0.16\n",
      "                      1   0.84   0.84\n",
      "                   afib\n",
      "                      0   0.96   0.96\n",
      "                      1   0.04   0.04\n",
      "         alcoholPerWeek\n",
      "                      0   0.26   0.26\n",
      "                      2   0.36   0.36\n",
      "                      3   0.37   0.38\n",
      "                    pvd\n",
      "                      0   0.98   0.98\n",
      "                      1   0.02   0.02\n",
      "               modality\n",
      "                     ct   0.74   0.74\n",
      "                     mr   0.26   0.26\n",
      "          raceEthnicity\n",
      "                      2   0.33   0.33\n",
      "                      3   0.43   0.43\n",
      "                      4   0.11   0.11\n",
      "                      5   0.03   0.03\n",
      "                      6   0.10   0.10\n",
      "              education\n",
      "                      1   0.07   0.07\n",
      "                      2   0.13   0.13\n",
      "                      3   0.26   0.26\n",
      "                      4   0.32   0.32\n",
      "                      5   0.22   0.22\n",
      "                 gender\n",
      "                      1   0.36   0.36\n",
      "                      2   0.64   0.64\n",
      "          smokingStatus\n",
      "                      0   0.59   0.59\n",
      "                      1   0.41   0.41\n",
      "                 statin\n",
      "                      0   1.00   1.00\n"
     ]
    }
   ],
   "source": [
    "pf = PersonFilter() \n",
    "#pf.add_filter(\"person\", \n",
    "#              \"lowCvLimit\", \n",
    "#              lambda x: (CVModelRepository().select_outcome_model_for_person(x).get_risk_for_person(x, years=10)<0.075))\n",
    "pf.add_filter(\"df\",\n",
    "              \"noStatin\",\n",
    "              lambda x: x[DefaultTreatmentsType.STATIN.value]==0)\n",
    "\n",
    "wmhSpecific=True\n",
    "cvRiskCutoff=0.075\n",
    "\n",
    "ts = TreatmentStrategyRepository()\n",
    "ts._repository[TreatmentStrategiesType.BP.value] = SprintForSbpRiskThreshold(cvRiskCutoff=cvRiskCutoff, wmhSpecific=wmhSpecific)\n",
    "ts._repository[TreatmentStrategiesType.STATIN.value] = StatinTreatmentStrategy(cvRiskCutoff=cvRiskCutoff, wmhSpecific=wmhSpecific)\n",
    "\n",
    "sampleSize = 300000\n",
    "duration = 4\n",
    "td = KaiserTrialDescription(trialType = TrialType.COMPLETELY_RANDOMIZED,\n",
    "                            blockFactors=list(),\n",
    "                            sampleSize = sampleSize, \n",
    "                            duration = duration, \n",
    "                            treatmentStrategies = ts,\n",
    "                            nWorkers = 5, \n",
    "                            personFilters=pf,\n",
    "                            wmhSpecific=True) \n",
    "\n",
    "tr = Trial(td)\n",
    "\n",
    "tr.print_covariate_distributions()"
   ]
  },
  {
   "cell_type": "code",
   "execution_count": 7,
   "id": "fae51c28-1532-46e0-a166-454dbc85332f",
   "metadata": {},
   "outputs": [
    {
     "name": "stderr",
     "output_type": "stream",
     "text": [
      "/Users/deligkaris.1/Library/Caches/pypoetry/virtualenvs/microsim-54NoInYP-py3.9/lib/python3.9/site-packages/numpy/core/fromnumeric.py:59: FutureWarning: 'Series.swapaxes' is deprecated and will be removed in a future version. Please use 'Series.transpose' instead.\n",
      "  return bound(*args, **kwds)\n"
     ]
    },
    {
     "name": "stdout",
     "output_type": "stream",
     "text": [
      "Trial is completed.\n",
      "CPU times: user 7min 20s, sys: 27min 54s, total: 35min 15s\n",
      "Wall time: 1h 3min 25s\n"
     ]
    },
    {
     "data": {
      "text/plain": [
       "Trial Description\n",
       "\tTrial type: 1\n",
       "\tBlock factors: []\n",
       "\tSample size: 300000\n",
       "\tDuration: 4\n",
       "\tTreatment strategies: ['bp', 'statin']\n",
       "\tNumber of workers: 5\n",
       "\tPerson filters: \n",
       "\t Person Filters:\n",
       "\t    filter type   filter name    \n",
       "\t             df   noStatin       \n",
       "\n",
       "\tPopulation type: PopulationType.KAISER\n",
       "Trial\n",
       "\tTrial completed: True\n",
       "Trial results:\n",
       "\tAnalysis: linear\n",
       "                            Z   Z SE pValue Inter.\n",
       "               qalys:   0.024  0.002  0.000  3.700\n",
       "             meanGCP:   0.121  0.019  0.000 52.749\n",
       "             lastGCP:   0.138  0.025  0.000 51.157\n",
       "\tAnalysis: logistic\n",
       "                            Z   Z SE pValue Inter.\n",
       "               death:  -0.105  0.010  0.000 -2.399\n",
       "            anyEvent:  -0.035  0.006  0.000  0.801\n",
       "    vascEventOrDeath:  -0.221  0.008  0.000 -1.848\n",
       "           vascEvent:  -0.399  0.011  0.000 -2.566\n",
       "            cogEvent:   0.009  0.005  0.098  0.511\n",
       "\tAnalysis: cox\n",
       "                            Z   Z SE pValue\n",
       "            deathCox:  -0.101  0.009  0.000       \n",
       "         cogEventCox:  -0.001  0.003  0.722       \n",
       " vascEventOrDeathCox:  -0.206  0.007  0.000       \n",
       "\tAnalysis: relativeRisk\n",
       "                       |-----relative-----| |------------treated-------------| |------------control-------------| |diff|\n",
       "                       |mle-| |---score---| |--------mle-------| |---wilson--| |--------mle-------| |---wilson--|  *1000\n",
       "                         risk  ciLow  ciUpp   risk  ciLow  ciUpp  ciLow  ciUpp   risk  ciLow  ciUpp  ciLow  ciUpp\n",
       "            strokeRR:   0.631  0.613  0.650  0.023  0.022  0.024  0.022  0.024  0.036  0.036  0.037  0.036  0.037 13.413\n",
       "                miRR:   0.732  0.712  0.753  0.027  0.026  0.027  0.026  0.027  0.037  0.036  0.037  0.036  0.037  9.817\n",
       "                cvRR:   0.687  0.673  0.701  0.049  0.048  0.050  0.048  0.050  0.071  0.070  0.072  0.070  0.072 22.313\n",
       "          dementiaRR:   1.002  0.975  1.030  0.033  0.032  0.033  0.032  0.033  0.033  0.032  0.033  0.032  0.033  0.080\n",
       "                ciRR:   1.003  0.999  1.007  0.610  0.608  0.612  0.608  0.612  0.608  0.607  0.610  0.607  0.610  1.687\n",
       "      dementiaOrCiRR:   1.003  0.999  1.007  0.627  0.625  0.629  0.625  0.629  0.625  0.623  0.627  0.623  0.627  2.070\n",
       "             deathRR:   0.908  0.892  0.924  0.076  0.075  0.076  0.075  0.076  0.083  0.082  0.084  0.082  0.084  7.677"
      ]
     },
     "execution_count": 7,
     "metadata": {},
     "output_type": "execute_result"
    }
   ],
   "source": [
    "%%time\n",
    "tr.run()\n",
    "\n",
    "toa = TrialOutcomeAssessorFactory.get_trial_outcome_assessor()\n",
    "tr.analyze(toa)\n",
    "\n",
    "tr"
   ]
  },
  {
   "cell_type": "code",
   "execution_count": 8,
   "id": "8e1e9d5c-0cc8-4ae6-9b15-30ba9931dd90",
   "metadata": {},
   "outputs": [
    {
     "name": "stdout",
     "output_type": "stream",
     "text": [
      "                          Printing treatment strategy variable information at the end of the trial...\n",
      "                          self=treated, alive people count=  277337  \n",
      "                          self=treated & alive, unique people count=  138396  \n",
      "                          self\n",
      "                          -----------------------------------------------------\n",
      "                          proportions\n",
      "                          -----------\n",
      "            bpMedsAdded\n",
      "                      0   0.63\n",
      "                      1   0.12\n",
      "                      2   0.13\n",
      "                      3   0.11\n",
      "                      4   0.02\n",
      "           statinsAdded\n",
      "                      0   0.40\n",
      "                      1   0.60\n",
      "                          -----------------------------------------------------\n",
      "                          proportions in each quintile\n",
      "                          -----------------------------------------------------\n",
      "                          bpMedsAdded\n",
      "       CV risk quintile      0       1       2       3       4      >4 \n",
      "                      1    0.98    0.00    0.00    0.01    0.00    0.00 \n",
      "                      2    0.70    0.07    0.11    0.11    0.01    0.00 \n",
      "                      3    0.53    0.16    0.16    0.13    0.03    0.00 \n",
      "                      4    0.48    0.17    0.17    0.13    0.04    0.00 \n",
      "                      5    0.44    0.18    0.19    0.14    0.04    0.00 \n",
      "                          statinsAdded\n",
      "                             0       1       2 \n",
      "                      1    0.99    0.01    0.00 \n",
      "                      2    0.67    0.33    0.00 \n",
      "                      3    0.32    0.68    0.00 \n",
      "                      4    0.00    1.00    0.00 \n",
      "                      5    0.00    1.00    0.00 \n"
     ]
    }
   ],
   "source": [
    "tr.print_treatment_strategy_variables_information()"
   ]
  },
  {
   "cell_type": "markdown",
   "id": "5bf75403-bf06-4ec7-a770-115a9e82425f",
   "metadata": {},
   "source": [
    "### Part 2: compare how treatment varies in the kaiser CCM population, depending on whether we use an intercept only model or a model that considers CCM risk\n",
    "\n",
    " - initialize a kaiser population. clone it.\n",
    " - compare the assigned risk quintile on both models\n",
    " - in one cloned population, use the intercept only risk model and run teh sim for one year with the intensive treatment arm.\n",
    " - in the other cloned population, use the CCM risk model and run teh sim for one year with the intensive treatment arm\n",
    " - match individual between teh two cloned populations. \n",
    " - compare treatment between the two cloned populations (e.g. how many patients added/subtracted bp meds, statins)\n",
    " - compare treatment between teh cloned populations stratified by baseline risk (e.g. rows are risk quintiles from the intercept-only model, columns are risk quintiles form the CCM model), cell values are delta bp meds. repeat the same table but, cells are delta statins."
   ]
  },
  {
   "cell_type": "code",
   "execution_count": 9,
   "id": "62bcf0d3-fe90-4492-a120-821c7a8167d9",
   "metadata": {},
   "outputs": [
    {
     "data": {
      "text/plain": [
       "{'dynamicRiskFactors': <microsim.cohort_risk_model_repository.CohortDynamicRiskFactorModelRepository at 0x63af33e20>,\n",
       " 'defaultTreatments': <microsim.cohort_risk_model_repository.CohortDefaultTreatmentModelRepository at 0x3741ac430>,\n",
       " 'outcomes': <microsim.outcome_model_repository.OutcomeModelRepository at 0x3c09ef760>,\n",
       " 'staticRiskFactors': <microsim.cohort_risk_model_repository.CohortDynamicRiskFactorModelRepository at 0x63af33e20>}"
      ]
     },
     "execution_count": 9,
     "metadata": {},
     "output_type": "execute_result"
    }
   ],
   "source": [
    "#pop1 is using wmh information\n",
    "popSize = 100000\n",
    "pop1 = PopulationFactory.get_kaiser_population(n=popSize)\n",
    "pop2 = pop1.copy()\n",
    "pop2._modelRepository"
   ]
  },
  {
   "cell_type": "code",
   "execution_count": 10,
   "id": "e2db939f-c245-4111-80e4-ed05dbb15807",
   "metadata": {},
   "outputs": [
    {
     "data": {
      "text/plain": [
       "{'dynamicRiskFactors': <microsim.cohort_risk_model_repository.CohortDynamicRiskFactorModelRepository at 0x3adf5feb0>,\n",
       " 'defaultTreatments': <microsim.cohort_risk_model_repository.CohortDefaultTreatmentModelRepository at 0x32209f280>,\n",
       " 'outcomes': <microsim.outcome_model_repository.OutcomeModelRepository at 0x322226f40>,\n",
       " 'staticRiskFactors': <microsim.cohort_risk_model_repository.CohortStaticRiskFactorModelRepository at 0x322867100>}"
      ]
     },
     "execution_count": 10,
     "metadata": {},
     "output_type": "execute_result"
    }
   ],
   "source": [
    "#by creation pop2 is similar to pop1 but we are now using a repository with wmhSpecific=False\n",
    "pop2ModelRepository = PopulationFactory.get_kaiser_population_model_repo(wmhSpecific=False)\n",
    "pop2._modelRepository = pop2ModelRepository._repository\n",
    "pop2._modelRepository"
   ]
  },
  {
   "cell_type": "code",
   "execution_count": 11,
   "id": "e1ff6ae2-908c-499e-91f9-1569824301a4",
   "metadata": {},
   "outputs": [],
   "source": [
    "#find the CV risks at baseline, before advacing at all, using the appropriate model\n",
    "from microsim.cv_model_repository import CVModelRepository\n",
    "import numpy as np\n",
    "cvModelRepository = CVModelRepository(wmhSpecific=True)\n",
    "popAlive = filter(lambda x: x.is_alive, pop1._people)\n",
    "cvRiskList1 = list(map(lambda x: cvModelRepository.select_outcome_model_for_person(x).get_risk_for_person(x, years=10), popAlive))\n",
    "cvRiskBoundaries1 = np.quantile(cvRiskList1, np.linspace(0, 1, 6))\n",
    "cvRiskQuintiles1 = np.digitize(cvRiskList1, cvRiskBoundaries1, right=False)\n",
    "cvRiskQuintiles1[cvRiskList1 == cvRiskBoundaries1[-1]] = 5\n",
    "\n",
    "cvModelRepository = CVModelRepository(wmhSpecific=False)\n",
    "popAlive = filter(lambda x: x.is_alive, pop2._people)\n",
    "cvRiskList2 = list(map(lambda x: cvModelRepository.select_outcome_model_for_person(x).get_risk_for_person(x, years=10), popAlive))\n",
    "cvRiskBoundaries2 = np.quantile(cvRiskList2, np.linspace(0, 1, 6))\n",
    "cvRiskQuintiles2 = np.digitize(cvRiskList2, cvRiskBoundaries2, right=False)\n",
    "cvRiskQuintiles2[cvRiskList2 == cvRiskBoundaries2[-1]] = 5"
   ]
  },
  {
   "cell_type": "code",
   "execution_count": 12,
   "id": "a0012336-1328-4ccd-8fb6-2fc1ced50f99",
   "metadata": {},
   "outputs": [
    {
     "name": "stdout",
     "output_type": "stream",
     "text": [
      "                          -----------------------------------------------------\n",
      "                          proportion of people in CV risk quintile bins\n",
      "                          -----------------------------------------------------\n",
      "                          CV risk intercept-only\n",
      "   CV risk WMH-specific      1       2       3       4       5\n",
      "                      5    0.00    0.01    0.02    0.05    0.11 \n",
      "                      4    0.00    0.02    0.03    0.06    0.09 \n",
      "                      3    0.01    0.01    0.09    0.09    0.00 \n",
      "                      2    0.01    0.13    0.06    0.00    0.00 \n",
      "                      1    0.17    0.03    0.00    0.00    0.00 \n"
     ]
    }
   ],
   "source": [
    "binEdges = np.arange(0.5, 6.5, 1)\n",
    "proportionsInQuintiles = np.histogram2d(cvRiskQuintiles1,cvRiskQuintiles2, bins=[binEdges, binEdges])[0]/popSize\n",
    "\n",
    "print(\" \"*25, \"-\"*53)\n",
    "print(\" \"*25, \"proportion of people in CV risk quintile bins\")\n",
    "print(\" \"*25, \"-\"*53)\n",
    "risks = [\"1\", \"2\", \"3\", \"4\", \"5\"]\n",
    "print(\" \"*25, \"CV risk intercept-only\")\n",
    "print(\" \"*3 + \"CV risk WMH-specific      \" + \"       \".join(risks))\n",
    "for i,row in enumerate(np.flip(proportionsInQuintiles, axis=0)/proportionsInQuintiles.sum()):\n",
    "    printString = f\"{risks[-i-1]:>23} \"\n",
    "    for item in row:\n",
    "        printString += f\"{item:> 7.2f} \" \n",
    "    print(printString) "
   ]
  },
  {
   "cell_type": "code",
   "execution_count": 13,
   "id": "6cbaedb0-1de3-4831-9b14-3f089020c5a8",
   "metadata": {},
   "outputs": [],
   "source": [
    "#set up the appropriate treatment strategies for the two populations\n",
    "ts1 = TreatmentStrategyRepository()\n",
    "ts1._repository[TreatmentStrategiesType.BP.value] = SprintForSbpRiskThreshold(cvRiskCutoff=0.075, wmhSpecific=True)\n",
    "ts1._repository[TreatmentStrategiesType.STATIN.value] = StatinTreatmentStrategy(cvRiskCutoff=0.075, wmhSpecific=True)\n",
    "\n",
    "ts2 = TreatmentStrategyRepository()\n",
    "ts2._repository[TreatmentStrategiesType.BP.value] = SprintForSbpRiskThreshold(cvRiskCutoff=0.075, wmhSpecific=False)\n",
    "ts2._repository[TreatmentStrategiesType.STATIN.value] = StatinTreatmentStrategy(cvRiskCutoff=0.075, wmhSpecific=False)"
   ]
  },
  {
   "cell_type": "code",
   "execution_count": 14,
   "id": "d24e105c-5403-4d10-9129-f942207c36a9",
   "metadata": {},
   "outputs": [
    {
     "name": "stderr",
     "output_type": "stream",
     "text": [
      "/Users/deligkaris.1/Library/Caches/pypoetry/virtualenvs/microsim-54NoInYP-py3.9/lib/python3.9/site-packages/numpy/core/fromnumeric.py:59: FutureWarning: 'Series.swapaxes' is deprecated and will be removed in a future version. Please use 'Series.transpose' instead.\n",
      "  return bound(*args, **kwds)\n",
      "/Users/deligkaris.1/Library/Caches/pypoetry/virtualenvs/microsim-54NoInYP-py3.9/lib/python3.9/site-packages/numpy/core/fromnumeric.py:59: FutureWarning: 'Series.swapaxes' is deprecated and will be removed in a future version. Please use 'Series.transpose' instead.\n",
      "  return bound(*args, **kwds)\n"
     ]
    }
   ],
   "source": [
    "#make the predictions\n",
    "pop1.advance(years=1, treatmentStrategies=ts1, nWorkers=5)\n",
    "pop2.advance(years=1, treatmentStrategies=ts2, nWorkers=5)"
   ]
  },
  {
   "cell_type": "code",
   "execution_count": 15,
   "id": "f32638c2-6792-43bd-918f-1642e747aaf7",
   "metadata": {},
   "outputs": [
    {
     "name": "stdout",
     "output_type": "stream",
     "text": [
      "                     -3  0.0005\n",
      "                     -2  0.0014\n",
      "                     -1  0.0019\n",
      "                      0  0.9490\n",
      "                      1  0.0216\n",
      "                      2  0.0169\n",
      "                      3  0.0087\n"
     ]
    }
   ],
   "source": [
    "#print the proportions for bpMedsAdded differences\n",
    "ts = TreatmentStrategiesType.BP.value\n",
    "tsv = \"bpMedsAdded\"\n",
    "#popAlive = filter(lambda x: x.is_alive, pop1._people)\n",
    "popAlive = pop1._people\n",
    "bpMedsAddedList1 = list(map(lambda x: x._treatmentStrategies[ts][tsv], popAlive))\n",
    "\n",
    "popAlive = pop2._people\n",
    "bpMedsAddedList2 = list(map(lambda x: x._treatmentStrategies[ts][tsv], popAlive))\n",
    "\n",
    "bpMedsAddedDiffList = list(map(lambda x: x[1]-x[0], zip(bpMedsAddedList1, bpMedsAddedList2)))\n",
    "\n",
    "from collections import Counter\n",
    "tsvList = bpMedsAddedDiffList\n",
    "tsvValueCounts = Counter(tsvList)\n",
    "for key in sorted(tsvValueCounts.keys()):\n",
    "    print(f\"{key:>23} {tsvValueCounts[key]/len(tsvList): 6.4f}\")"
   ]
  },
  {
   "cell_type": "code",
   "execution_count": 16,
   "id": "345ab5e1-f161-4168-a0fa-5a9a4ab508b3",
   "metadata": {},
   "outputs": [],
   "source": [
    "#import matplotlib.pyplot as plt\n",
    "#plt.hist(bpMedsAddedDiffList)\n",
    "#plt.show()"
   ]
  },
  {
   "cell_type": "code",
   "execution_count": 17,
   "id": "ef408a12-0cc4-41db-b9da-8833f24352c1",
   "metadata": {},
   "outputs": [
    {
     "name": "stdout",
     "output_type": "stream",
     "text": [
      "                     -1  0.0146\n",
      "                      0  0.9016\n",
      "                      1  0.0838\n"
     ]
    }
   ],
   "source": [
    "#print the proportions for the statinsAdded differences\n",
    "ts = TreatmentStrategiesType.STATIN.value\n",
    "tsv = \"statinsAdded\"\n",
    "\n",
    "popAlive = pop1._people\n",
    "statinsAddedList1 = list(map(lambda x: x._treatmentStrategies[ts][tsv], popAlive))\n",
    "\n",
    "popAlive = pop2._people\n",
    "statinsAddedList2 = list(map(lambda x: x._treatmentStrategies[ts][tsv], popAlive))\n",
    "\n",
    "saDiffList = list(map(lambda x: x[1]-x[0], zip(statinsAddedList1, statinsAddedList2)))\n",
    "\n",
    "from collections import Counter\n",
    "tsvList = saDiffList\n",
    "tsvValueCounts = Counter(tsvList)\n",
    "for key in sorted(tsvValueCounts.keys()):\n",
    "    print(f\"{key:>23} {tsvValueCounts[key]/len(tsvList): 6.4f}\")"
   ]
  },
  {
   "cell_type": "code",
   "execution_count": 18,
   "id": "a24a11d5-f9f2-4561-a30b-cd07dfad32d1",
   "metadata": {},
   "outputs": [],
   "source": [
    "bmaDiffArray = np.zeros([5,5])\n",
    "for i in range(1, 6):\n",
    "    for j in range(1, 6):\n",
    "        listForIAndJ = list(map(lambda y: y[2], filter(lambda x: (x[0]==i) & (x[1]==j), \n",
    "                                                       zip(cvRiskQuintiles2, cvRiskQuintiles1, bpMedsAddedDiffList))))\n",
    "        if len(listForIAndJ)>0:\n",
    "            bmaDiffArray[i-1, j-1] = np.mean(listForIAndJ)"
   ]
  },
  {
   "cell_type": "code",
   "execution_count": 19,
   "id": "27816e4c-2250-4b71-bac4-99e819a9262f",
   "metadata": {},
   "outputs": [
    {
     "data": {
      "text/html": [
       "<div>\n",
       "<style scoped>\n",
       "    .dataframe tbody tr th:only-of-type {\n",
       "        vertical-align: middle;\n",
       "    }\n",
       "\n",
       "    .dataframe tbody tr th {\n",
       "        vertical-align: top;\n",
       "    }\n",
       "\n",
       "    .dataframe thead th {\n",
       "        text-align: right;\n",
       "    }\n",
       "</style>\n",
       "<table border=\"1\" class=\"dataframe\">\n",
       "  <thead>\n",
       "    <tr style=\"text-align: right;\">\n",
       "      <th></th>\n",
       "      <th>0</th>\n",
       "      <th>1</th>\n",
       "      <th>2</th>\n",
       "      <th>3</th>\n",
       "      <th>4</th>\n",
       "    </tr>\n",
       "  </thead>\n",
       "  <tbody>\n",
       "    <tr>\n",
       "      <th>0</th>\n",
       "      <td>0.079513</td>\n",
       "      <td>-0.109623</td>\n",
       "      <td>-0.345837</td>\n",
       "      <td>0.0</td>\n",
       "      <td>-0.317585</td>\n",
       "    </tr>\n",
       "    <tr>\n",
       "      <th>1</th>\n",
       "      <td>0.627890</td>\n",
       "      <td>0.392683</td>\n",
       "      <td>0.000000</td>\n",
       "      <td>0.0</td>\n",
       "      <td>0.000000</td>\n",
       "    </tr>\n",
       "    <tr>\n",
       "      <th>2</th>\n",
       "      <td>0.000000</td>\n",
       "      <td>0.000000</td>\n",
       "      <td>0.000000</td>\n",
       "      <td>0.0</td>\n",
       "      <td>0.000000</td>\n",
       "    </tr>\n",
       "    <tr>\n",
       "      <th>3</th>\n",
       "      <td>0.000000</td>\n",
       "      <td>0.000000</td>\n",
       "      <td>0.000000</td>\n",
       "      <td>0.0</td>\n",
       "      <td>0.000000</td>\n",
       "    </tr>\n",
       "    <tr>\n",
       "      <th>4</th>\n",
       "      <td>0.000000</td>\n",
       "      <td>0.000000</td>\n",
       "      <td>0.000000</td>\n",
       "      <td>0.0</td>\n",
       "      <td>0.000000</td>\n",
       "    </tr>\n",
       "  </tbody>\n",
       "</table>\n",
       "</div>"
      ],
      "text/plain": [
       "          0         1         2    3         4\n",
       "0  0.079513 -0.109623 -0.345837  0.0 -0.317585\n",
       "1  0.627890  0.392683  0.000000  0.0  0.000000\n",
       "2  0.000000  0.000000  0.000000  0.0  0.000000\n",
       "3  0.000000  0.000000  0.000000  0.0  0.000000\n",
       "4  0.000000  0.000000  0.000000  0.0  0.000000"
      ]
     },
     "execution_count": 19,
     "metadata": {},
     "output_type": "execute_result"
    }
   ],
   "source": [
    "#rows are based on risks from the intercept only models\n",
    "#columns are based on risks from the wmh specific models\n",
    "#cells are mean bpMedsAdded for all people in that cell\n",
    "pd.DataFrame(bmaDiffArray)"
   ]
  },
  {
   "cell_type": "code",
   "execution_count": 20,
   "id": "dedcfed3-77ea-4978-b2f4-972c869b00a2",
   "metadata": {},
   "outputs": [],
   "source": [
    "saDiffArray = np.zeros([5,5])\n",
    "for i in range(1, 6):\n",
    "    for j in range(1, 6):\n",
    "        listForIAndJ = list(map(lambda y: y[2], filter(lambda x: (x[0]==i) & (x[1]==j), \n",
    "                                                       zip(cvRiskQuintiles2, cvRiskQuintiles1, saDiffList))))\n",
    "        if len(listForIAndJ)>0:\n",
    "            saDiffArray[i-1, j-1] = np.mean(listForIAndJ)"
   ]
  },
  {
   "cell_type": "code",
   "execution_count": 21,
   "id": "f291a84f-3a70-4206-8f77-5dc46d671a9e",
   "metadata": {},
   "outputs": [
    {
     "data": {
      "text/html": [
       "<div>\n",
       "<style scoped>\n",
       "    .dataframe tbody tr th:only-of-type {\n",
       "        vertical-align: middle;\n",
       "    }\n",
       "\n",
       "    .dataframe tbody tr th {\n",
       "        vertical-align: top;\n",
       "    }\n",
       "\n",
       "    .dataframe thead th {\n",
       "        text-align: right;\n",
       "    }\n",
       "</style>\n",
       "<table border=\"1\" class=\"dataframe\">\n",
       "  <thead>\n",
       "    <tr style=\"text-align: right;\">\n",
       "      <th></th>\n",
       "      <th>0</th>\n",
       "      <th>1</th>\n",
       "      <th>2</th>\n",
       "      <th>3</th>\n",
       "      <th>4</th>\n",
       "    </tr>\n",
       "  </thead>\n",
       "  <tbody>\n",
       "    <tr>\n",
       "      <th>0</th>\n",
       "      <td>0.051623</td>\n",
       "      <td>-0.194142</td>\n",
       "      <td>-0.606587</td>\n",
       "      <td>-0.615385</td>\n",
       "      <td>-0.695538</td>\n",
       "    </tr>\n",
       "    <tr>\n",
       "      <th>1</th>\n",
       "      <td>0.457867</td>\n",
       "      <td>0.394922</td>\n",
       "      <td>-0.035498</td>\n",
       "      <td>-0.068980</td>\n",
       "      <td>-0.100511</td>\n",
       "    </tr>\n",
       "    <tr>\n",
       "      <th>2</th>\n",
       "      <td>0.000000</td>\n",
       "      <td>0.152360</td>\n",
       "      <td>0.026336</td>\n",
       "      <td>0.000000</td>\n",
       "      <td>0.000000</td>\n",
       "    </tr>\n",
       "    <tr>\n",
       "      <th>3</th>\n",
       "      <td>0.000000</td>\n",
       "      <td>0.000000</td>\n",
       "      <td>0.000000</td>\n",
       "      <td>0.000000</td>\n",
       "      <td>0.000000</td>\n",
       "    </tr>\n",
       "    <tr>\n",
       "      <th>4</th>\n",
       "      <td>0.000000</td>\n",
       "      <td>0.000000</td>\n",
       "      <td>0.000000</td>\n",
       "      <td>0.000000</td>\n",
       "      <td>0.000000</td>\n",
       "    </tr>\n",
       "  </tbody>\n",
       "</table>\n",
       "</div>"
      ],
      "text/plain": [
       "          0         1         2         3         4\n",
       "0  0.051623 -0.194142 -0.606587 -0.615385 -0.695538\n",
       "1  0.457867  0.394922 -0.035498 -0.068980 -0.100511\n",
       "2  0.000000  0.152360  0.026336  0.000000  0.000000\n",
       "3  0.000000  0.000000  0.000000  0.000000  0.000000\n",
       "4  0.000000  0.000000  0.000000  0.000000  0.000000"
      ]
     },
     "execution_count": 21,
     "metadata": {},
     "output_type": "execute_result"
    }
   ],
   "source": [
    "#rows are based on risks from the intercept only models\n",
    "#columns are based on risks from the wmh specific models\n",
    "#cells are mean statinsAdded for all people in that cell\n",
    "pd.DataFrame(saDiffArray)"
   ]
  },
  {
   "cell_type": "markdown",
   "id": "dc4cb568-18ad-4ce4-9a05-35491288af97",
   "metadata": {},
   "source": [
    "### Part 4: compare risk distributions\n",
    "\n",
    " - compare the risk on an unrecalibrated ascvd risk model vs. risk on the recalibrated model\n"
   ]
  },
  {
   "cell_type": "code",
   "execution_count": 22,
   "id": "65ba8e73-8b5a-47f4-a21b-a97db21ba6a9",
   "metadata": {},
   "outputs": [],
   "source": [
    "popSize = 200000\n",
    "pop = PopulationFactory.get_kaiser_population(n=popSize)"
   ]
  },
  {
   "cell_type": "code",
   "execution_count": 23,
   "id": "51f662a2-c788-4dca-95b3-dd6b75858173",
   "metadata": {},
   "outputs": [],
   "source": [
    "cvModelRepository = CVModelRepository(wmhSpecific=True)\n",
    "cvWmhSpecificRiskList = list(map(lambda x: cvModelRepository.select_outcome_model_for_person(x).get_risk_for_person(x, years=10), \n",
    "                                 pop._people))\n",
    "\n",
    "cvModelRepository = CVModelRepository(wmhSpecific=False)\n",
    "cvWmhInterceptRiskList = list(map(lambda x: cvModelRepository.select_outcome_model_for_person(x).get_risk_for_person(x, years=10), \n",
    "                                  pop._people))\n",
    "\n",
    "#the only way to get the CV risks without using any WMH information is to remove the modality and WMH outcome from the people\n",
    "for p in pop._people:\n",
    "    p._outcomes[OutcomeType.WMH] = list()\n",
    "    p._modality = Modality.NO.value\n",
    "\n",
    "#I need to set this wmhSpecific flag to something...with the outcomes removed and no modality this should give the risk I need\n",
    "#I verified that it does...using wmhSpecific=False, I get exactly the same risks\n",
    "cvModelRepository = CVModelRepository(wmhSpecific=True) \n",
    "cvWmhNoRiskList = list(map(lambda x: cvModelRepository.select_outcome_model_for_person(x).get_risk_for_person(x, years=10), \n",
    "                           pop._people))\n",
    "\n",
    "binEdges = np.concatenate((np.arange(0., 0.175, 0.025),  np.arange(0.2, 0.6,0.3), np.arange(1,1.1,1))) \n",
    "risks = [ \"0.0-0.025\", \"0.025-0.05\" , \"0.05-0.075\", \"0.075-0.1\"  , \"0.1-0.125\", \"0.125-0.15\" , \"0.15-0.2\" , \" 0.2-0.5\" , \"  0.5-1.\"]"
   ]
  },
  {
   "cell_type": "markdown",
   "id": "f7cfb949-bb21-491e-9e21-f24f50f7fdeb",
   "metadata": {},
   "source": [
    "The scatter plot does not provide much information due to the overlap but at least you can see the pattern: CV risk increases when you consider the brain scan presence (included as the static risk factor modality in the simulation)."
   ]
  },
  {
   "cell_type": "code",
   "execution_count": 24,
   "id": "52c2ebda-ebb5-44e6-a7fc-a13329dc8a7e",
   "metadata": {},
   "outputs": [
    {
     "data": {
      "image/png": "[encoded data removed]",
      "text/plain": [
       "<Figure size 640x480 with 1 Axes>"
      ]
     },
     "metadata": {},
     "output_type": "display_data"
    }
   ],
   "source": [
    "plt.scatter(cvWmhNoRiskList, cvWmhInterceptRiskList, s=0.001)\n",
    "plt.xlabel(\"CV risk\") #CV is essentially the CV risk without taking into account the brain scan at all\n",
    "plt.ylabel(\"CV + wmh intercept risk\")\n",
    "plt.show()"
   ]
  },
  {
   "cell_type": "markdown",
   "id": "165cf6db-b618-49dc-aad7-00b6bb74dbaf",
   "metadata": {},
   "source": [
    "With these bins you can see the changes in the risk of the population."
   ]
  },
  {
   "cell_type": "code",
   "execution_count": 25,
   "id": "ad880662-604f-4615-9c3e-1feeffe2a469",
   "metadata": {},
   "outputs": [
    {
     "name": "stdout",
     "output_type": "stream",
     "text": [
      "                          -----------------------------------------------------\n",
      "                          proportion of people in risk bins\n",
      "                          -----------------------------------------------------\n",
      "                 0.5-1.       0.00       0.00       0.00       0.00       0.00       0.00       0.00       0.08       0.00 \n",
      "                0.2-0.5       0.00       0.00       0.05       0.11       0.08       0.06       0.08       0.02       0.00 \n",
      "               0.15-0.2       0.00       0.01       0.11       0.00       0.00       0.00       0.00       0.00       0.00 \n",
      "             0.125-0.15       0.00       0.07       0.00       0.00       0.00       0.00       0.00       0.00       0.00 \n",
      "              0.1-0.125       0.00       0.07       0.00       0.00       0.00       0.00       0.00       0.00       0.00 \n",
      "              0.075-0.1       0.02       0.05       0.00       0.00       0.00       0.00       0.00       0.00       0.00 \n",
      "             0.05-0.075       0.08       0.00       0.00       0.00       0.00       0.00       0.00       0.00       0.00 \n",
      "             0.025-0.05       0.07       0.00       0.00       0.00       0.00       0.00       0.00       0.00       0.00 \n",
      "              0.0-0.025       0.02       0.00       0.00       0.00       0.00       0.00       0.00       0.00       0.00 \n",
      "  CV+wmh intercept risk   0.0-0.025  0.025-0.05  0.05-0.075  0.075-0.1  0.1-0.125  0.125-0.15  0.15-0.2   0.2-0.5    0.5-1.\n",
      "                          CV risk\n"
     ]
    }
   ],
   "source": [
    "personCounts, xEdgesActual, yEdgesActual = np.histogram2d(cvWmhInterceptRiskList, cvWmhNoRiskList, bins=[binEdges,binEdges])\n",
    "pc = personCounts\n",
    "    \n",
    "print(\" \"*25, \"-\"*53)\n",
    "print(\" \"*25, \"proportion of people in risk bins\")\n",
    "print(\" \"*25, \"-\"*53)\n",
    "for i,row in enumerate(np.flip(pc, axis=0)/pc.sum()):\n",
    "    printString = f\"{risks[-i-1]:>23} \"\n",
    "    for item in row:\n",
    "        printString += f\"{item:> 10.2f} \" \n",
    "    print(printString) \n",
    "print(\" \"*1, \"CV+wmh intercept risk   \" + \"  \".join(risks))\n",
    "print(\" \"*25, \"CV risk\")"
   ]
  },
  {
   "cell_type": "markdown",
   "id": "f4e8ecfa-5155-4f7e-ac13-a12b3177efcf",
   "metadata": {},
   "source": [
    "The risks separate in the lines below because there are a finite number of categories to assign the risk modification due to WMH. The lines are only on one side of the diagonal because the risk only increases when you consider the presence of WMH."
   ]
  },
  {
   "cell_type": "code",
   "execution_count": 26,
   "id": "8d517dc7-816c-49a7-a7ba-48de0ff01e65",
   "metadata": {},
   "outputs": [
    {
     "data": {
      "image/png": "[encoded data removed]",
      "text/plain": [
       "<Figure size 640x480 with 1 Axes>"
      ]
     },
     "metadata": {},
     "output_type": "display_data"
    }
   ],
   "source": [
    "plt.scatter(cvWmhNoRiskList, cvWmhSpecificRiskList, s=0.001)\n",
    "plt.xlabel(\"CV risk\")\n",
    "plt.ylabel(\"CV + wmh specific risk\")\n",
    "plt.show()"
   ]
  },
  {
   "cell_type": "markdown",
   "id": "41bf1969-c411-4cec-b039-f69b20ad386e",
   "metadata": {},
   "source": [
    "When you take into account all WMH-related information the risk changes seem to be more spread out."
   ]
  },
  {
   "cell_type": "code",
   "execution_count": 27,
   "id": "582eede2-e3b3-42d6-8dba-6d1cff80365e",
   "metadata": {},
   "outputs": [
    {
     "name": "stdout",
     "output_type": "stream",
     "text": [
      "                          -----------------------------------------------------\n",
      "                          proportion of people in risk bins\n",
      "                          -----------------------------------------------------\n",
      "                 0.5-1.       0.00       0.01       0.01       0.01       0.02       0.02       0.03       0.06       0.00 \n",
      "                0.2-0.5       0.00       0.03       0.03       0.03       0.03       0.04       0.05       0.04       0.00 \n",
      "               0.15-0.2       0.01       0.00       0.01       0.04       0.04       0.00       0.00       0.00       0.00 \n",
      "             0.125-0.15       0.00       0.01       0.02       0.03       0.00       0.00       0.00       0.00       0.00 \n",
      "              0.1-0.125       0.00       0.01       0.06       0.00       0.00       0.00       0.00       0.00       0.00 \n",
      "              0.075-0.1       0.00       0.05       0.03       0.00       0.00       0.00       0.00       0.00       0.00 \n",
      "             0.05-0.075       0.01       0.09       0.00       0.00       0.00       0.00       0.00       0.00       0.00 \n",
      "             0.025-0.05       0.10       0.01       0.00       0.00       0.00       0.00       0.00       0.00       0.00 \n",
      "              0.0-0.025       0.07       0.00       0.00       0.00       0.00       0.00       0.00       0.00       0.00 \n",
      "   CV+wmh specific risk   0.0-0.025  0.025-0.05  0.05-0.075  0.075-0.1  0.1-0.125  0.125-0.15  0.15-0.2   0.2-0.5    0.5-1.\n",
      "                          CV risk\n"
     ]
    }
   ],
   "source": [
    "personCounts, xEdgesActual, yEdgesActual = np.histogram2d(cvWmhSpecificRiskList, cvWmhNoRiskList, bins=[binEdges,binEdges])\n",
    "pc = personCounts\n",
    "    \n",
    "print(\" \"*25, \"-\"*53)\n",
    "print(\" \"*25, \"proportion of people in risk bins\")\n",
    "print(\" \"*25, \"-\"*53)\n",
    "for i,row in enumerate(np.flip(pc, axis=0)/pc.sum()):\n",
    "    printString = f\"{risks[-i-1]:>23} \"\n",
    "    for item in row:\n",
    "        printString += f\"{item:> 10.2f} \" \n",
    "    print(printString) \n",
    "print(\" \"*2, \"CV+wmh specific risk   \" + \"  \".join(risks))\n",
    "print(\" \"*25, \"CV risk\")"
   ]
  },
  {
   "cell_type": "markdown",
   "id": "df3c3e16-3f26-4784-ab6e-004905fd092d",
   "metadata": {},
   "source": [
    "In contrast, when you compare risks by just adjusting the intercept versus using all WMH-related information some risks increase but some decrease."
   ]
  },
  {
   "cell_type": "code",
   "execution_count": 28,
   "id": "9603cd09-2902-429c-b35f-0443fe838049",
   "metadata": {},
   "outputs": [
    {
     "data": {
      "image/png": "[encoded data removed]",
      "text/plain": [
       "<Figure size 640x480 with 1 Axes>"
      ]
     },
     "metadata": {},
     "output_type": "display_data"
    }
   ],
   "source": [
    "plt.scatter(cvWmhInterceptRiskList, cvWmhSpecificRiskList, s=0.001)\n",
    "plt.ylabel(\"CV + wmh specific risk\")\n",
    "plt.xlabel(\"CV + wmh intercept risk\")\n",
    "plt.show()"
   ]
  },
  {
   "cell_type": "code",
   "execution_count": 29,
   "id": "370b5660-6651-4acf-a619-038caa6d6de6",
   "metadata": {},
   "outputs": [
    {
     "name": "stdout",
     "output_type": "stream",
     "text": [
      "                          -----------------------------------------------------\n",
      "                          proportion of people in risk bins\n",
      "                          -----------------------------------------------------\n",
      "                 0.5-1.       0.00       0.00       0.00       0.00       0.00       0.00       0.00       0.09       0.05 \n",
      "                0.2-0.5       0.00       0.00       0.00       0.01       0.01       0.01       0.02       0.18       0.03 \n",
      "               0.15-0.2       0.00       0.00       0.00       0.00       0.00       0.00       0.01       0.08       0.00 \n",
      "             0.125-0.15       0.00       0.00       0.00       0.00       0.00       0.01       0.00       0.05       0.00 \n",
      "              0.1-0.125       0.00       0.00       0.00       0.00       0.01       0.00       0.05       0.01       0.00 \n",
      "              0.075-0.1       0.00       0.00       0.00       0.01       0.00       0.04       0.04       0.00       0.00 \n",
      "             0.05-0.075       0.00       0.00       0.01       0.03       0.05       0.01       0.00       0.00       0.00 \n",
      "             0.025-0.05       0.00       0.02       0.06       0.03       0.00       0.00       0.00       0.00       0.00 \n",
      "              0.0-0.025       0.02       0.05       0.00       0.00       0.00       0.00       0.00       0.00       0.00 \n",
      "   CV+wmh specific risk   0.0-0.025  0.025-0.05  0.05-0.075  0.075-0.1  0.1-0.125  0.125-0.15  0.15-0.2   0.2-0.5    0.5-1.\n",
      "                          CV+wmh intercept risk\n"
     ]
    }
   ],
   "source": [
    "personCounts, xEdgesActual, yEdgesActual = np.histogram2d(cvWmhSpecificRiskList, cvWmhInterceptRiskList, bins=[binEdges,binEdges])\n",
    "pc = personCounts\n",
    "    \n",
    "print(\" \"*25, \"-\"*53)\n",
    "print(\" \"*25, \"proportion of people in risk bins\")\n",
    "print(\" \"*25, \"-\"*53)\n",
    "for i,row in enumerate(np.flip(pc, axis=0)/pc.sum()):\n",
    "    printString = f\"{risks[-i-1]:>23} \"\n",
    "    for item in row:\n",
    "        printString += f\"{item:> 10.2f} \" \n",
    "    print(printString) \n",
    "print(\" \"*2, \"CV+wmh specific risk   \" + \"  \".join(risks))\n",
    "print(\" \"*25, \"CV+wmh intercept risk\")"
   ]
  },
  {
   "cell_type": "code",
   "execution_count": null,
   "id": "5051ae6b-ff04-41ac-b5db-e6dcf573b796",
   "metadata": {},
   "outputs": [],
   "source": []
  }
 ],
 "metadata": {
  "kernelspec": {
   "display_name": "microsimKernel",
   "language": "python",
   "name": "microsimkernel"
  },
  "language_info": {
   "codemirror_mode": {
    "name": "ipython",
    "version": 3
   },
   "file_extension": ".py",
   "mimetype": "text/x-python",
   "name": "python",
   "nbconvert_exporter": "python",
   "pygments_lexer": "ipython3",
   "version": "3.9.13"
  }
 },
 "nbformat": 4,
 "nbformat_minor": 5
}
