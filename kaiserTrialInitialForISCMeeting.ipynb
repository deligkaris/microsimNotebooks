{
 "cells": [
  {
   "cell_type": "markdown",
   "id": "11f6d57a-b7b6-4dbe-a67c-6da6ea22c03b",
   "metadata": {},
   "source": [
    "The goal of this notebook is to perform some preliminary simulations with the Kaiser WMH population. These results will be used for an ISC meeting presentation."
   ]
  },
  {
   "cell_type": "code",
   "execution_count": 1,
   "id": "f12a45d7-76ca-40d9-ab87-a8cfe24481d7",
   "metadata": {},
   "outputs": [],
   "source": [
    "import os\n",
    "microsimDir = \"/Users/deligkaris.1/OneDrive - The Ohio State University Wexner Medical Center/MICROSIM/CODE/microsim\"\n",
    "os.chdir(microsimDir)\n",
    "\n",
    "import pandas as pd\n",
    "\n",
    "from microsim.person_filter import PersonFilter\n",
    "from microsim.trials.trial_description import KaiserTrialDescription\n",
    "from microsim.trials.trial_type import TrialType\n",
    "from microsim.trials.trial import Trial\n",
    "from microsim.trials.trial_outcome_assessor_factory import TrialOutcomeAssessorFactory\n",
    "from microsim.treatment import TreatmentStrategiesType, DefaultTreatmentsType\n",
    "from microsim.treatment_strategy_repository import TreatmentStrategyRepository\n",
    "from microsim.bp_treatment_strategies import SprintForSbpRiskThreshold\n",
    "from microsim.statin_treatment_strategies import StatinTreatmentStrategy"
   ]
  },
  {
   "cell_type": "code",
   "execution_count": 2,
   "id": "67da9efc-2124-4399-97c1-3c2391fd1019",
   "metadata": {},
   "outputs": [],
   "source": [
    "pd.set_option('future.no_silent_downcasting', True) #make the calculation here future-proof"
   ]
  },
  {
   "cell_type": "markdown",
   "id": "eee517fe-ba27-4a50-82b9-ce3143f384bb",
   "metadata": {},
   "source": [
    "### Part 1: determine the overall risk in the kaiser CCM population, without specifically attending to CCM as a risk factor\n",
    "\n",
    "  - initialize a kaiser population\n",
    "  - use the intercept only risk model that does not include CCM covariates\n",
    "  - run a 4 year trial with \"intensive treatment” define as:  statin guidelines (use statin for all with risk > 7.5%) + risk-based SPRINT      guideline (implement SPRINT for all individuals over 7.5% who meet SPRINT bp criteria)\n",
    "  - compare treatment in usual care vs. intensive treatment by baseline risk quintiles. (for each quintile define the range of risks, and       then look at bp meds added and statins added)\n",
    "  - compare all outcomes — cognitive, dementia, cardiovascular, quality of life in treated vs. usual care."
   ]
  },
  {
   "cell_type": "code",
   "execution_count": 3,
   "id": "d4f326aa-f468-44ef-8eaf-772cab24ed0b",
   "metadata": {},
   "outputs": [
    {
     "name": "stdout",
     "output_type": "stream",
     "text": [
      "                          Printing covariate information for people still alive...\n",
      "                          self=treated, alive people count=  300000               other=control, alive people count=  300000  \n",
      "                          self=treated, unique alive people count=  143260        other=control, unique alive people count=  143262  \n",
      "                          self                                                    other\n",
      "                          -----------------------------------------------------   -----------------------------------------------------\n",
      "                          min      0.25    med     0.75     max    mean     sd     min     0.25    med     0.75     max    mean     sd\n",
      "                          -----------------------------------------------------   -----------------------------------------------------\n",
      "                    age    45.0    57.0    63.0    70.0   112.0    63.9     9.3    45.0    57.0    63.0    70.0   109.0    63.9     9.3\n",
      "                    sbp    75.6   121.0   130.0   139.0   200.9   130.1    13.5    64.1   120.9   129.9   139.0   200.9   130.0    13.5\n",
      "                    dbp    38.1    67.9    73.9    79.8   128.1    73.9     8.9    38.1    67.9    73.9    79.9   128.1    73.9     8.9\n",
      "                    a1c     3.2     5.4     5.9     6.5    14.3     6.0     1.0     3.3     5.4     5.9     6.5    13.9     6.0     1.0\n",
      "                    hdl     5.4    43.7    53.8    64.7   131.4    54.5    15.6     5.4    43.7    53.9    64.8   131.4    54.5    15.7\n",
      "                    ldl     9.2    96.8   118.2   139.5   409.4   118.3    31.7     8.1    96.8   118.1   139.6   409.4   118.3    31.8\n",
      "                   trig     9.0    92.6   139.1   193.0  3185.0   150.1    84.9     9.0    92.2   138.8   192.3  3390.6   149.6    84.9\n",
      "                totChol    53.1   174.0   199.4   224.7   545.2   199.5    37.8    53.1   173.9   199.5   224.8   545.2   199.4    37.9\n",
      "                    bmi    13.5    24.5    28.1    31.8    63.3    28.3     5.6    13.5    24.5    28.1    31.8    59.1    28.4     5.7\n",
      "             creatinine     0.1     0.7     0.9     1.2    19.6     1.0     0.6     0.1     0.7     0.9     1.2    15.2     1.0     0.6\n",
      "                  waist    44.4    89.8    99.5   109.0   170.6    99.4    14.4    44.4    89.7    99.5   109.1   169.0    99.4    14.4\n",
      "  antiHypertensiveCount     0.0     0.3     0.7     1.1     5.6     0.8     0.6     0.0     0.3     0.7     1.1     5.7     0.8     0.6\n",
      "                          self   other\n",
      "                          proportions\n",
      "                          -----------\n",
      "    anyPhysicalActivity\n",
      "                      0   0.16   0.16\n",
      "                      1   0.84   0.84\n",
      "                   afib\n",
      "                      0   0.96   0.96\n",
      "                      1   0.04   0.04\n",
      "         alcoholPerWeek\n",
      "                      0   0.26   0.26\n",
      "                      2   0.36   0.36\n",
      "                      3   0.38   0.37\n",
      "                    pvd\n",
      "                      0   0.97   0.98\n",
      "                      1   0.03   0.02\n",
      "               modality\n",
      "                     ct   0.74   0.74\n",
      "                     mr   0.26   0.26\n",
      "          raceEthnicity\n",
      "                      2   0.33   0.33\n",
      "                      3   0.43   0.43\n",
      "                      4   0.11   0.11\n",
      "                      5   0.03   0.03\n",
      "                      6   0.10   0.10\n",
      "              education\n",
      "                      1   0.06   0.07\n",
      "                      2   0.13   0.13\n",
      "                      3   0.26   0.26\n",
      "                      4   0.32   0.32\n",
      "                      5   0.22   0.22\n",
      "                 gender\n",
      "                      1   0.36   0.36\n",
      "                      2   0.64   0.64\n",
      "          smokingStatus\n",
      "                      0   0.59   0.59\n",
      "                      1   0.41   0.41\n",
      "                 statin\n",
      "                      0   1.00   1.00\n"
     ]
    }
   ],
   "source": [
    "pf = PersonFilter() \n",
    "#pf.add_filter(\"person\", \n",
    "#              \"lowCvLimit\", \n",
    "#              lambda x: (CVModelRepository().select_outcome_model_for_person(x).get_risk_for_person(x, years=10)<0.075))\n",
    "pf.add_filter(\"df\",\n",
    "              \"noStatin\",\n",
    "              lambda x: x[DefaultTreatmentsType.STATIN.value]==0)\n",
    "\n",
    "ts = TreatmentStrategyRepository()\n",
    "ts._repository[TreatmentStrategiesType.BP.value] = SprintForSbpRiskThreshold(wmhSpecific=False)\n",
    "ts._repository[TreatmentStrategiesType.STATIN.value] = StatinTreatmentStrategy(cvRiskCutoff=0.075)\n",
    "\n",
    "sampleSize = 300000\n",
    "duration = 4\n",
    "td = KaiserTrialDescription(trialType = TrialType.COMPLETELY_RANDOMIZED,\n",
    "                            blockFactors=list(),\n",
    "                            sampleSize = sampleSize, \n",
    "                            duration = duration, \n",
    "                            treatmentStrategies = ts,\n",
    "                            nWorkers = 5, \n",
    "                            personFilters=pf,\n",
    "                            wmhSpecific=False) \n",
    "\n",
    "tr = Trial(td)\n",
    "\n",
    "tr.print_covariate_distributions()"
   ]
  },
  {
   "cell_type": "code",
   "execution_count": 4,
   "id": "d1e562ae-cea9-40e9-8904-d038e05f2d9b",
   "metadata": {},
   "outputs": [
    {
     "name": "stderr",
     "output_type": "stream",
     "text": [
      "/Users/deligkaris.1/Library/Caches/pypoetry/virtualenvs/microsim-54NoInYP-py3.9/lib/python3.9/site-packages/numpy/core/fromnumeric.py:59: FutureWarning: 'Series.swapaxes' is deprecated and will be removed in a future version. Please use 'Series.transpose' instead.\n",
      "  return bound(*args, **kwds)\n"
     ]
    },
    {
     "name": "stdout",
     "output_type": "stream",
     "text": [
      "Trial is completed.\n",
      "CPU times: user 5min 11s, sys: 8min 26s, total: 13min 38s\n",
      "Wall time: 25min 34s\n"
     ]
    },
    {
     "data": {
      "text/plain": [
       "Trial Description\n",
       "\tTrial type: 1\n",
       "\tBlock factors: []\n",
       "\tSample size: 300000\n",
       "\tDuration: 4\n",
       "\tTreatment strategies: ['bp', 'statin']\n",
       "\tNumber of workers: 5\n",
       "\tPerson filters: \n",
       "\t Person Filters:\n",
       "\t    filter type   filter name    \n",
       "\t             df   noStatin       \n",
       "\n",
       "\tPopulation type: PopulationType.KAISER\n",
       "Trial\n",
       "\tTrial completed: True\n",
       "Trial results:\n",
       "\tAnalysis: linear\n",
       "\t                                         Z      Intercept           Z SE         pValue\n",
       "\t                    qalys:            0.02           3.70           0.00           0.00\n",
       "\t                  meanGCP:            0.14          52.74           0.02           0.00\n",
       "\t                  lastGCP:            0.16          51.14           0.02           0.00\n",
       "\tAnalysis: logistic\n",
       "\t                                         Z      Intercept           Z SE         pValue\n",
       "\t                    death:           -0.08          -2.42           0.01           0.00\n",
       "\t                 anyEvent:           -0.04           0.80           0.01           0.00\n",
       "\t     vascularEventOrDeath:           -0.21          -1.87           0.01           0.00\n",
       "\t            vascularEvent:           -0.41          -2.58           0.01           0.00\n",
       "\t                 cogEvent:           -0.00           0.52           0.01           0.80\n",
       "\tAnalysis: cox\n",
       "\t                                         Z      Intercept           Z SE         pValue\n",
       "\t                 deathCox:           -0.08                          0.01           0.00\n",
       "\t              cogEventCox:           -0.00                          0.00           0.26\n",
       "\t  vascularEventOrDeathCox:           -0.20                          0.01           0.00\n",
       "\tAnalysis: relativeRisk\n",
       "\t                                   relRisk    treatedRisk    controlRisk    |diff|*1000\n",
       "\t                 strokeRR:            0.64           0.02           0.04          12.67\n",
       "\t                     miRR:            0.71           0.03           0.04          10.68\n",
       "\t                     cvRR:            0.68           0.05           0.07          22.40\n",
       "\t               dementiaRR:            1.00           0.03           0.03           0.13\n",
       "\t                     ciRR:            1.00           0.61           0.61           0.12\n",
       "\t           dementiaOrCiRR:            1.00           0.63           0.63           0.32\n",
       "\t                  deathRR:            0.93           0.08           0.08           5.71"
      ]
     },
     "execution_count": 4,
     "metadata": {},
     "output_type": "execute_result"
    }
   ],
   "source": [
    "%%time\n",
    "tr.run()\n",
    "\n",
    "toa = TrialOutcomeAssessorFactory.get_trial_outcome_assessor()\n",
    "tr.analyze(toa)\n",
    "\n",
    "tr"
   ]
  },
  {
   "cell_type": "code",
   "execution_count": 5,
   "id": "82bf5c60-ed14-43ff-bb6b-6da4c815fd1f",
   "metadata": {},
   "outputs": [
    {
     "name": "stdout",
     "output_type": "stream",
     "text": [
      "                          Printing treatment strategy variable information at the end of the trial...\n",
      "                          self=treated, alive people count=  277276  \n",
      "                          self=treated & alive, unique people count=  138456  \n",
      "                          self\n",
      "                          -----------------------------------------------------\n",
      "                          proportions\n",
      "                          -----------\n",
      "            bpMedsAdded\n",
      "                      0   0.57\n",
      "                      1   0.14\n",
      "                      2   0.14\n",
      "                      3   0.12\n",
      "                      4   0.04\n",
      "           statinsAdded\n",
      "                      0   0.40\n",
      "                      1   0.60\n",
      "                          -----------------------------------------------------\n",
      "                          proportions in each quintile\n",
      "                          -----------------------------------------------------\n",
      "                          bpMedsAdded\n",
      "       CV risk quintile      0       1       2       3       4      >4 \n",
      "                      1    0.87    0.01    0.05    0.06    0.00    0.00 \n",
      "                      2    0.54    0.14    0.15    0.12    0.05    0.00 \n",
      "                      3    0.49    0.17    0.16    0.13    0.04    0.00 \n",
      "                      4    0.48    0.17    0.17    0.14    0.04    0.00 \n",
      "                      5    0.46    0.19    0.18    0.13    0.04    0.00 \n",
      "                          statinsAdded\n",
      "                             0       1       2 \n",
      "                      1    0.84    0.16    0.00 \n",
      "                      2    0.69    0.31    0.00 \n",
      "                      3    0.39    0.61    0.00 \n",
      "                      4    0.06    0.94    0.00 \n",
      "                      5    0.00    1.00    0.00 \n"
     ]
    }
   ],
   "source": [
    "tr.print_treatment_strategy_variables_information()"
   ]
  },
  {
   "cell_type": "markdown",
   "id": "0a40c1ee-a91c-4815-80d6-00fd8f18992b",
   "metadata": {},
   "source": [
    "### Part 3: determine the overall risk in the kaiser CCM population, with attending to CCM as a risk factor\n",
    "\n",
    " - initialize a kaiser population\n",
    " - use the CCM risk model that does  include CCM covariates\n",
    " - run a 4 year trial with \"intensive treatment” define as:  statin guidelines (use statin for all with risk > 7.5%) + risk-based SPRINT      guideline (implement SPRINT for all individuals over 7.5% who meet SPRINT bp criteria)\n",
    " - compare treatment in usual care vs. intensive treatment by baseline risk quintiles. (for each quintile define the range of risks, and      then look at bp meds added and statins added)\n",
    " - compare all outcomes — cognitive, dementia, cardiovascular, quality of life in intensive vs. usual care."
   ]
  },
  {
   "cell_type": "code",
   "execution_count": 6,
   "id": "0672fff0-993a-464c-b740-e334a480fb27",
   "metadata": {},
   "outputs": [
    {
     "name": "stdout",
     "output_type": "stream",
     "text": [
      "                          Printing covariate information for people still alive...\n",
      "                          self=treated, alive people count=  300000               other=control, alive people count=  300000  \n",
      "                          self=treated, unique alive people count=  143601        other=control, unique alive people count=  143430  \n",
      "                          self                                                    other\n",
      "                          -----------------------------------------------------   -----------------------------------------------------\n",
      "                          min      0.25    med     0.75     max    mean     sd     min     0.25    med     0.75     max    mean     sd\n",
      "                          -----------------------------------------------------   -----------------------------------------------------\n",
      "                    age    45.0    57.0    63.0    70.0   112.0    63.9     9.3    45.0    57.0    63.0    70.0   114.0    63.9     9.3\n",
      "                    sbp    72.8   120.9   129.9   139.0   205.9   130.1    13.5    72.8   120.8   129.8   138.9   205.9   129.9    13.6\n",
      "                    dbp    37.8    67.9    73.9    79.8   125.6    73.9     8.9    36.0    67.9    73.8    79.8   125.6    73.9     8.9\n",
      "                    a1c     3.3     5.4     5.9     6.5    14.0     6.0     1.0     3.3     5.4     5.9     6.5    14.0     6.0     1.0\n",
      "                    hdl     5.4    43.6    53.9    64.7   127.5    54.5    15.7     5.4    43.6    53.9    64.8   127.5    54.5    15.7\n",
      "                    ldl     8.1    96.9   118.3   139.7   595.7   118.3    31.7     8.1    96.9   118.4   139.8   595.7   118.4    31.7\n",
      "                   trig     9.0    92.5   138.9   192.7  2821.6   149.6    83.8     9.0    92.3   138.8   192.3  2530.7   149.4    83.4\n",
      "                totChol    53.1   174.0   199.5   224.9   606.0   199.5    37.7    54.6   174.0   199.6   225.1   536.1   199.6    37.7\n",
      "                    bmi    13.5    24.5    28.0    31.8    62.1    28.3     5.7    13.5    24.5    28.0    31.8    62.1    28.3     5.6\n",
      "             creatinine     0.1     0.7     0.9     1.2    16.9     1.0     0.6     0.1     0.7     0.9     1.2    15.0     1.0     0.6\n",
      "                  waist    40.2    89.7    99.4   109.0   166.2    99.4    14.4    39.5    89.6    99.4   109.0   166.5    99.3    14.4\n",
      "  antiHypertensiveCount     0.0     0.3     0.7     1.1     5.8     0.8     0.6     0.0     0.3     0.7     1.1     5.2     0.8     0.6\n",
      "                          self   other\n",
      "                          proportions\n",
      "                          -----------\n",
      "    anyPhysicalActivity\n",
      "                      0   0.16   0.16\n",
      "                      1   0.84   0.84\n",
      "                   afib\n",
      "                      0   0.96   0.96\n",
      "                      1   0.04   0.04\n",
      "         alcoholPerWeek\n",
      "                      0   0.26   0.26\n",
      "                      2   0.36   0.36\n",
      "                      3   0.37   0.38\n",
      "                    pvd\n",
      "                      0   0.98   0.97\n",
      "                      1   0.02   0.03\n",
      "               modality\n",
      "                     ct   0.74   0.74\n",
      "                     mr   0.26   0.26\n",
      "          raceEthnicity\n",
      "                      2   0.33   0.33\n",
      "                      3   0.43   0.43\n",
      "                      4   0.11   0.11\n",
      "                      5   0.03   0.03\n",
      "                      6   0.10   0.10\n",
      "              education\n",
      "                      1   0.07   0.06\n",
      "                      2   0.13   0.13\n",
      "                      3   0.26   0.26\n",
      "                      4   0.32   0.32\n",
      "                      5   0.22   0.22\n",
      "                 gender\n",
      "                      1   0.36   0.36\n",
      "                      2   0.64   0.64\n",
      "          smokingStatus\n",
      "                      0   0.59   0.59\n",
      "                      1   0.41   0.41\n",
      "                 statin\n",
      "                      0   1.00   1.00\n"
     ]
    }
   ],
   "source": [
    "pf = PersonFilter() \n",
    "#pf.add_filter(\"person\", \n",
    "#              \"lowCvLimit\", \n",
    "#              lambda x: (CVModelRepository().select_outcome_model_for_person(x).get_risk_for_person(x, years=10)<0.075))\n",
    "pf.add_filter(\"df\",\n",
    "              \"noStatin\",\n",
    "              lambda x: x[DefaultTreatmentsType.STATIN.value]==0)\n",
    "\n",
    "ts = TreatmentStrategyRepository()\n",
    "ts._repository[TreatmentStrategiesType.BP.value] = SprintForSbpRiskThreshold(wmhSpecific=True)\n",
    "ts._repository[TreatmentStrategiesType.STATIN.value] = StatinTreatmentStrategy(cvRiskCutoff=0.075)\n",
    "\n",
    "sampleSize = 300000\n",
    "duration = 4\n",
    "td = KaiserTrialDescription(trialType = TrialType.COMPLETELY_RANDOMIZED,\n",
    "                            blockFactors=list(),\n",
    "                            sampleSize = sampleSize, \n",
    "                            duration = duration, \n",
    "                            treatmentStrategies = ts,\n",
    "                            nWorkers = 5, \n",
    "                            personFilters=pf,\n",
    "                            wmhSpecific=True) \n",
    "\n",
    "tr = Trial(td)\n",
    "\n",
    "tr.print_covariate_distributions()"
   ]
  },
  {
   "cell_type": "code",
   "execution_count": 7,
   "id": "fae51c28-1532-46e0-a166-454dbc85332f",
   "metadata": {},
   "outputs": [
    {
     "name": "stderr",
     "output_type": "stream",
     "text": [
      "/Users/deligkaris.1/Library/Caches/pypoetry/virtualenvs/microsim-54NoInYP-py3.9/lib/python3.9/site-packages/numpy/core/fromnumeric.py:59: FutureWarning: 'Series.swapaxes' is deprecated and will be removed in a future version. Please use 'Series.transpose' instead.\n",
      "  return bound(*args, **kwds)\n"
     ]
    },
    {
     "name": "stdout",
     "output_type": "stream",
     "text": [
      "Trial is completed.\n",
      "CPU times: user 6min 22s, sys: 23min 50s, total: 30min 13s\n",
      "Wall time: 1h 19s\n"
     ]
    },
    {
     "data": {
      "text/plain": [
       "Trial Description\n",
       "\tTrial type: 1\n",
       "\tBlock factors: []\n",
       "\tSample size: 300000\n",
       "\tDuration: 4\n",
       "\tTreatment strategies: ['bp', 'statin']\n",
       "\tNumber of workers: 5\n",
       "\tPerson filters: \n",
       "\t Person Filters:\n",
       "\t    filter type   filter name    \n",
       "\t             df   noStatin       \n",
       "\n",
       "\tPopulation type: PopulationType.KAISER\n",
       "Trial\n",
       "\tTrial completed: True\n",
       "Trial results:\n",
       "\tAnalysis: linear\n",
       "\t                                         Z      Intercept           Z SE         pValue\n",
       "\t                    qalys:            0.02           3.70           0.00           0.00\n",
       "\t                  meanGCP:            0.12          52.76           0.02           0.00\n",
       "\t                  lastGCP:            0.12          51.16           0.02           0.00\n",
       "\tAnalysis: logistic\n",
       "\t                                         Z      Intercept           Z SE         pValue\n",
       "\t                    death:           -0.10          -2.40           0.01           0.00\n",
       "\t                 anyEvent:           -0.04           0.80           0.01           0.00\n",
       "\t     vascularEventOrDeath:           -0.22          -1.85           0.01           0.00\n",
       "\t            vascularEvent:           -0.41          -2.56           0.01           0.00\n",
       "\t                 cogEvent:            0.00           0.51           0.01           0.93\n",
       "\tAnalysis: cox\n",
       "\t                                         Z      Intercept           Z SE         pValue\n",
       "\t                 deathCox:           -0.09                          0.01           0.00\n",
       "\t              cogEventCox:           -0.00                          0.00           0.19\n",
       "\t  vascularEventOrDeathCox:           -0.21                          0.01           0.00\n",
       "\tAnalysis: relativeRisk\n",
       "\t                                   relRisk    treatedRisk    controlRisk    |diff|*1000\n",
       "\t                 strokeRR:            0.65           0.02           0.04          12.92\n",
       "\t                     miRR:            0.70           0.03           0.04          10.94\n",
       "\t                     cvRR:            0.68           0.05           0.07          22.98\n",
       "\t               dementiaRR:            1.01           0.03           0.03           0.25\n",
       "\t                     ciRR:            1.00           0.61           0.61           0.15\n",
       "\t           dementiaOrCiRR:            1.00           0.63           0.63           0.11\n",
       "\t                  deathRR:            0.91           0.08           0.08           7.12"
      ]
     },
     "execution_count": 7,
     "metadata": {},
     "output_type": "execute_result"
    }
   ],
   "source": [
    "%%time\n",
    "tr.run()\n",
    "\n",
    "toa = TrialOutcomeAssessorFactory.get_trial_outcome_assessor()\n",
    "tr.analyze(toa)\n",
    "\n",
    "tr"
   ]
  },
  {
   "cell_type": "code",
   "execution_count": 8,
   "id": "8e1e9d5c-0cc8-4ae6-9b15-30ba9931dd90",
   "metadata": {},
   "outputs": [
    {
     "name": "stdout",
     "output_type": "stream",
     "text": [
      "                          Printing treatment strategy variable information at the end of the trial...\n",
      "                          self=treated, alive people count=  277297  \n",
      "                          self=treated & alive, unique people count=  138812  \n",
      "                          self\n",
      "                          -----------------------------------------------------\n",
      "                          proportions\n",
      "                          -----------\n",
      "            bpMedsAdded\n",
      "                      0   0.63\n",
      "                      1   0.12\n",
      "                      2   0.13\n",
      "                      3   0.11\n",
      "                      4   0.03\n",
      "           statinsAdded\n",
      "                      0   0.40\n",
      "                      1   0.60\n",
      "                          -----------------------------------------------------\n",
      "                          proportions in each quintile\n",
      "                          -----------------------------------------------------\n",
      "                          bpMedsAdded\n",
      "       CV risk quintile      0       1       2       3       4      >4 \n",
      "                      1    0.98    0.00    0.00    0.02    0.00    0.00 \n",
      "                      2    0.71    0.07    0.11    0.11    0.01    0.00 \n",
      "                      3    0.53    0.16    0.16    0.13    0.03    0.00 \n",
      "                      4    0.48    0.17    0.17    0.13    0.04    0.00 \n",
      "                      5    0.44    0.18    0.19    0.14    0.05    0.00 \n",
      "                          statinsAdded\n",
      "                             0       1       2 \n",
      "                      1    0.99    0.01    0.00 \n",
      "                      2    0.67    0.33    0.00 \n",
      "                      3    0.33    0.67    0.00 \n",
      "                      4    0.00    1.00    0.00 \n",
      "                      5    0.00    1.00    0.00 \n"
     ]
    }
   ],
   "source": [
    "tr.print_treatment_strategy_variables_information()"
   ]
  },
  {
   "cell_type": "markdown",
   "id": "5bf75403-bf06-4ec7-a770-115a9e82425f",
   "metadata": {},
   "source": [
    "### Part 2: compare how treatment varies in the kaiser CCM population, depending on whether we use an intercept only model or a model that considers CCM risk\n",
    "\n",
    " - initialize a kaiser population. clone it.\n",
    " - compare the assigned risk quintile on both models\n",
    " - in one cloned population, use the intercept only risk model and run teh sim for one year with the intensive treatment arm.\n",
    " - in the other cloned population, use the CCM risk model and run teh sim for one year with the intensive treatment arm\n",
    " - match individual between teh two cloned populations. \n",
    " - compare treatment between the two cloned populations (e.g. how many patients added/subtracted bp meds, statins)\n",
    " - compare treatment between teh cloned populations stratified by baseline risk (e.g. rows are risk quintiles from the intercept-only model, columns are risk quintiles form the CCM model), cell values are delta bp meds. repeat the same table but, cells are delta statins."
   ]
  },
  {
   "cell_type": "code",
   "execution_count": 9,
   "id": "59d89693-2de5-4137-8021-e5f3e223cac5",
   "metadata": {},
   "outputs": [],
   "source": [
    "from microsim.population_factory import PopulationFactory"
   ]
  },
  {
   "cell_type": "code",
   "execution_count": 10,
   "id": "62bcf0d3-fe90-4492-a120-821c7a8167d9",
   "metadata": {},
   "outputs": [
    {
     "data": {
      "text/plain": [
       "{'dynamicRiskFactors': <microsim.cohort_risk_model_repository.CohortDynamicRiskFactorModelRepository at 0x63d745040>,\n",
       " 'defaultTreatments': <microsim.cohort_risk_model_repository.CohortDefaultTreatmentModelRepository at 0x3f44bba90>,\n",
       " 'outcomes': <microsim.outcome_model_repository.OutcomeModelRepository at 0x404002e50>,\n",
       " 'staticRiskFactors': <microsim.cohort_risk_model_repository.CohortDynamicRiskFactorModelRepository at 0x63d745040>}"
      ]
     },
     "execution_count": 10,
     "metadata": {},
     "output_type": "execute_result"
    }
   ],
   "source": [
    "#pop1 is using wmh information\n",
    "popSize = 100000\n",
    "pop1 = PopulationFactory.get_kaiser_population(n=popSize)\n",
    "pop2 = pop1.copy()\n",
    "pop2._modelRepository"
   ]
  },
  {
   "cell_type": "code",
   "execution_count": 11,
   "id": "e2db939f-c245-4111-80e4-ed05dbb15807",
   "metadata": {},
   "outputs": [
    {
     "data": {
      "text/plain": [
       "{'dynamicRiskFactors': <microsim.cohort_risk_model_repository.CohortDynamicRiskFactorModelRepository at 0x63db90af0>,\n",
       " 'defaultTreatments': <microsim.cohort_risk_model_repository.CohortDefaultTreatmentModelRepository at 0x32d50b730>,\n",
       " 'outcomes': <microsim.outcome_model_repository.OutcomeModelRepository at 0x4589854f0>,\n",
       " 'staticRiskFactors': <microsim.cohort_risk_model_repository.CohortStaticRiskFactorModelRepository at 0x4489d08b0>}"
      ]
     },
     "execution_count": 11,
     "metadata": {},
     "output_type": "execute_result"
    }
   ],
   "source": [
    "#by creation pop2 is similar to pop1 but we are now using a repository with wmhSpecific=False\n",
    "pop2ModelRepository = PopulationFactory.get_kaiser_population_model_repo(wmhSpecific=False)\n",
    "pop2._modelRepository = pop2ModelRepository._repository\n",
    "pop2._modelRepository"
   ]
  },
  {
   "cell_type": "code",
   "execution_count": 12,
   "id": "e1ff6ae2-908c-499e-91f9-1569824301a4",
   "metadata": {},
   "outputs": [],
   "source": [
    "#find the CV risks at baseline, before advacing at all, using the appropriate model\n",
    "from microsim.cv_model_repository import CVModelRepository\n",
    "import numpy as np\n",
    "cvModelRepository = CVModelRepository(wmhSpecific=True)\n",
    "popAlive = filter(lambda x: x.is_alive, pop1._people)\n",
    "cvRiskList1 = list(map(lambda x: cvModelRepository.select_outcome_model_for_person(x).get_risk_for_person(x, years=10), popAlive))\n",
    "cvRiskBoundaries1 = np.quantile(cvRiskList1, np.linspace(0, 1, 6))\n",
    "cvRiskQuintiles1 = np.digitize(cvRiskList1, cvRiskBoundaries1, right=False)\n",
    "cvRiskQuintiles1[cvRiskList1 == cvRiskBoundaries1[-1]] = 5\n",
    "\n",
    "cvModelRepository = CVModelRepository(wmhSpecific=False)\n",
    "popAlive = filter(lambda x: x.is_alive, pop2._people)\n",
    "cvRiskList2 = list(map(lambda x: cvModelRepository.select_outcome_model_for_person(x).get_risk_for_person(x, years=10), popAlive))\n",
    "cvRiskBoundaries2 = np.quantile(cvRiskList2, np.linspace(0, 1, 6))\n",
    "cvRiskQuintiles2 = np.digitize(cvRiskList2, cvRiskBoundaries2, right=False)\n",
    "cvRiskQuintiles2[cvRiskList2 == cvRiskBoundaries2[-1]] = 5"
   ]
  },
  {
   "cell_type": "code",
   "execution_count": 13,
   "id": "a0012336-1328-4ccd-8fb6-2fc1ced50f99",
   "metadata": {},
   "outputs": [
    {
     "name": "stdout",
     "output_type": "stream",
     "text": [
      "                          -----------------------------------------------------\n",
      "                          proportion of people in CV risk quintile bins\n",
      "                          -----------------------------------------------------\n",
      "                          CV risk intercept-only\n",
      "   CV risk WMH-specific      1       2       3       4       5\n",
      "                      5    0.00    0.01    0.02    0.06    0.11 \n",
      "                      4    0.00    0.03    0.03    0.06    0.09 \n",
      "                      3    0.01    0.01    0.09    0.09    0.00 \n",
      "                      2    0.01    0.13    0.06    0.00    0.00 \n",
      "                      1    0.17    0.03    0.00    0.00    0.00 \n"
     ]
    }
   ],
   "source": [
    "binEdges = np.arange(0.5, 6.5, 1)\n",
    "proportionsInQuintiles = np.histogram2d(cvRiskQuintiles1,cvRiskQuintiles2, bins=[binEdges, binEdges])[0]/popSize\n",
    "\n",
    "print(\" \"*25, \"-\"*53)\n",
    "print(\" \"*25, \"proportion of people in CV risk quintile bins\")\n",
    "print(\" \"*25, \"-\"*53)\n",
    "risks = [\"1\", \"2\", \"3\", \"4\", \"5\"]\n",
    "print(\" \"*25, \"CV risk intercept-only\")\n",
    "print(\" \"*3 + \"CV risk WMH-specific      \" + \"       \".join(risks))\n",
    "for i,row in enumerate(np.flip(proportionsInQuintiles, axis=0)/proportionsInQuintiles.sum()):\n",
    "    printString = f\"{risks[-i-1]:>23} \"\n",
    "    for item in row:\n",
    "        printString += f\"{item:> 7.2f} \" \n",
    "    print(printString) "
   ]
  },
  {
   "cell_type": "code",
   "execution_count": 14,
   "id": "6cbaedb0-1de3-4831-9b14-3f089020c5a8",
   "metadata": {},
   "outputs": [],
   "source": [
    "#set up the appropriate treatment strategies for the two populations\n",
    "ts1 = TreatmentStrategyRepository()\n",
    "ts1._repository[TreatmentStrategiesType.BP.value] = SprintForSbpRiskThreshold(wmhSpecific=True)\n",
    "ts1._repository[TreatmentStrategiesType.STATIN.value] = StatinTreatmentStrategy(cvRiskCutoff=0.075)\n",
    "\n",
    "ts2 = TreatmentStrategyRepository()\n",
    "ts2._repository[TreatmentStrategiesType.BP.value] = SprintForSbpRiskThreshold(wmhSpecific=False)\n",
    "ts2._repository[TreatmentStrategiesType.STATIN.value] = StatinTreatmentStrategy(cvRiskCutoff=0.075)"
   ]
  },
  {
   "cell_type": "code",
   "execution_count": 15,
   "id": "d24e105c-5403-4d10-9129-f942207c36a9",
   "metadata": {},
   "outputs": [
    {
     "name": "stderr",
     "output_type": "stream",
     "text": [
      "/Users/deligkaris.1/Library/Caches/pypoetry/virtualenvs/microsim-54NoInYP-py3.9/lib/python3.9/site-packages/numpy/core/fromnumeric.py:59: FutureWarning: 'Series.swapaxes' is deprecated and will be removed in a future version. Please use 'Series.transpose' instead.\n",
      "  return bound(*args, **kwds)\n",
      "/Users/deligkaris.1/Library/Caches/pypoetry/virtualenvs/microsim-54NoInYP-py3.9/lib/python3.9/site-packages/numpy/core/fromnumeric.py:59: FutureWarning: 'Series.swapaxes' is deprecated and will be removed in a future version. Please use 'Series.transpose' instead.\n",
      "  return bound(*args, **kwds)\n"
     ]
    }
   ],
   "source": [
    "#make the predictions\n",
    "pop1.advance(years=1, treatmentStrategies=ts1, nWorkers=5)\n",
    "pop2.advance(years=1, treatmentStrategies=ts2, nWorkers=5)"
   ]
  },
  {
   "cell_type": "code",
   "execution_count": 16,
   "id": "f32638c2-6792-43bd-918f-1642e747aaf7",
   "metadata": {},
   "outputs": [
    {
     "name": "stdout",
     "output_type": "stream",
     "text": [
      "                     -3  0.0005\n",
      "                     -2  0.0011\n",
      "                     -1  0.0019\n",
      "                      0  0.9490\n",
      "                      1  0.0222\n",
      "                      2  0.0164\n",
      "                      3  0.0088\n"
     ]
    }
   ],
   "source": [
    "#print the proportions for bpMedsAdded differences\n",
    "ts = TreatmentStrategiesType.BP.value\n",
    "tsv = \"bpMedsAdded\"\n",
    "#popAlive = filter(lambda x: x.is_alive, pop1._people)\n",
    "popAlive = pop1._people\n",
    "bpMedsAddedList1 = list(map(lambda x: x._treatmentStrategies[ts][tsv], popAlive))\n",
    "\n",
    "popAlive = pop2._people\n",
    "bpMedsAddedList2 = list(map(lambda x: x._treatmentStrategies[ts][tsv], popAlive))\n",
    "\n",
    "bpMedsAddedDiffList = list(map(lambda x: x[1]-x[0], zip(bpMedsAddedList1, bpMedsAddedList2)))\n",
    "\n",
    "from collections import Counter\n",
    "tsvList = bpMedsAddedDiffList\n",
    "tsvValueCounts = Counter(tsvList)\n",
    "for key in sorted(tsvValueCounts.keys()):\n",
    "    print(f\"{key:>23} {tsvValueCounts[key]/len(tsvList): 6.4f}\")"
   ]
  },
  {
   "cell_type": "code",
   "execution_count": 17,
   "id": "345ab5e1-f161-4168-a0fa-5a9a4ab508b3",
   "metadata": {},
   "outputs": [],
   "source": [
    "#import matplotlib.pyplot as plt\n",
    "#plt.hist(bpMedsAddedDiffList)\n",
    "#plt.show()"
   ]
  },
  {
   "cell_type": "code",
   "execution_count": 18,
   "id": "ef408a12-0cc4-41db-b9da-8833f24352c1",
   "metadata": {},
   "outputs": [
    {
     "name": "stdout",
     "output_type": "stream",
     "text": [
      "                      0  0.9996\n",
      "                      1  0.0004\n"
     ]
    }
   ],
   "source": [
    "#print the proportions for the statinsAdded differences\n",
    "ts = TreatmentStrategiesType.STATIN.value\n",
    "tsv = \"statinsAdded\"\n",
    "\n",
    "popAlive = pop1._people\n",
    "statinsAddedList1 = list(map(lambda x: x._treatmentStrategies[ts][tsv], popAlive))\n",
    "\n",
    "popAlive = pop2._people\n",
    "statinsAddedList2 = list(map(lambda x: x._treatmentStrategies[ts][tsv], popAlive))\n",
    "\n",
    "saDiffList = list(map(lambda x: x[1]-x[0], zip(statinsAddedList1, statinsAddedList2)))\n",
    "\n",
    "from collections import Counter\n",
    "tsvList = saDiffList\n",
    "tsvValueCounts = Counter(tsvList)\n",
    "for key in sorted(tsvValueCounts.keys()):\n",
    "    print(f\"{key:>23} {tsvValueCounts[key]/len(tsvList): 6.4f}\")"
   ]
  },
  {
   "cell_type": "code",
   "execution_count": 19,
   "id": "a24a11d5-f9f2-4561-a30b-cd07dfad32d1",
   "metadata": {},
   "outputs": [],
   "source": [
    "bmaDiffArray = np.zeros([5,5])\n",
    "for i in range(1, 6):\n",
    "    for j in range(1, 6):\n",
    "        listForIAndJ = list(map(lambda y: y[2], filter(lambda x: (x[0]==i) & (x[1]==j), \n",
    "                                                       zip(cvRiskQuintiles2, cvRiskQuintiles1, bpMedsAddedDiffList))))\n",
    "        if len(listForIAndJ)>0:\n",
    "            bmaDiffArray[i-1, j-1] = np.mean(listForIAndJ)"
   ]
  },
  {
   "cell_type": "code",
   "execution_count": 20,
   "id": "27816e4c-2250-4b71-bac4-99e819a9262f",
   "metadata": {},
   "outputs": [
    {
     "data": {
      "text/html": [
       "<div>\n",
       "<style scoped>\n",
       "    .dataframe tbody tr th:only-of-type {\n",
       "        vertical-align: middle;\n",
       "    }\n",
       "\n",
       "    .dataframe tbody tr th {\n",
       "        vertical-align: top;\n",
       "    }\n",
       "\n",
       "    .dataframe thead th {\n",
       "        text-align: right;\n",
       "    }\n",
       "</style>\n",
       "<table border=\"1\" class=\"dataframe\">\n",
       "  <thead>\n",
       "    <tr style=\"text-align: right;\">\n",
       "      <th></th>\n",
       "      <th>0</th>\n",
       "      <th>1</th>\n",
       "      <th>2</th>\n",
       "      <th>3</th>\n",
       "      <th>4</th>\n",
       "    </tr>\n",
       "  </thead>\n",
       "  <tbody>\n",
       "    <tr>\n",
       "      <th>0</th>\n",
       "      <td>0.073160</td>\n",
       "      <td>-0.073657</td>\n",
       "      <td>-0.342351</td>\n",
       "      <td>0.0</td>\n",
       "      <td>-0.298734</td>\n",
       "    </tr>\n",
       "    <tr>\n",
       "      <th>1</th>\n",
       "      <td>0.638371</td>\n",
       "      <td>0.403316</td>\n",
       "      <td>0.000000</td>\n",
       "      <td>0.0</td>\n",
       "      <td>0.000000</td>\n",
       "    </tr>\n",
       "    <tr>\n",
       "      <th>2</th>\n",
       "      <td>0.000000</td>\n",
       "      <td>0.000000</td>\n",
       "      <td>0.000000</td>\n",
       "      <td>0.0</td>\n",
       "      <td>0.000000</td>\n",
       "    </tr>\n",
       "    <tr>\n",
       "      <th>3</th>\n",
       "      <td>0.000000</td>\n",
       "      <td>0.000000</td>\n",
       "      <td>0.000000</td>\n",
       "      <td>0.0</td>\n",
       "      <td>0.000000</td>\n",
       "    </tr>\n",
       "    <tr>\n",
       "      <th>4</th>\n",
       "      <td>0.000000</td>\n",
       "      <td>0.000000</td>\n",
       "      <td>0.000000</td>\n",
       "      <td>0.0</td>\n",
       "      <td>0.000000</td>\n",
       "    </tr>\n",
       "  </tbody>\n",
       "</table>\n",
       "</div>"
      ],
      "text/plain": [
       "          0         1         2    3         4\n",
       "0  0.073160 -0.073657 -0.342351  0.0 -0.298734\n",
       "1  0.638371  0.403316  0.000000  0.0  0.000000\n",
       "2  0.000000  0.000000  0.000000  0.0  0.000000\n",
       "3  0.000000  0.000000  0.000000  0.0  0.000000\n",
       "4  0.000000  0.000000  0.000000  0.0  0.000000"
      ]
     },
     "execution_count": 20,
     "metadata": {},
     "output_type": "execute_result"
    }
   ],
   "source": [
    "#rows are based on risks from the intercept only models\n",
    "#columns are based on risks from the wmh specific models\n",
    "#cells are mean bpMedsAdded for all people in that cell\n",
    "pd.DataFrame(bmaDiffArray)"
   ]
  },
  {
   "cell_type": "code",
   "execution_count": 21,
   "id": "dedcfed3-77ea-4978-b2f4-972c869b00a2",
   "metadata": {},
   "outputs": [],
   "source": [
    "saDiffArray = np.zeros([5,5])\n",
    "for i in range(1, 6):\n",
    "    for j in range(1, 6):\n",
    "        listForIAndJ = list(map(lambda y: y[2], filter(lambda x: (x[0]==i) & (x[1]==j), \n",
    "                                                       zip(cvRiskQuintiles2, cvRiskQuintiles1, saDiffList))))\n",
    "        if len(listForIAndJ)>0:\n",
    "            saDiffArray[i-1, j-1] = np.mean(listForIAndJ)"
   ]
  },
  {
   "cell_type": "code",
   "execution_count": 22,
   "id": "f291a84f-3a70-4206-8f77-5dc46d671a9e",
   "metadata": {},
   "outputs": [
    {
     "data": {
      "text/html": [
       "<div>\n",
       "<style scoped>\n",
       "    .dataframe tbody tr th:only-of-type {\n",
       "        vertical-align: middle;\n",
       "    }\n",
       "\n",
       "    .dataframe tbody tr th {\n",
       "        vertical-align: top;\n",
       "    }\n",
       "\n",
       "    .dataframe thead th {\n",
       "        text-align: right;\n",
       "    }\n",
       "</style>\n",
       "<table border=\"1\" class=\"dataframe\">\n",
       "  <thead>\n",
       "    <tr style=\"text-align: right;\">\n",
       "      <th></th>\n",
       "      <th>0</th>\n",
       "      <th>1</th>\n",
       "      <th>2</th>\n",
       "      <th>3</th>\n",
       "      <th>4</th>\n",
       "    </tr>\n",
       "  </thead>\n",
       "  <tbody>\n",
       "    <tr>\n",
       "      <th>0</th>\n",
       "      <td>0.0</td>\n",
       "      <td>0.02513</td>\n",
       "      <td>0.01306</td>\n",
       "      <td>0.0</td>\n",
       "      <td>0.0</td>\n",
       "    </tr>\n",
       "    <tr>\n",
       "      <th>1</th>\n",
       "      <td>0.0</td>\n",
       "      <td>0.00000</td>\n",
       "      <td>0.00000</td>\n",
       "      <td>0.0</td>\n",
       "      <td>0.0</td>\n",
       "    </tr>\n",
       "    <tr>\n",
       "      <th>2</th>\n",
       "      <td>0.0</td>\n",
       "      <td>0.00000</td>\n",
       "      <td>0.00000</td>\n",
       "      <td>0.0</td>\n",
       "      <td>0.0</td>\n",
       "    </tr>\n",
       "    <tr>\n",
       "      <th>3</th>\n",
       "      <td>0.0</td>\n",
       "      <td>0.00000</td>\n",
       "      <td>0.00000</td>\n",
       "      <td>0.0</td>\n",
       "      <td>0.0</td>\n",
       "    </tr>\n",
       "    <tr>\n",
       "      <th>4</th>\n",
       "      <td>0.0</td>\n",
       "      <td>0.00000</td>\n",
       "      <td>0.00000</td>\n",
       "      <td>0.0</td>\n",
       "      <td>0.0</td>\n",
       "    </tr>\n",
       "  </tbody>\n",
       "</table>\n",
       "</div>"
      ],
      "text/plain": [
       "     0        1        2    3    4\n",
       "0  0.0  0.02513  0.01306  0.0  0.0\n",
       "1  0.0  0.00000  0.00000  0.0  0.0\n",
       "2  0.0  0.00000  0.00000  0.0  0.0\n",
       "3  0.0  0.00000  0.00000  0.0  0.0\n",
       "4  0.0  0.00000  0.00000  0.0  0.0"
      ]
     },
     "execution_count": 22,
     "metadata": {},
     "output_type": "execute_result"
    }
   ],
   "source": [
    "#rows are based on risks from the intercept only models\n",
    "#columns are based on risks from the wmh specific models\n",
    "#cells are mean statinsAdded for all people in that cell\n",
    "pd.DataFrame(saDiffArray)"
   ]
  },
  {
   "cell_type": "code",
   "execution_count": null,
   "id": "620dd418-0a97-49c8-b273-94471305efc4",
   "metadata": {},
   "outputs": [],
   "source": []
  }
 ],
 "metadata": {
  "kernelspec": {
   "display_name": "microsimKernel",
   "language": "python",
   "name": "microsimkernel"
  },
  "language_info": {
   "codemirror_mode": {
    "name": "ipython",
    "version": 3
   },
   "file_extension": ".py",
   "mimetype": "text/x-python",
   "name": "python",
   "nbconvert_exporter": "python",
   "pygments_lexer": "ipython3",
   "version": "3.9.13"
  }
 },
 "nbformat": 4,
 "nbformat_minor": 5
}
