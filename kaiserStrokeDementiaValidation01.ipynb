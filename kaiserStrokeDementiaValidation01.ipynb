{
 "cells": [
  {
   "cell_type": "markdown",
   "id": "87a1d558-a6fc-46eb-a47a-94c912c45324",
   "metadata": {},
   "source": [
    "The goal of this notebook is to obtain the data required to do the survival analysis for stroke and dementia events with the Kaiser population. The analysis is performed using R in a separate notebook."
   ]
  },
  {
   "cell_type": "code",
   "execution_count": 1,
   "id": "27496c24-452e-47ce-a250-9d46f7b206dd",
   "metadata": {},
   "outputs": [],
   "source": [
    "import numpy as np\n",
    "import pandas as pd\n",
    "import os\n",
    "import matplotlib.pyplot as plt\n",
    "\n",
    "from microsim.outcome import OutcomeType\n",
    "from microsim.population_factory import PopulationFactory\n",
    "\n",
    "microsimDir = \"/Users/deligkaris.1/OneDrive - The Ohio State University Wexner Medical Center/MICROSIM/CODE/microsim\"\n",
    "os.chdir(microsimDir)\n",
    "dataDir = \"/Users/deligkaris.1/OneDrive - The Ohio State University Wexner Medical Center/MICROSIM/NOTEBOOKS/DATA\""
   ]
  },
  {
   "cell_type": "code",
   "execution_count": 2,
   "id": "a3c343bb-06f6-4a6e-9152-e96a379bf77f",
   "metadata": {},
   "outputs": [],
   "source": [
    "pd.set_option('future.no_silent_downcasting', True) "
   ]
  },
  {
   "cell_type": "code",
   "execution_count": 3,
   "id": "3dcf95ea-4504-4fcf-a8a9-529dd5545999",
   "metadata": {},
   "outputs": [
    {
     "name": "stderr",
     "output_type": "stream",
     "text": [
      "/Users/deligkaris.1/Library/CloudStorage/OneDrive-TheOhioStateUniversityWexnerMedicalCenter/MICROSIM/CODE/microsim/microsim/population_factory.py:525: FutureWarning: The behavior of DataFrame concatenation with empty or all-NA entries is deprecated. In a future version, this will no longer exclude empty or all-NA columns when determining the result dtypes. To retain the old behavior, exclude the relevant entries before the concat operation.\n",
      "  df = pd.concat([df,dfForGroup])\n"
     ]
    },
    {
     "name": "stdout",
     "output_type": "stream",
     "text": [
      "CPU times: user 2min 2s, sys: 14.8 s, total: 2min 17s\n",
      "Wall time: 2min 8s\n"
     ]
    }
   ],
   "source": [
    "%%time\n",
    "popSize = 500000\n",
    "pop = PopulationFactory.get_kaiser_population(n=popSize)"
   ]
  },
  {
   "cell_type": "code",
   "execution_count": 4,
   "id": "f9a60d01-54be-4308-b336-a4e8d9f84222",
   "metadata": {},
   "outputs": [
    {
     "name": "stderr",
     "output_type": "stream",
     "text": [
      "/Users/deligkaris.1/Library/Caches/pypoetry/virtualenvs/microsim-54NoInYP-py3.9/lib/python3.9/site-packages/numpy/core/fromnumeric.py:59: FutureWarning: 'Series.swapaxes' is deprecated and will be removed in a future version. Please use 'Series.transpose' instead.\n",
      "  return bound(*args, **kwds)\n"
     ]
    },
    {
     "name": "stdout",
     "output_type": "stream",
     "text": [
      "CPU times: user 2min 46s, sys: 7min 37s, total: 10min 24s\n",
      "Wall time: 44min 49s\n"
     ]
    }
   ],
   "source": [
    "%%time\n",
    "pop.advance(13, nWorkers=5)"
   ]
  },
  {
   "cell_type": "code",
   "execution_count": 5,
   "id": "6431929c-98d5-45bf-8f29-feabcf4e03c8",
   "metadata": {},
   "outputs": [],
   "source": [
    "#define functions used to obtain the information needed\n",
    "def get_stroke_scd_group(sbi, wmh):\n",
    "    if ((sbi==0) & (wmh==0)):\n",
    "        return 0\n",
    "    elif ((sbi==1) & (wmh==0)):\n",
    "        return 1\n",
    "    elif ((sbi==0) & (wmh==1)):\n",
    "        return 2\n",
    "    elif ((sbi==1) & (wmh==1)):\n",
    "        return 3\n",
    "    \n",
    "def get_stroke_km_info(person):\n",
    "    time = person.get_min_wave_of_first_outcomes_or_last_wave([OutcomeType.STROKE])+1\n",
    "    stroke = int(person._stroke)\n",
    "    sbi = int(person._outcomes[OutcomeType.WMH][0][1].sbi)\n",
    "    wmh = int(person._outcomes[OutcomeType.WMH][0][1].wmh)\n",
    "    scdGroup = get_stroke_scd_group(sbi, wmh)\n",
    "    return (time, stroke, scdGroup)\n",
    "\n",
    "def get_dementia_scd_group(modality, severityUnknown, severity, wmh):\n",
    "    if modality == 'ct':\n",
    "        if not wmh:\n",
    "            return 0\n",
    "        else:\n",
    "            if severityUnknown:\n",
    "                return 1\n",
    "            else:\n",
    "                if severity=='mild':\n",
    "                    return 2\n",
    "                elif severity=='moderate':\n",
    "                    return 3\n",
    "                elif severity=='severe':\n",
    "                    return 4\n",
    "                else:\n",
    "                    raise RuntimeError(\"unknown severity\")\n",
    "    elif modality == 'mr':\n",
    "        if not wmh:\n",
    "            return 5\n",
    "        else:\n",
    "            if severityUnknown:\n",
    "                return 6\n",
    "            else:\n",
    "                if severity=='mild':\n",
    "                    return 7\n",
    "                elif severity=='moderate':\n",
    "                    return 8\n",
    "                elif severity=='severe':\n",
    "                    return 9\n",
    "                else:\n",
    "                    raise RuntimeError(\"unknown severity\")\n",
    "    else:\n",
    "        raise RuntimeError(\"unknown modality\")\n",
    "\n",
    "def get_dementia_km_info(person):\n",
    "    time = person.get_min_wave_of_first_outcomes_or_last_wave([OutcomeType.DEMENTIA])+1\n",
    "    dementia = int(person._dementia)\n",
    "    modality = person._modality\n",
    "    severityUnknown = int(person._outcomes[OutcomeType.WMH][0][1].wmhSeverityUnknown)\n",
    "    wmh = int(person._outcomes[OutcomeType.WMH][0][1].wmh)\n",
    "    severity = person._outcomes[OutcomeType.WMH][0][1].wmhSeverity\n",
    "    severity = severity.value if severity is not None else None\n",
    "    scdGroup = get_dementia_scd_group(modality, severityUnknown, severity, wmh)\n",
    "    return (time, dementia, scdGroup)    "
   ]
  },
  {
   "cell_type": "code",
   "execution_count": 6,
   "id": "30f8dffb-f438-4a54-a41e-dd9ca98f493d",
   "metadata": {},
   "outputs": [
    {
     "data": {
      "text/html": [
       "<div>\n",
       "<style scoped>\n",
       "    .dataframe tbody tr th:only-of-type {\n",
       "        vertical-align: middle;\n",
       "    }\n",
       "\n",
       "    .dataframe tbody tr th {\n",
       "        vertical-align: top;\n",
       "    }\n",
       "\n",
       "    .dataframe thead th {\n",
       "        text-align: right;\n",
       "    }\n",
       "</style>\n",
       "<table border=\"1\" class=\"dataframe\">\n",
       "  <thead>\n",
       "    <tr style=\"text-align: right;\">\n",
       "      <th></th>\n",
       "      <th>time</th>\n",
       "      <th>event</th>\n",
       "      <th>scdGroup</th>\n",
       "    </tr>\n",
       "  </thead>\n",
       "  <tbody>\n",
       "    <tr>\n",
       "      <th>0</th>\n",
       "      <td>13</td>\n",
       "      <td>0</td>\n",
       "      <td>0</td>\n",
       "    </tr>\n",
       "    <tr>\n",
       "      <th>1</th>\n",
       "      <td>13</td>\n",
       "      <td>0</td>\n",
       "      <td>2</td>\n",
       "    </tr>\n",
       "    <tr>\n",
       "      <th>2</th>\n",
       "      <td>13</td>\n",
       "      <td>0</td>\n",
       "      <td>0</td>\n",
       "    </tr>\n",
       "    <tr>\n",
       "      <th>3</th>\n",
       "      <td>13</td>\n",
       "      <td>0</td>\n",
       "      <td>0</td>\n",
       "    </tr>\n",
       "    <tr>\n",
       "      <th>4</th>\n",
       "      <td>13</td>\n",
       "      <td>0</td>\n",
       "      <td>0</td>\n",
       "    </tr>\n",
       "  </tbody>\n",
       "</table>\n",
       "</div>"
      ],
      "text/plain": [
       "   time  event  scdGroup\n",
       "0    13      0         0\n",
       "1    13      0         2\n",
       "2    13      0         0\n",
       "3    13      0         0\n",
       "4    13      0         0"
      ]
     },
     "execution_count": 6,
     "metadata": {},
     "output_type": "execute_result"
    }
   ],
   "source": [
    "#obtain data for the stroke survival analysis, see figure 1 in Kent2021\n",
    "strokeInfo = list(map(lambda x: get_stroke_km_info(x), pop._people))\n",
    "df = pd.DataFrame(strokeInfo, columns=[\"time\",\"event\", \"scdGroup\"])\n",
    "df.to_csv(dataDir+\"/kaiserStrokeValidation.csv\", index=False)\n",
    "df.head()"
   ]
  },
  {
   "cell_type": "code",
   "execution_count": 7,
   "id": "adaf40d6-d8ce-4e53-9bed-b1e7ae8098e3",
   "metadata": {},
   "outputs": [
    {
     "data": {
      "text/html": [
       "<div>\n",
       "<style scoped>\n",
       "    .dataframe tbody tr th:only-of-type {\n",
       "        vertical-align: middle;\n",
       "    }\n",
       "\n",
       "    .dataframe tbody tr th {\n",
       "        vertical-align: top;\n",
       "    }\n",
       "\n",
       "    .dataframe thead th {\n",
       "        text-align: right;\n",
       "    }\n",
       "</style>\n",
       "<table border=\"1\" class=\"dataframe\">\n",
       "  <thead>\n",
       "    <tr style=\"text-align: right;\">\n",
       "      <th></th>\n",
       "      <th>time</th>\n",
       "      <th>event</th>\n",
       "      <th>scdGroup</th>\n",
       "    </tr>\n",
       "  </thead>\n",
       "  <tbody>\n",
       "    <tr>\n",
       "      <th>0</th>\n",
       "      <td>13</td>\n",
       "      <td>0</td>\n",
       "      <td>0</td>\n",
       "    </tr>\n",
       "    <tr>\n",
       "      <th>1</th>\n",
       "      <td>13</td>\n",
       "      <td>0</td>\n",
       "      <td>6</td>\n",
       "    </tr>\n",
       "    <tr>\n",
       "      <th>2</th>\n",
       "      <td>13</td>\n",
       "      <td>0</td>\n",
       "      <td>0</td>\n",
       "    </tr>\n",
       "    <tr>\n",
       "      <th>3</th>\n",
       "      <td>13</td>\n",
       "      <td>0</td>\n",
       "      <td>0</td>\n",
       "    </tr>\n",
       "    <tr>\n",
       "      <th>4</th>\n",
       "      <td>13</td>\n",
       "      <td>0</td>\n",
       "      <td>5</td>\n",
       "    </tr>\n",
       "  </tbody>\n",
       "</table>\n",
       "</div>"
      ],
      "text/plain": [
       "   time  event  scdGroup\n",
       "0    13      0         0\n",
       "1    13      0         6\n",
       "2    13      0         0\n",
       "3    13      0         0\n",
       "4    13      0         5"
      ]
     },
     "execution_count": 7,
     "metadata": {},
     "output_type": "execute_result"
    }
   ],
   "source": [
    "#obtain data for the dementia survival analysis, see figure 2 in Kent2023\n",
    "dementiaInfo = list(map(lambda x: get_dementia_km_info(x), pop._people))\n",
    "df = pd.DataFrame(dementiaInfo, columns=[\"time\",\"event\", \"scdGroup\"])\n",
    "df.to_csv(dataDir+\"/kaiserDementiaValidation.csv\", index=False)\n",
    "df.head()"
   ]
  },
  {
   "cell_type": "code",
   "execution_count": null,
   "id": "707be2a8-0746-456d-861c-7acc70d21905",
   "metadata": {},
   "outputs": [],
   "source": []
  }
 ],
 "metadata": {
  "kernelspec": {
   "display_name": "microsimKernel",
   "language": "python",
   "name": "microsimkernel"
  },
  "language_info": {
   "codemirror_mode": {
    "name": "ipython",
    "version": 3
   },
   "file_extension": ".py",
   "mimetype": "text/x-python",
   "name": "python",
   "nbconvert_exporter": "python",
   "pygments_lexer": "ipython3",
   "version": "3.9.13"
  }
 },
 "nbformat": 4,
 "nbformat_minor": 5
}
