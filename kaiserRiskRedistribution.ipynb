{
 "cells": [
  {
   "cell_type": "markdown",
   "id": "232a6db2-8368-4c6d-b60a-6f85329d530e",
   "metadata": {},
   "source": [
    "This notebook obtains the table of proportions with CV risks, by taking and not taking into account SCD specific information, such as\n",
    "presence of SBI, WMH severity etc."
   ]
  },
  {
   "cell_type": "code",
   "execution_count": 1,
   "id": "a6e83397-1e80-44a3-8575-fddecc10fbe0",
   "metadata": {
    "tags": []
   },
   "outputs": [],
   "source": [
    "import os\n",
    "microsimDir = \"/Users/deligkaris.1/OneDrive - The Ohio State University Wexner Medical Center/MICROSIM/CODE/microsim\"\n",
    "os.chdir(microsimDir)\n",
    "\n",
    "import pandas as pd\n",
    "pd.set_option('future.no_silent_downcasting', True) #make the calculation here future-proof\n",
    "\n",
    "from microsim.population_factory import PopulationType, PopulationFactory"
   ]
  },
  {
   "cell_type": "code",
   "execution_count": 2,
   "id": "d662c78d-b6d2-4721-a444-76bc647ce8be",
   "metadata": {},
   "outputs": [],
   "source": [
    "pop = PopulationFactory.get_population(PopulationType.KAISER, n=300000)"
   ]
  },
  {
   "cell_type": "code",
   "execution_count": 3,
   "id": "463fba2b-ab6c-4e80-a891-29bb03c09358",
   "metadata": {},
   "outputs": [
    {
     "name": "stdout",
     "output_type": "stream",
     "text": [
      "                          -----------------------------------------------------\n",
      "                          proportion of people in risk bins\n",
      "                          -----------------------------------------------------\n",
      "                          CV risk (non-SCD specific)\n",
      "   CV risk (SCD specific) 0.0-0.05 0.05-0.075 0.075-0.1 0.1-0.125 0.125-0.15 0.15-1.0\n",
      "               0.15-1.0      0.00      0.01      0.01      0.01      0.01      0.46 \n",
      "             0.125-0.15      0.00      0.00      0.00      0.00      0.01      0.05 \n",
      "              0.1-0.125      0.00      0.00      0.00      0.01      0.00      0.06 \n",
      "              0.075-0.1      0.00      0.00      0.01      0.00      0.04      0.04 \n",
      "             0.05-0.075      0.00      0.01      0.03      0.05      0.01      0.00 \n",
      "               0.0-0.05      0.09      0.06      0.03      0.00      0.00      0.00 \n",
      "                          -----------------------------------------------------\n",
      "                          cumulative (column-wise) proportion of people in risk bins\n",
      "                          -----------------------------------------------------\n",
      "                          CV risk (non-SCD specific)\n",
      "   CV risk (SCD specific) 0.0-0.05 0.05-0.075 0.075-0.1 0.1-0.125 0.125-0.15 0.15-1.0\n",
      "               0.15-1.0      0.00      0.01      0.01      0.01      0.01      0.46 \n",
      "             0.125-0.15      0.00      0.01      0.01      0.01      0.02      0.51 \n",
      "              0.1-0.125      0.00      0.01      0.01      0.02      0.02      0.58 \n",
      "              0.075-0.1      0.01      0.01      0.02      0.02      0.06      0.61 \n",
      "             0.05-0.075      0.01      0.02      0.04      0.07      0.07      0.61 \n",
      "               0.0-0.05      0.09      0.08      0.08      0.07      0.07      0.61 \n",
      "                          -----------------------------------------------------\n",
      "                          cumulative (row-wise) proportion of people in risk bins\n",
      "                          -----------------------------------------------------\n",
      "                          CV risk (non-SCD specific)\n",
      "   CV risk (SCD specific) 0.0-0.05 0.05-0.075 0.075-0.1 0.1-0.125 0.125-0.15 0.15-1.0\n",
      "               0.15-1.0      0.00      0.01      0.02      0.03      0.04      0.50 \n",
      "             0.125-0.15      0.00      0.00      0.00      0.00      0.01      0.06 \n",
      "              0.1-0.125      0.00      0.00      0.00      0.01      0.01      0.07 \n",
      "              0.075-0.1      0.00      0.00      0.01      0.01      0.05      0.08 \n",
      "             0.05-0.075      0.00      0.01      0.03      0.09      0.10      0.10 \n",
      "               0.0-0.05      0.09      0.15      0.18      0.18      0.18      0.18 \n"
     ]
    }
   ],
   "source": [
    "pop.print_scd_cv_risk_proportions_table()"
   ]
  },
  {
   "cell_type": "code",
   "execution_count": null,
   "id": "406f1a3c-addf-4d9e-96ec-c487076d9b9b",
   "metadata": {},
   "outputs": [],
   "source": []
  }
 ],
 "metadata": {
  "kernelspec": {
   "display_name": "microsimKernel",
   "language": "python",
   "name": "microsimkernel"
  },
  "language_info": {
   "codemirror_mode": {
    "name": "ipython",
    "version": 3
   },
   "file_extension": ".py",
   "mimetype": "text/x-python",
   "name": "python",
   "nbconvert_exporter": "python",
   "pygments_lexer": "ipython3",
   "version": "3.9.13"
  }
 },
 "nbformat": 4,
 "nbformat_minor": 5
}
