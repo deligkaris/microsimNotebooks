{
 "cells": [
  {
   "cell_type": "markdown",
   "id": "d58d3d28-838b-4daf-bc28-7a406aa3f5f4",
   "metadata": {},
   "source": [
    "The goal of this notebook is to recalibrate the intercepts of the baseline and cohort afib models and the age coefficient of the cohort afib model and the afib cohort model itself, so that the simulation reproduces\n",
    "the global burdain of disease estimates for atrial fibrilation and fluttering prevalence for 2019 in the US. \n",
    "\n",
    "Baseline intercept: \n",
    "This notebook manually modifies the intercept of the model, obtains an updated estimate of the afib prevalence and then adjusts the\n",
    "intercept accordingly. A fixed number of iterations is used and empirically we verify that the choice of intercept steps, which\n",
    "adjust during the iterations, are reasonable. The metric used to define the difference between the GBD and the simulation was using the afib prevalence that are the highest among the population (ie older ages). No attempt was made to map this metric to a change in the intercept model (ie use a slope and a change to find the change in the intercept as is done in the Newton method). The initial change in the intercept was found empirically.\n",
    "\n",
    "Cohort intercept, age coefficient and model: something similar, but not identical is done. The difference here with the other notebook is that the adjustment for the intercept and age coefficient takes place simultaneously whereas in the other notebook the intercept was adjusted first and then the age coefficient."
   ]
  },
  {
   "cell_type": "code",
   "execution_count": 1,
   "id": "f729f8bc-7fdc-4e00-bd96-443a17cecfcc",
   "metadata": {},
   "outputs": [],
   "source": [
    "import os\n",
    "import pandas as pd\n",
    "pd.set_option('display.max_columns', None)\n",
    "pd.set_option('display.max_rows', None)\n",
    "from pandarallel import pandarallel\n",
    "import numpy as np\n",
    "import matplotlib.pyplot as plt\n",
    "import importlib.util"
   ]
  },
  {
   "cell_type": "code",
   "execution_count": 2,
   "id": "48e811f5-bb7e-4e78-85d0-d9cd9b1d636f",
   "metadata": {},
   "outputs": [],
   "source": [
    "from microsim.data_loader import load_model_spec, load_regression_model\n",
    "from microsim.population import NHANESDirectSamplePopulation, initializeAFib\n",
    "from microsim.sim_settings import simSettings\n",
    "from microsim.statsmodel_logistic_risk_factor_model import StatsModelLogisticRiskFactorModel\n",
    "from microsim.cohort_risk_model_repository import CohortRiskModelRepository\n",
    "from microsim.stats_model_linear_probability_risk_factor_model import (StatsModelLinearProbabilityRiskFactorModel)\n",
    "from microsim.statsmodel_linear_risk_factor_model import StatsModelLinearRiskFactorModel"
   ]
  },
  {
   "cell_type": "code",
   "execution_count": 3,
   "id": "d00e6ff1-8f6e-4bef-9742-7d1f3518994a",
   "metadata": {},
   "outputs": [],
   "source": [
    "gbdData=pd.read_csv(\"/Users/deligkaris.1/OneDrive - The Ohio State University Wexner Medical Center/MICROSIM/NOTEBOOKS/DATA/IHME-GBD_2019_DATA-afib/IHME-GBD_2019_DATA-8086e0fc-1.csv\")\n",
    "#gbdData.head(3)"
   ]
  },
  {
   "cell_type": "code",
   "execution_count": 4,
   "id": "5948f15a-6c25-4e00-8403-6e26ba030871",
   "metadata": {},
   "outputs": [
    {
     "data": {
      "text/html": [
       "<div>\n",
       "<style scoped>\n",
       "    .dataframe tbody tr th:only-of-type {\n",
       "        vertical-align: middle;\n",
       "    }\n",
       "\n",
       "    .dataframe tbody tr th {\n",
       "        vertical-align: top;\n",
       "    }\n",
       "\n",
       "    .dataframe thead th {\n",
       "        text-align: right;\n",
       "    }\n",
       "</style>\n",
       "<table border=\"1\" class=\"dataframe\">\n",
       "  <thead>\n",
       "    <tr style=\"text-align: right;\">\n",
       "      <th></th>\n",
       "      <th>age_id</th>\n",
       "      <th>age_name</th>\n",
       "      <th>val</th>\n",
       "    </tr>\n",
       "  </thead>\n",
       "  <tbody>\n",
       "    <tr>\n",
       "      <th>31</th>\n",
       "      <td>16</td>\n",
       "      <td>55-59 years</td>\n",
       "      <td>0.017813</td>\n",
       "    </tr>\n",
       "    <tr>\n",
       "      <th>34</th>\n",
       "      <td>17</td>\n",
       "      <td>60-64 years</td>\n",
       "      <td>0.031653</td>\n",
       "    </tr>\n",
       "    <tr>\n",
       "      <th>37</th>\n",
       "      <td>18</td>\n",
       "      <td>65-69 years</td>\n",
       "      <td>0.056925</td>\n",
       "    </tr>\n",
       "    <tr>\n",
       "      <th>40</th>\n",
       "      <td>19</td>\n",
       "      <td>70-74 years</td>\n",
       "      <td>0.094122</td>\n",
       "    </tr>\n",
       "    <tr>\n",
       "      <th>43</th>\n",
       "      <td>20</td>\n",
       "      <td>75-79 years</td>\n",
       "      <td>0.140805</td>\n",
       "    </tr>\n",
       "    <tr>\n",
       "      <th>46</th>\n",
       "      <td>30</td>\n",
       "      <td>80-84</td>\n",
       "      <td>0.190387</td>\n",
       "    </tr>\n",
       "    <tr>\n",
       "      <th>49</th>\n",
       "      <td>31</td>\n",
       "      <td>85-89</td>\n",
       "      <td>0.224202</td>\n",
       "    </tr>\n",
       "    <tr>\n",
       "      <th>52</th>\n",
       "      <td>32</td>\n",
       "      <td>90-94</td>\n",
       "      <td>0.237910</td>\n",
       "    </tr>\n",
       "    <tr>\n",
       "      <th>61</th>\n",
       "      <td>235</td>\n",
       "      <td>95+ years</td>\n",
       "      <td>0.227766</td>\n",
       "    </tr>\n",
       "  </tbody>\n",
       "</table>\n",
       "</div>"
      ],
      "text/plain": [
       "    age_id     age_name       val\n",
       "31      16  55-59 years  0.017813\n",
       "34      17  60-64 years  0.031653\n",
       "37      18  65-69 years  0.056925\n",
       "40      19  70-74 years  0.094122\n",
       "43      20  75-79 years  0.140805\n",
       "46      30        80-84  0.190387\n",
       "49      31        85-89  0.224202\n",
       "52      32        90-94  0.237910\n",
       "61     235    95+ years  0.227766"
      ]
     },
     "execution_count": 4,
     "metadata": {},
     "output_type": "execute_result"
    }
   ],
   "source": [
    "gbdData.loc[ (gbdData[\"metric_name\"]==\"Percent\") & (gbdData[\"age_id\"].isin([16,17,18,19,20,30,31,32,235])),[\"age_id\",\"age_name\",\"val\"]]"
   ]
  },
  {
   "cell_type": "code",
   "execution_count": 5,
   "id": "29e109e8-63bc-407e-9bd8-2cbdc85cabcb",
   "metadata": {},
   "outputs": [],
   "source": [
    "#the reference afib data will be based on the 2019 US GBD data\n",
    "afibRef = gbdData.loc[ \n",
    "    (gbdData[\"metric_name\"]==\"Percent\") & (gbdData[\"age_id\"].isin([16,17,18,19,20,30,31,32,235]))\n",
    "    ,[\"val\"]][\"val\"].tolist()\n",
    "#afibRef"
   ]
  },
  {
   "cell_type": "code",
   "execution_count": 6,
   "id": "26e3301d-553e-479d-9397-c2d360d34550",
   "metadata": {},
   "outputs": [],
   "source": [
    "pandarallel.initialize(verbose=1) #microsim by default now does not initialize pandarallel\n",
    "simSettings.pandarallelFlag = True #with this flag all new population instances will be set to use pandarallel\n",
    "\n",
    "seedSequence = np.random.SeedSequence()\n",
    "rngStream = np.random.default_rng(seed=seedSequence)"
   ]
  },
  {
   "cell_type": "code",
   "execution_count": 7,
   "id": "09666fd4-2b90-420c-810b-bba28b5f7a1e",
   "metadata": {},
   "outputs": [],
   "source": [
    "intercept = load_regression_model(\"BaselineAFibModel\")._coefficients[\"Intercept\"]\n",
    "interceptStep = 1\n",
    "interceptChange = 0\n",
    "\n",
    "popSize=50000"
   ]
  },
  {
   "cell_type": "code",
   "execution_count": 8,
   "id": "a7413a1d-3f9c-4c80-abc0-beafdcaf2ee1",
   "metadata": {},
   "outputs": [],
   "source": [
    "module = importlib.import_module(\"microsim.population\")\n",
    "\n",
    "microsimDir = \"/Users/deligkaris.1/OneDrive - The Ohio State University Wexner Medical Center/MICROSIM/CODE/microsim\"\n",
    "os.chdir(microsimDir)"
   ]
  },
  {
   "cell_type": "code",
   "execution_count": 9,
   "id": "43f76a75-b4a8-4794-8a56-a0d41f7aee39",
   "metadata": {},
   "outputs": [],
   "source": [
    "if False: #decide if I will recalibrate the baseline afib model intercept or just use the one I found in the past\n",
    "    \n",
    "    #use this definition of the baseline afib model\n",
    "    def initializeAFib(person):\n",
    "        model = load_regression_model(\"BaselineAFibModel\")\n",
    "        statsModel = StatsModelLogisticRiskFactorModel(model)\n",
    "        return statsModel.estimate_next_risk(person)\n",
    "\n",
    "    setattr(module, \"initializeAFib\", initializeAFib)\n",
    "\n",
    "    pop = NHANESDirectSamplePopulation(popSize, 2017, rng=rngStream)\n",
    "\n",
    "    #afibRisks = list()\n",
    "    #for p in pop._people.iloc[:]:\n",
    "    #    afibRisks += [p._afib[0]]\n",
    "    #afibRisks\n",
    "\n",
    "    #plt.hist(afibRisks,bins=10)\n",
    "    #plt.show()\n",
    "\n",
    "    #do the bin counting for the baseline model\n",
    "    ageList = list()\n",
    "    afibList = list()\n",
    "    for p in pop._people.iloc[:]:\n",
    "        ageList +=  p._age\n",
    "        afibList += p._afib \n",
    "        pDone = len(ageList)\n",
    "        if pDone%100000==0:\n",
    "            print(pDone)\n",
    "        \n",
    "    baseAfib = pd.DataFrame(list(zip(ageList,afibList)), columns=[\"age\",\"afib\"])\n",
    "    baseAfib[\"age\"]=baseAfib[\"age\"].astype('int')\n",
    "    baseAfib[\"ageInterval\"] = pd.cut(baseAfib[\"age\"], bins=[10,55,60,65,70,75,80,85,90,95,100],right=False)\n",
    "\n",
    "    baseAfibMeansByAgeGroup = baseAfib.groupby(\"ageInterval\").agg({'afib' : 'mean'})\n",
    "    baseAfibMeansByAgeGroup[\"labels\"] = [f\"[{x.left}, {x.right})\" for x in  baseAfibMeansByAgeGroup.index.array]\n",
    "\n",
    "    labels = baseAfibMeansByAgeGroup[\"labels\"].values.tolist()[1:]\n",
    "    values = [x[0] for x in baseAfibMeansByAgeGroup.values[1:]]\n",
    "    reference = [afibRef[i] for i in range(len(labels)) if ~np.isnan(values[i])]\n",
    "\n",
    "    fig, ax = plt.subplots()\n",
    "    ax.bar(labels, values)\n",
    "    for i in range(len(reference)):\n",
    "        ax.scatter(labels[i],reference[i],color=\"black\")\n",
    "    plt.xlabel(\"age group\")\n",
    "    plt.ylabel(\"mean afib risk\")\n",
    "    plt.title(\"nhanes baseline afib model\")\n",
    "    plt.show()\n",
    "\n",
    "    #find how far off we are from the GBD prevalence\n",
    "    afibSim = baseAfibMeansByAgeGroup.iloc[1:][\"afib\"].tolist()\n",
    "    afibDiff = [x-y for x,y in zip(afibRef,afibSim)]\n",
    "    afibDiffWeighted = [x*y for x,y in zip(afibRef,afibDiff)] #use the reference values as the weights\n",
    "    afibDiffWeighted = list(filter(lambda x: ~np.isnan(x), afibDiffWeighted))\n",
    "    afibDiffWeightedSum = sum( afibDiffWeighted)\n",
    "\n",
    "    #define the change in the model intercept based on the difference\n",
    "    if (afibDiffWeightedSum>0.):\n",
    "        interceptChange += interceptStep\n",
    "    else:\n",
    "        interceptChange += -interceptStep\n",
    "    \n",
    "    #and now do this all over again\n",
    "    for run in range(0,50):\n",
    "\n",
    "        if (run%10==0):\n",
    "            print(f\"intercept= {intercept} step= {interceptStep} change= {interceptChange}\")\n",
    "        intercept += interceptChange\n",
    "    \n",
    "        def initializeAFib(person, intercept = intercept):\n",
    "            model = load_regression_model(\"BaselineAFibModel\")\n",
    "            model._coefficients[\"Intercept\"] = intercept\n",
    "            #model._coefficients[\"age\"] = model._coefficients[\"age\"]*1\n",
    "            statsModel = StatsModelLogisticRiskFactorModel(model)\n",
    "            return statsModel.estimate_next_risk(person)\n",
    "\n",
    "        setattr(module, \"initializeAFib\", initializeAFib)\n",
    "\n",
    "        pop = NHANESDirectSamplePopulation(popSize, 2017, rng=rngStream)\n",
    "\n",
    "        ageList = list()\n",
    "        afibList = list()\n",
    "        for p in pop._people.iloc[:]:\n",
    "            ageList +=  p._age\n",
    "            afibList += p._afib \n",
    "            pDone = len(ageList)\n",
    "            #if pDone%100000==0:\n",
    "                #print(pDone)\n",
    "        \n",
    "        baseAfib = pd.DataFrame(list(zip(ageList,afibList)), columns=[\"age\",\"afib\"])\n",
    "        baseAfib[\"age\"]=baseAfib[\"age\"].astype('int')\n",
    "        baseAfib[\"ageInterval\"] = pd.cut(baseAfib[\"age\"], bins=[10,55,60,65,70,75,80,85,90,95,100],right=False)\n",
    "\n",
    "        baseAfibMeansByAgeGroup = baseAfib.groupby(\"ageInterval\").agg({'afib' : 'mean'})\n",
    "        baseAfibMeansByAgeGroup[\"labels\"] = [f\"[{x.left}, {x.right})\" for x in  baseAfibMeansByAgeGroup.index.array]\n",
    "\n",
    "        afibSim = baseAfibMeansByAgeGroup.iloc[1:][\"afib\"].tolist()\n",
    "        afibDiff = [x-y for x,y in zip(afibRef,afibSim)]\n",
    "        afibDiffWeighted = [x*y for x,y in zip(afibRef,afibDiff)]\n",
    "        afibDiffWeighted = list(filter(lambda x: ~np.isnan(x), afibDiffWeighted))\n",
    "        afibDiffWeightedSumOld = afibDiffWeightedSum\n",
    "        afibDiffWeightedSum = sum( afibDiffWeighted)\n",
    "\n",
    "        if (afibDiffWeightedSum*afibDiffWeightedSumOld<0) :\n",
    "            interceptStep = interceptStep/2\n",
    "        if (afibDiffWeightedSum>0.):\n",
    "            interceptChange = interceptStep\n",
    "        else:\n",
    "            interceptChange = -interceptStep\n",
    "    "
   ]
  },
  {
   "cell_type": "code",
   "execution_count": 10,
   "id": "54563224-c3d9-4d82-960b-1bba901a2e11",
   "metadata": {},
   "outputs": [],
   "source": [
    "#obtain the last updated intercept for the baseline model\n",
    "intercept += interceptChange\n",
    "#or use the one I found in the past\n",
    "intercept = -9.091369874977811\n",
    "\n",
    "#use this updated intercept from now on\n",
    "def initializeAFib(person, intercept = intercept):\n",
    "    model = load_regression_model(\"BaselineAFibModel\")\n",
    "    model._coefficients[\"Intercept\"] = intercept\n",
    "    #model._coefficients[\"age\"] = model._coefficients[\"age\"]*1\n",
    "    statsModel = StatsModelLogisticRiskFactorModel(model)\n",
    "    return statsModel.estimate_next_risk(person)\n",
    "\n",
    "setattr(module, \"initializeAFib\", initializeAFib)"
   ]
  },
  {
   "cell_type": "code",
   "execution_count": 11,
   "id": "349d31e5-a9a0-4619-af93-96f8cd2cc6ae",
   "metadata": {},
   "outputs": [
    {
     "data": {
      "text/plain": [
       "-9.091369874977811"
      ]
     },
     "execution_count": 11,
     "metadata": {},
     "output_type": "execute_result"
    }
   ],
   "source": [
    "# -9.091369874977811 with population 500000 (and many many hours)\n",
    "# -9.090481572055563 with population 50000 (and a few mins)\n",
    "intercept"
   ]
  },
  {
   "cell_type": "code",
   "execution_count": 12,
   "id": "352d22af-01c3-42fe-a82b-cbd3f7ef8b56",
   "metadata": {},
   "outputs": [
    {
     "data": {
      "image/png": "[encoded data removed]",
      "text/plain": [
       "<Figure size 640x480 with 1 Axes>"
      ]
     },
     "metadata": {},
     "output_type": "display_data"
    }
   ],
   "source": [
    "#let's see what results the latest intercept for the baseline cohort model gives\n",
    "\n",
    "pop = NHANESDirectSamplePopulation(popSize, 2017, rng=rngStream)\n",
    "\n",
    "#do the bin counting for the baseline model\n",
    "ageList = list()\n",
    "afibList = list()\n",
    "for p in pop._people.iloc[:]:\n",
    "    ageList +=  p._age\n",
    "    afibList += p._afib \n",
    "    pDone = len(ageList)\n",
    "    if pDone%100000==0:\n",
    "        print(pDone)\n",
    "        \n",
    "baseAfib = pd.DataFrame(list(zip(ageList,afibList)), columns=[\"age\",\"afib\"])\n",
    "baseAfib[\"age\"]=baseAfib[\"age\"].astype('int')\n",
    "baseAfib[\"ageInterval\"] = pd.cut(baseAfib[\"age\"], bins=[10,55,60,65,70,75,80,85,90,95,100],right=False)\n",
    "\n",
    "baseAfibMeansByAgeGroup = baseAfib.groupby(\"ageInterval\").agg({'afib' : 'mean'})\n",
    "baseAfibMeansByAgeGroup[\"labels\"] = [f\"[{x.left}, {x.right})\" for x in  baseAfibMeansByAgeGroup.index.array]\n",
    "\n",
    "labels = baseAfibMeansByAgeGroup[\"labels\"].values.tolist()[1:]\n",
    "values = [x[0] for x in baseAfibMeansByAgeGroup.values[1:]]\n",
    "reference = [afibRef[i] for i in range(len(labels)) if ~np.isnan(values[i])]\n",
    "\n",
    "fig, ax = plt.subplots()\n",
    "ax.bar(labels, values)\n",
    "for i in range(len(reference)):\n",
    "    ax.scatter(labels[i],reference[i],color=\"black\")\n",
    "plt.xlabel(\"age group\")\n",
    "plt.ylabel(\"mean afib risk\")\n",
    "plt.title(\"nhanes baseline afib model\")\n",
    "plt.show()"
   ]
  },
  {
   "cell_type": "code",
   "execution_count": 13,
   "id": "15d677f5-9a7d-4bb3-881e-316e3eb8cc50",
   "metadata": {},
   "outputs": [],
   "source": [
    "#we will do this now for the cohort afib model\n",
    "\n",
    "#recalibrating the cohort afib model is much more demanding so reduce the population\n",
    "popSize=10000\n",
    "\n",
    "#the difference is that now we need to advance the population and use the data from all person-years\n",
    "module = importlib.import_module(\"microsim.cohort_risk_model_repository\")\n",
    "\n",
    "#I tried adjusting just the intercept using the default statistics model (statsmodellinearprobability) but the results were not good\n",
    "#so now I will adjust both at the same time and switch the model to one that does not depend on a comparison with 0.5\n",
    "#I tried adjusting both the intercept and the age coefficient with the default approach but the results were also not great \n",
    "intercept = load_regression_model(\"afibCohortModel\")._coefficients[\"Intercept\"]\n",
    "interceptStep = 0.25\n",
    "interceptChange = 0\n",
    "\n",
    "ageCoeff = load_regression_model(\"afibCohortModel\")._coefficients[\"age\"]\n",
    "ageStep = 0.003\n",
    "ageChange = 0"
   ]
  },
  {
   "cell_type": "code",
   "execution_count": 14,
   "id": "9aeacec8-72c1-40b4-bb78-1fe849be441f",
   "metadata": {},
   "outputs": [],
   "source": [
    "#define a model that draws from the uniform distribution to determine afib \n",
    "class StatsAfibModel(StatsModelLinearRiskFactorModel):\n",
    "    def __init__(self, regression_model):\n",
    "        super().__init__(regression_model, False)\n",
    "\n",
    "    def estimate_next_risk(self, person, rng=None):\n",
    "        #rng = np.random.default_rng(rng)\n",
    "        linearRisk = super().estimate_next_risk(\n",
    "            person\n",
    "        )\n",
    "        riskWithResidual = linearRisk + self.draw_from_residual_distribution(rng)\n",
    "        return rng.uniform() < riskWithResidual \n",
    "\n",
    "    def estimate_next_risk_vectorized(self, x, rng=None):\n",
    "        #rng = np.random.default_rng(rng)\n",
    "        linearRisk = super().estimate_next_risk_vectorized(x)\n",
    "        riskWithResidual = linearRisk + self.draw_from_residual_distribution(rng)\n",
    "        return rng.uniform()  < riskWithResidual "
   ]
  },
  {
   "cell_type": "code",
   "execution_count": 15,
   "id": "7d204c85-e5ad-4864-9fbd-28c7f5a3aec2",
   "metadata": {},
   "outputs": [],
   "source": [
    "def _initialize_linear_probability_risk_model(self, referenceName, modelName, intercept=intercept, ageCoeff=ageCoeff):\n",
    "    model = load_regression_model(modelName)\n",
    "    if (referenceName==\"afib\"):\n",
    "        model._coefficients[\"Intercept\"] = intercept\n",
    "        model._coefficients[\"age\"] = ageCoeff\n",
    "        self._repository[referenceName] = StatsAfibModel(model)\n",
    "        #self._repository[referenceName] = StatsModelLinearProbabilityRiskFactorModel(model)\n",
    "        #print(\"intercept = \", intercept)\n",
    "    else:\n",
    "        self._repository[referenceName] = StatsModelLinearProbabilityRiskFactorModel(model)\n",
    "    #self._repository[referenceName] = StatsModelLinearProbabilityRiskFactorModel(model)\n",
    "\n",
    "CohortRiskModelRepository._initialize_linear_probability_risk_model = _initialize_linear_probability_risk_model\n",
    "setattr(module, \"CohortRiskModelRepository\", CohortRiskModelRepository)\n",
    "from microsim.cohort_risk_model_repository import CohortRiskModelRepository"
   ]
  },
  {
   "cell_type": "code",
   "execution_count": 16,
   "id": "7302b079-9aa3-417c-b853-830e45735f35",
   "metadata": {},
   "outputs": [
    {
     "data": {
      "image/png": "[encoded data removed]",
      "text/plain": [
       "<Figure size 640x480 with 1 Axes>"
      ]
     },
     "metadata": {},
     "output_type": "display_data"
    }
   ],
   "source": [
    "#let's see what this gives us without making any other changes\n",
    "#so far I have only switched from statsmodellinearprobability to the statsafibmodel above\n",
    "pop = NHANESDirectSamplePopulation(popSize, 2017, rng=rngStream)\n",
    "alive, dead = pop.advance_vectorized(150,rng=rngStream)\n",
    "\n",
    "ageList = list()\n",
    "afibList = list()\n",
    "for p in pop._people.iloc[:]:\n",
    "    ageList +=  p._age[1:]\n",
    "    afibList += p._afib[1:-1] \n",
    "    #pDone = len(ageList)\n",
    "    #if pDone%100000==0:\n",
    "     #   print(pDone)\n",
    "        \n",
    "cohortAfib = pd.DataFrame(list(zip(ageList, afibList)), columns =['age', 'afib'])\n",
    "cohortAfib[\"afib\"]=cohortAfib[\"afib\"].astype('int')\n",
    "cohortAfib[\"age\"]=cohortAfib[\"age\"].astype('int')\n",
    "\n",
    "cohortAfib[\"ageInterval\"] = pd.cut(cohortAfib[\"age\"], bins=[10,55,60,65,70,75,80,85,90,95,100],right=False)\n",
    "cohortAfibMeansByAgeGroup = cohortAfib.groupby(\"ageInterval\").agg({'afib' : 'mean'})\n",
    "cohortAfibMeansByAgeGroup[\"labels\"] = [f\"[{x.left}, {x.right})\" for x in  cohortAfibMeansByAgeGroup.index.array]\n",
    "\n",
    "labels = cohortAfibMeansByAgeGroup[\"labels\"].values.tolist()[1:]\n",
    "values = [x[0] for x in cohortAfibMeansByAgeGroup.values[1:]]\n",
    "reference = [afibRef[i] for i in range(len(labels)) if ~np.isnan(values[i])]\n",
    "\n",
    "fig, ax = plt.subplots()\n",
    "ax.bar(labels, values)\n",
    "for i in range(len(reference)):\n",
    "    ax.scatter(labels[i],reference[i],color=\"black\")\n",
    "plt.xlabel(\"age group\")\n",
    "plt.ylabel(\"mean afib risk\")\n",
    "plt.title(\"nhanes cohort afib model\")\n",
    "plt.show()"
   ]
  },
  {
   "cell_type": "code",
   "execution_count": null,
   "id": "3db8603f-37c8-41b4-96dc-d8965eed4865",
   "metadata": {},
   "outputs": [],
   "source": [
    "#find how far off we are from the GBD prevalence\n",
    "afibSim = cohortAfibMeansByAgeGroup.iloc[1:][\"afib\"].tolist()\n",
    "afibDiff = [x-y for x,y in zip(afibRef,afibSim)]\n",
    "afibDiffWeighted = [x*y for x,y in zip(afibRef,afibDiff)] #not using any weights this time\n",
    "afibDiffWeighted = list(filter(lambda x: ~np.isnan(x), afibDiffWeighted))\n",
    "afibDiffWeightedSum = sum( afibDiffWeighted)\n",
    "\n",
    "#define the changes\n",
    "if (afibDiffWeightedSum>0.):\n",
    "    interceptChange += interceptStep\n",
    "else:\n",
    "    interceptChange += -interceptStep\n",
    "    \n",
    "if (afibDiffWeighted[-2]>afibDiffWeighted[2]):\n",
    "    ageChange += ageStep\n",
    "else:\n",
    "    ageChange += -ageStep"
   ]
  },
  {
   "cell_type": "code",
   "execution_count": null,
   "id": "3ff4fd6a-b06d-44de-b622-80750489272a",
   "metadata": {},
   "outputs": [],
   "source": [
    "for run in range(0,10):\n",
    "\n",
    "    #if (run%10==0):\n",
    "    print(f\"run= {run} intercept= {intercept} step= {interceptStep} change= {interceptChange}\")\n",
    "    print(f\"run= {run} ageCoeff= {ageCoeff} ageStep= {ageStep} ageChange= {ageChange}\")\n",
    "    ageCoeff += ageChange\n",
    "    intercept += interceptChange\n",
    "    \n",
    "    def _initialize_linear_probability_risk_model(self, referenceName, modelName, intercept=intercept, ageCoeff=ageCoeff):\n",
    "        model = load_regression_model(modelName)\n",
    "        if (referenceName==\"afib\"):\n",
    "            model._coefficients[\"Intercept\"] = intercept\n",
    "            model._coefficients[\"age\"] = ageCoeff\n",
    "            self._repository[referenceName] = StatsAfibModel(model)\n",
    "            #self._repository[referenceName] = StatsModelLinearProbabilityRiskFactorModel(model)\n",
    "            #print(\"intercept = \", intercept)\n",
    "        else:\n",
    "            self._repository[referenceName] = StatsModelLinearProbabilityRiskFactorModel(model)\n",
    "        #self._repository[referenceName] = StatsModelLinearProbabilityRiskFactorModel(model)\n",
    "\n",
    "    CohortRiskModelRepository._initialize_linear_probability_risk_model = _initialize_linear_probability_risk_model\n",
    "    setattr(module, \"CohortRiskModelRepository\", CohortRiskModelRepository)\n",
    "    from microsim.cohort_risk_model_repository import CohortRiskModelRepository\n",
    "    \n",
    "    pop = NHANESDirectSamplePopulation(popSize, 2017, rng=rngStream)\n",
    "    alive, dead = pop.advance_vectorized(150,rng=rngStream)\n",
    "\n",
    "    ageList = list()\n",
    "    afibList = list()\n",
    "    for p in pop._people.iloc[:]:\n",
    "        ageList +=  p._age[1:]\n",
    "        afibList += p._afib[1:-1] \n",
    "        #pDone = len(ageList)\n",
    "        #if pDone%100000==0:\n",
    "         #   print(pDone)\n",
    "        \n",
    "    cohortAfib = pd.DataFrame(list(zip(ageList, afibList)), columns =['age', 'afib'])\n",
    "    cohortAfib[\"afib\"]=cohortAfib[\"afib\"].astype('int')\n",
    "    cohortAfib[\"age\"]=cohortAfib[\"age\"].astype('int')\n",
    "\n",
    "    cohortAfib[\"ageInterval\"] = pd.cut(cohortAfib[\"age\"], bins=[10,55,60,65,70,75,80,85,90,95,100],right=False)\n",
    "    cohortAfibMeansByAgeGroup = cohortAfib.groupby(\"ageInterval\").agg({'afib' : 'mean'})\n",
    "    cohortAfibMeansByAgeGroup[\"labels\"] = [f\"[{x.left}, {x.right})\" for x in  cohortAfibMeansByAgeGroup.index.array]\n",
    "\n",
    "    \n",
    "    afibSlopeDiffOld = afibDiffWeighted[-2] - afibDiffWeighted[2]\n",
    "    afibSim = cohortAfibMeansByAgeGroup.iloc[1:][\"afib\"].tolist()\n",
    "    afibDiff = [x-y for x,y in zip(afibRef,afibSim)]\n",
    "    afibDiffWeighted = [x*y for x,y in zip(afibRef,afibDiff)]\n",
    "    #afibDiffWeighted = [y/x for x,y in zip(afibRef,afibDiff)]\n",
    "    afibDiffWeighted = list(filter(lambda x: ~np.isnan(x), afibDiffWeighted))\n",
    "    afibDiffWeightedSumOld = afibDiffWeightedSum\n",
    "    afibDiffWeightedSum = sum( afibDiffWeighted)\n",
    "    afibSlopeDiff = afibDiffWeighted[-2] - afibDiffWeighted[2]\n",
    "\n",
    "    #there are differences here compared to the approach used with the baseline model\n",
    "    if (afibDiffWeightedSum*afibDiffWeightedSumOld<0) :\n",
    "        interceptStep = interceptStep/1.5\n",
    "    if (afibDiffWeightedSum>0.):\n",
    "        interceptChange = interceptStep\n",
    "    else:\n",
    "        interceptChange = -interceptStep\n",
    "    \n",
    "    #if (afibSlopeDiff*afibSlopeDiffOld<0) :\n",
    "    ageStep = ageStep/1.25\n",
    "    if (afibDiffWeighted[-2]>afibDiffWeighted[2]):\n",
    "        ageChange = ageStep\n",
    "    else:\n",
    "        ageChange = -ageStep"
   ]
  },
  {
   "cell_type": "code",
   "execution_count": 17,
   "id": "06930d15-c2e6-4b65-9380-7932d62b328d",
   "metadata": {},
   "outputs": [
    {
     "data": {
      "text/plain": [
       "(-0.2767233118132178, 0.004573159271391613)"
      ]
     },
     "execution_count": 17,
     "metadata": {},
     "output_type": "execute_result"
    }
   ],
   "source": [
    "#obtain the last updated intercept for the cohort model\n",
    "#(-0.2767233118132178, 0.004573159271391613) # treating all absolute diffs equally\n",
    "#(-0.46616291512237573, 0.0072307910943804265) #treating all relative diffs equally\n",
    "intercept += interceptChange\n",
    "ageCoeff += ageChange\n",
    "intercept = -0.2767233118132178\n",
    "ageCoeff = 0.004573159271391613\n",
    "intercept, ageCoeff"
   ]
  },
  {
   "cell_type": "code",
   "execution_count": 18,
   "id": "4be68273-758d-4e29-ba69-04634d11d5e3",
   "metadata": {},
   "outputs": [
    {
     "data": {
      "image/png": "[encoded data removed]",
      "text/plain": [
       "<Figure size 640x480 with 1 Axes>"
      ]
     },
     "metadata": {},
     "output_type": "display_data"
    }
   ],
   "source": [
    "#now let's see what this recalibrated afib model gives us...\n",
    "def _initialize_linear_probability_risk_model(self, referenceName, modelName, intercept=intercept, ageCoeff=ageCoeff):\n",
    "        model = load_regression_model(modelName)\n",
    "        if (referenceName==\"afib\"):\n",
    "            model._coefficients[\"Intercept\"] = intercept\n",
    "            model._coefficients[\"age\"] = ageCoeff\n",
    "            self._repository[referenceName] = StatsAfibModel(model)\n",
    "            #self._repository[referenceName] = StatsModelLinearProbabilityRiskFactorModel(model)\n",
    "            #print(\"intercept = \", intercept)\n",
    "        else:\n",
    "            self._repository[referenceName] = StatsModelLinearProbabilityRiskFactorModel(model)\n",
    "        #self._repository[referenceName] = StatsModelLinearProbabilityRiskFactorModel(model)\n",
    "\n",
    "CohortRiskModelRepository._initialize_linear_probability_risk_model = _initialize_linear_probability_risk_model\n",
    "setattr(module, \"CohortRiskModelRepository\", CohortRiskModelRepository)\n",
    "from microsim.cohort_risk_model_repository import CohortRiskModelRepository\n",
    "    \n",
    "pop = NHANESDirectSamplePopulation(popSize, 2017, rng=rngStream)\n",
    "alive, dead = pop.advance_vectorized(150,rng=rngStream)\n",
    "\n",
    "ageList = list()\n",
    "afibList = list()\n",
    "for p in pop._people.iloc[:]:\n",
    "    ageList +=  p._age[1:]\n",
    "    afibList += p._afib[1:-1] \n",
    "    #pDone = len(ageList)\n",
    "    #if pDone%100000==0:\n",
    "        #   print(pDone)\n",
    "        \n",
    "cohortAfib = pd.DataFrame(list(zip(ageList, afibList)), columns =['age', 'afib'])\n",
    "cohortAfib[\"afib\"]=cohortAfib[\"afib\"].astype('int')\n",
    "cohortAfib[\"age\"]=cohortAfib[\"age\"].astype('int')\n",
    "\n",
    "cohortAfib[\"ageInterval\"] = pd.cut(cohortAfib[\"age\"], bins=[10,55,60,65,70,75,80,85,90,95,100],right=False)\n",
    "cohortAfibMeansByAgeGroup = cohortAfib.groupby(\"ageInterval\").agg({'afib' : 'mean'})\n",
    "cohortAfibMeansByAgeGroup[\"labels\"] = [f\"[{x.left}, {x.right})\" for x in  cohortAfibMeansByAgeGroup.index.array]\n",
    "\n",
    "labels = cohortAfibMeansByAgeGroup[\"labels\"].values.tolist()[1:]\n",
    "values = [x[0] for x in cohortAfibMeansByAgeGroup.values[1:]]\n",
    "reference = [afibRef[i] for i in range(len(labels)) if ~np.isnan(values[i])]\n",
    "\n",
    "fig, ax = plt.subplots()\n",
    "ax.bar(labels, values)\n",
    "for i in range(len(reference)):\n",
    "    ax.scatter(labels[i],reference[i],color=\"black\")\n",
    "plt.xlabel(\"age group\")\n",
    "plt.ylabel(\"mean afib risk\")\n",
    "plt.title(\"nhanes cohort afib model\")\n",
    "plt.show()"
   ]
  },
  {
   "cell_type": "code",
   "execution_count": null,
   "id": "1c3750d7-9b4f-4b5a-a40d-b246ff898c6c",
   "metadata": {},
   "outputs": [],
   "source": []
  },
  {
   "cell_type": "code",
   "execution_count": 19,
   "id": "5a4dbbf8-12de-4e0a-950f-3930a85e8b5d",
   "metadata": {},
   "outputs": [],
   "source": [
    "#and now using this cohort afib model, let's see if this provides a reasonable stroke phenotype model"
   ]
  },
  {
   "cell_type": "code",
   "execution_count": 20,
   "id": "6a9ba85a-721b-40d9-a3d4-e293b701aee8",
   "metadata": {},
   "outputs": [],
   "source": [
    "popSize = 200000\n",
    "pop = NHANESDirectSamplePopulation(popSize, 2017, rng=rngStream)\n",
    "alive, df = pop.advance_vectorized(150, rng=rngStream)"
   ]
  },
  {
   "cell_type": "code",
   "execution_count": 23,
   "id": "01ddebd2-2d7c-4433-8d62-71e4b2bf6fc3",
   "metadata": {},
   "outputs": [],
   "source": [
    "import matplotlib.pyplot as plt\n",
    "from microsim.stroke_outcome import StrokeOutcome, StrokeSubtype, StrokeType\n",
    "from microsim.outcome import OutcomeType"
   ]
  },
  {
   "cell_type": "code",
   "execution_count": 24,
   "id": "4154a1ec-1913-436f-9e9f-9fcd4468b1f6",
   "metadata": {},
   "outputs": [],
   "source": [
    "popIndexWithStroke = []\n",
    "popIndexWithMoreThanOneStroke = []\n",
    "for popIndex in range(popSize):\n",
    "    if pop._people.iloc[popIndex]._stroke:\n",
    "        popIndexWithStroke += [popIndex]\n",
    "        if len(pop._people.iloc[popIndex]._outcomes[OutcomeType.STROKE])>1:\n",
    "            popIndexWithMoreThanOneStroke += [popIndex]\n",
    "            \n",
    "nihssList = []\n",
    "for indexWithStroke in popIndexWithStroke:\n",
    "    for strokeOutcome in pop._people.iloc[indexWithStroke]._outcomes[OutcomeType.STROKE]:\n",
    "        nihssList += [strokeOutcome[1].properties[\"nihss\"]]\n",
    "        \n",
    "strokeTypeList = []\n",
    "for indexWithStroke in popIndexWithStroke:\n",
    "    for strokeOutcome in pop._people.iloc[indexWithStroke]._outcomes[OutcomeType.STROKE]:\n",
    "        strokeTypeList += [strokeOutcome[1].properties[\"strokeType\"]]\n",
    "        \n",
    "strokeSubtypeList = []\n",
    "for indexWithStroke in popIndexWithStroke:\n",
    "    for strokeOutcome in pop._people.iloc[indexWithStroke]._outcomes[OutcomeType.STROKE]:\n",
    "        strokeSubtypeList += [strokeOutcome[1].properties[\"strokeSubtype\"]]\n",
    "        \n",
    "strokePhenotypes = {\"nihss\": nihssList, \"strokeType\": strokeTypeList, \"strokeSubtype\": strokeSubtypeList}\n",
    "strokePhenotypesDF = pd.DataFrame(strokePhenotypes)\n",
    "gcpDict = dict()\n",
    "for i in range(popSize):\n",
    "    gcpDict[i] = np.array(pop._people.iloc[i]._gcp)\n",
    "gcpDF = pd.DataFrame( dict([ (k,pd.Series(v)) for k,v in gcpDict.items() ]))\n",
    "age0DF = pd.DataFrame( dict( [ (x._populationIndex, [x._age[0]]) for x in pop._people ] ), [\"age0\"])\n",
    "maxNStrokes = max([ len(x._outcomes[OutcomeType.STROKE]) for x in pop._people ])\n",
    "strokeAgesDict = dict()\n",
    "for j in range(popSize):\n",
    "    x = pop._people.iloc[j]\n",
    "    strokeAgesDict[j] = np.array( [x._outcomes[OutcomeType.STROKE][i][0] for i in range(len(x._outcomes[OutcomeType.STROKE]))] )\n",
    "strokeAgesDF = pd.DataFrame( dict( [(k,pd.Series(v)) for k,v in strokeAgesDict.items() ]) )\n",
    "strokeAgesDF.index = [f\"stroke{x}Age\" for x in range(maxNStrokes)]\n",
    "dataDF = pd.concat([gcpDF, age0DF, strokeAgesDF])"
   ]
  },
  {
   "cell_type": "code",
   "execution_count": 25,
   "id": "97ab9ee3-6762-408a-8708-8cfbc8e405c7",
   "metadata": {},
   "outputs": [],
   "source": [
    "data = dataDF\n",
    "strokePhenotype = strokePhenotypesDF\n",
    "maxWave = data[:\"age0\"].shape[0]-1\n",
    "strokePhenotypeLabels = {StrokeSubtype.CARDIOEMBOLIC:\"CE\", StrokeSubtype.SMALL_VESSEL:\"SV\", \n",
    "                         StrokeSubtype.OTHER:\"OTHER\", StrokeSubtype.LARGE_VESSEL:\"LV\",\n",
    "                         StrokeType.ISCHEMIC:\"ISC\", StrokeType.ICH:\"ICH\"}\n",
    "strokePhenotype[\"strokeSubtypeLabels\"]=strokePhenotype[\"strokeSubtype\"].replace(strokePhenotypeLabels)\n",
    "strokePhenotype[\"strokeTypeLabels\"]=strokePhenotype[\"strokeType\"].replace(strokePhenotypeLabels)"
   ]
  },
  {
   "cell_type": "code",
   "execution_count": 26,
   "id": "6a4185b7-7eb0-49ca-b536-cc41da2dfb11",
   "metadata": {},
   "outputs": [
    {
     "data": {
      "image/png": "[encoded data removed]",
      "text/plain": [
       "<Figure size 640x480 with 1 Axes>"
      ]
     },
     "metadata": {},
     "output_type": "display_data"
    }
   ],
   "source": [
    "plt.hist(strokePhenotype[\"nihss\"],bins=[x for x in range(0,25)])\n",
    "plt.show()"
   ]
  },
  {
   "cell_type": "code",
   "execution_count": 27,
   "id": "1b908971-a9ee-4226-b30c-314b602d3cdc",
   "metadata": {},
   "outputs": [
    {
     "data": {
      "text/plain": [
       "count    30035.000000\n",
       "mean         5.300716\n",
       "std          4.117279\n",
       "min          0.000000\n",
       "25%          2.000000\n",
       "50%          5.000000\n",
       "75%          8.000000\n",
       "max         23.000000\n",
       "Name: nihss, dtype: float64"
      ]
     },
     "execution_count": 27,
     "metadata": {},
     "output_type": "execute_result"
    }
   ],
   "source": [
    "strokePhenotype[\"nihss\"].describe()"
   ]
  },
  {
   "cell_type": "code",
   "execution_count": 28,
   "id": "8f41ef35-d8f3-41f4-82da-c15be7400754",
   "metadata": {},
   "outputs": [
    {
     "data": {
      "text/plain": [
       "11.0"
      ]
     },
     "execution_count": 28,
     "metadata": {},
     "output_type": "execute_result"
    }
   ],
   "source": [
    "strokePhenotype[\"nihss\"].quantile(q=0.9)"
   ]
  },
  {
   "cell_type": "code",
   "execution_count": 29,
   "id": "d918aedf-4039-4abd-a3c2-b229d0811d82",
   "metadata": {},
   "outputs": [
    {
     "data": {
      "image/png": "[encoded data removed]",
      "text/plain": [
       "<Figure size 640x480 with 1 Axes>"
      ]
     },
     "metadata": {},
     "output_type": "display_data"
    }
   ],
   "source": [
    "plt.hist(strokePhenotype[\"strokeTypeLabels\"])\n",
    "plt.show()"
   ]
  },
  {
   "cell_type": "code",
   "execution_count": 30,
   "id": "3e0bb88a-0767-47f1-85d2-6319752774f9",
   "metadata": {},
   "outputs": [
    {
     "data": {
      "image/png": "[encoded data removed]",
      "text/plain": [
       "<Figure size 640x480 with 1 Axes>"
      ]
     },
     "metadata": {},
     "output_type": "display_data"
    }
   ],
   "source": [
    "plt.hist(strokePhenotype[\"strokeSubtypeLabels\"])\n",
    "plt.show()"
   ]
  },
  {
   "cell_type": "code",
   "execution_count": null,
   "id": "5550e9a0-feb5-4622-a038-20cee24f1521",
   "metadata": {},
   "outputs": [],
   "source": []
  }
 ],
 "metadata": {
  "kernelspec": {
   "display_name": "microsimKernel",
   "language": "python",
   "name": "microsimkernel"
  },
  "language_info": {
   "codemirror_mode": {
    "name": "ipython",
    "version": 3
   },
   "file_extension": ".py",
   "mimetype": "text/x-python",
   "name": "python",
   "nbconvert_exporter": "python",
   "pygments_lexer": "ipython3",
   "version": "3.9.13"
  }
 },
 "nbformat": 4,
 "nbformat_minor": 5
}
