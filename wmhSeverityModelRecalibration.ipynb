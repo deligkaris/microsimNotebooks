{
 "cells": [
  {
   "cell_type": "markdown",
   "id": "9e064dfc-4ad3-46f6-8b26-22823a565e97",
   "metadata": {},
   "source": [
    "The goal of this notebook is to obtain the recalibrated intercepts for the WMH severity ordered logistic model. Parts of this notebook need to be run 3 times, once for each intercept, and the intermediate results obtained need to be added to the WMHSeverityModelRecalibrated class."
   ]
  },
  {
   "cell_type": "code",
   "execution_count": 1,
   "id": "c3857833-d32c-46d9-81d8-66c3b3901029",
   "metadata": {},
   "outputs": [],
   "source": [
    "import numpy as np\n",
    "import pandas as pd\n",
    "import os\n",
    "import matplotlib.pyplot as plt\n",
    "import importlib.util\n",
    "\n",
    "from microsim.population_factory import PopulationFactory\n",
    "from microsim.outcome import OutcomeType\n",
    "from microsim.wmh_severity import WMHSeverityModel, WMHSeverity\n",
    "\n",
    "microsimDir = \"/Users/deligkaris.1/OneDrive - The Ohio State University Wexner Medical Center/MICROSIM/CODE/microsim\"\n",
    "os.chdir(microsimDir)"
   ]
  },
  {
   "cell_type": "code",
   "execution_count": 2,
   "id": "179393d7-efe0-4442-8fe1-ac26a8e62a81",
   "metadata": {},
   "outputs": [],
   "source": [
    "pd.set_option('future.no_silent_downcasting', True) "
   ]
  },
  {
   "cell_type": "code",
   "execution_count": 3,
   "id": "bcac757f-fc62-4bda-b5f4-ea6409002e74",
   "metadata": {},
   "outputs": [
    {
     "name": "stderr",
     "output_type": "stream",
     "text": [
      "/Users/deligkaris.1/Library/CloudStorage/OneDrive-TheOhioStateUniversityWexnerMedicalCenter/MICROSIM/CODE/microsim/microsim/population_factory.py:525: FutureWarning: The behavior of DataFrame concatenation with empty or all-NA entries is deprecated. In a future version, this will no longer exclude empty or all-NA columns when determining the result dtypes. To retain the old behavior, exclude the relevant entries before the concat operation.\n",
      "  df = pd.concat([df,dfForGroup])\n",
      "/Users/deligkaris.1/Library/Caches/pypoetry/virtualenvs/microsim-54NoInYP-py3.9/lib/python3.9/site-packages/numpy/core/fromnumeric.py:59: FutureWarning: 'Series.swapaxes' is deprecated and will be removed in a future version. Please use 'Series.transpose' instead.\n",
      "  return bound(*args, **kwds)\n"
     ]
    }
   ],
   "source": [
    "popSize = 500000\n",
    "pop = PopulationFactory.get_kaiser_population(n=popSize)\n",
    "pop.advance(1, nWorkers=5)"
   ]
  },
  {
   "cell_type": "code",
   "execution_count": 16,
   "id": "e2930b67-0c72-4ac5-a9f4-4b37fe93fe11",
   "metadata": {},
   "outputs": [],
   "source": [
    "class WMHSeverityModelRecalibrated(WMHSeverityModel):\n",
    "    def __init__(self):\n",
    "        pass\n",
    "    def estimate_next_risk(self, person, interceptChange=0.):\n",
    "        lpWithoutIntercept = self.calc_linear_predictor_for_patient_characteristics(\n",
    "            person._gender,\n",
    "            person._raceEthnicity,\n",
    "            person._smokingStatus,\n",
    "            person._statin[-1],\n",
    "            person._afib[-1],\n",
    "            person._pvd[-1],\n",
    "            person._age[-1],\n",
    "            person._sbp[-1],\n",
    "            person._dbp[-1],\n",
    "            person._bmi[-1],\n",
    "            person._anyPhysicalActivity[-1],\n",
    "            person._antiHypertensiveCount[-1],\n",
    "            #person._otherLipidLowering,\n",
    "            person._a1c[-1],\n",
    "            person._totChol[-1],\n",
    "            person._hdl[-1],\n",
    "            person._ldl[-1],\n",
    "            person._trig[-1],\n",
    "            person._creatinine[-1],\n",
    "            person._modality)\n",
    "        \n",
    "        #obtain the linear predictors\n",
    "        #lpNoWMH = lpWithoutIntercept + 8.2116 + interceptChange #start with this\n",
    "        lpNoWMH = lpWithoutIntercept + 8.2116 + -0.26733 #this will be used when the recalibration is done for this intercept\n",
    "        #lpMildWMH = lpWithoutIntercept + interceptChange #in the 2nd iteration use this\n",
    "        lpMildWMH = lpWithoutIntercept + 10.2237 + -0.43271 #and when the 2nd iteration is done use the optimized intercept\n",
    "        lpModerateWMH = lpWithoutIntercept + 11.6124 + interceptChange #in the 3rd iteration use this\n",
    "        #obtain the first three cumulative probabilities for the first three classes, last cumulative probability is 1.\n",
    "        noWMHCumulative = self.inverse_logit(lpNoWMH)\n",
    "        mildWMHCumulative = self.inverse_logit(lpMildWMH)\n",
    "        moderateWMHCumulative = self.inverse_logit(lpModerateWMH)\n",
    "        #make the decision\n",
    "        draw = person._rng.uniform()\n",
    "        if draw<noWMHCumulative:\n",
    "            return WMHSeverity.NO\n",
    "        elif draw<mildWMHCumulative:\n",
    "            return WMHSeverity.MILD\n",
    "        elif draw<moderateWMHCumulative:\n",
    "            return WMHSeverity.MODERATE\n",
    "        elif draw<1.:\n",
    "            return WMHSeverity.SEVERE\n",
    "        else:\n",
    "            raise RuntimeError(\"Draw inconsistent with cumulative probabilities in WMHSeverityModel.\")"
   ]
  },
  {
   "cell_type": "code",
   "execution_count": 17,
   "id": "79ece819-e983-411f-87cd-cf9a8e7bc8bd",
   "metadata": {},
   "outputs": [],
   "source": [
    "kaiserUnknownRate = 0.069\n",
    "kaiserNoRate = 0.7065/(1-kaiserUnknownRate)\n",
    "kaiserMildRate = 0.1715/(1-kaiserUnknownRate)\n",
    "kaiserModerateRate = 0.0378/(1-kaiserUnknownRate)\n",
    "#what rate I am recalibrating, start with No in 1st iteration, then Mild in 2nd, Moderate in 3rd\n",
    "kaiserRate = kaiserModerateRate"
   ]
  },
  {
   "cell_type": "code",
   "execution_count": 12,
   "id": "be99593d-a9a3-4509-b000-c5c98927b73a",
   "metadata": {},
   "outputs": [],
   "source": [
    "def get_rate(people, severity, interceptChange=0):\n",
    "    return np.mean(list(map(lambda x: WMHSeverityModelRecalibrated().estimate_next_risk(x, interceptChange=interceptChange).value==severity, \n",
    "                             list(filter(lambda x: x._outcomes[OutcomeType.WMH][0][1].wmhSeverityUnknown==False, pop._people)))))"
   ]
  },
  {
   "cell_type": "code",
   "execution_count": 18,
   "id": "7a02c1e6-5cdc-42f4-b76f-d00f5edac9eb",
   "metadata": {},
   "outputs": [
    {
     "name": "stdout",
     "output_type": "stream",
     "text": [
      "0.04060150375939849 0.046875336732626754 -0.006273832973228262 -0.5 0.5\n"
     ]
    }
   ],
   "source": [
    "interceptChange=0\n",
    "interceptChangeStep = 0.5\n",
    "simNoRate = get_rate(pop._people, 'no', 0)\n",
    "simMildRate = get_rate(pop._people, 'mild', 0)\n",
    "simModerateRate = get_rate(pop._people, 'moderate', 0)\n",
    "#what rate I am recalibrating, start with No in 1st iteration, then Mild in 2nd, Moderate in 3rd\n",
    "simRate = simModerateRate\n",
    "diff = kaiserRate-simRate\n",
    "if diff>0:\n",
    "    interceptChange += interceptChangeStep\n",
    "else:\n",
    "    interceptChange += -interceptChangeStep\n",
    "print(kaiserRate, simRate, diff, interceptChange, interceptChangeStep)"
   ]
  },
  {
   "cell_type": "code",
   "execution_count": 19,
   "id": "5eafc4dd-3ce2-449c-be71-a6fc9466c216",
   "metadata": {},
   "outputs": [
    {
     "name": "stdout",
     "output_type": "stream",
     "text": [
      "0.04060150375939849 0.040961773034666756 -0.006273832973228262 -0.5 0.5\n",
      "0.04060150375939849 0.030194949333862048 -0.0003602692752682629 -1.0 0.5\n",
      "0.04060150375939849 0.035778784443706926 0.010406554425536445 -0.75 0.25\n",
      "0.04060150375939849 0.04071824799900004 0.004822719315691566 -0.5 0.25\n",
      "0.04060150375939849 0.0392743384954894 -0.0001167442396015489 -0.625 0.125\n",
      "0.04060150375939849 0.03959113655073725 0.0013271652639090942 -0.5625 0.0625\n",
      "0.04060150375939849 0.03991008969479632 0.0010103672086612392 -0.5 0.0625\n",
      "0.04060150375939849 0.041325983043761234 0.0006914140646021721 -0.4375 0.0625\n",
      "0.04060150375939849 0.0407311785318673 -0.0007244792843627418 -0.46875 0.03125\n",
      "0.04060150375939849 0.040112668043050054 -0.00012967477246880743 -0.5 0.03125\n",
      "0.04060150375939849 0.04091220599200893 0.0004888357163484389 -0.484375 0.015625\n",
      "0.04060150375939849 0.040326021835359833 -0.00031070223261044083 -0.4921875 0.0078125\n",
      "0.04060150375939849 0.040767815041657864 0.0002754819240386591 -0.48828125 0.00390625\n",
      "0.04060150375939849 0.04079367610739239 -0.00016631128225937097 -0.490234375 0.001953125\n",
      "0.04060150375939849 0.04049627385144542 -0.000192172347993895 -0.4921875 0.001953125\n",
      "0.04060150375939849 0.04022473266123297 0.00010522990795307219 -0.4912109375 0.0009765625\n",
      "0.04060150375939849 0.040621269002495596 0.0003767710981655223 -0.490234375 0.0009765625\n",
      "0.04060150375939849 0.040285075147946846 -1.9765243097102925e-05 -0.49072265625 0.00048828125\n",
      "0.04060150375939849 0.04031093621368136 0.0003164286114516468 -0.490478515625 0.000244140625\n",
      "0.04060150375939849 0.040785055752147546 0.00029056754571712973 -0.490234375 0.000244140625\n",
      "0.04060150375939849 0.040983323922778855 -0.00018355199274905365 -0.4903564453125 0.0001220703125\n",
      "0.04060150375939849 0.040649285157041325 -0.0003818201633803628 -0.490478515625 0.0001220703125\n",
      "0.04060150375939849 0.040541530716480825 -4.778139764283207e-05 -0.4906005859375 0.0001220703125\n",
      "0.04060150375939849 0.040535065450047196 5.997304291766731e-05 -0.49053955078125 6.103515625e-05\n",
      "0.04060150375939849 0.04080229646263722 6.643830935129658e-05 -0.490478515625 6.103515625e-05\n",
      "0.04060150375939849 0.03997905253675504 -0.00020079270323872939 -0.490509033203125 3.0517578125e-05\n",
      "0.04060150375939849 0.040513514561935096 0.0006224512226434553 -0.4904937744140625 1.52587890625e-05\n",
      "0.04060150375939849 0.04069885219969915 8.798919746339645e-05 -0.490478515625 1.52587890625e-05\n",
      "0.04060150375939849 0.040741953975923346 -9.734844030065415e-05 -0.49048614501953125 7.62939453125e-06\n",
      "0.04060150375939849 0.04062988935774043 -0.0001404502165248539 -0.4904937744140625 7.62939453125e-06\n"
     ]
    }
   ],
   "source": [
    "for i in range(30):\n",
    "    #modify severity with each iteration\n",
    "    simRate =  get_rate(pop._people, 'moderate', interceptChange=interceptChange)\n",
    "    print(kaiserRate, simRate, diff, interceptChange, interceptChangeStep)    \n",
    "    diffOld = diff\n",
    "    diff = kaiserRate-simRate\n",
    "    if diffOld*diff<0:\n",
    "        interceptChangeStep = interceptChangeStep/2.\n",
    "    if diff>0:\n",
    "        interceptChange += interceptChangeStep\n",
    "    else:\n",
    "        interceptChange += -interceptChangeStep"
   ]
  },
  {
   "cell_type": "code",
   "execution_count": 20,
   "id": "7c9a2348-2de8-439e-aee3-6b2cc6af079b",
   "metadata": {},
   "outputs": [
    {
     "data": {
      "text/plain": [
       "(0.758300324556375,\n",
       " 0.7588614393125671,\n",
       " 0.1836502032248749,\n",
       " 0.1842105263157895,\n",
       " 0.046545608144511634,\n",
       " 0.04060150375939849)"
      ]
     },
     "execution_count": 20,
     "metadata": {},
     "output_type": "execute_result"
    }
   ],
   "source": [
    "simNoRate = get_rate(pop._people, 'no', 0)\n",
    "simMildRate = get_rate(pop._people, 'mild', 0)\n",
    "simModerateRate = get_rate(pop._people, 'moderate', 0)\n",
    "simNoRate, kaiserNoRate, simMildRate, kaiserMildRate, simModerateRate, kaiserModerateRate"
   ]
  },
  {
   "cell_type": "code",
   "execution_count": null,
   "id": "cfe0b6d0-5e6a-43ad-9db7-d5d46272da36",
   "metadata": {},
   "outputs": [],
   "source": []
  }
 ],
 "metadata": {
  "kernelspec": {
   "display_name": "microsimKernel",
   "language": "python",
   "name": "microsimkernel"
  },
  "language_info": {
   "codemirror_mode": {
    "name": "ipython",
    "version": 3
   },
   "file_extension": ".py",
   "mimetype": "text/x-python",
   "name": "python",
   "nbconvert_exporter": "python",
   "pygments_lexer": "ipython3",
   "version": "3.9.13"
  }
 },
 "nbformat": 4,
 "nbformat_minor": 5
}
