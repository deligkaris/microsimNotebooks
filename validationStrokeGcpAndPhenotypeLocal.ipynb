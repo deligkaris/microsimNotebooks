{
 "cells": [
  {
   "cell_type": "markdown",
   "id": "dabd90d7-8406-4671-9ba7-2dd56f43d7a4",
   "metadata": {},
   "source": [
    "### Goal of this notebook is to see if the implemented gcp stroke model and the stroke phenotype models are reasonable, meaningful. This notebook runs a simulation and analyzes results."
   ]
  },
  {
   "cell_type": "code",
   "execution_count": 1,
   "id": "758f63f6-0a18-496d-979c-e41f82ea1176",
   "metadata": {},
   "outputs": [],
   "source": [
    "import os\n",
    "import csv\n",
    "import pandas as pd\n",
    "from pandarallel import pandarallel\n",
    "import multiprocessing as mp\n",
    "import numpy as np\n",
    "\n",
    "from microsim.population import NHANESDirectSamplePopulation\n",
    "from microsim.sim_settings import simSettings\n",
    "from microsim.outcome import OutcomeType\n",
    "\n",
    "pandarallel.initialize(verbose=1) #microsim by default now does not initialize pandarallel\n",
    "simSettings.pandarallelFlag = False #with this flag all new population instances will be set to use pandarallel\n",
    "\n",
    "seedSequence = np.random.SeedSequence()\n",
    "rngStream = np.random.default_rng(seed=seedSequence)\n",
    "\n",
    "microsimDir = \"/Users/deligkaris.1/OneDrive - The Ohio State University Wexner Medical Center/MICROSIM/CODE/microsim\"\n",
    "os.chdir(microsimDir)\n",
    "\n",
    "popSize = 50000\n",
    "pop = NHANESDirectSamplePopulation(popSize, 2017, rng=rngStream)\n",
    "alive, df = pop.advance_vectorized(150, rng=rngStream)\n"
   ]
  },
  {
   "cell_type": "code",
   "execution_count": null,
   "id": "35a02d56-88b8-442d-9485-810893a529fa",
   "metadata": {},
   "outputs": [],
   "source": [
    "#alive[[\"gcp\",\"baseGcp\", \"gcp0\", \"gcp1\", \"gcp2\", \"gcp3\", \"gcp4\",\"gcp5\",\"meanGcp\"]].head()"
   ]
  },
  {
   "cell_type": "code",
   "execution_count": 2,
   "id": "dfe852ff-de9d-44fb-b89c-063531c77793",
   "metadata": {},
   "outputs": [],
   "source": [
    "import matplotlib.pyplot as plt\n",
    "from microsim.stroke_outcome import StrokeOutcome, StrokeSubtype, StrokeType"
   ]
  },
  {
   "cell_type": "code",
   "execution_count": 3,
   "id": "7a93815d-3ac6-4f4c-8fe7-39761a637074",
   "metadata": {},
   "outputs": [],
   "source": [
    "popIndexWithStroke = []\n",
    "popIndexWithMoreThanOneStroke = []\n",
    "for popIndex in range(popSize):\n",
    "    if pop._people.iloc[popIndex]._stroke:\n",
    "        popIndexWithStroke += [popIndex]\n",
    "        if len(pop._people.iloc[popIndex]._outcomes[OutcomeType.STROKE])>1:\n",
    "            popIndexWithMoreThanOneStroke += [popIndex]\n",
    "            \n",
    "nihssList = []\n",
    "for indexWithStroke in popIndexWithStroke:\n",
    "    for strokeOutcome in pop._people.iloc[indexWithStroke]._outcomes[OutcomeType.STROKE]:\n",
    "        nihssList += [strokeOutcome[1].properties[\"nihss\"]]\n",
    "        \n",
    "strokeTypeList = []\n",
    "for indexWithStroke in popIndexWithStroke:\n",
    "    for strokeOutcome in pop._people.iloc[indexWithStroke]._outcomes[OutcomeType.STROKE]:\n",
    "        strokeTypeList += [strokeOutcome[1].properties[\"strokeType\"]]\n",
    "        \n",
    "strokeSubtypeList = []\n",
    "for indexWithStroke in popIndexWithStroke:\n",
    "    for strokeOutcome in pop._people.iloc[indexWithStroke]._outcomes[OutcomeType.STROKE]:\n",
    "        strokeSubtypeList += [strokeOutcome[1].properties[\"strokeSubtype\"]]\n",
    "        \n",
    "strokePhenotypes = {\"nihss\": nihssList, \"strokeType\": strokeTypeList, \"strokeSubtype\": strokeSubtypeList}\n",
    "strokePhenotypesDF = pd.DataFrame(strokePhenotypes)\n",
    "gcpDict = dict()\n",
    "for i in range(popSize):\n",
    "    gcpDict[i] = np.array(pop._people.iloc[i]._gcp)\n",
    "gcpDF = pd.DataFrame( dict([ (k,pd.Series(v)) for k,v in gcpDict.items() ]))\n",
    "age0DF = pd.DataFrame( dict( [ (x._populationIndex, [x._age[0]]) for x in pop._people ] ), [\"age0\"])\n",
    "maxNStrokes = max([ len(x._outcomes[OutcomeType.STROKE]) for x in pop._people ])\n",
    "strokeAgesDict = dict()\n",
    "for j in range(popSize):\n",
    "    x = pop._people.iloc[j]\n",
    "    strokeAgesDict[j] = np.array( [x._outcomes[OutcomeType.STROKE][i][0] for i in range(len(x._outcomes[OutcomeType.STROKE]))] )\n",
    "strokeAgesDF = pd.DataFrame( dict( [(k,pd.Series(v)) for k,v in strokeAgesDict.items() ]) )\n",
    "strokeAgesDF.index = [f\"stroke{x}Age\" for x in range(maxNStrokes)]\n",
    "dataDF = pd.concat([gcpDF, age0DF, strokeAgesDF])"
   ]
  },
  {
   "cell_type": "code",
   "execution_count": 4,
   "id": "85c04897-b6d2-40af-a609-b4d010c41716",
   "metadata": {},
   "outputs": [
    {
     "data": {
      "text/html": [
       "<div>\n",
       "<style scoped>\n",
       "    .dataframe tbody tr th:only-of-type {\n",
       "        vertical-align: middle;\n",
       "    }\n",
       "\n",
       "    .dataframe tbody tr th {\n",
       "        vertical-align: top;\n",
       "    }\n",
       "\n",
       "    .dataframe thead th {\n",
       "        text-align: right;\n",
       "    }\n",
       "</style>\n",
       "<table border=\"1\" class=\"dataframe\">\n",
       "  <thead>\n",
       "    <tr style=\"text-align: right;\">\n",
       "      <th></th>\n",
       "      <th>0</th>\n",
       "      <th>1</th>\n",
       "      <th>2</th>\n",
       "      <th>3</th>\n",
       "      <th>4</th>\n",
       "      <th>5</th>\n",
       "      <th>6</th>\n",
       "      <th>7</th>\n",
       "      <th>8</th>\n",
       "      <th>9</th>\n",
       "      <th>...</th>\n",
       "      <th>49990</th>\n",
       "      <th>49991</th>\n",
       "      <th>49992</th>\n",
       "      <th>49993</th>\n",
       "      <th>49994</th>\n",
       "      <th>49995</th>\n",
       "      <th>49996</th>\n",
       "      <th>49997</th>\n",
       "      <th>49998</th>\n",
       "      <th>49999</th>\n",
       "    </tr>\n",
       "  </thead>\n",
       "  <tbody>\n",
       "    <tr>\n",
       "      <th>0</th>\n",
       "      <td>68.391158</td>\n",
       "      <td>66.669910</td>\n",
       "      <td>60.811825</td>\n",
       "      <td>60.059288</td>\n",
       "      <td>53.490633</td>\n",
       "      <td>66.634348</td>\n",
       "      <td>47.293387</td>\n",
       "      <td>46.016855</td>\n",
       "      <td>63.594022</td>\n",
       "      <td>46.860314</td>\n",
       "      <td>...</td>\n",
       "      <td>58.306538</td>\n",
       "      <td>47.284205</td>\n",
       "      <td>68.590912</td>\n",
       "      <td>57.029365</td>\n",
       "      <td>64.075198</td>\n",
       "      <td>59.893019</td>\n",
       "      <td>49.201159</td>\n",
       "      <td>70.360679</td>\n",
       "      <td>72.020100</td>\n",
       "      <td>67.017425</td>\n",
       "    </tr>\n",
       "    <tr>\n",
       "      <th>1</th>\n",
       "      <td>68.207643</td>\n",
       "      <td>57.277894</td>\n",
       "      <td>65.745414</td>\n",
       "      <td>73.686301</td>\n",
       "      <td>61.275361</td>\n",
       "      <td>65.543400</td>\n",
       "      <td>50.331013</td>\n",
       "      <td>42.654658</td>\n",
       "      <td>82.324510</td>\n",
       "      <td>52.357438</td>\n",
       "      <td>...</td>\n",
       "      <td>60.359117</td>\n",
       "      <td>65.202761</td>\n",
       "      <td>55.359067</td>\n",
       "      <td>52.884930</td>\n",
       "      <td>61.915595</td>\n",
       "      <td>68.338777</td>\n",
       "      <td>62.090986</td>\n",
       "      <td>61.115823</td>\n",
       "      <td>64.348515</td>\n",
       "      <td>77.387249</td>\n",
       "    </tr>\n",
       "    <tr>\n",
       "      <th>2</th>\n",
       "      <td>76.078133</td>\n",
       "      <td>58.728785</td>\n",
       "      <td>59.933599</td>\n",
       "      <td>55.090038</td>\n",
       "      <td>56.526805</td>\n",
       "      <td>64.589550</td>\n",
       "      <td>40.138062</td>\n",
       "      <td>50.848692</td>\n",
       "      <td>59.400458</td>\n",
       "      <td>49.090219</td>\n",
       "      <td>...</td>\n",
       "      <td>36.656093</td>\n",
       "      <td>52.295924</td>\n",
       "      <td>64.059538</td>\n",
       "      <td>62.373119</td>\n",
       "      <td>54.847559</td>\n",
       "      <td>59.983904</td>\n",
       "      <td>44.163822</td>\n",
       "      <td>56.326106</td>\n",
       "      <td>60.138025</td>\n",
       "      <td>77.212089</td>\n",
       "    </tr>\n",
       "    <tr>\n",
       "      <th>3</th>\n",
       "      <td>58.433790</td>\n",
       "      <td>58.547443</td>\n",
       "      <td>66.330509</td>\n",
       "      <td>75.897609</td>\n",
       "      <td>70.887828</td>\n",
       "      <td>57.506156</td>\n",
       "      <td>59.071127</td>\n",
       "      <td>46.263421</td>\n",
       "      <td>59.675137</td>\n",
       "      <td>37.689533</td>\n",
       "      <td>...</td>\n",
       "      <td>62.757896</td>\n",
       "      <td>55.366603</td>\n",
       "      <td>56.491215</td>\n",
       "      <td>55.068070</td>\n",
       "      <td>50.239446</td>\n",
       "      <td>70.807245</td>\n",
       "      <td>57.990220</td>\n",
       "      <td>61.788552</td>\n",
       "      <td>70.700866</td>\n",
       "      <td>60.606232</td>\n",
       "    </tr>\n",
       "    <tr>\n",
       "      <th>4</th>\n",
       "      <td>62.230972</td>\n",
       "      <td>74.182376</td>\n",
       "      <td>60.300530</td>\n",
       "      <td>53.665477</td>\n",
       "      <td>48.596338</td>\n",
       "      <td>61.213973</td>\n",
       "      <td>52.417085</td>\n",
       "      <td>36.783746</td>\n",
       "      <td>59.832411</td>\n",
       "      <td>47.555601</td>\n",
       "      <td>...</td>\n",
       "      <td>44.265067</td>\n",
       "      <td>56.998830</td>\n",
       "      <td>60.138282</td>\n",
       "      <td>55.071247</td>\n",
       "      <td>51.845742</td>\n",
       "      <td>60.649151</td>\n",
       "      <td>37.517367</td>\n",
       "      <td>66.739545</td>\n",
       "      <td>66.453611</td>\n",
       "      <td>59.469901</td>\n",
       "    </tr>\n",
       "  </tbody>\n",
       "</table>\n",
       "<p>5 rows × 50000 columns</p>\n",
       "</div>"
      ],
      "text/plain": [
       "       0          1          2          3          4          5      \\\n",
       "0  68.391158  66.669910  60.811825  60.059288  53.490633  66.634348   \n",
       "1  68.207643  57.277894  65.745414  73.686301  61.275361  65.543400   \n",
       "2  76.078133  58.728785  59.933599  55.090038  56.526805  64.589550   \n",
       "3  58.433790  58.547443  66.330509  75.897609  70.887828  57.506156   \n",
       "4  62.230972  74.182376  60.300530  53.665477  48.596338  61.213973   \n",
       "\n",
       "       6          7          8          9      ...      49990      49991  \\\n",
       "0  47.293387  46.016855  63.594022  46.860314  ...  58.306538  47.284205   \n",
       "1  50.331013  42.654658  82.324510  52.357438  ...  60.359117  65.202761   \n",
       "2  40.138062  50.848692  59.400458  49.090219  ...  36.656093  52.295924   \n",
       "3  59.071127  46.263421  59.675137  37.689533  ...  62.757896  55.366603   \n",
       "4  52.417085  36.783746  59.832411  47.555601  ...  44.265067  56.998830   \n",
       "\n",
       "       49992      49993      49994      49995      49996      49997  \\\n",
       "0  68.590912  57.029365  64.075198  59.893019  49.201159  70.360679   \n",
       "1  55.359067  52.884930  61.915595  68.338777  62.090986  61.115823   \n",
       "2  64.059538  62.373119  54.847559  59.983904  44.163822  56.326106   \n",
       "3  56.491215  55.068070  50.239446  70.807245  57.990220  61.788552   \n",
       "4  60.138282  55.071247  51.845742  60.649151  37.517367  66.739545   \n",
       "\n",
       "       49998      49999  \n",
       "0  72.020100  67.017425  \n",
       "1  64.348515  77.387249  \n",
       "2  60.138025  77.212089  \n",
       "3  70.700866  60.606232  \n",
       "4  66.453611  59.469901  \n",
       "\n",
       "[5 rows x 50000 columns]"
      ]
     },
     "execution_count": 4,
     "metadata": {},
     "output_type": "execute_result"
    }
   ],
   "source": [
    "data = dataDF\n",
    "data.head()"
   ]
  },
  {
   "cell_type": "code",
   "execution_count": 5,
   "id": "07127c4e-aabe-4bd4-94eb-6f6f984a6800",
   "metadata": {},
   "outputs": [
    {
     "data": {
      "text/html": [
       "<div>\n",
       "<style scoped>\n",
       "    .dataframe tbody tr th:only-of-type {\n",
       "        vertical-align: middle;\n",
       "    }\n",
       "\n",
       "    .dataframe tbody tr th {\n",
       "        vertical-align: top;\n",
       "    }\n",
       "\n",
       "    .dataframe thead th {\n",
       "        text-align: right;\n",
       "    }\n",
       "</style>\n",
       "<table border=\"1\" class=\"dataframe\">\n",
       "  <thead>\n",
       "    <tr style=\"text-align: right;\">\n",
       "      <th></th>\n",
       "      <th>nihss</th>\n",
       "      <th>strokeType</th>\n",
       "      <th>strokeSubtype</th>\n",
       "    </tr>\n",
       "  </thead>\n",
       "  <tbody>\n",
       "    <tr>\n",
       "      <th>0</th>\n",
       "      <td>6.0</td>\n",
       "      <td>StrokeType.ICH</td>\n",
       "      <td>StrokeSubtype.CARDIOEMBOLIC</td>\n",
       "    </tr>\n",
       "    <tr>\n",
       "      <th>1</th>\n",
       "      <td>6.0</td>\n",
       "      <td>StrokeType.ICH</td>\n",
       "      <td>StrokeSubtype.OTHER</td>\n",
       "    </tr>\n",
       "    <tr>\n",
       "      <th>2</th>\n",
       "      <td>3.0</td>\n",
       "      <td>StrokeType.ISCHEMIC</td>\n",
       "      <td>StrokeSubtype.OTHER</td>\n",
       "    </tr>\n",
       "    <tr>\n",
       "      <th>3</th>\n",
       "      <td>6.0</td>\n",
       "      <td>StrokeType.ISCHEMIC</td>\n",
       "      <td>StrokeSubtype.CARDIOEMBOLIC</td>\n",
       "    </tr>\n",
       "    <tr>\n",
       "      <th>4</th>\n",
       "      <td>7.0</td>\n",
       "      <td>StrokeType.ICH</td>\n",
       "      <td>StrokeSubtype.CARDIOEMBOLIC</td>\n",
       "    </tr>\n",
       "  </tbody>\n",
       "</table>\n",
       "</div>"
      ],
      "text/plain": [
       "   nihss           strokeType                strokeSubtype\n",
       "0    6.0       StrokeType.ICH  StrokeSubtype.CARDIOEMBOLIC\n",
       "1    6.0       StrokeType.ICH          StrokeSubtype.OTHER\n",
       "2    3.0  StrokeType.ISCHEMIC          StrokeSubtype.OTHER\n",
       "3    6.0  StrokeType.ISCHEMIC  StrokeSubtype.CARDIOEMBOLIC\n",
       "4    7.0       StrokeType.ICH  StrokeSubtype.CARDIOEMBOLIC"
      ]
     },
     "execution_count": 5,
     "metadata": {},
     "output_type": "execute_result"
    }
   ],
   "source": [
    "strokePhenotype = strokePhenotypesDF\n",
    "strokePhenotype.head()"
   ]
  },
  {
   "cell_type": "code",
   "execution_count": 6,
   "id": "943a369d-0c69-45d5-8e8d-e062b353a664",
   "metadata": {},
   "outputs": [
    {
     "data": {
      "text/plain": [
       "91"
      ]
     },
     "execution_count": 6,
     "metadata": {},
     "output_type": "execute_result"
    }
   ],
   "source": [
    "maxWave = data[:\"age0\"].shape[0]-1\n",
    "maxWave"
   ]
  },
  {
   "cell_type": "code",
   "execution_count": 7,
   "id": "ca4f64ca-855f-4c1d-b22a-01c8182fbe30",
   "metadata": {},
   "outputs": [],
   "source": [
    "strokePhenotypeLabels = {StrokeSubtype.CARDIOEMBOLIC:\"CE\", StrokeSubtype.SMALL_VESSEL:\"SV\", \n",
    "                         StrokeSubtype.OTHER:\"OTHER\", StrokeSubtype.LARGE_VESSEL:\"LV\",\n",
    "                         StrokeType.ISCHEMIC:\"ISC\", StrokeType.ICH:\"ICH\"}"
   ]
  },
  {
   "cell_type": "code",
   "execution_count": 8,
   "id": "48d32608-fe9c-41cf-9be5-ea2721ffa959",
   "metadata": {},
   "outputs": [],
   "source": [
    "strokePhenotype[\"strokeSubtypeLabels\"]=strokePhenotype[\"strokeSubtype\"].replace(strokePhenotypeLabels)\n",
    "strokePhenotype[\"strokeTypeLabels\"]=strokePhenotype[\"strokeType\"].replace(strokePhenotypeLabels)"
   ]
  },
  {
   "cell_type": "code",
   "execution_count": 9,
   "id": "68e565fe-1b49-463b-90df-a319f1621577",
   "metadata": {},
   "outputs": [
    {
     "data": {
      "text/html": [
       "<div>\n",
       "<style scoped>\n",
       "    .dataframe tbody tr th:only-of-type {\n",
       "        vertical-align: middle;\n",
       "    }\n",
       "\n",
       "    .dataframe tbody tr th {\n",
       "        vertical-align: top;\n",
       "    }\n",
       "\n",
       "    .dataframe thead th {\n",
       "        text-align: right;\n",
       "    }\n",
       "</style>\n",
       "<table border=\"1\" class=\"dataframe\">\n",
       "  <thead>\n",
       "    <tr style=\"text-align: right;\">\n",
       "      <th></th>\n",
       "      <th>nihss</th>\n",
       "      <th>strokeType</th>\n",
       "      <th>strokeSubtype</th>\n",
       "      <th>strokeSubtypeLabels</th>\n",
       "      <th>strokeTypeLabels</th>\n",
       "    </tr>\n",
       "  </thead>\n",
       "  <tbody>\n",
       "    <tr>\n",
       "      <th>0</th>\n",
       "      <td>6.0</td>\n",
       "      <td>StrokeType.ICH</td>\n",
       "      <td>StrokeSubtype.CARDIOEMBOLIC</td>\n",
       "      <td>CE</td>\n",
       "      <td>ICH</td>\n",
       "    </tr>\n",
       "    <tr>\n",
       "      <th>1</th>\n",
       "      <td>6.0</td>\n",
       "      <td>StrokeType.ICH</td>\n",
       "      <td>StrokeSubtype.OTHER</td>\n",
       "      <td>OTHER</td>\n",
       "      <td>ICH</td>\n",
       "    </tr>\n",
       "    <tr>\n",
       "      <th>2</th>\n",
       "      <td>3.0</td>\n",
       "      <td>StrokeType.ISCHEMIC</td>\n",
       "      <td>StrokeSubtype.OTHER</td>\n",
       "      <td>OTHER</td>\n",
       "      <td>ISC</td>\n",
       "    </tr>\n",
       "    <tr>\n",
       "      <th>3</th>\n",
       "      <td>6.0</td>\n",
       "      <td>StrokeType.ISCHEMIC</td>\n",
       "      <td>StrokeSubtype.CARDIOEMBOLIC</td>\n",
       "      <td>CE</td>\n",
       "      <td>ISC</td>\n",
       "    </tr>\n",
       "    <tr>\n",
       "      <th>4</th>\n",
       "      <td>7.0</td>\n",
       "      <td>StrokeType.ICH</td>\n",
       "      <td>StrokeSubtype.CARDIOEMBOLIC</td>\n",
       "      <td>CE</td>\n",
       "      <td>ICH</td>\n",
       "    </tr>\n",
       "  </tbody>\n",
       "</table>\n",
       "</div>"
      ],
      "text/plain": [
       "   nihss           strokeType                strokeSubtype  \\\n",
       "0    6.0       StrokeType.ICH  StrokeSubtype.CARDIOEMBOLIC   \n",
       "1    6.0       StrokeType.ICH          StrokeSubtype.OTHER   \n",
       "2    3.0  StrokeType.ISCHEMIC          StrokeSubtype.OTHER   \n",
       "3    6.0  StrokeType.ISCHEMIC  StrokeSubtype.CARDIOEMBOLIC   \n",
       "4    7.0       StrokeType.ICH  StrokeSubtype.CARDIOEMBOLIC   \n",
       "\n",
       "  strokeSubtypeLabels strokeTypeLabels  \n",
       "0                  CE              ICH  \n",
       "1               OTHER              ICH  \n",
       "2               OTHER              ISC  \n",
       "3                  CE              ISC  \n",
       "4                  CE              ICH  "
      ]
     },
     "execution_count": 9,
     "metadata": {},
     "output_type": "execute_result"
    }
   ],
   "source": [
    "strokePhenotype.head()"
   ]
  },
  {
   "cell_type": "code",
   "execution_count": 21,
   "id": "9e137b27-2e54-4914-8a3b-93e63bd78911",
   "metadata": {},
   "outputs": [
    {
     "data": {
      "image/png": "[encoded data removed]",
      "text/plain": [
       "<Figure size 640x480 with 1 Axes>"
      ]
     },
     "metadata": {},
     "output_type": "display_data"
    }
   ],
   "source": [
    "plt.hist(strokePhenotype[\"nihss\"],bins=[x for x in range(0,25)])\n",
    "plt.show()"
   ]
  },
  {
   "cell_type": "code",
   "execution_count": 23,
   "id": "6115ffde-0eb4-4b07-99b6-18338c910459",
   "metadata": {},
   "outputs": [
    {
     "data": {
      "text/plain": [
       "count    7415.000000\n",
       "mean        5.031423\n",
       "std         3.997094\n",
       "min         0.000000\n",
       "25%         2.000000\n",
       "50%         5.000000\n",
       "75%         8.000000\n",
       "max        24.000000\n",
       "Name: nihss, dtype: float64"
      ]
     },
     "execution_count": 23,
     "metadata": {},
     "output_type": "execute_result"
    }
   ],
   "source": [
    "strokePhenotype[\"nihss\"].describe()"
   ]
  },
  {
   "cell_type": "code",
   "execution_count": 24,
   "id": "702995c2-ca40-437e-a850-3413c37ad495",
   "metadata": {},
   "outputs": [
    {
     "data": {
      "text/plain": [
       "11.0"
      ]
     },
     "execution_count": 24,
     "metadata": {},
     "output_type": "execute_result"
    }
   ],
   "source": [
    "strokePhenotype[\"nihss\"].quantile(q=0.9)"
   ]
  },
  {
   "cell_type": "code",
   "execution_count": null,
   "id": "e9eae330-0340-4c14-a043-6f6f9b82bf28",
   "metadata": {},
   "outputs": [],
   "source": [
    "plt.hist(strokePhenotype[\"strokeTypeLabels\"])\n",
    "plt.show()"
   ]
  },
  {
   "cell_type": "code",
   "execution_count": null,
   "id": "a802ed26-063b-471c-accb-a99125314524",
   "metadata": {},
   "outputs": [],
   "source": [
    "plt.hist(strokePhenotype[\"strokeSubtypeLabels\"])\n",
    "plt.show()"
   ]
  },
  {
   "cell_type": "code",
   "execution_count": null,
   "id": "01b2ddb8-34d2-4d90-bb5b-70cd762ede4f",
   "metadata": {},
   "outputs": [],
   "source": [
    "data.loc[\"stroke0Wave\"] = data.loc[\"stroke0Age\"] - data.loc[\"age0\"].astype('int')"
   ]
  },
  {
   "cell_type": "code",
   "execution_count": null,
   "id": "7ec5c523-3e3f-4c52-9884-49c1bdbdac8d",
   "metadata": {},
   "outputs": [],
   "source": [
    "def get_prestroke_gcp(x):\n",
    "    return  ([None] #[np.array([None for i in range(maxWave)])] \n",
    "            if pd.isna(x[\"stroke0Wave\"]) \n",
    "            else [np.array(x.iloc[:x[\"stroke0Wave\"].astype('int')+1])])\n",
    "\n",
    "def get_poststroke_gcp(x):\n",
    "    return ([None] #[np.array([None for i in range(maxWave)])] \n",
    "            if pd.isna(x[\"stroke0Wave\"]) \n",
    "            else [np.array(x.iloc[x[\"stroke0Wave\"].astype('int')+1:maxWave])])"
   ]
  },
  {
   "cell_type": "code",
   "execution_count": null,
   "id": "ba616f03-edf4-4e24-b733-35680ccb9f00",
   "metadata": {},
   "outputs": [],
   "source": [
    "gcpPreStroke0 = data.apply(get_prestroke_gcp)\n",
    "gcpPreStroke0.index=[\"gcpPreStroke0\"]\n",
    "gcpPostStroke0 = data.apply(get_poststroke_gcp)\n",
    "gcpPostStroke0.index = [\"gcpPostStroke0\"]\n",
    "data=pd.concat([data,gcpPreStroke0,gcpPostStroke0])\n",
    "\n",
    "indexWithStroke = gcpPreStroke0.notnull().loc[\"gcpPreStroke0\"]"
   ]
  },
  {
   "cell_type": "code",
   "execution_count": null,
   "id": "0464a322-778c-475d-88f0-a4428b53ebb7",
   "metadata": {},
   "outputs": [],
   "source": [
    "gcpPreStroke0Series = gcpPreStroke0.loc[\"gcpPreStroke0\",gcpPreStroke0.notnull().loc[\"gcpPreStroke0\"]]\n",
    "\n",
    "gcpPostStroke0Series = gcpPostStroke0.loc[\"gcpPostStroke0\",gcpPostStroke0.notnull().loc[\"gcpPostStroke0\"]]"
   ]
  },
  {
   "cell_type": "code",
   "execution_count": null,
   "id": "bf1c75ef-942e-49ba-bdde-f8a4ae1b2a1f",
   "metadata": {},
   "outputs": [],
   "source": [
    "gcpPreStroke0DF = pd.DataFrame( dict([ (k, pd.Series(v).iloc[::-1].reset_index(drop=True)) for k,v in gcpPreStroke0Series.items() ]))\n",
    "gcpPreStroke0DF.head()"
   ]
  },
  {
   "cell_type": "code",
   "execution_count": null,
   "id": "298756f9-3f07-4ca0-bb0e-4ac56ed5128a",
   "metadata": {},
   "outputs": [],
   "source": [
    "gcpPostStroke0DF = pd.DataFrame( dict([ (k, pd.Series(v).iloc[::1].reset_index(drop=True)) for k,v in gcpPostStroke0Series.items() ]))\n",
    "gcpPostStroke0DF.head()"
   ]
  },
  {
   "cell_type": "code",
   "execution_count": null,
   "id": "e0451f2a-9b0c-4471-964a-dd3049c44198",
   "metadata": {},
   "outputs": [],
   "source": [
    "gcpPreStroke0DF[\"mean\"] = gcpPreStroke0DF.mean(axis=1)\n",
    "gcpPostStroke0DF[\"mean\"] = gcpPostStroke0DF.mean(axis=1)"
   ]
  },
  {
   "cell_type": "code",
   "execution_count": null,
   "id": "bc75cbb4-e883-40d6-ab46-5874fb1a98cb",
   "metadata": {},
   "outputs": [],
   "source": [
    "meanGcpPreStroke0 = gcpPreStroke0DF[\"mean\"].iloc[::-1].tolist() \n",
    "meanGcpPostStroke0 = gcpPostStroke0DF[\"mean\"].tolist()\n",
    "meanGcp = meanGcpPreStroke0 + meanGcpPostStroke0 \n",
    "time = [i for i in range(-len(meanGcpPreStroke0),1)] + [i for i in range(1,len(meanGcpPostStroke0))] "
   ]
  },
  {
   "cell_type": "code",
   "execution_count": null,
   "id": "0f7f4822-1719-4f7e-b1b8-4d6d3bd0b6bc",
   "metadata": {},
   "outputs": [],
   "source": [
    "plt.scatter(time,meanGcp)\n",
    "plt.title(\"mean gcp of the stroke cohort\")\n",
    "plt.xlabel(\"time (0=year of stroke)\")\n",
    "plt.show()"
   ]
  },
  {
   "cell_type": "code",
   "execution_count": null,
   "id": "173b0614-0743-4d12-b511-6ca818fce773",
   "metadata": {},
   "outputs": [],
   "source": []
  }
 ],
 "metadata": {
  "kernelspec": {
   "display_name": "microsimKernel",
   "language": "python",
   "name": "microsimkernel"
  },
  "language_info": {
   "codemirror_mode": {
    "name": "ipython",
    "version": 3
   },
   "file_extension": ".py",
   "mimetype": "text/x-python",
   "name": "python",
   "nbconvert_exporter": "python",
   "pygments_lexer": "ipython3",
   "version": "3.9.13"
  }
 },
 "nbformat": 4,
 "nbformat_minor": 5
}
