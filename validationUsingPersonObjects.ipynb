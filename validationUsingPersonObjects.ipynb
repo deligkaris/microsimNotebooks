{
 "cells": [
  {
   "cell_type": "code",
   "execution_count": 1,
   "id": "52506689-9a99-4656-9f3c-4260c43cc769",
   "metadata": {},
   "outputs": [],
   "source": [
    "import os\n",
    "import copy\n",
    "import pandas as pd\n",
    "pd.set_option('display.max_columns', None)\n",
    "pd.set_option('display.max_rows', None)\n",
    "from pandarallel import pandarallel\n",
    "import numpy as np\n",
    "import matplotlib.pyplot as plt\n",
    "\n",
    "from microsim.population import NHANESDirectSamplePopulation\n",
    "\n",
    "microsimDir = \"/Users/deligkaris.1/OneDrive - The Ohio State University Wexner Medical Center/MICROSIM/CODE/microsim\"\n",
    "os.chdir(microsimDir)"
   ]
  },
  {
   "cell_type": "code",
   "execution_count": 2,
   "id": "3059ac23-c3e8-41bd-83b4-b73bb4622f1b",
   "metadata": {},
   "outputs": [],
   "source": [
    "#from microsim.sim_settings import simSettings\n",
    "#pandarallel.initialize(verbose=1) #microsim by default now does not initialize pandarallel\n",
    "#simSettings.pandarallelFlag = True #with this flag all new population instances will be set to use pandarallel\n",
    "#seedSequence = np.random.SeedSequence()\n",
    "#rngStream = np.random.default_rng(seed=seedSequence)\n",
    "#from microsim.bp_treatment_strategies import AddASingleBPMedTreatmentStrategy"
   ]
  },
  {
   "cell_type": "code",
   "execution_count": 3,
   "id": "aae0fe02-878c-4301-b2a0-c9c4a05f4b62",
   "metadata": {},
   "outputs": [
    {
     "name": "stdout",
     "output_type": "stream",
     "text": [
      "CPU times: user 3.94 s, sys: 35.5 ms, total: 3.98 s\n",
      "Wall time: 3.98 s\n"
     ]
    }
   ],
   "source": [
    "%%time\n",
    "popSize = 10000\n",
    "nYears = 18\n",
    "pop = NHANESDirectSamplePopulation(popSize, 1999)"
   ]
  },
  {
   "cell_type": "code",
   "execution_count": null,
   "id": "bf8db2a4-6c66-4a85-8fe9-1869c4324ca1",
   "metadata": {},
   "outputs": [],
   "source": [
    "%%time\n",
    "#3m 20s\n",
    "pop.advance(nYears)"
   ]
  },
  {
   "cell_type": "code",
   "execution_count": 4,
   "id": "70f85a55-b00c-47c4-9286-db56394ae697",
   "metadata": {},
   "outputs": [
    {
     "name": "stdout",
     "output_type": "stream",
     "text": [
      "CPU times: user 3.39 s, sys: 233 ms, total: 3.63 s\n",
      "Wall time: 58.5 s\n"
     ]
    }
   ],
   "source": [
    "%%time\n",
    "#1m 47 s\n",
    "pop.advance_parallel(nYears, None, 4)"
   ]
  },
  {
   "cell_type": "code",
   "execution_count": null,
   "id": "6f8c0fa7-9c2d-40c9-b1ce-4721f4c88006",
   "metadata": {},
   "outputs": [],
   "source": [
    "#pop = NHANESDirectSamplePopulation(popSize, 2017, rng=rngStream)\n",
    "#controlPop = NHANESDirectSamplePopulation(popSize, 1999, rng=rngStream)\n",
    "#treatmentPop = NHANESDirectSamplePopulation(popSize, 1999, rng=rngStream)\n",
    "#treatmentPop.set_bp_treatment_strategy(AddASingleBPMedTreatmentStrategy())"
   ]
  },
  {
   "cell_type": "code",
   "execution_count": null,
   "id": "fdbb85e1-c17b-4ce9-b284-5550ce1a736b",
   "metadata": {},
   "outputs": [],
   "source": [
    "%%time\n",
    "#40min\n",
    "#alive, dead = pop.advance_vectorized(18,rng=rngStream) #5m 9s - no recalibration\n",
    "#aliveC, deadC = controlPop.advance_vectorized(5,rng=rngStream)\n",
    "#aliveT, deadT = treatmentPop.advance_vectorized(5,rng=rngStream)"
   ]
  },
  {
   "cell_type": "code",
   "execution_count": null,
   "id": "affb8f20-53e5-4815-8ad7-8a452ba06899",
   "metadata": {},
   "outputs": [],
   "source": [
    "#controlRisk = sum(list(map(lambda x: x.has_stroke_during_simulation(), controlPop._people)))/controlPop.n\n",
    "#treatmentRisk = sum(list(map(lambda x: x.has_stroke_during_simulation(), treatmentPop._people)))/treatmentPop.n\n",
    "#0.87 \n",
    "#print(treatmentRisk/controlRisk)\n",
    "#controlRisk = sum(list(map(lambda x: x.has_mi_during_simulation(), controlPop._people)))/controlPop.n\n",
    "#treatmentRisk = sum(list(map(lambda x: x.has_mi_during_simulation(), treatmentPop._people)))/treatmentPop.n\n",
    "#0.87 \n",
    "#print(treatmentRisk/controlRisk)"
   ]
  },
  {
   "cell_type": "code",
   "execution_count": null,
   "id": "cf69ceca-d086-4b50-8332-4c9bece7649f",
   "metadata": {},
   "outputs": [],
   "source": [
    "from microsim.risk_factor import DynamicRiskFactorsType\n",
    "from microsim.population import microsimToNhanes\n",
    "\n",
    "nhanesPop = pd.read_stata(microsimDir + \"/microsim/data/fullyImputedDataset.dta\")\n",
    "nhanesPop = nhanesPop[~(nhanesPop[\"timeInUS\"]<4)]\n",
    "nhanesPop = nhanesPop[nhanesPop[\"year\"]==2017]\n",
    "nhanesPop = nhanesPop[nhanesPop[\"age\"]>=36]"
   ]
  },
  {
   "cell_type": "code",
   "execution_count": null,
   "id": "512333f5-101c-4da7-8e78-1f35c6e3b01e",
   "metadata": {},
   "outputs": [],
   "source": [
    "nRows = round(len(DynamicRiskFactorsType)/2)\n",
    "fig, ax = plt.subplots(nRows, 2, figsize=(17,15))\n",
    "row=-1\n",
    "for i,rf in enumerate(DynamicRiskFactorsType):\n",
    "    rfList = list(map( lambda x: getattr(x, \"_\"+rf.value)[-1] if x.is_alive else None, pop._people))\n",
    "    rfList = list(filter(lambda x: x is not None, rfList))\n",
    "    rfList = list(map(lambda x: int(x) if bool(x) else x, rfList))\n",
    "    if i%2==0:\n",
    "        row += 1\n",
    "        col = 0\n",
    "    else:\n",
    "        col = 1\n",
    "    if rf.value in microsimToNhanes.keys():\n",
    "        ax[row,col].hist([rfList, nhanesPop[microsimToNhanes[rf.value]]], bins=20, density=True)\n",
    "    else:\n",
    "        ax[row,col].hist(rfList, bins=20, density=True)\n",
    "    ax[row,col].set_xlabel(rf.value)\n",
    "    #ax[row,col].set_ylabel(\"probability density\")\n",
    "plt.suptitle(\"probability densities for all dynamic risk factors\")\n",
    "#plt.subplots_adjust(wspace=0.5, hspace=0.7)\n",
    "plt.tight_layout()\n",
    "plt.show()"
   ]
  },
  {
   "cell_type": "code",
   "execution_count": null,
   "id": "974e03c3-ea3b-4762-9383-3ccebc5e202c",
   "metadata": {},
   "outputs": [],
   "source": [
    "space = \" \"\n",
    "print(\"                       sim mean   nha mean    sim sd     nha sd\")\n",
    "for i,rf in enumerate(DynamicRiskFactorsType):\n",
    "    rfList = list(map( lambda x: getattr(x, \"_\"+rf.value)[-1] if x.is_alive else None, pop._people))\n",
    "    rfList = list(filter(lambda x: x is not None, rfList))\n",
    "    rfList = list(map(lambda x: int(x) if bool(x) else x, rfList))\n",
    "    if rf.value in microsimToNhanes.keys():\n",
    "        print(f\"{rf.value:>20} {np.mean(rfList): 10.2f} {np.mean(nhanesPop[microsimToNhanes[rf.value]]): 10.2f}\" + \n",
    "             f\"{np.std(rfList): 10.2f} {np.std(nhanesPop[microsimToNhanes[rf.value]]): 10.2f}\")\n",
    "    else:\n",
    "        print(f\"{rf.value:>20} {np.mean(rfList): 10.2f} {space:>9} {np.std(rfList): 10.2f}\")"
   ]
  },
  {
   "cell_type": "code",
   "execution_count": null,
   "id": "eedd8ffe-5b08-448d-b6f9-38c91dae900a",
   "metadata": {},
   "outputs": [],
   "source": [
    "from microsim.outcome import OutcomeType\n",
    "outcomes = [OutcomeType.MI, OutcomeType.STROKE, OutcomeType.DEATH, \n",
    "            OutcomeType.CARDIOVASCULAR, OutcomeType.NONCARDIOVASCULAR, OutcomeType.DEMENTIA]\n",
    "standardizedRates = list(map(lambda x: pop.calculate_mean_age_sex_standardized_incidence(x, 2016), outcomes))\n",
    "standardizedRatesBlack = list(map(\n",
    "                           lambda x: pop.calculate_mean_age_sex_standardized_incidence(x,2016, lambda y: y._black), \n",
    "                           outcomes))\n",
    "print(\"standardized rates (per 100,000)    all        black   \")\n",
    "for i in range(len(outcomes)):\n",
    "    print(f\"{outcomes[i].value:>30} {standardizedRates[i]:> 10.1f} {standardizedRatesBlack[i]:> 10.1f}\") "
   ]
  },
  {
   "cell_type": "code",
   "execution_count": null,
   "id": "abbaa1b6-990b-403b-9c55-e55089750b0e",
   "metadata": {},
   "outputs": [],
   "source": [
    "dementiaIncidentRate = pop.get_raw_incidence_by_age(OutcomeType.DEMENTIA)"
   ]
  },
  {
   "cell_type": "code",
   "execution_count": null,
   "id": "3a872099-78ca-4ca6-bc16-cc8b9a65de4f",
   "metadata": {},
   "outputs": [],
   "source": [
    "plt.scatter(dementiaIncidentRate.keys(), dementiaIncidentRate.values())\n",
    "plt.xlabel(\"age\")\n",
    "plt.ylabel(\"dementia incidence rate\")\n",
    "plt.show()"
   ]
  },
  {
   "cell_type": "code",
   "execution_count": null,
   "id": "4dd2db72-d9e5-4cdd-9798-2e16f3237abe",
   "metadata": {},
   "outputs": [],
   "source": [
    "ageDementia = list(map(lambda y: (y._age[-1], len(y._outcomes[OutcomeType.DEMENTIA])>0), \n",
    "              list(filter(lambda x: x.is_alive, pop._people))))\n",
    "nAlive = len(ageDementia)\n",
    "ageDementia = list(filter(lambda x: x[1]==True, ageDementia))\n",
    "ageDementia = [int(x[0]) for x in ageDementia]\n",
    "plt.hist(ageDementia)\n",
    "plt.xlabel(\"age\")\n",
    "plt.title(f\"dementia cases at end of simulation ({nAlive} Person objects alive)\")\n",
    "plt.show()"
   ]
  },
  {
   "cell_type": "code",
   "execution_count": null,
   "id": "fb7570e3-9f45-4278-84eb-c715093b151c",
   "metadata": {},
   "outputs": [],
   "source": [
    "%%time\n",
    "#35min for 200k\n",
    "from microsim.treatment_strategy_repository import TreatmentStrategyRepository\n",
    "from microsim.bp_treatment_strategies import AddASingleBPMedTreatmentStrategy\n",
    "from microsim.treatment import TreatmentStrategiesType\n",
    "from microsim.outcome import OutcomeType\n",
    "\n",
    "popSize = 200000\n",
    "treatmentPop = NHANESDirectSamplePopulation(popSize, 1999)\n",
    "controlPop = NHANESDirectSamplePopulation(popSize, 1999)\n",
    "nYears=5\n",
    "treatmentStrategies = TreatmentStrategyRepository()\n",
    "treatmentStrategies._repository[TreatmentStrategiesType.BP.value] = AddASingleBPMedTreatmentStrategy()\n",
    "treatmentPop.advance(nYears, treatmentStrategies = treatmentStrategies)\n",
    "controlPop.advance(nYears)"
   ]
  },
  {
   "cell_type": "code",
   "execution_count": null,
   "id": "2bb62948-d8df-4feb-b453-002e16a197e2",
   "metadata": {},
   "outputs": [],
   "source": [
    "controlRisk = sum(list(map(lambda x: x.has_outcome_during_simulation(OutcomeType.STROKE), \n",
    "                           controlPop._people)))/controlPop._n\n",
    "treatmentRisk = sum(list(map(lambda x: x.has_outcome_during_simulation(OutcomeType.STROKE), \n",
    "                             treatmentPop._people)))/treatmentPop._n\n",
    "#0.93\n",
    "controlRisk, treatmentRisk, treatmentRisk/controlRisk"
   ]
  },
  {
   "cell_type": "code",
   "execution_count": null,
   "id": "5fc19f5c-057d-45f0-8318-275186616783",
   "metadata": {},
   "outputs": [],
   "source": [
    "controlRisk = sum(list(map(lambda x: x.has_outcome_during_simulation(OutcomeType.MI), \n",
    "                           controlPop._people)))/controlPop._n\n",
    "treatmentRisk = sum(list(map(lambda x: x.has_outcome_during_simulation(OutcomeType.MI), \n",
    "                             treatmentPop._people)))/treatmentPop._n\n",
    "#0.90\n",
    "controlRisk, treatmentRisk, treatmentRisk/controlRisk"
   ]
  },
  {
   "cell_type": "code",
   "execution_count": null,
   "id": "38304673-d3fa-4a04-af95-d105f73b6bbd",
   "metadata": {},
   "outputs": [],
   "source": []
  }
 ],
 "metadata": {
  "kernelspec": {
   "display_name": "microsimKernel",
   "language": "python",
   "name": "microsimkernel"
  },
  "language_info": {
   "codemirror_mode": {
    "name": "ipython",
    "version": 3
   },
   "file_extension": ".py",
   "mimetype": "text/x-python",
   "name": "python",
   "nbconvert_exporter": "python",
   "pygments_lexer": "ipython3",
   "version": "3.9.13"
  }
 },
 "nbformat": 4,
 "nbformat_minor": 5
}
