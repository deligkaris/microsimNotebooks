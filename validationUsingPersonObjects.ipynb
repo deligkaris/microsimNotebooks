{
 "cells": [
  {
   "cell_type": "markdown",
   "id": "f643d046-c0e9-4ccc-896d-066213fe3ac1",
   "metadata": {},
   "source": [
    "### The goal of this notebook is to reproduce the results from the original Microsim publication using the newly-developed Person-based code."
   ]
  },
  {
   "cell_type": "code",
   "execution_count": 1,
   "id": "52506689-9a99-4656-9f3c-4260c43cc769",
   "metadata": {},
   "outputs": [],
   "source": [
    "import os\n",
    "import copy\n",
    "import pandas as pd\n",
    "pd.set_option('display.max_columns', None)\n",
    "pd.set_option('display.max_rows', None)\n",
    "from pandarallel import pandarallel\n",
    "import numpy as np\n",
    "import matplotlib.pyplot as plt\n",
    "\n",
    "from microsim.population import NHANESDirectSamplePopulation\n",
    "from microsim.risk_factor import DynamicRiskFactorsType, StaticRiskFactorsType\n",
    "from collections import Counter\n",
    "\n",
    "microsimDir = \"/Users/deligkaris.1/OneDrive - The Ohio State University Wexner Medical Center/MICROSIM/CODE/microsim\"\n",
    "os.chdir(microsimDir)"
   ]
  },
  {
   "cell_type": "markdown",
   "id": "adbf6be5-06dd-42b8-9977-10be7e22b03c",
   "metadata": {},
   "source": [
    "### Validation of baseline simulated population"
   ]
  },
  {
   "cell_type": "markdown",
   "id": "3121823d-1ad2-48c8-a551-6f5f0e9843ea",
   "metadata": {},
   "source": [
    "#### 2007-2009 NHANES"
   ]
  },
  {
   "cell_type": "code",
   "execution_count": null,
   "id": "8c483bd0-d038-4d5d-809a-1d62b417df7e",
   "metadata": {},
   "outputs": [],
   "source": [
    "%%time\n",
    "popSize = 100000\n",
    "pop = NHANESDirectSamplePopulation(popSize, 2007)"
   ]
  },
  {
   "cell_type": "code",
   "execution_count": null,
   "id": "9e5400b3-f2a7-4849-8059-d183709488c8",
   "metadata": {},
   "outputs": [],
   "source": [
    "for i,rf in enumerate(DynamicRiskFactorsType):\n",
    "    rfList = list(map( lambda x: getattr(x, \"_\"+rf.value)[-1] if x.is_alive else None, pop._people))\n",
    "    rfList = list(filter(lambda x: x is not None, rfList))\n",
    "    rfList = list(map(lambda x: int(x) if bool(x) else x, rfList))\n",
    "    print(f\"{rf.value:>50} {np.mean(rfList):> 6.1f}\")\n",
    "    \n",
    "for i,rf in enumerate(StaticRiskFactorsType):\n",
    "    print(f\"{rf:>50}\")\n",
    "    rfList = list(map( lambda x: getattr(x, \"_\"+rf.value), pop._people))\n",
    "    rfValueCounts = Counter(rfList)\n",
    "    for key in rfValueCounts.keys():\n",
    "        print(f\"{key:>50} {rfValueCounts[key]/popSize: 6.2f}\")"
   ]
  },
  {
   "cell_type": "markdown",
   "id": "d2505eb6-4bef-4a3e-878a-5935c3e574d3",
   "metadata": {},
   "source": [
    "#### 2013, hypertension"
   ]
  },
  {
   "cell_type": "code",
   "execution_count": null,
   "id": "58e24d48-f28a-46de-8dfe-ee5f27731410",
   "metadata": {},
   "outputs": [],
   "source": [
    "%%time\n",
    "popSize = 100000\n",
    "pop = NHANESDirectSamplePopulation(popSize, 2013, filter=lambda x: x.antiHypertensive>0)"
   ]
  },
  {
   "cell_type": "code",
   "execution_count": null,
   "id": "646c14c4-5e90-4e48-a8e7-e27d34238a8c",
   "metadata": {},
   "outputs": [],
   "source": [
    "for i,rf in enumerate(DynamicRiskFactorsType):\n",
    "    rfList = list(map( lambda x: getattr(x, \"_\"+rf.value)[-1] if x.is_alive else None, pop._people))\n",
    "    rfList = list(filter(lambda x: x is not None, rfList))\n",
    "    rfList = list(map(lambda x: int(x) if bool(x) else x, rfList))\n",
    "    print(f\"{rf.value:>50} {np.mean(rfList):> 6.1f}\")\n",
    "    \n",
    "for i,rf in enumerate(StaticRiskFactorsType):\n",
    "    print(f\"{rf.value:>50}\")\n",
    "    rfList = list(map( lambda x: getattr(x, \"_\"+rf.value), pop._people))\n",
    "    rfValueCounts = Counter(rfList)\n",
    "    for key in rfValueCounts.keys():\n",
    "        print(f\"{key:>50} {rfValueCounts[key]/popSize: 6.2f}\")"
   ]
  },
  {
   "cell_type": "markdown",
   "id": "aedb6f85-aada-4eec-b2d4-4ff49b76e8a5",
   "metadata": {},
   "source": [
    "### Validation of vascular risk factors over time"
   ]
  },
  {
   "cell_type": "code",
   "execution_count": null,
   "id": "aae0fe02-878c-4301-b2a0-c9c4a05f4b62",
   "metadata": {},
   "outputs": [],
   "source": [
    "%%time\n",
    "popSize = 100000\n",
    "nYears = 18\n",
    "pop = NHANESDirectSamplePopulation(popSize, 1999)"
   ]
  },
  {
   "cell_type": "code",
   "execution_count": null,
   "id": "70f85a55-b00c-47c4-9286-db56394ae697",
   "metadata": {},
   "outputs": [],
   "source": [
    "%%time\n",
    "#1m 47 s\n",
    "pop.advance_parallel(nYears, None, 5)"
   ]
  },
  {
   "cell_type": "code",
   "execution_count": null,
   "id": "cf69ceca-d086-4b50-8332-4c9bece7649f",
   "metadata": {},
   "outputs": [],
   "source": [
    "from microsim.population import microsimToNhanes\n",
    "\n",
    "nhanesPop = pd.read_stata(microsimDir + \"/microsim/data/fullyImputedDataset.dta\")\n",
    "nhanesPop = nhanesPop[~(nhanesPop[\"timeInUS\"]<4)]\n",
    "nhanesPop = nhanesPop[nhanesPop[\"year\"]==2017]\n",
    "nhanesPop = nhanesPop[nhanesPop[\"age\"]>=36]"
   ]
  },
  {
   "cell_type": "code",
   "execution_count": null,
   "id": "512333f5-101c-4da7-8e78-1f35c6e3b01e",
   "metadata": {},
   "outputs": [],
   "source": [
    "nRows = round(len(DynamicRiskFactorsType)/2)\n",
    "fig, ax = plt.subplots(nRows, 2, figsize=(17,15))\n",
    "row=-1\n",
    "for i,rf in enumerate(DynamicRiskFactorsType):\n",
    "    rfList = list(map( lambda x: getattr(x, \"_\"+rf.value)[-1] if x.is_alive else None, pop._people))\n",
    "    rfList = list(filter(lambda x: x is not None, rfList))\n",
    "    rfList = list(map(lambda x: int(x) if bool(x) else x, rfList))\n",
    "    if i%2==0:\n",
    "        row += 1\n",
    "        col = 0\n",
    "    else:\n",
    "        col = 1\n",
    "    if rf.value in microsimToNhanes.keys():\n",
    "        ax[row,col].hist([rfList, nhanesPop[microsimToNhanes[rf.value]]], bins=20, density=True)\n",
    "    else:\n",
    "        ax[row,col].hist(rfList, bins=20, density=True)\n",
    "    ax[row,col].set_xlabel(rf.value)\n",
    "    #ax[row,col].set_ylabel(\"probability density\")\n",
    "plt.suptitle(\"probability densities for all dynamic risk factors\")\n",
    "#plt.subplots_adjust(wspace=0.5, hspace=0.7)\n",
    "plt.tight_layout()\n",
    "plt.show()"
   ]
  },
  {
   "cell_type": "code",
   "execution_count": null,
   "id": "974e03c3-ea3b-4762-9383-3ccebc5e202c",
   "metadata": {},
   "outputs": [],
   "source": [
    "space = \" \"\n",
    "print(\"                       sim mean   nha mean    sim sd     nha sd\")\n",
    "for i,rf in enumerate(DynamicRiskFactorsType):\n",
    "    rfList = list(map( lambda x: getattr(x, \"_\"+rf.value)[-1] if x.is_alive else None, pop._people))\n",
    "    rfList = list(filter(lambda x: x is not None, rfList))\n",
    "    rfList = list(map(lambda x: int(x) if bool(x) else x, rfList))\n",
    "    if rf.value in microsimToNhanes.keys():\n",
    "        print(f\"{rf.value:>20} {np.mean(rfList): 10.2f} {np.mean(nhanesPop[microsimToNhanes[rf.value]]): 10.2f}\" + \n",
    "             f\"{np.std(rfList): 10.2f} {np.std(nhanesPop[microsimToNhanes[rf.value]]): 10.2f}\")\n",
    "    else:\n",
    "        print(f\"{rf.value:>20} {np.mean(rfList): 10.2f} {space:>9} {np.std(rfList): 10.2f}\")"
   ]
  },
  {
   "cell_type": "markdown",
   "id": "a2b660ec-8c0f-4418-bab7-2d004fec7402",
   "metadata": {},
   "source": [
    "### Validation of CV event incidence and mortality"
   ]
  },
  {
   "cell_type": "code",
   "execution_count": null,
   "id": "eedd8ffe-5b08-448d-b6f9-38c91dae900a",
   "metadata": {},
   "outputs": [],
   "source": [
    "from microsim.outcome import OutcomeType\n",
    "outcomes = [OutcomeType.MI, OutcomeType.STROKE, OutcomeType.DEATH, \n",
    "            OutcomeType.CARDIOVASCULAR, OutcomeType.NONCARDIOVASCULAR, OutcomeType.DEMENTIA]\n",
    "standardizedRates = list(map(lambda x: pop.calculate_mean_age_sex_standardized_incidence(x, 2016), outcomes))\n",
    "standardizedRatesBlack = list(map(\n",
    "                           lambda x: pop.calculate_mean_age_sex_standardized_incidence(x,2016, lambda y: y._black), \n",
    "                           outcomes))\n",
    "print(\"standardized rates (per 100,000)    all        black   \")\n",
    "for i in range(len(outcomes)):\n",
    "    print(f\"{outcomes[i].value:>30} {standardizedRates[i]:> 10.1f} {standardizedRatesBlack[i]:> 10.1f}\") "
   ]
  },
  {
   "cell_type": "markdown",
   "id": "0b73d351-8af3-44a1-9487-b023899bb865",
   "metadata": {},
   "source": [
    "### Validation of dementia incidence"
   ]
  },
  {
   "cell_type": "code",
   "execution_count": null,
   "id": "abbaa1b6-990b-403b-9c55-e55089750b0e",
   "metadata": {},
   "outputs": [],
   "source": [
    "dementiaIncidentRate = pop.get_raw_incidence_by_age(OutcomeType.DEMENTIA)"
   ]
  },
  {
   "cell_type": "code",
   "execution_count": null,
   "id": "3a872099-78ca-4ca6-bc16-cc8b9a65de4f",
   "metadata": {},
   "outputs": [],
   "source": [
    "plt.scatter(dementiaIncidentRate.keys(), dementiaIncidentRate.values())\n",
    "plt.xlabel(\"age\")\n",
    "plt.ylabel(\"dementia incidence rate\")\n",
    "plt.show()"
   ]
  },
  {
   "cell_type": "code",
   "execution_count": null,
   "id": "4dd2db72-d9e5-4cdd-9798-2e16f3237abe",
   "metadata": {},
   "outputs": [],
   "source": [
    "ageDementia = list(map(lambda y: (y._age[-1], len(y._outcomes[OutcomeType.DEMENTIA])>0), \n",
    "              list(filter(lambda x: x.is_alive, pop._people))))\n",
    "nAlive = len(ageDementia)\n",
    "ageDementia = list(filter(lambda x: x[1]==True, ageDementia))\n",
    "ageDementia = [int(x[0]) for x in ageDementia]\n",
    "plt.hist(ageDementia)\n",
    "plt.xlabel(\"age\")\n",
    "plt.title(f\"dementia cases at end of simulation ({nAlive} Person objects alive)\")\n",
    "plt.show()"
   ]
  },
  {
   "cell_type": "markdown",
   "id": "5090a4e9-11cb-4146-b365-9dae330ed795",
   "metadata": {},
   "source": [
    "### Validation of treatment effects"
   ]
  },
  {
   "cell_type": "code",
   "execution_count": 2,
   "id": "fb7570e3-9f45-4278-84eb-c715093b151c",
   "metadata": {},
   "outputs": [],
   "source": [
    "from microsim.treatment_strategy_repository import TreatmentStrategyRepository\n",
    "from microsim.bp_treatment_strategies import AddASingleBPMedTreatmentStrategy, AddNBPMedsTreatmentStrategy\n",
    "from microsim.treatment import TreatmentStrategiesType, TreatmentStrategyStatus\n",
    "from microsim.outcome import OutcomeType\n",
    "\n",
    "popSize = 700000\n",
    "nYears=5"
   ]
  },
  {
   "cell_type": "code",
   "execution_count": 3,
   "id": "98a5ab13-b224-46b5-ba89-74c792252497",
   "metadata": {},
   "outputs": [
    {
     "name": "stdout",
     "output_type": "stream",
     "text": [
      "bpMedsAdded=3, stroke RR=0.4934711643090316, mi RR=0.6891971317738332\n",
      "CPU times: user 17min 31s, sys: 28min 42s, total: 46min 13s\n",
      "Wall time: 2h 12min 22s\n"
     ]
    }
   ],
   "source": [
    "%%time\n",
    "#for bpMedsAdded in [1,2,3,4]:\n",
    "for bpMedsAdded in [3]:\n",
    "    treatmentPop = NHANESDirectSamplePopulation(popSize, 1999)\n",
    "    controlPop = NHANESDirectSamplePopulation(popSize, 1999)\n",
    "    treatmentStrategies = TreatmentStrategyRepository()\n",
    "    #treatmentStrategies._repository[TreatmentStrategiesType.BP.value] = AddASingleBPMedTreatmentStrategy()\n",
    "    treatmentStrategies._repository[TreatmentStrategiesType.BP.value] = AddNBPMedsTreatmentStrategy(bpMedsAdded)\n",
    "    treatmentPop.advance_parallel(1, treatmentStrategies = treatmentStrategies, nWorkers=5)\n",
    "    treatmentStrategies._repository[TreatmentStrategiesType.BP.value].status = TreatmentStrategyStatus.MAINTAIN\n",
    "    treatmentPop.advance_parallel(nYears-1, treatmentStrategies = treatmentStrategies, nWorkers=5)\n",
    "    controlPop.advance_parallel(nYears, nWorkers=5)\n",
    "    \n",
    "    controlRisk = sum(list(map(lambda x: x.has_outcome_during_simulation(OutcomeType.STROKE), \n",
    "                           controlPop._people)))/controlPop._n\n",
    "    treatmentRisk = sum(list(map(lambda x: x.has_outcome_during_simulation(OutcomeType.STROKE), \n",
    "                             treatmentPop._people)))/treatmentPop._n\n",
    "    strokeRR = treatmentRisk/controlRisk\n",
    "    controlRisk = sum(list(map(lambda x: x.has_outcome_during_simulation(OutcomeType.MI), \n",
    "                           controlPop._people)))/controlPop._n\n",
    "    treatmentRisk = sum(list(map(lambda x: x.has_outcome_during_simulation(OutcomeType.MI), \n",
    "                             treatmentPop._people)))/treatmentPop._n\n",
    "    miRR = treatmentRisk/controlRisk\n",
    "    print(f\"bpMedsAdded={bpMedsAdded}, stroke RR={strokeRR}, mi RR={miRR}\")"
   ]
  },
  {
   "cell_type": "code",
   "execution_count": null,
   "id": "38304673-d3fa-4a04-af95-d105f73b6bbd",
   "metadata": {},
   "outputs": [],
   "source": [
    "#with 1bpmedsadded: \n",
    "# ref: 0.79, 0.87\n",
    "#    for stroke: 0.008045, 0.0063275, 0.7865133623368552\n",
    "#.   for mi: 0.0121825, 0.01068, 0.876667350707982\n",
    "#with AddNBPMedsTreatmentStrategy(1)\n",
    "#  ref: 0.79, 0.87\n",
    "#.   for stroke: 0.0076975, 0.006165, 0.800909386164339\n",
    "#.   for mi: 0.012245, 0.0105125, 0.8585136790526745\n",
    "#with  AddNBPMedsTreatmentStrategy(2)\n",
    "#.  ref: 0.624, 0.757\n",
    "#.   for stroke: 0.0079025, 0.0044725, 0.565960139196456\n",
    "#.   for mi: 0.012265, 0.0090875, 0.7409294741133307\n",
    "# new params for stroke: 0.6125 for mi 0.74552\n",
    "#with AddNBPMedsTreatmentStrategy(3)\n",
    "#.  ref: 0.49, 0.658\n",
    "#.   for stroke: 0.0077125, 0.003825, 0.495948136142625\n",
    "#.   for mi: 0.0122675, 0.0079975, 0.6519258202567759\n",
    "#with AddNBPMedsTreatmentStrategy(4)\n",
    "#.  ref: 0.389, 0.57\n",
    "#.   for stroke: 0.00801, 0.0031225, 0.3898252184769039\n",
    "#.   for mi: 0.0121225, 0.0070625, 0.5825943493503816"
   ]
  },
  {
   "cell_type": "code",
   "execution_count": null,
   "id": "94a68d99-3dd9-422e-b666-dce575c29cc2",
   "metadata": {},
   "outputs": [],
   "source": []
  }
 ],
 "metadata": {
  "kernelspec": {
   "display_name": "microsimKernel",
   "language": "python",
   "name": "microsimkernel"
  },
  "language_info": {
   "codemirror_mode": {
    "name": "ipython",
    "version": 3
   },
   "file_extension": ".py",
   "mimetype": "text/x-python",
   "name": "python",
   "nbconvert_exporter": "python",
   "pygments_lexer": "ipython3",
   "version": "3.9.13"
  }
 },
 "nbformat": 4,
 "nbformat_minor": 5
}
