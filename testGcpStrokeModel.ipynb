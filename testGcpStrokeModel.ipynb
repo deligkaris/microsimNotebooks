{
 "cells": [
  {
   "cell_type": "markdown",
   "id": "475c3ff7-fbde-4eab-9000-12bf75f244f7",
   "metadata": {},
   "source": [
    "In this notebook, I test the GCPStrokeModel against the results obtained during the developement of this model. First, I reproduce the results by using the appropriate mathematical expression. I then reproduce the results using the method calc_linear_predictor_for_patient_characteristics without using any person objects, followed by the same thing but using a person object. I finally test the reproducibility of the results using a person object and the get_risk_for_person non vectorized approach and then the vectorized approach."
   ]
  },
  {
   "cell_type": "code",
   "execution_count": 1,
   "id": "b6e29d8f-7d1e-4b4d-9a3a-1c7d0964f21a",
   "metadata": {},
   "outputs": [],
   "source": [
    "import unittest\n",
    "import numpy as np\n",
    "import operator\n",
    "import pandas as pd\n",
    "pd.set_option('display.max_columns', None)\n",
    "#pd.set_option('max_columns', None)\n",
    "pd.set_option('display.max_rows', None)\n",
    "from microsim.person import Person\n",
    "from microsim.population import Population\n",
    "from microsim.education import Education\n",
    "from microsim.gender import NHANESGender\n",
    "from microsim.smoking_status import SmokingStatus\n",
    "from microsim.alcohol_category import AlcoholCategory\n",
    "from microsim.race_ethnicity import NHANESRaceEthnicity\n",
    "from microsim.gcp_model import GCPModel\n",
    "from microsim.gcp_stroke_model import GCPStrokeModel\n",
    "from microsim.outcome import Outcome, OutcomeType\n",
    "from microsim.test.do_not_change_risk_factors_model_repository import (\n",
    "    DoNotChangeRiskFactorsModelRepository,\n",
    ")\n",
    "from microsim.outcome_model_repository import OutcomeModelRepository"
   ]
  },
  {
   "cell_type": "markdown",
   "id": "d84c3444-3e1b-41f9-9fcd-6b09d0a4d2f3",
   "metadata": {},
   "source": [
    "### REPRODUCE RESULTS USING JUST MATH"
   ]
  },
  {
   "cell_type": "code",
   "execution_count": 2,
   "id": "016a136c-493c-4352-b767-db0d300eede6",
   "metadata": {},
   "outputs": [],
   "source": [
    "#read the file with the results\n",
    "peopleAim1 = pd.read_csv(\n",
    "    \"/Users/deligkaris.1/OneDrive - The Ohio State University Wexner Medical Center/MICROSIM/PAPERS/STROKE COG_Aim-1_Exemplars.csv\")\n",
    "\n",
    "#peopleAim1.head(5)"
   ]
  },
  {
   "cell_type": "code",
   "execution_count": 3,
   "id": "6107e1e2-791d-4cd0-ad5d-f5075437767a",
   "metadata": {},
   "outputs": [
    {
     "data": {
      "text/plain": [
       "0    3.100000e-07\n",
       "1    2.210000e-06\n",
       "2   -8.000000e-07\n",
       "3    2.210000e-06\n",
       "4   -4.790000e-06\n",
       "dtype: float64"
      ]
     },
     "execution_count": 3,
     "metadata": {},
     "output_type": "execute_result"
    }
   ],
   "source": [
    "#yhat is what the model predicts, so yhat+residual = fgcp\n",
    "(peopleAim1[\"yhat\"]+peopleAim1[\"resid\"] - (peopleAim1[\"fgcp\"])).head()"
   ]
  },
  {
   "cell_type": "code",
   "execution_count": 4,
   "id": "f700c07b-405d-4554-86f7-75c2fe5b2a85",
   "metadata": {},
   "outputs": [],
   "source": [
    "#include the time dependent variables of the model\n",
    "peopleAim1[\"sbpmed10*t_gcp_stk\"] = peopleAim1[\"t_gcp_stk\"]*peopleAim1[\"sbpmed10\"]\n",
    "peopleAim1[\"htntx*t_gcp_stk\"] = peopleAim1[\"t_gcp_stk\"]*peopleAim1[\"htntx\"]\n",
    "peopleAim1[\"glucosefmed10*t_gcp_stk\"] = peopleAim1[\"t_gcp_stk\"]*peopleAim1[\"glucosefmed10\"]\n",
    "peopleAim1[\"diabetestx*t_gcp_stk\"] = peopleAim1[\"t_gcp_stk\"]*peopleAim1[\"diabetestx\"]\n",
    "peopleAim1[\"cholldlmed10*t_gcp_stk\"] = peopleAim1[\"t_gcp_stk\"]*peopleAim1[\"cholldlmed10\"]\n",
    "peopleAim1[\"choltx*t_gcp_stk\"] = peopleAim1[\"t_gcp_stk\"]*peopleAim1[\"choltx\"]\n",
    "peopleAim1[\"female0*t_gcp_stk\"] = peopleAim1[\"t_gcp_stk\"]*peopleAim1[\"female0\"]\n",
    "peopleAim1[\"agemed10*t_gcp_stk\"] = peopleAim1[\"t_gcp_stk\"]*peopleAim1[\"agemed10\"]\n",
    "peopleAim1[\"reffect1*t_gcp_stk\"] = peopleAim1[\"t_gcp_stk\"]*peopleAim1[\"reffect1\"]"
   ]
  },
  {
   "cell_type": "code",
   "execution_count": 5,
   "id": "3a007520-e5a2-4ce0-b6c0-a3ece2dd3259",
   "metadata": {},
   "outputs": [
    {
     "data": {
      "text/plain": [
       "Index(['newid', 'fgcp', 'sbpmed10', 'cholldlmed10', 'glucosefmed10',\n",
       "       't_gcp_stk', 'hxafib', 'alcperwk', 'choltx', 'currsmoker', 'diabetestx',\n",
       "       'gfr', 'htntx', 'hxmi', 'physact', 'educ2', 'educ3', 'educ4', 'income8',\n",
       "       'income2', 'income3', 'income4', 'income5', 'bs_glucosefmed10',\n",
       "       'bs_cholldlmed10', 'bs_sbpstkcogmed10', 'bs_waistcmmed10', 'bs_fgcpmed',\n",
       "       'bs_bmimed', 'female0', 'black', 'agemed10', 'aric', 'chs', 'fos',\n",
       "       'yhat', 'resid', 'reffect1', 'reffect2', 'sbpmed10*t_gcp_stk',\n",
       "       'htntx*t_gcp_stk', 'glucosefmed10*t_gcp_stk', 'diabetestx*t_gcp_stk',\n",
       "       'cholldlmed10*t_gcp_stk', 'choltx*t_gcp_stk', 'female0*t_gcp_stk',\n",
       "       'agemed10*t_gcp_stk', 'reffect1*t_gcp_stk'],\n",
       "      dtype='object')"
      ]
     },
     "execution_count": 5,
     "metadata": {},
     "output_type": "execute_result"
    }
   ],
   "source": [
    "#add a row with the model coefficients, in the order the columns are\n",
    "peopleAim1.columns"
   ]
  },
  {
   "cell_type": "code",
   "execution_count": 6,
   "id": "77465290-4ac3-4fb7-9a89-564003997e58",
   "metadata": {},
   "outputs": [],
   "source": [
    "#I got these from the output file we got from colleagues\n",
    "peopleAim1.loc[\"coeffs\"] = [\"coeffs\",\n",
    "                            1.,      #fgcp\n",
    "                            0.2300907,  #sbpmed10\n",
    "                            -0.0912223, #cholldlmed10\n",
    "                            0.1561969,  #glucosefmed10\n",
    "                            -0.5249359, #t_gcp_stk\n",
    "                            -1.532905, #hxafi\n",
    "                            0.0550249, #alcperwk\n",
    "                            -0.7570241, #choltx\n",
    "                            0.4706579,  #currsmoker\n",
    "                            -1.46007, #diabetest\n",
    "                            0.0175139,  #gfr\n",
    "                            -1.3711, #htntx\n",
    "                            0.4470,  #hxmi\n",
    "                            1.0047,  #physact\n",
    "                            0.9930,  #educ2\n",
    "                            -0.00267,#educ3\n",
    "                            0.5712,  #educ4\n",
    "                            0.05448, #income8\n",
    "                            0.4819,  #income2\n",
    "                            1.0150,  #income3\n",
    "                            1.7918,  #income4\n",
    "                            1.9204,  #income5\n",
    "                            -0.02933,#bs_glucosefmed10\n",
    "                            -0.1866, #bs_cholldlmed10\n",
    "                            -0.2535435, #bs_sbpstkcogmed10\n",
    "                            0.2726,  #bs_waistcmmed10\n",
    "                            0.663,   #bs_fgcpmed\n",
    "                            -0.1372, #bs_bmimed\n",
    "                            1.4858,  #female0\n",
    "                            -1.5739, #black\n",
    "                            -1.4919, #agemed10\n",
    "                            -5.2897, #aric\n",
    "                            -3.7359, #chs\n",
    "                            -2.8168, #fos\n",
    "                            0.,      #yhat\n",
    "                            1,       #resid\n",
    "                            0.,      #reffect1\n",
    "                            1.,      #reffect2\n",
    "                            0.0424804, #sbpmed10*t_gcp_stk\n",
    "                            0.2271476, #htntx*t_gcp_stk\n",
    "                            -0.042661,  #glucosefmed10*t_gcp_stk\n",
    "                            -0.0378811, #diabetestx*t_gcp_stk\n",
    "                            0.007825,    #cholldlmed10*t_gcp_stk\n",
    "                            0.1034871,   #choltx*t_gcp_stk\n",
    "                            -0.2863992,  #female0*t_gcp_stk\n",
    "                            -0.1970112,  #agemed10*t_gcp_stk\n",
    "                             1.]         #reffect1*t_gcp_stk"
   ]
  },
  {
   "cell_type": "code",
   "execution_count": 7,
   "id": "00a0ea10-ad06-4dea-a31d-42d56bef29c6",
   "metadata": {},
   "outputs": [],
   "source": [
    "#calculate the gcp  I predict and find the difference with the gcp I should be getting\n",
    "myFgcp = []\n",
    "myFgcpDiff = []\n",
    "for j in range(peopleAim1.shape[0]-1):\n",
    "    productSr = (peopleAim1.iloc[peopleAim1.shape[0]-1,[i for i in range(2,48)]] * \n",
    "                                 peopleAim1.iloc[j,[i for i in range(2,48)]])\n",
    "    myFgcp = myFgcp + [productSr.sum()  + 51.9602]\n",
    "    myFgcpDiff = myFgcpDiff + [myFgcp[j] - peopleAim1.iloc[j][\"fgcp\"]]\n",
    "peopleAim1[\"myFgcpDiff\"] = myFgcpDiff + [0]\n",
    "peopleAim1[\"myFgcp\"] = myFgcp + [0]"
   ]
  },
  {
   "cell_type": "code",
   "execution_count": 8,
   "id": "98bced43-c672-49b2-af56-53951db12e0b",
   "metadata": {},
   "outputs": [
    {
     "data": {
      "text/plain": [
       "count    44.000000\n",
       "mean     -0.001190\n",
       "std       0.000935\n",
       "min      -0.002569\n",
       "25%      -0.002049\n",
       "50%      -0.001276\n",
       "75%      -0.000848\n",
       "max       0.001058\n",
       "Name: myFgcpDiff, dtype: float64"
      ]
     },
     "execution_count": 8,
     "metadata": {},
     "output_type": "execute_result"
    }
   ],
   "source": [
    "peopleAim1[\"myFgcpDiff\"].describe()"
   ]
  },
  {
   "cell_type": "code",
   "execution_count": 9,
   "id": "4475eb55-9781-461c-a0e0-c98cfe340b54",
   "metadata": {},
   "outputs": [],
   "source": [
    "#this helps with troubleshooting...\n",
    "#for each term that goes in the model, add a column with the value of that term\n",
    "\n",
    "covslist = ['sbpmed10', 'cholldlmed10', 'glucosefmed10',\n",
    "       't_gcp_stk', 'hxafib', 'alcperwk', 'choltx', 'currsmoker', 'diabetestx',\n",
    "       'gfr', 'htntx', 'hxmi', 'physact', 'educ2', 'educ3', 'educ4', 'income8',\n",
    "       'income2', 'income3', 'income4', 'income5', 'bs_glucosefmed10',\n",
    "       'bs_cholldlmed10', 'bs_sbpstkcogmed10', 'bs_waistcmmed10', 'bs_fgcpmed',\n",
    "       'bs_bmimed', 'female0', 'black', 'agemed10', 'aric', 'chs', 'fos',\n",
    "       'reffect1', 'reffect2', 'sbpmed10*t_gcp_stk',\n",
    "       'htntx*t_gcp_stk', 'glucosefmed10*t_gcp_stk', 'diabetestx*t_gcp_stk',\n",
    "       'cholldlmed10*t_gcp_stk', 'choltx*t_gcp_stk', 'female0*t_gcp_stk',\n",
    "       'agemed10*t_gcp_stk', 'reffect1*t_gcp_stk']\n",
    "\n",
    "for col in covslist:\n",
    "    peopleAim1[col+\"Term\"] = peopleAim1.loc[:,col] * peopleAim1.loc[\"coeffs\",col]\n",
    "\n",
    "#and a column with the sum of the terms (I am not including the residual here, so this is just yhat)\n",
    "peopleAim1[\"sumOfTerms\"] = (peopleAim1.loc[:, [col+\"Term\" for col in covslist]].sum(axis=1) +\n",
    "                            51.9602)\n",
    "\n",
    "#peopleAim1[[\"newid\",\"t_gcp_stk\",\"myFgcpDiff\",\"myFgcp\", \"fgcp\",\"yhat\",\"sumOfTerms\"]].head()"
   ]
  },
  {
   "cell_type": "markdown",
   "id": "3e172f26-3a9a-4d9b-803c-de8c885973f9",
   "metadata": {},
   "source": [
    "### REPRODUCE RESULTS USING calc_linear_predictor_for_patient_characteristics AND THE DATAFRAME"
   ]
  },
  {
   "cell_type": "code",
   "execution_count": 10,
   "id": "27128299-0ead-486e-9684-abd4f398b15d",
   "metadata": {},
   "outputs": [],
   "source": [
    "#need to re-create the original measurements, I used the publication to find the means and medians\n",
    "peopleAim1[\"age\"] = peopleAim1[\"agemed10\"]*10 + 74.6\n",
    "peopleAim1[\"bs_bmi\"] = peopleAim1[\"bs_bmimed\"] + 27.2\n",
    "peopleAim1[\"bs_waistcm\"] = peopleAim1[\"bs_waistcmmed10\"]*10 + 97.5\n",
    "peopleAim1[\"sbp\"] = peopleAim1[\"sbpmed10\"]*10 + 134.9\n",
    "peopleAim1[\"glucosef\"] = peopleAim1[\"glucosefmed10\"]*10 +108.1\n",
    "peopleAim1[\"bs_glucosef\"] = peopleAim1[\"bs_glucosefmed10\"]*10 + 112.8\n",
    "peopleAim1[\"bs_fgcp\"] = peopleAim1[\"bs_fgcpmed\"]+52.7\n",
    "peopleAim1[\"bs_sbpstkcog\"] = peopleAim1[\"bs_sbpstkcogmed10\"]*10 + 140.4\n",
    "peopleAim1[\"cholldl\"] = peopleAim1[\"cholldlmed10\"]*10 + 94.1\n",
    "peopleAim1[\"bs_cholldl\"] = peopleAim1[\"bs_cholldlmed10\"]*10+126.4"
   ]
  },
  {
   "cell_type": "code",
   "execution_count": 11,
   "id": "501a5281-d84c-4d01-89a4-85363c04434a",
   "metadata": {},
   "outputs": [],
   "source": [
    "#define a few functions\n",
    "def getEducation(row):\n",
    "    if row[\"educ2\"]==1.:\n",
    "        return Education.HIGHSCHOOLGRADUATE\n",
    "    elif row[\"educ3\"]==1.:\n",
    "        return Education.SOMECOLLEGE\n",
    "    elif row[\"educ4\"]==1.:\n",
    "        return Education.COLLEGEGRADUATE\n",
    "    else:\n",
    "        return Education.SOMEHIGHSCHOOL\n",
    "    \n",
    "def getGender(row):\n",
    "    if row[\"female0\"]==1.:\n",
    "        return NHANESGender.FEMALE\n",
    "    else:\n",
    "        return NHANESGender.MALE\n",
    "    \n",
    "def getRace(row):\n",
    "    if row[\"black\"]==1.:\n",
    "        return NHANESRaceEthnicity.NON_HISPANIC_BLACK\n",
    "    else:\n",
    "        return NHANESRaceEthnicity.NON_HISPANIC_WHITE\n",
    "    \n",
    "def getIncome(row):\n",
    "    if row[\"income8\"]==1.:\n",
    "        return 0.05448\n",
    "    elif row[\"income2\"]==1.:\n",
    "        return 0.4819\n",
    "    elif row[\"income3\"]==1.:\n",
    "        return 1.0150\n",
    "    elif row[\"income4\"]==1.:\n",
    "        return 1.7918\n",
    "    elif row[\"income5\"]==1.:\n",
    "        return 1.9204\n",
    "    else:\n",
    "        return 0.\n",
    "    \n",
    "def getGroup(row):\n",
    "    if row[\"aric\"]==1.:\n",
    "        return -5.2897\n",
    "    elif row[\"chs\"]==1.:\n",
    "        return -3.7359\n",
    "    elif row[\"fos\"]==1.:\n",
    "        return -2.8168\n",
    "    else:\n",
    "        return 0.\n",
    "    \n",
    "def getSmoking(row):\n",
    "    if row[\"currsmoker\"]==1.:\n",
    "        return SmokingStatus.CURRENT\n",
    "    else:\n",
    "        return SmokingStatus.NEVER\n",
    "    \n",
    "def getDiabetesTx(row):\n",
    "    if row[\"diabetestx\"]==1.:\n",
    "        return (-1.4601 + (-0.03788)*row[\"t_gcp_stk\"])\n",
    "    else:\n",
    "        return 0.\n",
    "    \n",
    "def getAlcperwk(row):\n",
    "    return row[\"alcperwk\"]*0.0550249"
   ]
  },
  {
   "cell_type": "code",
   "execution_count": 12,
   "id": "38258eb1-23af-4585-9f90-f39eeb244f04",
   "metadata": {},
   "outputs": [],
   "source": [
    "#choose a person to test\n",
    "personAim1 = peopleAim1.iloc[0]\n",
    "row=personAim1"
   ]
  },
  {
   "cell_type": "code",
   "execution_count": 13,
   "id": "b26114b1-0f42-4e32-a754-4a2f8eeef410",
   "metadata": {},
   "outputs": [],
   "source": [
    "# LP = linear predictor\n",
    "def getLP(row):\n",
    "    return GCPStrokeModel().calc_linear_predictor_for_patient_characteristics(\n",
    "    ageAtLastStroke=row.age,\n",
    "    yearsSinceStroke=row.t_gcp_stk,\n",
    "    gender=getGender(row), #5-7\n",
    "    raceEthnicity=getRace(row),\n",
    "    education=getEducation(row), #5-7\n",
    "    smokingStatus=getSmoking(row),\n",
    "    #diabetes=row.diabetestx,\n",
    "    physicalActivity=row.physact,\n",
    "    #include this term manually at the end, microsim treats this as categorical    \n",
    "    alcoholPerWeek=0., #row.alcperwk, \n",
    "    medianBmiPrestroke=row.bs_bmi,\n",
    "    meanSBP=row.sbp,\n",
    "    meanSBPPrestroke=row.bs_sbpstkcog,\n",
    "    meanLdlPrestroke=row.bs_cholldl,\n",
    "    meanLdl=row.cholldl,\n",
    "    gfr=row.gfr,\n",
    "    medianWaistPrestroke=row.bs_waistcm,\n",
    "    meanFastingGlucose=row.glucosef,\n",
    "    meanFastingGlucosePrestroke=row.bs_glucosef,\n",
    "    anyAntiHypertensive=row.htntx,\n",
    "    anyLipidLowering=row.choltx,\n",
    "    afib=row.hxafib,\n",
    "    mi=row.hxmi,\n",
    "    medianGCPPrestroke=row.bs_fgcp\n",
    ") \n",
    "\n",
    "def getMyYhat(row):\n",
    "    return (getLP(row) \n",
    "            - (238.*(-5.2897)+332.*(-3.7359)+101.*(-2.8168)) / (238.+332.+101.+311.) #removegroupaverage\n",
    "            + getGroup(row)   #get correct group contribution\n",
    "            + getIncome(row)  #get income contribution\n",
    "            + getDiabetesTx(row) #get diabetes treatment contribution\n",
    "            + getAlcperwk(row) #get alcperwk\n",
    "            + row.reffect2    \n",
    "            + row[\"reffect1*t_gcp_stk\"])"
   ]
  },
  {
   "cell_type": "code",
   "execution_count": 14,
   "id": "24bc716d-fda1-4194-ad94-408f1ce96504",
   "metadata": {},
   "outputs": [
    {
     "data": {
      "text/plain": [
       "count    43.000000\n",
       "mean     -0.000091\n",
       "std       0.000404\n",
       "min      -0.001100\n",
       "25%      -0.000363\n",
       "50%       0.000071\n",
       "75%       0.000210\n",
       "max       0.000408\n",
       "Name: yhatDiff, dtype: float64"
      ]
     },
     "execution_count": 14,
     "metadata": {},
     "output_type": "execute_result"
    }
   ],
   "source": [
    "peopleAim1[\"myYhat\"] = peopleAim1.apply( lambda row: getMyYhat(row), axis=1)\n",
    "peopleAim1[\"yhatDiff\"] = peopleAim1[\"myYhat\"] - peopleAim1[\"yhat\"]\n",
    "\n",
    "#do not include the last row, because that row includes the coefficients\n",
    "peopleAim1.iloc[0:-1][\"yhatDiff\"].describe()"
   ]
  },
  {
   "cell_type": "markdown",
   "id": "18d60773-cb93-49c3-a7b7-cdb6b25d8dd0",
   "metadata": {},
   "source": [
    "Now that getLP is validated, I will use the getLP result to validate the rest."
   ]
  },
  {
   "cell_type": "markdown",
   "id": "1fec4ee6-3010-4030-b92b-39634d922740",
   "metadata": {},
   "source": [
    "### REPRODUCE RESULTS USING calc_linear_predictor_for_patient_characteristics AND A PERSON"
   ]
  },
  {
   "cell_type": "code",
   "execution_count": 15,
   "id": "d95e3dd4-0806-4427-aad2-b1ee94e5d186",
   "metadata": {},
   "outputs": [
    {
     "data": {
      "text/plain": [
       "51.87570726170979"
      ]
     },
     "execution_count": 15,
     "metadata": {},
     "output_type": "execute_result"
    }
   ],
   "source": [
    "#this is what I got before with the dataframe (original measurements) so I need to reproduce \n",
    "#this with the person object\n",
    "getLP(peopleAim1.iloc[0])"
   ]
  },
  {
   "cell_type": "code",
   "execution_count": 16,
   "id": "d78525c1-11ca-4e0e-b593-c0c441608240",
   "metadata": {},
   "outputs": [],
   "source": [
    "#use this for initialization of the person\n",
    "class TestGCPStrokeModel():\n",
    "    def initializeAfib(person):\n",
    "        return None"
   ]
  },
  {
   "cell_type": "code",
   "execution_count": 17,
   "id": "c0abc352-14fc-4879-9487-3f2fb852cb1b",
   "metadata": {},
   "outputs": [],
   "source": [
    "#these are the values for a single person, first row of the excel file\n",
    "#I am using to create a simulation person that at some point had a stroke during the simulation\n",
    "ageAtStroke = 74.6 + 0.389117043*10 \n",
    "indexStroke = 2\n",
    "ageList = [ageAtStroke + 3.17 + x for x in range(-5,1)]\n",
    "ageList.insert(indexStroke, ageAtStroke)\n",
    "sbpMeanPrestroke = 140.4 -1.9*10\n",
    "sbpMean = -1.*10 +134.9\n",
    "sbpList = [sbpMeanPrestroke] * (indexStroke+1) + [sbpMean]*4\n",
    "dbpList = [80]*7\n",
    "a1cMeanPrestroke = Person.convert_fasting_glucose_to_a1c(112.8 + 0.5*10)\n",
    "a1cMean = Person.convert_fasting_glucose_to_a1c(108.1 + 2.2*10)\n",
    "a1cList = [a1cMeanPrestroke] * (indexStroke+1) + [a1cMean]*4\n",
    "hdlList = [50]*7\n",
    "ldlMeanPrestroke = 126.4 + 3.8*10\n",
    "ldlMean = 2.6*10 + 94.1\n",
    "ldlList = [ldlMeanPrestroke] * (indexStroke+1) + [ldlMean]*4\n",
    "trigList = [150]*7\n",
    "totCholList = [hdlList[i]+ldlList[i]+trigList[i] for i in range(len(ldlList))]\n",
    "bmiMedianPrestroke = 27.2 + 1.467401286\n",
    "bmiList = [bmiMedianPrestroke] * (indexStroke+1) + [bmiMedianPrestroke+x for x in range(10,50,10)]\n",
    "waistMedianPrestroke = 97.5 - 1.618*10\n",
    "waistList = [waistMedianPrestroke] * (indexStroke+1) + [waistMedianPrestroke+x for x in range(10,50,10)]\n",
    "antiHypertensiveCountList = [0]*7\n",
    "statinList = [1]*7\n",
    "otherLipidLoweringMedicationCountList = [0]*7\n",
    "creatinineList = [1]*7\n",
    "anyPhysicalActivityList=[1]*7\n",
    "medianGcpPrestroke = 6.104780222+52.7\n",
    "gcpList = [medianGcpPrestroke]*7"
   ]
  },
  {
   "cell_type": "code",
   "execution_count": 18,
   "id": "3025f93c-94b3-432e-a111-e275d5104502",
   "metadata": {},
   "outputs": [],
   "source": [
    "class TestCaseOne(Person):\n",
    "    \n",
    "    def __init__(self):\n",
    "        #super(gfrForTestCaseOne, self).__init__()\n",
    "        super().__init__(\n",
    "            age= ageList[0],                                          #agemed10\n",
    "            gender=NHANESGender.FEMALE,                               #female0\n",
    "            raceEthnicity=NHANESRaceEthnicity.NON_HISPANIC_WHITE,     #black\n",
    "            sbp= sbpList[0],                                          #bs_sbpstkcog\n",
    "            dbp= dbpList[0],                                          #same as TestGCPModel      \n",
    "            a1c=a1cList[0]                 ,                          #bs_glucosefmed10\n",
    "            hdl= hdlList[0],                                          #same as TestGCPModel\n",
    "            totChol=totCholList[0],                                   #?? hdl+ldl+0.2*trig\n",
    "            ldl= ldlList[0],                                          #bs_cholldlmed10\n",
    "            trig=trigList[0],                                         #same as TestGCPModel\n",
    "            bmi= bmiList[0],                                          #bs_bmimed\n",
    "            waist= waistList[0],                                      #bs_waistcmmed10\n",
    "            anyPhysicalActivity=anyPhysicalActivityList[0],           #physact\n",
    "            education=Education.SOMEHIGHSCHOOL,                       #educ2,educ3,educ4\n",
    "            smokingStatus=SmokingStatus.NEVER,                        #currsmoker\n",
    "            alcohol=AlcoholCategory.NONE,                             #alcperwk\n",
    "            antiHypertensiveCount=antiHypertensiveCountList[0],       #htntx\n",
    "            statin=statinList[0],                                     #choltx\n",
    "            otherLipidLoweringMedicationCount=otherLipidLoweringMedicationCountList[0],#same as TestGCPModel\n",
    "            creatinine=creatinineList[0],                             #same as TestGCPModel\n",
    "            initializeAfib=TestGCPStrokeModel.initializeAfib,         #hxafib\n",
    "           )\n",
    "        \n",
    "        self._age = ageList[0:3]\n",
    "        self.add_outcome_event(Outcome(OutcomeType.STROKE, False))\n",
    "        self._age = ageList\n",
    "        self._sbp = sbpList\n",
    "        self._dbp = dbpList\n",
    "        self._a1c = a1cList\n",
    "        self._hdl = hdlList\n",
    "        self._totChol = totCholList\n",
    "        self._ldl = ldlList\n",
    "        self._trig = trigList\n",
    "        self._bmi = bmiList\n",
    "        self._waist = waistList\n",
    "        self._anyPhysicalActivity = anyPhysicalActivityList\n",
    "        self._antiHypertensiveCount = antiHypertensiveCountList\n",
    "        self._statin = statinList\n",
    "        self._otherLipidLoweringMedicationCount = otherLipidLoweringMedicationCountList\n",
    "        self._creatinine = creatinineList\n",
    "        self._gcp = gcpList\n",
    "    \n",
    "    @property\n",
    "    def _gfr(self):\n",
    "        return 80.61366 #override the gfr calculation and use the measurement for this person\n",
    "\n",
    "test_case_one = TestCaseOne()\n",
    "#test_case_one._gfr, test_case_one._age"
   ]
  },
  {
   "cell_type": "code",
   "execution_count": 19,
   "id": "907d5a0f-6173-4645-98cf-00b9230381b5",
   "metadata": {},
   "outputs": [],
   "source": [
    "ageAtLastStroke=test_case_one.get_age_at_last_outcome(OutcomeType.STROKE)\n",
    "#the get_wave function gives me the wave that follows the updates to the person object\n",
    "#in other words, this function returns the wave that the person is currently in,\n",
    "#after the last updates, but I want the wave that gave me the last updates\n",
    "waveAtLastStroke=test_case_one.get_wave_for_age(ageAtLastStroke)-1\n",
    "#ageAtLastStroke, waveAtLastStroke"
   ]
  },
  {
   "cell_type": "code",
   "execution_count": 20,
   "id": "bb266152-1f7f-45d7-82ac-dda462495d8b",
   "metadata": {},
   "outputs": [
    {
     "data": {
      "text/plain": [
       "{<OutcomeType.MI: 'mi'>: [],\n",
       " <OutcomeType.STROKE: 'stroke'>: [(78.49117043,\n",
       "   Outcome type: OutcomeType.STROKE, fatal: False)],\n",
       " <OutcomeType.DEMENTIA: 'dementia'>: []}"
      ]
     },
     "execution_count": 20,
     "metadata": {},
     "output_type": "execute_result"
    }
   ],
   "source": [
    "test_case_one._outcomes"
   ]
  },
  {
   "cell_type": "code",
   "execution_count": 21,
   "id": "4eddf556-6166-4e94-8428-399c467d26a3",
   "metadata": {},
   "outputs": [],
   "source": [
    "#test_case_one._age[-1], ageAtLastStroke"
   ]
  },
  {
   "cell_type": "code",
   "execution_count": 22,
   "id": "d46ace05-31c8-48e3-ac8e-cfa76cd40b4a",
   "metadata": {},
   "outputs": [
    {
     "data": {
      "text/plain": [
       "51.87609553705786"
      ]
     },
     "execution_count": 22,
     "metadata": {},
     "output_type": "execute_result"
    }
   ],
   "source": [
    "#this should give me what I got above\n",
    "(GCPStrokeModel()\n",
    " .calc_linear_predictor_for_patient_characteristics(\n",
    "        ageAtLastStroke = ageAtLastStroke,\n",
    "        yearsSinceStroke = test_case_one._age[-1]-ageAtLastStroke,\n",
    "        gender = test_case_one._gender,\n",
    "        raceEthnicity = test_case_one._raceEthnicity,\n",
    "        education = test_case_one._education,\n",
    "        smokingStatus = test_case_one._smokingStatus,\n",
    "        #diabetes = test_case_one.has_diabetestx(),\n",
    "        physicalActivity = test_case_one._anyPhysicalActivity[-1],\n",
    "        alcoholPerWeek = test_case_one._alcoholPerWeek[-1],\n",
    "        medianBmiPrestroke = np.median(np.array(test_case_one._bmi[:waveAtLastStroke+1])),\n",
    "        meanSBP = np.array(test_case_one._sbp[waveAtLastStroke+1:]).mean(),\n",
    "        meanSBPPrestroke = np.array(test_case_one._sbp[:waveAtLastStroke+1]).mean(),\n",
    "        meanLdlPrestroke = np.array(test_case_one._ldl[:waveAtLastStroke+1]).mean(),\n",
    "        meanLdl = np.array(test_case_one._ldl[waveAtLastStroke+1:]).mean(),\n",
    "        #cannot control this property for now\n",
    "        gfr = test_case_one._gfr,\n",
    "        medianWaistPrestroke = np.median(np.array(test_case_one._waist[:waveAtLastStroke+1])),\n",
    "        meanFastingGlucose = Person.convert_a1c_to_fasting_glucose(np.array(test_case_one._a1c[waveAtLastStroke+1:]).mean()),\n",
    "        meanFastingGlucosePrestroke = Person.convert_a1c_to_fasting_glucose(np.array(test_case_one._a1c[:waveAtLastStroke+1]).mean()),\n",
    "        anyAntiHypertensive = test_case_one._current_bp_treatment,\n",
    "        anyLipidLowering = test_case_one._statin[-1] | (test_case_one._otherLipidLoweringMedicationCount[-1]>0),\n",
    "        afib = test_case_one._afib[-1],\n",
    "        mi= test_case_one._mi,\n",
    "        medianGCPPrestroke = np.median(np.array(test_case_one._gcp[:waveAtLastStroke+1])))    \n",
    ")"
   ]
  },
  {
   "cell_type": "markdown",
   "id": "0741199e-ab7a-41fc-baaa-358c2dd2bcc5",
   "metadata": {},
   "source": [
    "### REPRODUCE RESULTS USING get_risk_for_person (non-vectorized) AND A PERSON"
   ]
  },
  {
   "cell_type": "code",
   "execution_count": 32,
   "id": "f7fea681-69e5-429c-b574-cc840a4943ae",
   "metadata": {
    "tags": []
   },
   "outputs": [
    {
     "data": {
      "text/plain": [
       "51.87609553705786"
      ]
     },
     "execution_count": 32,
     "metadata": {},
     "output_type": "execute_result"
    }
   ],
   "source": [
    "#seedSequence = np.random.SeedSequence()\n",
    "#rngStream = np.random.default_rng(seed=seedSequence)\n",
    "\n",
    "#should be same as above\n",
    "(GCPStrokeModel().get_risk_for_person(test_case_one, \n",
    "                                      rng=None, \n",
    "                                      years=1,\n",
    "                                      vectorized=False,\n",
    "                                      test=True))"
   ]
  },
  {
   "cell_type": "markdown",
   "id": "ef6252bc-cade-4832-a3b1-dd3194cba8d0",
   "metadata": {},
   "source": [
    "### REPRODUCE RESULTS USING get_risk_for_person (vectorized) AND A PERSON-ROW"
   ]
  },
  {
   "cell_type": "code",
   "execution_count": 34,
   "id": "9aa5d40d-576e-4957-9ebf-a84cc1e579f7",
   "metadata": {},
   "outputs": [
    {
     "data": {
      "text/plain": [
       "51.87609553705786"
      ]
     },
     "execution_count": 34,
     "metadata": {},
     "output_type": "execute_result"
    }
   ],
   "source": [
    "pop = Population(pd.Series(test_case_one))\n",
    "df = pop.get_people_current_state_and_summary_as_dataframe()\n",
    "\n",
    "#should be same as above\n",
    "GCPStrokeModel().get_risk_for_person(person=df.iloc[0], rng=None, \n",
    "                                      years=1,\n",
    "                                      vectorized=True,\n",
    "                                      test=True)"
   ]
  },
  {
   "cell_type": "markdown",
   "id": "ce144bdb-5467-4bee-b13a-57d8074b877e",
   "metadata": {},
   "source": [
    "### TROUBLESHOOTING"
   ]
  },
  {
   "cell_type": "code",
   "execution_count": null,
   "id": "b208cda1-3f63-4ba6-a1c2-1e5a92567eaa",
   "metadata": {},
   "outputs": [],
   "source": [
    "#use this for troubleshooting\n",
    "person=alive.iloc[0]\n",
    "\n",
    "ageAtLastStroke=person.ageAtLastStroke\n",
    "(\n",
    "#ageAtLastStroke,\n",
    "#person.age-ageAtLastStroke, test_case_one._age[-1]-ageAtLastStroke,\n",
    "#person.gender, test_case_one._gender,\n",
    "#person.raceEthnicity, test_case_one._raceEthnicity,\n",
    "#person.education, test_case_one._education,\n",
    "#person.smokingStatus, test_case_one._smokingStatus,\n",
    "#person.current_diabetes, test_case_one.has_diabetes(),\n",
    "#person.anyPhysicalActivity, test_case_one._anyPhysicalActivity[-1],\n",
    "#person.alcoholPerWeek, test_case_one._alcoholPerWeek[-1],\n",
    "#person.medianBmiPriorToLastStroke, np.median(np.array(test_case_one._bmi[:waveAtLastStroke+1])),\n",
    "person.meanSbpSinceLastStroke, np.array(test_case_one._sbp[waveAtLastStroke+1:]).mean(), \n",
    "#person.meanSbpPriorToLastStroke, np.array(test_case_one._sbp[:waveAtLastStroke+1]).mean(),\n",
    "#person.meanLdlPriorToLastStroke, np.array(test_case_one._ldl[:waveAtLastStroke+1]).mean(),\n",
    "person.meanLdlSinceLastStroke, np.array(test_case_one._ldl[waveAtLastStroke+1:]).mean(),\n",
    "    np.array(test_case_one._ldl[:]).mean(),\n",
    "#person.gfr, test_case_one._gfr,\n",
    "#person.medianWaistPriorToLastStroke, np.median(np.array(test_case_one._waist[:waveAtLastStroke+1])),\n",
    "Person.convert_a1c_to_fasting_glucose(person.meanA1cSinceLastStroke), Person.convert_a1c_to_fasting_glucose(np.array(test_case_one._a1c[waveAtLastStroke:]).mean()),\n",
    "Person.convert_a1c_to_fasting_glucose(np.array(test_case_one._a1c[:]).mean()),\n",
    "#Person.convert_a1c_to_fasting_glucose(person.meanA1cPriorToLastStroke), Person.convert_a1c_to_fasting_glucose(np.array(test_case_one._a1c[:waveAtLastStroke+1]).mean()),\n",
    "#((person.antiHypertensiveCount + person.totalBPMedsAdded)> 0), test_case_one._current_bp_treatment,\n",
    "#(person.statin | (person.otherLipidLoweringMedicationCount>0.)), test_case_one._statin[-1] | (test_case_one._otherLipidLoweringMedicationCount[-1]>0),\n",
    "#person.afib, test_case_one._afib[-1],\n",
    "#person.mi, test_case_one._mi,\n",
    "#person.medianGcpPriorToLastStroke, np.median(np.array(test_case_one._gcp[:waveAtLastStroke+1])))\n",
    ")"
   ]
  },
  {
   "cell_type": "code",
   "execution_count": null,
   "id": "af6bc562-53db-41ff-8e27-fcf9c0336f98",
   "metadata": {},
   "outputs": [],
   "source": [
    "Person.convert_a1c_to_fasting_glucose(test_case_two._a1c[3])"
   ]
  },
  {
   "cell_type": "code",
   "execution_count": null,
   "id": "218cada7-ff0f-4b81-a762-545647320473",
   "metadata": {},
   "outputs": [],
   "source": [
    "test_case_two._age"
   ]
  },
  {
   "cell_type": "code",
   "execution_count": null,
   "id": "1283ee27-bff9-4602-ab6d-50eb92aed25b",
   "metadata": {},
   "outputs": [],
   "source": [
    "ageAtStroke = 74.6 + -1.21225*10\n",
    "indexStroke = 2\n",
    "ageList = [ageAtStroke + 3.3976728 + x for x in range(-5,1)]\n",
    "ageList.insert(indexStroke, ageAtStroke)\n",
    "ageList"
   ]
  },
  {
   "cell_type": "code",
   "execution_count": null,
   "id": "36e2c874-287c-4346-b2fe-49d51683c9f7",
   "metadata": {},
   "outputs": [],
   "source": [
    "Person.convert_a1c_to_fasting_glucose(test_case_three._a1c[0])"
   ]
  },
  {
   "cell_type": "code",
   "execution_count": null,
   "id": "3a068b6e-8baf-4d11-8237-dbb9fc4678b3",
   "metadata": {},
   "outputs": [],
   "source": [
    "ageAtLastStroke=test_case_three.get_age_at_last_outcome(OutcomeType.STROKE)\n",
    "#the get_wave function gives me the wave that follows the updates to the person object\n",
    "#in other words, this function returns the wave that the person is currently in,\n",
    "#after the last updates, but I want the wave that gave me the last updates\n",
    "waveAtLastStroke=test_case_three.get_wave_for_age(ageAtLastStroke)-1\n",
    "#ageAtLastStroke, waveAtLastStroke"
   ]
  },
  {
   "cell_type": "code",
   "execution_count": null,
   "id": "70946efb-b8b1-4f4e-9954-16d95497ea9f",
   "metadata": {},
   "outputs": [],
   "source": [
    "ageAtStroke = 74.6 + 0.85400*10\n",
    "indexStroke = 2\n",
    "ageList = [ageAtStroke + 8.265571 + x for x in range(-10,1)]\n",
    "ageList.insert(indexStroke, ageAtStroke) \n",
    "ageList"
   ]
  },
  {
   "cell_type": "code",
   "execution_count": null,
   "id": "ad35e7d5-fc15-44a4-9385-09e29fa9c70b",
   "metadata": {},
   "outputs": [],
   "source": [
    "ageAtStroke = 74.6 + 0.85400*10\n",
    "        indexStroke = 2\n",
    "        ageList = [ageAtStroke + 8.265571 + x for x in range(-5,1)]\n",
    "        ageList.insert(indexStroke, ageAtStroke)"
   ]
  }
 ],
 "metadata": {
  "kernelspec": {
   "display_name": "microsimKernel",
   "language": "python",
   "name": "microsimkernel"
  },
  "language_info": {
   "codemirror_mode": {
    "name": "ipython",
    "version": 3
   },
   "file_extension": ".py",
   "mimetype": "text/x-python",
   "name": "python",
   "nbconvert_exporter": "python",
   "pygments_lexer": "ipython3",
   "version": "3.9.13"
  }
 },
 "nbformat": 4,
 "nbformat_minor": 5
}
