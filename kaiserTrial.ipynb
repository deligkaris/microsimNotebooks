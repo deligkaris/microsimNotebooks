{
 "cells": [
  {
   "cell_type": "markdown",
   "id": "95f03791-b23b-4fe6-8982-b8b98cc134af",
   "metadata": {
    "jp-MarkdownHeadingCollapsed": true,
    "tags": []
   },
   "source": [
    "The goals of this notebook are to \n",
    "- validate the Microsim Kaiser population baseline characteristics against the actual Kaiser population\n",
    "- validate the SBI and WMH models \n",
    "- examine the control-treated similarities/differences in WMH outcomes"
   ]
  },
  {
   "cell_type": "code",
   "execution_count": null,
   "id": "8c014fad-dbc2-4832-96d6-209e4da8b476",
   "metadata": {},
   "outputs": [],
   "source": [
    "#numpy and pandas modules are not always necessary but more often than not...\n",
    "import numpy as np\n",
    "import pandas as pd\n",
    "#the os module is typically necessary as we always must switch to the Microsim code directory\n",
    "import os\n",
    "import matplotlib.pyplot as plt\n",
    "\n",
    "#import microsim modules that we need in order to run a trial\n",
    "from microsim.trials.trial_type import TrialType\n",
    "from microsim.trials.trial_description import KaiserTrialDescription, NhanesTrialDescription\n",
    "from microsim.risk_factor import StaticRiskFactorsType, DynamicRiskFactorsType\n",
    "from microsim.person_filter_factory import PersonFilterFactory\n",
    "from microsim.trials.trial_outcome_assessor_factory import TrialOutcomeAssessorFactory\n",
    "from microsim.trials.trial import Trial\n",
    "from microsim.outcome import OutcomeType\n",
    "from microsim.wmh_severity import WMHSeverity\n",
    "\n",
    "#switch to the Microsim directory\n",
    "microsimDir = \"/Users/deligkaris.1/OneDrive - The Ohio State University Wexner Medical Center/MICROSIM/CODE/microsim\"\n",
    "os.chdir(microsimDir)"
   ]
  },
  {
   "cell_type": "code",
   "execution_count": null,
   "id": "8764a5a3-5830-4892-b810-cab52bbcf5be",
   "metadata": {},
   "outputs": [],
   "source": [
    "pd.set_option('future.no_silent_downcasting', True) "
   ]
  },
  {
   "cell_type": "code",
   "execution_count": null,
   "id": "a8447691-7ce1-4413-bda1-ee6b203491f8",
   "metadata": {},
   "outputs": [],
   "source": [
    "pf=None"
   ]
  },
  {
   "cell_type": "code",
   "execution_count": null,
   "id": "e3566e66-ce28-4c2e-98cc-f42769afa9d3",
   "metadata": {},
   "outputs": [],
   "source": [
    "sampleSize = 300000\n",
    "td = KaiserTrialDescription(trialType = TrialType.COMPLETELY_RANDOMIZED,\n",
    "                            blockFactors=list(),\n",
    "                            sampleSize = sampleSize, \n",
    "                            duration = 1, \n",
    "                            treatmentStrategies = \"1bpMedsAdded\",\n",
    "                            nWorkers = 5, \n",
    "                            personFilters=pf)\n",
    "td"
   ]
  },
  {
   "cell_type": "code",
   "execution_count": null,
   "id": "4966eb0d-ce77-4639-a31c-d31dbeb8f634",
   "metadata": {},
   "outputs": [],
   "source": [
    "tr = Trial(td)\n",
    "tr"
   ]
  },
  {
   "cell_type": "code",
   "execution_count": null,
   "id": "0c3c0386-e8ee-4b97-8d0a-d8970805c0f7",
   "metadata": {},
   "outputs": [],
   "source": [
    "tr.print_covariate_distributions()"
   ]
  },
  {
   "cell_type": "code",
   "execution_count": null,
   "id": "e08595fe-3b20-4858-b71c-049826c0f811",
   "metadata": {},
   "outputs": [],
   "source": [
    "%%time\n",
    "tr.run()\n",
    "tr"
   ]
  },
  {
   "cell_type": "code",
   "execution_count": null,
   "id": "b466093a-0c25-47bd-b9c5-f57884b15dbb",
   "metadata": {},
   "outputs": [],
   "source": [
    "toa = TrialOutcomeAssessorFactory.get_trial_outcome_assessor()\n",
    "toa"
   ]
  },
  {
   "cell_type": "code",
   "execution_count": null,
   "id": "9c47e410-806d-44f3-9b6f-59f68b93603a",
   "metadata": {},
   "outputs": [],
   "source": [
    "tr.analyze(toa)\n",
    "tr"
   ]
  },
  {
   "cell_type": "markdown",
   "id": "07a422ac-07cf-4b67-9178-5951f30b7a4a",
   "metadata": {},
   "source": [
    "### MicrosimKaiser-Kaiser population comparison"
   ]
  },
  {
   "cell_type": "code",
   "execution_count": null,
   "id": "0c712416-6e53-4c2a-b6a8-d9fdbe3d315e",
   "metadata": {},
   "outputs": [],
   "source": [
    "def get_info(person):\n",
    "    if len(person._outcomes[OutcomeType.WMH])>0:\n",
    "        age = person._outcomes[OutcomeType.WMH][0][0]\n",
    "        wave = person.get_wave_for_age(age)\n",
    "        gcp = person._outcomes[OutcomeType.COGNITION][wave][1].gcp\n",
    "        severity = person._outcomes[OutcomeType.WMH][0][1].wmhSeverity\n",
    "        sbi = person._outcomes[OutcomeType.WMH][0][1].sbi\n",
    "        wmh = person._outcomes[OutcomeType.WMH][0][1].wmh\n",
    "        modality = person._modality\n",
    "        unknown = person._outcomes[OutcomeType.WMH][0][1].wmhSeverityUnknown\n",
    "        return (gcp, severity, modality, wmh, sbi, unknown)\n",
    "controlInfo = list(map(lambda x: get_info(x), tr.controlPop._people))\n",
    "treatedInfo= list(map(lambda x: get_info(x), tr.treatedPop._people))"
   ]
  },
  {
   "cell_type": "code",
   "execution_count": null,
   "id": "6b20d5fa-30e9-41b7-a9b3-e91970ac01cb",
   "metadata": {},
   "outputs": [],
   "source": [
    "controlSeverity = [y.value if y is not None else \"unknown\" for y in [x[1] for x in controlInfo] ]\n",
    "treatedSeverity = [y.value if y is not None else \"unknown\" for y in [x[1] for x in treatedInfo]]\n",
    "bins = list(pd.Series(controlSeverity).value_counts(dropna=False).index)\n",
    "binCounts = list(pd.Series(controlSeverity).value_counts(dropna=False))\n",
    "xLabels = ['unknown', 'no', 'mild', 'moderate', 'severe']\n",
    "xOrder = [1,2,0,3,4]\n",
    "kaiserRates = [0.069, 0.7065, 0.1715, 0.0378, 0.0152]\n",
    "barWidth=0.35\n",
    "fig, ax = plt.subplots(layout='constrained')\n",
    "ax.bar(xOrder, [x/sampleSize for x in binCounts], barWidth, tick_label=bins, label=\"MicrosimKaiser\")\n",
    "ax.bar([x+barWidth for x in range(5)], kaiserRates, barWidth, tick_label=['unknown', 'no', 'mild', 'moderate', 'severe'], label=\"Kaiser\")\n",
    "ax.legend(prop={'size': 10})\n",
    "plt.xticks([x+barWidth/2 for x in range(5)], xLabels)\n",
    "plt.xlabel(\"WMH severity\")\n",
    "plt.ylabel(\"%\")\n",
    "plt.show()"
   ]
  },
  {
   "cell_type": "code",
   "execution_count": null,
   "id": "b5743023-c83f-403b-804e-b606884143b7",
   "metadata": {},
   "outputs": [],
   "source": [
    "for i,counts in enumerate(binCounts):\n",
    "    print(f\"WMH rates {bins[i]:<10} Kaiser  {kaiserRates[xOrder[i]]:<16.4f} MicrosimKaiser {binCounts[i]/sampleSize:<16.4f}\")"
   ]
  },
  {
   "cell_type": "code",
   "execution_count": null,
   "id": "376a4c2d-c07b-4bf9-a941-ce6cdf8587a7",
   "metadata": {},
   "outputs": [],
   "source": [
    "controlSbi = list(map(lambda x: x[4], controlInfo))\n",
    "treatedSbi = list(map(lambda x: x[4], treatedInfo))\n",
    "#list(map(lambda x: np.mean(x), [controlSbi, treatedSbi]))\n",
    "print(f\"Kaiser SBI rate: 0.0438, MicrosimKaiser SBI rate: {np.mean(controlSbi):<5.4f}\")"
   ]
  },
  {
   "cell_type": "code",
   "execution_count": null,
   "id": "e97f5601-16c4-4640-bb01-40a4f276cb1d",
   "metadata": {},
   "outputs": [],
   "source": [
    "binsControl = list(pd.Series(controlSbi).value_counts(dropna=False).index)\n",
    "binCountsControl = list(pd.Series(controlSbi).value_counts(dropna=False))\n",
    "binsTreated = list(pd.Series(treatedSbi).value_counts(dropna=False).index)\n",
    "binCountsTreated = list(pd.Series(treatedSbi).value_counts(dropna=False))\n",
    "fig, ax = plt.subplots(layout='constrained')\n",
    "ax.bar([0,1], [x/sampleSize for x in binCountsControl], barWidth, label=\"MicrosimKaiser\")\n",
    "ax.bar([x+barWidth for x in [0,1]], [0.9562, 0.0438], barWidth, label=\"Kaiser\")\n",
    "ax.legend(prop={'size': 10})\n",
    "plt.xticks([x+barWidth/2 for x in range(2)], binsControl)\n",
    "plt.xlabel(\"SBI\")\n",
    "plt.ylabel(\"rate %\")\n",
    "plt.show()"
   ]
  },
  {
   "cell_type": "markdown",
   "id": "b61d6726-9a6c-4841-b8dd-65cd36ae7862",
   "metadata": {},
   "source": [
    "## Microsim control-treated comparison"
   ]
  },
  {
   "cell_type": "code",
   "execution_count": null,
   "id": "a860ce9c-76a1-436c-b528-ef5f1fd63608",
   "metadata": {},
   "outputs": [],
   "source": [
    "controlSeverity = [y.value if y is not None else \"unknown\" for y in [x[1] for x in controlInfo] ]\n",
    "treatedSeverity = [y.value if y is not None else \"unknown\" for y in [x[1] for x in treatedInfo]]\n",
    "binsControl = list(pd.Series(controlSeverity).value_counts(dropna=False).index)\n",
    "binCountsControl = list(pd.Series(controlSeverity).value_counts(dropna=False))\n",
    "binsTreated = list(pd.Series(treatedSeverity).value_counts(dropna=False).index)\n",
    "binCountsTreated = list(pd.Series(treatedSeverity).value_counts(dropna=False))\n",
    "barWidth=0.35\n",
    "fig, ax = plt.subplots(layout='constrained')\n",
    "ax.bar([1,2,0,3,4], [x/sampleSize for x in binCountsControl], barWidth, label=\"Control\")\n",
    "ax.bar([x+barWidth for x in [1,2,0,3,4]], [x/sampleSize for x in binCountsTreated], barWidth, label=\"Treated\")\n",
    "ax.legend(prop={'size': 10})\n",
    "plt.xticks([x+barWidth/2 for x in range(5)], ['unknown', 'no', 'mild', 'moderate', 'severe'])\n",
    "plt.xlabel(\"WMH severity\")\n",
    "plt.ylabel(\"rate %\")\n",
    "plt.show()"
   ]
  },
  {
   "cell_type": "code",
   "execution_count": null,
   "id": "b3310f83-c669-4753-91f4-f4a83a7f8d65",
   "metadata": {},
   "outputs": [],
   "source": [
    "binsControl = list(pd.Series(controlSbi).value_counts(dropna=False).index)\n",
    "binCountsControl = list(pd.Series(controlSbi).value_counts(dropna=False))\n",
    "binsTreated = list(pd.Series(treatedSbi).value_counts(dropna=False).index)\n",
    "binCountsTreated = list(pd.Series(treatedSbi).value_counts(dropna=False))\n",
    "fig, ax = plt.subplots(layout='constrained')\n",
    "ax.bar([0,1], [x/sampleSize for x in binCountsControl], barWidth, label=\"Control\")\n",
    "ax.bar([x+barWidth for x in [0,1]], [x/sampleSize for x in binCountsTreated], barWidth, label=\"Treated\")\n",
    "ax.legend(prop={'size': 10})\n",
    "plt.xticks([x+barWidth/2 for x in range(2)], binsControl)\n",
    "plt.xlabel(\"SBI\")\n",
    "plt.ylabel(\"rate %\")\n",
    "plt.show()"
   ]
  },
  {
   "cell_type": "code",
   "execution_count": null,
   "id": "4de741ff-1a7c-4ad2-8924-0ac68adff416",
   "metadata": {},
   "outputs": [],
   "source": [
    "#WMH event rates\n",
    "controlWmh = list(map(lambda x: x[3], controlInfo))\n",
    "treatedWmh = list(map(lambda x: x[3], treatedInfo))\n",
    "list(map(lambda x: np.mean(x), [controlWmh, treatedWmh]))"
   ]
  },
  {
   "cell_type": "code",
   "execution_count": null,
   "id": "ccd44241-0d5d-4fa0-90cc-5064c1217fdf",
   "metadata": {},
   "outputs": [],
   "source": [
    "#unknown severity \n",
    "controlSeverityUnknown = list(filter(lambda x: x[1] is None, controlInfo))\n",
    "treatedSeverityUnknown = list(filter(lambda x: x[1] is None, treatedInfo))\n",
    "(len(controlSeverityUnknown)/len(controlInfo), len(treatedSeverityUnknown)/len(treatedInfo))"
   ]
  },
  {
   "cell_type": "code",
   "execution_count": null,
   "id": "4dbb47e2-3708-4271-923b-f3a1eb83c234",
   "metadata": {},
   "outputs": [],
   "source": [
    "#same as above\n",
    "controlSeverityUnknown = list(filter(lambda x: x[5]==True, controlInfo))\n",
    "treatedSeverityUnknown = list(filter(lambda x: x[5]==True, treatedInfo))\n",
    "(len(controlSeverityUnknown)/len(controlInfo), len(treatedSeverityUnknown)/len(treatedInfo))"
   ]
  },
  {
   "cell_type": "code",
   "execution_count": null,
   "id": "372a0f78-c137-4536-bc82-bc6398201b83",
   "metadata": {},
   "outputs": [],
   "source": [
    "#severity counts for control\n",
    "pd.Series(controlSeverity).value_counts()/len(controlInfo)"
   ]
  },
  {
   "cell_type": "code",
   "execution_count": null,
   "id": "ed1e8a26-2371-4b11-9b24-87f22c653108",
   "metadata": {},
   "outputs": [],
   "source": [
    "#severity counts for treated\n",
    "pd.Series(treatedSeverity).value_counts()/len(treatedInfo)"
   ]
  },
  {
   "cell_type": "code",
   "execution_count": null,
   "id": "8dcb94dd-e915-4afa-ad4f-532e9deccddc",
   "metadata": {},
   "outputs": [],
   "source": [
    "gcpDataControl = dict()\n",
    "gcpDataTreated = dict()\n",
    "modDataControl = dict()\n",
    "modDataTreated = dict()\n",
    "for severity in WMHSeverity:\n",
    "    gcpDataControl[severity.value] = list(map(lambda y: y[0], list(filter(lambda x: x[1]==severity, controlInfo))))\n",
    "    gcpDataTreated[severity.value] = list(map(lambda y: y[0], list(filter(lambda x: x[1]==severity, treatedInfo))))\n",
    "    modDataControl[severity.value] = list(map(lambda y: y[2], list(filter(lambda x: x[1]==severity, controlInfo))))\n",
    "    modDataTreated[severity.value] = list(map(lambda y: y[2], list(filter(lambda x: x[1]==severity, treatedInfo))))"
   ]
  },
  {
   "cell_type": "code",
   "execution_count": null,
   "id": "b95d4677-49c3-4881-b415-bd4e4ca559eb",
   "metadata": {},
   "outputs": [],
   "source": [
    "severityList = [x.value for x in WMHSeverity]\n",
    "gcpControl = [gcpDataControl[x] for x in severityList]\n",
    "gcpTreated = [gcpDataTreated[x] for x in severityList]\n",
    "modControl = [modDataControl[x] for x in severityList]\n",
    "modTreated = [modDataTreated[x] for x in severityList]"
   ]
  },
  {
   "cell_type": "code",
   "execution_count": null,
   "id": "9ea5b691-9f1d-4068-8581-cc27d02c1544",
   "metadata": {},
   "outputs": [],
   "source": [
    "fig, ax = plt.subplots(layout='constrained')\n",
    "ax.hist(modTreated, label=severityList)\n",
    "ax.legend(prop={'size': 10})\n",
    "plt.ylabel(\"WMH severity counts\")\n",
    "plt.xlabel(\"modality\")\n",
    "plt.title(\"WMH severity counts by modality in treated\")\n",
    "plt.show()"
   ]
  },
  {
   "cell_type": "code",
   "execution_count": null,
   "id": "79e0c628-68e7-481f-b0ae-6f29e6e6da6a",
   "metadata": {},
   "outputs": [],
   "source": [
    "fig, ax = plt.subplots(layout='constrained')\n",
    "ax.hist(modControl, label=severityList)\n",
    "ax.legend(prop={'size': 10})\n",
    "plt.ylabel(\"WMH severity counts\")\n",
    "plt.xlabel(\"modality\")\n",
    "plt.title(\"WMH severity counts by modality in control\")\n",
    "plt.show()"
   ]
  },
  {
   "cell_type": "code",
   "execution_count": null,
   "id": "c98e8f2b-aa21-4d47-989a-180e61f6d8da",
   "metadata": {},
   "outputs": [],
   "source": [
    "fig, ax = plt.subplots()\n",
    "violin = ax.violinplot(gcpControl, showmeans=False, showmedians=False, showextrema=False)\n",
    "#for pc in violin[\"bodies\"]+[violin[\"cmins\"],violin[\"cmaxes\"]]:\n",
    "for pc in violin[\"bodies\"]:\n",
    "    pc.set_facecolor(\"blue\")\n",
    "    pc.set_edgecolor(\"blue\")\n",
    "    pc.set_alpha(0.2)\n",
    "violin = ax.violinplot(gcpTreated, showmeans=False, showmedians=False, showextrema=False)\n",
    "#for pc in violin[\"bodies\"]+[violin[\"cmins\"],violin[\"cmaxes\"]]:\n",
    "for pc in violin[\"bodies\"]:\n",
    "    pc.set_facecolor(\"yellow\")\n",
    "    pc.set_edgecolor(\"yellow\")\n",
    "    pc.set_alpha(0.4)\n",
    "#for pc in [violin[\"cmins\"]]:\n",
    "#    pc.set_color(\"black\")\n",
    "plt.title(\"GCP distributions for WMH severity\\n(blue:control, yellow:treated)\")\n",
    "plt.xticks(list(range(1, len(severityList)+1)), severityList)  # Set category labels on x-axis\n",
    "plt.xlabel('WMH severity')\n",
    "plt.ylabel('GCP distribution')\n",
    "plt.show()"
   ]
  },
  {
   "cell_type": "code",
   "execution_count": null,
   "id": "bd717deb-fa64-426e-ad06-39693f84bbcd",
   "metadata": {},
   "outputs": [],
   "source": [
    "for i in range(len(severityList)):\n",
    "    print(f\"{severityList[i]:>20}\", \" control gcp mean=\", f\"{np.mean(gcpControl[i]):>4.2f}\", \" treated gcp mean=\", f\"{np.mean(gcpTreated[i]):>4.2f}\")"
   ]
  },
  {
   "cell_type": "code",
   "execution_count": null,
   "id": "6ac6a4d8-7e5b-47d5-8fc7-96805f7199a8",
   "metadata": {},
   "outputs": [],
   "source": [
    "plt.boxplot(gcpControl)\n",
    "c=\"red\"\n",
    "plt.boxplot(gcpTreated, \n",
    "            #patch_artist=True,\n",
    "            #boxprops=dict(edgecolor=c, facecolor='none'),\n",
    "            #capprops=dict(color=c),\n",
    "            #whiskerprops=dict(color=c),\n",
    "            #flierprops=dict(color=c, markeredgecolor=c),\n",
    "            #medianprops=dict(color=c)\n",
    "           )\n",
    "plt.title(\"GCP distribution\")\n",
    "plt.xticks(list(range(1, len(severityList)+1)), severityList)  # Set category labels on x-axis\n",
    "plt.xlabel('severity')\n",
    "plt.ylabel('gcp distribution')\n",
    "plt.show()"
   ]
  },
  {
   "cell_type": "code",
   "execution_count": null,
   "id": "7b0f7271-4d20-469d-85a9-c21951b3ca5e",
   "metadata": {},
   "outputs": [],
   "source": [
    "df = tr.controlPop.get_all_person_years_as_df()\n",
    "df[\"afib\"] = df[\"afib\"].astype('int')\n",
    "df[\"pvd\"] = df[\"pvd\"].astype('int')\n",
    "df[\"anyPhysicalActivity\"] = df[\"anyPhysicalActivity\"].astype('int')\n",
    "df[\"statin\"] = df[\"statin\"].astype('int')\n",
    "df[\"wmh\"] = pd.Series(controlWmh)\n",
    "df[\"wmh\"] = df[\"wmh\"].astype('int')\n",
    "df['sbi'] = pd.Series(controlSbi)\n",
    "df['sbi'] = df['sbi'].astype('int')\n",
    "#df[\"wmhSeverity\"] = pd.Series(controlSeverity)\n",
    "#df[\"wmhSeverity\"] = df[\"wmhSeverity\"].replace({\"no\":0, \"mild\":1, \"moderate\":2, \"severe\":3})\n",
    "dataDir = \"/Users/deligkaris.1/OneDrive - The Ohio State University Wexner Medical Center/MICROSIM/NOTEBOOKS/DATA\"\n",
    "#df[df[\"wmhSeverity\"]!=\"unknown\"].to_csv(dataDir+\"/kaiserPopWmhModel.csv\")\n",
    "#df.to_csv(dataDir+\"/kaiserPopWmhModel.csv\")"
   ]
  },
  {
   "cell_type": "code",
   "execution_count": null,
   "id": "76ba313c-51df-4066-8b19-15e0162abed4",
   "metadata": {},
   "outputs": [],
   "source": []
  }
 ],
 "metadata": {
  "kernelspec": {
   "display_name": "microsimKernel",
   "language": "python",
   "name": "microsimkernel"
  },
  "language_info": {
   "codemirror_mode": {
    "name": "ipython",
    "version": 3
   },
   "file_extension": ".py",
   "mimetype": "text/x-python",
   "name": "python",
   "nbconvert_exporter": "python",
   "pygments_lexer": "ipython3",
   "version": "3.9.13"
  }
 },
 "nbformat": 4,
 "nbformat_minor": 5
}
