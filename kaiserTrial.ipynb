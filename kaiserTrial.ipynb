{
 "cells": [
  {
   "cell_type": "markdown",
   "id": "5b44176e-9a98-4ad4-ad27-5bf9f55de199",
   "metadata": {},
   "source": [
    "# Trials with the Kaiser population\n",
    "\n",
    "The goal of this notebook is to illustrate how to setup and run trials with the Kaiser population."
   ]
  },
  {
   "cell_type": "code",
   "execution_count": 12,
   "id": "9d201655-a955-4297-96d9-a28212b89adf",
   "metadata": {},
   "outputs": [],
   "source": [
    "import os\n",
    "microsimDir = \"/Users/deligkaris.1/OneDrive - The Ohio State University Wexner Medical Center/MICROSIM/CODE/microsim\"\n",
    "os.chdir(microsimDir)\n",
    "\n",
    "import pandas as pd\n",
    "\n",
    "from microsim.person_filter import PersonFilter\n",
    "from microsim.trials.trial_description import KaiserTrialDescription\n",
    "from microsim.trials.trial_type import TrialType\n",
    "from microsim.trials.trial import Trial\n",
    "from microsim.trials.trial_outcome_assessor_factory import TrialOutcomeAssessorFactory\n",
    "from microsim.treatment import TreatmentStrategiesType, DefaultTreatmentsType\n",
    "from microsim.treatment_strategy_repository import TreatmentStrategyRepository\n",
    "from microsim.bp_treatment_strategies import SprintForSbpOnlyTreatment\n",
    "from microsim.statin_treatment_strategies import StatinTreatmentStrategy"
   ]
  },
  {
   "cell_type": "code",
   "execution_count": 2,
   "id": "abd82f2c-8809-47dc-9edf-2bf6de2db04b",
   "metadata": {},
   "outputs": [],
   "source": [
    "pd.set_option('future.no_silent_downcasting', True) #make the calculation here future-proof"
   ]
  },
  {
   "cell_type": "markdown",
   "id": "a36914be-7c2f-45c3-8e4d-e06bf5087535",
   "metadata": {},
   "source": [
    "## A relatively simple Kaiser trial"
   ]
  },
  {
   "cell_type": "code",
   "execution_count": 3,
   "id": "b7e1b310-7fc0-44c2-8f4e-8bd50cff482e",
   "metadata": {},
   "outputs": [
    {
     "data": {
      "text/plain": [
       "Trial Description\n",
       "\tTrial type: 1\n",
       "\tBlock factors: []\n",
       "\tSample size: 300000\n",
       "\tDuration: 4\n",
       "\tTreatment strategies: ['bp', 'statin']\n",
       "\tNumber of workers: 5\n",
       "\tPerson filters: \n",
       "\t None\n",
       "\tPopulation type: PopulationType.KAISER"
      ]
     },
     "execution_count": 3,
     "metadata": {},
     "output_type": "execute_result"
    }
   ],
   "source": [
    "pf=None #person filter will not be used for inclusion/exclusion, everyone is eligible\n",
    "sampleSize = 300000\n",
    "td = KaiserTrialDescription(trialType = TrialType.COMPLETELY_RANDOMIZED,\n",
    "                            blockFactors=list(),\n",
    "                            sampleSize = sampleSize, \n",
    "                            duration = 4, \n",
    "                            treatmentStrategies = \"sprint\", #a simple way to specify a single treatment strategy\n",
    "                            nWorkers = 5, \n",
    "                            personFilters=pf,\n",
    "                            wmhSpecific=True) #use WMH-specific risks for the Kaiser outcomes\n",
    "td"
   ]
  },
  {
   "cell_type": "code",
   "execution_count": 4,
   "id": "42e3bdf2-9ea9-4741-8762-13f799e66889",
   "metadata": {},
   "outputs": [
    {
     "data": {
      "text/plain": [
       "Trial Description\n",
       "\tTrial type: 1\n",
       "\tBlock factors: []\n",
       "\tSample size: 300000\n",
       "\tDuration: 4\n",
       "\tTreatment strategies: ['bp', 'statin']\n",
       "\tNumber of workers: 5\n",
       "\tPerson filters: \n",
       "\t None\n",
       "\tPopulation type: PopulationType.KAISER\n",
       "Trial\n",
       "\tTrial completed: False"
      ]
     },
     "execution_count": 4,
     "metadata": {},
     "output_type": "execute_result"
    }
   ],
   "source": [
    "tr = Trial(td)\n",
    "tr"
   ]
  },
  {
   "cell_type": "code",
   "execution_count": 5,
   "id": "97e6ff98-27e7-4062-b4a4-53432f31886a",
   "metadata": {},
   "outputs": [
    {
     "name": "stdout",
     "output_type": "stream",
     "text": [
      "                          Printing covariate information for people still alive...\n",
      "                          self=treated, alive people count=  300000               other=control, alive people count=  300000  \n",
      "                          self=treated, unique alive people count=  193444        other=control, unique alive people count=  193306  \n",
      "                          self                                                    other\n",
      "                          -----------------------------------------------------   -----------------------------------------------------\n",
      "                          min      0.25    med     0.75     max    mean     sd     min     0.25    med     0.75     max    mean     sd\n",
      "                          -----------------------------------------------------   -----------------------------------------------------\n",
      "                    age    45.0    59.0    65.0    72.0   110.0    65.8     9.5    45.0    59.0    65.0    72.0   110.0    65.9     9.5\n",
      "                    sbp    74.1   121.7   130.3   139.0   205.8   130.4    12.9    74.1   121.8   130.3   139.0   192.3   130.4    12.9\n",
      "                    dbp    36.4    66.9    72.7    78.6   114.2    72.8     8.7    36.4    66.8    72.7    78.5   113.5    72.7     8.7\n",
      "                    a1c     3.2     5.5     6.2     6.9    14.9     6.3     1.2     3.3     5.5     6.2     6.9    15.3     6.3     1.2\n",
      "                    hdl     5.4    42.1    51.8    62.2   127.7    52.5    15.0     5.4    42.0    51.8    62.3   132.0    52.5    15.1\n",
      "                    ldl     8.1    82.4   106.9   130.7   422.4   106.7    35.1     8.1    82.4   106.9   130.6   434.8   106.7    35.1\n",
      "                   trig     9.1    97.0   144.9   200.2  3337.5   155.5    84.0     9.0    96.9   145.3   200.9  2389.7   155.9    83.7\n",
      "                totChol    53.1   158.6   187.1   215.3   519.9   186.9    41.4    53.1   158.6   187.3   215.3   519.9   187.0    41.4\n",
      "                    bmi    13.5    24.9    28.5    32.4    60.8    28.9     5.8    13.5    24.9    28.6    32.4    70.8    28.9     5.8\n",
      "             creatinine     0.1     0.7     1.0     1.3    13.8     1.1     0.6     0.1     0.7     1.0     1.3    14.7     1.1     0.6\n",
      "                  waist    43.7    91.3   101.1   110.8   167.8   101.1    14.5    44.8    91.3   101.1   110.8   168.0   101.1    14.6\n",
      "  antiHypertensiveCount     0.0     0.4     0.9     1.5     5.8     1.1     0.8     0.0     0.4     0.9     1.5     6.2     1.1     0.8\n",
      "                          self   other\n",
      "                          proportions\n",
      "                          -----------\n",
      "    anyPhysicalActivity\n",
      "                      0   0.19   0.19\n",
      "                      1   0.81   0.81\n",
      "                   afib\n",
      "                      0   0.94   0.94\n",
      "                      1   0.06   0.06\n",
      "         alcoholPerWeek\n",
      "                      0   0.26   0.26\n",
      "                      2   0.36   0.36\n",
      "                      3   0.38   0.38\n",
      "                    pvd\n",
      "                      0   0.96   0.96\n",
      "                      1   0.04   0.04\n",
      "               modality\n",
      "                     ct   0.75   0.75\n",
      "                     mr   0.25   0.25\n",
      "          raceEthnicity\n",
      "                      2   0.33   0.33\n",
      "                      3   0.42   0.42\n",
      "                      4   0.11   0.11\n",
      "                      5   0.03   0.03\n",
      "                      6   0.11   0.11\n",
      "              education\n",
      "                      1   0.07   0.07\n",
      "                      2   0.14   0.14\n",
      "                      3   0.26   0.27\n",
      "                      4   0.32   0.32\n",
      "                      5   0.21   0.21\n",
      "                 gender\n",
      "                      1   0.40   0.40\n",
      "                      2   0.60   0.60\n",
      "          smokingStatus\n",
      "                      0   0.55   0.55\n",
      "                      1   0.45   0.45\n",
      "                 statin\n",
      "                      0   0.55   0.55\n",
      "                      1   0.45   0.45\n"
     ]
    }
   ],
   "source": [
    "tr.print_covariate_distributions()"
   ]
  },
  {
   "cell_type": "code",
   "execution_count": 6,
   "id": "3b416fa5-5b76-40c5-9afc-52b26bae302b",
   "metadata": {},
   "outputs": [
    {
     "name": "stderr",
     "output_type": "stream",
     "text": [
      "/Users/deligkaris.1/Library/Caches/pypoetry/virtualenvs/microsim-54NoInYP-py3.9/lib/python3.9/site-packages/numpy/core/fromnumeric.py:59: FutureWarning: 'Series.swapaxes' is deprecated and will be removed in a future version. Please use 'Series.transpose' instead.\n",
      "  return bound(*args, **kwds)\n"
     ]
    },
    {
     "name": "stdout",
     "output_type": "stream",
     "text": [
      "Trial is completed.\n",
      "CPU times: user 3min 57s, sys: 6min 31s, total: 10min 29s\n",
      "Wall time: 22min 13s\n"
     ]
    },
    {
     "data": {
      "text/plain": [
       "Trial Description\n",
       "\tTrial type: 1\n",
       "\tBlock factors: []\n",
       "\tSample size: 300000\n",
       "\tDuration: 4\n",
       "\tTreatment strategies: ['bp', 'statin']\n",
       "\tNumber of workers: 5\n",
       "\tPerson filters: \n",
       "\t None\n",
       "\tPopulation type: PopulationType.KAISER\n",
       "Trial\n",
       "\tTrial completed: True"
      ]
     },
     "execution_count": 6,
     "metadata": {},
     "output_type": "execute_result"
    }
   ],
   "source": [
    "%%time\n",
    "tr.run()\n",
    "tr"
   ]
  },
  {
   "cell_type": "code",
   "execution_count": 7,
   "id": "cc9ee8e7-9966-4ebe-8f05-80c57140e6a6",
   "metadata": {},
   "outputs": [
    {
     "data": {
      "text/plain": [
       "Trial Outcome Assessor\n",
       "\tAssessments:\n",
       "\t\tName: death                    Analysis: logistic       \n",
       "\t\tName: anyEvent                 Analysis: logistic       \n",
       "\t\tName: vascularEventOrDeath     Analysis: logistic       \n",
       "\t\tName: vascularEvent            Analysis: logistic       \n",
       "\t\tName: qalys                    Analysis: linear         \n",
       "\t\tName: meanGCP                  Analysis: linear         \n",
       "\t\tName: lastGCP                  Analysis: linear         \n",
       "\t\tName: cogEvent                 Analysis: logistic       \n",
       "\t\tName: deathCox                 Analysis: cox            \n",
       "\t\tName: cogEventCox              Analysis: cox            \n",
       "\t\tName: vascularEventOrDeathCox  Analysis: cox            \n",
       "\t\tName: strokeRR                 Analysis: relativeRisk   \n",
       "\t\tName: miRR                     Analysis: relativeRisk   \n",
       "\t\tName: cvRR                     Analysis: relativeRisk   \n",
       "\t\tName: dementiaRR               Analysis: relativeRisk   \n",
       "\t\tName: ciRR                     Analysis: relativeRisk   \n",
       "\t\tName: dementiaOrCiRR           Analysis: relativeRisk   "
      ]
     },
     "execution_count": 7,
     "metadata": {},
     "output_type": "execute_result"
    }
   ],
   "source": [
    "toa = TrialOutcomeAssessorFactory.get_trial_outcome_assessor()\n",
    "toa"
   ]
  },
  {
   "cell_type": "code",
   "execution_count": 8,
   "id": "182376cd-b332-46a2-970b-ed44833842c2",
   "metadata": {},
   "outputs": [
    {
     "data": {
      "text/plain": [
       "Trial Description\n",
       "\tTrial type: 1\n",
       "\tBlock factors: []\n",
       "\tSample size: 300000\n",
       "\tDuration: 4\n",
       "\tTreatment strategies: ['bp', 'statin']\n",
       "\tNumber of workers: 5\n",
       "\tPerson filters: \n",
       "\t None\n",
       "\tPopulation type: PopulationType.KAISER\n",
       "Trial\n",
       "\tTrial completed: True\n",
       "Trial results:\n",
       "\tAnalysis: linear\n",
       "\t                                         Z      Intercept           Z SE         pValue\n",
       "\t                    qalys:            0.00           3.62           0.00           0.87\n",
       "\t                  meanGCP:            0.05          52.07           0.02           0.01\n",
       "\t                  lastGCP:            0.09          50.46           0.02           0.00\n",
       "\tAnalysis: logistic\n",
       "\t                                         Z      Intercept           Z SE         pValue\n",
       "\t                    death:           -0.00          -2.16           0.01           0.56\n",
       "\t                 anyEvent:           -0.01           0.87           0.01           0.05\n",
       "\t     vascularEventOrDeath:           -0.00          -1.61           0.01           0.85\n",
       "\t            vascularEvent:           -0.00          -2.35           0.01           0.99\n",
       "\t                 cogEvent:           -0.01           0.51           0.01           0.01\n",
       "\tAnalysis: cox\n",
       "\t                                         Z      Intercept           Z SE         pValue\n",
       "\t                 deathCox:           -0.00                          0.01           0.60\n",
       "\t              cogEventCox:           -0.01                          0.00           0.03\n",
       "\t  vascularEventOrDeathCox:           -0.00                          0.01           0.88\n",
       "\tAnalysis: relativeRisk\n",
       "\t                                   relRisk    treatedRisk    controlRisk    |diff|*1000\n",
       "\t                 strokeRR:            1.00           0.05           0.04           0.18\n",
       "\t                     miRR:            1.00           0.04           0.04           0.22\n",
       "\t                     cvRR:            1.00           0.09           0.09           0.01\n",
       "\t               dementiaRR:            0.97           0.04           0.04           1.18\n",
       "\t                     ciRR:            1.00           0.60           0.60           2.81\n",
       "\t           dementiaOrCiRR:            0.99           0.62           0.63           3.28"
      ]
     },
     "execution_count": 8,
     "metadata": {},
     "output_type": "execute_result"
    }
   ],
   "source": [
    "tr.analyze(toa)\n",
    "tr"
   ]
  },
  {
   "cell_type": "code",
   "execution_count": 9,
   "id": "4e2fbe48-e13d-42d8-b931-897fc5dddb13",
   "metadata": {},
   "outputs": [
    {
     "name": "stdout",
     "output_type": "stream",
     "text": [
      "                          self=treated, alive people count=  269142  \n",
      "                          self=treated & alive, unique people count=  180372  \n",
      "                          self\n",
      "                          -----------------------------------------------------\n",
      "                          proportions\n",
      "                          -----------\n",
      "            bpMedsAdded\n",
      "                      0   0.93\n",
      "                      1   0.04\n",
      "                      2   0.02\n",
      "                      3   0.01\n",
      "                      4   0.00\n"
     ]
    }
   ],
   "source": [
    "tr.print_treatment_strategy_variables_distribution()"
   ]
  },
  {
   "cell_type": "markdown",
   "id": "49ddf3c7-3cdb-415a-9a9e-34469fa51c8d",
   "metadata": {},
   "source": [
    "## A more complex Kaiser trial"
   ]
  },
  {
   "cell_type": "markdown",
   "id": "27f27d88-fea1-4ec1-9c6e-f91c2f765fd0",
   "metadata": {},
   "source": [
    "We will create a person filter with user-specified criteria."
   ]
  },
  {
   "cell_type": "code",
   "execution_count": 10,
   "id": "0a9fd209-0f9a-4bee-84a8-b9a10d7e0c31",
   "metadata": {},
   "outputs": [],
   "source": [
    "pf = PersonFilter() \n",
    "#pf.add_filter(\"person\", \n",
    "#              \"lowCvLimit\", \n",
    "#              lambda x: (CVModelRepository().select_outcome_model_for_person(x).get_risk_for_person(x, years=10)<0.075))\n",
    "pf.add_filter(\"df\",\n",
    "              \"noStatin\",\n",
    "              lambda x: x[DefaultTreatmentsType.STATIN.value]==0)"
   ]
  },
  {
   "cell_type": "markdown",
   "id": "00b0f869-3d85-4d5b-8cca-64caa1063f32",
   "metadata": {},
   "source": [
    "We will initialize a treatment strategy that includes a user-specified CV risk cutoff for statins added and a blood pressure treatment."
   ]
  },
  {
   "cell_type": "code",
   "execution_count": 13,
   "id": "cacb12dd-3af7-47fb-89be-559573827250",
   "metadata": {},
   "outputs": [],
   "source": [
    "ts = TreatmentStrategyRepository()\n",
    "ts._repository[TreatmentStrategiesType.BP.value] = SprintForSbpOnlyTreatment()\n",
    "ts._repository[TreatmentStrategiesType.STATIN.value] = StatinTreatmentStrategy(cvRiskCutoff=0.075)"
   ]
  },
  {
   "cell_type": "markdown",
   "id": "9dd9d6ff-c75e-4d8e-a278-9a9e07669940",
   "metadata": {},
   "source": [
    "Setup the trial description and then follow the usual steps."
   ]
  },
  {
   "cell_type": "code",
   "execution_count": 14,
   "id": "91c4dd8a-a52b-4fd1-a216-48acc9cbc6bb",
   "metadata": {},
   "outputs": [
    {
     "data": {
      "text/plain": [
       "Trial Description\n",
       "\tTrial type: 1\n",
       "\tBlock factors: []\n",
       "\tSample size: 300000\n",
       "\tDuration: 4\n",
       "\tTreatment strategies: ['bp', 'statin']\n",
       "\tNumber of workers: 5\n",
       "\tPerson filters: \n",
       "\t Person Filters:\n",
       "\t    filter type   filter name    \n",
       "\t             df   noStatin       \n",
       "\n",
       "\tPopulation type: PopulationType.KAISER"
      ]
     },
     "execution_count": 14,
     "metadata": {},
     "output_type": "execute_result"
    }
   ],
   "source": [
    "td = KaiserTrialDescription(trialType = TrialType.COMPLETELY_RANDOMIZED,\n",
    "                            blockFactors=list(),\n",
    "                            sampleSize = sampleSize, \n",
    "                            duration = 4, \n",
    "                            treatmentStrategies = ts, #a more complex way to specify treatment strategies\n",
    "                            nWorkers = 5, \n",
    "                            personFilters=pf,\n",
    "                            wmhSpecific=True) #use WMH-specific risks for the Kaiser outcomes\n",
    "td"
   ]
  },
  {
   "cell_type": "code",
   "execution_count": 15,
   "id": "3e744ef4-b625-4ace-9d8d-f5cd15b39c47",
   "metadata": {},
   "outputs": [
    {
     "data": {
      "text/plain": [
       "Trial Description\n",
       "\tTrial type: 1\n",
       "\tBlock factors: []\n",
       "\tSample size: 300000\n",
       "\tDuration: 4\n",
       "\tTreatment strategies: ['bp', 'statin']\n",
       "\tNumber of workers: 5\n",
       "\tPerson filters: \n",
       "\t Person Filters:\n",
       "\t    filter type   filter name    \n",
       "\t             df   noStatin       \n",
       "\n",
       "\tPopulation type: PopulationType.KAISER\n",
       "Trial\n",
       "\tTrial completed: False"
      ]
     },
     "execution_count": 15,
     "metadata": {},
     "output_type": "execute_result"
    }
   ],
   "source": [
    "tr = Trial(td)\n",
    "tr"
   ]
  },
  {
   "cell_type": "code",
   "execution_count": 16,
   "id": "a7666fa0-4623-4f43-957c-5ca490c857f3",
   "metadata": {},
   "outputs": [
    {
     "name": "stdout",
     "output_type": "stream",
     "text": [
      "                          Printing covariate information for people still alive...\n",
      "                          self=treated, alive people count=  300000               other=control, alive people count=  300000  \n",
      "                          self=treated, unique alive people count=  143424        other=control, unique alive people count=  143133  \n",
      "                          self                                                    other\n",
      "                          -----------------------------------------------------   -----------------------------------------------------\n",
      "                          min      0.25    med     0.75     max    mean     sd     min     0.25    med     0.75     max    mean     sd\n",
      "                          -----------------------------------------------------   -----------------------------------------------------\n",
      "                    age    45.0    57.0    63.0    70.0   111.0    63.9     9.3    45.0    57.0    63.0    70.0   110.0    63.9     9.3\n",
      "                    sbp    70.7   120.9   129.8   138.9   209.7   130.0    13.5    70.7   120.9   129.9   138.9   209.7   130.0    13.5\n",
      "                    dbp    38.1    67.9    73.9    79.8   118.7    73.9     8.9    38.1    67.9    73.8    79.9   118.7    73.9     8.9\n",
      "                    a1c     3.2     5.4     5.9     6.5    14.7     6.0     1.0     3.2     5.4     5.9     6.5    14.7     6.0     1.0\n",
      "                    hdl     5.4    43.6    53.8    64.7   131.0    54.4    15.6     5.4    43.5    53.7    64.6   131.8    54.4    15.6\n",
      "                    ldl     8.1    96.9   118.2   139.5   419.2   118.2    31.6     8.1    96.8   118.2   139.6   471.2   118.2    31.6\n",
      "                   trig     9.0    92.0   138.6   192.1  3411.2   149.3    83.6     9.0    92.3   139.1   192.6  2310.7   149.6    83.3\n",
      "                totChol    53.1   174.0   199.3   224.7   494.9   199.3    37.6    53.1   173.9   199.3   224.7   494.9   199.4    37.7\n",
      "                    bmi    13.5    24.5    28.1    31.8    61.8    28.3     5.6    13.5    24.5    28.0    31.8    61.8    28.3     5.6\n",
      "             creatinine     0.1     0.7     0.9     1.2    16.6     1.0     0.6     0.1     0.7     0.9     1.2    16.9     1.0     0.6\n",
      "                  waist    46.0    89.7    99.4   109.1   165.5    99.4    14.4    44.3    89.7    99.4   109.0   165.4    99.4    14.4\n",
      "  antiHypertensiveCount     0.0     0.3     0.6     1.1     5.4     0.8     0.6     0.0     0.3     0.7     1.1     5.4     0.8     0.6\n",
      "                          self   other\n",
      "                          proportions\n",
      "                          -----------\n",
      "    anyPhysicalActivity\n",
      "                      0   0.16   0.16\n",
      "                      1   0.84   0.84\n",
      "                   afib\n",
      "                      0   0.96   0.96\n",
      "                      1   0.04   0.04\n",
      "         alcoholPerWeek\n",
      "                      0   0.26   0.26\n",
      "                      2   0.36   0.36\n",
      "                      3   0.38   0.38\n",
      "                    pvd\n",
      "                      0   0.98   0.98\n",
      "                      1   0.02   0.02\n",
      "               modality\n",
      "                     ct   0.74   0.74\n",
      "                     mr   0.26   0.26\n",
      "          raceEthnicity\n",
      "                      2   0.33   0.33\n",
      "                      3   0.43   0.43\n",
      "                      4   0.11   0.11\n",
      "                      5   0.03   0.03\n",
      "                      6   0.10   0.10\n",
      "              education\n",
      "                      1   0.07   0.07\n",
      "                      2   0.13   0.13\n",
      "                      3   0.26   0.26\n",
      "                      4   0.32   0.32\n",
      "                      5   0.22   0.22\n",
      "                 gender\n",
      "                      1   0.36   0.36\n",
      "                      2   0.64   0.64\n",
      "          smokingStatus\n",
      "                      0   0.59   0.59\n",
      "                      1   0.41   0.41\n",
      "                 statin\n",
      "                      0   1.00   1.00\n"
     ]
    }
   ],
   "source": [
    "tr.print_covariate_distributions()"
   ]
  },
  {
   "cell_type": "code",
   "execution_count": 17,
   "id": "21fb83aa-82bd-4c74-8a31-337551a61ec7",
   "metadata": {},
   "outputs": [
    {
     "name": "stderr",
     "output_type": "stream",
     "text": [
      "/Users/deligkaris.1/Library/Caches/pypoetry/virtualenvs/microsim-54NoInYP-py3.9/lib/python3.9/site-packages/numpy/core/fromnumeric.py:59: FutureWarning: 'Series.swapaxes' is deprecated and will be removed in a future version. Please use 'Series.transpose' instead.\n",
      "  return bound(*args, **kwds)\n"
     ]
    },
    {
     "name": "stdout",
     "output_type": "stream",
     "text": [
      "Trial is completed.\n",
      "CPU times: user 5min 3s, sys: 18min 41s, total: 23min 44s\n",
      "Wall time: 47min 23s\n"
     ]
    },
    {
     "data": {
      "text/plain": [
       "Trial Description\n",
       "\tTrial type: 1\n",
       "\tBlock factors: []\n",
       "\tSample size: 300000\n",
       "\tDuration: 4\n",
       "\tTreatment strategies: ['bp', 'statin']\n",
       "\tNumber of workers: 5\n",
       "\tPerson filters: \n",
       "\t Person Filters:\n",
       "\t    filter type   filter name    \n",
       "\t             df   noStatin       \n",
       "\n",
       "\tPopulation type: PopulationType.KAISER\n",
       "Trial\n",
       "\tTrial completed: True"
      ]
     },
     "execution_count": 17,
     "metadata": {},
     "output_type": "execute_result"
    }
   ],
   "source": [
    "%%time\n",
    "tr.run()\n",
    "tr"
   ]
  },
  {
   "cell_type": "code",
   "execution_count": 18,
   "id": "911a49b9-17cd-4f0c-a7ef-ffe43779075f",
   "metadata": {},
   "outputs": [
    {
     "data": {
      "text/plain": [
       "Trial Outcome Assessor\n",
       "\tAssessments:\n",
       "\t\tName: death                    Analysis: logistic       \n",
       "\t\tName: anyEvent                 Analysis: logistic       \n",
       "\t\tName: vascularEventOrDeath     Analysis: logistic       \n",
       "\t\tName: vascularEvent            Analysis: logistic       \n",
       "\t\tName: qalys                    Analysis: linear         \n",
       "\t\tName: meanGCP                  Analysis: linear         \n",
       "\t\tName: lastGCP                  Analysis: linear         \n",
       "\t\tName: cogEvent                 Analysis: logistic       \n",
       "\t\tName: deathCox                 Analysis: cox            \n",
       "\t\tName: cogEventCox              Analysis: cox            \n",
       "\t\tName: vascularEventOrDeathCox  Analysis: cox            \n",
       "\t\tName: strokeRR                 Analysis: relativeRisk   \n",
       "\t\tName: miRR                     Analysis: relativeRisk   \n",
       "\t\tName: cvRR                     Analysis: relativeRisk   \n",
       "\t\tName: dementiaRR               Analysis: relativeRisk   \n",
       "\t\tName: ciRR                     Analysis: relativeRisk   \n",
       "\t\tName: dementiaOrCiRR           Analysis: relativeRisk   "
      ]
     },
     "execution_count": 18,
     "metadata": {},
     "output_type": "execute_result"
    }
   ],
   "source": [
    "toa = TrialOutcomeAssessorFactory.get_trial_outcome_assessor()\n",
    "toa"
   ]
  },
  {
   "cell_type": "code",
   "execution_count": 19,
   "id": "6760650f-fd34-4b4a-9937-9d979feba207",
   "metadata": {},
   "outputs": [
    {
     "data": {
      "text/plain": [
       "Trial Description\n",
       "\tTrial type: 1\n",
       "\tBlock factors: []\n",
       "\tSample size: 300000\n",
       "\tDuration: 4\n",
       "\tTreatment strategies: ['bp', 'statin']\n",
       "\tNumber of workers: 5\n",
       "\tPerson filters: \n",
       "\t Person Filters:\n",
       "\t    filter type   filter name    \n",
       "\t             df   noStatin       \n",
       "\n",
       "\tPopulation type: PopulationType.KAISER\n",
       "Trial\n",
       "\tTrial completed: True\n",
       "Trial results:\n",
       "\tAnalysis: linear\n",
       "\t                                         Z      Intercept           Z SE         pValue\n",
       "\t                    qalys:            0.01           3.70           0.00           0.00\n",
       "\t                  meanGCP:            0.04          52.74           0.02           0.02\n",
       "\t                  lastGCP:            0.06          51.13           0.02           0.01\n",
       "\tAnalysis: logistic\n",
       "\t                                         Z      Intercept           Z SE         pValue\n",
       "\t                    death:           -0.03          -2.41           0.01           0.00\n",
       "\t                 anyEvent:           -0.02           0.80           0.01           0.00\n",
       "\t     vascularEventOrDeath:           -0.13          -1.86           0.01           0.00\n",
       "\t            vascularEvent:           -0.30          -2.56           0.01           0.00\n",
       "\t                 cogEvent:            0.01           0.51           0.01           0.25\n",
       "\tAnalysis: cox\n",
       "\t                                         Z      Intercept           Z SE         pValue\n",
       "\t                 deathCox:           -0.03                          0.01           0.00\n",
       "\t              cogEventCox:            0.00                          0.00           0.81\n",
       "\t  vascularEventOrDeathCox:           -0.13                          0.01           0.00\n",
       "\tAnalysis: relativeRisk\n",
       "\t                                   relRisk    treatedRisk    controlRisk    |diff|*1000\n",
       "\t                 strokeRR:            0.77           0.03           0.04           8.47\n",
       "\t                     miRR:            0.74           0.03           0.04           9.54\n",
       "\t                     cvRR:            0.76           0.05           0.07          17.37\n",
       "\t               dementiaRR:            1.03           0.03           0.03           0.85\n",
       "\t                     ciRR:            1.00           0.61           0.61           0.79\n",
       "\t           dementiaOrCiRR:            1.00           0.63           0.62           1.43"
      ]
     },
     "execution_count": 19,
     "metadata": {},
     "output_type": "execute_result"
    }
   ],
   "source": [
    "tr.analyze(toa)\n",
    "tr"
   ]
  },
  {
   "cell_type": "code",
   "execution_count": 20,
   "id": "21a406bb-1449-47c1-af4c-b952df550ca8",
   "metadata": {},
   "outputs": [
    {
     "name": "stdout",
     "output_type": "stream",
     "text": [
      "                          self=treated, alive people count=  276042  \n",
      "                          self=treated & alive, unique people count=  138272  \n",
      "                          self\n",
      "                          -----------------------------------------------------\n",
      "                          proportions\n",
      "                          -----------\n",
      "            bpMedsAdded\n",
      "                      0   1.00\n",
      "           statinsAdded\n",
      "                      0   0.34\n",
      "                      1   0.66\n"
     ]
    }
   ],
   "source": [
    "tr.print_treatment_strategy_variables_distribution()"
   ]
  },
  {
   "cell_type": "code",
   "execution_count": null,
   "id": "6f8b00f4-1199-48dc-8ee9-2cc406b41a7c",
   "metadata": {},
   "outputs": [],
   "source": []
  }
 ],
 "metadata": {
  "kernelspec": {
   "display_name": "microsimKernel",
   "language": "python",
   "name": "microsimkernel"
  },
  "language_info": {
   "codemirror_mode": {
    "name": "ipython",
    "version": 3
   },
   "file_extension": ".py",
   "mimetype": "text/x-python",
   "name": "python",
   "nbconvert_exporter": "python",
   "pygments_lexer": "ipython3",
   "version": "3.9.13"
  }
 },
 "nbformat": 4,
 "nbformat_minor": 5
}
