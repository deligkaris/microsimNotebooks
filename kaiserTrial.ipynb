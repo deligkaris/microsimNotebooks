{
 "cells": [
  {
   "cell_type": "markdown",
   "id": "5b44176e-9a98-4ad4-ad27-5bf9f55de199",
   "metadata": {},
   "source": [
    "# Trials with the Kaiser population\n",
    "\n",
    "The goal of this notebook is to illustrate how to setup and run trials with the Kaiser population."
   ]
  },
  {
   "cell_type": "code",
   "execution_count": 1,
   "id": "9d201655-a955-4297-96d9-a28212b89adf",
   "metadata": {},
   "outputs": [],
   "source": [
    "import os\n",
    "microsimDir = \"/Users/deligkaris.1/OneDrive - The Ohio State University Wexner Medical Center/MICROSIM/CODE/microsim\"\n",
    "os.chdir(microsimDir)\n",
    "\n",
    "import pandas as pd\n",
    "\n",
    "from microsim.person_filter import PersonFilter\n",
    "from microsim.trials.trial_description import KaiserTrialDescription\n",
    "from microsim.trials.trial_type import TrialType\n",
    "from microsim.trials.trial import Trial\n",
    "from microsim.trials.trial_outcome_assessor_factory import TrialOutcomeAssessorFactory\n",
    "from microsim.treatment import TreatmentStrategiesType, DefaultTreatmentsType\n",
    "from microsim.treatment_strategy_repository import TreatmentStrategyRepository\n",
    "from microsim.bp_treatment_strategies import SprintForSbpRiskThreshold\n",
    "from microsim.statin_treatment_strategies import StatinTreatmentStrategy"
   ]
  },
  {
   "cell_type": "code",
   "execution_count": 2,
   "id": "abd82f2c-8809-47dc-9edf-2bf6de2db04b",
   "metadata": {},
   "outputs": [],
   "source": [
    "pd.set_option('future.no_silent_downcasting', True) #make the calculation here future-proof"
   ]
  },
  {
   "cell_type": "markdown",
   "id": "a36914be-7c2f-45c3-8e4d-e06bf5087535",
   "metadata": {},
   "source": [
    "## A relatively simple Kaiser trial"
   ]
  },
  {
   "cell_type": "code",
   "execution_count": 3,
   "id": "b7e1b310-7fc0-44c2-8f4e-8bd50cff482e",
   "metadata": {},
   "outputs": [
    {
     "data": {
      "text/plain": [
       "Trial Description\n",
       "\tTrial type: 1\n",
       "\tBlock factors: []\n",
       "\tSample size: 300000\n",
       "\tDuration: 4\n",
       "\tTreatment strategies: ['bp', 'statin']\n",
       "\tNumber of workers: 5\n",
       "\tPerson filters: \n",
       "\t None\n",
       "\tPopulation type: PopulationType.KAISER"
      ]
     },
     "execution_count": 3,
     "metadata": {},
     "output_type": "execute_result"
    }
   ],
   "source": [
    "pf=None #person filter will not be used for inclusion/exclusion, everyone is eligible\n",
    "sampleSize = 300000\n",
    "td = KaiserTrialDescription(trialType = TrialType.COMPLETELY_RANDOMIZED,\n",
    "                            blockFactors=list(),\n",
    "                            sampleSize = sampleSize, \n",
    "                            duration = 4, \n",
    "                            treatmentStrategies = \"sprint\", #a simple way to specify a single treatment strategy\n",
    "                            nWorkers = 5, \n",
    "                            personFilters=pf,\n",
    "                            wmhSpecific=True) #use WMH-specific risks for the Kaiser outcomes\n",
    "td"
   ]
  },
  {
   "cell_type": "code",
   "execution_count": 4,
   "id": "42e3bdf2-9ea9-4741-8762-13f799e66889",
   "metadata": {},
   "outputs": [
    {
     "data": {
      "text/plain": [
       "Trial Description\n",
       "\tTrial type: 1\n",
       "\tBlock factors: []\n",
       "\tSample size: 300000\n",
       "\tDuration: 4\n",
       "\tTreatment strategies: ['bp', 'statin']\n",
       "\tNumber of workers: 5\n",
       "\tPerson filters: \n",
       "\t None\n",
       "\tPopulation type: PopulationType.KAISER\n",
       "Trial\n",
       "\tTrial completed: False"
      ]
     },
     "execution_count": 4,
     "metadata": {},
     "output_type": "execute_result"
    }
   ],
   "source": [
    "tr = Trial(td)\n",
    "tr"
   ]
  },
  {
   "cell_type": "code",
   "execution_count": 5,
   "id": "97e6ff98-27e7-4062-b4a4-53432f31886a",
   "metadata": {},
   "outputs": [
    {
     "name": "stdout",
     "output_type": "stream",
     "text": [
      "                          Printing covariate information for people still alive...\n",
      "                          self=treated, alive people count=  300000               other=control, alive people count=  300000  \n",
      "                          self=treated, unique alive people count=  193622        other=control, unique alive people count=  193473  \n",
      "                          self                                                    other\n",
      "                          -----------------------------------------------------   -----------------------------------------------------\n",
      "                          min      0.25    med     0.75     max    mean     sd     min     0.25    med     0.75     max    mean     sd\n",
      "                          -----------------------------------------------------   -----------------------------------------------------\n",
      "                    age    45.0    59.0    65.0    72.0   111.0    65.8     9.5    45.0    59.0    65.0    72.0   111.0    65.8     9.5\n",
      "                    sbp    70.8   121.8   130.5   139.1   198.5   130.5    12.9    70.8   121.9   130.4   139.0   197.2   130.5    12.9\n",
      "                    dbp    36.0    66.9    72.7    78.6   117.8    72.8     8.8    39.4    66.9    72.7    78.6   118.1    72.8     8.8\n",
      "                    a1c     3.2     5.5     6.2     6.9    16.3     6.3     1.2     3.3     5.5     6.2     6.9    16.3     6.3     1.2\n",
      "                    hdl     5.4    42.1    51.8    62.3   128.3    52.6    15.1     5.4    42.1    51.8    62.3   128.8    52.6    15.0\n",
      "                    ldl     8.1    82.5   106.9   130.7   472.7   106.7    35.0     8.1    82.7   107.0   130.8   472.7   106.8    35.1\n",
      "                   trig     9.0    96.7   144.8   200.2  3480.1   155.4    83.2     9.0    96.9   144.6   200.3  2957.1   155.6    84.1\n",
      "                totChol    53.1   158.7   187.3   215.3   535.9   187.0    41.4    53.1   158.9   187.4   215.3   455.1   187.1    41.4\n",
      "                    bmi    13.5    24.9    28.6    32.4    62.8    28.9     5.8    13.5    24.9    28.6    32.4    63.3    28.9     5.8\n",
      "             creatinine     0.1     0.7     1.0     1.3    15.8     1.1     0.6     0.1     0.7     1.0     1.3    18.0     1.1     0.6\n",
      "                  waist    43.2    91.3   101.1   110.9   169.1   101.1    14.6    44.5    91.3   101.2   110.8   171.6   101.1    14.6\n",
      "  antiHypertensiveCount     0.0     0.4     0.9     1.5     6.2     1.1     0.8     0.0     0.4     0.9     1.5     6.1     1.1     0.8\n",
      "                          self   other\n",
      "                          proportions\n",
      "                          -----------\n",
      "    anyPhysicalActivity\n",
      "                      0   0.19   0.19\n",
      "                      1   0.81   0.81\n",
      "                   afib\n",
      "                      0   0.94   0.94\n",
      "                      1   0.06   0.06\n",
      "         alcoholPerWeek\n",
      "                      0   0.26   0.26\n",
      "                      2   0.36   0.36\n",
      "                      3   0.38   0.38\n",
      "                    pvd\n",
      "                      0   0.96   0.96\n",
      "                      1   0.04   0.04\n",
      "               modality\n",
      "                     ct   0.75   0.75\n",
      "                     mr   0.25   0.25\n",
      "          raceEthnicity\n",
      "                      2   0.33   0.33\n",
      "                      3   0.42   0.42\n",
      "                      4   0.11   0.11\n",
      "                      5   0.03   0.03\n",
      "                      6   0.11   0.11\n",
      "              education\n",
      "                      1   0.07   0.07\n",
      "                      2   0.14   0.14\n",
      "                      3   0.26   0.27\n",
      "                      4   0.32   0.32\n",
      "                      5   0.21   0.21\n",
      "                 gender\n",
      "                      1   0.40   0.40\n",
      "                      2   0.60   0.60\n",
      "          smokingStatus\n",
      "                      0   0.55   0.55\n",
      "                      1   0.45   0.45\n",
      "                 statin\n",
      "                      0   0.56   0.55\n",
      "                      1   0.44   0.45\n"
     ]
    }
   ],
   "source": [
    "tr.print_covariate_distributions()"
   ]
  },
  {
   "cell_type": "code",
   "execution_count": 6,
   "id": "3b416fa5-5b76-40c5-9afc-52b26bae302b",
   "metadata": {},
   "outputs": [
    {
     "name": "stderr",
     "output_type": "stream",
     "text": [
      "/Users/deligkaris.1/Library/Caches/pypoetry/virtualenvs/microsim-54NoInYP-py3.9/lib/python3.9/site-packages/numpy/core/fromnumeric.py:59: FutureWarning: 'Series.swapaxes' is deprecated and will be removed in a future version. Please use 'Series.transpose' instead.\n",
      "  return bound(*args, **kwds)\n"
     ]
    },
    {
     "name": "stdout",
     "output_type": "stream",
     "text": [
      "Trial is completed.\n",
      "CPU times: user 3min 56s, sys: 5min 37s, total: 9min 34s\n",
      "Wall time: 20min 20s\n"
     ]
    },
    {
     "data": {
      "text/plain": [
       "Trial Description\n",
       "\tTrial type: 1\n",
       "\tBlock factors: []\n",
       "\tSample size: 300000\n",
       "\tDuration: 4\n",
       "\tTreatment strategies: ['bp', 'statin']\n",
       "\tNumber of workers: 5\n",
       "\tPerson filters: \n",
       "\t None\n",
       "\tPopulation type: PopulationType.KAISER\n",
       "Trial\n",
       "\tTrial completed: True"
      ]
     },
     "execution_count": 6,
     "metadata": {},
     "output_type": "execute_result"
    }
   ],
   "source": [
    "%%time\n",
    "tr.run()\n",
    "tr"
   ]
  },
  {
   "cell_type": "code",
   "execution_count": 7,
   "id": "cc9ee8e7-9966-4ebe-8f05-80c57140e6a6",
   "metadata": {},
   "outputs": [
    {
     "data": {
      "text/plain": [
       "Trial Outcome Assessor\n",
       "\tAssessments:\n",
       "\t\tName: death                    Analysis: logistic       \n",
       "\t\tName: anyEvent                 Analysis: logistic       \n",
       "\t\tName: vascularEventOrDeath     Analysis: logistic       \n",
       "\t\tName: vascularEvent            Analysis: logistic       \n",
       "\t\tName: qalys                    Analysis: linear         \n",
       "\t\tName: meanGCP                  Analysis: linear         \n",
       "\t\tName: lastGCP                  Analysis: linear         \n",
       "\t\tName: cogEvent                 Analysis: logistic       \n",
       "\t\tName: deathCox                 Analysis: cox            \n",
       "\t\tName: cogEventCox              Analysis: cox            \n",
       "\t\tName: vascularEventOrDeathCox  Analysis: cox            \n",
       "\t\tName: strokeRR                 Analysis: relativeRisk   \n",
       "\t\tName: miRR                     Analysis: relativeRisk   \n",
       "\t\tName: cvRR                     Analysis: relativeRisk   \n",
       "\t\tName: dementiaRR               Analysis: relativeRisk   \n",
       "\t\tName: ciRR                     Analysis: relativeRisk   \n",
       "\t\tName: dementiaOrCiRR           Analysis: relativeRisk   \n",
       "\t\tName: deathRR                  Analysis: relativeRisk   "
      ]
     },
     "execution_count": 7,
     "metadata": {},
     "output_type": "execute_result"
    }
   ],
   "source": [
    "toa = TrialOutcomeAssessorFactory.get_trial_outcome_assessor()\n",
    "toa"
   ]
  },
  {
   "cell_type": "code",
   "execution_count": 8,
   "id": "182376cd-b332-46a2-970b-ed44833842c2",
   "metadata": {},
   "outputs": [
    {
     "data": {
      "text/plain": [
       "Trial Description\n",
       "\tTrial type: 1\n",
       "\tBlock factors: []\n",
       "\tSample size: 300000\n",
       "\tDuration: 4\n",
       "\tTreatment strategies: ['bp', 'statin']\n",
       "\tNumber of workers: 5\n",
       "\tPerson filters: \n",
       "\t None\n",
       "\tPopulation type: PopulationType.KAISER\n",
       "Trial\n",
       "\tTrial completed: True\n",
       "Trial results:\n",
       "\tAnalysis: linear\n",
       "\t                                         Z      Intercept           Z SE         pValue\n",
       "\t                    qalys:           -0.00           3.62           0.00           1.00\n",
       "\t                  meanGCP:            0.00          52.10           0.02           0.99\n",
       "\t                  lastGCP:           -0.00          50.52           0.02           0.86\n",
       "\tAnalysis: logistic\n",
       "\t                                         Z      Intercept           Z SE         pValue\n",
       "\t                    death:            0.00          -2.16           0.01           0.73\n",
       "\t                 anyEvent:           -0.02           0.88           0.01           0.00\n",
       "\t     vascularEventOrDeath:            0.00          -1.61           0.01           0.90\n",
       "\t            vascularEvent:           -0.01          -2.35           0.01           0.38\n",
       "\t                 cogEvent:           -0.01           0.52           0.01           0.01\n",
       "\tAnalysis: cox\n",
       "\t                                         Z      Intercept           Z SE         pValue\n",
       "\t                 deathCox:            0.00                          0.01           0.74\n",
       "\t              cogEventCox:           -0.01                          0.00           0.00\n",
       "\t  vascularEventOrDeathCox:            0.00                          0.01           0.93\n",
       "\tAnalysis: relativeRisk\n",
       "\t                                   relRisk    treatedRisk    controlRisk    |diff|*1000\n",
       "\t                 strokeRR:            1.00           0.05           0.05           0.19\n",
       "\t                     miRR:            0.99           0.04           0.04           0.32\n",
       "\t                     cvRR:            0.99           0.09           0.09           0.63\n",
       "\t               dementiaRR:            1.00           0.04           0.04           0.01\n",
       "\t                     ciRR:            0.99           0.60           0.61           3.40\n",
       "\t           dementiaOrCiRR:            0.99           0.62           0.63           3.41\n",
       "\t                  deathRR:            1.00           0.10           0.10           0.28"
      ]
     },
     "execution_count": 8,
     "metadata": {},
     "output_type": "execute_result"
    }
   ],
   "source": [
    "tr.analyze(toa)\n",
    "tr"
   ]
  },
  {
   "cell_type": "code",
   "execution_count": 9,
   "id": "4e2fbe48-e13d-42d8-b931-897fc5dddb13",
   "metadata": {},
   "outputs": [
    {
     "name": "stdout",
     "output_type": "stream",
     "text": [
      "                          self\n",
      "                          -----------------------------------------------------\n",
      "                          proportions\n",
      "                          -----------\n",
      "            bpMedsAdded\n",
      "                      0   0.93\n",
      "                      1   0.04\n",
      "                      2   0.02\n",
      "                      3   0.01\n",
      "                      4   0.00\n"
     ]
    }
   ],
   "source": [
    "tr.print_treatment_strategy_variables_distributions()"
   ]
  },
  {
   "cell_type": "markdown",
   "id": "49ddf3c7-3cdb-415a-9a9e-34469fa51c8d",
   "metadata": {},
   "source": [
    "## A more complex Kaiser trial"
   ]
  },
  {
   "cell_type": "markdown",
   "id": "27f27d88-fea1-4ec1-9c6e-f91c2f765fd0",
   "metadata": {},
   "source": [
    "We will create a person filter with user-specified criteria."
   ]
  },
  {
   "cell_type": "code",
   "execution_count": 10,
   "id": "0a9fd209-0f9a-4bee-84a8-b9a10d7e0c31",
   "metadata": {},
   "outputs": [],
   "source": [
    "pf = PersonFilter() \n",
    "#pf.add_filter(\"person\", \n",
    "#              \"lowCvLimit\", \n",
    "#              lambda x: (CVModelRepository().select_outcome_model_for_person(x).get_risk_for_person(x, years=10)<0.075))\n",
    "pf.add_filter(\"df\",\n",
    "              \"noStatin\",\n",
    "              lambda x: x[DefaultTreatmentsType.STATIN.value]==0)"
   ]
  },
  {
   "cell_type": "markdown",
   "id": "06e1a9ca-ee20-4230-a87e-1f2fb6ac3ea3",
   "metadata": {},
   "source": [
    "We will set the CV risk cutoff we will use in this simulation and whether or not the CV risk model will utilize information from the WMH diseases."
   ]
  },
  {
   "cell_type": "code",
   "execution_count": 11,
   "id": "d8f45c07-bdda-424e-8c7e-f68217584dc5",
   "metadata": {},
   "outputs": [],
   "source": [
    "wmhSpecific = True\n",
    "cvRiskCutoff = 0.075"
   ]
  },
  {
   "cell_type": "markdown",
   "id": "00b0f869-3d85-4d5b-8cca-64caa1063f32",
   "metadata": {},
   "source": [
    "We will initialize a treatment strategy that includes a user-specified CV risk cutoff for statins added and a blood pressure treatment."
   ]
  },
  {
   "cell_type": "code",
   "execution_count": 12,
   "id": "cacb12dd-3af7-47fb-89be-559573827250",
   "metadata": {},
   "outputs": [],
   "source": [
    "ts = TreatmentStrategyRepository()\n",
    "ts._repository[TreatmentStrategiesType.BP.value] = SprintForSbpRiskThreshold(cvRiskCutoff=cvRiskCutoff, wmhSpecific=wmhSpecific)\n",
    "ts._repository[TreatmentStrategiesType.STATIN.value] = StatinTreatmentStrategy(cvRiskCutoff=cvRiskCutoff, wmhSpecific=wmhSpecific)"
   ]
  },
  {
   "cell_type": "markdown",
   "id": "9dd9d6ff-c75e-4d8e-a278-9a9e07669940",
   "metadata": {},
   "source": [
    "Setup the trial description and then follow the usual steps."
   ]
  },
  {
   "cell_type": "code",
   "execution_count": 13,
   "id": "91c4dd8a-a52b-4fd1-a216-48acc9cbc6bb",
   "metadata": {},
   "outputs": [
    {
     "data": {
      "text/plain": [
       "Trial Description\n",
       "\tTrial type: 1\n",
       "\tBlock factors: []\n",
       "\tSample size: 300000\n",
       "\tDuration: 4\n",
       "\tTreatment strategies: ['bp', 'statin']\n",
       "\tNumber of workers: 5\n",
       "\tPerson filters: \n",
       "\t Person Filters:\n",
       "\t    filter type   filter name    \n",
       "\t             df   noStatin       \n",
       "\n",
       "\tPopulation type: PopulationType.KAISER"
      ]
     },
     "execution_count": 13,
     "metadata": {},
     "output_type": "execute_result"
    }
   ],
   "source": [
    "sampleSize=300000\n",
    "td = KaiserTrialDescription(trialType = TrialType.COMPLETELY_RANDOMIZED,\n",
    "                            blockFactors=list(),\n",
    "                            sampleSize = sampleSize, \n",
    "                            duration = 4, \n",
    "                            treatmentStrategies = ts, #a more complex way to specify treatment strategies\n",
    "                            nWorkers = 5, \n",
    "                            personFilters=pf,\n",
    "                            wmhSpecific=wmhSpecific) #use WMH-specific risks for the Kaiser outcomes\n",
    "td"
   ]
  },
  {
   "cell_type": "code",
   "execution_count": 14,
   "id": "3e744ef4-b625-4ace-9d8d-f5cd15b39c47",
   "metadata": {},
   "outputs": [
    {
     "data": {
      "text/plain": [
       "Trial Description\n",
       "\tTrial type: 1\n",
       "\tBlock factors: []\n",
       "\tSample size: 300000\n",
       "\tDuration: 4\n",
       "\tTreatment strategies: ['bp', 'statin']\n",
       "\tNumber of workers: 5\n",
       "\tPerson filters: \n",
       "\t Person Filters:\n",
       "\t    filter type   filter name    \n",
       "\t             df   noStatin       \n",
       "\n",
       "\tPopulation type: PopulationType.KAISER\n",
       "Trial\n",
       "\tTrial completed: False"
      ]
     },
     "execution_count": 14,
     "metadata": {},
     "output_type": "execute_result"
    }
   ],
   "source": [
    "tr = Trial(td)\n",
    "tr"
   ]
  },
  {
   "cell_type": "code",
   "execution_count": 15,
   "id": "a7666fa0-4623-4f43-957c-5ca490c857f3",
   "metadata": {},
   "outputs": [
    {
     "name": "stdout",
     "output_type": "stream",
     "text": [
      "                          Printing covariate information for people still alive...\n",
      "                          self=treated, alive people count=  300000               other=control, alive people count=  300000  \n",
      "                          self=treated, unique alive people count=  143220        other=control, unique alive people count=  143171  \n",
      "                          self                                                    other\n",
      "                          -----------------------------------------------------   -----------------------------------------------------\n",
      "                          min      0.25    med     0.75     max    mean     sd     min     0.25    med     0.75     max    mean     sd\n",
      "                          -----------------------------------------------------   -----------------------------------------------------\n",
      "                    age    45.0    57.0    63.0    70.0   109.0    63.9     9.3    45.0    57.0    63.0    70.0   113.0    63.9     9.3\n",
      "                    sbp    76.5   121.0   129.9   138.9   200.8   130.0    13.5    77.3   120.8   129.9   139.0   196.2   130.0    13.5\n",
      "                    dbp    37.5    67.9    73.8    79.8   117.2    73.9     8.8    37.7    67.9    73.8    79.8   117.2    73.9     8.9\n",
      "                    a1c     3.2     5.4     5.9     6.5    14.4     6.0     1.0     3.2     5.4     5.9     6.5    15.1     6.0     1.0\n",
      "                    hdl     5.4    43.6    53.8    64.6   134.0    54.4    15.6     5.4    43.6    53.8    64.7   134.0    54.5    15.6\n",
      "                    ldl     8.1    96.8   118.2   139.6   487.0   118.3    31.7     8.1    96.8   118.3   139.7   571.0   118.3    31.8\n",
      "                   trig     9.0    92.2   138.6   192.5  2930.0   149.3    82.7     9.0    92.3   138.6   192.1  2930.0   149.1    82.0\n",
      "                totChol    53.1   173.8   199.3   224.9   529.3   199.4    37.8    53.1   174.0   199.4   224.9   558.0   199.4    37.8\n",
      "                    bmi    13.5    24.5    28.1    31.8    60.0    28.3     5.6    13.5    24.5    28.0    31.8    60.0    28.3     5.6\n",
      "             creatinine     0.1     0.7     0.9     1.2    15.1     1.0     0.6     0.1     0.7     0.9     1.2    16.8     1.0     0.6\n",
      "                  waist    43.0    89.7    99.4   109.0   167.0    99.4    14.4    42.6    89.6    99.4   109.0   165.5    99.4    14.4\n",
      "  antiHypertensiveCount     0.0     0.3     0.7     1.1     5.4     0.8     0.6     0.0     0.3     0.7     1.1     5.5     0.8     0.6\n",
      "                          self   other\n",
      "                          proportions\n",
      "                          -----------\n",
      "    anyPhysicalActivity\n",
      "                      0   0.16   0.16\n",
      "                      1   0.84   0.84\n",
      "                   afib\n",
      "                      0   0.96   0.96\n",
      "                      1   0.04   0.04\n",
      "         alcoholPerWeek\n",
      "                      0   0.26   0.26\n",
      "                      2   0.36   0.36\n",
      "                      3   0.37   0.37\n",
      "                    pvd\n",
      "                      0   0.98   0.98\n",
      "                      1   0.02   0.02\n",
      "               modality\n",
      "                     ct   0.74   0.74\n",
      "                     mr   0.26   0.26\n",
      "          raceEthnicity\n",
      "                      2   0.33   0.33\n",
      "                      3   0.43   0.43\n",
      "                      4   0.10   0.11\n",
      "                      5   0.03   0.03\n",
      "                      6   0.10   0.10\n",
      "              education\n",
      "                      1   0.07   0.07\n",
      "                      2   0.13   0.13\n",
      "                      3   0.26   0.26\n",
      "                      4   0.32   0.32\n",
      "                      5   0.22   0.21\n",
      "                 gender\n",
      "                      1   0.36   0.36\n",
      "                      2   0.64   0.64\n",
      "          smokingStatus\n",
      "                      0   0.59   0.59\n",
      "                      1   0.41   0.41\n",
      "                 statin\n",
      "                      0   1.00   1.00\n"
     ]
    }
   ],
   "source": [
    "tr.print_covariate_distributions()"
   ]
  },
  {
   "cell_type": "code",
   "execution_count": 16,
   "id": "21fb83aa-82bd-4c74-8a31-337551a61ec7",
   "metadata": {},
   "outputs": [
    {
     "name": "stderr",
     "output_type": "stream",
     "text": [
      "/Users/deligkaris.1/Library/Caches/pypoetry/virtualenvs/microsim-54NoInYP-py3.9/lib/python3.9/site-packages/numpy/core/fromnumeric.py:59: FutureWarning: 'Series.swapaxes' is deprecated and will be removed in a future version. Please use 'Series.transpose' instead.\n",
      "  return bound(*args, **kwds)\n"
     ]
    },
    {
     "name": "stdout",
     "output_type": "stream",
     "text": [
      "Trial is completed.\n",
      "CPU times: user 5min 15s, sys: 16min 11s, total: 21min 27s\n",
      "Wall time: 37min 38s\n"
     ]
    },
    {
     "data": {
      "text/plain": [
       "Trial Description\n",
       "\tTrial type: 1\n",
       "\tBlock factors: []\n",
       "\tSample size: 300000\n",
       "\tDuration: 4\n",
       "\tTreatment strategies: ['bp', 'statin']\n",
       "\tNumber of workers: 5\n",
       "\tPerson filters: \n",
       "\t Person Filters:\n",
       "\t    filter type   filter name    \n",
       "\t             df   noStatin       \n",
       "\n",
       "\tPopulation type: PopulationType.KAISER\n",
       "Trial\n",
       "\tTrial completed: True"
      ]
     },
     "execution_count": 16,
     "metadata": {},
     "output_type": "execute_result"
    }
   ],
   "source": [
    "%%time\n",
    "tr.run()\n",
    "tr"
   ]
  },
  {
   "cell_type": "code",
   "execution_count": 17,
   "id": "911a49b9-17cd-4f0c-a7ef-ffe43779075f",
   "metadata": {},
   "outputs": [
    {
     "data": {
      "text/plain": [
       "Trial Outcome Assessor\n",
       "\tAssessments:\n",
       "\t\tName: death                    Analysis: logistic       \n",
       "\t\tName: anyEvent                 Analysis: logistic       \n",
       "\t\tName: vascularEventOrDeath     Analysis: logistic       \n",
       "\t\tName: vascularEvent            Analysis: logistic       \n",
       "\t\tName: qalys                    Analysis: linear         \n",
       "\t\tName: meanGCP                  Analysis: linear         \n",
       "\t\tName: lastGCP                  Analysis: linear         \n",
       "\t\tName: cogEvent                 Analysis: logistic       \n",
       "\t\tName: deathCox                 Analysis: cox            \n",
       "\t\tName: cogEventCox              Analysis: cox            \n",
       "\t\tName: vascularEventOrDeathCox  Analysis: cox            \n",
       "\t\tName: strokeRR                 Analysis: relativeRisk   \n",
       "\t\tName: miRR                     Analysis: relativeRisk   \n",
       "\t\tName: cvRR                     Analysis: relativeRisk   \n",
       "\t\tName: dementiaRR               Analysis: relativeRisk   \n",
       "\t\tName: ciRR                     Analysis: relativeRisk   \n",
       "\t\tName: dementiaOrCiRR           Analysis: relativeRisk   \n",
       "\t\tName: deathRR                  Analysis: relativeRisk   "
      ]
     },
     "execution_count": 17,
     "metadata": {},
     "output_type": "execute_result"
    }
   ],
   "source": [
    "toa = TrialOutcomeAssessorFactory.get_trial_outcome_assessor()\n",
    "toa"
   ]
  },
  {
   "cell_type": "code",
   "execution_count": 18,
   "id": "6760650f-fd34-4b4a-9937-9d979feba207",
   "metadata": {},
   "outputs": [
    {
     "data": {
      "text/plain": [
       "Trial Description\n",
       "\tTrial type: 1\n",
       "\tBlock factors: []\n",
       "\tSample size: 300000\n",
       "\tDuration: 4\n",
       "\tTreatment strategies: ['bp', 'statin']\n",
       "\tNumber of workers: 5\n",
       "\tPerson filters: \n",
       "\t Person Filters:\n",
       "\t    filter type   filter name    \n",
       "\t             df   noStatin       \n",
       "\n",
       "\tPopulation type: PopulationType.KAISER\n",
       "Trial\n",
       "\tTrial completed: True\n",
       "Trial results:\n",
       "\tAnalysis: linear\n",
       "\t                                         Z      Intercept           Z SE         pValue\n",
       "\t                    qalys:            0.02           3.70           0.00           0.00\n",
       "\t                  meanGCP:            0.15          52.73           0.02           0.00\n",
       "\t                  lastGCP:            0.16          51.12           0.02           0.00\n",
       "\tAnalysis: logistic\n",
       "\t                                         Z      Intercept           Z SE         pValue\n",
       "\t                    death:           -0.09          -2.41           0.01           0.00\n",
       "\t                 anyEvent:           -0.05           0.81           0.01           0.00\n",
       "\t     vascularEventOrDeath:           -0.21          -1.85           0.01           0.00\n",
       "\t            vascularEvent:           -0.40          -2.56           0.01           0.00\n",
       "\t                 cogEvent:           -0.01           0.52           0.01           0.02\n",
       "\tAnalysis: cox\n",
       "\t                                         Z      Intercept           Z SE         pValue\n",
       "\t                 deathCox:           -0.08                          0.01           0.00\n",
       "\t              cogEventCox:           -0.01                          0.00           0.00\n",
       "\t  vascularEventOrDeathCox:           -0.20                          0.01           0.00\n",
       "\tAnalysis: relativeRisk\n",
       "\t                                   relRisk    treatedRisk    controlRisk    |diff|*1000\n",
       "\t                 strokeRR:            0.64           0.02           0.04          13.06\n",
       "\t                     miRR:            0.72           0.03           0.04          10.46\n",
       "\t                     cvRR:            0.69           0.05           0.07          22.59\n",
       "\t               dementiaRR:            1.01           0.03           0.03           0.19\n",
       "\t                     ciRR:            0.99           0.61           0.61           3.17\n",
       "\t           dementiaOrCiRR:            1.00           0.62           0.63           2.87\n",
       "\t                  deathRR:            0.92           0.08           0.08           6.42"
      ]
     },
     "execution_count": 18,
     "metadata": {},
     "output_type": "execute_result"
    }
   ],
   "source": [
    "tr.analyze(toa)\n",
    "tr"
   ]
  },
  {
   "cell_type": "code",
   "execution_count": 19,
   "id": "21a406bb-1449-47c1-af4c-b952df550ca8",
   "metadata": {},
   "outputs": [
    {
     "name": "stdout",
     "output_type": "stream",
     "text": [
      "                          self\n",
      "                          -----------------------------------------------------\n",
      "                          proportions\n",
      "                          -----------\n",
      "            bpMedsAdded\n",
      "                      0   0.63\n",
      "                      1   0.11\n",
      "                      2   0.13\n",
      "                      3   0.10\n",
      "                      4   0.03\n",
      "           statinsAdded\n",
      "                      0   0.40\n",
      "                      1   0.60\n"
     ]
    }
   ],
   "source": [
    "tr.print_treatment_strategy_variables_distributions()"
   ]
  },
  {
   "cell_type": "code",
   "execution_count": null,
   "id": "6f8b00f4-1199-48dc-8ee9-2cc406b41a7c",
   "metadata": {},
   "outputs": [],
   "source": []
  }
 ],
 "metadata": {
  "kernelspec": {
   "display_name": "microsimKernel",
   "language": "python",
   "name": "microsimkernel"
  },
  "language_info": {
   "codemirror_mode": {
    "name": "ipython",
    "version": 3
   },
   "file_extension": ".py",
   "mimetype": "text/x-python",
   "name": "python",
   "nbconvert_exporter": "python",
   "pygments_lexer": "ipython3",
   "version": "3.9.13"
  }
 },
 "nbformat": 4,
 "nbformat_minor": 5
}
