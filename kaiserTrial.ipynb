{
 "cells": [
  {
   "cell_type": "code",
   "execution_count": 1,
   "id": "9d201655-a955-4297-96d9-a28212b89adf",
   "metadata": {},
   "outputs": [],
   "source": [
    "import os\n",
    "microsimDir = \"/Users/deligkaris.1/OneDrive - The Ohio State University Wexner Medical Center/MICROSIM/CODE/microsim\"\n",
    "os.chdir(microsimDir)\n",
    "\n",
    "import pandas as pd\n",
    "\n",
    "from microsim.trials.trial_description import KaiserTrialDescription\n",
    "from microsim.trials.trial_type import TrialType\n",
    "from microsim.trials.trial import Trial\n",
    "from microsim.trials.trial_outcome_assessor_factory import TrialOutcomeAssessorFactory\n",
    "from microsim.treatment import TreatmentStrategiesType"
   ]
  },
  {
   "cell_type": "code",
   "execution_count": 2,
   "id": "abd82f2c-8809-47dc-9edf-2bf6de2db04b",
   "metadata": {},
   "outputs": [],
   "source": [
    "pd.set_option('future.no_silent_downcasting', True) #make the calculation here future-proof"
   ]
  },
  {
   "cell_type": "code",
   "execution_count": 3,
   "id": "b7e1b310-7fc0-44c2-8f4e-8bd50cff482e",
   "metadata": {},
   "outputs": [
    {
     "data": {
      "text/plain": [
       "Trial Description\n",
       "\tTrial type: 1\n",
       "\tBlock factors: []\n",
       "\tSample size: 300000\n",
       "\tDuration: 4\n",
       "\tTreatment strategies: ['bp']\n",
       "\tNumber of workers: 5\n",
       "\tPerson filters: \n",
       "\t None\n",
       "\tPopulation type: PopulationType.KAISER"
      ]
     },
     "execution_count": 3,
     "metadata": {},
     "output_type": "execute_result"
    }
   ],
   "source": [
    "pf=None\n",
    "sampleSize = 300000\n",
    "td = KaiserTrialDescription(trialType = TrialType.COMPLETELY_RANDOMIZED,\n",
    "                            blockFactors=list(),\n",
    "                            sampleSize = sampleSize, \n",
    "                            duration = 4, \n",
    "                            treatmentStrategies = \"sprint\",\n",
    "                            nWorkers = 5, \n",
    "                            personFilters=pf)\n",
    "td"
   ]
  },
  {
   "cell_type": "code",
   "execution_count": 4,
   "id": "42e3bdf2-9ea9-4741-8762-13f799e66889",
   "metadata": {},
   "outputs": [
    {
     "data": {
      "text/plain": [
       "Trial Description\n",
       "\tTrial type: 1\n",
       "\tBlock factors: []\n",
       "\tSample size: 300000\n",
       "\tDuration: 4\n",
       "\tTreatment strategies: ['bp']\n",
       "\tNumber of workers: 5\n",
       "\tPerson filters: \n",
       "\t None\n",
       "\tPopulation type: PopulationType.KAISER\n",
       "Trial\n",
       "\tTrial completed: False"
      ]
     },
     "execution_count": 4,
     "metadata": {},
     "output_type": "execute_result"
    }
   ],
   "source": [
    "tr = Trial(td)\n",
    "tr"
   ]
  },
  {
   "cell_type": "code",
   "execution_count": 5,
   "id": "97e6ff98-27e7-4062-b4a4-53432f31886a",
   "metadata": {},
   "outputs": [
    {
     "name": "stdout",
     "output_type": "stream",
     "text": [
      "                          self=treated, unique people count=  193497              other=control, unique people count=  193807  \n",
      "                          self                                                    other\n",
      "                          -----------------------------------------------------   -----------------------------------------------------\n",
      "                          min      0.25    med     0.75     max    mean     sd     min     0.25    med     0.75     max    mean     sd\n",
      "                          -----------------------------------------------------   -----------------------------------------------------\n",
      "                    age    45.0    59.0    65.0    72.0   110.0    65.9     9.5    45.0    59.0    65.0    72.0   110.0    65.8     9.5\n",
      "                    sbp    75.7   121.8   130.3   139.0   191.7   130.4    13.0    77.8   121.8   130.4   139.1   194.9   130.5    13.0\n",
      "                    dbp    36.0    66.8    72.7    78.6   114.6    72.8     8.8    36.0    66.8    72.7    78.6   114.3    72.8     8.8\n",
      "                    a1c     3.2     5.5     6.2     6.9    15.4     6.3     1.2     3.2     5.5     6.2     6.9    15.4     6.3     1.2\n",
      "                    hdl     5.4    42.1    51.9    62.5   136.7    52.6    15.1     5.4    42.0    51.9    62.4   131.7    52.6    15.1\n",
      "                    ldl     8.1    82.6   107.1   130.9   657.2   106.8    35.0     8.1    82.7   107.1   130.9   657.2   106.8    35.0\n",
      "                   trig     9.0    96.6   144.8   200.5  2857.5   155.5    83.9     9.0    96.6   144.8   200.4  2857.5   155.4    84.2\n",
      "                totChol    53.1   158.7   187.3   215.6   608.1   187.2    41.4    53.1   158.8   187.4   215.5   608.1   187.1    41.3\n",
      "                    bmi    13.5    24.9    28.5    32.4    64.9    28.9     5.8    13.5    24.9    28.5    32.4    62.8    28.9     5.8\n",
      "             creatinine     0.1     0.7     1.0     1.3    16.7     1.1     0.6     0.1     0.7     1.0     1.3    16.7     1.1     0.6\n",
      "                  waist    37.5    91.3   101.1   110.8   168.6   101.1    14.6    42.6    91.2   101.0   110.8   166.6   101.1    14.6\n",
      "  antiHypertensiveCount     0.0     0.4     0.9     1.5     6.2     1.1     0.8     0.0     0.4     0.9     1.5     5.9     1.1     0.8\n",
      "                          self   other\n",
      "                          proportions\n",
      "                          -----------\n",
      "    anyPhysicalActivity\n",
      "                      0   0.19   0.19\n",
      "                      1   0.81   0.81\n",
      "                   afib\n",
      "                      0   0.94   0.94\n",
      "                      1   0.06   0.06\n",
      "         alcoholPerWeek\n",
      "                      0   0.26   0.26\n",
      "                      2   0.36   0.36\n",
      "                      3   0.38   0.38\n",
      "                    pvd\n",
      "                      0   0.96   0.96\n",
      "                      1   0.04   0.04\n",
      "               modality\n",
      "                     ct   0.74   0.75\n",
      "                     mr   0.26   0.25\n",
      "          raceEthnicity\n",
      "                      2   0.33   0.33\n",
      "                      3   0.42   0.42\n",
      "                      4   0.10   0.11\n",
      "                      5   0.03   0.03\n",
      "                      6   0.11   0.11\n",
      "              education\n",
      "                      1   0.07   0.07\n",
      "                      2   0.14   0.14\n",
      "                      3   0.27   0.27\n",
      "                      4   0.32   0.32\n",
      "                      5   0.21   0.21\n",
      "                 gender\n",
      "                      1   0.40   0.40\n",
      "                      2   0.60   0.60\n",
      "          smokingStatus\n",
      "                      0   0.55   0.55\n",
      "                      1   0.45   0.45\n",
      "                 statin\n",
      "                      0   0.55   0.55\n",
      "                      1   0.45   0.45\n"
     ]
    }
   ],
   "source": [
    "tr.print_covariate_distributions()"
   ]
  },
  {
   "cell_type": "code",
   "execution_count": 6,
   "id": "3b416fa5-5b76-40c5-9afc-52b26bae302b",
   "metadata": {},
   "outputs": [
    {
     "name": "stderr",
     "output_type": "stream",
     "text": [
      "/Users/deligkaris.1/Library/Caches/pypoetry/virtualenvs/microsim-54NoInYP-py3.9/lib/python3.9/site-packages/numpy/core/fromnumeric.py:59: FutureWarning: 'Series.swapaxes' is deprecated and will be removed in a future version. Please use 'Series.transpose' instead.\n",
      "  return bound(*args, **kwds)\n"
     ]
    },
    {
     "name": "stdout",
     "output_type": "stream",
     "text": [
      "Trial is completed.\n",
      "CPU times: user 3min 45s, sys: 4min 40s, total: 8min 25s\n",
      "Wall time: 18min 12s\n"
     ]
    },
    {
     "data": {
      "text/plain": [
       "Trial Description\n",
       "\tTrial type: 1\n",
       "\tBlock factors: []\n",
       "\tSample size: 300000\n",
       "\tDuration: 4\n",
       "\tTreatment strategies: ['bp']\n",
       "\tNumber of workers: 5\n",
       "\tPerson filters: \n",
       "\t None\n",
       "\tPopulation type: PopulationType.KAISER\n",
       "Trial\n",
       "\tTrial completed: True"
      ]
     },
     "execution_count": 6,
     "metadata": {},
     "output_type": "execute_result"
    }
   ],
   "source": [
    "%%time\n",
    "tr.run()\n",
    "tr"
   ]
  },
  {
   "cell_type": "code",
   "execution_count": 7,
   "id": "cc9ee8e7-9966-4ebe-8f05-80c57140e6a6",
   "metadata": {},
   "outputs": [
    {
     "data": {
      "text/plain": [
       "Trial Outcome Assessor\n",
       "\tAssessments:\n",
       "\t\tName: death                    Analysis: logistic       \n",
       "\t\tName: anyEvent                 Analysis: logistic       \n",
       "\t\tName: vascularEventOrDeath     Analysis: logistic       \n",
       "\t\tName: vascularEvent            Analysis: logistic       \n",
       "\t\tName: qalys                    Analysis: linear         \n",
       "\t\tName: meanGCP                  Analysis: linear         \n",
       "\t\tName: lastGCP                  Analysis: linear         \n",
       "\t\tName: cogEvent                 Analysis: logistic       \n",
       "\t\tName: deathCox                 Analysis: cox            \n",
       "\t\tName: cogEventCox              Analysis: cox            \n",
       "\t\tName: vascularEventOrDeathCox  Analysis: cox            \n",
       "\t\tName: strokeRR                 Analysis: relativeRisk   \n",
       "\t\tName: miRR                     Analysis: relativeRisk   "
      ]
     },
     "execution_count": 7,
     "metadata": {},
     "output_type": "execute_result"
    }
   ],
   "source": [
    "toa = TrialOutcomeAssessorFactory.get_trial_outcome_assessor()\n",
    "toa"
   ]
  },
  {
   "cell_type": "code",
   "execution_count": 8,
   "id": "182376cd-b332-46a2-970b-ed44833842c2",
   "metadata": {},
   "outputs": [
    {
     "data": {
      "text/plain": [
       "Trial Description\n",
       "\tTrial type: 1\n",
       "\tBlock factors: []\n",
       "\tSample size: 300000\n",
       "\tDuration: 4\n",
       "\tTreatment strategies: ['bp']\n",
       "\tNumber of workers: 5\n",
       "\tPerson filters: \n",
       "\t None\n",
       "\tPopulation type: PopulationType.KAISER\n",
       "Trial\n",
       "\tTrial completed: True\n",
       "Trial results:\n",
       "\tAnalysis: linear\n",
       "\t                                         Z      Intercept           Z SE         pValue\n",
       "\t                    qalys:            0.00           3.62           0.00           0.98\n",
       "\t                  meanGCP:            0.02          52.10           0.02           0.27\n",
       "\t                  lastGCP:            0.02          50.52           0.02           0.50\n",
       "\tAnalysis: logistic\n",
       "\t                                         Z      Intercept           Z SE         pValue\n",
       "\t                    death:           -0.00          -2.16           0.01           0.92\n",
       "\t                 anyEvent:           -0.01           0.87           0.01           0.33\n",
       "\t     vascularEventOrDeath:           -0.00          -1.61           0.01           0.61\n",
       "\t            vascularEvent:           -0.00          -2.35           0.01           0.99\n",
       "\t                 cogEvent:           -0.00           0.51           0.01           0.69\n",
       "\tAnalysis: cox\n",
       "\t                                         Z      Intercept           Z SE         pValue\n",
       "\t                 deathCox:           -0.00                          0.01           0.90\n",
       "\t              cogEventCox:           -0.00                          0.00           0.47\n",
       "\t  vascularEventOrDeathCox:           -0.00                          0.01           0.61\n",
       "\tAnalysis: relativeRisk\n",
       "\t                                   relRisk    treatedRisk    controlRisk         |diff|\n",
       "\t                 strokeRR:            0.99           0.05           0.05           0.00\n",
       "\t                     miRR:            1.01           0.04           0.04           0.00"
      ]
     },
     "execution_count": 8,
     "metadata": {},
     "output_type": "execute_result"
    }
   ],
   "source": [
    "tr.analyze(toa)\n",
    "tr"
   ]
  },
  {
   "cell_type": "code",
   "execution_count": 9,
   "id": "4e2fbe48-e13d-42d8-b931-897fc5dddb13",
   "metadata": {},
   "outputs": [
    {
     "name": "stdout",
     "output_type": "stream",
     "text": [
      "                          self=treated, unique people count=  193497  \n",
      "                          self\n",
      "                          -----------------------------------------------------\n",
      "                          min      0.25    med     0.75     max    mean     sd\n",
      "                          -----------------------------------------------------\n",
      "            bpMedsAdded\n",
      "                      0   0.93\n",
      "                      1   0.03\n",
      "                      2   0.02\n",
      "                      3   0.01\n",
      "                      4   0.00\n"
     ]
    }
   ],
   "source": [
    "tr.print_treatment_strategy_distributions()"
   ]
  },
  {
   "cell_type": "code",
   "execution_count": null,
   "id": "8954d2bc-aeab-434e-b0c2-cd4bd3c35b81",
   "metadata": {},
   "outputs": [],
   "source": []
  },
  {
   "cell_type": "code",
   "execution_count": null,
   "id": "bb229e01-484f-4111-a7a9-23c1d32b57b3",
   "metadata": {},
   "outputs": [],
   "source": []
  }
 ],
 "metadata": {
  "kernelspec": {
   "display_name": "microsimKernel",
   "language": "python",
   "name": "microsimkernel"
  },
  "language_info": {
   "codemirror_mode": {
    "name": "ipython",
    "version": 3
   },
   "file_extension": ".py",
   "mimetype": "text/x-python",
   "name": "python",
   "nbconvert_exporter": "python",
   "pygments_lexer": "ipython3",
   "version": "3.9.13"
  }
 },
 "nbformat": 4,
 "nbformat_minor": 5
}
