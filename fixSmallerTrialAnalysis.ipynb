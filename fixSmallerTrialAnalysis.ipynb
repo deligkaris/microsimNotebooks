{
 "cells": [
  {
   "cell_type": "code",
   "execution_count": null,
   "id": "0d9f461c",
   "metadata": {},
   "outputs": [],
   "source": [
    "#note: must use a microsim kernel or a kernel that can load all necessary python modules"
   ]
  },
  {
   "cell_type": "code",
   "execution_count": 1,
   "id": "554af5af",
   "metadata": {},
   "outputs": [],
   "source": [
    "import os\n",
    "import pandas as pd\n",
    "pd.set_option('display.max_columns', None)\n",
    "pd.set_option('display.max_rows', None)\n",
    "from pandarallel import pandarallel\n",
    "import multiprocessing as mp"
   ]
  },
  {
   "cell_type": "code",
   "execution_count": 2,
   "id": "52aca676",
   "metadata": {},
   "outputs": [],
   "source": [
    "from microsim.bp_treatment_strategies import *\n",
    "\n",
    "from microsim.outcome_model_repository import OutcomeModelRepository\n",
    "from microsim.outcome_model_type import OutcomeModelType\n",
    "from microsim.person import Person\n",
    "\n",
    "from microsim.population import NHANESDirectSamplePopulation\n",
    "\n",
    "from microsim.bp_treatment_strategies import SprintTreatment\n",
    "\n",
    "from microsim.sim_settings import simSettings\n",
    "\n",
    "from microsim.trials.trial import Trial\n",
    "from microsim.trials.trialset import TrialsetParallel, TrialsetSerial\n",
    "from microsim.trials.trial_description import TrialDescription\n",
    "from microsim.trials.logistic_regression_analysis import LogisticRegressionAnalysis\n",
    "from microsim.trials.linear_regression_analysis import LinearRegressionAnalysis\n",
    "from microsim.trials.outcome_assessor import OutcomeAssessor\n",
    "from microsim.trials.attribute_outcome_assessor import AttributeOutcomeAssessor\n",
    "from microsim.trials.attribute_outcome_assessor import AssessmentMethod\n",
    "from microsim.trials.risk_filter import RiskFilter\n",
    "from microsim.trials.trial_utils import get_analysis_name, randomizationSchema"
   ]
  },
  {
   "cell_type": "code",
   "execution_count": 3,
   "id": "62ce8890",
   "metadata": {},
   "outputs": [],
   "source": [
    "#any microsim dir will work, just need to access the NHANES data\n",
    "microsimDir = \"/Users/deligkaris.1/OneDrive - The Ohio State University Wexner Medical Center/MICROSIM/CODE/microsim\"\n",
    "os.chdir(microsimDir)"
   ]
  },
  {
   "cell_type": "code",
   "execution_count": 4,
   "id": "41678fb7",
   "metadata": {},
   "outputs": [],
   "source": [
    "#at the beginning turn on pandarallel if you are planning to use TrialsetSerial\n",
    "pandarallel.initialize(verbose=1) #microsim by default now does not initialize pandarallel\n",
    "simSettings.pandarallelFlag = True #with this flag all new population instances will be set to use pandarallel"
   ]
  },
  {
   "cell_type": "code",
   "execution_count": 5,
   "id": "c904515b",
   "metadata": {},
   "outputs": [],
   "source": [
    "#with pandarallel on these two steps are faster\n",
    "pop = NHANESDirectSamplePopulation(10000, 1999)\n",
    "#alive, df = pop.advance_vectorized(30)"
   ]
  },
  {
   "cell_type": "code",
   "execution_count": 6,
   "id": "4a6ada7f",
   "metadata": {},
   "outputs": [],
   "source": [
    "anyEvent2 = LogisticRegressionAnalysis(OutcomeAssessor([OutcomeAssessor.DEATH, OutcomeType.STROKE, OutcomeType.MI, OutcomeType.DEMENTIA, OutcomeAssessor.CI]))\n",
    "cogEvent = LogisticRegressionAnalysis(OutcomeAssessor([OutcomeAssessor.CI,OutcomeType.DEMENTIA]))\n",
    "vascularEventOrDeath = LogisticRegressionAnalysis(OutcomeAssessor([OutcomeAssessor.DEATH, OutcomeType.STROKE, OutcomeType.MI]))\n",
    "anyEvent = LogisticRegressionAnalysis(OutcomeAssessor([OutcomeAssessor.DEATH, OutcomeType.STROKE, OutcomeType.MI, OutcomeType.DEMENTIA]))\n",
    "death = LogisticRegressionAnalysis(OutcomeAssessor([OutcomeAssessor.DEATH]))\n",
    "qalys = LinearRegressionAnalysis(AttributeOutcomeAssessor(\"_qalys\", AssessmentMethod.SUM))\n",
    "meanGCP = LinearRegressionAnalysis(AttributeOutcomeAssessor(\"_gcp\", AssessmentMethod.MEAN))\n",
    "lastGCP = LinearRegressionAnalysis(AttributeOutcomeAssessor(\"_gcp\", AssessmentMethod.LAST))"
   ]
  },
  {
   "cell_type": "code",
   "execution_count": 7,
   "id": "df0d9cde",
   "metadata": {},
   "outputs": [],
   "source": [
    "#we will later define how many processes to launch, this is just for validation\n",
    "#and so that we do not set the number of processes to a number greater than the number of available cores\n",
    "#print(\"code has access to cores \",len(os.sched_getaffinity(0)))"
   ]
  },
  {
   "cell_type": "code",
   "execution_count": 8,
   "id": "8d723d47",
   "metadata": {},
   "outputs": [],
   "source": [
    "#these are usually set from the input file, but to make things easier here \n",
    "#just set them on the notebook (which means no script will test for their meaningfulness)\n",
    "inputSampleSizes = [1000,2000,10000] #for quick tests\n",
    "#inputSampleSizes = [100, 200, 500, 1000, 5000, 10000, 15000, 20000]\n",
    "inputDurations = [1,2] #for quick tests\n",
    "#inputDurations = [3,5,10,15,20]\n",
    "#inputDemThresholds = [2.4845839854531493e-08, 0.00018576417292080007, 0.0012917270937081809, 0.005870510161620921, 0.025739443157677927]\n",
    "#inputCvThresholds = [1.167603052003119e-06, 0.0008193743487641601, 0.0026191105926681, 0.006091251406939853, 0.0132184645579298]\n",
    "#inputDemThresholds = [2.4845839854531493e-08,0.00018576417292080007] #for quick tests\n",
    "#inputCvThresholds = [1.167603052003119e-06,0.0008193743487641601] #for quick tests\n",
    "inputDemThresholds = [2.4845839854531493e-08] #for quick tests\n",
    "inputCvThresholds = [1.167603052003119e-06] #for quick tests\n",
    "inputTrialsetSize = 3\n",
    "inputProcesses = 3"
   ]
  },
  {
   "cell_type": "code",
   "execution_count": 9,
   "id": "19fc9896",
   "metadata": {},
   "outputs": [],
   "source": [
    "#if you try running a TrialsetParallel instance with pandarallel on, you will get an exception\n",
    "#but these could be included in the TrialsetParallel.run() method\n",
    "simSettings.pandarallelFlag = False #any new population instance will have pandarallel off \n",
    "pop.use_pandarallel(False) #for mp to pickle this instance that used pandarallel, must change its attributes"
   ]
  },
  {
   "cell_type": "code",
   "execution_count": 10,
   "id": "593cc60e",
   "metadata": {},
   "outputs": [
    {
     "name": "stdout",
     "output_type": "stream",
     "text": [
      "starting trial 0 now\n",
      "starting trial 1 now\n",
      "starting trial 2 now\n"
     ]
    },
    {
     "name": "stderr",
     "output_type": "stream",
     "text": [
      "/Users/deligkaris.1/Library/CloudStorage/OneDrive-TheOhioStateUniversityWexnerMedicalCenter/MICROSIM/CODE/microsim/microsim/population.py:342: SettingWithCopyWarning: \n",
      "A value is trying to be set on a copy of a slice from a DataFrame\n",
      "\n",
      "See the caveats in the documentation: https://pandas.pydata.org/pandas-docs/stable/user_guide/indexing.html#returning-a-view-versus-a-copy\n",
      "  totalBPMedsAddedCapped.loc[totalBPMedsAddedCapped >= BaseTreatmentStrategy.MAX_BP_MEDS] = BaseTreatmentStrategy.MAX_BP_MEDS\n",
      "/Users/deligkaris.1/Library/CloudStorage/OneDrive-TheOhioStateUniversityWexnerMedicalCenter/MICROSIM/CODE/microsim/microsim/population.py:342: SettingWithCopyWarning: \n",
      "A value is trying to be set on a copy of a slice from a DataFrame\n",
      "\n",
      "See the caveats in the documentation: https://pandas.pydata.org/pandas-docs/stable/user_guide/indexing.html#returning-a-view-versus-a-copy\n",
      "  totalBPMedsAddedCapped.loc[totalBPMedsAddedCapped >= BaseTreatmentStrategy.MAX_BP_MEDS] = BaseTreatmentStrategy.MAX_BP_MEDS\n",
      "/Users/deligkaris.1/Library/CloudStorage/OneDrive-TheOhioStateUniversityWexnerMedicalCenter/MICROSIM/CODE/microsim/microsim/population.py:342: SettingWithCopyWarning: \n",
      "A value is trying to be set on a copy of a slice from a DataFrame\n",
      "\n",
      "See the caveats in the documentation: https://pandas.pydata.org/pandas-docs/stable/user_guide/indexing.html#returning-a-view-versus-a-copy\n",
      "  totalBPMedsAddedCapped.loc[totalBPMedsAddedCapped >= BaseTreatmentStrategy.MAX_BP_MEDS] = BaseTreatmentStrategy.MAX_BP_MEDS\n",
      "/Users/deligkaris.1/Library/CloudStorage/OneDrive-TheOhioStateUniversityWexnerMedicalCenter/MICROSIM/CODE/microsim/microsim/population.py:342: SettingWithCopyWarning: \n",
      "A value is trying to be set on a copy of a slice from a DataFrame\n",
      "\n",
      "See the caveats in the documentation: https://pandas.pydata.org/pandas-docs/stable/user_guide/indexing.html#returning-a-view-versus-a-copy\n",
      "  totalBPMedsAddedCapped.loc[totalBPMedsAddedCapped >= BaseTreatmentStrategy.MAX_BP_MEDS] = BaseTreatmentStrategy.MAX_BP_MEDS\n",
      "/Users/deligkaris.1/Library/CloudStorage/OneDrive-TheOhioStateUniversityWexnerMedicalCenter/MICROSIM/CODE/microsim/microsim/population.py:342: SettingWithCopyWarning: \n",
      "A value is trying to be set on a copy of a slice from a DataFrame\n",
      "\n",
      "See the caveats in the documentation: https://pandas.pydata.org/pandas-docs/stable/user_guide/indexing.html#returning-a-view-versus-a-copy\n",
      "  totalBPMedsAddedCapped.loc[totalBPMedsAddedCapped >= BaseTreatmentStrategy.MAX_BP_MEDS] = BaseTreatmentStrategy.MAX_BP_MEDS\n",
      "/Users/deligkaris.1/Library/CloudStorage/OneDrive-TheOhioStateUniversityWexnerMedicalCenter/MICROSIM/CODE/microsim/microsim/population.py:342: SettingWithCopyWarning: \n",
      "A value is trying to be set on a copy of a slice from a DataFrame\n",
      "\n",
      "See the caveats in the documentation: https://pandas.pydata.org/pandas-docs/stable/user_guide/indexing.html#returning-a-view-versus-a-copy\n",
      "  totalBPMedsAddedCapped.loc[totalBPMedsAddedCapped >= BaseTreatmentStrategy.MAX_BP_MEDS] = BaseTreatmentStrategy.MAX_BP_MEDS\n"
     ]
    },
    {
     "name": "stdout",
     "output_type": "stream",
     "text": [
      "ending trial 0 now\n",
      "ending trial 2 now\n",
      "ending trial 1 now\n",
      "CPU times: user 301 ms, sys: 48.6 ms, total: 350 ms\n",
      "Wall time: 1min 32s\n"
     ]
    }
   ],
   "source": [
    "%%time\n",
    "#a drawback of including these thresholds outside of the trialset instances is that these cannot be parallelized\n",
    "#so in every iteration, I have to wait until all trials of the trialset are done in order to proceed to the next\n",
    "#iteration/trialset (=time lost)\n",
    "#the more thresholds I have, the greater the time lost \n",
    "#but it is relative to have many trials the set has and how many cores I am using\n",
    "results = None\n",
    "for dem in inputDemThresholds:\n",
    "    for cv in inputCvThresholds:\n",
    "            myRiskFilter = RiskFilter({OutcomeModelType.DEMENTIA : dem , OutcomeModelType.CARDIOVASCULAR : cv})\n",
    "            #this trial description will be the same for all trials in the trial set\n",
    "            desc = TrialDescription(sampleSizes= inputSampleSizes,\n",
    "                                                durations = inputDurations,\n",
    "                                                inclusionFilter=myRiskFilter.exceedsThresholds,\n",
    "                                                exclusionFilter=None,\n",
    "                                                analyses=[anyEvent2,\n",
    "                                                          cogEvent,\n",
    "                                                        death,\n",
    "                                                        anyEvent,\n",
    "                                                        vascularEventOrDeath,\n",
    "                                                        qalys,\n",
    "                                                        meanGCP,\n",
    "                                                        lastGCP],\n",
    "                                                treatment=SprintTreatment(),\n",
    "                                                randomizationSchema=randomizationSchema)\n",
    "            #create the set\n",
    "            trialset = TrialsetParallel(desc,\n",
    "                                        pop,\n",
    "                                        inputTrialsetSize,\n",
    "                                        inputProcesses, #an extra argument for TrialsetParallel\n",
    "                                        additionalLabels=myRiskFilter._outcomeRiskThresholds)\n",
    "            #trialset = TrialsetSerial(desc,\n",
    "            #                          pop,\n",
    "            #                          inputTrialsetSize,\n",
    "            #                          additionalLabels=myRiskFilter._outcomeRiskThresholds)\n",
    "            if __name__ ==  '__main__': #launching processes with multiprocesses requires this\n",
    "                if results is None:\n",
    "                    results = trialset.run()\n",
    "                else:\n",
    "                    results = pd.concat([results,trialset.run()]).reset_index(drop=True)"
   ]
  },
  {
   "cell_type": "code",
   "execution_count": null,
   "id": "bac72060",
   "metadata": {},
   "outputs": [],
   "source": [
    "#48 for all\n",
    "results.loc[results[\"sampleSize\"]==2000][\"sampleSize\"].count()"
   ]
  },
  {
   "cell_type": "code",
   "execution_count": null,
   "id": "2ec4c3ea",
   "metadata": {},
   "outputs": [],
   "source": [
    "results.head()"
   ]
  },
  {
   "cell_type": "code",
   "execution_count": null,
   "id": "ab6b2182",
   "metadata": {},
   "outputs": [],
   "source": [
    "results.loc[results[\"sampleSize\"]==10000].head()"
   ]
  },
  {
   "cell_type": "code",
   "execution_count": null,
   "id": "6550df3e",
   "metadata": {},
   "outputs": [],
   "source": []
  }
 ],
 "metadata": {
  "kernelspec": {
   "display_name": "microsimKernel",
   "language": "python",
   "name": "microsimkernel"
  },
  "language_info": {
   "codemirror_mode": {
    "name": "ipython",
    "version": 3
   },
   "file_extension": ".py",
   "mimetype": "text/x-python",
   "name": "python",
   "nbconvert_exporter": "python",
   "pygments_lexer": "ipython3",
   "version": "3.9.13"
  }
 },
 "nbformat": 4,
 "nbformat_minor": 5
}
