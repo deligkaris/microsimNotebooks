{
 "cells": [
  {
   "cell_type": "code",
   "execution_count": 1,
   "id": "125b6ac2-5ce1-49d1-8371-c876ee506b03",
   "metadata": {},
   "outputs": [],
   "source": [
    "import os\n",
    "import copy\n",
    "import pandas as pd\n",
    "pd.set_option('display.max_columns', None)\n",
    "pd.set_option('display.max_rows', None)\n",
    "from pandarallel import pandarallel\n",
    "import numpy as np\n",
    "import matplotlib.pyplot as plt\n",
    "import importlib.util"
   ]
  },
  {
   "cell_type": "code",
   "execution_count": 2,
   "id": "3f5eaa0a-1840-4c88-91aa-d77b5867fc39",
   "metadata": {},
   "outputs": [],
   "source": [
    "from microsim.population import Population, NHANESDirectSamplePopulation, build_people_using_nhanes_for_sampling\n",
    "from microsim.sim_settings import simSettings\n",
    "from microsim.outcome_model_repository import OutcomeModelRepository\n",
    "from microsim.qaly_assignment_strategy import QALYAssignmentStrategy\n",
    "from microsim.cohort_risk_model_repository import CohortRiskModelRepository\n",
    "from microsim.person import Person\n",
    "from microsim.education import Education\n",
    "from microsim.gender import NHANESGender\n",
    "from microsim.race_ethnicity import NHANESRaceEthnicity\n",
    "from microsim.smoking_status import SmokingStatus\n",
    "from microsim.alcohol_category import AlcoholCategory\n",
    "\n",
    "from typing import Callable"
   ]
  },
  {
   "cell_type": "code",
   "execution_count": 3,
   "id": "58e76c45-8408-4402-b07d-0d35e704ce27",
   "metadata": {},
   "outputs": [],
   "source": [
    "#pandarallel.initialize(verbose=1) #microsim by default now does not initialize pandarallel\n",
    "#simSettings.pandarallelFlag = True #with this flag all new population instances will be set to use pandarallel\n",
    "\n",
    "#if every person object will have their own rng stream, then perhaps this can be pushed to be initialized\n",
    "#in every population\n",
    "#care must be taken if the population is to advance using multiprocessing or not though\n",
    "#in a similar way that is currently done with trial sets\n",
    "seedSequence = np.random.SeedSequence()\n",
    "rngStream = np.random.default_rng(seed=seedSequence)\n",
    "\n",
    "microsimDir = \"/Users/deligkaris.1/OneDrive - The Ohio State University Wexner Medical Center/MICROSIM/CODE/microsim\"\n",
    "os.chdir(microsimDir)"
   ]
  },
  {
   "cell_type": "code",
   "execution_count": 4,
   "id": "897345ba-a0d3-4fd0-abf6-894c091958b1",
   "metadata": {},
   "outputs": [],
   "source": [
    "#age is a risk factor so it will be included with the other risk factors and\n",
    "#it needs a model \n",
    "class AgeModel:\n",
    "    \n",
    "    def __init__(self):\n",
    "        pass\n",
    "    \n",
    "    def estimate_next_risk(self, person, rng=None):\n",
    "        return person._age[-1]+1\n",
    "    \n",
    "#cohortModule = importlib.import_module(\"microsim.cohort_risk_model_repository\")\n",
    "\n",
    "class myCohortRiskModelRepository(CohortRiskModelRepository):\n",
    "    def __init__(self):\n",
    "        super().__init__()\n",
    "        self._repository[\"age\"] = AgeModel()\n",
    "        \n",
    "#setattr(cohortModule, \"CohortRiskModelRepository\", myCohortRiskModelRepository)"
   ]
  },
  {
   "cell_type": "code",
   "execution_count": 5,
   "id": "91439e85-d048-49f1-9f7b-2ca28f4200ac",
   "metadata": {},
   "outputs": [],
   "source": [
    "#these are lists that do not change over the course of a population and are the same no matter the population\n",
    "#treatment strategies\n",
    "#I could argue that these might be better suited under the Person class, these are just the static attributes all\n",
    "#person objects will have no matter the population\n",
    "#the rules that dictate how advancement is done will vary from population to population so the population needs to be\n",
    "#able to dictate them to person objects\n",
    "#but since the person advance methods need these rules in order to work, person objects should have at least a default\n",
    "#set of rules (now they do not)\n",
    "#when person objects get these rules from a population class, memory pointers will be used (I think)\n",
    "#but it is unclear to me how this would work with multiprocessing \n",
    "#if this can work with multiprocessing, an approach could be: each person object has default set of rules,\n",
    "#and those are modified by the population, with each person object keeping a reference to the population rules\n",
    "#as a person attribute\n",
    "    \n",
    "#also, I am dividing the person attributes in groups....so that each group will have its own\n",
    "#requirements (eg a dynamic risk factor need to be associated with an estimate next risk method)\n",
    "#and the set of all groups should provide ideally all, but at least most of, a person object's attributes\n",
    "\n",
    "#I would also like to include the units for all attributes here in the source\n",
    "\n",
    "#A person object is essentially: \n",
    "#.     1) its state which consists of both past and present, \n",
    "#.     2) rules for aging that state, \n",
    "#.     3) tools for analyzing/reporting the state\n",
    "#A population object is a collection of person objects therefore is: \n",
    "#.     1) its state, which is really the state of its people, \n",
    "#      2) rules for aging that state, which are rules for aging person objects, \n",
    "#.     3) tools for analyzing/reporting that state\n",
    "#A trial is a collection of populations therefore is: \n",
    "#.     1) its state is the state of its populations\n",
    "#.     2) rules for advancing those populations\n",
    "#.     3) tools for analyzing/reporting that state\n",
    "\n",
    "#I imagine that trial inclusion/exclusion criteria can be pushed to the population class, as filters in the pandas nhanes df\n",
    "#as soon as that is read\n",
    "#currently, imagine the worst case scenario with an extremely picky trial, we will need to create a very large population\n",
    "#with a large memory cost, to get a small trial population\n",
    "\n",
    "#also, the best case scenario for inferences would be to compare identical populations, so\n",
    "#instead of creating different populations as part of trials, create just one and subject the two copies\n",
    "#to different rules of advancing...\n",
    "\n",
    "personModule = importlib.import_module(\"microsim.person\")\n",
    "\n",
    "class myPerson(Person):\n",
    "    \n",
    "    #I would like to have something that includes all attributes of the object, but \n",
    "    stateDynamic = [\"riskFactors\",\"treatments\", \"outcomes\", \"qalys\"]\n",
    "    stateStatic = [\"selfReportedData\", \"randomEffects\", \"rng\"]\n",
    "    state = stateDynamic + stateStatic\n",
    "    #state = [\"riskFactors\",\"treatments\", \"outcomes\", \"qalys\", \"selfReportedData\", \"randomEffects\", \"rng\"]\n",
    "    \n",
    "    #I assume there will be dynamic and static risk factors\n",
    "    riskFactorsDynamic = [\n",
    "    #self._riskFactorsDynamic = [\n",
    "            \"age\",\n",
    "            \"sbp\",\n",
    "            \"dbp\",\n",
    "            \"a1c\",\n",
    "            \"hdl\",\n",
    "            \"ldl\",\n",
    "            \"trig\",\n",
    "            \"totChol\",\n",
    "            \"bmi\",\n",
    "            \"anyPhysicalActivity\",\n",
    "            \"afib\",\n",
    "            \"waist\",\n",
    "            \"alcoholPerWeek\",\n",
    "            \"creatinine\",\n",
    "            \"pvd\",\n",
    "        ]\n",
    "        # not sure why this was in the past perhaps included as a risk factor\n",
    "        # , 'otherLipidLoweringMedicationCount']\n",
    "    \n",
    "    #I can see education, smokingStatus becoming dynamic risk factors\n",
    "    riskFactorsStatic = [\"raceEthnicity\",\n",
    "                         \"education\",\n",
    "                         \"gender\",\n",
    "                         \"smokingStatus\"]\n",
    "    \n",
    "    riskFactors = riskFactorsStatic+riskFactorsDynamic\n",
    "    \n",
    "    #should treatments be defined using their disease (eg hypertension), \n",
    "    #their effect (eg antihypertension), their drug class (eg statin), or what risk factors they affect (eg bp)\n",
    "    treatments = [\"antiHypertensiveCount\", \"statin\"]\n",
    "    #treatments = [\"antiHypertensive\", \"statin\", \"otherLipidLoweringMedicationCount\"]\n",
    "    #self._treatments = [\"antiHypertensiveCount\", \"statin\"]\n",
    "    \n",
    "    #I am not sure this is needed now...\n",
    "    timeVaryingCovariates = copy.copy(riskFactorsDynamic)\n",
    "    timeVaryingCovariates.extend(treatments)\n",
    "    #self._timeVaryingCovariates = copy.copy(self._riskFactorsDynamic)\n",
    "    #self._timeVaryingCovariates.extend(self._treatments)\n",
    "    #self._timeVaryingCovariates.append(\"bpMedsAdded\")\n",
    "    \n",
    "    selfReportedData = [\"selfReportStrokeAge\", \"selfReportMIAge\"]\n",
    "    \n",
    "    def __init__(\n",
    "        self,\n",
    "        age: int,\n",
    "        gender: NHANESGender,\n",
    "        raceEthnicity: NHANESRaceEthnicity,\n",
    "        sbp: int,\n",
    "        dbp: int,\n",
    "        a1c: float,\n",
    "        hdl: int,\n",
    "        totChol: int,\n",
    "        bmi: float,\n",
    "        ldl: int,\n",
    "        trig: int,\n",
    "        waist: int,  # Waist circumference in cm\n",
    "        anyPhysicalActivity: int,\n",
    "        education: Education,\n",
    "        smokingStatus: SmokingStatus,\n",
    "        alcohol: AlcoholCategory,\n",
    "        antiHypertensiveCount: int,\n",
    "        statin: int,\n",
    "        otherLipidLoweringMedicationCount: int,\n",
    "        creatinine: float,\n",
    "        initializeAfib: Callable,\n",
    "        initializationRepository=None, #do we need this?\n",
    "        selfReportStrokeAge=None,\n",
    "        selfReportMIAge=None,\n",
    "        randomEffects=None,\n",
    "        rng=None,\n",
    "        #risk_model_repository,\n",
    "        #outcome_model_repository,\n",
    "        #qaly_assignment_strategy,\n",
    "        **kwargs,\n",
    "    ) -> None:\n",
    "\n",
    "        super().__init__(age,\n",
    "            gender,\n",
    "            raceEthnicity,\n",
    "            sbp,\n",
    "            dbp,\n",
    "            a1c,\n",
    "            hdl,\n",
    "            totChol,\n",
    "            bmi,\n",
    "            ldl,\n",
    "            trig,\n",
    "            waist,  # Waist circumference in cm\n",
    "            anyPhysicalActivity,\n",
    "            education,\n",
    "            smokingStatus,\n",
    "            alcohol,\n",
    "            antiHypertensiveCount,\n",
    "            statin,\n",
    "            otherLipidLoweringMedicationCount,\n",
    "            creatinine,\n",
    "            initializeAfib,\n",
    "            initializationRepository,\n",
    "            selfReportStrokeAge,\n",
    "            selfReportMIAge,\n",
    "            randomEffects,\n",
    "            rng,\n",
    "            **kwargs)\n",
    "        \n",
    "        #each person will advance on their own so keep track of this here\n",
    "        self._currentWave = 0\n",
    "        #need to double check that each person needs indeed their own stream\n",
    "        seedSequence = np.random.SeedSequence()\n",
    "        self._rng = np.random.default_rng(seed=seedSequence)\n",
    "     \n",
    "    def is_alive(self):\n",
    "        return self._alive[-1]\n",
    "    \n",
    "    def get_next_treatment(self, treatment, treatmentRepository, rng=None):\n",
    "        model = treatmentRepository.get_model(treatment)\n",
    "        return model.estimate_next_risk(self, rng=rng)\n",
    "    \n",
    "    def advance(self, years, treatmentStrategies, repositories):\n",
    "        for yearIndex in range(years):\n",
    "            if self.is_alive():\n",
    "                self._currentWave += 1\n",
    "                self.advance_risk_factors(repositories[\"riskFactorsDynamic\"])\n",
    "                self.advance_treatments(repositories[\"treatments\"], treatmentStrategies)\n",
    "                self.update_risk_factors\n",
    "                self.advance_outcomes(repositories[\"outcomes\"])\n",
    "                self.advance_qalys(repositories[\"qalys\"])\n",
    "    \n",
    "    #may need to fix alcohol because it needs to convert the risk to a category I think\n",
    "    #may also need to implement the apply bounds functionality that is present in the current advance risk factors method\n",
    "    #the rng=self._rng will eventually not be needed when estimate_next_risk functions utilize the person's own rng stream\n",
    "    def advance_risk_factors(self, rfdRepository):\n",
    "        for rf in self.riskFactorsDynamic:\n",
    "            #rfdRepository.get_model(rf).estimate_next_risk(self)])\n",
    "            setattr(self, \"_\"+rf, getattr(self,\"_\"+rf)+[self.get_next_risk_factor(rf, rfdRepository, rng=self._rng)]) \n",
    "            \n",
    "    def advance_treatments(self, treatmentRepository, treatmentStrategies):\n",
    "        for treatment in self.treatments:\n",
    "            #applies the default treatments\n",
    "            #it is not clear to me why treatment strategies affect the person attributes directly\n",
    "            #whereas treatments affect the person attributes indirectly through the attribute models\n",
    "            setattr(self, \"_\"+treatment, getattr(self,\"_\"+treatment)+[self.get_next_treatment(treatment, treatmentRepository, \n",
    "                                                                                              rng=self._rng)]) \n",
    "            #choice of words: get_next implies that it returns the final/next quantity, update implies that it modifies\n",
    "            #that quantity in place\n",
    "            #the vectorized bp treatment strategies are modifying the rows in place whereas the changes/absolute values are \n",
    "            #returned for person objects, the code is much more simple if the person is modified in place with treatment\n",
    "            #strategies so do that for person objects\n",
    "            #these two functions will need to be defined\n",
    "            if treatmentStrategies[treatment] is not None:\n",
    "                treatmentStrategies[treatment].update_next_treatment(self)\n",
    "                #I want to make it explicit and more obvious that treatments update the risk factors\n",
    "                treatmentStrategies[treatment].update_next_risk_factors(self)\n",
    "    \n",
    "    \n",
    "setattr(personModule, \"Person\", myPerson)"
   ]
  },
  {
   "cell_type": "code",
   "execution_count": 14,
   "id": "65f9bd99-b6ca-4378-864e-cc45fc4e6c32",
   "metadata": {},
   "outputs": [],
   "source": [
    "popModule = importlib.import_module(\"microsim.population\")\n",
    "\n",
    "class myPopulation:\n",
    "    \n",
    "    def __init__(self, people):\n",
    "        self._people = people\n",
    "        \n",
    "        #maybe do not set this as an attribute, so that I can parallelize the advancement later\n",
    "        #self._numberAlive = self.get_numberAlive()\n",
    "        \n",
    "        #self._ageStandards = {}\n",
    "        # luciana tag: discuss with luciana...want to keep track of the sim wave htat is currently running, while running\n",
    "        # and also the total number of years advanced...need to think about how to do this is a way that will be safe\n",
    "        # this approach has major risks if you forget to update one of these variables\n",
    "        self._totalWavesAdvanced = 0\n",
    "        #self._currentWave = 0\n",
    "        \n",
    "        #self.num_of_processes = 8\n",
    "\n",
    "        #treatment strategies and the 3 repositories are the rules by which person objects can advance to the future\n",
    "        #these will differ between populations and person objects need to obtain them from the population\n",
    "        \n",
    "        #every repository will need to have a model for each corresponding person attribute\n",
    "        #eg the riskFactorDynamic repo will need to have a model for each item in the Person.riskFactorsDynamic list\n",
    "        self._repositories = {\"riskFactorsDynamic\": None,\n",
    "                              \"treatments\": None, #these are the default treatments in a population\n",
    "                              \"outcomes\": None,\n",
    "                              \"qalys\": None}\n",
    "        \n",
    "        #for all items in the Person.treatments list there can be in principle a treatmentStrategy \n",
    "        #I can imagine all of these being merged in a single data structure and passed on to the person objects\n",
    "        #as a single argument, eg say pop._advancementRules\n",
    "        #I can also imagine this as a class populationAdvancementRules\n",
    "        #so eg NHANESDirectSamplePop will need to initialize 2 things, a population and the populationAdvancementRules\n",
    "        #also, every item in the Person.treatments can have in principle a treatment strategy\n",
    "        #the keys in this dictionary need to be the same as the self._treatments list\n",
    "        self._treatmentStrategies = {\"antiHypertensiveCount\": None, \n",
    "                                     \"statin\": None}\n",
    "        #self._treatmentStrategies = {\"bp\": None}\n",
    "        #self._bpTreatmentStrategy = None\n",
    "        \n",
    "        #any repositories that are needed in a population method, will need to be included in the population class\n",
    "        #perhaps in a default way, eg by not changing anything or doing nothing\n",
    "        #currently, subclasses are the ones that define repositories that the population class actually needs\n",
    "      \n",
    "    def get_numberAlive(self):\n",
    "        return sum(list(map(lambda x: int(x.is_alive()), self._people)))\n",
    "    \n",
    "    def advance(self, years, rng=None):\n",
    "            \n",
    "        logging.info(f\"processing years: {self._totalWavesAdvanced}-{self._totalWavesAdvanced+years}\")\n",
    "        list(map(lambda x: x.advance(years, treatmentStrategies=self._treatmentStrategies, repositories=self._repositories), \n",
    "                 self._people))\n",
    "        self._totalWavesAdvanced += years #sampling from NHANES is wave 0\n",
    "        \n",
    "setattr(popModule, \"Population\", myPopulation)\n",
    "setattr(popModule, \"Person\", myPerson)\n",
    "#setattr(popModule, \"CohortRiskModelRepository\", myCohortRiskModelRepository)"
   ]
  },
  {
   "cell_type": "code",
   "execution_count": 15,
   "id": "dc43d581-0581-4da2-81b4-e36046fe62b4",
   "metadata": {},
   "outputs": [],
   "source": [
    "class NHANESDirectSamplePopulation(myPopulation):\n",
    "    \"\"\"Simple base class to sample with replacement from 2015/2016 NHANES\"\"\"\n",
    "\n",
    "    def __init__(\n",
    "        self,\n",
    "        n,\n",
    "        year,\n",
    "        filter=None,\n",
    "        generate_new_people=True,\n",
    "        model_reposistory_type=\"cohort\",\n",
    "        random_seed=None,\n",
    "        weights=None,\n",
    "        rng=None,\n",
    "    ):\n",
    "\n",
    "        nhanes = pd.read_stata(\"microsim/data/fullyImputedDataset.dta\")\n",
    "        nhanes = nhanes.loc[nhanes.year == year]\n",
    "        self._outcome_model_repository = OutcomeModelRepository()\n",
    "        #rng = np.random.default_rng(rng)\n",
    "        people = build_people_using_nhanes_for_sampling(\n",
    "            nhanes,\n",
    "            n,\n",
    "            self._outcome_model_repository,\n",
    "            filter=filter,\n",
    "            random_seed=random_seed,\n",
    "            weights=weights,\n",
    "            rng=rng,\n",
    "        )\n",
    "        super().__init__(people)\n",
    "        self._qaly_assignment_strategy = QALYAssignmentStrategy()\n",
    "        self.n = n\n",
    "        self.year = year\n",
    "        self._initialize_risk_models(model_reposistory_type)\n",
    "\n",
    "    def copy(self):\n",
    "        newPop = NHANESDirectSamplePopulation(self.n, self.year, False)\n",
    "        newPop._people = copy.deepcopy(self._people)\n",
    "        return newPop\n",
    "\n",
    "    def _initialize_risk_models(self, model_repository_type):\n",
    "        if model_repository_type == \"cohort\":\n",
    "            self._risk_model_repository = myCohortRiskModelRepository()\n",
    "        elif model_repository_type == \"nhanes\":\n",
    "            self._risk_model_repository = NHANESRiskModelRepository()\n",
    "        else:\n",
    "            raise Exception(\"unknwon risk model repository type\" + model_repository_type)"
   ]
  },
  {
   "cell_type": "code",
   "execution_count": 16,
   "id": "d537c75c-d88b-48a0-97b5-ddc83d1e8376",
   "metadata": {},
   "outputs": [],
   "source": [
    "#from microsim.population import NHANESDirectSamplePopulation\n",
    "#from popModule import NHANESDirectSamplePopulation\n",
    "popSize = 10\n",
    "pop = NHANESDirectSamplePopulation(popSize, 2017, rng=rngStream)"
   ]
  },
  {
   "cell_type": "code",
   "execution_count": 17,
   "id": "5b5e15fa-44e1-49d4-8af6-f963428b9b3f",
   "metadata": {},
   "outputs": [],
   "source": [
    "pop._people.iloc[0].advance_risk_factors(pop._risk_model_repository)"
   ]
  },
  {
   "cell_type": "code",
   "execution_count": 18,
   "id": "b81aefa4-c510-442b-808e-60363b1a3cf9",
   "metadata": {},
   "outputs": [
    {
     "data": {
      "text/plain": [
       "[103.33333333333333, 105.23750931706877]"
      ]
     },
     "execution_count": 18,
     "metadata": {},
     "output_type": "execute_result"
    }
   ],
   "source": [
    "pop._people.iloc[0]._sbp"
   ]
  },
  {
   "cell_type": "code",
   "execution_count": 19,
   "id": "de98c648-2eaa-49c5-a00b-35fa16bdd0f7",
   "metadata": {},
   "outputs": [
    {
     "data": {
      "text/plain": [
       "[<AlcoholCategory.SEVENTOTHIRTEEN: 2>, <AlcoholCategory.ONETOSIX: 1>]"
      ]
     },
     "execution_count": 19,
     "metadata": {},
     "output_type": "execute_result"
    }
   ],
   "source": [
    "pop._people.iloc[0]._alcoholPerWeek"
   ]
  },
  {
   "cell_type": "code",
   "execution_count": 23,
   "id": "33d429bd-9cc0-48b0-9add-b6ba37cef81a",
   "metadata": {},
   "outputs": [],
   "source": [
    "pop._people.iloc[0].advance_treatments(pop._risk_model_repository, pop._treatmentStrategies)"
   ]
  },
  {
   "cell_type": "code",
   "execution_count": 24,
   "id": "d13c26c3-56e5-45ed-8f63-4b95ddf077d7",
   "metadata": {},
   "outputs": [
    {
     "data": {
      "text/plain": [
       "[0.0, 1, 0]"
      ]
     },
     "execution_count": 24,
     "metadata": {},
     "output_type": "execute_result"
    }
   ],
   "source": [
    "pop._people.iloc[0]._antiHypertensiveCount"
   ]
  },
  {
   "cell_type": "code",
   "execution_count": 25,
   "id": "f63c5091-97b4-4dad-bfe3-599194805693",
   "metadata": {},
   "outputs": [
    {
     "data": {
      "text/plain": [
       "[0, False, False]"
      ]
     },
     "execution_count": 25,
     "metadata": {},
     "output_type": "execute_result"
    }
   ],
   "source": [
    "pop._people.iloc[0]._statin"
   ]
  },
  {
   "cell_type": "code",
   "execution_count": null,
   "id": "68e893a7-9605-45c1-a7cc-69b1f167b201",
   "metadata": {},
   "outputs": [],
   "source": [
    "myPerson.riskFactors"
   ]
  },
  {
   "cell_type": "code",
   "execution_count": null,
   "id": "5fbab1d6-33bf-43a7-bba7-edbc620703ca",
   "metadata": {},
   "outputs": [],
   "source": [
    "pop._risk_model_repository"
   ]
  },
  {
   "cell_type": "code",
   "execution_count": null,
   "id": "c0748677-7899-4575-81a0-a944cb21b0e2",
   "metadata": {},
   "outputs": [],
   "source": [
    "pop._risk_model_repository._repository[\"age\"] = AgeModel()"
   ]
  },
  {
   "cell_type": "code",
   "execution_count": null,
   "id": "6bdb80ee-eaa5-4f59-b6ca-38a395196dbf",
   "metadata": {},
   "outputs": [],
   "source": [
    "pop._risk_model_repository._repository"
   ]
  },
  {
   "cell_type": "code",
   "execution_count": 13,
   "id": "2cf890a6-720c-4a7a-9dea-a9d3b370780d",
   "metadata": {},
   "outputs": [
    {
     "data": {
      "text/plain": [
       "{'riskFactorsDynamic': None,\n",
       " 'treatments': None,\n",
       " 'outcomes': None,\n",
       " 'qalys': None}"
      ]
     },
     "execution_count": 13,
     "metadata": {},
     "output_type": "execute_result"
    }
   ],
   "source": [
    "pop._repositories"
   ]
  },
  {
   "cell_type": "code",
   "execution_count": null,
   "id": "c6a7c1ca-bbee-4f98-bff0-2ce05f029c0c",
   "metadata": {},
   "outputs": [],
   "source": []
  }
 ],
 "metadata": {
  "kernelspec": {
   "display_name": "microsimKernel",
   "language": "python",
   "name": "microsimkernel"
  },
  "language_info": {
   "codemirror_mode": {
    "name": "ipython",
    "version": 3
   },
   "file_extension": ".py",
   "mimetype": "text/x-python",
   "name": "python",
   "nbconvert_exporter": "python",
   "pygments_lexer": "ipython3",
   "version": "3.9.13"
  }
 },
 "nbformat": 4,
 "nbformat_minor": 5
}
